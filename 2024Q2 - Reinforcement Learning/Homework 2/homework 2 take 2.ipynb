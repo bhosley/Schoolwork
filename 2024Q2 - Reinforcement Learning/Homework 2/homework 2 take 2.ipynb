{
 "cells": [
  {
   "cell_type": "markdown",
   "metadata": {},
   "source": [
    "## (a) Define the MDP\n",
    "\n",
    "- $\\mathcal{T}$ decision epochs (measured in days)\n",
    "- $\\mathcal{S}$ states where $s$ represents states; a tuple of number of cars at each location\n",
    "- $\\mathcal{A}$ actions where each action $a$ can be represented as a tuple that sums to $0$ and \n",
    "each element represents the number of cars moved in relation to the indexed location. For example $a = \\{-1,0,1\\}$\n",
    "would represent the movement of a single car from location 1 (or more properly, location 0) to the third location.\n",
    "It is assumed that one cannot move more cars from a location than exist at that location. So the valid \n",
    "actions are all $a\\in\\mathcal{A}_s$ for which $a+s$ is non-negative.\n",
    "\n",
    "First, we import the supporting python libraries and enumerate the constants defined by Sutton and Barto for this problem."
   ]
  },
  {
   "cell_type": "code",
   "execution_count": null,
   "metadata": {},
   "outputs": [],
   "source": [
    "# Testing support\n",
    "from datetime import datetime\n",
    "'''\n",
    "start_time = datetime.now()\n",
    "###############################\n",
    "\n",
    "###############################\n",
    "end_time = datetime.now()\n",
    "print('Duration: {}'.format(end_time - start_time))\n",
    "'''"
   ]
  },
  {
   "cell_type": "code",
   "execution_count": 253,
   "metadata": {},
   "outputs": [],
   "source": [
    "import numpy as np\n",
    "from scipy.stats import poisson\n",
    "from itertools import product as cartesian_product\n",
    "import matplotlib.pyplot as plt\n",
    "\n",
    "REQUEST_LAM = [3,4]             # Poisson expectation of requests per location\n",
    "RETURN_LAM  = [3,2]             # Poisson expectation of returns per location\n",
    "MAX_CARS = np.array([20,20])    # length  is implicitly the number of locations\n",
    "#MAX_CARS = np.array([4,4])    # length  is implicitly the number of locations\n",
    "NUM_LOCATIONS = len(MAX_CARS)   # dimension of the state-space tuple\n",
    "DISCOUNT = 0.9                  # \\gamma\n",
    "MAX_MOVE = 5\n",
    "MOVE_COST = 2\n",
    "RENT_CREDIT = [10,10]                # Can also be defined as an array\n",
    "THETA = 1e-4"
   ]
  },
  {
   "cell_type": "markdown",
   "metadata": {},
   "source": [
    "- State transition function $S^M (S_t, A_t)$\n",
    "    - Will assume the parameters defined above, and provide a stochastic mapping from $S_t,A_t$ to $S_t+1$\n",
    "    - For computational efficiency this function can also use an intermediate variable to calculate reward\n",
    "    - Is easier to write out than transition probability"
   ]
  },
  {
   "cell_type": "markdown",
   "metadata": {},
   "source": [
    "- Transition Probability Function\n",
    "is a convolution of $\\sim\\text{poisson}(\\lambda_i) \\forall\\lambda_i\\in\\Lambda$ \n",
    "where $\\Lambda$ is the set of expected values in the Poisson processes that represent customer behavior\n",
    "for both rental requests and returns. Each location's individual transition probability is $\\sim\\text{skellam}(\\lambda_1,\\lambda_2)$ parameterized on the expected returns and expected requests\n",
    "\n",
    "In the case of $p(s^\\prime|s)$:"
   ]
  },
  {
   "cell_type": "code",
   "execution_count": 222,
   "metadata": {},
   "outputs": [],
   "source": [
    "def transition_probabilities(max_cars,req_lam,ret_lam):\n",
    "    \"\"\"Returns a 2D array of probabilities P[x,y] mapping\n",
    "    x = future state, y = current state\n",
    "    \n",
    "    e.g. \n",
    "    p(x|y) : probability of future state x given current state y\n",
    "    \"\"\"\n",
    "    num_states = max_cars+1\n",
    "    states = request_range = return_range = np.arange(num_states)\n",
    "    trans_probs = np.zeros([num_states]*2)\n",
    "\n",
    "    # probability matrices x,y where given x cars on lot, y cars are rented or returned\n",
    "    rental_probs = (np.tri(num_states)*poisson.pmf(request_range, req_lam) +\n",
    "                    np.eye(num_states)*(1-poisson.cdf(request_range, req_lam)) )\n",
    "\n",
    "    return_probs = (np.tri(num_states)*poisson.pmf(return_range,ret_lam) +\n",
    "                    np.eye(num_states)*(1-poisson.cdf(return_range,ret_lam)) )\n",
    "\n",
    "    # Convolve\n",
    "    for current_state in states:\n",
    "        for future_state in states:\n",
    "            for cars_rented in range(current_state+1):\n",
    "\n",
    "                open_spaces = max_cars - current_state + cars_rented\n",
    "                cars_returned = future_state - current_state + cars_rented\n",
    "                if cars_returned < 0: continue\n",
    "\n",
    "                trans_probs[future_state,current_state] += (\n",
    "                    rental_probs[current_state,cars_rented] * \n",
    "                    return_probs[open_spaces,cars_returned] )\n",
    "\n",
    "    return trans_probs\n",
    "\n",
    "\n",
    "def transition_probabilities_by_loc(location):\n",
    "    args = MAX_CARS[location], REQUEST_LAM[location], RETURN_LAM[location]\n",
    "    return transition_probabilities(*args)\n"
   ]
  },
  {
   "cell_type": "markdown",
   "metadata": {},
   "source": [
    "- $r(s,a,s^\\prime)$ Reward function\n",
    "is the product of the cars successfully rented minus the cost of transfers made during action $a$\n",
    "$$\\text{credit}(s^\\prime - s - a) - \\text{cost}(a)$$"
   ]
  },
  {
   "cell_type": "markdown",
   "metadata": {},
   "source": [
    "Next, we define an expected return function that will represent both the\n",
    "$$\n",
    "V(s)\\leftarrow \\sum_{s^\\prime,r} p(s^\\prime,r|s,\\pi(s)) \\left[r+\\gamma V(s^\\prime)\\right]\n",
    "$$\n",
    "in the case of policy iteration, and\n",
    "$$\n",
    "V(s)\\leftarrow \\max_a \\sum_{s^\\prime,r} p(s^\\prime,r|s,a) \\left[r+\\gamma V(s^\\prime)\\right]\n",
    "$$\n",
    "in the case of value iteration."
   ]
  },
  {
   "cell_type": "code",
   "execution_count": 259,
   "metadata": {},
   "outputs": [],
   "source": [
    "def expected_rentals(max_cars,req_lam):\n",
    "    \"\"\"Returns array of expected rentals indexed by the current state\"\"\"\n",
    "    states = np.arange(max_cars+1)\n",
    "    req_probs = poisson.pmf(states, req_lam)\n",
    "    Ex = np.zeros(states.shape)\n",
    "\n",
    "    for current_state in states:\n",
    "        # p[i]: probability of renting out i cars\n",
    "        rental_probs = np.append(req_probs[:current_state],\n",
    "                           1-poisson.cdf(current_state-1, req_lam))\n",
    "        Ex[current_state] = np.sum(states[:current_state + 1] * rental_probs)\n",
    "\n",
    "    return Ex\n",
    "\n",
    "\n",
    "def expected_rentals_by_loc(location):\n",
    "    args = MAX_CARS[location],REQUEST_LAM[location]\n",
    "    return expected_rentals(*args)\n",
    "\n",
    "\n",
    "def expected_returns_by_state():\n",
    "    expected_returns_by_loc = [fee * expected_rentals_by_loc(location) \n",
    "                               for location,fee in enumerate(RENT_CREDIT)]\n",
    "\n",
    "    expected_returns_by_state = np.array(\n",
    "        [sum(comb) for comb in cartesian_product(*expected_returns_by_loc)]\n",
    "        ).reshape([len(_) for _ in expected_returns_by_loc])\n",
    "\n",
    "    return expected_returns_by_state\n",
    "\n",
    "def calc_discounted_expected_returns(value_function, discount=DISCOUNT):\n",
    "    P1 = transition_probabilities_by_loc(location=0)\n",
    "    P2 = transition_probabilities_by_loc(location=1)\n",
    "    v = expected_returns_by_state() + DISCOUNT * P1.T.dot(value_function).dot(P2)\n",
    "    return v"
   ]
  },
  {
   "cell_type": "markdown",
   "metadata": {},
   "source": [
    "Unrelated to the MDP itself, we also define a plotting function that will provide a graphic somewhat similar to Sutton and Barto's"
   ]
  },
  {
   "cell_type": "code",
   "execution_count": 244,
   "metadata": {},
   "outputs": [],
   "source": [
    "def plot_policy(policy,location=0):\n",
    "    try:\n",
    "        plt.imshow(policy[:,:,location], cmap='viridis', origin='lower')\n",
    "    except:\n",
    "        plt.imshow(policy, cmap='viridis', origin='lower')\n",
    "    plt.colorbar(label='Number of cars moved from location 1 to 2')\n",
    "    plt.xlabel('Number of cars at location 2')\n",
    "    plt.ylabel('Number of cars at location 1')\n",
    "    plt.title('Policy Grid')\n",
    "    plt.show()"
   ]
  },
  {
   "cell_type": "markdown",
   "metadata": {},
   "source": [
    "## (b) Dynamic Programming"
   ]
  },
  {
   "cell_type": "code",
   "execution_count": 263,
   "metadata": {},
   "outputs": [
    {
     "name": "stdout",
     "output_type": "stream",
     "text": [
      "Policy Grid after iteration 126: \n"
     ]
    },
    {
     "data": {
      "image/png": "[encoded data removed]",
      "text/plain": [
       "<Figure size 640x480 with 2 Axes>"
      ]
     },
     "metadata": {},
     "output_type": "display_data"
    }
   ],
   "source": [
    "def policy_iteration(max_iterations = 10**100,policy=None, value_function=None, \n",
    "                     verbose=False, extended_problem_flag=False):\n",
    "\n",
    "    # 1. Initialization\n",
    "    value_function = value_function or np.zeros(np.add(MAX_CARS,1))\n",
    "    policy = policy or np.zeros([*np.add(MAX_CARS,1),len(MAX_CARS)], dtype=int)\n",
    "\n",
    "    # 2. Policy Evaluation\n",
    "    policy_stable = False\n",
    "    iteration = 0\n",
    "\n",
    "    while not policy_stable and iteration < max_iterations:\n",
    "        delta = 0\n",
    "        edfr = calc_discounted_expected_returns(value_function)\n",
    "\n",
    "        # a proxy for s \\in S\n",
    "        for state,old_value in np.ndenumerate(value_function):\n",
    "\n",
    "            action = policy[state]\n",
    "            s_prime = np.add(state,action)\n",
    "            if np.greater(s_prime,MAX_CARS).any() or np.less(s_prime,0).any(): continue # Skip in invalid action\n",
    "            transfer_cost = MOVE_COST * np.sum(np.abs(action))/2\n",
    "\n",
    "            value_function[*state] = edfr[*s_prime] - transfer_cost\n",
    "\n",
    "            delta = max(delta, abs(old_value - value_function[state]))\n",
    "\n",
    "        if delta < THETA:\n",
    "                break\n",
    "\n",
    "\n",
    "        # 3. Policy Improvement\n",
    "        policy_stable = True\n",
    "\n",
    "        edfr = calc_discounted_expected_returns(value_function)\n",
    "        # a proxy for s \\in S\n",
    "        for state,old_value in np.ndenumerate(value_function):\n",
    "            v_max = old_value\n",
    "            a_max = policy[state]\n",
    "\n",
    "            # ARGMAX fro action range\n",
    "            for a in range(-MAX_MOVE, MAX_MOVE + 1):\n",
    "                action = [-a,a]\n",
    "                s_prime = np.add(state,action)\n",
    "                                \n",
    "                if np.greater(s_prime,MAX_CARS).any() or np.less(s_prime,0).any(): continue # Skip in invalid action\n",
    "                transfer_cost = MOVE_COST * np.sum(np.abs(action))/2\n",
    "                v_candidate = edfr[*s_prime] - transfer_cost\n",
    "                \n",
    "                if v_candidate > v_max:\n",
    "                    policy_stable = False\n",
    "                    v_max = v_candidate\n",
    "                    a_max = action\n",
    "            \n",
    "            policy[state] = a_max\n",
    "\n",
    "        if verbose:\n",
    "            print(\"Policy Grid after iteration {}: \".format(iteration + 1))\n",
    "            plot_policy(policy)\n",
    "        iteration += 1\n",
    "\n",
    "    print(\"Policy Grid after iteration {}: \".format(iteration + 1))\n",
    "    plot_policy(policy)\n",
    "    return policy, value_function\n",
    "\n",
    "\n",
    "_,_ = policy_iteration()"
   ]
  },
  {
   "cell_type": "markdown",
   "metadata": {},
   "source": [
    "## (c) Policy Insights\n",
    "\n",
    "Although inefficiencies in the code above and limitations in the hardware employed to run the scripts prevented a full sized running of the solution, the general nature of the change in the policy can be distinctly seen. In particular, Jack is far more likely make the move that occurs free of charge. This resulted in the 'banding' being a bit wider than under the original problem conditions.\n",
    "\n",
    "The extreme corner values increased to a higher number than in the base problem; but at this scale neither corner meets the maximum move limit. This could mean that the unconstrained optimal at those corners is higher, with the observable result being an increase in the areas of maximum movement (specifically the 5 and -4 on page 81).\n",
    "\n",
    "Initially, the new lot fee was left to initiate at 10 cars. The effect of this change cannot be seen the smaller maximums. In order to attempt to recapture the probable effect of this factor we redefined this to be half of the location's max capacity.\n",
    "\n",
    "Once the lot fee incurrence was reduced to actually effect the problem at this level the\n",
    "difference can be seen in the behavior on the upper right hand quadrant. In the original problem there is no consequence to being in this region, in fact having the inventory to service greater demand will be a potential benefit.\n",
    "Once the cost is added, there is a greater incentive to move vehicles to the other location to reduce the probability of having to rent an overflow lot. The new motive force can be visualized as:\n",
    "\n",
    "<img src=\"Blank diagram.png\" width=\"200\">"
   ]
  },
  {
   "cell_type": "markdown",
   "metadata": {},
   "source": [
    "## (d) Dynamic Programming"
   ]
  },
  {
   "cell_type": "code",
   "execution_count": 10,
   "metadata": {},
   "outputs": [
    {
     "name": "stdout",
     "output_type": "stream",
     "text": [
      "Value function update iteration 1, delta: 97.83327439972055\n",
      "Value function update iteration 2, delta: 45.78239576760937\n",
      "Value function update iteration 3, delta: 27.30041544076471\n",
      "Value function update iteration 4, delta: 17.73890183656517\n",
      "Value function update iteration 5, delta: 10.852840615654031\n",
      "Value function update iteration 6, delta: 6.436770664102511\n",
      "Value function update iteration 7, delta: 3.7785100323632435\n",
      "Value function update iteration 8, delta: 2.2115610973956876\n",
      "Value function update iteration 9, delta: 1.2933537500517787\n",
      "Value function update iteration 10, delta: 0.7561818595401775\n",
      "Value function update iteration 11, delta: 0.4421060002959081\n",
      "Value function update iteration 12, delta: 0.2584723956609736\n",
      "Value function update iteration 13, delta: 0.15111128824392495\n",
      "Value function update iteration 14, delta: 0.0883442973178461\n",
      "Value function update iteration 15, delta: 0.051648756575602306\n",
      "Value function update iteration 16, delta: 0.030195424667979864\n",
      "Value function update iteration 17, delta: 0.017653157129089436\n",
      "Value function update iteration 18, delta: 0.010320568550824305\n",
      "Value function update iteration 19, delta: 0.006033715880036539\n",
      "Value function update iteration 20, delta: 0.003527492411194544\n",
      "Value function update iteration 21, delta: 0.0020622785272479405\n",
      "Value function update iteration 22, delta: 0.0012056702692007093\n",
      "Value function update iteration 23, delta: 0.0007048712278105995\n",
      "Value function update iteration 24, delta: 0.0004120889938548089\n",
      "Value function update iteration 25, delta: 0.00024091966294292888\n",
      "Value function update iteration 26, delta: 0.0001408489061276441\n",
      "Value function update iteration 27, delta: 8.234452151612004e-05\n",
      "Policy after value iteration:\n"
     ]
    },
    {
     "data": {
      "image/png": "[encoded data removed]",
      "text/plain": [
       "<Figure size 640x480 with 2 Axes>"
      ]
     },
     "metadata": {},
     "output_type": "display_data"
    },
    {
     "name": "stdout",
     "output_type": "stream",
     "text": [
      "Optimal Policy:\n",
      "[[ 0  0  0  0  0 -1 -1]\n",
      " [ 0  0  0  0  0  0 -1]\n",
      " [ 0  0  0  0  0  0  0]\n",
      " [ 0  0  0  0  0  0  0]\n",
      " [ 1  1  1  0  0  0  0]\n",
      " [ 2  2  1  1  0  0  0]\n",
      " [ 3  2  2  1  1  0  0]]\n",
      "Value Function:\n",
      "[[102.11426861 110.31823759 118.24676128 125.58114709 132.02101706\n",
      "  138.0686674  143.41568985]\n",
      " [110.16980703 118.37358003 126.30113642 133.63307192 140.06867366\n",
      "  145.41569623 150.73060627]\n",
      " [117.54191903 125.74485773 133.66831364 140.98990646 147.40759767\n",
      "  152.73061497 156.879045  ]\n",
      " [123.78118433 131.98225826 139.8965644  147.19513965 153.57315173\n",
      "  158.84337308 162.93404839]\n",
      " [129.98226676 137.89657143 145.19514636 152.0470583  158.36345931\n",
      "  163.55212225 167.55428846]\n",
      " [135.89657861 143.1951524  150.04706377 156.36346493 161.8292083\n",
      "  166.91951133 170.81546268]\n",
      " [141.19515744 148.04706914 154.36347063 159.82921726 164.91952067\n",
      "  169.14213315 172.93353878]]\n"
     ]
    }
   ],
   "source": [
    "def value_iteration(policy = None, value_function = None):\n",
    "    # 1. Initialization\n",
    "    value_function = value_function or np.zeros(np.add(MAX_CARS,1))\n",
    "    policy = policy or np.zeros((MAX_CARS[0] + 1, MAX_CARS[1] + 1), dtype=int) \n",
    "    \n",
    "    iteration = 0\n",
    "    while True:\n",
    "        delta = 0\n",
    "        for index, old_value in np.ndenumerate(value_function):\n",
    "            action_returns = []\n",
    "            for action in range(-MAX_MOVE, MAX_MOVE + 1):\n",
    "                if (0 <= index[0] - action <= MAX_CARS[0] \n",
    "                and 0 <= index[1] + action <= MAX_CARS[1]):\n",
    "                    action_returns.append(\n",
    "                        expected_return((index), action, value_function))\n",
    "                else:\n",
    "                    action_returns.append(-float('inf'))\n",
    "            \n",
    "            value_function[index] = max(action_returns)\n",
    "            delta = max(delta, abs(old_value - value_function[index]))\n",
    "        \n",
    "        print(f\"Value function update iteration {iteration+1}, delta: {delta}\")\n",
    "        if delta < THETA:\n",
    "            break\n",
    "        \n",
    "        iteration += 1\n",
    "\n",
    "    # Policy extraction from the value function\n",
    "    for index, old_value in np.ndenumerate(value_function):\n",
    "        action_returns = []\n",
    "        for action in range(-MAX_MOVE, MAX_MOVE + 1):\n",
    "            if (0 <= index[0] - action <= MAX_CARS[0] \n",
    "            and 0 <= index[1] + action <= MAX_CARS[1]):\n",
    "                action_returns.append(\n",
    "                    expected_return((index), action, value_function))\n",
    "            else:\n",
    "                action_returns.append(-float('inf'))\n",
    "        policy[index] = np.argmax(action_returns) - MAX_MOVE\n",
    "    \n",
    "    print(\"Policy after value iteration:\")\n",
    "    plot_policy(policy)\n",
    "    return policy, value_function\n",
    "\n",
    "MAX_CARS = np.array([6,6])\n",
    "# Run value iteration algorithm\n",
    "policy, value_function = value_iteration()\n",
    "print(\"Optimal Policy:\")\n",
    "print(policy)\n",
    "print(\"Value Function:\")\n",
    "print(value_function)\n",
    "#3:2.6 @5x5\n",
    "#14:26.5 @6x6"
   ]
  },
  {
   "cell_type": "code",
   "execution_count": 11,
   "metadata": {},
   "outputs": [
    {
     "name": "stdout",
     "output_type": "stream",
     "text": [
      "Value function update iteration 1, delta: 26407.693345747586\n",
      "Value function update iteration 2, delta: 13252.561171691981\n",
      "Value function update iteration 3, delta: 8025.179910451319\n",
      "Value function update iteration 4, delta: 5423.878943659642\n",
      "Value function update iteration 5, delta: 3408.378681659353\n",
      "Value function update iteration 6, delta: 2046.9436141182741\n",
      "Value function update iteration 7, delta: 1208.8607778772348\n",
      "Value function update iteration 8, delta: 708.7260548774866\n",
      "Value function update iteration 9, delta: 413.92018656563596\n",
      "Value function update iteration 10, delta: 241.20307169784792\n",
      "Value function update iteration 11, delta: 140.3924209712277\n",
      "Value function update iteration 12, delta: 81.67993263000972\n",
      "Value function update iteration 13, delta: 47.51543346667313\n",
      "Value function update iteration 14, delta: 27.640276460224413\n",
      "Value function update iteration 15, delta: 16.07857880503434\n",
      "Value function update iteration 16, delta: 9.353030366481107\n",
      "Value function update iteration 17, delta: 5.440725871856557\n",
      "Value function update iteration 18, delta: 3.1649093932501273\n",
      "Value function update iteration 19, delta: 1.8410504799176124\n",
      "Value function update iteration 20, delta: 1.0709522438337444\n",
      "Value function update iteration 21, delta: 0.622980583953904\n",
      "Value function update iteration 22, delta: 0.36239226320321904\n",
      "Value function update iteration 23, delta: 0.21080617234838428\n",
      "Value function update iteration 24, delta: 0.12262745860789437\n",
      "Value function update iteration 25, delta: 0.07133327019982971\n",
      "Value function update iteration 26, delta: 0.04149507358670235\n",
      "Value function update iteration 27, delta: 0.024137981192325242\n",
      "Value function update iteration 28, delta: 0.014041236208868213\n",
      "Value function update iteration 29, delta: 0.008167887695890386\n",
      "Value function update iteration 30, delta: 0.004751318847411312\n",
      "Value function update iteration 31, delta: 0.0027638759347610176\n",
      "Value function update iteration 32, delta: 0.001607766593224369\n",
      "Value function update iteration 33, delta: 0.0009352492052130401\n",
      "Value function update iteration 34, delta: 0.0005440411623567343\n",
      "Value function update iteration 35, delta: 0.0003164727604598738\n",
      "Value function update iteration 36, delta: 0.00018409432232147083\n",
      "Value function update iteration 37, delta: 0.00010708914487622678\n",
      "Value function update iteration 38, delta: 6.229430437088013e-05\n",
      "Policy after value iteration:\n"
     ]
    },
    {
     "data": {
      "image/png": "[encoded data removed]",
      "text/plain": [
       "<Figure size 640x480 with 2 Axes>"
      ]
     },
     "metadata": {},
     "output_type": "display_data"
    },
    {
     "name": "stdout",
     "output_type": "stream",
     "text": [
      "Optimal Policy:\n",
      "[[ 0  0 -1 -1 -2 -2 -3]\n",
      " [ 1  0  0 -1 -1 -2 -2]\n",
      " [ 1  1  0  0 -1 -1 -2]\n",
      " [ 2  1  1  0  0 -1 -2]\n",
      " [ 2  2  1  1  0 -1 -2]\n",
      " [ 3  2  2  1  0 -1 -1]\n",
      " [ 3  3  2  1  0  0  0]]\n",
      "Value Function:\n",
      "[[-38917.89299437 -39118.39576682 -39338.32829574 -39787.76881278\n",
      "  -40296.3627526  -41054.79346137 -41902.7650907 ]\n",
      " [-39118.39576885 -39336.32829796 -39785.76881607 -40294.36275663\n",
      "  -41052.79346599 -41900.76509461 -43019.5219744 ]\n",
      " [-39336.32830354 -39785.76882117 -40292.36276181 -41050.79347206\n",
      "  -41898.76510039 -43017.52198034 -44203.38973193]\n",
      " [-39787.768829   -40292.36276788 -41050.79347808 -41896.76510616\n",
      "  -43015.52198643 -44201.38973731 -45440.42054634]\n",
      " [-40294.36277487 -41052.793484   -41896.7651112  -43015.52199163\n",
      "  -44199.38974236 -45438.42055095 -46645.5245701 ]\n",
      " [-41054.79348924 -41898.76511575 -43017.5219959  -44199.38974661\n",
      "  -45436.42055531 -46643.52457422 -47985.72168021]\n",
      " [-41900.76511955 -43019.52199937 -44201.38975092 -45436.42056208\n",
      "  -46641.52458528 -47983.72169127 -49416.63167809]]\n"
     ]
    }
   ],
   "source": [
    "def value_iteration(policy = None, value_function = None):\n",
    "    # 1. Initialization\n",
    "    value_function = value_function or np.zeros(np.add(MAX_CARS,1))\n",
    "    policy = policy or np.zeros((MAX_CARS[0] + 1, MAX_CARS[1] + 1), dtype=int) \n",
    "    \n",
    "    iteration = 0\n",
    "    while True:\n",
    "        delta = 0\n",
    "        for index, old_value in np.ndenumerate(value_function):\n",
    "            action_returns = []\n",
    "            for action in range(-MAX_MOVE, MAX_MOVE + 1):\n",
    "                if (0 <= index[0] - action <= MAX_CARS[0] \n",
    "                and 0 <= index[1] + action <= MAX_CARS[1]):\n",
    "                    action_returns.append(\n",
    "                        modified_return((index), action, value_function))\n",
    "                else:\n",
    "                    action_returns.append(-float('inf'))\n",
    "            \n",
    "            value_function[index] = max(action_returns)\n",
    "            delta = max(delta, abs(old_value - value_function[index]))\n",
    "        \n",
    "        print(f\"Value function update iteration {iteration + 1}, delta: {delta}\")\n",
    "        if delta < THETA:\n",
    "            break\n",
    "        \n",
    "        iteration += 1\n",
    "\n",
    "    # Policy extraction from the value function\n",
    "    for index, old_value in np.ndenumerate(value_function):\n",
    "        action_returns = []\n",
    "        for action in range(-MAX_MOVE, MAX_MOVE + 1):\n",
    "            if (0 <= index[0] - action <= MAX_CARS[0] \n",
    "            and 0 <= index[1] + action <= MAX_CARS[1]):\n",
    "                action_returns.append(\n",
    "                    modified_return((index), action, value_function))\n",
    "            else:\n",
    "                action_returns.append(-float('inf'))\n",
    "        policy[index] = np.argmax(action_returns) - MAX_MOVE\n",
    "    \n",
    "    print(\"Policy after value iteration:\")\n",
    "    plot_policy(policy)\n",
    "    return policy, value_function\n",
    "\n",
    "MAX_CARS = np.array([6,6])\n",
    "# Run value iteration algorithm\n",
    "policy, value_function = value_iteration()\n",
    "print(\"Optimal Policy:\")\n",
    "print(policy)\n",
    "print(\"Value Function:\")\n",
    "print(value_function)\n",
    "#3:2.6 @5x5\n",
    "#14:26.5 @6x6"
   ]
  },
  {
   "cell_type": "markdown",
   "metadata": {},
   "source": [
    "## (e) Algorithm Comparison"
   ]
  },
  {
   "cell_type": "markdown",
   "metadata": {},
   "source": [
    "It is possible that that all observations are the result of bias in the coding of each algorithm.\n",
    "\n",
    "Value iteration seemed to be a more straightforward implementation than policy iteration. However, when the two were implemented with the intent to keep their operation as similar as possible the policy iteration concluded in significantly shorter time. The resulting policies were quite similar, but under the extended problem the behavior in the quadrant marking overflow lot usage appears to blend more with the behavior outside the quadrant at the edges.\n"
   ]
  }
 ],
 "metadata": {
  "kernelspec": {
   "display_name": "base",
   "language": "python",
   "name": "python3"
  },
  "language_info": {
   "codemirror_mode": {
    "name": "ipython",
    "version": 3
   },
   "file_extension": ".py",
   "mimetype": "text/x-python",
   "name": "python",
   "nbconvert_exporter": "python",
   "pygments_lexer": "ipython3",
   "version": "3.11.9"
  }
 },
 "nbformat": 4,
 "nbformat_minor": 2
}
