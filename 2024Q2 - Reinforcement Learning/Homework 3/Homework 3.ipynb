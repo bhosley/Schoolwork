{
 "cells": [
  {
   "cell_type": "markdown",
   "metadata": {
    "vscode": {
     "languageId": "html"
    }
   },
   "source": [
    "<h1><center>\n",
    "    DSOR 646 - Reinforcement Learning </br>\n",
    "    Brandon Hosley\n",
    "</center></h1>"
   ]
  },
  {
   "cell_type": "markdown",
   "metadata": {},
   "source": [
    "# On-policy Monte Carlo Control (every-visit):\n",
    "- [ ] Execute at least 40 runs\n",
    "- [ ] Show a scatter plot (See the Lesson 9 Handout for an example of the desired scatter plot)"
   ]
  },
  {
   "cell_type": "code",
   "execution_count": 1,
   "metadata": {},
   "outputs": [
    {
     "name": "stdout",
     "output_type": "stream",
     "text": [
      "rm: __pycache__/: No such file or directory\n"
     ]
    }
   ],
   "source": [
    "%rm -r __pycache__/\n",
    "from mcc import MCC     # Local Python script\n",
    "from scipy.stats.qmc import LatinHypercube\n",
    "import time\n",
    "import numpy as np"
   ]
  },
  {
   "cell_type": "code",
   "execution_count": 9,
   "metadata": {},
   "outputs": [
    {
     "name": "stdout",
     "output_type": "stream",
     "text": [
      "0\n"
     ]
    },
    {
     "data": {
      "text/plain": [
       "<scipy.stats._qmc.LatinHypercube at 0x1576e8f90>"
      ]
     },
     "execution_count": 9,
     "metadata": {},
     "output_type": "execute_result"
    }
   ],
   "source": [
    "# Testable Params\n",
    "Q1 = None\n",
    "eps_a = 0\n",
    "eps_b = None\n"
   ]
  },
  {
   "cell_type": "code",
   "execution_count": null,
   "metadata": {},
   "outputs": [],
   "source": [
    "# Example single experiment\n",
    "num_episodes=int(0.5e3)\n",
    "replications=10     # At least 10 reps per run\n",
    "\n",
    "pol = MCC()\n",
    "pol.train_on_policy(num_episodes, replications)\n",
    "pol.show_results()\n"
   ]
  },
  {
   "cell_type": "markdown",
   "metadata": {},
   "source": [
    "# Off-policy Monte Carlo Control (every-visit, weighted importance sampling):"
   ]
  },
  {
   "cell_type": "markdown",
   "metadata": {
    "vscode": {
     "languageId": "plaintext"
    }
   },
   "source": [
    "# Compare"
   ]
  },
  {
   "cell_type": "code",
   "execution_count": 6,
   "metadata": {},
   "outputs": [],
   "source": [
    "def run_experiment (run_index:int, factors:np.ndarray) -> tuple[int,float,float,float]:\n",
    "    run_start_time = time.time()\n",
    "    pol = MCC(factors[0],factors[1],factors[2])\n",
    "    pol.train_on_policy(num_episodes,replications)\n",
    "    maxETDR, maxETDRhw, meanMaxTestEETDR, maxTestHW, meanAULC, hwAULC, secs_taken = pol.get_results()\n",
    "    alg_score = 0.6*(meanMaxTestEETDR-maxTestHW) + 0.4*(meanAULC-hwAULC)\n",
    "    print(f\"Complete experiment run {run_index} with a score of {alg_score:.2f} ({time.time() - run_start_time:.1f}s)\")\n",
    "    return run_index, maxETDR, maxETDRhw, meanMaxTestEETDR, maxTestHW, meanAULC, hwAULC, secs_taken"
   ]
  }
 ],
 "metadata": {
  "kernelspec": {
   "display_name": "Python 3",
   "language": "python",
   "name": "python3"
  },
  "language_info": {
   "codemirror_mode": {
    "name": "ipython",
    "version": 3
   },
   "file_extension": ".py",
   "mimetype": "text/x-python",
   "name": "python",
   "nbconvert_exporter": "python",
   "pygments_lexer": "ipython3",
   "version": "3.11.9"
  }
 },
 "nbformat": 4,
 "nbformat_minor": 2
}
