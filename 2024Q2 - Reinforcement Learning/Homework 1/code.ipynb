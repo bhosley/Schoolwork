{
 "cells": [
  {
   "cell_type": "code",
   "execution_count": 3,
   "metadata": {},
   "outputs": [],
   "source": [
    "import numpy as np\n",
    "\n",
    "class Bandit:\n",
    "    \"\"\"\n",
    "    Multi-armed bandit.\n",
    "\n",
    "    Attributes\n",
    "    ----------\n",
    "    num_arms : int\n",
    "        Number of arms.\n",
    "    reward_means : ndarray\n",
    "        1D array of `float` mean values for each arm\n",
    "    reward_stds : ndarray\n",
    "        1D array of `float` standard deviations for each arm\n",
    "    optimal_arm : int\n",
    "        Index of the arm with the highest mean.\n",
    "\n",
    "    Methods\n",
    "    -------\n",
    "    pull_arm(int)\n",
    "        Pull an arm to receive a randomized reward.\n",
    "    get_optimal_arm\n",
    "        Returns index of arm with the highest mean value.\n",
    "    \"\"\"\n",
    "    def __init__(self, num_arms=10, reward_means=None, reward_stds=None):\n",
    "        self.num_arms = num_arms\n",
    "        \n",
    "        # Catalog of Reward Means\n",
    "        #self.reward_means = np.array(reward_means) or np.random.normal(0, 1, size=num_arms)\n",
    "        #self.reward_means = np.array(reward_means) if reward_means is not None else np.random.normal(0, 1, size=num_arms)\n",
    "        self.reward_means = np.random.normal(0, 1, size=num_arms) if reward_means is None else  np.array(reward_means) \n",
    "        if len(self.reward_means) != num_arms:\n",
    "            raise ValueError(\"Length of reward_means should be equal to num_arms\")\n",
    "        \n",
    "        # Catalog of Reward Deviations\n",
    "        self.reward_stds = np.array(reward_stds) or np.ones((num_arms))\n",
    "        if len(self.reward_stds) != num_arms:\n",
    "            raise ValueError(\"Length of reward_stds should be equal to num_arms\")\n",
    "\n",
    "        self.optimal_arm = np.argmax(self.reward_means)\n",
    "\n",
    "\n",
    "    def pull_arm(self, arm):\n",
    "        \"\"\"Receive a reward value from the specified arm's reward distribution\"\"\"\n",
    "        if arm < 0 or arm >= self.num_arms:\n",
    "            raise ValueError(\"Invalid arm index\")\n",
    "        reward = np.random.normal(self.reward_means[arm], self.reward_stds[arm])\n",
    "        return reward\n",
    "    \n",
    "    def get_optimal_arm(self):\n",
    "        return self.optimal_arm"
   ]
  },
  {
   "cell_type": "markdown",
   "metadata": {},
   "source": [
    "# Problem 8\n",
    "\n",
    "*Encode a Python implementation of the simple bandit algorithm defined in the pseudocode block on page 32. \n",
    "Use your implementation to recreate Figure 2.2 (p.29) by performing tests on the 10-armed testbed, described in the first paragraph of Section 2.3. \n",
    "Include your code with your homework submission.*\n",
    "\n",
    "\n",
    "\n",
    "First, we build bandit test-bed.\n"
   ]
  },
  {
   "cell_type": "code",
   "execution_count": 26,
   "metadata": {},
   "outputs": [
    {
     "name": "stdout",
     "output_type": "stream",
     "text": [
      "[9. 0. 0. 0. 0. 0. 0. 0. 1. 0.]\n"
     ]
    }
   ],
   "source": [
    "\n",
    "\n",
    "k = 10\n",
    "epsilon = 0.1\n",
    "\n",
    "def bandit(action):\n",
    "    return 1\n",
    "\n",
    "'''\n",
    "Initialize, for a = 1 to k: \n",
    "    Q(a) <- 0 \n",
    "    N(a) <- 0 \n",
    "'''\n",
    "av_estimates = np.zeros(k)\n",
    "actions = np.zeros(k) \n",
    "\n",
    "\n",
    "'''\n",
    "Loop forever: \n",
    "    A <- argmaxa Q(a) with probability 1 - e (breaking ties randomly) \n",
    "        a random action with probability e \n",
    "    R <- bandit(A) \n",
    "    N(A) <- N(A)+1 \n",
    "    Q(A) <- Q(A)+ 1/N(A) [R - Q(A)]\n",
    "'''\n",
    "for _ in range(10):\n",
    "    action = av_estimates.argmax() if np.random.rand() > epsilon else np.random.randint(k)\n",
    "    reward = bandit(action)\n",
    "    \n",
    "    actions[action] += 1\n",
    "    av_estimates[action] = (reward-av_estimates[action])/actions[action]\n"
   ]
  },
  {
   "cell_type": "code",
   "execution_count": null,
   "metadata": {},
   "outputs": [],
   "source": [
    "bandit = Bandit(num_arms=10)\n",
    "print(\"Optimal arm:\", bandit.get_optimal_arm())\n",
    "\n",
    "chosen_arm = 3  # Choose an arm to pull\n",
    "reward = bandit.pull_arm(chosen_arm)\n",
    "print(\"Reward for pulling arm\", chosen_arm, \":\", reward)"
   ]
  },
  {
   "cell_type": "code",
   "execution_count": 6,
   "metadata": {},
   "outputs": [
    {
     "data": {
      "image/png": "[encoded data removed]",
      "text/plain": [
       "<Figure size 432x288 with 1 Axes>"
      ]
     },
     "metadata": {
      "needs_background": "light"
     },
     "output_type": "display_data"
    }
   ],
   "source": [
    "import matplotlib.pyplot as plt\n",
    "\n",
    "def epsilon_greedy(bandit, epsilon, num_steps):\n",
    "    q_values = np.zeros(bandit.num_arms)  # Estimated action values\n",
    "    action_counts = np.zeros(bandit.num_arms)  # Number of times each action was chosen\n",
    "    rewards = []  # Store rewards obtained at each step\n",
    "    \n",
    "    for _ in range(num_steps):\n",
    "        if np.random.rand() < epsilon:  # Exploration: Choose a random action\n",
    "            action = np.random.randint(bandit.num_arms)\n",
    "        else:  # Exploitation: Choose the action with the highest estimated value\n",
    "            action = np.argmax(q_values)\n",
    "        \n",
    "        reward = bandit.pull_arm(action)  # Pull the chosen arm and get reward\n",
    "        rewards.append(reward)\n",
    "        \n",
    "        # Update action values and action counts\n",
    "        action_counts[action] += 1\n",
    "        q_values[action] += (1 / action_counts[action]) * (reward - q_values[action])\n",
    "    \n",
    "    return rewards\n",
    "\n",
    "# Parameters\n",
    "num_arms = 10\n",
    "num_steps = 1000\n",
    "\n",
    "# Create bandit with specific reward means for each arm\n",
    "bandit = Bandit(num_arms=num_arms)\n",
    "\n",
    "# Run epsilon-greedy algorithm\n",
    "rewards_0 = epsilon_greedy(bandit, 0, num_steps)\n",
    "rewards_1 = epsilon_greedy(bandit, 0.1, num_steps)\n",
    "rewards_01 = epsilon_greedy(bandit, 0.01, num_steps)\n",
    "\n",
    "# Calculate average reward at each step\n",
    "avg_rewards_0 = np.cumsum(rewards_0) / np.arange(1, num_steps + 1)\n",
    "avg_rewards_1 = np.cumsum(rewards_1) / np.arange(1, num_steps + 1)\n",
    "avg_rewards_01 = np.cumsum(rewards_01) / np.arange(1, num_steps + 1)\n",
    "\n",
    "# Plot average reward over time\n",
    "#plt.plot(avg_rewards_0)\n",
    "#plt.plot(avg_rewards_1)\n",
    "#plt.plot(avg_rewards_01)\n",
    "plt.plot(rewards_0)\n",
    "plt.plot(rewards_1)\n",
    "plt.plot(rewards_01)\n",
    "plt.xlabel(\"Steps\")\n",
    "plt.ylabel(\"Average Reward\")\n",
    "plt.title(\"Epsilon-Greedy Algorithm\")\n",
    "plt.grid(True)\n",
    "plt.show()"
   ]
  },
  {
   "cell_type": "markdown",
   "metadata": {},
   "source": [
    "# Problem 9\n",
    "\n",
    "*Encode a Python implementation of one of the following algorithms, \n",
    "and test it on the 10-armed testbed you created for the previous problem. \n",
    "Test different parameter values and comment on your results. \n",
    "Use tables and figures as appropriate. \n",
    "Include your code with your homework submission.*\n",
    "- Optimistic greedy\n",
    "- Upper confidence bound \n",
    "- Gradient bandit"
   ]
  },
  {
   "cell_type": "code",
   "execution_count": null,
   "metadata": {},
   "outputs": [],
   "source": []
  }
 ],
 "metadata": {
  "kernelspec": {
   "display_name": "Python 3",
   "language": "python",
   "name": "python3"
  },
  "language_info": {
   "codemirror_mode": {
    "name": "ipython",
    "version": 3
   },
   "file_extension": ".py",
   "mimetype": "text/x-python",
   "name": "python",
   "nbconvert_exporter": "python",
   "pygments_lexer": "ipython3",
   "version": "3.9.12"
  }
 },
 "nbformat": 4,
 "nbformat_minor": 2
}
