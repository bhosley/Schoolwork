{
 "cells": [
  {
   "cell_type": "markdown",
   "metadata": {},
   "source": [
    "Encode a Python implementation of the simple bandit algorithm defined in the pseudocode block on page 32. \n",
    "Use your implementation to recreate Figure 2.2 (p.29) by performing tests on the 10-armed testbed, described in the first paragraph of Section 2.3. \n",
    "Include your code with your homework submission.\n"
   ]
  },
  {
   "cell_type": "code",
   "execution_count": 26,
   "metadata": {},
   "outputs": [
    {
     "name": "stdout",
     "output_type": "stream",
     "text": [
      "[9. 0. 0. 0. 0. 0. 0. 0. 1. 0.]\n"
     ]
    }
   ],
   "source": [
    "import numpy as np\n",
    "\n",
    "k = 10\n",
    "epsilon = 0.1\n",
    "\n",
    "def bandit(action):\n",
    "    return 1\n",
    "\n",
    "'''\n",
    "Initialize, for a = 1 to k: \n",
    "    Q(a) <- 0 \n",
    "    N(a) <- 0 \n",
    "'''\n",
    "av_estimates = np.zeros(k)\n",
    "actions = np.zeros(k) \n",
    "\n",
    "\n",
    "'''\n",
    "Loop forever: \n",
    "    A <- argmaxa Q(a) with probability 1 - e (breaking ties randomly) \n",
    "        a random action with probability e \n",
    "    R <- bandit(A) \n",
    "    N(A) <- N(A)+1 \n",
    "    Q(A) <- Q(A)+ 1/N(A) [R - Q(A)]\n",
    "'''\n",
    "for _ in range(10):\n",
    "    action = av_estimates.argmax() if np.random.rand() > epsilon else np.random.randint(k)\n",
    "    reward = bandit(action)\n",
    "    \n",
    "    actions[action] += 1\n",
    "    av_estimates[action] = (reward-av_estimates[action])/actions[action]\n"
   ]
  },
  {
   "cell_type": "markdown",
   "metadata": {},
   "source": [
    "Encode a Python implementation of one of the following algorithms, \n",
    "and test it on the 10-armed testbed you created for the previous problem. \n",
    "Test different parameter values and comment on your results. \n",
    "Use tables and figures as appropriate. \n",
    "Include your code with your homework submission.\n",
    "- Optimistic greedy\n",
    "- Upper confidence bound \n",
    "- Gradient bandit"
   ]
  },
  {
   "cell_type": "code",
   "execution_count": null,
   "metadata": {},
   "outputs": [],
   "source": []
  }
 ],
 "metadata": {
  "kernelspec": {
   "display_name": "Python 3",
   "language": "python",
   "name": "python3"
  },
  "language_info": {
   "codemirror_mode": {
    "name": "ipython",
    "version": 3
   },
   "file_extension": ".py",
   "mimetype": "text/x-python",
   "name": "python",
   "nbconvert_exporter": "python",
   "pygments_lexer": "ipython3",
   "version": "3.9.12"
  }
 },
 "nbformat": 4,
 "nbformat_minor": 2
}
