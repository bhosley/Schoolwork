{
 "cells": [
  {
   "cell_type": "code",
   "execution_count": 8,
   "metadata": {},
   "outputs": [],
   "source": [
    "import pandas as pd\n",
    "\n",
    "one_sarsa_df = pd.read_csv(\"n-Step SARSA_results_DOE_20240526_223307.csv\")\n",
    "n_sarsa_df = pd.read_csv(\"n-Step SARSA_results_DOE_20240526_224337.csv\")\n",
    "e_sarsa_df = pd.read_csv(\"Expected SARSA_results_DOE_20240526_230329.csv\")\n",
    "q_learn_df = pd.read_csv(\"Q-Learning_results_DOE_20240526_225259.csv\")\n",
    "\n",
    "frames = [one_sarsa_df, n_sarsa_df, e_sarsa_df, q_learn_df]"
   ]
  },
  {
   "cell_type": "code",
   "execution_count": 16,
   "metadata": {},
   "outputs": [
    {
     "name": "stdout",
     "output_type": "stream",
     "text": [
      "        Algorithm  Average Execution Time  Average Score  Average Sup EETDR  \\\n",
      "0  One-step SARSA               17.500773    -180.382835        -151.354667   \n",
      "1    n-step SARSA               17.830613    -182.281669        -154.208000   \n",
      "2  Expected SARSA               17.881559    -182.136424        -152.470000   \n",
      "3      Q-learning               15.102565    -181.978577        -154.812667   \n",
      "\n",
      "    Max Score  \n",
      "0 -155.071442  \n",
      "1 -154.190447  \n",
      "2 -155.199330  \n",
      "3 -153.492831  \n"
     ]
    }
   ],
   "source": [
    "summary_df = pd.DataFrame()\n",
    "summary_df['Algorithm'] = [\"One-step SARSA\",\"n-step SARSA\",\"Expected SARSA\",\"Q-learning\"]\n",
    "summary_df['Average Execution Time'] = [df['Secs per run'].mean() for df in frames]\n",
    "summary_df['Average Score'] = [df['Score'].mean() for df in frames]\n",
    "summary_df['Average Sup EETDR'] = [df['Sup EETDR'].mean() for df in frames]\n",
    "summary_df['Max Score'] =  [df['Score'].max() for df in frames]\n",
    "\n",
    "print(summary_df)"
   ]
  },
  {
   "cell_type": "code",
   "execution_count": 15,
   "metadata": {},
   "outputs": [
    {
     "data": {
      "text/plain": [
       "[-106.43333333333334, -105.6, -109.93333333333334, -106.66666666666669]"
      ]
     },
     "execution_count": 15,
     "metadata": {},
     "output_type": "execute_result"
    }
   ],
   "source": [
    "q_learn_df['Secs per run'].mean()\n",
    "[df['Sup EETDR'].mean() for df in frames]"
   ]
  }
 ],
 "metadata": {
  "kernelspec": {
   "display_name": "Python 3",
   "language": "python",
   "name": "python3"
  },
  "language_info": {
   "codemirror_mode": {
    "name": "ipython",
    "version": 3
   },
   "file_extension": ".py",
   "mimetype": "text/x-python",
   "name": "python",
   "nbconvert_exporter": "python",
   "pygments_lexer": "ipython3",
   "version": "3.11.9"
  }
 },
 "nbformat": 4,
 "nbformat_minor": 2
}
