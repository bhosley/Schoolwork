{
 "cells": [
  {
   "cell_type": "markdown",
   "metadata": {},
   "source": [
    "# Vanilla LSPI Experiments"
   ]
  },
  {
   "cell_type": "code",
   "execution_count": 3,
   "metadata": {},
   "outputs": [
    {
     "name": "stdout",
     "output_type": "stream",
     "text": [
      "Create sweep with ID: gdr6fhfj\n",
      "Sweep URL: https://wandb.ai/no-organization-for-signup/my-first-sweep/sweeps/gdr6fhfj\n"
     ]
    },
    {
     "name": "stderr",
     "output_type": "stream",
     "text": [
      "\u001b[34m\u001b[1mwandb\u001b[0m: Agent Starting Run: nsl7ztfl with config:\n",
      "\u001b[34m\u001b[1mwandb\u001b[0m: \talpha_a: 0.6200917457191992\n",
      "\u001b[34m\u001b[1mwandb\u001b[0m: \talpha_b: 0.35560085331058067\n",
      "\u001b[34m\u001b[1mwandb\u001b[0m: \teps_a: 0.6793875794969306\n",
      "\u001b[34m\u001b[1mwandb\u001b[0m: \teps_b: 0.03301679247594036\n",
      "\u001b[34m\u001b[1mwandb\u001b[0m: \teta: 1.2298559208653389e-06\n",
      "Failed to detect the name of this notebook, you can set it manually with the WANDB_NOTEBOOK_NAME environment variable to enable code saving.\n"
     ]
    },
    {
     "data": {
      "text/html": [
       "Tracking run with wandb version 0.17.1"
      ],
      "text/plain": [
       "<IPython.core.display.HTML object>"
      ]
     },
     "metadata": {},
     "output_type": "display_data"
    },
    {
     "data": {
      "text/html": [
       "Run data is saved locally in <code>/Users/brandonhosley/Documents/GitHub/Schoolwork/2024Q2 - Reinforcement Learning/Project/src/wandb/run-20240608_212014-nsl7ztfl</code>"
      ],
      "text/plain": [
       "<IPython.core.display.HTML object>"
      ]
     },
     "metadata": {},
     "output_type": "display_data"
    },
    {
     "data": {
      "text/html": [
       "Syncing run <strong><a href='https://wandb.ai/no-organization-for-signup/my-first-sweep/runs/nsl7ztfl' target=\"_blank\">sparkling-sweep-1</a></strong> to <a href='https://wandb.ai/no-organization-for-signup/my-first-sweep' target=\"_blank\">Weights & Biases</a> (<a href='https://wandb.me/run' target=\"_blank\">docs</a>)<br/>Sweep page: <a href='https://wandb.ai/no-organization-for-signup/my-first-sweep/sweeps/gdr6fhfj' target=\"_blank\">https://wandb.ai/no-organization-for-signup/my-first-sweep/sweeps/gdr6fhfj</a>"
      ],
      "text/plain": [
       "<IPython.core.display.HTML object>"
      ]
     },
     "metadata": {},
     "output_type": "display_data"
    },
    {
     "data": {
      "text/html": [
       " View project at <a href='https://wandb.ai/no-organization-for-signup/my-first-sweep' target=\"_blank\">https://wandb.ai/no-organization-for-signup/my-first-sweep</a>"
      ],
      "text/plain": [
       "<IPython.core.display.HTML object>"
      ]
     },
     "metadata": {},
     "output_type": "display_data"
    },
    {
     "data": {
      "text/html": [
       " View sweep at <a href='https://wandb.ai/no-organization-for-signup/my-first-sweep/sweeps/gdr6fhfj' target=\"_blank\">https://wandb.ai/no-organization-for-signup/my-first-sweep/sweeps/gdr6fhfj</a>"
      ],
      "text/plain": [
       "<IPython.core.display.HTML object>"
      ]
     },
     "metadata": {},
     "output_type": "display_data"
    },
    {
     "data": {
      "text/html": [
       " View run at <a href='https://wandb.ai/no-organization-for-signup/my-first-sweep/runs/nsl7ztfl' target=\"_blank\">https://wandb.ai/no-organization-for-signup/my-first-sweep/runs/nsl7ztfl</a>"
      ],
      "text/plain": [
       "<IPython.core.display.HTML object>"
      ]
     },
     "metadata": {},
     "output_type": "display_data"
    },
    {
     "name": "stdout",
     "output_type": "stream",
     "text": [
      "\n",
      "LSPI(alpha_a=0.62, alpha_b=0.36,eps_a=0.68, eps_b=0.03 rep 0...\n"
     ]
    },
    {
     "data": {
      "text/html": [
       " View run <strong style=\"color:#cdcd00\">sparkling-sweep-1</strong> at: <a href='https://wandb.ai/no-organization-for-signup/my-first-sweep/runs/nsl7ztfl' target=\"_blank\">https://wandb.ai/no-organization-for-signup/my-first-sweep/runs/nsl7ztfl</a><br/> View project at: <a href='https://wandb.ai/no-organization-for-signup/my-first-sweep' target=\"_blank\">https://wandb.ai/no-organization-for-signup/my-first-sweep</a><br/>Synced 5 W&B file(s), 0 media file(s), 0 artifact file(s) and 0 other file(s)"
      ],
      "text/plain": [
       "<IPython.core.display.HTML object>"
      ]
     },
     "metadata": {},
     "output_type": "display_data"
    },
    {
     "data": {
      "text/html": [
       "Find logs at: <code>./wandb/run-20240608_212014-nsl7ztfl/logs</code>"
      ],
      "text/plain": [
       "<IPython.core.display.HTML object>"
      ]
     },
     "metadata": {},
     "output_type": "display_data"
    },
    {
     "name": "stderr",
     "output_type": "stream",
     "text": [
      "Run nsl7ztfl errored:\n",
      "Traceback (most recent call last):\n",
      "  File \"/opt/homebrew/lib/python3.11/site-packages/wandb/agents/pyagent.py\", line 307, in _run_job\n",
      "    self._function()\n",
      "  File \"/var/folders/8h/pt6dnpv520d200zx4xc71ld80000gn/T/ipykernel_73909/879071628.py\", line 34, in main\n",
      "    model.train(num_replications=10,num_episodes=300)\n",
      "  File \"/Users/brandonhosley/Documents/GitHub/Schoolwork/2024Q2 - Reinforcement Learning/Project/src/LSPI.py\", line 180, in train\n",
      "    what = np.ravel(np.linalg.solve(Phi_curr.T*(Phi_curr-self.gamma*Phi_next)\n",
      "                    ^^^^^^^^^^^^^^^^^^^^^^^^^^^^^^^^^^^^^^^^^^^^^^^^^^^^^^^^^\n",
      "  File \"/opt/homebrew/lib/python3.11/site-packages/numpy/linalg/linalg.py\", line 409, in solve\n",
      "    r = gufunc(a, b, signature=signature, extobj=extobj)\n",
      "        ^^^^^^^^^^^^^^^^^^^^^^^^^^^^^^^^^^^^^^^^^^^^^^^^\n",
      "  File \"/opt/homebrew/lib/python3.11/site-packages/numpy/linalg/linalg.py\", line 112, in _raise_linalgerror_singular\n",
      "    raise LinAlgError(\"Singular matrix\")\n",
      "numpy.linalg.LinAlgError: Singular matrix\n",
      "\n",
      "\u001b[34m\u001b[1mwandb\u001b[0m: \u001b[32m\u001b[41mERROR\u001b[0m Run nsl7ztfl errored:\n",
      "\u001b[34m\u001b[1mwandb\u001b[0m: \u001b[32m\u001b[41mERROR\u001b[0m Traceback (most recent call last):\n",
      "\u001b[34m\u001b[1mwandb\u001b[0m: \u001b[32m\u001b[41mERROR\u001b[0m   File \"/opt/homebrew/lib/python3.11/site-packages/wandb/agents/pyagent.py\", line 307, in _run_job\n",
      "\u001b[34m\u001b[1mwandb\u001b[0m: \u001b[32m\u001b[41mERROR\u001b[0m     self._function()\n",
      "\u001b[34m\u001b[1mwandb\u001b[0m: \u001b[32m\u001b[41mERROR\u001b[0m   File \"/var/folders/8h/pt6dnpv520d200zx4xc71ld80000gn/T/ipykernel_73909/879071628.py\", line 34, in main\n",
      "\u001b[34m\u001b[1mwandb\u001b[0m: \u001b[32m\u001b[41mERROR\u001b[0m     model.train(num_replications=10,num_episodes=300)\n",
      "\u001b[34m\u001b[1mwandb\u001b[0m: \u001b[32m\u001b[41mERROR\u001b[0m   File \"/Users/brandonhosley/Documents/GitHub/Schoolwork/2024Q2 - Reinforcement Learning/Project/src/LSPI.py\", line 180, in train\n",
      "\u001b[34m\u001b[1mwandb\u001b[0m: \u001b[32m\u001b[41mERROR\u001b[0m     what = np.ravel(np.linalg.solve(Phi_curr.T*(Phi_curr-self.gamma*Phi_next)\n",
      "\u001b[34m\u001b[1mwandb\u001b[0m: \u001b[32m\u001b[41mERROR\u001b[0m                     ^^^^^^^^^^^^^^^^^^^^^^^^^^^^^^^^^^^^^^^^^^^^^^^^^^^^^^^^^\n",
      "\u001b[34m\u001b[1mwandb\u001b[0m: \u001b[32m\u001b[41mERROR\u001b[0m   File \"/opt/homebrew/lib/python3.11/site-packages/numpy/linalg/linalg.py\", line 409, in solve\n",
      "\u001b[34m\u001b[1mwandb\u001b[0m: \u001b[32m\u001b[41mERROR\u001b[0m     r = gufunc(a, b, signature=signature, extobj=extobj)\n",
      "\u001b[34m\u001b[1mwandb\u001b[0m: \u001b[32m\u001b[41mERROR\u001b[0m         ^^^^^^^^^^^^^^^^^^^^^^^^^^^^^^^^^^^^^^^^^^^^^^^^\n",
      "\u001b[34m\u001b[1mwandb\u001b[0m: \u001b[32m\u001b[41mERROR\u001b[0m   File \"/opt/homebrew/lib/python3.11/site-packages/numpy/linalg/linalg.py\", line 112, in _raise_linalgerror_singular\n",
      "\u001b[34m\u001b[1mwandb\u001b[0m: \u001b[32m\u001b[41mERROR\u001b[0m     raise LinAlgError(\"Singular matrix\")\n",
      "\u001b[34m\u001b[1mwandb\u001b[0m: \u001b[32m\u001b[41mERROR\u001b[0m numpy.linalg.LinAlgError: Singular matrix\n",
      "\u001b[34m\u001b[1mwandb\u001b[0m: \u001b[32m\u001b[41mERROR\u001b[0m \n",
      "\u001b[34m\u001b[1mwandb\u001b[0m: Agent Starting Run: rruw6cjo with config:\n",
      "\u001b[34m\u001b[1mwandb\u001b[0m: \talpha_a: 0.4851043106243734\n",
      "\u001b[34m\u001b[1mwandb\u001b[0m: \talpha_b: 0.7393231625481155\n",
      "\u001b[34m\u001b[1mwandb\u001b[0m: \teps_a: 0.9374151366482396\n",
      "\u001b[34m\u001b[1mwandb\u001b[0m: \teps_b: 0.19360556169364215\n",
      "\u001b[34m\u001b[1mwandb\u001b[0m: \teta: 8.18362863980927e-06\n",
      "Failed to detect the name of this notebook, you can set it manually with the WANDB_NOTEBOOK_NAME environment variable to enable code saving.\n"
     ]
    },
    {
     "data": {
      "text/html": [
       "Tracking run with wandb version 0.17.1"
      ],
      "text/plain": [
       "<IPython.core.display.HTML object>"
      ]
     },
     "metadata": {},
     "output_type": "display_data"
    },
    {
     "data": {
      "text/html": [
       "Run data is saved locally in <code>/Users/brandonhosley/Documents/GitHub/Schoolwork/2024Q2 - Reinforcement Learning/Project/src/wandb/run-20240608_212024-rruw6cjo</code>"
      ],
      "text/plain": [
       "<IPython.core.display.HTML object>"
      ]
     },
     "metadata": {},
     "output_type": "display_data"
    },
    {
     "data": {
      "text/html": [
       "Syncing run <strong><a href='https://wandb.ai/no-organization-for-signup/my-first-sweep/runs/rruw6cjo' target=\"_blank\">efficient-sweep-2</a></strong> to <a href='https://wandb.ai/no-organization-for-signup/my-first-sweep' target=\"_blank\">Weights & Biases</a> (<a href='https://wandb.me/run' target=\"_blank\">docs</a>)<br/>Sweep page: <a href='https://wandb.ai/no-organization-for-signup/my-first-sweep/sweeps/gdr6fhfj' target=\"_blank\">https://wandb.ai/no-organization-for-signup/my-first-sweep/sweeps/gdr6fhfj</a>"
      ],
      "text/plain": [
       "<IPython.core.display.HTML object>"
      ]
     },
     "metadata": {},
     "output_type": "display_data"
    },
    {
     "data": {
      "text/html": [
       " View project at <a href='https://wandb.ai/no-organization-for-signup/my-first-sweep' target=\"_blank\">https://wandb.ai/no-organization-for-signup/my-first-sweep</a>"
      ],
      "text/plain": [
       "<IPython.core.display.HTML object>"
      ]
     },
     "metadata": {},
     "output_type": "display_data"
    },
    {
     "data": {
      "text/html": [
       " View sweep at <a href='https://wandb.ai/no-organization-for-signup/my-first-sweep/sweeps/gdr6fhfj' target=\"_blank\">https://wandb.ai/no-organization-for-signup/my-first-sweep/sweeps/gdr6fhfj</a>"
      ],
      "text/plain": [
       "<IPython.core.display.HTML object>"
      ]
     },
     "metadata": {},
     "output_type": "display_data"
    },
    {
     "data": {
      "text/html": [
       " View run at <a href='https://wandb.ai/no-organization-for-signup/my-first-sweep/runs/rruw6cjo' target=\"_blank\">https://wandb.ai/no-organization-for-signup/my-first-sweep/runs/rruw6cjo</a>"
      ],
      "text/plain": [
       "<IPython.core.display.HTML object>"
      ]
     },
     "metadata": {},
     "output_type": "display_data"
    },
    {
     "name": "stdout",
     "output_type": "stream",
     "text": [
      "\n",
      "LSPI(alpha_a=0.49, alpha_b=0.74,eps_a=0.94, eps_b=0.19 rep 0...\n"
     ]
    },
    {
     "data": {
      "text/html": [
       " View run <strong style=\"color:#cdcd00\">efficient-sweep-2</strong> at: <a href='https://wandb.ai/no-organization-for-signup/my-first-sweep/runs/rruw6cjo' target=\"_blank\">https://wandb.ai/no-organization-for-signup/my-first-sweep/runs/rruw6cjo</a><br/> View project at: <a href='https://wandb.ai/no-organization-for-signup/my-first-sweep' target=\"_blank\">https://wandb.ai/no-organization-for-signup/my-first-sweep</a><br/>Synced 5 W&B file(s), 0 media file(s), 0 artifact file(s) and 0 other file(s)"
      ],
      "text/plain": [
       "<IPython.core.display.HTML object>"
      ]
     },
     "metadata": {},
     "output_type": "display_data"
    },
    {
     "data": {
      "text/html": [
       "Find logs at: <code>./wandb/run-20240608_212024-rruw6cjo/logs</code>"
      ],
      "text/plain": [
       "<IPython.core.display.HTML object>"
      ]
     },
     "metadata": {},
     "output_type": "display_data"
    },
    {
     "name": "stderr",
     "output_type": "stream",
     "text": [
      "Run rruw6cjo errored:\n",
      "Traceback (most recent call last):\n",
      "  File \"/opt/homebrew/lib/python3.11/site-packages/wandb/agents/pyagent.py\", line 307, in _run_job\n",
      "    self._function()\n",
      "  File \"/var/folders/8h/pt6dnpv520d200zx4xc71ld80000gn/T/ipykernel_73909/879071628.py\", line 34, in main\n",
      "    model.train(num_replications=10,num_episodes=300)\n",
      "  File \"/Users/brandonhosley/Documents/GitHub/Schoolwork/2024Q2 - Reinforcement Learning/Project/src/LSPI.py\", line 180, in train\n",
      "    what = np.ravel(np.linalg.solve(Phi_curr.T*(Phi_curr-self.gamma*Phi_next)\n",
      "                    ^^^^^^^^^^^^^^^^^^^^^^^^^^^^^^^^^^^^^^^^^^^^^^^^^^^^^^^^^\n",
      "  File \"/opt/homebrew/lib/python3.11/site-packages/numpy/linalg/linalg.py\", line 409, in solve\n",
      "    r = gufunc(a, b, signature=signature, extobj=extobj)\n",
      "        ^^^^^^^^^^^^^^^^^^^^^^^^^^^^^^^^^^^^^^^^^^^^^^^^\n",
      "  File \"/opt/homebrew/lib/python3.11/site-packages/numpy/linalg/linalg.py\", line 112, in _raise_linalgerror_singular\n",
      "    raise LinAlgError(\"Singular matrix\")\n",
      "numpy.linalg.LinAlgError: Singular matrix\n",
      "\n",
      "\u001b[34m\u001b[1mwandb\u001b[0m: \u001b[32m\u001b[41mERROR\u001b[0m Run rruw6cjo errored:\n",
      "\u001b[34m\u001b[1mwandb\u001b[0m: \u001b[32m\u001b[41mERROR\u001b[0m Traceback (most recent call last):\n",
      "\u001b[34m\u001b[1mwandb\u001b[0m: \u001b[32m\u001b[41mERROR\u001b[0m   File \"/opt/homebrew/lib/python3.11/site-packages/wandb/agents/pyagent.py\", line 307, in _run_job\n",
      "\u001b[34m\u001b[1mwandb\u001b[0m: \u001b[32m\u001b[41mERROR\u001b[0m     self._function()\n",
      "\u001b[34m\u001b[1mwandb\u001b[0m: \u001b[32m\u001b[41mERROR\u001b[0m   File \"/var/folders/8h/pt6dnpv520d200zx4xc71ld80000gn/T/ipykernel_73909/879071628.py\", line 34, in main\n",
      "\u001b[34m\u001b[1mwandb\u001b[0m: \u001b[32m\u001b[41mERROR\u001b[0m     model.train(num_replications=10,num_episodes=300)\n",
      "\u001b[34m\u001b[1mwandb\u001b[0m: \u001b[32m\u001b[41mERROR\u001b[0m   File \"/Users/brandonhosley/Documents/GitHub/Schoolwork/2024Q2 - Reinforcement Learning/Project/src/LSPI.py\", line 180, in train\n",
      "\u001b[34m\u001b[1mwandb\u001b[0m: \u001b[32m\u001b[41mERROR\u001b[0m     what = np.ravel(np.linalg.solve(Phi_curr.T*(Phi_curr-self.gamma*Phi_next)\n",
      "\u001b[34m\u001b[1mwandb\u001b[0m: \u001b[32m\u001b[41mERROR\u001b[0m                     ^^^^^^^^^^^^^^^^^^^^^^^^^^^^^^^^^^^^^^^^^^^^^^^^^^^^^^^^^\n",
      "\u001b[34m\u001b[1mwandb\u001b[0m: \u001b[32m\u001b[41mERROR\u001b[0m   File \"/opt/homebrew/lib/python3.11/site-packages/numpy/linalg/linalg.py\", line 409, in solve\n",
      "\u001b[34m\u001b[1mwandb\u001b[0m: \u001b[32m\u001b[41mERROR\u001b[0m     r = gufunc(a, b, signature=signature, extobj=extobj)\n",
      "\u001b[34m\u001b[1mwandb\u001b[0m: \u001b[32m\u001b[41mERROR\u001b[0m         ^^^^^^^^^^^^^^^^^^^^^^^^^^^^^^^^^^^^^^^^^^^^^^^^\n",
      "\u001b[34m\u001b[1mwandb\u001b[0m: \u001b[32m\u001b[41mERROR\u001b[0m   File \"/opt/homebrew/lib/python3.11/site-packages/numpy/linalg/linalg.py\", line 112, in _raise_linalgerror_singular\n",
      "\u001b[34m\u001b[1mwandb\u001b[0m: \u001b[32m\u001b[41mERROR\u001b[0m     raise LinAlgError(\"Singular matrix\")\n",
      "\u001b[34m\u001b[1mwandb\u001b[0m: \u001b[32m\u001b[41mERROR\u001b[0m numpy.linalg.LinAlgError: Singular matrix\n",
      "\u001b[34m\u001b[1mwandb\u001b[0m: \u001b[32m\u001b[41mERROR\u001b[0m \n",
      "\u001b[34m\u001b[1mwandb\u001b[0m: Agent Starting Run: djecy6bl with config:\n",
      "\u001b[34m\u001b[1mwandb\u001b[0m: \talpha_a: 0.7084356348038862\n",
      "\u001b[34m\u001b[1mwandb\u001b[0m: \talpha_b: 0.5615188444547271\n",
      "\u001b[34m\u001b[1mwandb\u001b[0m: \teps_a: 0.3845638377708195\n",
      "\u001b[34m\u001b[1mwandb\u001b[0m: \teps_b: 0.9045883317217128\n",
      "\u001b[34m\u001b[1mwandb\u001b[0m: \teta: 5.6167057043127266e-06\n",
      "Failed to detect the name of this notebook, you can set it manually with the WANDB_NOTEBOOK_NAME environment variable to enable code saving.\n"
     ]
    },
    {
     "data": {
      "text/html": [
       "Tracking run with wandb version 0.17.1"
      ],
      "text/plain": [
       "<IPython.core.display.HTML object>"
      ]
     },
     "metadata": {},
     "output_type": "display_data"
    },
    {
     "data": {
      "text/html": [
       "Run data is saved locally in <code>/Users/brandonhosley/Documents/GitHub/Schoolwork/2024Q2 - Reinforcement Learning/Project/src/wandb/run-20240608_212034-djecy6bl</code>"
      ],
      "text/plain": [
       "<IPython.core.display.HTML object>"
      ]
     },
     "metadata": {},
     "output_type": "display_data"
    },
    {
     "data": {
      "text/html": [
       "Syncing run <strong><a href='https://wandb.ai/no-organization-for-signup/my-first-sweep/runs/djecy6bl' target=\"_blank\">polar-sweep-3</a></strong> to <a href='https://wandb.ai/no-organization-for-signup/my-first-sweep' target=\"_blank\">Weights & Biases</a> (<a href='https://wandb.me/run' target=\"_blank\">docs</a>)<br/>Sweep page: <a href='https://wandb.ai/no-organization-for-signup/my-first-sweep/sweeps/gdr6fhfj' target=\"_blank\">https://wandb.ai/no-organization-for-signup/my-first-sweep/sweeps/gdr6fhfj</a>"
      ],
      "text/plain": [
       "<IPython.core.display.HTML object>"
      ]
     },
     "metadata": {},
     "output_type": "display_data"
    },
    {
     "data": {
      "text/html": [
       " View project at <a href='https://wandb.ai/no-organization-for-signup/my-first-sweep' target=\"_blank\">https://wandb.ai/no-organization-for-signup/my-first-sweep</a>"
      ],
      "text/plain": [
       "<IPython.core.display.HTML object>"
      ]
     },
     "metadata": {},
     "output_type": "display_data"
    },
    {
     "data": {
      "text/html": [
       " View sweep at <a href='https://wandb.ai/no-organization-for-signup/my-first-sweep/sweeps/gdr6fhfj' target=\"_blank\">https://wandb.ai/no-organization-for-signup/my-first-sweep/sweeps/gdr6fhfj</a>"
      ],
      "text/plain": [
       "<IPython.core.display.HTML object>"
      ]
     },
     "metadata": {},
     "output_type": "display_data"
    },
    {
     "data": {
      "text/html": [
       " View run at <a href='https://wandb.ai/no-organization-for-signup/my-first-sweep/runs/djecy6bl' target=\"_blank\">https://wandb.ai/no-organization-for-signup/my-first-sweep/runs/djecy6bl</a>"
      ],
      "text/plain": [
       "<IPython.core.display.HTML object>"
      ]
     },
     "metadata": {},
     "output_type": "display_data"
    },
    {
     "name": "stdout",
     "output_type": "stream",
     "text": [
      "\n",
      "LSPI(alpha_a=0.71, alpha_b=0.56,eps_a=0.38, eps_b=0.90 rep 0...\n"
     ]
    },
    {
     "data": {
      "text/html": [
       " View run <strong style=\"color:#cdcd00\">polar-sweep-3</strong> at: <a href='https://wandb.ai/no-organization-for-signup/my-first-sweep/runs/djecy6bl' target=\"_blank\">https://wandb.ai/no-organization-for-signup/my-first-sweep/runs/djecy6bl</a><br/> View project at: <a href='https://wandb.ai/no-organization-for-signup/my-first-sweep' target=\"_blank\">https://wandb.ai/no-organization-for-signup/my-first-sweep</a><br/>Synced 5 W&B file(s), 0 media file(s), 0 artifact file(s) and 0 other file(s)"
      ],
      "text/plain": [
       "<IPython.core.display.HTML object>"
      ]
     },
     "metadata": {},
     "output_type": "display_data"
    },
    {
     "data": {
      "text/html": [
       "Find logs at: <code>./wandb/run-20240608_212034-djecy6bl/logs</code>"
      ],
      "text/plain": [
       "<IPython.core.display.HTML object>"
      ]
     },
     "metadata": {},
     "output_type": "display_data"
    },
    {
     "name": "stderr",
     "output_type": "stream",
     "text": [
      "Run djecy6bl errored:\n",
      "Traceback (most recent call last):\n",
      "  File \"/opt/homebrew/lib/python3.11/site-packages/wandb/agents/pyagent.py\", line 307, in _run_job\n",
      "    self._function()\n",
      "  File \"/var/folders/8h/pt6dnpv520d200zx4xc71ld80000gn/T/ipykernel_73909/879071628.py\", line 34, in main\n",
      "    model.train(num_replications=10,num_episodes=300)\n",
      "  File \"/Users/brandonhosley/Documents/GitHub/Schoolwork/2024Q2 - Reinforcement Learning/Project/src/LSPI.py\", line 180, in train\n",
      "    what = np.ravel(np.linalg.solve(Phi_curr.T*(Phi_curr-self.gamma*Phi_next)\n",
      "                    ^^^^^^^^^^^^^^^^^^^^^^^^^^^^^^^^^^^^^^^^^^^^^^^^^^^^^^^^^\n",
      "  File \"/opt/homebrew/lib/python3.11/site-packages/numpy/linalg/linalg.py\", line 409, in solve\n",
      "    r = gufunc(a, b, signature=signature, extobj=extobj)\n",
      "        ^^^^^^^^^^^^^^^^^^^^^^^^^^^^^^^^^^^^^^^^^^^^^^^^\n",
      "  File \"/opt/homebrew/lib/python3.11/site-packages/numpy/linalg/linalg.py\", line 112, in _raise_linalgerror_singular\n",
      "    raise LinAlgError(\"Singular matrix\")\n",
      "numpy.linalg.LinAlgError: Singular matrix\n",
      "\n",
      "\u001b[34m\u001b[1mwandb\u001b[0m: \u001b[32m\u001b[41mERROR\u001b[0m Run djecy6bl errored:\n",
      "\u001b[34m\u001b[1mwandb\u001b[0m: \u001b[32m\u001b[41mERROR\u001b[0m Traceback (most recent call last):\n",
      "\u001b[34m\u001b[1mwandb\u001b[0m: \u001b[32m\u001b[41mERROR\u001b[0m   File \"/opt/homebrew/lib/python3.11/site-packages/wandb/agents/pyagent.py\", line 307, in _run_job\n",
      "\u001b[34m\u001b[1mwandb\u001b[0m: \u001b[32m\u001b[41mERROR\u001b[0m     self._function()\n",
      "\u001b[34m\u001b[1mwandb\u001b[0m: \u001b[32m\u001b[41mERROR\u001b[0m   File \"/var/folders/8h/pt6dnpv520d200zx4xc71ld80000gn/T/ipykernel_73909/879071628.py\", line 34, in main\n",
      "\u001b[34m\u001b[1mwandb\u001b[0m: \u001b[32m\u001b[41mERROR\u001b[0m     model.train(num_replications=10,num_episodes=300)\n",
      "\u001b[34m\u001b[1mwandb\u001b[0m: \u001b[32m\u001b[41mERROR\u001b[0m   File \"/Users/brandonhosley/Documents/GitHub/Schoolwork/2024Q2 - Reinforcement Learning/Project/src/LSPI.py\", line 180, in train\n",
      "\u001b[34m\u001b[1mwandb\u001b[0m: \u001b[32m\u001b[41mERROR\u001b[0m     what = np.ravel(np.linalg.solve(Phi_curr.T*(Phi_curr-self.gamma*Phi_next)\n",
      "\u001b[34m\u001b[1mwandb\u001b[0m: \u001b[32m\u001b[41mERROR\u001b[0m                     ^^^^^^^^^^^^^^^^^^^^^^^^^^^^^^^^^^^^^^^^^^^^^^^^^^^^^^^^^\n",
      "\u001b[34m\u001b[1mwandb\u001b[0m: \u001b[32m\u001b[41mERROR\u001b[0m   File \"/opt/homebrew/lib/python3.11/site-packages/numpy/linalg/linalg.py\", line 409, in solve\n",
      "\u001b[34m\u001b[1mwandb\u001b[0m: \u001b[32m\u001b[41mERROR\u001b[0m     r = gufunc(a, b, signature=signature, extobj=extobj)\n",
      "\u001b[34m\u001b[1mwandb\u001b[0m: \u001b[32m\u001b[41mERROR\u001b[0m         ^^^^^^^^^^^^^^^^^^^^^^^^^^^^^^^^^^^^^^^^^^^^^^^^\n",
      "\u001b[34m\u001b[1mwandb\u001b[0m: \u001b[32m\u001b[41mERROR\u001b[0m   File \"/opt/homebrew/lib/python3.11/site-packages/numpy/linalg/linalg.py\", line 112, in _raise_linalgerror_singular\n",
      "\u001b[34m\u001b[1mwandb\u001b[0m: \u001b[32m\u001b[41mERROR\u001b[0m     raise LinAlgError(\"Singular matrix\")\n",
      "\u001b[34m\u001b[1mwandb\u001b[0m: \u001b[32m\u001b[41mERROR\u001b[0m numpy.linalg.LinAlgError: Singular matrix\n",
      "\u001b[34m\u001b[1mwandb\u001b[0m: \u001b[32m\u001b[41mERROR\u001b[0m \n",
      "Detected 3 failed runs in the first 60 seconds, killing sweep.\n",
      "\u001b[34m\u001b[1mwandb\u001b[0m: \u001b[32m\u001b[41mERROR\u001b[0m Detected 3 failed runs in the first 60 seconds, killing sweep.\n",
      "\u001b[34m\u001b[1mwandb\u001b[0m: To disable this check set WANDB_AGENT_DISABLE_FLAPPING=true\n"
     ]
    }
   ],
   "source": [
    "import wandb\n",
    "from LSPI import LSPI\n",
    "\n",
    "sweep_config = {\n",
    "    \"method\": \"random\",\n",
    "    \"name\": \"sweep\",\n",
    "    \"metric\": {\"goal\": \"maximize\", \"name\": \"Score\"},\n",
    "    'parameters': {\n",
    "        'alpha_a': {'distribution': 'uniform', 'min': 0, 'max': 1},\n",
    "        'alpha_b': {'distribution': 'uniform', 'min': 0, 'max': 1},\n",
    "        'eps_a': {'distribution': 'uniform', 'min': 0, 'max': 1},\n",
    "        'eps_b': {'distribution': 'uniform', 'min': 0, 'max': 1},\n",
    "        'eta': {'distribution': 'uniform', 'min': 1e-7, 'max': 1e-5},\n",
    "        #'n_batch_size': {'distribution': 'uniform', 'min': 2**8, 'max': 2**10},\n",
    "    }\n",
    "}\n",
    "\n",
    "#wandb.init(project=\"DSOR 646 - Final\")\n",
    "sweep_id = wandb.sweep(sweep=sweep_config, project=\"my-first-sweep\")\n",
    "\n",
    "import gymnasium as gym\n",
    "env = gym.make('LunarLander-v2')\n",
    "\n",
    "def main():\n",
    "    run = wandb.init()\n",
    "    model = LSPI(env,\n",
    "        alpha_a = wandb.config.alpha_a,\n",
    "        alpha_b = wandb.config.alpha_b,\n",
    "        eps_a = wandb.config.eps_a,\n",
    "        eps_b = wandb.config.eps_b,\n",
    "        eta = wandb.config.eta,\n",
    "        #n_batch_size = wandb.config.n_batch_size\n",
    "        )\n",
    "    model.train(num_replications=10,num_episodes=300)\n",
    "    maxETDR, maxETDRhw, meanMaxTestEETDR, maxTestHW, meanAULC, hwAULC, time = model.get_results()\n",
    "    alg_score = 0.6*(meanMaxTestEETDR-maxTestHW) + 0.4*(meanAULC-hwAULC)\n",
    "    wandb.log({\n",
    "            \"maxETDR\": maxETDR,\n",
    "            \"maxETDRhw\": maxETDRhw,\n",
    "            \"meanMaxTestEETDR\": meanMaxTestEETDR,\n",
    "            \"maxTestHW\": maxTestHW,\n",
    "            \"meanAULC\": meanAULC,\n",
    "            \"hwAULC\": hwAULC,\n",
    "            \"time\": time,\n",
    "            \"Score\": alg_score\n",
    "        })\n",
    "\n",
    "# Start sweep job.\n",
    "wandb.agent(sweep_id, function=main, count=5)"
   ]
  },
  {
   "cell_type": "code",
   "execution_count": 8,
   "metadata": {},
   "outputs": [
    {
     "name": "stdout",
     "output_type": "stream",
     "text": [
      "Create sweep with ID: 1yz34i1l\n",
      "Sweep URL: https://wandb.ai/no-organization-for-signup/my-first-sweep/sweeps/1yz34i1l\n"
     ]
    },
    {
     "name": "stderr",
     "output_type": "stream",
     "text": [
      "\u001b[34m\u001b[1mwandb\u001b[0m: Agent Starting Run: 902urrc8 with config:\n",
      "\u001b[34m\u001b[1mwandb\u001b[0m: \talpha_a: 0.2753241220235324\n",
      "\u001b[34m\u001b[1mwandb\u001b[0m: \talpha_b: 0.7325191200082066\n",
      "\u001b[34m\u001b[1mwandb\u001b[0m: \tclip: 9.764880277145188\n",
      "\u001b[34m\u001b[1mwandb\u001b[0m: \teps_a: 0.3984054849161438\n",
      "\u001b[34m\u001b[1mwandb\u001b[0m: \teps_b: 0.2962786727836372\n",
      "\u001b[34m\u001b[1mwandb\u001b[0m: \tlam_a: 0.18087798059729887\n",
      "\u001b[34m\u001b[1mwandb\u001b[0m: \tlam_b: 0.3652471983233748\n",
      "Failed to detect the name of this notebook, you can set it manually with the WANDB_NOTEBOOK_NAME environment variable to enable code saving.\n"
     ]
    },
    {
     "data": {
      "text/html": [
       "Tracking run with wandb version 0.17.1"
      ],
      "text/plain": [
       "<IPython.core.display.HTML object>"
      ]
     },
     "metadata": {},
     "output_type": "display_data"
    },
    {
     "data": {
      "text/html": [
       "Run data is saved locally in <code>/Users/brandonhosley/Documents/GitHub/Schoolwork/2024Q2 - Reinforcement Learning/Project/src/wandb/run-20240608_220035-902urrc8</code>"
      ],
      "text/plain": [
       "<IPython.core.display.HTML object>"
      ]
     },
     "metadata": {},
     "output_type": "display_data"
    },
    {
     "data": {
      "text/html": [
       "Syncing run <strong><a href='https://wandb.ai/no-organization-for-signup/my-first-sweep/runs/902urrc8' target=\"_blank\">misunderstood-sweep-1</a></strong> to <a href='https://wandb.ai/no-organization-for-signup/my-first-sweep' target=\"_blank\">Weights & Biases</a> (<a href='https://wandb.me/run' target=\"_blank\">docs</a>)<br/>Sweep page: <a href='https://wandb.ai/no-organization-for-signup/my-first-sweep/sweeps/1yz34i1l' target=\"_blank\">https://wandb.ai/no-organization-for-signup/my-first-sweep/sweeps/1yz34i1l</a>"
      ],
      "text/plain": [
       "<IPython.core.display.HTML object>"
      ]
     },
     "metadata": {},
     "output_type": "display_data"
    },
    {
     "data": {
      "text/html": [
       " View project at <a href='https://wandb.ai/no-organization-for-signup/my-first-sweep' target=\"_blank\">https://wandb.ai/no-organization-for-signup/my-first-sweep</a>"
      ],
      "text/plain": [
       "<IPython.core.display.HTML object>"
      ]
     },
     "metadata": {},
     "output_type": "display_data"
    },
    {
     "data": {
      "text/html": [
       " View sweep at <a href='https://wandb.ai/no-organization-for-signup/my-first-sweep/sweeps/1yz34i1l' target=\"_blank\">https://wandb.ai/no-organization-for-signup/my-first-sweep/sweeps/1yz34i1l</a>"
      ],
      "text/plain": [
       "<IPython.core.display.HTML object>"
      ]
     },
     "metadata": {},
     "output_type": "display_data"
    },
    {
     "data": {
      "text/html": [
       " View run at <a href='https://wandb.ai/no-organization-for-signup/my-first-sweep/runs/902urrc8' target=\"_blank\">https://wandb.ai/no-organization-for-signup/my-first-sweep/runs/902urrc8</a>"
      ],
      "text/plain": [
       "<IPython.core.display.HTML object>"
      ]
     },
     "metadata": {},
     "output_type": "display_data"
    },
    {
     "name": "stdout",
     "output_type": "stream",
     "text": [
      "\n",
      "SARSA(alpha_a=0.28,alpha_b=0.73,eps_a=0.40,eps_b=0.30, lam_a rep0...\n",
      "IHT full, starting to allow collisions\n",
      "\n",
      "SARSA(alpha_a=0.28,alpha_b=0.73,eps_a=0.40,eps_b=0.30, lam_a rep1...\n",
      "IHT full, starting to allow collisions\n",
      "\n",
      "SARSA(alpha_a=0.28,alpha_b=0.73,eps_a=0.40,eps_b=0.30, lam_a rep2...\n",
      "IHT full, starting to allow collisions\n",
      "\n",
      "SARSA(alpha_a=0.28,alpha_b=0.73,eps_a=0.40,eps_b=0.30, lam_a rep3...\n",
      "IHT full, starting to allow collisions\n",
      "\n",
      "SARSA(alpha_a=0.28,alpha_b=0.73,eps_a=0.40,eps_b=0.30, lam_a rep4...\n",
      "IHT full, starting to allow collisions\n",
      "\n",
      "SARSA(alpha_a=0.28,alpha_b=0.73,eps_a=0.40,eps_b=0.30, lam_a rep5...\n",
      "IHT full, starting to allow collisions\n",
      "\n",
      "SARSA(alpha_a=0.28,alpha_b=0.73,eps_a=0.40,eps_b=0.30, lam_a rep6...\n",
      "IHT full, starting to allow collisions\n",
      "\n",
      "SARSA(alpha_a=0.28,alpha_b=0.73,eps_a=0.40,eps_b=0.30, lam_a rep7...\n",
      "IHT full, starting to allow collisions\n",
      "\n",
      "SARSA(alpha_a=0.28,alpha_b=0.73,eps_a=0.40,eps_b=0.30, lam_a rep8...\n",
      "IHT full, starting to allow collisions\n",
      "\n",
      "SARSA(alpha_a=0.28,alpha_b=0.73,eps_a=0.40,eps_b=0.30, lam_a rep9...\n",
      "IHT full, starting to allow collisions\n",
      "Executed 10 algorithm reps in 152.0667 seconds.\n",
      "\n",
      "Best VFA (1st) test... EETDR CI: -134.9 +/- 34.9\n",
      "\n",
      "Best VFA (2nd) test... EETDR CI: -151.2 +/- 36.5\n",
      "\n",
      "Best VFA (3rd) test... EETDR CI: -129.0 +/- 36.8\n",
      "\n",
      "Best VFA (4th) test... EETDR CI: -135.7 +/- 27.5\n",
      "\n",
      "Best VFA (5th) test... EETDR CI: -174.2 +/- 42.5\n",
      "\n",
      "Best VFA (6th) test... EETDR CI: -174.5 +/- 38.2\n",
      "\n",
      "Best VFA (7th) test... EETDR CI: -213.1 +/- 50.3\n",
      "\n",
      "Best VFA (8th) test... EETDR CI: -124.8 +/- 52.0\n",
      "\n",
      "Best VFA (9th) test... EETDR CI: -172.3 +/- 33.7\n",
      "\n",
      "Best VFA (10th) test... EETDR CI: -161.8 +/- 41.6\n"
     ]
    },
    {
     "data": {
      "text/html": [
       "<style>\n",
       "    table.wandb td:nth-child(1) { padding: 0 10px; text-align: left ; width: auto;} td:nth-child(2) {text-align: left ; width: 100%}\n",
       "    .wandb-row { display: flex; flex-direction: row; flex-wrap: wrap; justify-content: flex-start; width: 100% }\n",
       "    .wandb-col { display: flex; flex-direction: column; flex-basis: 100%; flex: 1; padding: 10px; }\n",
       "    </style>\n",
       "<div class=\"wandb-row\"><div class=\"wandb-col\"><h3>Run history:</h3><br/><table class=\"wandb\"><tr><td>Score</td><td>▁</td></tr><tr><td>hwAULC</td><td>▁</td></tr><tr><td>maxETDR</td><td>▁</td></tr><tr><td>maxETDRhw</td><td>▁</td></tr><tr><td>maxTestHW</td><td>▁</td></tr><tr><td>meanAULC</td><td>▁</td></tr><tr><td>meanMaxTestEETDR</td><td>▁</td></tr><tr><td>time</td><td>▁</td></tr></table><br/></div><div class=\"wandb-col\"><h3>Run summary:</h3><br/><table class=\"wandb\"><tr><td>Score</td><td>-211.22626</td></tr><tr><td>hwAULC</td><td>14.9711</td></tr><tr><td>maxETDR</td><td>-135.68066</td></tr><tr><td>maxETDRhw</td><td>27.48901</td></tr><tr><td>maxTestHW</td><td>16.1906</td></tr><tr><td>meanAULC</td><td>-228.9</td></tr><tr><td>meanMaxTestEETDR</td><td>-173.27243</td></tr><tr><td>time</td><td>15.20667</td></tr></table><br/></div></div>"
      ],
      "text/plain": [
       "<IPython.core.display.HTML object>"
      ]
     },
     "metadata": {},
     "output_type": "display_data"
    },
    {
     "data": {
      "text/html": [
       " View run <strong style=\"color:#cdcd00\">misunderstood-sweep-1</strong> at: <a href='https://wandb.ai/no-organization-for-signup/my-first-sweep/runs/902urrc8' target=\"_blank\">https://wandb.ai/no-organization-for-signup/my-first-sweep/runs/902urrc8</a><br/> View project at: <a href='https://wandb.ai/no-organization-for-signup/my-first-sweep' target=\"_blank\">https://wandb.ai/no-organization-for-signup/my-first-sweep</a><br/>Synced 5 W&B file(s), 0 media file(s), 0 artifact file(s) and 0 other file(s)"
      ],
      "text/plain": [
       "<IPython.core.display.HTML object>"
      ]
     },
     "metadata": {},
     "output_type": "display_data"
    },
    {
     "data": {
      "text/html": [
       "Find logs at: <code>./wandb/run-20240608_220035-902urrc8/logs</code>"
      ],
      "text/plain": [
       "<IPython.core.display.HTML object>"
      ]
     },
     "metadata": {},
     "output_type": "display_data"
    },
    {
     "name": "stderr",
     "output_type": "stream",
     "text": [
      "\u001b[34m\u001b[1mwandb\u001b[0m: Agent Starting Run: h2vf4xcv with config:\n",
      "\u001b[34m\u001b[1mwandb\u001b[0m: \talpha_a: 0.5358948191173063\n",
      "\u001b[34m\u001b[1mwandb\u001b[0m: \talpha_b: 0.700550609727423\n",
      "\u001b[34m\u001b[1mwandb\u001b[0m: \tclip: 10.984344165524217\n",
      "\u001b[34m\u001b[1mwandb\u001b[0m: \teps_a: 0.5846960240767871\n",
      "\u001b[34m\u001b[1mwandb\u001b[0m: \teps_b: 0.8734793074270183\n",
      "\u001b[34m\u001b[1mwandb\u001b[0m: \tlam_a: 0.8762243000290139\n",
      "\u001b[34m\u001b[1mwandb\u001b[0m: \tlam_b: 0.33267164624172463\n",
      "Failed to detect the name of this notebook, you can set it manually with the WANDB_NOTEBOOK_NAME environment variable to enable code saving.\n"
     ]
    },
    {
     "data": {
      "text/html": [
       "Tracking run with wandb version 0.17.1"
      ],
      "text/plain": [
       "<IPython.core.display.HTML object>"
      ]
     },
     "metadata": {},
     "output_type": "display_data"
    },
    {
     "data": {
      "text/html": [
       "Run data is saved locally in <code>/Users/brandonhosley/Documents/GitHub/Schoolwork/2024Q2 - Reinforcement Learning/Project/src/wandb/run-20240608_220323-h2vf4xcv</code>"
      ],
      "text/plain": [
       "<IPython.core.display.HTML object>"
      ]
     },
     "metadata": {},
     "output_type": "display_data"
    },
    {
     "data": {
      "text/html": [
       "Syncing run <strong><a href='https://wandb.ai/no-organization-for-signup/my-first-sweep/runs/h2vf4xcv' target=\"_blank\">serene-sweep-2</a></strong> to <a href='https://wandb.ai/no-organization-for-signup/my-first-sweep' target=\"_blank\">Weights & Biases</a> (<a href='https://wandb.me/run' target=\"_blank\">docs</a>)<br/>Sweep page: <a href='https://wandb.ai/no-organization-for-signup/my-first-sweep/sweeps/1yz34i1l' target=\"_blank\">https://wandb.ai/no-organization-for-signup/my-first-sweep/sweeps/1yz34i1l</a>"
      ],
      "text/plain": [
       "<IPython.core.display.HTML object>"
      ]
     },
     "metadata": {},
     "output_type": "display_data"
    },
    {
     "data": {
      "text/html": [
       " View project at <a href='https://wandb.ai/no-organization-for-signup/my-first-sweep' target=\"_blank\">https://wandb.ai/no-organization-for-signup/my-first-sweep</a>"
      ],
      "text/plain": [
       "<IPython.core.display.HTML object>"
      ]
     },
     "metadata": {},
     "output_type": "display_data"
    },
    {
     "data": {
      "text/html": [
       " View sweep at <a href='https://wandb.ai/no-organization-for-signup/my-first-sweep/sweeps/1yz34i1l' target=\"_blank\">https://wandb.ai/no-organization-for-signup/my-first-sweep/sweeps/1yz34i1l</a>"
      ],
      "text/plain": [
       "<IPython.core.display.HTML object>"
      ]
     },
     "metadata": {},
     "output_type": "display_data"
    },
    {
     "data": {
      "text/html": [
       " View run at <a href='https://wandb.ai/no-organization-for-signup/my-first-sweep/runs/h2vf4xcv' target=\"_blank\">https://wandb.ai/no-organization-for-signup/my-first-sweep/runs/h2vf4xcv</a>"
      ],
      "text/plain": [
       "<IPython.core.display.HTML object>"
      ]
     },
     "metadata": {},
     "output_type": "display_data"
    },
    {
     "name": "stdout",
     "output_type": "stream",
     "text": [
      "\n",
      "SARSA(alpha_a=0.54,alpha_b=0.70,eps_a=0.58,eps_b=0.87, lam_a rep0...\n",
      "IHT full, starting to allow collisions\n",
      "\n",
      "SARSA(alpha_a=0.54,alpha_b=0.70,eps_a=0.58,eps_b=0.87, lam_a rep1...\n",
      "IHT full, starting to allow collisions\n",
      "\n",
      "SARSA(alpha_a=0.54,alpha_b=0.70,eps_a=0.58,eps_b=0.87, lam_a rep2...\n",
      "IHT full, starting to allow collisions\n",
      "\n",
      "SARSA(alpha_a=0.54,alpha_b=0.70,eps_a=0.58,eps_b=0.87, lam_a rep3...\n",
      "IHT full, starting to allow collisions\n",
      "\n",
      "SARSA(alpha_a=0.54,alpha_b=0.70,eps_a=0.58,eps_b=0.87, lam_a rep4...\n",
      "IHT full, starting to allow collisions\n",
      "\n",
      "SARSA(alpha_a=0.54,alpha_b=0.70,eps_a=0.58,eps_b=0.87, lam_a rep5...\n",
      "IHT full, starting to allow collisions\n",
      "\n",
      "SARSA(alpha_a=0.54,alpha_b=0.70,eps_a=0.58,eps_b=0.87, lam_a rep6...\n",
      "IHT full, starting to allow collisions\n",
      "\n",
      "SARSA(alpha_a=0.54,alpha_b=0.70,eps_a=0.58,eps_b=0.87, lam_a rep7...\n",
      "IHT full, starting to allow collisions\n",
      "\n",
      "SARSA(alpha_a=0.54,alpha_b=0.70,eps_a=0.58,eps_b=0.87, lam_a rep8...\n",
      "IHT full, starting to allow collisions\n",
      "\n",
      "SARSA(alpha_a=0.54,alpha_b=0.70,eps_a=0.58,eps_b=0.87, lam_a rep9...\n",
      "IHT full, starting to allow collisions\n",
      "Executed 10 algorithm reps in 159.3892 seconds.\n",
      "\n",
      "Best VFA (1st) test... EETDR CI: -167.3 +/- 42.5\n",
      "\n",
      "Best VFA (2nd) test... EETDR CI: -159.6 +/- 44.0\n",
      "\n",
      "Best VFA (3rd) test... EETDR CI: -170.3 +/- 46.8\n",
      "\n",
      "Best VFA (4th) test... EETDR CI: -128.3 +/- 28.5\n",
      "\n",
      "Best VFA (5th) test... EETDR CI: -179.2 +/- 37.1\n",
      "\n",
      "Best VFA (6th) test... EETDR CI: -185.7 +/- 36.9\n",
      "\n",
      "Best VFA (7th) test... EETDR CI: -179.7 +/- 35.1\n",
      "\n",
      "Best VFA (8th) test... EETDR CI: -202.9 +/- 39.4\n",
      "\n",
      "Best VFA (9th) test... EETDR CI: -156.5 +/- 41.2\n",
      "\n",
      "Best VFA (10th) test... EETDR CI: -215.0 +/- 52.4\n"
     ]
    },
    {
     "data": {
      "text/html": [
       "<style>\n",
       "    table.wandb td:nth-child(1) { padding: 0 10px; text-align: left ; width: auto;} td:nth-child(2) {text-align: left ; width: 100%}\n",
       "    .wandb-row { display: flex; flex-direction: row; flex-wrap: wrap; justify-content: flex-start; width: 100% }\n",
       "    .wandb-col { display: flex; flex-direction: column; flex-basis: 100%; flex: 1; padding: 10px; }\n",
       "    </style>\n",
       "<div class=\"wandb-row\"><div class=\"wandb-col\"><h3>Run history:</h3><br/><table class=\"wandb\"><tr><td>Score</td><td>▁</td></tr><tr><td>hwAULC</td><td>▁</td></tr><tr><td>maxETDR</td><td>▁</td></tr><tr><td>maxETDRhw</td><td>▁</td></tr><tr><td>maxTestHW</td><td>▁</td></tr><tr><td>meanAULC</td><td>▁</td></tr><tr><td>meanMaxTestEETDR</td><td>▁</td></tr><tr><td>time</td><td>▁</td></tr></table><br/></div><div class=\"wandb-col\"><h3>Run summary:</h3><br/><table class=\"wandb\"><tr><td>Score</td><td>-206.22504</td></tr><tr><td>hwAULC</td><td>12.74374</td></tr><tr><td>maxETDR</td><td>-128.25238</td></tr><tr><td>maxETDRhw</td><td>28.53525</td></tr><tr><td>maxTestHW</td><td>18.8358</td></tr><tr><td>meanAULC</td><td>-237.2</td></tr><tr><td>meanMaxTestEETDR</td><td>-158.24345</td></tr><tr><td>time</td><td>15.93892</td></tr></table><br/></div></div>"
      ],
      "text/plain": [
       "<IPython.core.display.HTML object>"
      ]
     },
     "metadata": {},
     "output_type": "display_data"
    },
    {
     "data": {
      "text/html": [
       " View run <strong style=\"color:#cdcd00\">serene-sweep-2</strong> at: <a href='https://wandb.ai/no-organization-for-signup/my-first-sweep/runs/h2vf4xcv' target=\"_blank\">https://wandb.ai/no-organization-for-signup/my-first-sweep/runs/h2vf4xcv</a><br/> View project at: <a href='https://wandb.ai/no-organization-for-signup/my-first-sweep' target=\"_blank\">https://wandb.ai/no-organization-for-signup/my-first-sweep</a><br/>Synced 5 W&B file(s), 0 media file(s), 0 artifact file(s) and 0 other file(s)"
      ],
      "text/plain": [
       "<IPython.core.display.HTML object>"
      ]
     },
     "metadata": {},
     "output_type": "display_data"
    },
    {
     "data": {
      "text/html": [
       "Find logs at: <code>./wandb/run-20240608_220323-h2vf4xcv/logs</code>"
      ],
      "text/plain": [
       "<IPython.core.display.HTML object>"
      ]
     },
     "metadata": {},
     "output_type": "display_data"
    },
    {
     "name": "stderr",
     "output_type": "stream",
     "text": [
      "\u001b[34m\u001b[1mwandb\u001b[0m: Agent Starting Run: goibz9xe with config:\n",
      "\u001b[34m\u001b[1mwandb\u001b[0m: \talpha_a: 0.737093005649641\n",
      "\u001b[34m\u001b[1mwandb\u001b[0m: \talpha_b: 0.5223497008963991\n",
      "\u001b[34m\u001b[1mwandb\u001b[0m: \tclip: 8.704579630224703\n",
      "\u001b[34m\u001b[1mwandb\u001b[0m: \teps_a: 0.13274280633793123\n",
      "\u001b[34m\u001b[1mwandb\u001b[0m: \teps_b: 0.8398757813013542\n",
      "\u001b[34m\u001b[1mwandb\u001b[0m: \tlam_a: 0.6497711201913633\n",
      "\u001b[34m\u001b[1mwandb\u001b[0m: \tlam_b: 0.7523846152147713\n",
      "Failed to detect the name of this notebook, you can set it manually with the WANDB_NOTEBOOK_NAME environment variable to enable code saving.\n"
     ]
    },
    {
     "data": {
      "text/html": [
       "Tracking run with wandb version 0.17.1"
      ],
      "text/plain": [
       "<IPython.core.display.HTML object>"
      ]
     },
     "metadata": {},
     "output_type": "display_data"
    },
    {
     "data": {
      "text/html": [
       "Run data is saved locally in <code>/Users/brandonhosley/Documents/GitHub/Schoolwork/2024Q2 - Reinforcement Learning/Project/src/wandb/run-20240608_220617-goibz9xe</code>"
      ],
      "text/plain": [
       "<IPython.core.display.HTML object>"
      ]
     },
     "metadata": {},
     "output_type": "display_data"
    },
    {
     "data": {
      "text/html": [
       "Syncing run <strong><a href='https://wandb.ai/no-organization-for-signup/my-first-sweep/runs/goibz9xe' target=\"_blank\">dry-sweep-3</a></strong> to <a href='https://wandb.ai/no-organization-for-signup/my-first-sweep' target=\"_blank\">Weights & Biases</a> (<a href='https://wandb.me/run' target=\"_blank\">docs</a>)<br/>Sweep page: <a href='https://wandb.ai/no-organization-for-signup/my-first-sweep/sweeps/1yz34i1l' target=\"_blank\">https://wandb.ai/no-organization-for-signup/my-first-sweep/sweeps/1yz34i1l</a>"
      ],
      "text/plain": [
       "<IPython.core.display.HTML object>"
      ]
     },
     "metadata": {},
     "output_type": "display_data"
    },
    {
     "data": {
      "text/html": [
       " View project at <a href='https://wandb.ai/no-organization-for-signup/my-first-sweep' target=\"_blank\">https://wandb.ai/no-organization-for-signup/my-first-sweep</a>"
      ],
      "text/plain": [
       "<IPython.core.display.HTML object>"
      ]
     },
     "metadata": {},
     "output_type": "display_data"
    },
    {
     "data": {
      "text/html": [
       " View sweep at <a href='https://wandb.ai/no-organization-for-signup/my-first-sweep/sweeps/1yz34i1l' target=\"_blank\">https://wandb.ai/no-organization-for-signup/my-first-sweep/sweeps/1yz34i1l</a>"
      ],
      "text/plain": [
       "<IPython.core.display.HTML object>"
      ]
     },
     "metadata": {},
     "output_type": "display_data"
    },
    {
     "data": {
      "text/html": [
       " View run at <a href='https://wandb.ai/no-organization-for-signup/my-first-sweep/runs/goibz9xe' target=\"_blank\">https://wandb.ai/no-organization-for-signup/my-first-sweep/runs/goibz9xe</a>"
      ],
      "text/plain": [
       "<IPython.core.display.HTML object>"
      ]
     },
     "metadata": {},
     "output_type": "display_data"
    },
    {
     "name": "stdout",
     "output_type": "stream",
     "text": [
      "\n",
      "SARSA(alpha_a=0.74,alpha_b=0.52,eps_a=0.13,eps_b=0.84, lam_a rep0...\n",
      "IHT full, starting to allow collisions\n",
      "\n",
      "SARSA(alpha_a=0.74,alpha_b=0.52,eps_a=0.13,eps_b=0.84, lam_a rep1...\n",
      "IHT full, starting to allow collisions\n",
      "\n",
      "SARSA(alpha_a=0.74,alpha_b=0.52,eps_a=0.13,eps_b=0.84, lam_a rep2...\n",
      "IHT full, starting to allow collisions\n",
      "\n",
      "SARSA(alpha_a=0.74,alpha_b=0.52,eps_a=0.13,eps_b=0.84, lam_a rep3...\n",
      "IHT full, starting to allow collisions\n",
      "\n",
      "SARSA(alpha_a=0.74,alpha_b=0.52,eps_a=0.13,eps_b=0.84, lam_a rep4...\n",
      "IHT full, starting to allow collisions\n",
      "\n",
      "SARSA(alpha_a=0.74,alpha_b=0.52,eps_a=0.13,eps_b=0.84, lam_a rep5...\n",
      "IHT full, starting to allow collisions\n",
      "\n",
      "SARSA(alpha_a=0.74,alpha_b=0.52,eps_a=0.13,eps_b=0.84, lam_a rep6...\n",
      "IHT full, starting to allow collisions\n",
      "\n",
      "SARSA(alpha_a=0.74,alpha_b=0.52,eps_a=0.13,eps_b=0.84, lam_a rep7...\n",
      "IHT full, starting to allow collisions\n",
      "\n",
      "SARSA(alpha_a=0.74,alpha_b=0.52,eps_a=0.13,eps_b=0.84, lam_a rep8...\n",
      "IHT full, starting to allow collisions\n",
      "\n",
      "SARSA(alpha_a=0.74,alpha_b=0.52,eps_a=0.13,eps_b=0.84, lam_a rep9...\n",
      "IHT full, starting to allow collisions\n",
      "Executed 10 algorithm reps in 133.7998 seconds.\n",
      "\n",
      "Best VFA (1st) test... EETDR CI: -111.5 +/- 30.8\n",
      "\n",
      "Best VFA (2nd) test... EETDR CI: -139.5 +/- 43.3\n",
      "\n",
      "Best VFA (3rd) test... EETDR CI: -119.2 +/- 31.9\n",
      "\n",
      "Best VFA (4th) test... EETDR CI: -158.1 +/- 36.8\n",
      "\n",
      "Best VFA (5th) test... EETDR CI: -139.4 +/- 41.6\n",
      "\n",
      "Best VFA (6th) test... EETDR CI: -130.3 +/- 26.5\n",
      "\n",
      "Best VFA (7th) test... EETDR CI: -140.7 +/- 45.7\n",
      "\n",
      "Best VFA (8th) test... EETDR CI: -166.7 +/- 49.6\n",
      "\n",
      "Best VFA (9th) test... EETDR CI: -139.5 +/- 34.6\n",
      "\n",
      "Best VFA (10th) test... EETDR CI: -140.2 +/- 44.7\n"
     ]
    },
    {
     "data": {
      "text/html": [
       "<style>\n",
       "    table.wandb td:nth-child(1) { padding: 0 10px; text-align: left ; width: auto;} td:nth-child(2) {text-align: left ; width: 100%}\n",
       "    .wandb-row { display: flex; flex-direction: row; flex-wrap: wrap; justify-content: flex-start; width: 100% }\n",
       "    .wandb-col { display: flex; flex-direction: column; flex-basis: 100%; flex: 1; padding: 10px; }\n",
       "    </style>\n",
       "<div class=\"wandb-row\"><div class=\"wandb-col\"><h3>Run history:</h3><br/><table class=\"wandb\"><tr><td>Score</td><td>▁</td></tr><tr><td>hwAULC</td><td>▁</td></tr><tr><td>maxETDR</td><td>▁</td></tr><tr><td>maxETDRhw</td><td>▁</td></tr><tr><td>maxTestHW</td><td>▁</td></tr><tr><td>meanAULC</td><td>▁</td></tr><tr><td>meanMaxTestEETDR</td><td>▁</td></tr><tr><td>time</td><td>▁</td></tr></table><br/></div><div class=\"wandb-col\"><h3>Run summary:</h3><br/><table class=\"wandb\"><tr><td>Score</td><td>-206.21553</td></tr><tr><td>hwAULC</td><td>12.58644</td></tr><tr><td>maxETDR</td><td>-111.45057</td></tr><tr><td>maxETDRhw</td><td>30.75224</td></tr><tr><td>maxTestHW</td><td>15.64748</td></tr><tr><td>meanAULC</td><td>-237.7</td></tr><tr><td>meanMaxTestEETDR</td><td>-161.18744</td></tr><tr><td>time</td><td>13.37998</td></tr></table><br/></div></div>"
      ],
      "text/plain": [
       "<IPython.core.display.HTML object>"
      ]
     },
     "metadata": {},
     "output_type": "display_data"
    },
    {
     "data": {
      "text/html": [
       " View run <strong style=\"color:#cdcd00\">dry-sweep-3</strong> at: <a href='https://wandb.ai/no-organization-for-signup/my-first-sweep/runs/goibz9xe' target=\"_blank\">https://wandb.ai/no-organization-for-signup/my-first-sweep/runs/goibz9xe</a><br/> View project at: <a href='https://wandb.ai/no-organization-for-signup/my-first-sweep' target=\"_blank\">https://wandb.ai/no-organization-for-signup/my-first-sweep</a><br/>Synced 5 W&B file(s), 0 media file(s), 0 artifact file(s) and 0 other file(s)"
      ],
      "text/plain": [
       "<IPython.core.display.HTML object>"
      ]
     },
     "metadata": {},
     "output_type": "display_data"
    },
    {
     "data": {
      "text/html": [
       "Find logs at: <code>./wandb/run-20240608_220617-goibz9xe/logs</code>"
      ],
      "text/plain": [
       "<IPython.core.display.HTML object>"
      ]
     },
     "metadata": {},
     "output_type": "display_data"
    },
    {
     "name": "stderr",
     "output_type": "stream",
     "text": [
      "\u001b[34m\u001b[1mwandb\u001b[0m: Agent Starting Run: pqa3qima with config:\n",
      "\u001b[34m\u001b[1mwandb\u001b[0m: \talpha_a: 0.4254571916432072\n",
      "\u001b[34m\u001b[1mwandb\u001b[0m: \talpha_b: 0.1939835738938157\n",
      "\u001b[34m\u001b[1mwandb\u001b[0m: \tclip: 11.4923281202113\n",
      "\u001b[34m\u001b[1mwandb\u001b[0m: \teps_a: 0.9673757073585032\n",
      "\u001b[34m\u001b[1mwandb\u001b[0m: \teps_b: 0.7700103256989318\n",
      "\u001b[34m\u001b[1mwandb\u001b[0m: \tlam_a: 0.35419186309287065\n",
      "\u001b[34m\u001b[1mwandb\u001b[0m: \tlam_b: 0.11759977642270714\n",
      "Failed to detect the name of this notebook, you can set it manually with the WANDB_NOTEBOOK_NAME environment variable to enable code saving.\n"
     ]
    },
    {
     "data": {
      "text/html": [
       "Tracking run with wandb version 0.17.1"
      ],
      "text/plain": [
       "<IPython.core.display.HTML object>"
      ]
     },
     "metadata": {},
     "output_type": "display_data"
    },
    {
     "data": {
      "text/html": [
       "Run data is saved locally in <code>/Users/brandonhosley/Documents/GitHub/Schoolwork/2024Q2 - Reinforcement Learning/Project/src/wandb/run-20240608_220844-pqa3qima</code>"
      ],
      "text/plain": [
       "<IPython.core.display.HTML object>"
      ]
     },
     "metadata": {},
     "output_type": "display_data"
    },
    {
     "data": {
      "text/html": [
       "Syncing run <strong><a href='https://wandb.ai/no-organization-for-signup/my-first-sweep/runs/pqa3qima' target=\"_blank\">cosmic-sweep-4</a></strong> to <a href='https://wandb.ai/no-organization-for-signup/my-first-sweep' target=\"_blank\">Weights & Biases</a> (<a href='https://wandb.me/run' target=\"_blank\">docs</a>)<br/>Sweep page: <a href='https://wandb.ai/no-organization-for-signup/my-first-sweep/sweeps/1yz34i1l' target=\"_blank\">https://wandb.ai/no-organization-for-signup/my-first-sweep/sweeps/1yz34i1l</a>"
      ],
      "text/plain": [
       "<IPython.core.display.HTML object>"
      ]
     },
     "metadata": {},
     "output_type": "display_data"
    },
    {
     "data": {
      "text/html": [
       " View project at <a href='https://wandb.ai/no-organization-for-signup/my-first-sweep' target=\"_blank\">https://wandb.ai/no-organization-for-signup/my-first-sweep</a>"
      ],
      "text/plain": [
       "<IPython.core.display.HTML object>"
      ]
     },
     "metadata": {},
     "output_type": "display_data"
    },
    {
     "data": {
      "text/html": [
       " View sweep at <a href='https://wandb.ai/no-organization-for-signup/my-first-sweep/sweeps/1yz34i1l' target=\"_blank\">https://wandb.ai/no-organization-for-signup/my-first-sweep/sweeps/1yz34i1l</a>"
      ],
      "text/plain": [
       "<IPython.core.display.HTML object>"
      ]
     },
     "metadata": {},
     "output_type": "display_data"
    },
    {
     "data": {
      "text/html": [
       " View run at <a href='https://wandb.ai/no-organization-for-signup/my-first-sweep/runs/pqa3qima' target=\"_blank\">https://wandb.ai/no-organization-for-signup/my-first-sweep/runs/pqa3qima</a>"
      ],
      "text/plain": [
       "<IPython.core.display.HTML object>"
      ]
     },
     "metadata": {},
     "output_type": "display_data"
    },
    {
     "name": "stdout",
     "output_type": "stream",
     "text": [
      "\n",
      "SARSA(alpha_a=0.43,alpha_b=0.19,eps_a=0.97,eps_b=0.77, lam_a rep0...\n",
      "IHT full, starting to allow collisions\n",
      "\n",
      "SARSA(alpha_a=0.43,alpha_b=0.19,eps_a=0.97,eps_b=0.77, lam_a rep1...\n",
      "IHT full, starting to allow collisions\n",
      "\n",
      "SARSA(alpha_a=0.43,alpha_b=0.19,eps_a=0.97,eps_b=0.77, lam_a rep2...\n",
      "IHT full, starting to allow collisions\n",
      "\n",
      "SARSA(alpha_a=0.43,alpha_b=0.19,eps_a=0.97,eps_b=0.77, lam_a rep3...\n",
      "IHT full, starting to allow collisions\n",
      "\n",
      "SARSA(alpha_a=0.43,alpha_b=0.19,eps_a=0.97,eps_b=0.77, lam_a rep4...\n",
      "IHT full, starting to allow collisions\n",
      "\n",
      "SARSA(alpha_a=0.43,alpha_b=0.19,eps_a=0.97,eps_b=0.77, lam_a rep5...\n",
      "IHT full, starting to allow collisions\n",
      "\n",
      "SARSA(alpha_a=0.43,alpha_b=0.19,eps_a=0.97,eps_b=0.77, lam_a rep6...\n",
      "IHT full, starting to allow collisions\n",
      "\n",
      "SARSA(alpha_a=0.43,alpha_b=0.19,eps_a=0.97,eps_b=0.77, lam_a rep7...\n",
      "IHT full, starting to allow collisions\n",
      "\n",
      "SARSA(alpha_a=0.43,alpha_b=0.19,eps_a=0.97,eps_b=0.77, lam_a rep8...\n",
      "IHT full, starting to allow collisions\n",
      "\n",
      "SARSA(alpha_a=0.43,alpha_b=0.19,eps_a=0.97,eps_b=0.77, lam_a rep9...\n",
      "IHT full, starting to allow collisions\n",
      "Executed 10 algorithm reps in 117.4486 seconds.\n",
      "\n",
      "Best VFA (1st) test... EETDR CI:  -59.5 +/- 34.0\n",
      "\n",
      "Best VFA (2nd) test... EETDR CI:  -92.5 +/- 32.5\n",
      "\n",
      "Best VFA (3rd) test... EETDR CI:  -84.9 +/- 23.5\n",
      "\n",
      "Best VFA (4th) test... EETDR CI: -108.8 +/- 51.6\n",
      "\n",
      "Best VFA (5th) test... EETDR CI: -107.7 +/- 17.7\n",
      "\n",
      "Best VFA (6th) test... EETDR CI: -137.8 +/- 12.4\n",
      "\n",
      "Best VFA (7th) test... EETDR CI: -104.5 +/- 36.8\n",
      "\n",
      "Best VFA (8th) test... EETDR CI:  -30.8 +/- 33.2\n",
      "\n",
      "Best VFA (9th) test... EETDR CI:  -76.3 +/- 16.2\n",
      "\n",
      "Best VFA (10th) test... EETDR CI: -119.0 +/- 25.4\n"
     ]
    },
    {
     "data": {
      "text/html": [
       "<style>\n",
       "    table.wandb td:nth-child(1) { padding: 0 10px; text-align: left ; width: auto;} td:nth-child(2) {text-align: left ; width: 100%}\n",
       "    .wandb-row { display: flex; flex-direction: row; flex-wrap: wrap; justify-content: flex-start; width: 100% }\n",
       "    .wandb-col { display: flex; flex-direction: column; flex-basis: 100%; flex: 1; padding: 10px; }\n",
       "    </style>\n",
       "<div class=\"wandb-row\"><div class=\"wandb-col\"><h3>Run history:</h3><br/><table class=\"wandb\"><tr><td>Score</td><td>▁</td></tr><tr><td>hwAULC</td><td>▁</td></tr><tr><td>maxETDR</td><td>▁</td></tr><tr><td>maxETDRhw</td><td>▁</td></tr><tr><td>maxTestHW</td><td>▁</td></tr><tr><td>meanAULC</td><td>▁</td></tr><tr><td>meanMaxTestEETDR</td><td>▁</td></tr><tr><td>time</td><td>▁</td></tr></table><br/></div><div class=\"wandb-col\"><h3>Run summary:</h3><br/><table class=\"wandb\"><tr><td>Score</td><td>-192.31511</td></tr><tr><td>hwAULC</td><td>26.8719</td></tr><tr><td>maxETDR</td><td>-30.80004</td></tr><tr><td>maxETDRhw</td><td>33.23164</td></tr><tr><td>maxTestHW</td><td>22.63874</td></tr><tr><td>meanAULC</td><td>-234.7</td></tr><tr><td>meanMaxTestEETDR</td><td>-123.50518</td></tr><tr><td>time</td><td>11.74486</td></tr></table><br/></div></div>"
      ],
      "text/plain": [
       "<IPython.core.display.HTML object>"
      ]
     },
     "metadata": {},
     "output_type": "display_data"
    },
    {
     "data": {
      "text/html": [
       " View run <strong style=\"color:#cdcd00\">cosmic-sweep-4</strong> at: <a href='https://wandb.ai/no-organization-for-signup/my-first-sweep/runs/pqa3qima' target=\"_blank\">https://wandb.ai/no-organization-for-signup/my-first-sweep/runs/pqa3qima</a><br/> View project at: <a href='https://wandb.ai/no-organization-for-signup/my-first-sweep' target=\"_blank\">https://wandb.ai/no-organization-for-signup/my-first-sweep</a><br/>Synced 5 W&B file(s), 0 media file(s), 0 artifact file(s) and 0 other file(s)"
      ],
      "text/plain": [
       "<IPython.core.display.HTML object>"
      ]
     },
     "metadata": {},
     "output_type": "display_data"
    },
    {
     "data": {
      "text/html": [
       "Find logs at: <code>./wandb/run-20240608_220844-pqa3qima/logs</code>"
      ],
      "text/plain": [
       "<IPython.core.display.HTML object>"
      ]
     },
     "metadata": {},
     "output_type": "display_data"
    },
    {
     "name": "stderr",
     "output_type": "stream",
     "text": [
      "\u001b[34m\u001b[1mwandb\u001b[0m: Agent Starting Run: 6idupv4s with config:\n",
      "\u001b[34m\u001b[1mwandb\u001b[0m: \talpha_a: 0.9805171205912812\n",
      "\u001b[34m\u001b[1mwandb\u001b[0m: \talpha_b: 0.6349218155040485\n",
      "\u001b[34m\u001b[1mwandb\u001b[0m: \tclip: 10.424551951733289\n",
      "\u001b[34m\u001b[1mwandb\u001b[0m: \teps_a: 0.8633638493502641\n",
      "\u001b[34m\u001b[1mwandb\u001b[0m: \teps_b: 0.48605076518991186\n",
      "\u001b[34m\u001b[1mwandb\u001b[0m: \tlam_a: 0.8913180887743639\n",
      "\u001b[34m\u001b[1mwandb\u001b[0m: \tlam_b: 0.6539351291454408\n",
      "Failed to detect the name of this notebook, you can set it manually with the WANDB_NOTEBOOK_NAME environment variable to enable code saving.\n"
     ]
    },
    {
     "data": {
      "text/html": [
       "Tracking run with wandb version 0.17.1"
      ],
      "text/plain": [
       "<IPython.core.display.HTML object>"
      ]
     },
     "metadata": {},
     "output_type": "display_data"
    },
    {
     "data": {
      "text/html": [
       "Run data is saved locally in <code>/Users/brandonhosley/Documents/GitHub/Schoolwork/2024Q2 - Reinforcement Learning/Project/src/wandb/run-20240608_221053-6idupv4s</code>"
      ],
      "text/plain": [
       "<IPython.core.display.HTML object>"
      ]
     },
     "metadata": {},
     "output_type": "display_data"
    },
    {
     "data": {
      "text/html": [
       "Syncing run <strong><a href='https://wandb.ai/no-organization-for-signup/my-first-sweep/runs/6idupv4s' target=\"_blank\">flowing-sweep-5</a></strong> to <a href='https://wandb.ai/no-organization-for-signup/my-first-sweep' target=\"_blank\">Weights & Biases</a> (<a href='https://wandb.me/run' target=\"_blank\">docs</a>)<br/>Sweep page: <a href='https://wandb.ai/no-organization-for-signup/my-first-sweep/sweeps/1yz34i1l' target=\"_blank\">https://wandb.ai/no-organization-for-signup/my-first-sweep/sweeps/1yz34i1l</a>"
      ],
      "text/plain": [
       "<IPython.core.display.HTML object>"
      ]
     },
     "metadata": {},
     "output_type": "display_data"
    },
    {
     "data": {
      "text/html": [
       " View project at <a href='https://wandb.ai/no-organization-for-signup/my-first-sweep' target=\"_blank\">https://wandb.ai/no-organization-for-signup/my-first-sweep</a>"
      ],
      "text/plain": [
       "<IPython.core.display.HTML object>"
      ]
     },
     "metadata": {},
     "output_type": "display_data"
    },
    {
     "data": {
      "text/html": [
       " View sweep at <a href='https://wandb.ai/no-organization-for-signup/my-first-sweep/sweeps/1yz34i1l' target=\"_blank\">https://wandb.ai/no-organization-for-signup/my-first-sweep/sweeps/1yz34i1l</a>"
      ],
      "text/plain": [
       "<IPython.core.display.HTML object>"
      ]
     },
     "metadata": {},
     "output_type": "display_data"
    },
    {
     "data": {
      "text/html": [
       " View run at <a href='https://wandb.ai/no-organization-for-signup/my-first-sweep/runs/6idupv4s' target=\"_blank\">https://wandb.ai/no-organization-for-signup/my-first-sweep/runs/6idupv4s</a>"
      ],
      "text/plain": [
       "<IPython.core.display.HTML object>"
      ]
     },
     "metadata": {},
     "output_type": "display_data"
    },
    {
     "name": "stdout",
     "output_type": "stream",
     "text": [
      "\n",
      "SARSA(alpha_a=0.98,alpha_b=0.63,eps_a=0.86,eps_b=0.49, lam_a rep0...\n",
      "IHT full, starting to allow collisions\n",
      "\n",
      "SARSA(alpha_a=0.98,alpha_b=0.63,eps_a=0.86,eps_b=0.49, lam_a rep1...\n",
      "IHT full, starting to allow collisions\n",
      "\n",
      "SARSA(alpha_a=0.98,alpha_b=0.63,eps_a=0.86,eps_b=0.49, lam_a rep2...\n",
      "IHT full, starting to allow collisions\n",
      "\n",
      "SARSA(alpha_a=0.98,alpha_b=0.63,eps_a=0.86,eps_b=0.49, lam_a rep3...\n",
      "IHT full, starting to allow collisions\n",
      "\n",
      "SARSA(alpha_a=0.98,alpha_b=0.63,eps_a=0.86,eps_b=0.49, lam_a rep4...\n",
      "IHT full, starting to allow collisions\n",
      "\n",
      "SARSA(alpha_a=0.98,alpha_b=0.63,eps_a=0.86,eps_b=0.49, lam_a rep5...\n",
      "IHT full, starting to allow collisions\n",
      "\n",
      "SARSA(alpha_a=0.98,alpha_b=0.63,eps_a=0.86,eps_b=0.49, lam_a rep6...\n",
      "IHT full, starting to allow collisions\n",
      "\n",
      "SARSA(alpha_a=0.98,alpha_b=0.63,eps_a=0.86,eps_b=0.49, lam_a rep7...\n",
      "IHT full, starting to allow collisions\n",
      "\n",
      "SARSA(alpha_a=0.98,alpha_b=0.63,eps_a=0.86,eps_b=0.49, lam_a rep8...\n",
      "IHT full, starting to allow collisions\n",
      "\n",
      "SARSA(alpha_a=0.98,alpha_b=0.63,eps_a=0.86,eps_b=0.49, lam_a rep9...\n",
      "IHT full, starting to allow collisions\n",
      "Executed 10 algorithm reps in 165.5677 seconds.\n",
      "\n",
      "Best VFA (1st) test... EETDR CI: -161.0 +/- 43.9\n",
      "\n",
      "Best VFA (2nd) test... EETDR CI: -137.0 +/- 28.9\n",
      "\n",
      "Best VFA (3rd) test... EETDR CI: -144.4 +/- 48.2\n",
      "\n",
      "Best VFA (4th) test... EETDR CI: -141.0 +/- 34.7\n",
      "\n",
      "Best VFA (5th) test... EETDR CI: -201.5 +/- 54.7\n",
      "\n",
      "Best VFA (6th) test... EETDR CI: -206.1 +/- 65.1\n",
      "\n",
      "Best VFA (7th) test... EETDR CI: -152.1 +/- 42.3\n",
      "\n",
      "Best VFA (8th) test... EETDR CI: -231.6 +/- 62.5\n",
      "\n",
      "Best VFA (9th) test... EETDR CI: -180.5 +/- 35.0\n",
      "\n",
      "Best VFA (10th) test... EETDR CI: -163.9 +/- 51.5\n"
     ]
    },
    {
     "data": {
      "text/html": [
       "<style>\n",
       "    table.wandb td:nth-child(1) { padding: 0 10px; text-align: left ; width: auto;} td:nth-child(2) {text-align: left ; width: 100%}\n",
       "    .wandb-row { display: flex; flex-direction: row; flex-wrap: wrap; justify-content: flex-start; width: 100% }\n",
       "    .wandb-col { display: flex; flex-direction: column; flex-basis: 100%; flex: 1; padding: 10px; }\n",
       "    </style>\n",
       "<div class=\"wandb-row\"><div class=\"wandb-col\"><h3>Run history:</h3><br/><table class=\"wandb\"><tr><td>Score</td><td>▁</td></tr><tr><td>hwAULC</td><td>▁</td></tr><tr><td>maxETDR</td><td>▁</td></tr><tr><td>maxETDRhw</td><td>▁</td></tr><tr><td>maxTestHW</td><td>▁</td></tr><tr><td>meanAULC</td><td>▁</td></tr><tr><td>meanMaxTestEETDR</td><td>▁</td></tr><tr><td>time</td><td>▁</td></tr></table><br/></div><div class=\"wandb-col\"><h3>Run summary:</h3><br/><table class=\"wandb\"><tr><td>Score</td><td>-185.54891</td></tr><tr><td>hwAULC</td><td>11.80448</td></tr><tr><td>maxETDR</td><td>-136.95952</td></tr><tr><td>maxETDRhw</td><td>28.88084</td></tr><tr><td>maxTestHW</td><td>14.90309</td></tr><tr><td>meanAULC</td><td>-219.1</td></tr><tr><td>meanMaxTestEETDR</td><td>-140.40877</td></tr><tr><td>time</td><td>16.55677</td></tr></table><br/></div></div>"
      ],
      "text/plain": [
       "<IPython.core.display.HTML object>"
      ]
     },
     "metadata": {},
     "output_type": "display_data"
    },
    {
     "data": {
      "text/html": [
       " View run <strong style=\"color:#cdcd00\">flowing-sweep-5</strong> at: <a href='https://wandb.ai/no-organization-for-signup/my-first-sweep/runs/6idupv4s' target=\"_blank\">https://wandb.ai/no-organization-for-signup/my-first-sweep/runs/6idupv4s</a><br/> View project at: <a href='https://wandb.ai/no-organization-for-signup/my-first-sweep' target=\"_blank\">https://wandb.ai/no-organization-for-signup/my-first-sweep</a><br/>Synced 5 W&B file(s), 0 media file(s), 0 artifact file(s) and 0 other file(s)"
      ],
      "text/plain": [
       "<IPython.core.display.HTML object>"
      ]
     },
     "metadata": {},
     "output_type": "display_data"
    },
    {
     "data": {
      "text/html": [
       "Find logs at: <code>./wandb/run-20240608_221053-6idupv4s/logs</code>"
      ],
      "text/plain": [
       "<IPython.core.display.HTML object>"
      ]
     },
     "metadata": {},
     "output_type": "display_data"
    }
   ],
   "source": [
    "import wandb\n",
    "from LambdaSARSA import LambdaSARSA\n",
    "\n",
    "sweep_config = {\n",
    "    \"method\": \"random\",\n",
    "    \"name\": \"sweep\",\n",
    "    \"metric\": {\"goal\": \"maximize\", \"name\": \"Score\"},\n",
    "    'parameters': {\n",
    "        'alpha_a': {'distribution': 'uniform', 'min': 0, 'max': 1},\n",
    "        'alpha_b': {'distribution': 'uniform', 'min': 0, 'max': 1},\n",
    "        'eps_a': {'distribution': 'uniform', 'min': 0, 'max': 1},\n",
    "        'eps_b': {'distribution': 'uniform', 'min': 0, 'max': 1},\n",
    "        'lam_a': {'distribution': 'uniform', 'min': 0, 'max': 1},\n",
    "        'lam_b': {'distribution': 'uniform', 'min': 0, 'max': 1},\n",
    "        'clip': {'distribution': 'uniform', 'min': 5, 'max': 15},\n",
    "    }\n",
    "}\n",
    "\n",
    "#wandb.init(project=\"DSOR 646 - Final\")\n",
    "sweep_id = wandb.sweep(sweep=sweep_config, project=\"my-first-sweep\")\n",
    "\n",
    "import gymnasium as gym\n",
    "env = gym.make('LunarLander-v2')\n",
    "\n",
    "def main():\n",
    "    run = wandb.init()\n",
    "    model = LambdaSARSA(env,\n",
    "        alpha_a = wandb.config.alpha_a,\n",
    "        alpha_b = wandb.config.alpha_b,\n",
    "        eps_a = wandb.config.eps_a,\n",
    "        eps_b = wandb.config.eps_b,\n",
    "        lam_a = wandb.config.lam_a,\n",
    "        lam_b = wandb.config.lam_b,\n",
    "        clip = wandb.config.clip\n",
    "        )\n",
    "    model.train(num_replications=10,num_episodes=300)\n",
    "    maxETDR, maxETDRhw, meanMaxTestEETDR, maxTestHW, meanAULC, hwAULC, time = model.get_results()\n",
    "    alg_score = 0.6*(meanMaxTestEETDR-maxTestHW) + 0.4*(meanAULC-hwAULC)\n",
    "    wandb.log({\n",
    "            \"maxETDR\": maxETDR,\n",
    "            \"maxETDRhw\": maxETDRhw,\n",
    "            \"meanMaxTestEETDR\": meanMaxTestEETDR,\n",
    "            \"maxTestHW\": maxTestHW,\n",
    "            \"meanAULC\": meanAULC,\n",
    "            \"hwAULC\": hwAULC,\n",
    "            \"time\": time,\n",
    "            \"Score\": alg_score\n",
    "        })\n",
    "\n",
    "# Start sweep job.\n",
    "wandb.agent(sweep_id, function=main, count=5)"
   ]
  },
  {
   "cell_type": "code",
   "execution_count": 5,
   "metadata": {},
   "outputs": [
    {
     "name": "stdout",
     "output_type": "stream",
     "text": [
      "\n",
      "SARSA(alpha_a=1.00,alpha_b=0.50,eps_a=1.00,eps_b=0.50, lam_a rep0...\n",
      "IHT full, starting to allow collisions\n",
      "\n",
      "SARSA(alpha_a=1.00,alpha_b=0.50,eps_a=1.00,eps_b=0.50, lam_a rep1...\n",
      "IHT full, starting to allow collisions\n",
      "\n",
      "SARSA(alpha_a=1.00,alpha_b=0.50,eps_a=1.00,eps_b=0.50, lam_a rep2...\n",
      "IHT full, starting to allow collisions\n",
      "\n",
      "SARSA(alpha_a=1.00,alpha_b=0.50,eps_a=1.00,eps_b=0.50, lam_a rep3...\n",
      "IHT full, starting to allow collisions\n",
      "\n",
      "SARSA(alpha_a=1.00,alpha_b=0.50,eps_a=1.00,eps_b=0.50, lam_a rep4...\n",
      "IHT full, starting to allow collisions\n",
      "Executed 5 algorithm reps in 45.5740 seconds.\n",
      "\n",
      "Best VFA (1st) test... EETDR CI:  -54.2 +/- 33.9\n",
      "\n",
      "Best VFA (2nd) test... EETDR CI: -114.2 +/- 25.1\n",
      "\n",
      "Best VFA (3rd) test... EETDR CI: -129.7 +/- 49.0\n",
      "IHT full, starting to allow collisions\n",
      "\n",
      "Best VFA (4th) test... EETDR CI: -112.0 +/- 25.4\n",
      "\n",
      "Best VFA (5th) test... EETDR CI:  -99.8 +/- 35.7\n",
      "\n",
      "Best VFA (6th) test... EETDR CI: -154.0 +/- 34.2\n",
      "\n",
      "Best VFA (7th) test... EETDR CI: -132.7 +/- 37.3\n",
      "\n",
      "Best VFA (8th) test... EETDR CI: -162.7 +/- 38.2\n",
      "\n",
      "Best VFA (9th) test... EETDR CI: -172.2 +/- 45.3\n",
      "\n",
      "Best VFA (10th) test... EETDR CI: -149.2 +/- 44.1\n",
      "\n",
      "Best VFA (1st) test... EETDR CI:  -54.2 +/- 33.9\n",
      "\n",
      "Best VFA (2nd) test... EETDR CI: -114.2 +/- 25.1\n",
      "\n",
      "Best VFA (3rd) test... EETDR CI: -129.7 +/- 49.0\n",
      "\n",
      "Best VFA (4th) test... EETDR CI: -112.0 +/- 25.4\n",
      "\n",
      "Best VFA (5th) test... EETDR CI:  -99.8 +/- 35.7\n",
      "\n",
      "Best VFA (6th) test... EETDR CI: -154.0 +/- 34.2\n",
      "\n",
      "Best VFA (7th) test... EETDR CI: -132.7 +/- 37.3\n",
      "\n",
      "Best VFA (8th) test... EETDR CI: -162.7 +/- 38.2\n",
      "\n",
      "Best VFA (9th) test... EETDR CI: -172.2 +/- 45.3\n",
      "\n",
      "Best VFA (10th) test... EETDR CI: -149.2 +/- 44.1\n"
     ]
    },
    {
     "data": {
      "image/png": "[encoded data removed]",
      "text/plain": [
       "<Figure size 640x480 with 1 Axes>"
      ]
     },
     "metadata": {},
     "output_type": "display_data"
    }
   ],
   "source": [
    "from LambdaSARSA import LambdaSARSA\n",
    "import gymnasium as gym\n",
    "\n",
    "env = gym.make('LunarLander-v2')\n",
    "lam_sarsa = LambdaSARSA(env)\n",
    "lam_sarsa.train(num_replications=5, num_episodes=200)\n",
    "lam_sarsa.get_results()\n",
    "lam_sarsa.show_results()"
   ]
  },
  {
   "cell_type": "code",
   "execution_count": null,
   "metadata": {},
   "outputs": [],
   "source": [
    "import wandb\n",
    "from SemiGradSARSA import SemiGradSARSA\n",
    "\n",
    "sweep_config = {\n",
    "    \"method\": \"random\",\n",
    "    \"name\": \"sweep\",\n",
    "    \"metric\": {\"goal\": \"maximize\", \"name\": \"Score\"},\n",
    "    'parameters': {\n",
    "        'alpha_a': {'distribution': 'uniform', 'min': 0, 'max': 1},\n",
    "        'alpha_b': {'distribution': 'uniform', 'min': 0, 'max': 1},\n",
    "        'eps_a': {'distribution': 'uniform', 'min': 0, 'max': 1},\n",
    "        'eps_b': {'distribution': 'uniform', 'min': 0, 'max': 1},\n",
    "        'n': {\"values\": [1,2,4,8,16,32]},\n",
    "    }\n",
    "}\n",
    "\n",
    "#wandb.init(project=\"DSOR 646 - Final\")\n",
    "sweep_id = wandb.sweep(sweep=sweep_config, project=\"my-first-sweep\")\n",
    "\n",
    "import gymnasium as gym\n",
    "env = gym.make('LunarLander-v2')\n",
    "\n",
    "def main():\n",
    "    run = wandb.init()\n",
    "    model = SemiGradSARSA(env,\n",
    "        alpha_a = wandb.config.alpha_a,\n",
    "        alpha_b = wandb.config.alpha_b,\n",
    "        eps_a = wandb.config.eps_a,\n",
    "        eps_b = wandb.config.eps_b,\n",
    "        n = wandb.config.n\n",
    "        )\n",
    "    model.train(num_replications=10,num_episodes=300)\n",
    "    maxETDR, maxETDRhw, meanMaxTestEETDR, maxTestHW, meanAULC, hwAULC, time = model.get_results()\n",
    "    alg_score = 0.6*(meanMaxTestEETDR-maxTestHW) + 0.4*(meanAULC-hwAULC)\n",
    "    wandb.log({\n",
    "            \"maxETDR\": maxETDR,\n",
    "            \"maxETDRhw\": maxETDRhw,\n",
    "            \"meanMaxTestEETDR\": meanMaxTestEETDR,\n",
    "            \"maxTestHW\": maxTestHW,\n",
    "            \"meanAULC\": meanAULC,\n",
    "            \"hwAULC\": hwAULC,\n",
    "            \"time\": time,\n",
    "            \"Score\": alg_score\n",
    "        })\n",
    "\n",
    "# Start sweep job.\n",
    "wandb.agent(sweep_id, function=main, count=5)"
   ]
  },
  {
   "cell_type": "code",
   "execution_count": 6,
   "metadata": {},
   "outputs": [
    {
     "name": "stdout",
     "output_type": "stream",
     "text": [
      "\n",
      "Semi-grad 4-step SARSA(alpha_a=1.00,alpha_b=0.50,eps_a=1.00,eps_b=0.50, rep 0...\n",
      "IHT full, starting to allow collisions\n",
      "\n",
      "Semi-grad 4-step SARSA(alpha_a=1.00,alpha_b=0.50,eps_a=1.00,eps_b=0.50, rep 1...\n",
      "IHT full, starting to allow collisions\n",
      "\n",
      "Semi-grad 4-step SARSA(alpha_a=1.00,alpha_b=0.50,eps_a=1.00,eps_b=0.50, rep 2...\n",
      "IHT full, starting to allow collisions\n",
      "\n",
      "Semi-grad 4-step SARSA(alpha_a=1.00,alpha_b=0.50,eps_a=1.00,eps_b=0.50, rep 3...\n",
      "IHT full, starting to allow collisions\n",
      "\n",
      "Semi-grad 4-step SARSA(alpha_a=1.00,alpha_b=0.50,eps_a=1.00,eps_b=0.50, rep 4...\n",
      "IHT full, starting to allow collisions\n",
      "\n",
      "Semi-grad 4-step SARSA(alpha_a=1.00,alpha_b=0.50,eps_a=1.00,eps_b=0.50, rep 5...\n",
      "IHT full, starting to allow collisions\n",
      "\n",
      "Semi-grad 4-step SARSA(alpha_a=1.00,alpha_b=0.50,eps_a=1.00,eps_b=0.50, rep 6...\n",
      "IHT full, starting to allow collisions\n",
      "\n",
      "Semi-grad 4-step SARSA(alpha_a=1.00,alpha_b=0.50,eps_a=1.00,eps_b=0.50, rep 7...\n",
      "IHT full, starting to allow collisions\n",
      "\n",
      "Semi-grad 4-step SARSA(alpha_a=1.00,alpha_b=0.50,eps_a=1.00,eps_b=0.50, rep 8...\n",
      "IHT full, starting to allow collisions\n",
      "\n",
      "Semi-grad 4-step SARSA(alpha_a=1.00,alpha_b=0.50,eps_a=1.00,eps_b=0.50, rep 9...\n",
      "IHT full, starting to allow collisions\n",
      "Executed 10 algorithm reps in 24.4243 seconds.\n",
      "\n",
      "Best VFA (1st) test... EETDR CI: -131.1 +/- 18.8\n",
      "\n",
      "Best VFA (2nd) test... EETDR CI: -161.8 +/- 23.7\n",
      "\n",
      "Best VFA (3rd) test... EETDR CI: -122.7 +/- 22.2\n",
      "\n",
      "Best VFA (4th) test... EETDR CI: -137.5 +/- 33.0\n",
      "\n",
      "Best VFA (5th) test... EETDR CI: -190.7 +/- 38.7\n",
      "\n",
      "Best VFA (6th) test... EETDR CI: -161.7 +/- 25.6\n",
      "\n",
      "Best VFA (7th) test... EETDR CI: -141.5 +/- 50.5\n",
      "\n",
      "Best VFA (8th) test... EETDR CI: -193.4 +/- 49.7\n",
      "\n",
      "Best VFA (9th) test... EETDR CI: -188.1 +/- 32.2\n",
      "\n",
      "Best VFA (10th) test... EETDR CI: -193.6 +/- 36.9\n",
      "\n",
      "Best VFA (1st) test... EETDR CI: -131.1 +/- 18.8\n",
      "\n",
      "Best VFA (2nd) test... EETDR CI: -161.8 +/- 23.7\n",
      "\n",
      "Best VFA (3rd) test... EETDR CI: -122.7 +/- 22.2\n",
      "\n",
      "Best VFA (4th) test... EETDR CI: -137.5 +/- 33.0\n",
      "\n",
      "Best VFA (5th) test... EETDR CI: -190.7 +/- 38.7\n",
      "\n",
      "Best VFA (6th) test... EETDR CI: -161.7 +/- 25.6\n",
      "\n",
      "Best VFA (7th) test... EETDR CI: -141.5 +/- 50.5\n",
      "\n",
      "Best VFA (8th) test... EETDR CI: -193.4 +/- 49.7\n",
      "\n",
      "Best VFA (9th) test... EETDR CI: -188.1 +/- 32.2\n",
      "\n",
      "Best VFA (10th) test... EETDR CI: -193.6 +/- 36.9\n"
     ]
    },
    {
     "data": {
      "image/png": "[encoded data removed]",
      "text/plain": [
       "<Figure size 640x480 with 1 Axes>"
      ]
     },
     "metadata": {},
     "output_type": "display_data"
    }
   ],
   "source": [
    "from SemiGradSARSA import SemiGradSARSA\n",
    "import gymnasium as gym\n",
    "\n",
    "env = gym.make('LunarLander-v2')\n",
    "semi_sarsa = SemiGradSARSA(env,n=4)\n",
    "semi_sarsa.train(num_replications=10, num_episodes=100) #Z,M\n",
    "semi_sarsa.get_results()\n",
    "semi_sarsa.show_results()"
   ]
  }
 ],
 "metadata": {
  "kernelspec": {
   "display_name": "Python 3",
   "language": "python",
   "name": "python3"
  },
  "language_info": {
   "codemirror_mode": {
    "name": "ipython",
    "version": 3
   },
   "file_extension": ".py",
   "mimetype": "text/x-python",
   "name": "python",
   "nbconvert_exporter": "python",
   "pygments_lexer": "ipython3",
   "version": "3.11.9"
  }
 },
 "nbformat": 4,
 "nbformat_minor": 2
}
