{
 "cells": [
  {
   "cell_type": "markdown",
   "metadata": {},
   "source": [
    "# Part 0 - OPE\n",
    "1. Import the required packages\n",
    "2. Import test functions from external script\n",
    "\n",
    "### Failing Tests\n",
    "3. The test failures for each set of functions will be demonstrated at the beginning of their respective sections."
   ]
  },
  {
   "cell_type": "code",
   "execution_count": 1,
   "metadata": {},
   "outputs": [
    {
     "name": "stdout",
     "output_type": "stream",
     "text": [
      "Requirement already satisfied: chess in /opt/homebrew/lib/python3.11/site-packages (1.10.0)\n",
      "Requirement already satisfied: pytest in /opt/homebrew/lib/python3.11/site-packages (8.0.0)\n",
      "Requirement already satisfied: iniconfig in /opt/homebrew/lib/python3.11/site-packages (from pytest) (2.0.0)\n",
      "Requirement already satisfied: packaging in /Users/brandonhosley/Library/Python/3.11/lib/python/site-packages (from pytest) (23.1)\n",
      "Requirement already satisfied: pluggy<2.0,>=1.3.0 in /opt/homebrew/lib/python3.11/site-packages (from pytest) (1.4.0)\n"
     ]
    }
   ],
   "source": [
    "import sys\n",
    "!{sys.executable} -m pip install chess pytest\n",
    "import datetime\n",
    "from time import strptime, mktime\n",
    "import sqlite3\n",
    "import chess.pgn\n",
    "\n",
    "import data_schema\n",
    "import unit_tests\n"
   ]
  },
  {
   "cell_type": "markdown",
   "metadata": {},
   "source": [
    "# Part 1 - Test Environment Database Build\n",
    "Never test in production"
   ]
  },
  {
   "cell_type": "code",
   "execution_count": 2,
   "metadata": {},
   "outputs": [],
   "source": [
    "db_file_path = \"./data/chess_rl.db\"\n",
    "\n",
    "# Function to create a new SQLite database\n",
    "def create_db_conn(db_file_path):\n",
    "    conn = sqlite3.connect(db_file_path)\n",
    "    return conn\n",
    "\n",
    "def build_db():\n",
    "    with create_db_conn(db_file_path) as conn:\n",
    "        cursor = conn.cursor()\n",
    "\n",
    "        # Create an Agent table\n",
    "        cursor.execute(f'''\n",
    "            CREATE TABLE IF NOT EXISTS Agents (\n",
    "                agentID INT AUTO_INCREMENT PRIMARY KEY,\n",
    "                agentType VARCHAR(255),\n",
    "                constraintID INT,\n",
    "                currentEstimatorID INT,\n",
    "                currentPolicyID INT,\n",
    "                gamesPlayed INT,\n",
    "                wins INT,\n",
    "                losses INT,\n",
    "                eloRating INT,\n",
    "                glickoRating INT,\n",
    "                ratingsDeviation FLOAT\n",
    "            )\n",
    "        ''')\n",
    "\n",
    "        # Creat Game Table\n",
    "        cursor.execute(f'''\n",
    "            CREATE TABLE IF NOT EXISTS Games (\n",
    "                GameID INT AUTO_INCREMENT PRIMARY KEY,\n",
    "                Event VARCHAR(255),\n",
    "                Site VARCHAR(255),\n",
    "                White INT, \n",
    "                Black INT, \n",
    "                Result BOOLEAN,\n",
    "                UTCDate DATE,\n",
    "                UTCTime TIME,\n",
    "                WhiteRatingDiff INT,\n",
    "                BlackRatingDiff INT,\n",
    "                ECO VARCHAR(10),\n",
    "                Opening VARCHAR(255),\n",
    "                Termination VARCHAR(255),\n",
    "                Board VARCHAR(255),\n",
    "                FOREIGN KEY (White) REFERENCES Agents(agentID),\n",
    "                FOREIGN KEY (Black) REFERENCES Agents(agentID)\n",
    "            )\n",
    "        ''')\n",
    "    print(\"Build Complete\")\n",
    "\n",
    "def clear_db():\n",
    "    with create_db_conn(db_file_path) as conn:\n",
    "        cursor = conn.cursor()\n",
    "\n",
    "        cursor.execute(f''' DROP TABLE IF EXISTS Games; ''')\n",
    "        cursor.execute(f''' DROP TABLE IF EXISTS Agents; ''')\n",
    "\n",
    "    print(\"Database Cleared\")"
   ]
  },
  {
   "cell_type": "markdown",
   "metadata": {},
   "source": [
    "# Part 2 - Populating the Database\n",
    "### Goals:\n",
    "1. Create a function to read the entries in a pgn file\n",
    "2. Parse that data into our data schema\n",
    "3. Insert that data into the database"
   ]
  },
  {
   "cell_type": "raw",
   "metadata": {
    "slideshow": {
     "slide_type": "skip"
    }
   },
   "source": [
    "def add_agent_prototype(agent):\n",
    "    with create_db_conn(db_file_path) as conn:\n",
    "        cursor = conn.cursor()\n",
    "        cursor.execute(f'''\n",
    "            INSERT INTO Agents (agentType, constraintID, currentEstimatorID, currentPolicyID, gamesPlayed, wins, losses, eloRating, glickoRating, ratingsDeviation)\n",
    "            VALUES (?,?,?,?,?,?,?,?,?,?);''',(\n",
    "                {agent.agentType},\n",
    "                {agent.constraintID},\n",
    "                {agent.currentEstimatorID},\n",
    "                {agent.currentPolicyID},\n",
    "                {agent.gamesPlayed},\n",
    "                {agent.wins},\n",
    "                {agent.losses},\n",
    "                {agent.eloRating},\n",
    "                {agent.glickoRating},\n",
    "                {agent.ratingsDeviation})\n",
    "            )\n",
    "\n",
    "build_db()\n",
    "unit_tests.test_create_agent(add_agent_prototype)\n",
    "clear_db()"
   ]
  },
  {
   "cell_type": "markdown",
   "metadata": {},
   "source": [
    "This was the original error. This was used to troubleshoot a datatyping issue."
   ]
  },
  {
   "cell_type": "code",
   "execution_count": 3,
   "metadata": {},
   "outputs": [
    {
     "name": "stdout",
     "output_type": "stream",
     "text": [
      "Build Complete\n",
      "Database Cleared\n"
     ]
    }
   ],
   "source": [
    "def add_agent(agent):\n",
    "    with create_db_conn(db_file_path) as conn:\n",
    "        cursor = conn.cursor()\n",
    "        cursor.execute(f'''\n",
    "            INSERT INTO Agents (agentType, constraintID, currentEstimatorID, currentPolicyID, gamesPlayed, wins, losses, eloRating, glickoRating, ratingsDeviation)\n",
    "            VALUES (?,?,?,?,?,?,?,?,?,?)''',(\n",
    "                str({agent.agentType}),\n",
    "                int({agent.constraintID}.pop()),\n",
    "                int({agent.currentEstimatorID}.pop()),\n",
    "                int({agent.currentPolicyID}.pop()),\n",
    "                int({agent.gamesPlayed}.pop()),\n",
    "                int({agent.wins}.pop()),\n",
    "                int({agent.losses}.pop()),\n",
    "                int({agent.eloRating}.pop()),\n",
    "                int({agent.glickoRating}.pop()),\n",
    "                float({agent.ratingsDeviation}.pop()))\n",
    "            )\n",
    "\n",
    "build_db()\n",
    "unit_tests.test_create_agent(add_agent)\n",
    "unit_tests.test_create_agent_with_errors(add_agent)\n",
    "clear_db()"
   ]
  },
  {
   "cell_type": "markdown",
   "metadata": {},
   "source": [
    "There was significant difficulty in forcing the range of values.\n",
    "Before next sprint post_init can be made more efficient."
   ]
  },
  {
   "cell_type": "raw",
   "metadata": {
    "slideshow": {
     "slide_type": "skip"
    }
   },
   "source": [
    "def add_game_prototype(game):\n",
    "    with create_db_conn(db_file_path) as conn:\n",
    "        cursor = conn.cursor()\n",
    "        cursor.execute(f'''\n",
    "            INSERT INTO Games (Event,Site,White,Black,Result,UTCDate,UTCTime,WhiteRatingDiff,BlackRatingDiff,ECO,Opening,Termination,Board)\n",
    "            VALUES (?,?,?,?,?,?,?,?,?,?,?,?,?)''',(\n",
    "                str(game.Event),\n",
    "                str(game.Site),\n",
    "                int(game.White.pop()),\n",
    "                int(game.Black.pop()),\n",
    "                bool(game.Result),\n",
    "                datetime.strptime(game.UTCDate, '%Y.%m.%d').date(),\n",
    "                datetime.strptime(game.UTCTime, '%H:%M:%S').time(),\n",
    "                int(game.WhiteRatingDiff.pop()),\n",
    "                int(game.BlackRatingDiff.pop()),\n",
    "                str(game.ECO),\n",
    "                str(game.Opening),\n",
    "                str(game.Termination),\n",
    "                str(game.Board))\n",
    "            )\n",
    "\n",
    "build_db()\n",
    "unit_tests.test_create_game(add_game_prototype)\n",
    "unit_tests.test_create_game_with_errors(add_game_prototype)\n",
    "clear_db()"
   ]
  },
  {
   "cell_type": "markdown",
   "metadata": {},
   "source": [
    "The test driven portion here was primarily fixing variable names from the test cases and the data schema."
   ]
  },
  {
   "cell_type": "code",
   "execution_count": 4,
   "metadata": {},
   "outputs": [
    {
     "name": "stdout",
     "output_type": "stream",
     "text": [
      "Build Complete\n",
      "Database Cleared\n"
     ]
    }
   ],
   "source": [
    "def add_game(game):\n",
    "    with create_db_conn(db_file_path) as conn:\n",
    "        cursor = conn.cursor()\n",
    "        cursor.execute(f'''\n",
    "            INSERT INTO Games (Event,Site,White,Black,Result,UTCDate,UTCTime,WhiteRatingDiff,BlackRatingDiff,ECO,Opening,Termination,Board)\n",
    "            VALUES (?,?,?,?,?,?,?,?,?,?,?,?,?)''',(\n",
    "                str(game.event),\n",
    "                str(game.site),\n",
    "                int(game.white),\n",
    "                int(game.black),\n",
    "                bool(game.result),\n",
    "                datetime.datetime.fromtimestamp(mktime(strptime(game.UTCDate, '%Y.%m.%d'))).date(),\n",
    "                datetime.datetime.fromtimestamp(mktime(strptime(game.UTCTime, '%H:%M:%S'))),\n",
    "                int(game.whiteRatingDiff),\n",
    "                int(game.blackRatingDiff),\n",
    "                str(game.ECO),\n",
    "                str(game.opening),\n",
    "                str(game.termination),\n",
    "                str(game.board))\n",
    "            )\n",
    "\n",
    "build_db()\n",
    "unit_tests.test_create_game(add_game)\n",
    "unit_tests.test_create_game_with_errors(add_game)\n",
    "clear_db()"
   ]
  },
  {
   "cell_type": "markdown",
   "metadata": {},
   "source": [
    "# Data Manipulation/Transformation"
   ]
  },
  {
   "cell_type": "code",
   "execution_count": 5,
   "metadata": {},
   "outputs": [
    {
     "name": "stdout",
     "output_type": "stream",
     "text": [
      "Build Complete\n",
      "Database Cleared\n"
     ]
    }
   ],
   "source": [
    "ARCHIVE_PATH = \"./data/lichess_db_standard_rated_2013-01.pgn\"\n",
    "pgn = open(ARCHIVE_PATH, encoding=\"utf-8\")\n",
    "game_one = chess.pgn.read_game(pgn)\n",
    "\n",
    "def ingest_pgn_game(pgn_game):\n",
    "    whiteRatingDiff=pgn_game.headers['WhiteRatingDiff']\n",
    "    blackRatingDiff=pgn_game.headers['BlackRatingDiff']\n",
    "    termination=pgn_game.headers['Termination']\n",
    "    result=bool(pgn_game.headers['Result'][0])\n",
    "    opening=pgn_game.headers['Opening']\n",
    "    UTCTime=pgn_game.headers['UTCTime']\n",
    "    UTCDate=pgn_game.headers[\"UTCDate\"]\n",
    "    event=pgn_game.headers['Event']\n",
    "    site=pgn_game.headers['Site']\n",
    "    ECO=pgn_game.headers['ECO']\n",
    "    black=pgn_game.headers['Black'] = pgn_game.headers['Black'] if isinstance(pgn_game.headers['Black'], int) else hash(pgn_game.headers['Black'])\n",
    "    white=pgn_game.headers['White'] = pgn_game.headers['White'] if isinstance(pgn_game.headers['White'], int) else hash(pgn_game.headers['White'])\n",
    "    board=[_ for _ in game_one.mainline_moves()]\n",
    "\n",
    "    return data_schema.Game(event=event,site=site,white=white,black=black,\n",
    "            result=result,UTCDate=UTCDate,UTCTime=UTCTime,whiteRatingDiff=whiteRatingDiff,\n",
    "            blackRatingDiff=blackRatingDiff,ECO=ECO,opening=opening,termination=termination,board=board)\n",
    "\n",
    "\n",
    "build_db()\n",
    "unit_tests.test_player_to_agent(func=add_game,conv=ingest_pgn_game,pgn=game_one)\n",
    "clear_db()"
   ]
  },
  {
   "cell_type": "markdown",
   "metadata": {},
   "source": [
    "# Data Storage/Loading"
   ]
  },
  {
   "cell_type": "code",
   "execution_count": 6,
   "metadata": {},
   "outputs": [
    {
     "name": "stdout",
     "output_type": "stream",
     "text": [
      "Build Complete\n",
      "Database Cleared\n"
     ]
    }
   ],
   "source": [
    "def populate_database_prototype(num=10):\n",
    "    for _ in range(num):\n",
    "        pgn_game = chess.pgn.read_game(pgn)\n",
    "        game = ingest_pgn_game(pgn_game)\n",
    "        add_game(game)\n",
    "\n",
    "build_db()\n",
    "unit_tests.test_populate(populate_database_prototype)\n",
    "clear_db()"
   ]
  }
 ],
 "metadata": {
  "kernelspec": {
   "display_name": "Python 3",
   "language": "python",
   "name": "python3"
  },
  "language_info": {
   "codemirror_mode": {
    "name": "ipython",
    "version": 3
   },
   "file_extension": ".py",
   "mimetype": "text/x-python",
   "name": "python",
   "nbconvert_exporter": "python",
   "pygments_lexer": "ipython3",
   "version": "3.11.4"
  }
 },
 "nbformat": 4,
 "nbformat_minor": 2
}
