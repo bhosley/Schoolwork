{
 "cells": [
  {
   "cell_type": "code",
   "execution_count": 1,
   "id": "38924bb9",
   "metadata": {},
   "outputs": [],
   "source": [
    "import numpy as np"
   ]
  },
  {
   "cell_type": "code",
   "execution_count": 114,
   "id": "91d6f82a",
   "metadata": {},
   "outputs": [
    {
     "name": "stdout",
     "output_type": "stream",
     "text": [
      "[84.  94.5 73.5]\n",
      "[84.  94.5 73.5]\n",
      "[84.  94.5 73.5]\n",
      "[84.  94.5 73.5]\n"
     ]
    }
   ],
   "source": [
    "a=np.array([[1,2,3],[2,2,2],[3,3,3],])\n",
    "b=np.array([[2,2,2],[3,3,3],[1,2,3],])\n",
    "c=np.array([[3,3,3],[1,2,3],[2,2,2],])\n",
    "d=np.array([[1,2,3],[3,3,3],[2,2,2],])\n",
    "lam = np.array([[1,2,1],[1,1,1],[1,2,1],])\n",
    "gam = np.ones((3,3))\n",
    "w = np.array([4,4.5,3.5])\n",
    "\n",
    "def func(x):\n",
    "    \"\"\"This on is like their equivariant\"\"\"\n",
    "    # return np.sum(x@( w*np.eye(3) + w*np.ones((3,3)) ) ,axis=0)\n",
    "\n",
    "    # return np.sum(x@( w*np.ones((3,3)) ) ,axis=0)\n",
    "    return np.sum(x@( w*np.ones((3,3)) ) ,axis=0)\n",
    "\n",
    "print(func(a))\n",
    "print(func(b))\n",
    "print(func(c))\n",
    "print(func(d))"
   ]
  },
  {
   "cell_type": "code",
   "execution_count": 102,
   "id": "47187a21",
   "metadata": {},
   "outputs": [
    {
     "data": {
      "text/plain": [
       "array([[8. , 4.5, 3.5],\n",
       "       [4. , 9. , 3.5],\n",
       "       [4. , 4.5, 7. ]])"
      ]
     },
     "execution_count": 102,
     "metadata": {},
     "output_type": "execute_result"
    }
   ],
   "source": [
    "# np.eye(3)*a\n",
    "# np.ones((1,3)) * np.ones((1,3)).T\n",
    "# np.ones((1,3)).T * a\n",
    "w*np.eye(3) + w*np.ones((3,3))"
   ]
  }
 ],
 "metadata": {
  "kernelspec": {
   "display_name": "Python 3",
   "language": "python",
   "name": "python3"
  },
  "language_info": {
   "codemirror_mode": {
    "name": "ipython",
    "version": 3
   },
   "file_extension": ".py",
   "mimetype": "text/x-python",
   "name": "python",
   "nbconvert_exporter": "python",
   "pygments_lexer": "ipython3",
   "version": "3.11.9"
  }
 },
 "nbformat": 4,
 "nbformat_minor": 5
}
