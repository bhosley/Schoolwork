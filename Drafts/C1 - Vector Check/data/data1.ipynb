{
 "cells": [
  {
   "cell_type": "markdown",
   "metadata": {},
   "source": [
    "# Data Sanitization"
   ]
  },
  {
   "cell_type": "code",
   "execution_count": 4,
   "metadata": {},
   "outputs": [],
   "source": [
    "import json\n",
    "import wandb\n",
    "\n",
    "api = wandb.Api()\n",
    "\n",
    "runs = api.runs(\"no-organization-for-signup/mini-test-waterworld\")\n",
    "\n",
    "for run in runs:\n",
    "    run.config['num_agents'] = int(run.config['num_agents'])\n",
    "    #run.config['steps_pretrained'] = json.dumps(int(0))\n",
    "    #run.config['steps_pretrained'] = int(json.dumps(int(0)))\n",
    "    run.update()"
   ]
  },
  {
   "cell_type": "markdown",
   "metadata": {},
   "source": [
    "# Localize/Ingest Data\n",
    "\n",
    "Localize to avoid the numerous/lengthy API calls:"
   ]
  },
  {
   "cell_type": "code",
   "execution_count": 174,
   "metadata": {},
   "outputs": [
    {
     "data": {
      "text/plain": [
       "0"
      ]
     },
     "execution_count": 174,
     "metadata": {},
     "output_type": "execute_result"
    }
   ],
   "source": [
    "import wandb\n",
    "\n",
    "api = wandb.Api()\n",
    "runs = api.runs(\"no-organization-for-signup/ww_test\")\n",
    "a = runs[0].history()\n",
    "a[\"id\"] = runs[0].id\n",
    "#a.head()\n",
    "\n",
    "summary = run.summary._json_dict\n",
    "config = {k: v for k, v in run.config.items() if not k.startswith('_')}\n",
    "run_data = {**summary, **config}\n",
    "\n",
    "run_data['steps_pretrained']"
   ]
  },
  {
   "cell_type": "code",
   "execution_count": 30,
   "metadata": {},
   "outputs": [
    {
     "name": "stdout",
     "output_type": "stream",
     "text": [
      "Data has been successfully exported to 'ww_test.csv'.\n"
     ]
    }
   ],
   "source": [
    "import wandb\n",
    "import pandas as pd\n",
    "from concurrent.futures import ThreadPoolExecutor\n",
    "\n",
    "ENTITY = \"no-organization-for-signup\"\n",
    "PROJECT = \"ww_test\"\n",
    "\n",
    "# Define a function to delete a single run\n",
    "def export_run(run):\n",
    "    try:\n",
    "        # Collect run's summary metrics, configs, and name\n",
    "        summary = run.summary._json_dict\n",
    "        config = {k: v for k, v in run.config.items() if not k.startswith('_')}\n",
    "        name = run.name\n",
    "\n",
    "        # Combine summary and config into a single dictionary\n",
    "        run_data = {**summary, **config}\n",
    "        run_data['name'] = name\n",
    "\n",
    "        # Optionally add more run metadata\n",
    "        run_data['id'] = run.id\n",
    "        run_data['created_at'] = run.created_at\n",
    "        run_data['state'] = run.state\n",
    "\n",
    "        hist = run.history()\n",
    "        hist['id'] = run.id\n",
    "        hist['steps_pretrained'] = run_data['steps_pretrained']\n",
    "\n",
    "        return run_data, hist\n",
    "\n",
    "    except Exception as e:\n",
    "        return f\"Error exporting run {run.id}: {e}\"\n",
    "\n",
    "# Initialize W&B API\n",
    "api = wandb.Api()\n",
    "runs = api.runs(f'{ENTITY}/{PROJECT}')\n",
    "\n",
    "# Initialize lists to hold run data and history\n",
    "runs_data = []\n",
    "histories = []\n",
    "\n",
    "# Set up the ThreadPoolExecutor to parallelize the process\n",
    "with ThreadPoolExecutor(max_workers=5) as executor:\n",
    "    # Submit export tasks to the executor\n",
    "    for run_data, history in executor.map(export_run, runs):\n",
    "        runs_data.append(run_data)\n",
    "        histories.append(history)\n",
    "\n",
    "# Convert the list of dictionaries to a DataFrame\n",
    "runs_df = pd.DataFrame(runs_data)\n",
    "hist_df = pd.concat(histories, keys=[f'run_{i}' for i in range(len(histories))])\n",
    "\n",
    "# Reorder columns so identifying info is at the front\n",
    "cols = ['id', 'name', 'created_at', 'state'] + \\\n",
    "    [col for col in runs_df.columns if col not in \n",
    "     ['id', 'name', 'created_at', 'state']]\n",
    "runs_df = runs_df[cols]\n",
    "\n",
    "# Export the DataFrame to CSV\n",
    "runs_df.to_csv(f\"{PROJECT}.csv\", index=False)\n",
    "hist_df.to_csv(f\"{PROJECT}_history.csv\", index=True)\n",
    "\n",
    "print(f\"Data has been successfully exported to '{PROJECT}.csv'.\")"
   ]
  },
  {
   "cell_type": "code",
   "execution_count": 2,
   "metadata": {},
   "outputs": [],
   "source": [
    "import pandas as pd\n",
    "import numpy as np\n",
    "\n",
    "import plotly.express as px\n",
    "import plotly.graph_objects as go\n",
    "\n",
    "import wandb"
   ]
  },
  {
   "cell_type": "code",
   "execution_count": 20,
   "metadata": {},
   "outputs": [],
   "source": [
    "import wandb\n",
    "import numpy as np\n",
    "import pandas as pd\n",
    "\n",
    "api = wandb.Api()\n",
    "\n",
    "def wandb_ingest(path, agent_filter=lambda _: False):\n",
    "    runs = api.runs(path)\n",
    "    data = []\n",
    "\n",
    "    for run in runs:\n",
    "        if run.state == 'running': continue # Skip currently in-progress run\n",
    "        id = run.id\n",
    "        n = run.config['num_agents']\n",
    "        pre_steps = run.config['steps_pretrained']\n",
    "\n",
    "        if agent_filter(n): continue\n",
    "\n",
    "        erm = (run.history()['env_runners/episode_reward_mean']\n",
    "            .replace('NaN',None)\n",
    "            .bfill()\n",
    "            )\n",
    "\n",
    "        try:\n",
    "\n",
    "            for step, reward in enumerate(erm):\n",
    "                if step + pre_steps > 200: break\n",
    "                data.append({\n",
    "                    'id': id,\n",
    "                    'num_agents': n,\n",
    "                    'timestep': step + pre_steps,\n",
    "                    'episode_reward_mean': reward,\n",
    "                    'per_agent_erm': reward / n,\n",
    "                    'pretrained_steps': pre_steps,\n",
    "                })\n",
    "\n",
    "        except:\n",
    "            print(f\"Problem with run: {run.id}\")\n",
    "\n",
    "    return pd.DataFrame(data)\n",
    "\n",
    "def baseline_prediction_interval(num_agents,path='ww-baseline.csv'):\n",
    "    df = pd.read_csv(path)\n",
    "    df = df[df[\"num_agents\"]==num_agents]\n",
    "    seq = df.groupby('timestep')['per_agent_erm']\n",
    "\n",
    "    # Mean and standard deviation per timestep\n",
    "    mean = seq.mean()\n",
    "    std_dev = seq.std()\n",
    "    n = seq.count()\n",
    "\n",
    "    # Calculate the Prediction Interval (PI)\n",
    "    # For large n, using z=1.96 for ~95% coverage. (Central limit theorem)\n",
    "    z = 1.96\n",
    "    margin_of_error = z * std_dev * np.sqrt(1 + 1/n)\n",
    "\n",
    "    # Lower and upper bounds of the PI\n",
    "    lower_bound = mean - margin_of_error\n",
    "    upper_bound = mean + margin_of_error\n",
    "\n",
    "    x = np.concatenate([mean.index, mean.index[::-1]]) * num_agents\n",
    "    y = np.concatenate([upper_bound, lower_bound[::-1]])\n",
    "\n",
    "    return x,y"
   ]
  },
  {
   "cell_type": "code",
   "execution_count": 55,
   "metadata": {},
   "outputs": [
    {
     "name": "stdout",
     "output_type": "stream",
     "text": [
      "Problem with run: f1095_00000\n",
      "Problem with run: 0cd08_00000\n",
      "Problem with run: 2c6c1_00000\n",
      "Problem with run: 513e2_00000\n",
      "Problem with run: 7a053_00000\n",
      "Problem with run: a7c63_00000\n"
     ]
    }
   ],
   "source": [
    "# The actual retraining test\n",
    "wandb_ingest(\"no-organization-for-signup/ww_test\").to_csv('ww-out.csv', index=False)"
   ]
  },
  {
   "cell_type": "code",
   "execution_count": 56,
   "metadata": {},
   "outputs": [],
   "source": [
    "# Data from previous training, for baselining\n",
    "wandb_ingest(\"no-organization-for-signup/mini-test-waterworld\").to_csv('ww-baseline.csv', index=False)"
   ]
  },
  {
   "cell_type": "code",
   "execution_count": 60,
   "metadata": {},
   "outputs": [],
   "source": [
    "wandb_ingest(\"no-organization-for-signup/multiwalker\").to_csv('walker-out.csv', index=False)"
   ]
  },
  {
   "cell_type": "markdown",
   "metadata": {},
   "source": [
    "# Next Section"
   ]
  },
  {
   "cell_type": "code",
   "execution_count": 15,
   "metadata": {},
   "outputs": [
    {
     "data": {
      "application/vnd.plotly.v1+json": {
       "config": {
        "plotlyServerURL": "https://plot.ly"
       },
       "data": [
        {
         "fill": "toself",
         "fillcolor": "rgba(0,100,80,0.2)",
         "hoverinfo": "skip",
         "line": {
          "color": "rgba(255,255,255,0)"
         },
         "name": "95% Prediction Interval",
         "type": "scatter",
         "x": [
          0,
          2,
          4,
          6,
          8,
          10,
          12,
          14,
          16,
          18,
          20,
          22,
          24,
          26,
          28,
          30,
          32,
          34,
          36,
          38,
          40,
          42,
          44,
          46,
          48,
          50,
          52,
          54,
          56,
          58,
          60,
          62,
          64,
          66,
          68,
          70,
          72,
          74,
          76,
          78,
          80,
          82,
          84,
          86,
          88,
          90,
          92,
          94,
          96,
          98,
          100,
          102,
          104,
          106,
          108,
          110,
          112,
          114,
          116,
          118,
          120,
          122,
          124,
          126,
          128,
          130,
          132,
          134,
          136,
          138,
          140,
          142,
          144,
          146,
          148,
          150,
          152,
          154,
          156,
          158,
          160,
          162,
          164,
          166,
          168,
          170,
          172,
          174,
          176,
          178,
          180,
          182,
          184,
          186,
          188,
          190,
          192,
          194,
          196,
          198,
          200,
          202,
          204,
          206,
          208,
          210,
          212,
          214,
          216,
          218,
          220,
          222,
          224,
          226,
          228,
          230,
          232,
          234,
          236,
          238,
          240,
          242,
          244,
          246,
          248,
          250,
          252,
          254,
          256,
          258,
          260,
          262,
          264,
          266,
          268,
          270,
          272,
          274,
          276,
          278,
          280,
          282,
          284,
          286,
          288,
          290,
          292,
          294,
          296,
          298,
          300,
          302,
          304,
          306,
          308,
          310,
          312,
          314,
          316,
          318,
          320,
          322,
          324,
          326,
          328,
          330,
          332,
          334,
          336,
          338,
          340,
          342,
          344,
          346,
          348,
          350,
          352,
          354,
          356,
          358,
          360,
          362,
          364,
          366,
          368,
          370,
          372,
          374,
          376,
          378,
          380,
          382,
          384,
          386,
          388,
          390,
          392,
          394,
          396,
          398,
          398,
          396,
          394,
          392,
          390,
          388,
          386,
          384,
          382,
          380,
          378,
          376,
          374,
          372,
          370,
          368,
          366,
          364,
          362,
          360,
          358,
          356,
          354,
          352,
          350,
          348,
          346,
          344,
          342,
          340,
          338,
          336,
          334,
          332,
          330,
          328,
          326,
          324,
          322,
          320,
          318,
          316,
          314,
          312,
          310,
          308,
          306,
          304,
          302,
          300,
          298,
          296,
          294,
          292,
          290,
          288,
          286,
          284,
          282,
          280,
          278,
          276,
          274,
          272,
          270,
          268,
          266,
          264,
          262,
          260,
          258,
          256,
          254,
          252,
          250,
          248,
          246,
          244,
          242,
          240,
          238,
          236,
          234,
          232,
          230,
          228,
          226,
          224,
          222,
          220,
          218,
          216,
          214,
          212,
          210,
          208,
          206,
          204,
          202,
          200,
          198,
          196,
          194,
          192,
          190,
          188,
          186,
          184,
          182,
          180,
          178,
          176,
          174,
          172,
          170,
          168,
          166,
          164,
          162,
          160,
          158,
          156,
          154,
          152,
          150,
          148,
          146,
          144,
          142,
          140,
          138,
          136,
          134,
          132,
          130,
          128,
          126,
          124,
          122,
          120,
          118,
          116,
          114,
          112,
          110,
          108,
          106,
          104,
          102,
          100,
          98,
          96,
          94,
          92,
          90,
          88,
          86,
          84,
          82,
          80,
          78,
          76,
          74,
          72,
          70,
          68,
          66,
          64,
          62,
          60,
          58,
          56,
          54,
          52,
          50,
          48,
          46,
          44,
          42,
          40,
          38,
          36,
          34,
          32,
          30,
          28,
          26,
          24,
          22,
          20,
          18,
          16,
          14,
          12,
          10,
          8,
          6,
          4,
          2,
          0
         ],
         "y": [
          -74.63460719608673,
          -74.63460719608673,
          -75.89371001530722,
          -76.14040307439225,
          -75.77329983574107,
          -75.77329983574107,
          -74.83514233909872,
          -70.10140302756541,
          -69.42234994783567,
          -67.88517919174306,
          -67.88517919174306,
          -63.63677919044226,
          -63.25810430862588,
          -61.08729553481567,
          -57.32008785864116,
          -53.80816455785585,
          -52.49196448969704,
          -50.05504073792116,
          -42.74245007733423,
          -42.01996057071273,
          -42.01996057071273,
          -40.174441065356554,
          -31.6282876739227,
          -30.52070801860669,
          -29.022240061171026,
          -29.022240061171026,
          -21.216662468498704,
          -20.397649334824457,
          -20.021249929009592,
          -16.85918605613056,
          -13.64493460512431,
          -13.664546116657439,
          -12.91261084653737,
          -9.213547181296235,
          -9.03032517052675,
          -9.03032517052675,
          -9.350998174650544,
          -5.464350499812383,
          -5.642464321708529,
          -5.732684077167841,
          -5.732684077167841,
          -2.2329216250500075,
          -2.238082477316718,
          -1.731930260689559,
          -0.5944018269019224,
          0.20805932845392405,
          0.26725546738394357,
          0.3971821792142354,
          2.1363411426461756,
          1.9457215461167987,
          1.9457215461167987,
          2.010143735591642,
          4.338781070245968,
          4.570008670424714,
          4.753037568993789,
          5.292059652963603,
          6.616484641415384,
          6.935737009204275,
          7.247618212667763,
          8.640979998202038,
          9.756293238338378,
          9.272235640636483,
          10.101585417595011,
          11.755359802353114,
          11.917568657095599,
          11.917568657095599,
          12.072431915597232,
          13.889258119817898,
          13.672083837533895,
          13.654866085667612,
          13.97248127532714,
          14.0125007368828,
          14.097871355862237,
          14.517090358171215,
          14.53558658707191,
          14.405171659993101,
          14.448041420272968,
          14.693925039955728,
          14.603465799156924,
          14.046401962075256,
          14.046401962075256,
          14.20949620870261,
          15.24277524025176,
          15.373182306217721,
          15.801425121449347,
          16.136031929998012,
          16.573542541619016,
          16.36288830669269,
          16.826841078637944,
          17.4772195135192,
          18.483082064288173,
          18.829858391525207,
          19.194367897744176,
          19.503220601771716,
          19.803799821306754,
          19.803799821306754,
          20.143046979114228,
          20.55140311505137,
          20.951110402807775,
          20.903914119752912,
          20.74811993713288,
          20.66655059527124,
          20.790597114171387,
          20.489806862052493,
          20.359717651503296,
          20.462701674252855,
          20.994597507028075,
          21.14855341929213,
          21.90353913684516,
          22.054587021103064,
          22.054587021103064,
          21.755064199286814,
          22.535758580122078,
          22.668982599160408,
          22.920197356416562,
          23.395885588108214,
          22.86538020299304,
          23.010284160764108,
          22.62420041192958,
          22.5806190022747,
          22.62654966578922,
          22.316279198465885,
          22.675747755562526,
          22.390631080437238,
          22.319400842891174,
          22.319400842891174,
          22.236280349283586,
          23.138299918552363,
          23.174239482900425,
          22.4440090958185,
          22.37254994512312,
          22.483241860155253,
          22.364587072339923,
          22.04619664641837,
          21.851736242129924,
          21.821195388528437,
          22.32830880689001,
          22.63958366157692,
          23.15928862648929,
          23.247601561539916,
          23.247601561539916,
          24.128456078495823,
          24.726549562654498,
          24.78421649798294,
          24.67321725394536,
          24.401941520489682,
          24.953310571728792,
          25.108794625271035,
          24.52890405485555,
          25.424416770638196,
          25.479215384800924,
          25.424883648155856,
          24.624425046571528,
          23.89229574284812,
          23.893036469478304,
          23.893036469478304,
          24.585723044683185,
          25.382359799829437,
          25.45585181276467,
          25.854640052855288,
          26.382171393887162,
          26.97108764946811,
          27.188518951117956,
          27.421181355188857,
          27.948365187164455,
          27.768928224239403,
          28.597525575198574,
          28.65548325370298,
          28.098713131304958,
          27.079387297263025,
          27.079387297263025,
          27.413299999697706,
          26.256190280159643,
          25.89406930630163,
          25.861551052307526,
          26.168541123055995,
          25.939646668897964,
          25.907426963413556,
          25.505782556913214,
          25.593262164951497,
          26.6526947732496,
          27.11488081329665,
          27.13691073761209,
          27.338159489366625,
          27.290049053168904,
          27.290049053168904,
          27.31999399395935,
          27.345991547305218,
          27.158640304068562,
          27.500122765347967,
          27.736145430996565,
          27.356590144227784,
          27.499278936124703,
          27.277594439921607,
          27.119868954804904,
          27.094430050157776,
          26.853190156940595,
          27.167117878805804,
          27.738727444256728,
          28.48578100456003,
          0.5977921314083741,
          0.9763985931925276,
          1.3016962048287706,
          1.7345769424253987,
          1.2876213705084414,
          1.4715180125745562,
          1.6198039104140811,
          1.4490460141847468,
          1.316299626943156,
          1.0525926623937654,
          1.3066892189690513,
          1.0434146783455915,
          0.8599085216872187,
          1.2747323697714261,
          1.0980021091094159,
          1.0980021091094159,
          0.9649702431005238,
          1.200358990200483,
          1.0028588714529576,
          1.1988724130601884,
          1.4174593118250751,
          1.3989818991536147,
          1.1218705743830082,
          1.0530897120066047,
          0.5957719059491833,
          0.5737000515980526,
          0.6428569312241645,
          0.5641180223561744,
          -0.14815429142117864,
          -0.4092062660809379,
          -0.4092062660809379,
          -1.3577256593146814,
          -1.4976806643149345,
          -1.3783633526290373,
          -0.693496436268024,
          -1.0868831402410795,
          -0.8494723673621056,
          -0.8905532805186613,
          -1.0722187994252952,
          -0.7296337840080422,
          -0.5578113052781237,
          -0.4308195609362695,
          -0.7240748129973813,
          -0.8700441141820257,
          -0.7541253067676692,
          -0.7541253067676692,
          -0.6634400638245488,
          -1.6241487521714078,
          -1.856319367365165,
          -1.7632722650526418,
          -2.084638522692339,
          -2.070749605966423,
          -2.449788617572054,
          -2.397993583207283,
          -2.017678957245632,
          -2.2176348234793295,
          -2.3119161862323523,
          -2.1682910564829943,
          -2.4611282711038793,
          -2.2857095711579785,
          -2.2857095711579785,
          -2.9858983065631897,
          -2.647395931089143,
          -2.184349990577644,
          -1.9091101633790224,
          -1.461642342515857,
          -2.0768626471462106,
          -2.2723129896696186,
          -2.1416088685275927,
          -2.2327136664672462,
          -2.6980561369703526,
          -3.096828322635771,
          -3.0616454092095804,
          -2.600598717073911,
          -3.409577106088566,
          -3.409577106088566,
          -4.373783282603702,
          -5.386830475901943,
          -5.160445354310204,
          -5.668160894235234,
          -5.638024091679593,
          -5.817153195695786,
          -6.470148288411126,
          -6.644235723319156,
          -6.954883836507717,
          -7.055298913813297,
          -6.664741580024579,
          -6.445254391281319,
          -6.442551399942737,
          -6.6034047932554065,
          -6.6034047932554065,
          -6.816334934486401,
          -7.265316376238136,
          -7.418240219156212,
          -6.9305207317309705,
          -7.398099385332993,
          -8.23094610003017,
          -8.63961441409813,
          -8.858332310008217,
          -9.502647244268868,
          -9.429100288447845,
          -9.660848764724363,
          -9.427639330185718,
          -10.174167085338002,
          -9.564075149021104,
          -9.564075149021104,
          -9.25593296654369,
          -10.027612060467249,
          -9.567891105545971,
          -9.689151228198263,
          -9.568994343974378,
          -9.456028083513939,
          -9.237458589463008,
          -9.142519847376573,
          -9.994849729417227,
          -10.10201406936473,
          -9.549120476138452,
          -9.734487414119108,
          -10.220726288898671,
          -10.470771106359228,
          -10.470771106359228,
          -11.05198894042802,
          -12.258247930196374,
          -12.706328255073561,
          -12.60747669178117,
          -12.87000320105133,
          -13.76871894871663,
          -13.913925633307125,
          -14.492892475784238,
          -14.849546292626187,
          -15.415095340456661,
          -15.71301158304677,
          -15.8981520353609,
          -15.54292449440251,
          -15.574724933925859,
          -15.574724933925859,
          -15.33274325664904,
          -17.39297194282201,
          -17.20822141896602,
          -17.5236894806075,
          -17.79081205256755,
          -17.8762414738707,
          -17.88591407363487,
          -17.854443127977518,
          -18.534583409525894,
          -18.919838961474362,
          -19.273064450765347,
          -19.55663780072389,
          -21.000858528677213,
          -21.37629558733468,
          -21.37629558733468,
          -22.025458566330684,
          -24.19741342843237,
          -25.087899234556502,
          -25.726648567123203,
          -26.479286913692366,
          -28.02375015225335,
          -28.168216412655653,
          -28.924035158675107,
          -30.89385062777243,
          -30.89385062777243,
          -31.924250103984498,
          -32.88681216652904,
          -34.88927463548643,
          -36.11202990861536,
          -36.11202990861536,
          -36.50266493054969,
          -39.76236667621095,
          -40.029183530145204,
          -41.150492147208354,
          -42.293095600859544,
          -44.103147788884435,
          -44.96468152788787,
          -45.36167149229849,
          -49.6121461873414,
          -49.6121461873414,
          -49.85889474688445,
          -50.46324571944679,
          -56.64619937298348,
          -56.726323548321226,
          -56.726323548321226,
          -57.8668769301562,
          -66.8703876019292,
          -66.74051385542379,
          -67.77783330268107,
          -73.36351040786252,
          -75.23678047429632,
          -75.38678940158668,
          -76.01071248542075,
          -80.79734163054873,
          -80.79734163054873,
          -80.49277409495065,
          -81.18293795530597,
          -85.59435989349129,
          -86.02087880348724,
          -86.02087880348724,
          -86.6247388058326,
          -87.62487680705033,
          -88.33774283187233,
          -88.33774283187233
         ]
        }
       ],
       "layout": {
        "template": {
         "data": {
          "bar": [
           {
            "error_x": {
             "color": "#2a3f5f"
            },
            "error_y": {
             "color": "#2a3f5f"
            },
            "marker": {
             "line": {
              "color": "#E5ECF6",
              "width": 0.5
             },
             "pattern": {
              "fillmode": "overlay",
              "size": 10,
              "solidity": 0.2
             }
            },
            "type": "bar"
           }
          ],
          "barpolar": [
           {
            "marker": {
             "line": {
              "color": "#E5ECF6",
              "width": 0.5
             },
             "pattern": {
              "fillmode": "overlay",
              "size": 10,
              "solidity": 0.2
             }
            },
            "type": "barpolar"
           }
          ],
          "carpet": [
           {
            "aaxis": {
             "endlinecolor": "#2a3f5f",
             "gridcolor": "white",
             "linecolor": "white",
             "minorgridcolor": "white",
             "startlinecolor": "#2a3f5f"
            },
            "baxis": {
             "endlinecolor": "#2a3f5f",
             "gridcolor": "white",
             "linecolor": "white",
             "minorgridcolor": "white",
             "startlinecolor": "#2a3f5f"
            },
            "type": "carpet"
           }
          ],
          "choropleth": [
           {
            "colorbar": {
             "outlinewidth": 0,
             "ticks": ""
            },
            "type": "choropleth"
           }
          ],
          "contour": [
           {
            "colorbar": {
             "outlinewidth": 0,
             "ticks": ""
            },
            "colorscale": [
             [
              0,
              "#0d0887"
             ],
             [
              0.1111111111111111,
              "#46039f"
             ],
             [
              0.2222222222222222,
              "#7201a8"
             ],
             [
              0.3333333333333333,
              "#9c179e"
             ],
             [
              0.4444444444444444,
              "#bd3786"
             ],
             [
              0.5555555555555556,
              "#d8576b"
             ],
             [
              0.6666666666666666,
              "#ed7953"
             ],
             [
              0.7777777777777778,
              "#fb9f3a"
             ],
             [
              0.8888888888888888,
              "#fdca26"
             ],
             [
              1,
              "#f0f921"
             ]
            ],
            "type": "contour"
           }
          ],
          "contourcarpet": [
           {
            "colorbar": {
             "outlinewidth": 0,
             "ticks": ""
            },
            "type": "contourcarpet"
           }
          ],
          "heatmap": [
           {
            "colorbar": {
             "outlinewidth": 0,
             "ticks": ""
            },
            "colorscale": [
             [
              0,
              "#0d0887"
             ],
             [
              0.1111111111111111,
              "#46039f"
             ],
             [
              0.2222222222222222,
              "#7201a8"
             ],
             [
              0.3333333333333333,
              "#9c179e"
             ],
             [
              0.4444444444444444,
              "#bd3786"
             ],
             [
              0.5555555555555556,
              "#d8576b"
             ],
             [
              0.6666666666666666,
              "#ed7953"
             ],
             [
              0.7777777777777778,
              "#fb9f3a"
             ],
             [
              0.8888888888888888,
              "#fdca26"
             ],
             [
              1,
              "#f0f921"
             ]
            ],
            "type": "heatmap"
           }
          ],
          "heatmapgl": [
           {
            "colorbar": {
             "outlinewidth": 0,
             "ticks": ""
            },
            "colorscale": [
             [
              0,
              "#0d0887"
             ],
             [
              0.1111111111111111,
              "#46039f"
             ],
             [
              0.2222222222222222,
              "#7201a8"
             ],
             [
              0.3333333333333333,
              "#9c179e"
             ],
             [
              0.4444444444444444,
              "#bd3786"
             ],
             [
              0.5555555555555556,
              "#d8576b"
             ],
             [
              0.6666666666666666,
              "#ed7953"
             ],
             [
              0.7777777777777778,
              "#fb9f3a"
             ],
             [
              0.8888888888888888,
              "#fdca26"
             ],
             [
              1,
              "#f0f921"
             ]
            ],
            "type": "heatmapgl"
           }
          ],
          "histogram": [
           {
            "marker": {
             "pattern": {
              "fillmode": "overlay",
              "size": 10,
              "solidity": 0.2
             }
            },
            "type": "histogram"
           }
          ],
          "histogram2d": [
           {
            "colorbar": {
             "outlinewidth": 0,
             "ticks": ""
            },
            "colorscale": [
             [
              0,
              "#0d0887"
             ],
             [
              0.1111111111111111,
              "#46039f"
             ],
             [
              0.2222222222222222,
              "#7201a8"
             ],
             [
              0.3333333333333333,
              "#9c179e"
             ],
             [
              0.4444444444444444,
              "#bd3786"
             ],
             [
              0.5555555555555556,
              "#d8576b"
             ],
             [
              0.6666666666666666,
              "#ed7953"
             ],
             [
              0.7777777777777778,
              "#fb9f3a"
             ],
             [
              0.8888888888888888,
              "#fdca26"
             ],
             [
              1,
              "#f0f921"
             ]
            ],
            "type": "histogram2d"
           }
          ],
          "histogram2dcontour": [
           {
            "colorbar": {
             "outlinewidth": 0,
             "ticks": ""
            },
            "colorscale": [
             [
              0,
              "#0d0887"
             ],
             [
              0.1111111111111111,
              "#46039f"
             ],
             [
              0.2222222222222222,
              "#7201a8"
             ],
             [
              0.3333333333333333,
              "#9c179e"
             ],
             [
              0.4444444444444444,
              "#bd3786"
             ],
             [
              0.5555555555555556,
              "#d8576b"
             ],
             [
              0.6666666666666666,
              "#ed7953"
             ],
             [
              0.7777777777777778,
              "#fb9f3a"
             ],
             [
              0.8888888888888888,
              "#fdca26"
             ],
             [
              1,
              "#f0f921"
             ]
            ],
            "type": "histogram2dcontour"
           }
          ],
          "mesh3d": [
           {
            "colorbar": {
             "outlinewidth": 0,
             "ticks": ""
            },
            "type": "mesh3d"
           }
          ],
          "parcoords": [
           {
            "line": {
             "colorbar": {
              "outlinewidth": 0,
              "ticks": ""
             }
            },
            "type": "parcoords"
           }
          ],
          "pie": [
           {
            "automargin": true,
            "type": "pie"
           }
          ],
          "scatter": [
           {
            "fillpattern": {
             "fillmode": "overlay",
             "size": 10,
             "solidity": 0.2
            },
            "type": "scatter"
           }
          ],
          "scatter3d": [
           {
            "line": {
             "colorbar": {
              "outlinewidth": 0,
              "ticks": ""
             }
            },
            "marker": {
             "colorbar": {
              "outlinewidth": 0,
              "ticks": ""
             }
            },
            "type": "scatter3d"
           }
          ],
          "scattercarpet": [
           {
            "marker": {
             "colorbar": {
              "outlinewidth": 0,
              "ticks": ""
             }
            },
            "type": "scattercarpet"
           }
          ],
          "scattergeo": [
           {
            "marker": {
             "colorbar": {
              "outlinewidth": 0,
              "ticks": ""
             }
            },
            "type": "scattergeo"
           }
          ],
          "scattergl": [
           {
            "marker": {
             "colorbar": {
              "outlinewidth": 0,
              "ticks": ""
             }
            },
            "type": "scattergl"
           }
          ],
          "scattermapbox": [
           {
            "marker": {
             "colorbar": {
              "outlinewidth": 0,
              "ticks": ""
             }
            },
            "type": "scattermapbox"
           }
          ],
          "scatterpolar": [
           {
            "marker": {
             "colorbar": {
              "outlinewidth": 0,
              "ticks": ""
             }
            },
            "type": "scatterpolar"
           }
          ],
          "scatterpolargl": [
           {
            "marker": {
             "colorbar": {
              "outlinewidth": 0,
              "ticks": ""
             }
            },
            "type": "scatterpolargl"
           }
          ],
          "scatterternary": [
           {
            "marker": {
             "colorbar": {
              "outlinewidth": 0,
              "ticks": ""
             }
            },
            "type": "scatterternary"
           }
          ],
          "surface": [
           {
            "colorbar": {
             "outlinewidth": 0,
             "ticks": ""
            },
            "colorscale": [
             [
              0,
              "#0d0887"
             ],
             [
              0.1111111111111111,
              "#46039f"
             ],
             [
              0.2222222222222222,
              "#7201a8"
             ],
             [
              0.3333333333333333,
              "#9c179e"
             ],
             [
              0.4444444444444444,
              "#bd3786"
             ],
             [
              0.5555555555555556,
              "#d8576b"
             ],
             [
              0.6666666666666666,
              "#ed7953"
             ],
             [
              0.7777777777777778,
              "#fb9f3a"
             ],
             [
              0.8888888888888888,
              "#fdca26"
             ],
             [
              1,
              "#f0f921"
             ]
            ],
            "type": "surface"
           }
          ],
          "table": [
           {
            "cells": {
             "fill": {
              "color": "#EBF0F8"
             },
             "line": {
              "color": "white"
             }
            },
            "header": {
             "fill": {
              "color": "#C8D4E3"
             },
             "line": {
              "color": "white"
             }
            },
            "type": "table"
           }
          ]
         },
         "layout": {
          "annotationdefaults": {
           "arrowcolor": "#2a3f5f",
           "arrowhead": 0,
           "arrowwidth": 1
          },
          "autotypenumbers": "strict",
          "coloraxis": {
           "colorbar": {
            "outlinewidth": 0,
            "ticks": ""
           }
          },
          "colorscale": {
           "diverging": [
            [
             0,
             "#8e0152"
            ],
            [
             0.1,
             "#c51b7d"
            ],
            [
             0.2,
             "#de77ae"
            ],
            [
             0.3,
             "#f1b6da"
            ],
            [
             0.4,
             "#fde0ef"
            ],
            [
             0.5,
             "#f7f7f7"
            ],
            [
             0.6,
             "#e6f5d0"
            ],
            [
             0.7,
             "#b8e186"
            ],
            [
             0.8,
             "#7fbc41"
            ],
            [
             0.9,
             "#4d9221"
            ],
            [
             1,
             "#276419"
            ]
           ],
           "sequential": [
            [
             0,
             "#0d0887"
            ],
            [
             0.1111111111111111,
             "#46039f"
            ],
            [
             0.2222222222222222,
             "#7201a8"
            ],
            [
             0.3333333333333333,
             "#9c179e"
            ],
            [
             0.4444444444444444,
             "#bd3786"
            ],
            [
             0.5555555555555556,
             "#d8576b"
            ],
            [
             0.6666666666666666,
             "#ed7953"
            ],
            [
             0.7777777777777778,
             "#fb9f3a"
            ],
            [
             0.8888888888888888,
             "#fdca26"
            ],
            [
             1,
             "#f0f921"
            ]
           ],
           "sequentialminus": [
            [
             0,
             "#0d0887"
            ],
            [
             0.1111111111111111,
             "#46039f"
            ],
            [
             0.2222222222222222,
             "#7201a8"
            ],
            [
             0.3333333333333333,
             "#9c179e"
            ],
            [
             0.4444444444444444,
             "#bd3786"
            ],
            [
             0.5555555555555556,
             "#d8576b"
            ],
            [
             0.6666666666666666,
             "#ed7953"
            ],
            [
             0.7777777777777778,
             "#fb9f3a"
            ],
            [
             0.8888888888888888,
             "#fdca26"
            ],
            [
             1,
             "#f0f921"
            ]
           ]
          },
          "colorway": [
           "#636efa",
           "#EF553B",
           "#00cc96",
           "#ab63fa",
           "#FFA15A",
           "#19d3f3",
           "#FF6692",
           "#B6E880",
           "#FF97FF",
           "#FECB52"
          ],
          "font": {
           "color": "#2a3f5f"
          },
          "geo": {
           "bgcolor": "white",
           "lakecolor": "white",
           "landcolor": "#E5ECF6",
           "showlakes": true,
           "showland": true,
           "subunitcolor": "white"
          },
          "hoverlabel": {
           "align": "left"
          },
          "hovermode": "closest",
          "mapbox": {
           "style": "light"
          },
          "paper_bgcolor": "white",
          "plot_bgcolor": "#E5ECF6",
          "polar": {
           "angularaxis": {
            "gridcolor": "white",
            "linecolor": "white",
            "ticks": ""
           },
           "bgcolor": "#E5ECF6",
           "radialaxis": {
            "gridcolor": "white",
            "linecolor": "white",
            "ticks": ""
           }
          },
          "scene": {
           "xaxis": {
            "backgroundcolor": "#E5ECF6",
            "gridcolor": "white",
            "gridwidth": 2,
            "linecolor": "white",
            "showbackground": true,
            "ticks": "",
            "zerolinecolor": "white"
           },
           "yaxis": {
            "backgroundcolor": "#E5ECF6",
            "gridcolor": "white",
            "gridwidth": 2,
            "linecolor": "white",
            "showbackground": true,
            "ticks": "",
            "zerolinecolor": "white"
           },
           "zaxis": {
            "backgroundcolor": "#E5ECF6",
            "gridcolor": "white",
            "gridwidth": 2,
            "linecolor": "white",
            "showbackground": true,
            "ticks": "",
            "zerolinecolor": "white"
           }
          },
          "shapedefaults": {
           "line": {
            "color": "#2a3f5f"
           }
          },
          "ternary": {
           "aaxis": {
            "gridcolor": "white",
            "linecolor": "white",
            "ticks": ""
           },
           "baxis": {
            "gridcolor": "white",
            "linecolor": "white",
            "ticks": ""
           },
           "bgcolor": "#E5ECF6",
           "caxis": {
            "gridcolor": "white",
            "linecolor": "white",
            "ticks": ""
           }
          },
          "title": {
           "x": 0.05
          },
          "xaxis": {
           "automargin": true,
           "gridcolor": "white",
           "linecolor": "white",
           "ticks": "",
           "title": {
            "standoff": 15
           },
           "zerolinecolor": "white",
           "zerolinewidth": 2
          },
          "yaxis": {
           "automargin": true,
           "gridcolor": "white",
           "linecolor": "white",
           "ticks": "",
           "title": {
            "standoff": 15
           },
           "zerolinecolor": "white",
           "zerolinewidth": 2
          }
         }
        }
       }
      }
     },
     "metadata": {},
     "output_type": "display_data"
    }
   ],
   "source": [
    "import plotly.graph_objects as go\n",
    "\n",
    "base_x,base_y = baseline_prediction_interval(7)\n",
    "\n",
    "# Plotting\n",
    "fig = go.Figure()\n",
    "\n",
    "fig.add_trace(go.Scatter(\n",
    "    x=base_x,\n",
    "    y=base_y,\n",
    "    fill='toself',\n",
    "    fillcolor='rgba(0,100,80,0.2)',  # semi-transparent fill\n",
    "    line=dict(color='rgba(255,255,255,0)'),\n",
    "    name='95% Prediction Interval',\n",
    "    hoverinfo=\"skip\"\n",
    "))\n",
    "\n",
    "fig.show()"
   ]
  },
  {
   "cell_type": "markdown",
   "metadata": {},
   "source": [
    "The prediction interval is based upon a sample of baseline tests. In which the number of agents trained for the task remain the same for the duration of the training.\n",
    "Timesteps are adjusted to reflect the ratio of compute required to complete a round of training for each set of agents. For example, due to negligent overhead associated with managing the environment, training four agents takes twice as many operations as training two.\n"
   ]
  },
  {
   "cell_type": "code",
   "execution_count": null,
   "metadata": {},
   "outputs": [
    {
     "data": {
      "application/vnd.plotly.v1+json": {
       "config": {
        "plotlyServerURL": "https://plot.ly"
       },
       "data": [
        {
         "hovertemplate": "Pretraining Length=20<br>Agent-steps=%{x}<br>Mean Episode Reward per Agent=%{y}<extra></extra>",
         "legendgroup": "20",
         "line": {
          "color": "#3366CC",
          "dash": "solid",
          "shape": "spline"
         },
         "marker": {
          "symbol": "circle"
         },
         "mode": "lines",
         "name": "20",
         "orientation": "v",
         "showlegend": true,
         "type": "scatter",
         "x": [
          40,
          44,
          48,
          52,
          56,
          60,
          64,
          68,
          72,
          76,
          80,
          84,
          88,
          92,
          96,
          100,
          104,
          108,
          112,
          116,
          120,
          124,
          128,
          132,
          136,
          140,
          144,
          148,
          152,
          156,
          160,
          164,
          168,
          172,
          176,
          180,
          184,
          188,
          192,
          196,
          200,
          204,
          208,
          212,
          216,
          220,
          224,
          228,
          232,
          236,
          240,
          244,
          248,
          252,
          256,
          260,
          264,
          268,
          272,
          276,
          280,
          284,
          288,
          292,
          296,
          300,
          304,
          308,
          312,
          316,
          320,
          324,
          328,
          332,
          336,
          340,
          344,
          348,
          352,
          356,
          360,
          364,
          368,
          372,
          376,
          380,
          384,
          388,
          392,
          396,
          400,
          404,
          408,
          412,
          416,
          420,
          424,
          428,
          432,
          436,
          440,
          444,
          448,
          452,
          456,
          460,
          464,
          468,
          472,
          476,
          480,
          484,
          488,
          492,
          496,
          500,
          504,
          508,
          512,
          516,
          520,
          524,
          528,
          532,
          536,
          540,
          544,
          548,
          552,
          556,
          560,
          564,
          568,
          572,
          576,
          580,
          584,
          588,
          592,
          596,
          600,
          604,
          608,
          612,
          616,
          620,
          624,
          628,
          632,
          636,
          640,
          644,
          648,
          652,
          656,
          660,
          664,
          668,
          672,
          676,
          680,
          684,
          688,
          692,
          696,
          700,
          704,
          708,
          712,
          716,
          720,
          724,
          728,
          732,
          736,
          740,
          744,
          748,
          752,
          756
         ],
         "xaxis": "x",
         "y": [
          -46.44891969259791,
          -46.44891969259791,
          -46.44891969259791,
          -46.44891969259791,
          -46.44891969259791,
          -46.44891969259791,
          -46.44891969259791,
          -41.506331506629884,
          -41.506331506629884,
          -41.506331506629884,
          -41.506331506629884,
          -36.992991022430026,
          -36.992991022430026,
          -36.992991022430026,
          -35.26109456847953,
          -29.775696071992368,
          -29.775696071992368,
          -29.775696071992368,
          -22.76598309521003,
          -22.76598309521003,
          -22.76598309521003,
          -22.76598309521003,
          -16.759985323341883,
          -16.759985323341883,
          -16.759985323341883,
          -16.759985323341883,
          -10.791686038230251,
          -10.791686038230251,
          -10.791686038230251,
          -8.338788656848601,
          -5.194702629208254,
          -5.194702629208254,
          -5.194702629208254,
          -0.4709260582348751,
          -0.4709260582348751,
          -0.4709260582348751,
          -0.4709260582348751,
          2.294380634348794,
          2.294380634348794,
          2.294380634348794,
          2.294380634348794,
          3.9412558202099732,
          3.9412558202099732,
          3.9412558202099732,
          5.2058552655086645,
          6.736635801841472,
          6.736635801841472,
          6.736635801841472,
          9.176882107678814,
          9.176882107678814,
          9.176882107678814,
          9.176882107678814,
          12.342463270888189,
          12.342463270888189,
          12.342463270888189,
          14.145884496508954,
          16.18669640905001,
          16.18669640905001,
          16.18669640905001,
          16.789229921248264,
          18.17620193851236,
          18.17620193851236,
          18.17620193851236,
          19.82164899743951,
          19.82164899743951,
          19.82164899743951,
          19.82164899743951,
          20.902733924542048,
          20.902733924542048,
          20.902733924542048,
          20.595977946244886,
          20.732700732743904,
          20.732700732743904,
          20.732700732743904,
          20.88903647097724,
          22.62716416046963,
          22.62716416046963,
          22.62716416046963,
          23.487798772990146,
          23.487798772990146,
          23.487798772990146,
          23.487798772990146,
          25.29720355529611,
          25.29720355529611,
          25.29720355529611,
          26.027228771585584,
          27.20489735017846,
          27.20489735017846,
          27.20489735017846,
          27.314204062914484,
          27.46302505852714,
          27.46302505852714,
          27.46302505852714,
          27.91995405828013,
          27.91995405828013,
          27.91995405828013,
          27.91995405828013,
          27.875416732343524,
          27.875416732343524,
          27.875416732343524,
          28.383971157063982,
          28.803014164386862,
          28.803014164386862,
          28.803014164386862,
          29.052392327931894,
          28.177251748228002,
          28.177251748228002,
          28.177251748228002,
          28.935660242471982,
          29.287942462096254,
          29.287942462096254,
          29.444288000419025,
          28.524625993021406,
          28.524625993021406,
          28.524625993021406,
          28.46703197871734,
          28.980102934308434,
          28.980102934308434,
          28.980102934308434,
          29.976362899601835,
          30.47694169820898,
          30.47694169820898,
          30.47694169820898,
          30.84138625371901,
          31.940223339435533,
          31.940223339435533,
          31.986137351504293,
          33.14545019127604,
          33.14545019127604,
          33.14545019127604,
          32.73865948789253,
          32.77270039775731,
          32.77270039775731,
          32.77270039775731,
          32.317902272422735,
          32.456784029265386,
          32.456784029265386,
          32.456784029265386,
          32.71461319027628,
          32.43031836758687,
          32.43031836758687,
          32.29289231161031,
          32.449149888303225,
          32.449149888303225,
          32.449149888303225,
          32.93141197210113,
          33.89121150586649,
          33.89121150586649,
          33.89121150586649,
          33.12788429426519,
          32.87244850482179,
          32.87244850482179,
          33.61138838829143,
          33.61138838829143,
          33.86192453790764,
          33.86192453790764,
          33.462771247731304,
          32.9929026115071,
          32.9929026115071,
          32.9929026115071,
          33.742760665624004,
          35.122141264565364,
          35.122141264565364,
          35.122141264565364,
          36.24644360843537,
          36.781464112642915,
          36.781464112642915,
          36.81984696170968,
          36.81984696170968,
          38.041556917131246,
          38.041556917131246,
          38.2936884215349,
          38.30841462654053,
          38.30841462654053,
          38.30841462654053,
          37.90651019830303,
          37.54215958566277,
          37.54215958566277,
          37.54215958566277,
          37.32639822409805
         ],
         "yaxis": "y"
        },
        {
         "hovertemplate": "Pretraining Length=40<br>Agent-steps=%{x}<br>Mean Episode Reward per Agent=%{y}<extra></extra>",
         "legendgroup": "40",
         "line": {
          "color": "#DC3912",
          "dash": "solid",
          "shape": "spline"
         },
         "marker": {
          "symbol": "circle"
         },
         "mode": "lines",
         "name": "40",
         "orientation": "v",
         "showlegend": true,
         "type": "scatter",
         "x": [
          80,
          84,
          88,
          92,
          96,
          100,
          104,
          108,
          112,
          116,
          120,
          124,
          128,
          132,
          136,
          140,
          144,
          148,
          152,
          156,
          160,
          164,
          168,
          172,
          176,
          180,
          184,
          188,
          192,
          196,
          200,
          204,
          208,
          212,
          216,
          220,
          224,
          228,
          232,
          236,
          240,
          244,
          248,
          252,
          256,
          260,
          264,
          268,
          272,
          276,
          280,
          284,
          288,
          292,
          296,
          300,
          304,
          308,
          312,
          316,
          320,
          324,
          328,
          332,
          336,
          340,
          344,
          348,
          352,
          356,
          360,
          364,
          368,
          372,
          376,
          380,
          384,
          388,
          392,
          396,
          400,
          404,
          408,
          412,
          416,
          420,
          424,
          428,
          432,
          436,
          440,
          444,
          448,
          452,
          456,
          460,
          464,
          468,
          472,
          476,
          480,
          484,
          488,
          492,
          496,
          500,
          504,
          508,
          512,
          516,
          520,
          524,
          528,
          532,
          536,
          540,
          544,
          548,
          552,
          556,
          560,
          564,
          568,
          572,
          576,
          580,
          584,
          588,
          592,
          596,
          600,
          604,
          608,
          612,
          616,
          620,
          624,
          628,
          632,
          636,
          640,
          644,
          648,
          652,
          656,
          660,
          664,
          668,
          672,
          676,
          680,
          684,
          688,
          692,
          696,
          700,
          704,
          708,
          712,
          716
         ],
         "xaxis": "x",
         "y": [
          -15.009718398168019,
          -15.009718398168019,
          -15.009718398168019,
          -15.009718398168019,
          -15.009718398168019,
          -15.009718398168019,
          -15.009718398168019,
          -12.378571451082577,
          -12.378571451082577,
          -12.378571451082577,
          -12.378571451082577,
          -8.629150165732314,
          -8.629150165732314,
          -8.629150165732314,
          -7.642948944417018,
          -4.595476377441182,
          -4.595476377441182,
          -4.595476377441182,
          -0.38795449200868953,
          -0.38795449200868953,
          -0.38795449200868953,
          -0.38795449200868953,
          2.863929961035219,
          2.863929961035219,
          2.863929961035219,
          2.863929961035219,
          4.757176419683223,
          4.757176419683223,
          4.757176419683223,
          5.862792001758293,
          6.915860124110372,
          6.915860124110372,
          6.915860124110372,
          9.333296671992413,
          9.333296671992413,
          9.333296671992413,
          9.333296671992413,
          10.796005728350238,
          10.796005728350238,
          10.796005728350238,
          10.796005728350238,
          12.500851291317996,
          12.500851291317996,
          12.500851291317996,
          13.328526314228974,
          13.3464837060317,
          13.3464837060317,
          13.3464837060317,
          14.420825529736113,
          14.420825529736113,
          14.420825529736113,
          14.420825529736113,
          15.964306899556957,
          15.964306899556957,
          15.964306899556957,
          16.542722525394154,
          17.3926968435229,
          17.3926968435229,
          17.3926968435229,
          17.598291366065183,
          18.209028736276807,
          18.209028736276807,
          18.209028736276807,
          19.922590546111763,
          19.922590546111763,
          19.922590546111763,
          19.922590546111763,
          20.997817012817578,
          20.997817012817578,
          20.997817012817578,
          21.252524991628697,
          22.042884619656405,
          22.042884619656405,
          22.042884619656405,
          21.62455754446334,
          21.686894820970533,
          21.686894820970533,
          21.686894820970533,
          21.763479938800387,
          21.763479938800387,
          21.763479938800387,
          21.763479938800387,
          22.608607452882325,
          22.608607452882325,
          22.608607452882325,
          22.53473503083207,
          24.043632489525354,
          24.043632489525354,
          24.043632489525354,
          23.697032251206256,
          24.265274245520562,
          24.265274245520562,
          24.265274245520562,
          24.347956123840433,
          24.347956123840433,
          24.347956123840433,
          24.347956123840433,
          23.60767977639832,
          23.60767977639832,
          23.60767977639832,
          22.97740291363327,
          23.20868604199023,
          23.20868604199023,
          23.20868604199023,
          22.787628269709238,
          23.680736951820155,
          23.680736951820155,
          23.680736951820155,
          25.112027240555754,
          26.292652622439267,
          26.292652622439267,
          26.34440334897736,
          28.343441013980303,
          28.343441013980303,
          28.343441013980303,
          28.240137241056047,
          28.320932954444114,
          28.320932954444114,
          28.320932954444114,
          28.87431411904529,
          28.205559568799387,
          28.205559568799387,
          28.205559568799387,
          28.220496495838244,
          28.745293601272078,
          28.745293601272078,
          28.986726861117575,
          30.169897412000243,
          30.169897412000243,
          30.169897412000243,
          30.53048784158477,
          31.06033242235159,
          31.06033242235159,
          31.06033242235159,
          31.276064083903133,
          32.36636813247045,
          32.36636813247045,
          32.36636813247045,
          32.83675438894693,
          32.22354396871855,
          32.22354396871855,
          32.198140270335756,
          31.699419150164207,
          31.699419150164207,
          31.699419150164207,
          32.082180144144225,
          33.02519373355175,
          33.02519373355175,
          33.02519373355175,
          32.836301734266414,
          34.25408596327133,
          34.25408596327133,
          34.2755716765017,
          34.2755716765017,
          35.62176532645144,
          35.62176532645144,
          36.48174885109594,
          36.01032029971718,
          36.01032029971718,
          36.01032029971718
         ],
         "yaxis": "y"
        },
        {
         "hovertemplate": "Pretraining Length=60<br>Agent-steps=%{x}<br>Mean Episode Reward per Agent=%{y}<extra></extra>",
         "legendgroup": "60",
         "line": {
          "color": "#FF9900",
          "dash": "solid",
          "shape": "spline"
         },
         "marker": {
          "symbol": "circle"
         },
         "mode": "lines",
         "name": "60",
         "orientation": "v",
         "showlegend": true,
         "type": "scatter",
         "x": [
          120,
          124,
          128,
          132,
          136,
          140,
          144,
          148,
          152,
          156,
          160,
          164,
          168,
          172,
          176,
          180,
          184,
          188,
          192,
          196,
          200,
          204,
          208,
          212,
          216,
          220,
          224,
          228,
          232,
          236,
          240,
          244,
          248,
          252,
          256,
          260,
          264,
          268,
          272,
          276,
          280,
          284,
          288,
          292,
          296,
          300,
          304,
          308,
          312,
          316,
          320,
          324,
          328,
          332,
          336,
          340,
          344,
          348,
          352,
          356,
          360,
          364,
          368,
          372,
          376,
          380,
          384,
          388,
          392,
          396,
          400,
          404,
          408,
          412,
          416,
          420,
          424,
          428,
          432,
          436,
          440,
          444,
          448,
          452,
          456,
          460,
          464,
          468,
          472,
          476,
          480,
          484,
          488,
          492,
          496,
          500,
          504,
          508,
          512,
          516,
          520,
          524,
          528,
          532,
          536,
          540,
          544,
          548,
          552,
          556,
          560,
          564,
          568,
          572,
          576,
          580,
          584,
          588,
          592,
          596,
          600,
          604,
          608,
          612,
          616,
          620,
          624,
          628,
          632,
          636,
          640,
          644,
          648,
          652,
          656,
          660,
          664,
          668,
          672,
          676
         ],
         "xaxis": "x",
         "y": [
          10.127696383941366,
          10.127696383941366,
          10.127696383941366,
          10.127696383941366,
          10.127696383941366,
          10.127696383941366,
          10.127696383941366,
          12.067001307915236,
          12.067001307915236,
          12.067001307915236,
          12.067001307915236,
          13.657025234335064,
          13.657025234335064,
          13.657025234335064,
          14.445012515312127,
          15.964401635404244,
          15.964401635404244,
          15.964401635404244,
          17.7465499436078,
          17.7465499436078,
          17.7465499436078,
          17.7465499436078,
          18.980620376988806,
          18.980620376988806,
          18.980620376988806,
          18.980620376988806,
          19.19876330911366,
          19.19876330911366,
          19.19876330911366,
          19.558968535444844,
          19.860260159108982,
          19.860260159108982,
          19.860260159108982,
          21.769373259753635,
          21.769373259753635,
          21.769373259753635,
          21.769373259753635,
          23.73158736640113,
          23.73158736640113,
          23.73158736640113,
          23.73158736640113,
          24.598706526693103,
          24.598706526693103,
          24.598706526693103,
          25.089073418227464,
          24.86720062999676,
          24.86720062999676,
          24.86720062999676,
          24.002913819368892,
          24.002913819368892,
          24.002913819368892,
          24.002913819368892,
          23.68019150708237,
          23.68019150708237,
          23.68019150708237,
          24.261786180609395,
          24.34922871290681,
          24.34922871290681,
          24.34922871290681,
          24.836867373482733,
          26.121958839005593,
          26.121958839005593,
          26.121958839005593,
          27.469802661323865,
          27.469802661323865,
          27.469802661323865,
          27.469802661323865,
          30.48553891515712,
          30.48553891515712,
          30.48553891515712,
          30.829871825787606,
          30.45249290292394,
          30.45249290292394,
          30.45249290292394,
          30.657488569930035,
          30.558536379538143,
          30.558536379538143,
          30.558536379538143,
          30.135200410748528,
          30.135200410748528,
          30.135200410748528,
          30.135200410748528,
          31.141923579984326,
          31.141923579984326,
          31.141923579984326,
          31.655800186375156,
          32.07679008873055,
          32.07679008873055,
          32.07679008873055,
          32.520629830401326,
          32.242146869656736,
          32.242146869656736,
          32.242146869656736,
          33.24670204201274,
          33.24670204201274,
          33.24670204201274,
          33.24670204201274,
          32.90229664095868,
          32.90229664095868,
          32.90229664095868,
          32.634283038725776,
          32.91416185692663,
          32.91416185692663,
          32.91416185692663,
          33.560267316427,
          32.667644125681164,
          32.667644125681164,
          32.667644125681164,
          33.0642260381945,
          32.944367567658894,
          32.944367567658894,
          33.84448936518013,
          34.46040144637693,
          34.46040144637693,
          34.46040144637693,
          34.43816647500673,
          34.14684179866376,
          34.14684179866376,
          34.14684179866376,
          34.57995901955568,
          35.31500108742281,
          35.31500108742281,
          35.31500108742281,
          35.50836138132589,
          35.55037045900869,
          35.55037045900869,
          35.89800225854255,
          36.31746660151547,
          36.31746660151547,
          36.31746660151547,
          37.39516921387611,
          37.24520406610883,
          37.24520406610883,
          37.24520406610883,
          37.58422687860312,
          37.60152940355831,
          37.60152940355831,
          37.60152940355831,
          38.385689217278966,
          38.43283511161272
         ],
         "yaxis": "y"
        },
        {
         "hovertemplate": "Pretraining Length=80<br>Agent-steps=%{x}<br>Mean Episode Reward per Agent=%{y}<extra></extra>",
         "legendgroup": "80",
         "line": {
          "color": "#109618",
          "dash": "solid",
          "shape": "spline"
         },
         "marker": {
          "symbol": "circle"
         },
         "mode": "lines",
         "name": "80",
         "orientation": "v",
         "showlegend": true,
         "type": "scatter",
         "x": [
          160,
          164,
          168,
          172,
          176,
          180,
          184,
          188,
          192,
          196,
          200,
          204,
          208,
          212,
          216,
          220,
          224,
          228,
          232,
          236,
          240,
          244,
          248,
          252,
          256,
          260,
          264,
          268,
          272,
          276,
          280,
          284,
          288,
          292,
          296,
          300,
          304,
          308,
          312,
          316,
          320,
          324,
          328,
          332,
          336,
          340,
          344,
          348,
          352,
          356,
          360,
          364,
          368,
          372,
          376,
          380,
          384,
          388,
          392,
          396,
          400,
          404,
          408,
          412,
          416,
          420,
          424,
          428,
          432,
          436,
          440,
          444,
          448,
          452,
          456,
          460,
          464,
          468,
          472,
          476,
          480,
          484,
          488,
          492,
          496,
          500,
          504,
          508,
          512,
          516,
          520,
          524,
          528,
          532,
          536,
          540,
          544,
          548,
          552,
          556,
          560,
          564,
          568,
          572,
          576,
          580,
          584,
          588,
          592,
          596,
          600,
          604,
          608,
          612,
          616,
          620,
          624,
          628,
          632,
          636
         ],
         "xaxis": "x",
         "y": [
          17.48964128038573,
          17.48964128038573,
          17.48964128038573,
          17.48964128038573,
          17.48964128038573,
          17.48964128038573,
          17.48964128038573,
          18.46331880675112,
          18.46331880675112,
          18.46331880675112,
          18.46331880675112,
          17.9440143007085,
          17.9440143007085,
          17.9440143007085,
          18.26823894524474,
          19.738472728048016,
          19.738472728048016,
          19.738472728048016,
          19.03434920891762,
          19.03434920891762,
          19.03434920891762,
          19.03434920891762,
          19.224665620008064,
          19.224665620008064,
          19.224665620008064,
          19.224665620008064,
          19.593155867995797,
          19.593155867995797,
          19.593155867995797,
          20.812644121756765,
          22.96965859825147,
          22.96965859825147,
          22.96965859825147,
          25.636383761889594,
          25.636383761889594,
          25.636383761889594,
          25.636383761889594,
          29.58803991662963,
          29.58803991662963,
          29.58803991662963,
          29.58803991662963,
          30.50961097423704,
          30.50961097423704,
          30.50961097423704,
          31.13839549152841,
          29.060258914740718,
          29.060258914740718,
          29.060258914740718,
          29.43164291896869,
          29.43164291896869,
          29.43164291896869,
          29.43164291896869,
          29.086502635879267,
          29.086502635879267,
          29.086502635879267,
          29.800646402583816,
          29.833560131534977,
          29.833560131534977,
          29.833560131534977,
          31.541837308572788,
          30.60359974760218,
          30.60359974760218,
          30.60359974760218,
          30.80723995741671,
          30.80723995741671,
          30.80723995741671,
          30.80723995741671,
          31.334283273437784,
          31.334283273437784,
          31.334283273437784,
          31.88366191225618,
          32.46592178565854,
          32.46592178565854,
          32.46592178565854,
          32.988237277501916,
          34.06568310434687,
          34.06568310434687,
          34.06568310434687,
          35.641242753298975,
          35.641242753298975,
          35.641242753298975,
          35.641242753298975,
          35.89442172131323,
          35.89442172131323,
          35.89442172131323,
          35.61131191357463,
          35.446703938689595,
          35.446703938689595,
          35.446703938689595,
          35.75961686196409,
          35.12281665969707,
          35.12281665969707,
          35.12281665969707,
          34.39601875161495,
          34.39601875161495,
          34.39601875161495,
          34.39601875161495,
          34.499697638626785,
          34.499697638626785,
          34.499697638626785,
          35.07290510107566,
          34.2279981179304,
          34.2279981179304,
          34.2279981179304,
          34.415475428455714,
          35.592665306413366,
          35.592665306413366,
          35.592665306413366,
          35.36363598703458,
          36.422689141928984,
          36.422689141928984,
          36.84019200795088,
          37.75538830249862,
          37.75538830249862,
          37.75538830249862,
          38.18160821581319,
          39.41416589502192,
          39.41416589502192,
          39.41416589502192,
          39.90566359630576
         ],
         "yaxis": "y"
        },
        {
         "hovertemplate": "Pretraining Length=100<br>Agent-steps=%{x}<br>Mean Episode Reward per Agent=%{y}<extra></extra>",
         "legendgroup": "100",
         "line": {
          "color": "#990099",
          "dash": "solid",
          "shape": "spline"
         },
         "marker": {
          "symbol": "circle"
         },
         "mode": "lines",
         "name": "100",
         "orientation": "v",
         "showlegend": true,
         "type": "scatter",
         "x": [
          200,
          204,
          208,
          212,
          216,
          220,
          224,
          228,
          232,
          236,
          240,
          244,
          248,
          252,
          256,
          260,
          264,
          268,
          272,
          276,
          280,
          284,
          288,
          292,
          296,
          300,
          304,
          308,
          312,
          316,
          320,
          324,
          328,
          332,
          336,
          340,
          344,
          348,
          352,
          356,
          360,
          364,
          368,
          372,
          376,
          380,
          384,
          388,
          392,
          396,
          400,
          404,
          408,
          412,
          416,
          420,
          424,
          428,
          432,
          436,
          440,
          444,
          448,
          452,
          456,
          460,
          464,
          468,
          472,
          476,
          480,
          484,
          488,
          492,
          496,
          500,
          504,
          508,
          512,
          516,
          520,
          524,
          528,
          532,
          536,
          540,
          544,
          548,
          552,
          556,
          560,
          564,
          568,
          572,
          576,
          580,
          584,
          588,
          592,
          596
         ],
         "xaxis": "x",
         "y": [
          20.10089465428292,
          20.10089465428292,
          20.10089465428292,
          20.10089465428292,
          20.10089465428292,
          20.10089465428292,
          20.10089465428292,
          21.887359613200697,
          21.887359613200697,
          21.887359613200697,
          21.887359613200697,
          22.351877032838235,
          22.351877032838235,
          22.351877032838235,
          22.411641275858944,
          24.291812403880925,
          24.291812403880925,
          24.291812403880925,
          25.04694801805918,
          25.04694801805918,
          25.04694801805918,
          25.04694801805918,
          27.178092762566592,
          27.178092762566592,
          27.178092762566592,
          27.178092762566592,
          26.823693291307325,
          26.823693291307325,
          26.823693291307325,
          27.504867078894407,
          29.024557150550137,
          29.024557150550137,
          29.024557150550137,
          28.977640220906633,
          28.977640220906633,
          28.977640220906633,
          28.977640220906633,
          30.22497822563184,
          30.22497822563184,
          30.22497822563184,
          30.22497822563184,
          30.95645830554793,
          30.95645830554793,
          30.95645830554793,
          30.30837193539952,
          30.298147216793705,
          30.298147216793705,
          30.298147216793705,
          29.214272221136152,
          29.214272221136152,
          29.214272221136152,
          29.214272221136152,
          28.0877541842128,
          28.0877541842128,
          28.0877541842128,
          28.08724722327403,
          26.8439582643571,
          26.8439582643571,
          26.8439582643571,
          27.617142514521678,
          27.223636828740116,
          27.223636828740116,
          27.223636828740116,
          27.770184031536072,
          27.770184031536072,
          27.770184031536072,
          27.770184031536072,
          28.13659916385262,
          28.13659916385262,
          28.13659916385262,
          29.29118120362226,
          29.11826819913304,
          29.11826819913304,
          29.11826819913304,
          29.194061690300597,
          28.424410567154244,
          28.424410567154244,
          28.424410567154244,
          27.73310668269382,
          27.73310668269382,
          27.73310668269382,
          27.73310668269382,
          26.165460168314933,
          26.165460168314933,
          26.165460168314933,
          27.039401258047317,
          26.567276903175962,
          26.567276903175962,
          26.567276903175962,
          27.038627673822578,
          27.65619363426173,
          27.65619363426173,
          27.65619363426173,
          31.111432590371397,
          31.111432590371397,
          31.111432590371397,
          31.111432590371397,
          29.86915062033961,
          29.86915062033961,
          29.86915062033961
         ],
         "yaxis": "y"
        },
        {
         "hovertemplate": "Pretraining Length=120<br>Agent-steps=%{x}<br>Mean Episode Reward per Agent=%{y}<extra></extra>",
         "legendgroup": "120",
         "line": {
          "color": "#0099C6",
          "dash": "solid",
          "shape": "spline"
         },
         "marker": {
          "symbol": "circle"
         },
         "mode": "lines",
         "name": "120",
         "orientation": "v",
         "showlegend": true,
         "type": "scatter",
         "x": [
          240,
          244,
          248,
          252,
          256,
          260,
          264,
          268,
          272,
          276,
          280,
          284,
          288,
          292,
          296,
          300,
          304,
          308,
          312,
          316,
          320,
          324,
          328,
          332,
          336,
          340,
          344,
          348,
          352,
          356,
          360,
          364,
          368,
          372,
          376,
          380,
          384,
          388,
          392,
          396,
          400,
          404,
          408,
          412,
          416,
          420,
          424,
          428,
          432,
          436,
          440,
          444,
          448,
          452,
          456,
          460,
          464,
          468,
          472,
          476,
          480,
          484,
          488,
          492,
          496,
          500,
          504,
          508,
          512,
          516,
          520,
          524,
          528,
          532,
          536,
          540,
          544,
          548,
          552,
          556
         ],
         "xaxis": "x",
         "y": [
          21.73115157877018,
          21.73115157877018,
          21.73115157877018,
          21.73115157877018,
          21.73115157877018,
          21.73115157877018,
          21.73115157877018,
          21.743586264284612,
          21.743586264284612,
          21.743586264284612,
          21.743586264284612,
          24.5682845382533,
          24.5682845382533,
          24.5682845382533,
          24.656378772982116,
          24.93916049025715,
          24.93916049025715,
          24.93916049025715,
          27.826090341341377,
          27.826090341341377,
          27.826090341341377,
          27.826090341341377,
          26.851533490542494,
          26.851533490542494,
          26.851533490542494,
          26.851533490542494,
          26.572428103113328,
          26.572428103113328,
          26.572428103113328,
          27.87704891996436,
          28.422383653148756,
          28.422383653148756,
          28.422383653148756,
          31.070525763510528,
          31.070525763510528,
          31.070525763510528,
          31.070525763510528,
          33.98681797386426,
          33.98681797386426,
          33.98681797386426,
          33.98681797386426,
          32.58794277523339,
          32.58794277523339,
          32.58794277523339,
          33.13846657521821,
          32.02776295451004,
          32.02776295451004,
          32.02776295451004,
          31.23391887005473,
          31.23391887005473,
          31.23391887005473,
          31.23391887005473,
          31.33825298897124,
          31.33825298897124,
          31.33825298897124,
          32.427305134309925,
          32.1096299086036,
          32.1096299086036,
          32.1096299086036,
          32.34453485349907,
          34.157021640485894,
          34.157021640485894,
          34.157021640485894,
          33.08202758966998,
          33.08202758966998,
          33.08202758966998,
          33.08202758966998,
          35.05756648549934,
          35.05756648549934,
          35.05756648549934,
          36.32670687214587,
          37.061660169828436,
          37.061660169828436,
          37.061660169828436,
          36.84257303327918,
          38.30698671626523,
          38.30698671626523,
          38.30698671626523,
          38.534443590655485,
          38.534443590655485
         ],
         "yaxis": "y"
        },
        {
         "hovertemplate": "Pretraining Length=140<br>Agent-steps=%{x}<br>Mean Episode Reward per Agent=%{y}<extra></extra>",
         "legendgroup": "140",
         "line": {
          "color": "#DD4477",
          "dash": "solid",
          "shape": "spline"
         },
         "marker": {
          "symbol": "circle"
         },
         "mode": "lines",
         "name": "140",
         "orientation": "v",
         "showlegend": true,
         "type": "scatter",
         "x": [
          280,
          284,
          288,
          292,
          296,
          300,
          304,
          308,
          312,
          316,
          320,
          324,
          328,
          332,
          336,
          340,
          344,
          348,
          352,
          356,
          360,
          364,
          368,
          372,
          376,
          380,
          384,
          388,
          392,
          396,
          400,
          404,
          408,
          412,
          416,
          420,
          424,
          428,
          432,
          436,
          440,
          444,
          448,
          452,
          456,
          460,
          464,
          468,
          472,
          476,
          480,
          484,
          488,
          492,
          496,
          500,
          504,
          508,
          512,
          516
         ],
         "xaxis": "x",
         "y": [
          22.74718318059559,
          22.74718318059559,
          22.74718318059559,
          22.74718318059559,
          22.74718318059559,
          22.74718318059559,
          22.74718318059559,
          24.108241753797586,
          24.108241753797586,
          24.108241753797586,
          24.108241753797586,
          25.0605555617392,
          25.0605555617392,
          25.0605555617392,
          25.591701953093544,
          26.101227172828484,
          26.101227172828484,
          26.101227172828484,
          27.554172909044993,
          27.554172909044993,
          27.554172909044993,
          27.554172909044993,
          29.270064732886524,
          29.270064732886524,
          29.270064732886524,
          29.270064732886524,
          31.712159868035148,
          31.712159868035148,
          31.712159868035148,
          31.397076542332815,
          29.57452231829204,
          29.57452231829204,
          29.57452231829204,
          29.068241430873513,
          29.068241430873513,
          29.068241430873513,
          29.068241430873513,
          28.347480956897034,
          28.347480956897034,
          28.347480956897034,
          28.347480956897034,
          29.661420678810657,
          29.661420678810657,
          29.661420678810657,
          30.94030377808348,
          30.967639933356658,
          30.967639933356658,
          30.967639933356658,
          35.365491633538156,
          35.365491633538156,
          35.365491633538156,
          35.365491633538156,
          34.79208543441014,
          34.79208543441014,
          34.79208543441014,
          33.906682275168635,
          33.309283922529374,
          33.309283922529374,
          33.309283922529374,
          33.80554698414275
         ],
         "yaxis": "y"
        },
        {
         "hovertemplate": "Pretraining Length=160<br>Agent-steps=%{x}<br>Mean Episode Reward per Agent=%{y}<extra></extra>",
         "legendgroup": "160",
         "line": {
          "color": "#66AA00",
          "dash": "solid",
          "shape": "spline"
         },
         "marker": {
          "symbol": "circle"
         },
         "mode": "lines",
         "name": "160",
         "orientation": "v",
         "showlegend": true,
         "type": "scatter",
         "x": [
          320,
          324,
          328,
          332,
          336,
          340,
          344,
          348,
          352,
          356,
          360,
          364,
          368,
          372,
          376,
          380,
          384,
          388,
          392,
          396,
          400,
          404,
          408,
          412,
          416,
          420,
          424,
          428,
          432,
          436,
          440,
          444,
          448,
          452,
          456,
          460,
          464,
          468,
          472,
          476
         ],
         "xaxis": "x",
         "y": [
          24.847997145069268,
          24.847997145069268,
          24.847997145069268,
          24.847997145069268,
          24.847997145069268,
          24.847997145069268,
          24.847997145069268,
          22.8368402696654,
          22.8368402696654,
          22.8368402696654,
          22.8368402696654,
          23.748815662712396,
          23.748815662712396,
          23.748815662712396,
          24.03183325739085,
          24.43381786183789,
          24.43381786183789,
          24.43381786183789,
          24.148131242853978,
          24.148131242853978,
          24.148131242853978,
          24.148131242853978,
          25.65430243258239,
          25.65430243258239,
          25.65430243258239,
          25.65430243258239,
          26.827065888736314,
          26.827065888736314,
          26.827065888736314,
          28.31381859775819,
          31.549962815907985,
          31.549962815907985,
          31.549962815907985,
          30.73199546820714,
          30.73199546820714,
          30.73199546820714,
          30.73199546820714,
          31.813317167293917,
          31.813317167293917,
          31.813317167293917
         ],
         "yaxis": "y"
        },
        {
         "hovertemplate": "Pretraining Length=180<br>Agent-steps=%{x}<br>Mean Episode Reward per Agent=%{y}<extra></extra>",
         "legendgroup": "180",
         "line": {
          "color": "#B82E2E",
          "dash": "solid",
          "shape": "spline"
         },
         "marker": {
          "symbol": "circle"
         },
         "mode": "lines",
         "name": "180",
         "orientation": "v",
         "showlegend": true,
         "type": "scatter",
         "x": [
          360,
          364,
          368,
          372,
          376,
          380,
          384,
          388,
          392,
          396,
          400,
          404,
          408,
          412,
          416,
          420,
          424,
          428,
          432,
          436
         ],
         "xaxis": "x",
         "y": [
          20.87013832329379,
          20.87013832329379,
          20.87013832329379,
          20.87013832329379,
          20.87013832329379,
          20.87013832329379,
          20.87013832329379,
          22.605662262142932,
          22.605662262142932,
          22.605662262142932,
          22.605662262142932,
          24.87388182275341,
          24.87388182275341,
          24.87388182275341,
          24.826640591895185,
          27.942648364471545,
          27.942648364471545,
          27.942648364471545,
          29.12031888167505,
          29.12031888167505
         ],
         "yaxis": "y"
        },
        {
         "fill": "toself",
         "fillcolor": "rgba(0,100,80,0.2)",
         "hoverinfo": "skip",
         "line": {
          "color": "rgba(255,255,255,0)"
         },
         "name": "Baseline:<br>4 Agent 95%<br>Prediction<br>Interval",
         "type": "scatter",
         "x": [
          0,
          4,
          8,
          12,
          16,
          20,
          24,
          28,
          32,
          36,
          40,
          44,
          48,
          52,
          56,
          60,
          64,
          68,
          72,
          76,
          80,
          84,
          88,
          92,
          96,
          100,
          104,
          108,
          112,
          116,
          120,
          124,
          128,
          132,
          136,
          140,
          144,
          148,
          152,
          156,
          160,
          164,
          168,
          172,
          176,
          180,
          184,
          188,
          192,
          196,
          200,
          204,
          208,
          212,
          216,
          220,
          224,
          228,
          232,
          236,
          240,
          244,
          248,
          252,
          256,
          260,
          264,
          268,
          272,
          276,
          280,
          284,
          288,
          292,
          296,
          300,
          304,
          308,
          312,
          316,
          320,
          324,
          328,
          332,
          336,
          340,
          344,
          348,
          352,
          356,
          360,
          364,
          368,
          372,
          376,
          380,
          384,
          388,
          392,
          396,
          400,
          404,
          408,
          412,
          416,
          420,
          424,
          428,
          432,
          436,
          440,
          444,
          448,
          452,
          456,
          460,
          464,
          468,
          472,
          476,
          480,
          484,
          488,
          492,
          496,
          500,
          504,
          508,
          512,
          516,
          520,
          524,
          528,
          532,
          536,
          540,
          544,
          548,
          552,
          556,
          560,
          564,
          568,
          572,
          576,
          580,
          584,
          588,
          592,
          596,
          600,
          604,
          608,
          612,
          616,
          620,
          624,
          628,
          632,
          636,
          640,
          644,
          648,
          652,
          656,
          660,
          664,
          668,
          672,
          676,
          680,
          684,
          688,
          692,
          696,
          700,
          704,
          708,
          712,
          716,
          720,
          724,
          728,
          732,
          736,
          740,
          744,
          748,
          752,
          756,
          760,
          764,
          768,
          772,
          776,
          780,
          784,
          788,
          792,
          796,
          796,
          792,
          788,
          784,
          780,
          776,
          772,
          768,
          764,
          760,
          756,
          752,
          748,
          744,
          740,
          736,
          732,
          728,
          724,
          720,
          716,
          712,
          708,
          704,
          700,
          696,
          692,
          688,
          684,
          680,
          676,
          672,
          668,
          664,
          660,
          656,
          652,
          648,
          644,
          640,
          636,
          632,
          628,
          624,
          620,
          616,
          612,
          608,
          604,
          600,
          596,
          592,
          588,
          584,
          580,
          576,
          572,
          568,
          564,
          560,
          556,
          552,
          548,
          544,
          540,
          536,
          532,
          528,
          524,
          520,
          516,
          512,
          508,
          504,
          500,
          496,
          492,
          488,
          484,
          480,
          476,
          472,
          468,
          464,
          460,
          456,
          452,
          448,
          444,
          440,
          436,
          432,
          428,
          424,
          420,
          416,
          412,
          408,
          404,
          400,
          396,
          392,
          388,
          384,
          380,
          376,
          372,
          368,
          364,
          360,
          356,
          352,
          348,
          344,
          340,
          336,
          332,
          328,
          324,
          320,
          316,
          312,
          308,
          304,
          300,
          296,
          292,
          288,
          284,
          280,
          276,
          272,
          268,
          264,
          260,
          256,
          252,
          248,
          244,
          240,
          236,
          232,
          228,
          224,
          220,
          216,
          212,
          208,
          204,
          200,
          196,
          192,
          188,
          184,
          180,
          176,
          172,
          168,
          164,
          160,
          156,
          152,
          148,
          144,
          140,
          136,
          132,
          128,
          124,
          120,
          116,
          112,
          108,
          104,
          100,
          96,
          92,
          88,
          84,
          80,
          76,
          72,
          68,
          64,
          60,
          56,
          52,
          48,
          44,
          40,
          36,
          32,
          28,
          24,
          20,
          16,
          12,
          8,
          4,
          0
         ],
         "y": [
          -87.24852370044945,
          -87.24852370044945,
          -87.24852370044945,
          -87.24852370044945,
          -87.24852370044945,
          -87.24852370044945,
          -87.24852370044945,
          -81.64418086788693,
          -81.64418086788693,
          -81.64418086788693,
          -81.64418086788693,
          -71.8158253700277,
          -71.8158253700277,
          -71.8158253700277,
          -68.83862770175777,
          -58.448869075025755,
          -58.448869075025755,
          -58.448869075025755,
          -41.822689467933,
          -41.822689467933,
          -41.822689467933,
          -41.822689467933,
          -27.872463591699884,
          -27.872463591699884,
          -27.872463591699884,
          -27.872463591699884,
          -14.854722391682452,
          -14.854722391682452,
          -14.854722391682452,
          -9.074448589498822,
          -3.4541482776508445,
          -3.4541482776508445,
          -3.4541482776508445,
          5.751610061056574,
          5.751610061056574,
          5.751610061056574,
          5.751610061056574,
          12.678360138387735,
          12.678360138387735,
          12.678360138387735,
          12.678360138387735,
          18.83223750376291,
          18.83223750376291,
          18.83223750376291,
          21.216090499888058,
          23.80700996014546,
          23.80700996014546,
          23.80700996014546,
          25.235115250149505,
          25.235115250149505,
          25.235115250149505,
          25.235115250149505,
          29.477526887408253,
          29.477526887408253,
          29.477526887408253,
          29.995876677581236,
          32.44873566236828,
          32.44873566236828,
          32.44873566236828,
          35.09903811103085,
          37.71073259764907,
          37.71073259764907,
          37.71073259764907,
          41.611288547810176,
          41.611288547810176,
          41.611288547810176,
          41.611288547810176,
          44.03537835746172,
          44.03537835746172,
          44.03537835746172,
          43.7113715540443,
          43.71025951436774,
          43.71025951436774,
          43.71025951436774,
          44.48537717078277,
          43.01524255535499,
          43.01524255535499,
          43.01524255535499,
          43.42580007757664,
          43.42580007757664,
          43.42580007757664,
          43.42580007757664,
          44.60200897094504,
          44.60200897094504,
          44.60200897094504,
          44.19016531794081,
          46.42407460598076,
          46.42407460598076,
          46.42407460598076,
          46.92697430235616,
          46.65354976406316,
          46.65354976406316,
          46.65354976406316,
          46.55692534244918,
          46.55692534244918,
          46.55692534244918,
          46.55692534244918,
          47.4248723856997,
          47.4248723856997,
          47.4248723856997,
          46.590164959837594,
          46.47328729091295,
          46.47328729091295,
          46.47328729091295,
          46.45959513716978,
          48.081093017764104,
          48.081093017764104,
          48.081093017764104,
          49.507506229310366,
          50.166977623848275,
          50.166977623848275,
          49.70790249519081,
          50.192335269691895,
          50.192335269691895,
          50.192335269691895,
          49.86504314659001,
          49.78257206053787,
          49.78257206053787,
          49.78257206053787,
          49.89425855765312,
          50.703388642816165,
          50.703388642816165,
          50.703388642816165,
          50.73424083568321,
          52.587229818369195,
          52.587229818369195,
          53.81562944457386,
          54.50665779741977,
          54.50665779741977,
          54.50665779741977,
          55.61170108779123,
          54.51709611439206,
          54.51709611439206,
          54.51709611439206,
          54.372079681271615,
          55.51097620390341,
          55.51097620390341,
          55.51097620390341,
          55.66840386558269,
          56.74245269784235,
          56.74245269784235,
          56.496842876009836,
          56.68038356918762,
          56.68038356918762,
          56.68038356918762,
          57.646990468289374,
          57.08550730379126,
          57.08550730379126,
          57.08550730379126,
          55.46037859419019,
          55.27625332615448,
          55.27625332615448,
          55.000258191054556,
          55.000258191054556,
          55.459424765495456,
          55.459424765495456,
          54.41972156568963,
          54.90627437687496,
          54.90627437687496,
          54.90627437687496,
          54.993543540927575,
          55.0668547008339,
          55.0668547008339,
          55.0668547008339,
          56.08532028940883,
          56.969951440774025,
          56.969951440774025,
          56.70262044047086,
          56.70262044047086,
          57.62888369224919,
          57.62888369224919,
          56.99914012127762,
          57.15447519374284,
          57.15447519374284,
          57.15447519374284,
          57.91636651430885,
          58.297724197832366,
          58.297724197832366,
          58.297724197832366,
          57.96026719272724,
          60.48716095785898,
          60.48716095785898,
          60.10403112342455,
          60.10403112342455,
          61.60328957164816,
          61.60328957164816,
          60.96575949455833,
          59.387160411103764,
          59.387160411103764,
          59.387160411103764,
          58.51298174047022,
          58.06599241614681,
          58.06599241614681,
          58.06599241614681,
          57.475235195874106,
          58.26725489634438,
          58.26725489634438,
          58.65639689266357,
          58.65639689266357,
          59.54899338858192,
          17.657218649879898,
          17.391713013952845,
          17.391713013952845,
          17.421101819065537,
          17.421101819065537,
          19.161884490735915,
          18.987197437235725,
          18.987197437235725,
          18.987197437235725,
          18.842460125400457,
          18.745449697988047,
          18.745449697988047,
          18.745449697988047,
          17.42747255942813,
          17.371530494869933,
          17.371530494869933,
          17.478584163883653,
          17.478584163883653,
          16.89743849778909,
          16.89743849778909,
          17.87543590345104,
          17.624903321547595,
          17.624903321547595,
          17.624903321547595,
          16.93971758462114,
          17.160373052297484,
          17.160373052297484,
          17.160373052297484,
          15.99451795263116,
          16.433032542061216,
          16.433032542061216,
          16.668523888668638,
          16.668523888668638,
          15.517737989354426,
          15.517737989354426,
          15.103636242283397,
          16.01724220931032,
          16.01724220931032,
          16.01724220931032,
          15.227636615667837,
          14.240521965126376,
          14.240521965126376,
          14.240521965126376,
          13.595028946234859,
          12.234804493625177,
          12.234804493625177,
          12.17715655347752,
          12.17715655347752,
          11.833431421329628,
          11.833431421329628,
          11.672305175904679,
          10.713726463131199,
          10.713726463131199,
          10.713726463131199,
          9.730980379576138,
          10.833479689616034,
          10.833479689616034,
          10.833479689616034,
          10.549481434193712,
          10.689637688920168,
          10.689637688920168,
          11.663130729641082,
          10.910681550289823,
          10.910681550289823,
          10.910681550289823,
          11.272965042591832,
          11.301831150453719,
          11.301831150453719,
          11.301831150453719,
          9.159779628922166,
          9.418507220737204,
          9.418507220737204,
          9.418507220737204,
          8.723490862554467,
          9.011382972555865,
          9.011382972555865,
          9.295164572080694,
          9.031145000681544,
          9.031145000681544,
          9.031145000681544,
          8.522766765666745,
          8.35562671440065,
          8.35562671440065,
          8.35562671440065,
          6.998997608525087,
          6.63286841524776,
          6.63286841524776,
          6.63286841524776,
          6.375055848202702,
          5.855734004754666,
          5.855734004754666,
          4.0273559649883275,
          5.027105013051781,
          5.027105013051781,
          5.027105013051781,
          5.666060146468141,
          5.451166528774959,
          5.451166528774959,
          5.451166528774959,
          4.700451320830599,
          2.975482151140966,
          2.975482151140966,
          2.975482151140966,
          2.7016905855125515,
          2.7016905855125515,
          2.7016905855125515,
          2.7016905855125515,
          1.798735291388315,
          1.798735291388315,
          1.798735291388315,
          1.4206784596498068,
          0.8833301687918755,
          0.8833301687918755,
          0.8833301687918755,
          2.6359273940540113,
          3.385386527232569,
          3.385386527232569,
          3.385386527232569,
          3.638018629548114,
          3.638018629548114,
          3.638018629548114,
          3.638018629548114,
          1.703316654949944,
          1.703316654949944,
          1.703316654949944,
          0.027131814747079375,
          -0.979785461707074,
          -0.979785461707074,
          -0.979785461707074,
          -2.4503756616615604,
          -3.743131669278,
          -3.743131669278,
          -3.743131669278,
          -5.572297870499856,
          -5.572297870499856,
          -5.572297870499856,
          -5.572297870499856,
          -5.879523594356396,
          -5.879523594356396,
          -5.879523594356396,
          -6.648954588347653,
          -6.3944069787372015,
          -6.3944069787372015,
          -6.3944069787372015,
          -6.881199449406255,
          -8.17913104614592,
          -8.17913104614592,
          -8.17913104614592,
          -9.849220087658011,
          -9.849220087658011,
          -9.849220087658011,
          -9.849220087658011,
          -14.148131511215372,
          -14.148131511215372,
          -14.148131511215372,
          -17.610721255376372,
          -19.551601508660738,
          -19.551601508660738,
          -19.551601508660738,
          -24.791573747255296,
          -24.791573747255296,
          -24.791573747255296,
          -24.791573747255296,
          -31.271347965251728,
          -31.271347965251728,
          -31.271347965251728,
          -31.271347965251728,
          -38.206632115292905,
          -38.206632115292905,
          -38.206632115292905,
          -42.94201405260673,
          -46.083011285438175,
          -46.083011285438175,
          -46.083011285438175,
          -54.883828486865426,
          -54.883828486865426,
          -54.883828486865426,
          -54.883828486865426,
          -66.08087783830031,
          -66.08087783830031,
          -66.08087783830031,
          -66.08087783830031,
          -76.97835315939179,
          -76.97835315939179,
          -76.97835315939179,
          -83.14423711632709,
          -85.09459874198113,
          -85.09459874198113,
          -85.09459874198113,
          -90.19419375238469,
          -90.19419375238469,
          -90.19419375238469,
          -90.19419375238469,
          -96.984209233103,
          -96.984209233103,
          -96.984209233103,
          -96.984209233103,
          -96.984209233103,
          -96.984209233103,
          -96.984209233103
         ]
        }
       ],
       "layout": {
        "height": 450,
        "legend": {
         "title": {
          "text": "Pretraining Length"
         },
         "tracegroupgap": 0
        },
        "template": {
         "data": {
          "bar": [
           {
            "error_x": {
             "color": "#2a3f5f"
            },
            "error_y": {
             "color": "#2a3f5f"
            },
            "marker": {
             "line": {
              "color": "#E5ECF6",
              "width": 0.5
             },
             "pattern": {
              "fillmode": "overlay",
              "size": 10,
              "solidity": 0.2
             }
            },
            "type": "bar"
           }
          ],
          "barpolar": [
           {
            "marker": {
             "line": {
              "color": "#E5ECF6",
              "width": 0.5
             },
             "pattern": {
              "fillmode": "overlay",
              "size": 10,
              "solidity": 0.2
             }
            },
            "type": "barpolar"
           }
          ],
          "carpet": [
           {
            "aaxis": {
             "endlinecolor": "#2a3f5f",
             "gridcolor": "white",
             "linecolor": "white",
             "minorgridcolor": "white",
             "startlinecolor": "#2a3f5f"
            },
            "baxis": {
             "endlinecolor": "#2a3f5f",
             "gridcolor": "white",
             "linecolor": "white",
             "minorgridcolor": "white",
             "startlinecolor": "#2a3f5f"
            },
            "type": "carpet"
           }
          ],
          "choropleth": [
           {
            "colorbar": {
             "outlinewidth": 0,
             "ticks": ""
            },
            "type": "choropleth"
           }
          ],
          "contour": [
           {
            "colorbar": {
             "outlinewidth": 0,
             "ticks": ""
            },
            "colorscale": [
             [
              0,
              "#0d0887"
             ],
             [
              0.1111111111111111,
              "#46039f"
             ],
             [
              0.2222222222222222,
              "#7201a8"
             ],
             [
              0.3333333333333333,
              "#9c179e"
             ],
             [
              0.4444444444444444,
              "#bd3786"
             ],
             [
              0.5555555555555556,
              "#d8576b"
             ],
             [
              0.6666666666666666,
              "#ed7953"
             ],
             [
              0.7777777777777778,
              "#fb9f3a"
             ],
             [
              0.8888888888888888,
              "#fdca26"
             ],
             [
              1,
              "#f0f921"
             ]
            ],
            "type": "contour"
           }
          ],
          "contourcarpet": [
           {
            "colorbar": {
             "outlinewidth": 0,
             "ticks": ""
            },
            "type": "contourcarpet"
           }
          ],
          "heatmap": [
           {
            "colorbar": {
             "outlinewidth": 0,
             "ticks": ""
            },
            "colorscale": [
             [
              0,
              "#0d0887"
             ],
             [
              0.1111111111111111,
              "#46039f"
             ],
             [
              0.2222222222222222,
              "#7201a8"
             ],
             [
              0.3333333333333333,
              "#9c179e"
             ],
             [
              0.4444444444444444,
              "#bd3786"
             ],
             [
              0.5555555555555556,
              "#d8576b"
             ],
             [
              0.6666666666666666,
              "#ed7953"
             ],
             [
              0.7777777777777778,
              "#fb9f3a"
             ],
             [
              0.8888888888888888,
              "#fdca26"
             ],
             [
              1,
              "#f0f921"
             ]
            ],
            "type": "heatmap"
           }
          ],
          "heatmapgl": [
           {
            "colorbar": {
             "outlinewidth": 0,
             "ticks": ""
            },
            "colorscale": [
             [
              0,
              "#0d0887"
             ],
             [
              0.1111111111111111,
              "#46039f"
             ],
             [
              0.2222222222222222,
              "#7201a8"
             ],
             [
              0.3333333333333333,
              "#9c179e"
             ],
             [
              0.4444444444444444,
              "#bd3786"
             ],
             [
              0.5555555555555556,
              "#d8576b"
             ],
             [
              0.6666666666666666,
              "#ed7953"
             ],
             [
              0.7777777777777778,
              "#fb9f3a"
             ],
             [
              0.8888888888888888,
              "#fdca26"
             ],
             [
              1,
              "#f0f921"
             ]
            ],
            "type": "heatmapgl"
           }
          ],
          "histogram": [
           {
            "marker": {
             "pattern": {
              "fillmode": "overlay",
              "size": 10,
              "solidity": 0.2
             }
            },
            "type": "histogram"
           }
          ],
          "histogram2d": [
           {
            "colorbar": {
             "outlinewidth": 0,
             "ticks": ""
            },
            "colorscale": [
             [
              0,
              "#0d0887"
             ],
             [
              0.1111111111111111,
              "#46039f"
             ],
             [
              0.2222222222222222,
              "#7201a8"
             ],
             [
              0.3333333333333333,
              "#9c179e"
             ],
             [
              0.4444444444444444,
              "#bd3786"
             ],
             [
              0.5555555555555556,
              "#d8576b"
             ],
             [
              0.6666666666666666,
              "#ed7953"
             ],
             [
              0.7777777777777778,
              "#fb9f3a"
             ],
             [
              0.8888888888888888,
              "#fdca26"
             ],
             [
              1,
              "#f0f921"
             ]
            ],
            "type": "histogram2d"
           }
          ],
          "histogram2dcontour": [
           {
            "colorbar": {
             "outlinewidth": 0,
             "ticks": ""
            },
            "colorscale": [
             [
              0,
              "#0d0887"
             ],
             [
              0.1111111111111111,
              "#46039f"
             ],
             [
              0.2222222222222222,
              "#7201a8"
             ],
             [
              0.3333333333333333,
              "#9c179e"
             ],
             [
              0.4444444444444444,
              "#bd3786"
             ],
             [
              0.5555555555555556,
              "#d8576b"
             ],
             [
              0.6666666666666666,
              "#ed7953"
             ],
             [
              0.7777777777777778,
              "#fb9f3a"
             ],
             [
              0.8888888888888888,
              "#fdca26"
             ],
             [
              1,
              "#f0f921"
             ]
            ],
            "type": "histogram2dcontour"
           }
          ],
          "mesh3d": [
           {
            "colorbar": {
             "outlinewidth": 0,
             "ticks": ""
            },
            "type": "mesh3d"
           }
          ],
          "parcoords": [
           {
            "line": {
             "colorbar": {
              "outlinewidth": 0,
              "ticks": ""
             }
            },
            "type": "parcoords"
           }
          ],
          "pie": [
           {
            "automargin": true,
            "type": "pie"
           }
          ],
          "scatter": [
           {
            "fillpattern": {
             "fillmode": "overlay",
             "size": 10,
             "solidity": 0.2
            },
            "type": "scatter"
           }
          ],
          "scatter3d": [
           {
            "line": {
             "colorbar": {
              "outlinewidth": 0,
              "ticks": ""
             }
            },
            "marker": {
             "colorbar": {
              "outlinewidth": 0,
              "ticks": ""
             }
            },
            "type": "scatter3d"
           }
          ],
          "scattercarpet": [
           {
            "marker": {
             "colorbar": {
              "outlinewidth": 0,
              "ticks": ""
             }
            },
            "type": "scattercarpet"
           }
          ],
          "scattergeo": [
           {
            "marker": {
             "colorbar": {
              "outlinewidth": 0,
              "ticks": ""
             }
            },
            "type": "scattergeo"
           }
          ],
          "scattergl": [
           {
            "marker": {
             "colorbar": {
              "outlinewidth": 0,
              "ticks": ""
             }
            },
            "type": "scattergl"
           }
          ],
          "scattermapbox": [
           {
            "marker": {
             "colorbar": {
              "outlinewidth": 0,
              "ticks": ""
             }
            },
            "type": "scattermapbox"
           }
          ],
          "scatterpolar": [
           {
            "marker": {
             "colorbar": {
              "outlinewidth": 0,
              "ticks": ""
             }
            },
            "type": "scatterpolar"
           }
          ],
          "scatterpolargl": [
           {
            "marker": {
             "colorbar": {
              "outlinewidth": 0,
              "ticks": ""
             }
            },
            "type": "scatterpolargl"
           }
          ],
          "scatterternary": [
           {
            "marker": {
             "colorbar": {
              "outlinewidth": 0,
              "ticks": ""
             }
            },
            "type": "scatterternary"
           }
          ],
          "surface": [
           {
            "colorbar": {
             "outlinewidth": 0,
             "ticks": ""
            },
            "colorscale": [
             [
              0,
              "#0d0887"
             ],
             [
              0.1111111111111111,
              "#46039f"
             ],
             [
              0.2222222222222222,
              "#7201a8"
             ],
             [
              0.3333333333333333,
              "#9c179e"
             ],
             [
              0.4444444444444444,
              "#bd3786"
             ],
             [
              0.5555555555555556,
              "#d8576b"
             ],
             [
              0.6666666666666666,
              "#ed7953"
             ],
             [
              0.7777777777777778,
              "#fb9f3a"
             ],
             [
              0.8888888888888888,
              "#fdca26"
             ],
             [
              1,
              "#f0f921"
             ]
            ],
            "type": "surface"
           }
          ],
          "table": [
           {
            "cells": {
             "fill": {
              "color": "#EBF0F8"
             },
             "line": {
              "color": "white"
             }
            },
            "header": {
             "fill": {
              "color": "#C8D4E3"
             },
             "line": {
              "color": "white"
             }
            },
            "type": "table"
           }
          ]
         },
         "layout": {
          "annotationdefaults": {
           "arrowcolor": "#2a3f5f",
           "arrowhead": 0,
           "arrowwidth": 1
          },
          "autotypenumbers": "strict",
          "coloraxis": {
           "colorbar": {
            "outlinewidth": 0,
            "ticks": ""
           }
          },
          "colorscale": {
           "diverging": [
            [
             0,
             "#8e0152"
            ],
            [
             0.1,
             "#c51b7d"
            ],
            [
             0.2,
             "#de77ae"
            ],
            [
             0.3,
             "#f1b6da"
            ],
            [
             0.4,
             "#fde0ef"
            ],
            [
             0.5,
             "#f7f7f7"
            ],
            [
             0.6,
             "#e6f5d0"
            ],
            [
             0.7,
             "#b8e186"
            ],
            [
             0.8,
             "#7fbc41"
            ],
            [
             0.9,
             "#4d9221"
            ],
            [
             1,
             "#276419"
            ]
           ],
           "sequential": [
            [
             0,
             "#0d0887"
            ],
            [
             0.1111111111111111,
             "#46039f"
            ],
            [
             0.2222222222222222,
             "#7201a8"
            ],
            [
             0.3333333333333333,
             "#9c179e"
            ],
            [
             0.4444444444444444,
             "#bd3786"
            ],
            [
             0.5555555555555556,
             "#d8576b"
            ],
            [
             0.6666666666666666,
             "#ed7953"
            ],
            [
             0.7777777777777778,
             "#fb9f3a"
            ],
            [
             0.8888888888888888,
             "#fdca26"
            ],
            [
             1,
             "#f0f921"
            ]
           ],
           "sequentialminus": [
            [
             0,
             "#0d0887"
            ],
            [
             0.1111111111111111,
             "#46039f"
            ],
            [
             0.2222222222222222,
             "#7201a8"
            ],
            [
             0.3333333333333333,
             "#9c179e"
            ],
            [
             0.4444444444444444,
             "#bd3786"
            ],
            [
             0.5555555555555556,
             "#d8576b"
            ],
            [
             0.6666666666666666,
             "#ed7953"
            ],
            [
             0.7777777777777778,
             "#fb9f3a"
            ],
            [
             0.8888888888888888,
             "#fdca26"
            ],
            [
             1,
             "#f0f921"
            ]
           ]
          },
          "colorway": [
           "#636efa",
           "#EF553B",
           "#00cc96",
           "#ab63fa",
           "#FFA15A",
           "#19d3f3",
           "#FF6692",
           "#B6E880",
           "#FF97FF",
           "#FECB52"
          ],
          "font": {
           "color": "#2a3f5f"
          },
          "geo": {
           "bgcolor": "white",
           "lakecolor": "white",
           "landcolor": "#E5ECF6",
           "showlakes": true,
           "showland": true,
           "subunitcolor": "white"
          },
          "hoverlabel": {
           "align": "left"
          },
          "hovermode": "closest",
          "mapbox": {
           "style": "light"
          },
          "paper_bgcolor": "white",
          "plot_bgcolor": "#E5ECF6",
          "polar": {
           "angularaxis": {
            "gridcolor": "white",
            "linecolor": "white",
            "ticks": ""
           },
           "bgcolor": "#E5ECF6",
           "radialaxis": {
            "gridcolor": "white",
            "linecolor": "white",
            "ticks": ""
           }
          },
          "scene": {
           "xaxis": {
            "backgroundcolor": "#E5ECF6",
            "gridcolor": "white",
            "gridwidth": 2,
            "linecolor": "white",
            "showbackground": true,
            "ticks": "",
            "zerolinecolor": "white"
           },
           "yaxis": {
            "backgroundcolor": "#E5ECF6",
            "gridcolor": "white",
            "gridwidth": 2,
            "linecolor": "white",
            "showbackground": true,
            "ticks": "",
            "zerolinecolor": "white"
           },
           "zaxis": {
            "backgroundcolor": "#E5ECF6",
            "gridcolor": "white",
            "gridwidth": 2,
            "linecolor": "white",
            "showbackground": true,
            "ticks": "",
            "zerolinecolor": "white"
           }
          },
          "shapedefaults": {
           "line": {
            "color": "#2a3f5f"
           }
          },
          "ternary": {
           "aaxis": {
            "gridcolor": "white",
            "linecolor": "white",
            "ticks": ""
           },
           "baxis": {
            "gridcolor": "white",
            "linecolor": "white",
            "ticks": ""
           },
           "bgcolor": "#E5ECF6",
           "caxis": {
            "gridcolor": "white",
            "linecolor": "white",
            "ticks": ""
           }
          },
          "title": {
           "x": 0.05
          },
          "xaxis": {
           "automargin": true,
           "gridcolor": "white",
           "linecolor": "white",
           "ticks": "",
           "title": {
            "standoff": 15
           },
           "zerolinecolor": "white",
           "zerolinewidth": 2
          },
          "yaxis": {
           "automargin": true,
           "gridcolor": "white",
           "linecolor": "white",
           "ticks": "",
           "title": {
            "standoff": 15
           },
           "zerolinecolor": "white",
           "zerolinewidth": 2
          }
         }
        },
        "title": {
         "text": "4 Agent Task with 2 Agent Pretraining"
        },
        "width": 700,
        "xaxis": {
         "anchor": "y",
         "domain": [
          0,
          1
         ],
         "title": {
          "text": "Agent-steps"
         }
        },
        "yaxis": {
         "anchor": "x",
         "domain": [
          0,
          1
         ],
         "title": {
          "text": "Mean Episode Reward per Agent"
         }
        }
       }
      }
     },
     "metadata": {},
     "output_type": "display_data"
    }
   ],
   "source": [
    "import plotly.express as px\n",
    "\n",
    "def plot_avg_retrain(n, path='ww-out.csv'):\n",
    "    pre_agents = 2\n",
    "    task_agents = n\n",
    "\n",
    "    ts_df = pd.read_csv(path)\n",
    "    d1=(ts_df[ts_df[\"num_agents\"]==task_agents]\n",
    "        .groupby(['pretrained_steps','timestep'])[\"per_agent_erm\"]\n",
    "        .mean()\n",
    "        .reset_index()\n",
    "        )\n",
    "    d1['timestep'] = pre_agents*d1['pretrained_steps'] +\\\n",
    "                     task_agents*(d1['timestep']-d1['pretrained_steps'])\n",
    "\n",
    "    fig = px.line(\n",
    "        d1,\n",
    "        y=\"per_agent_erm\", \n",
    "        x=\"timestep\", color=\"pretrained_steps\", line_group=\"pretrained_steps\",\n",
    "        color_discrete_sequence=px.colors.qualitative.G10, line_shape=\"spline\", \n",
    "        render_mode=\"svg\", \n",
    "        title=f\"{task_agents} Agent Task with {pre_agents} Agent Pretraining\",\n",
    "        labels={\n",
    "            \"per_agent_erm\" : \"Mean Episode Reward per Agent\", \n",
    "            \"timestep\": \"Agent-steps\",\n",
    "            \"pretrained_steps\": \"Pretraining Length\"})\n",
    "\n",
    "    base_x,base_y = baseline_prediction_interval(task_agents)\n",
    "    fig.add_trace(go.Scatter(\n",
    "        x=base_x,\n",
    "        y=base_y,\n",
    "        fill='toself',\n",
    "        fillcolor='rgba(0,100,80,0.2)',  # semi-transparent fill\n",
    "        line=dict(color='rgba(255,255,255,0)'),\n",
    "        name=f'Baseline:<br>{task_agents} Agent 95%<br>Prediction<br>Interval',\n",
    "        hoverinfo=\"skip\"\n",
    "    ))\n",
    "\n",
    "    fig.update_layout(width=700, height=450,)\n",
    "\n",
    "    fig.show()\n",
    "    fig.write_image(f\"{n}task.png\", width=700, height=450)\n",
    "\n",
    "plot_avg_retrain(4)"
   ]
  },
  {
   "cell_type": "code",
   "execution_count": 26,
   "metadata": {},
   "outputs": [
    {
     "data": {
      "application/vnd.plotly.v1+json": {
       "config": {
        "plotlyServerURL": "https://plot.ly"
       },
       "data": [
        {
         "hovertemplate": "Pretraining Length=20<br>Agent-steps=%{x}<br>Mean Episode Reward per Agent=%{y}<extra></extra>",
         "legendgroup": "20",
         "line": {
          "color": "#3366CC",
          "dash": "solid",
          "shape": "spline"
         },
         "marker": {
          "symbol": "circle"
         },
         "mode": "lines",
         "name": "20",
         "orientation": "v",
         "showlegend": true,
         "type": "scatter",
         "x": [
          40,
          46,
          52,
          58,
          64,
          70,
          76,
          82,
          88,
          94,
          100,
          106,
          112,
          118,
          124,
          130,
          136,
          142,
          148,
          154,
          160,
          166,
          172,
          178,
          184,
          190,
          196,
          202,
          208,
          214,
          220,
          226,
          232,
          238,
          244,
          250,
          256,
          262,
          268,
          274,
          280,
          286,
          292,
          298,
          304,
          310,
          316,
          322,
          328,
          334,
          340,
          346,
          352,
          358,
          364,
          370,
          376,
          382,
          388,
          394,
          400,
          406,
          412,
          418,
          424,
          430,
          436,
          442,
          448,
          454,
          460,
          466,
          472,
          478,
          484,
          490,
          496,
          502,
          508,
          514,
          520,
          526,
          532,
          538,
          544,
          550,
          556,
          562,
          568,
          574,
          580,
          586,
          592,
          598,
          604,
          610,
          616,
          622,
          628,
          634,
          640,
          646,
          652,
          658,
          664,
          670,
          676,
          682,
          688,
          694,
          700,
          706,
          712,
          718,
          724,
          730,
          736,
          742,
          748,
          754,
          760,
          766,
          772,
          778,
          784,
          790,
          796,
          802,
          808,
          814,
          820,
          826,
          832,
          838,
          844,
          850,
          856,
          862,
          868,
          874,
          880,
          886,
          892,
          898,
          904,
          910,
          916,
          922,
          928,
          934,
          940,
          946,
          952,
          958,
          964,
          970,
          976,
          982,
          988,
          994,
          1000,
          1006,
          1012,
          1018,
          1024,
          1030,
          1036,
          1042,
          1048,
          1054,
          1060,
          1066,
          1072,
          1078,
          1084,
          1090,
          1096,
          1102,
          1108,
          1114
         ],
         "xaxis": "x",
         "y": [
          -47.42903135442659,
          -47.42903135442659,
          -47.42903135442659,
          -47.42903135442659,
          -47.42903135442659,
          -47.42903135442659,
          -47.42903135442659,
          -44.59713586698279,
          -44.59713586698279,
          -44.59713586698279,
          -44.59713586698279,
          -40.69113399516534,
          -40.69113399516534,
          -40.69113399516534,
          -39.082810388960745,
          -34.88072504031776,
          -34.88072504031776,
          -34.88072504031776,
          -28.37396270961236,
          -28.37396270961236,
          -28.37396270961236,
          -28.37396270961236,
          -24.039992554172535,
          -24.039992554172535,
          -24.039992554172535,
          -24.039992554172535,
          -19.39042341102874,
          -19.39042341102874,
          -19.39042341102874,
          -18.1983960864731,
          -16.697029275842972,
          -16.697029275842972,
          -16.697029275842972,
          -13.073468080954116,
          -13.073468080954116,
          -13.073468080954116,
          -13.073468080954116,
          -10.132603897653494,
          -10.132603897653494,
          -10.132603897653494,
          -10.132603897653494,
          -6.431039211022503,
          -6.431039211022503,
          -6.431039211022503,
          -5.104518460889104,
          -4.029631468034553,
          -4.029631468034553,
          -4.029631468034553,
          -2.134089734305729,
          -2.134089734305729,
          -2.134089734305729,
          -2.134089734305729,
          -0.3090380459545616,
          -0.3090380459545616,
          -0.3090380459545616,
          -0.11891546679384052,
          0.35150543527030337,
          0.35150543527030337,
          0.35150543527030337,
          0.4351181560460017,
          0.5845977294323884,
          0.5845977294323884,
          0.5845977294323884,
          1.7477076829184846,
          1.7477076829184846,
          1.7477076829184846,
          1.7477076829184846,
          2.9006556110744928,
          2.9006556110744928,
          2.9006556110744928,
          3.4887627714047906,
          4.894581901698759,
          4.894581901698759,
          4.894581901698759,
          6.338429691595476,
          6.386348186192873,
          6.386348186192873,
          6.386348186192873,
          7.512869801356508,
          7.512869801356508,
          7.512869801356508,
          7.512869801356508,
          8.491383826783451,
          8.491383826783451,
          8.491383826783451,
          9.102488901164854,
          9.972719078817406,
          9.972719078817406,
          9.972719078817406,
          10.104174005297743,
          10.855840912764286,
          10.855840912764286,
          10.855840912764286,
          11.615587313251735,
          11.615587313251735,
          11.615587313251735,
          11.615587313251735,
          12.066627736167531,
          12.066627736167531,
          12.066627736167531,
          12.346387776079643,
          14.014958697762319,
          14.014958697762319,
          14.014958697762319,
          14.236867452649687,
          14.824745062816364,
          14.824745062816364,
          14.824745062816364,
          14.538443500552802,
          14.396924622158604,
          14.396924622158604,
          15.088382140596503,
          14.39431174013892,
          14.39431174013892,
          14.39431174013892,
          13.856392870424434,
          13.785712688561942,
          13.785712688561942,
          13.785712688561942,
          14.001442242625165,
          14.080209410151035,
          14.080209410151035,
          14.080209410151035,
          13.975434888032066,
          13.65030675599201,
          13.65030675599201,
          13.516905279262767,
          13.616619273290217,
          13.616619273290217,
          13.616619273290217,
          13.382017596044898,
          12.691338402520465,
          12.691338402520465,
          12.691338402520465,
          12.768542448930345,
          13.2236022220503,
          13.2236022220503,
          13.2236022220503,
          13.30692205102784,
          13.042448810436547,
          13.042448810436547,
          12.89499140496162,
          13.687329893850665,
          13.687329893850665,
          13.687329893850665,
          14.273068891647481,
          14.055568687979859,
          14.055568687979859,
          14.055568687979859,
          13.959001060431143,
          14.441706959470997,
          14.441706959470997,
          14.7702068388927,
          14.7702068388927,
          14.541251790685779,
          14.541251790685779,
          14.405667862346062,
          13.566310238897028,
          13.566310238897028,
          13.566310238897028,
          13.550340745250452,
          13.276664091435874,
          13.276664091435874,
          13.276664091435874,
          13.028152620580675,
          13.396954434594234,
          13.396954434594234,
          13.550300946844958,
          13.550300946844958,
          14.06500863856349,
          14.06500863856349,
          14.370596812465918,
          15.682884586462801,
          15.682884586462801,
          15.682884586462801,
          15.863060768740587,
          16.253348091099113,
          16.253348091099113,
          16.253348091099113,
          16.07773997208234
         ],
         "yaxis": "y"
        },
        {
         "hovertemplate": "Pretraining Length=40<br>Agent-steps=%{x}<br>Mean Episode Reward per Agent=%{y}<extra></extra>",
         "legendgroup": "40",
         "line": {
          "color": "#DC3912",
          "dash": "solid",
          "shape": "spline"
         },
         "marker": {
          "symbol": "circle"
         },
         "mode": "lines",
         "name": "40",
         "orientation": "v",
         "showlegend": true,
         "type": "scatter",
         "x": [
          80,
          86,
          92,
          98,
          104,
          110,
          116,
          122,
          128,
          134,
          140,
          146,
          152,
          158,
          164,
          170,
          176,
          182,
          188,
          194,
          200,
          206,
          212,
          218,
          224,
          230,
          236,
          242,
          248,
          254,
          260,
          266,
          272,
          278,
          284,
          290,
          296,
          302,
          308,
          314,
          320,
          326,
          332,
          338,
          344,
          350,
          356,
          362,
          368,
          374,
          380,
          386,
          392,
          398,
          404,
          410,
          416,
          422,
          428,
          434,
          440,
          446,
          452,
          458,
          464,
          470,
          476,
          482,
          488,
          494,
          500,
          506,
          512,
          518,
          524,
          530,
          536,
          542,
          548,
          554,
          560,
          566,
          572,
          578,
          584,
          590,
          596,
          602,
          608,
          614,
          620,
          626,
          632,
          638,
          644,
          650,
          656,
          662,
          668,
          674,
          680,
          686,
          692,
          698,
          704,
          710,
          716,
          722,
          728,
          734,
          740,
          746,
          752,
          758,
          764,
          770,
          776,
          782,
          788,
          794,
          800,
          806,
          812,
          818,
          824,
          830,
          836,
          842,
          848,
          854,
          860,
          866,
          872,
          878,
          884,
          890,
          896,
          902,
          908,
          914,
          920,
          926,
          932,
          938,
          944,
          950,
          956,
          962,
          968,
          974,
          980,
          986,
          992,
          998,
          1004,
          1010,
          1016,
          1022,
          1028,
          1034
         ],
         "xaxis": "x",
         "y": [
          -22.112761573872174,
          -22.112761573872174,
          -22.112761573872174,
          -22.112761573872174,
          -22.112761573872174,
          -22.112761573872174,
          -22.112761573872174,
          -20.443503818579934,
          -20.443503818579934,
          -20.443503818579934,
          -20.443503818579934,
          -18.093355879603955,
          -18.093355879603955,
          -18.093355879603955,
          -17.545983782270984,
          -15.665193105858743,
          -15.665193105858743,
          -15.665193105858743,
          -12.313713912236057,
          -12.313713912236057,
          -12.313713912236057,
          -12.313713912236057,
          -9.514619081452604,
          -9.514619081452604,
          -9.514619081452604,
          -9.514619081452604,
          -6.513031868078036,
          -6.513031868078036,
          -6.513031868078036,
          -5.1250203837347605,
          -3.5703831814145546,
          -3.5703831814145546,
          -3.5703831814145546,
          -1.4195355242111685,
          -1.4195355242111685,
          -1.4195355242111685,
          -1.4195355242111685,
          0.397409889253845,
          0.397409889253845,
          0.397409889253845,
          0.397409889253845,
          2.5966788593340064,
          2.5966788593340064,
          2.5966788593340064,
          3.6261547759080237,
          4.738162156013945,
          4.738162156013945,
          4.738162156013945,
          6.218173596532202,
          6.218173596532202,
          6.218173596532202,
          6.218173596532202,
          7.122017103184632,
          7.122017103184632,
          7.122017103184632,
          7.4744324641486015,
          7.624675443827362,
          7.624675443827362,
          7.624675443827362,
          8.06239018015879,
          8.618256617110523,
          8.618256617110523,
          8.618256617110523,
          9.299676571058965,
          9.299676571058965,
          9.299676571058965,
          9.299676571058965,
          10.225924620804,
          10.225924620804,
          10.225924620804,
          10.63123947081879,
          10.323118339174897,
          10.323118339174897,
          10.323118339174897,
          11.026367284176962,
          11.010335844309344,
          11.010335844309344,
          11.010335844309344,
          11.043932743758756,
          11.043932743758756,
          11.043932743758756,
          11.043932743758756,
          11.204584379711118,
          11.204584379711118,
          11.204584379711118,
          11.644349343424654,
          11.192514284395488,
          11.192514284395488,
          11.192514284395488,
          11.409221727905951,
          11.416807753900027,
          11.416807753900027,
          11.416807753900027,
          11.269493543545593,
          11.269493543545593,
          11.269493543545593,
          11.269493543545593,
          12.050669609557527,
          12.050669609557527,
          12.050669609557527,
          12.362017392537563,
          12.458113060922203,
          12.458113060922203,
          12.458113060922203,
          12.136038060976707,
          12.562457194633922,
          12.562457194633922,
          12.562457194633922,
          13.448204029658296,
          13.648089630837841,
          13.648089630837841,
          13.489377329363617,
          13.832538622668244,
          13.832538622668244,
          13.832538622668244,
          14.197172504631743,
          13.808636147128123,
          13.808636147128123,
          13.808636147128123,
          14.10465060882429,
          14.502552857327492,
          14.502552857327492,
          14.502552857327492,
          14.802886350060675,
          15.237278793805796,
          15.237278793805796,
          15.390949779526554,
          15.41330180644836,
          15.41330180644836,
          15.41330180644836,
          15.709561737405878,
          15.574630726197103,
          15.574630726197103,
          15.574630726197103,
          15.299295731265435,
          14.341761739572942,
          14.341761739572942,
          14.341761739572942,
          14.273430111101991,
          13.56359379293931,
          13.56359379293931,
          13.403197063180503,
          13.254475432369091,
          13.254475432369091,
          13.254475432369091,
          13.231035936054482,
          13.958285384914944,
          13.958285384914944,
          13.958285384914944,
          14.045432477871433,
          15.068989341040952,
          15.068989341040952,
          15.804368437059543,
          15.804368437059543,
          17.021752664340568,
          17.021752664340568,
          17.108211981451234,
          17.716838521751107,
          17.716838521751107,
          17.716838521751107
         ],
         "yaxis": "y"
        },
        {
         "hovertemplate": "Pretraining Length=60<br>Agent-steps=%{x}<br>Mean Episode Reward per Agent=%{y}<extra></extra>",
         "legendgroup": "60",
         "line": {
          "color": "#FF9900",
          "dash": "solid",
          "shape": "spline"
         },
         "marker": {
          "symbol": "circle"
         },
         "mode": "lines",
         "name": "60",
         "orientation": "v",
         "showlegend": true,
         "type": "scatter",
         "x": [
          120,
          126,
          132,
          138,
          144,
          150,
          156,
          162,
          168,
          174,
          180,
          186,
          192,
          198,
          204,
          210,
          216,
          222,
          228,
          234,
          240,
          246,
          252,
          258,
          264,
          270,
          276,
          282,
          288,
          294,
          300,
          306,
          312,
          318,
          324,
          330,
          336,
          342,
          348,
          354,
          360,
          366,
          372,
          378,
          384,
          390,
          396,
          402,
          408,
          414,
          420,
          426,
          432,
          438,
          444,
          450,
          456,
          462,
          468,
          474,
          480,
          486,
          492,
          498,
          504,
          510,
          516,
          522,
          528,
          534,
          540,
          546,
          552,
          558,
          564,
          570,
          576,
          582,
          588,
          594,
          600,
          606,
          612,
          618,
          624,
          630,
          636,
          642,
          648,
          654,
          660,
          666,
          672,
          678,
          684,
          690,
          696,
          702,
          708,
          714,
          720,
          726,
          732,
          738,
          744,
          750,
          756,
          762,
          768,
          774,
          780,
          786,
          792,
          798,
          804,
          810,
          816,
          822,
          828,
          834,
          840,
          846,
          852,
          858,
          864,
          870,
          876,
          882,
          888,
          894,
          900,
          906,
          912,
          918,
          924,
          930,
          936,
          942,
          948,
          954
         ],
         "xaxis": "x",
         "y": [
          -6.2508466013491075,
          -6.2508466013491075,
          -6.2508466013491075,
          -6.2508466013491075,
          -6.2508466013491075,
          -6.2508466013491075,
          -6.2508466013491075,
          -6.038134752641473,
          -6.038134752641473,
          -6.038134752641473,
          -6.038134752641473,
          -5.451851412832397,
          -5.451851412832397,
          -5.451851412832397,
          -4.99558748085416,
          -4.510316617672973,
          -4.510316617672973,
          -4.510316617672973,
          -2.569496567710167,
          -2.569496567710167,
          -2.569496567710167,
          -2.569496567710167,
          -1.221196041455579,
          -1.221196041455579,
          -1.221196041455579,
          -1.221196041455579,
          -0.7614040448135635,
          -0.7614040448135635,
          -0.7614040448135635,
          0.30599356512162734,
          0.9016875564879641,
          0.9016875564879641,
          0.9016875564879641,
          3.508821052048236,
          3.508821052048236,
          3.508821052048236,
          3.508821052048236,
          5.14369483675737,
          5.14369483675737,
          5.14369483675737,
          5.14369483675737,
          5.966572798522512,
          5.966572798522512,
          5.966572798522512,
          6.693832701078759,
          6.73669945715144,
          6.73669945715144,
          6.73669945715144,
          6.6609306613261525,
          6.6609306613261525,
          6.6609306613261525,
          6.6609306613261525,
          7.389160167309167,
          7.389160167309167,
          7.389160167309167,
          7.017849367038226,
          6.058458504162561,
          6.058458504162561,
          6.058458504162561,
          5.910926824834532,
          6.092172314429918,
          6.092172314429918,
          6.092172314429918,
          5.51574014792007,
          5.51574014792007,
          5.51574014792007,
          5.51574014792007,
          5.990096023699488,
          5.990096023699488,
          5.990096023699488,
          5.699885211916534,
          5.956521488260931,
          5.956521488260931,
          5.956521488260931,
          6.1331487055769935,
          6.653308655087177,
          6.653308655087177,
          6.653308655087177,
          7.90434150711684,
          7.90434150711684,
          7.90434150711684,
          7.90434150711684,
          9.506980019557968,
          9.506980019557968,
          9.506980019557968,
          9.96579383944629,
          10.585107122928969,
          10.585107122928969,
          10.585107122928969,
          10.825672669346913,
          11.475849850816974,
          11.475849850816974,
          11.475849850816974,
          12.681576396891574,
          12.681576396891574,
          12.681576396891574,
          12.681576396891574,
          12.87701413328952,
          12.87701413328952,
          12.87701413328952,
          12.895816952137434,
          12.834414456095283,
          12.834414456095283,
          12.834414456095283,
          12.747859029349517,
          12.081503632287001,
          12.081503632287001,
          12.081503632287001,
          12.052837634940577,
          12.484366026156106,
          12.484366026156106,
          12.978918597347953,
          12.71915911035896,
          12.71915911035896,
          12.71915911035896,
          12.907253876002406,
          13.165384425737582,
          13.165384425737582,
          13.165384425737582,
          13.913068134986537,
          13.766768525856946,
          13.766768525856946,
          13.766768525856946,
          13.574995447273427,
          13.300396409422678,
          13.300396409422678,
          13.628527158798795,
          13.468797987719407,
          13.468797987719407,
          13.468797987719407,
          13.607566605639471,
          13.178956787581546,
          13.178956787581546,
          13.178956787581546,
          13.3383324270327,
          13.025603947693508,
          13.025603947693508,
          13.025603947693508,
          13.091227962788462,
          12.748248350671242
         ],
         "yaxis": "y"
        },
        {
         "hovertemplate": "Pretraining Length=80<br>Agent-steps=%{x}<br>Mean Episode Reward per Agent=%{y}<extra></extra>",
         "legendgroup": "80",
         "line": {
          "color": "#109618",
          "dash": "solid",
          "shape": "spline"
         },
         "marker": {
          "symbol": "circle"
         },
         "mode": "lines",
         "name": "80",
         "orientation": "v",
         "showlegend": true,
         "type": "scatter",
         "x": [
          160,
          166,
          172,
          178,
          184,
          190,
          196,
          202,
          208,
          214,
          220,
          226,
          232,
          238,
          244,
          250,
          256,
          262,
          268,
          274,
          280,
          286,
          292,
          298,
          304,
          310,
          316,
          322,
          328,
          334,
          340,
          346,
          352,
          358,
          364,
          370,
          376,
          382,
          388,
          394,
          400,
          406,
          412,
          418,
          424,
          430,
          436,
          442,
          448,
          454,
          460,
          466,
          472,
          478,
          484,
          490,
          496,
          502,
          508,
          514,
          520,
          526,
          532,
          538,
          544,
          550,
          556,
          562,
          568,
          574,
          580,
          586,
          592,
          598,
          604,
          610,
          616,
          622,
          628,
          634,
          640,
          646,
          652,
          658,
          664,
          670,
          676,
          682,
          688,
          694,
          700,
          706,
          712,
          718,
          724,
          730,
          736,
          742,
          748,
          754,
          760,
          766,
          772,
          778,
          784,
          790,
          796,
          802,
          808,
          814,
          820,
          826,
          832,
          838,
          844,
          850,
          856,
          862,
          868,
          874
         ],
         "xaxis": "x",
         "y": [
          -2.3660550320848017,
          -2.3660550320848017,
          -2.3660550320848017,
          -2.3660550320848017,
          -2.3660550320848017,
          -2.3660550320848017,
          -2.3660550320848017,
          -0.8684794600328597,
          -0.8684794600328597,
          -0.8684794600328597,
          -0.8684794600328597,
          -0.4505510967319883,
          -0.4505510967319883,
          -0.4505510967319883,
          -0.11248180754367214,
          1.4258278429872495,
          1.4258278429872495,
          1.4258278429872495,
          4.804452839086605,
          4.804452839086605,
          4.804452839086605,
          4.804452839086605,
          7.364816379227633,
          7.364816379227633,
          7.364816379227633,
          7.364816379227633,
          8.824091361689685,
          8.824091361689685,
          8.824091361689685,
          8.706475601260596,
          8.154148719151701,
          8.154148719151701,
          8.154148719151701,
          7.0287184473881235,
          7.0287184473881235,
          7.0287184473881235,
          7.0287184473881235,
          6.511891359990604,
          6.511891359990604,
          6.511891359990604,
          6.511891359990604,
          7.824930244314766,
          7.824930244314766,
          7.824930244314766,
          7.861527415397406,
          7.9893110818753446,
          7.9893110818753446,
          7.9893110818753446,
          9.644338814118417,
          9.644338814118417,
          9.644338814118417,
          9.644338814118417,
          8.202921348723239,
          8.202921348723239,
          8.202921348723239,
          7.864652941790739,
          7.9780206401806515,
          7.9780206401806515,
          7.9780206401806515,
          8.040439802067263,
          7.527869415379256,
          7.527869415379256,
          7.527869415379256,
          9.009965827645384,
          9.009965827645384,
          9.009965827645384,
          9.009965827645384,
          10.495688982901493,
          10.495688982901493,
          10.495688982901493,
          10.607452583579041,
          11.50121425842811,
          11.50121425842811,
          11.50121425842811,
          11.841160572879986,
          12.451130676680778,
          12.451130676680778,
          12.451130676680778,
          13.417322603497434,
          13.417322603497434,
          13.417322603497434,
          13.417322603497434,
          13.93314503073481,
          13.93314503073481,
          13.93314503073481,
          15.102801243325489,
          14.856549500506286,
          14.856549500506286,
          14.856549500506286,
          15.233697786888515,
          15.326652984080644,
          15.326652984080644,
          15.326652984080644,
          15.871356751288918,
          15.871356751288918,
          15.871356751288918,
          15.871356751288918,
          15.56974907095495,
          15.56974907095495,
          15.56974907095495,
          15.724611907376351,
          16.446815709290032,
          16.446815709290032,
          16.446815709290032,
          16.49181337755872,
          16.20453026747581,
          16.20453026747581,
          16.20453026747581,
          15.49797776720016,
          15.607097623138733,
          15.607097623138733,
          15.436892813333452,
          15.876120289527206,
          15.876120289527206,
          15.876120289527206,
          15.610434376360091,
          15.669014662009275,
          15.669014662009275,
          15.669014662009275,
          15.859493966214847
         ],
         "yaxis": "y"
        },
        {
         "hovertemplate": "Pretraining Length=100<br>Agent-steps=%{x}<br>Mean Episode Reward per Agent=%{y}<extra></extra>",
         "legendgroup": "100",
         "line": {
          "color": "#990099",
          "dash": "solid",
          "shape": "spline"
         },
         "marker": {
          "symbol": "circle"
         },
         "mode": "lines",
         "name": "100",
         "orientation": "v",
         "showlegend": true,
         "type": "scatter",
         "x": [
          200,
          206,
          212,
          218,
          224,
          230,
          236,
          242,
          248,
          254,
          260,
          266,
          272,
          278,
          284,
          290,
          296,
          302,
          308,
          314,
          320,
          326,
          332,
          338,
          344,
          350,
          356,
          362,
          368,
          374,
          380,
          386,
          392,
          398,
          404,
          410,
          416,
          422,
          428,
          434,
          440,
          446,
          452,
          458,
          464,
          470,
          476,
          482,
          488,
          494,
          500,
          506,
          512,
          518,
          524,
          530,
          536,
          542,
          548,
          554,
          560,
          566,
          572,
          578,
          584,
          590,
          596,
          602,
          608,
          614,
          620,
          626,
          632,
          638,
          644,
          650,
          656,
          662,
          668,
          674,
          680,
          686,
          692,
          698,
          704,
          710,
          716,
          722,
          728,
          734,
          740,
          746,
          752,
          758,
          764,
          770,
          776,
          782,
          788,
          794
         ],
         "xaxis": "x",
         "y": [
          1.8924098302047507,
          1.8924098302047507,
          1.8924098302047507,
          1.8924098302047507,
          1.8924098302047507,
          1.8924098302047507,
          1.8924098302047507,
          4.297075245434644,
          4.297075245434644,
          4.297075245434644,
          4.297075245434644,
          6.0777956678747165,
          6.0777956678747165,
          6.0777956678747165,
          6.578326872471167,
          7.1816405612494405,
          7.1816405612494405,
          7.1816405612494405,
          7.565056319498674,
          7.565056319498674,
          7.565056319498674,
          7.565056319498674,
          8.49522704692157,
          8.49522704692157,
          8.49522704692157,
          8.49522704692157,
          8.301632196414134,
          8.301632196414134,
          8.301632196414134,
          8.206445799674404,
          9.040109561169754,
          9.040109561169754,
          9.040109561169754,
          9.122729300413647,
          9.122729300413647,
          9.122729300413647,
          9.122729300413647,
          8.944752162536954,
          8.944752162536954,
          8.944752162536954,
          8.944752162536954,
          7.392250305124851,
          7.392250305124851,
          7.392250305124851,
          7.5012649628308,
          7.33174881000905,
          7.33174881000905,
          7.33174881000905,
          6.379005222595755,
          6.379005222595755,
          6.379005222595755,
          6.379005222595755,
          6.8914193617877215,
          6.8914193617877215,
          6.8914193617877215,
          7.288676901432074,
          6.703718675795702,
          6.703718675795702,
          6.703718675795702,
          6.044220938219567,
          5.681946922233126,
          5.681946922233126,
          5.681946922233126,
          7.259808308920117,
          7.259808308920117,
          7.259808308920117,
          7.259808308920117,
          6.082500029628981,
          6.082500029628981,
          6.082500029628981,
          6.865279534746734,
          8.711000931011784,
          8.711000931011784,
          8.711000931011784,
          9.442200758667173,
          10.203849894364241,
          10.203849894364241,
          10.203849894364241,
          10.880952310587105,
          10.880952310587105,
          10.880952310587105,
          10.880952310587105,
          11.749144249144088,
          11.749144249144088,
          11.749144249144088,
          11.795931260301606,
          11.226290580465426,
          11.226290580465426,
          11.226290580465426,
          11.494827510662839,
          10.980481504165262,
          10.980481504165262,
          10.980481504165262,
          9.53832297945668,
          9.53832297945668,
          9.53832297945668,
          9.53832297945668,
          7.8746018616418825,
          7.8746018616418825,
          7.8746018616418825
         ],
         "yaxis": "y"
        },
        {
         "hovertemplate": "Pretraining Length=120<br>Agent-steps=%{x}<br>Mean Episode Reward per Agent=%{y}<extra></extra>",
         "legendgroup": "120",
         "line": {
          "color": "#0099C6",
          "dash": "solid",
          "shape": "spline"
         },
         "marker": {
          "symbol": "circle"
         },
         "mode": "lines",
         "name": "120",
         "orientation": "v",
         "showlegend": true,
         "type": "scatter",
         "x": [
          240,
          246,
          252,
          258,
          264,
          270,
          276,
          282,
          288,
          294,
          300,
          306,
          312,
          318,
          324,
          330,
          336,
          342,
          348,
          354,
          360,
          366,
          372,
          378,
          384,
          390,
          396,
          402,
          408,
          414,
          420,
          426,
          432,
          438,
          444,
          450,
          456,
          462,
          468,
          474,
          480,
          486,
          492,
          498,
          504,
          510,
          516,
          522,
          528,
          534,
          540,
          546,
          552,
          558,
          564,
          570,
          576,
          582,
          588,
          594,
          600,
          606,
          612,
          618,
          624,
          630,
          636,
          642,
          648,
          654,
          660,
          666,
          672,
          678,
          684,
          690,
          696,
          702,
          708,
          714
         ],
         "xaxis": "x",
         "y": [
          7.956390084939845,
          7.956390084939845,
          7.956390084939845,
          7.956390084939845,
          7.956390084939845,
          7.956390084939845,
          7.956390084939845,
          7.70842691138031,
          7.70842691138031,
          7.70842691138031,
          7.70842691138031,
          9.291373019115019,
          9.291373019115019,
          9.291373019115019,
          9.4284385781779,
          9.767874513089183,
          9.767874513089183,
          9.767874513089183,
          10.068214413778374,
          10.068214413778374,
          10.068214413778374,
          10.068214413778374,
          9.87179259959243,
          9.87179259959243,
          9.87179259959243,
          9.87179259959243,
          8.968505881602752,
          8.968505881602752,
          8.968505881602752,
          9.562028566592765,
          8.996513265419429,
          8.996513265419429,
          8.996513265419429,
          9.403855835139273,
          9.403855835139273,
          9.403855835139273,
          9.403855835139273,
          9.079962643680435,
          9.079962643680435,
          9.079962643680435,
          9.079962643680435,
          8.509356057396868,
          8.509356057396868,
          8.509356057396868,
          9.355063410399906,
          9.238837125558671,
          9.238837125558671,
          9.238837125558671,
          9.985772913878739,
          9.985772913878739,
          9.985772913878739,
          9.985772913878739,
          11.28278497453509,
          11.28278497453509,
          11.28278497453509,
          11.884104801058882,
          12.475477321100541,
          12.475477321100541,
          12.475477321100541,
          12.707771391356424,
          12.983959999249567,
          12.983959999249567,
          12.983959999249567,
          12.448570618821584,
          12.448570618821584,
          12.448570618821584,
          12.448570618821584,
          13.338532400891859,
          13.338532400891859,
          13.338532400891859,
          12.873474234834248,
          12.519317384008815,
          12.519317384008815,
          12.519317384008815,
          12.431014728354478,
          13.393284849271936,
          13.393284849271936,
          13.393284849271936,
          13.358085315364942,
          13.358085315364942
         ],
         "yaxis": "y"
        },
        {
         "hovertemplate": "Pretraining Length=140<br>Agent-steps=%{x}<br>Mean Episode Reward per Agent=%{y}<extra></extra>",
         "legendgroup": "140",
         "line": {
          "color": "#DD4477",
          "dash": "solid",
          "shape": "spline"
         },
         "marker": {
          "symbol": "circle"
         },
         "mode": "lines",
         "name": "140",
         "orientation": "v",
         "showlegend": true,
         "type": "scatter",
         "x": [
          280,
          286,
          292,
          298,
          304,
          310,
          316,
          322,
          328,
          334,
          340,
          346,
          352,
          358,
          364,
          370,
          376,
          382,
          388,
          394,
          400,
          406,
          412,
          418,
          424,
          430,
          436,
          442,
          448,
          454,
          460,
          466,
          472,
          478,
          484,
          490,
          496,
          502,
          508,
          514,
          520,
          526,
          532,
          538,
          544,
          550,
          556,
          562,
          568,
          574,
          580,
          586,
          592,
          598,
          604,
          610,
          616,
          622,
          628,
          634
         ],
         "xaxis": "x",
         "y": [
          6.243846720103752,
          6.243846720103752,
          6.243846720103752,
          6.243846720103752,
          6.243846720103752,
          6.243846720103752,
          6.243846720103752,
          5.6246335041784885,
          5.6246335041784885,
          5.6246335041784885,
          5.6246335041784885,
          5.581045549570465,
          5.581045549570465,
          5.581045549570465,
          6.053851742784051,
          5.771778488160323,
          5.771778488160323,
          5.771778488160323,
          5.508888438824869,
          5.508888438824869,
          5.508888438824869,
          5.508888438824869,
          4.856339836745818,
          4.856339836745818,
          4.856339836745818,
          4.856339836745818,
          4.619318098022935,
          4.619318098022935,
          4.619318098022935,
          5.45236841701923,
          5.090022401273991,
          5.090022401273991,
          5.090022401273991,
          5.675887061327327,
          5.675887061327327,
          5.675887061327327,
          5.675887061327327,
          6.3820894622727975,
          6.3820894622727975,
          6.3820894622727975,
          6.3820894622727975,
          8.108795662089868,
          8.108795662089868,
          8.108795662089868,
          8.383839918554235,
          9.313493698982313,
          9.313493698982313,
          9.313493698982313,
          10.989602983015121,
          10.989602983015121,
          10.989602983015121,
          10.989602983015121,
          11.95015465938536,
          11.95015465938536,
          11.95015465938536,
          11.748645829922298,
          12.725650061163787,
          12.725650061163787,
          12.725650061163787,
          12.44490863542816
         ],
         "yaxis": "y"
        },
        {
         "hovertemplate": "Pretraining Length=160<br>Agent-steps=%{x}<br>Mean Episode Reward per Agent=%{y}<extra></extra>",
         "legendgroup": "160",
         "line": {
          "color": "#66AA00",
          "dash": "solid",
          "shape": "spline"
         },
         "marker": {
          "symbol": "circle"
         },
         "mode": "lines",
         "name": "160",
         "orientation": "v",
         "showlegend": true,
         "type": "scatter",
         "x": [
          320,
          326,
          332,
          338,
          344,
          350,
          356,
          362,
          368,
          374,
          380,
          386,
          392,
          398,
          404,
          410,
          416,
          422,
          428,
          434,
          440,
          446,
          452,
          458,
          464,
          470,
          476,
          482,
          488,
          494,
          500,
          506,
          512,
          518,
          524,
          530,
          536,
          542,
          548,
          554
         ],
         "xaxis": "x",
         "y": [
          3.3205663554284017,
          3.3205663554284017,
          3.3205663554284017,
          3.3205663554284017,
          3.3205663554284017,
          3.3205663554284017,
          3.3205663554284017,
          5.185126138949869,
          5.185126138949869,
          5.185126138949869,
          5.185126138949869,
          6.220524289982464,
          6.220524289982464,
          6.220524289982464,
          6.064913602465078,
          8.036224281516851,
          8.036224281516851,
          8.036224281516851,
          6.982823471341932,
          6.982823471341932,
          6.982823471341932,
          6.982823471341932,
          4.440815841282248,
          4.440815841282248,
          4.440815841282248,
          4.440815841282248,
          6.747895626123608,
          6.747895626123608,
          6.747895626123608,
          5.855197605555694,
          5.833150617334891,
          5.833150617334891,
          5.833150617334891,
          7.782568942543414,
          7.782568942543414,
          7.782568942543414,
          7.782568942543414,
          8.8071102628152,
          8.8071102628152,
          8.8071102628152
         ],
         "yaxis": "y"
        },
        {
         "hovertemplate": "Pretraining Length=180<br>Agent-steps=%{x}<br>Mean Episode Reward per Agent=%{y}<extra></extra>",
         "legendgroup": "180",
         "line": {
          "color": "#B82E2E",
          "dash": "solid",
          "shape": "spline"
         },
         "marker": {
          "symbol": "circle"
         },
         "mode": "lines",
         "name": "180",
         "orientation": "v",
         "showlegend": true,
         "type": "scatter",
         "x": [
          360,
          366,
          372,
          378,
          384,
          390,
          396,
          402,
          408,
          414,
          420,
          426,
          432,
          438,
          444,
          450,
          456,
          462,
          468,
          474
         ],
         "xaxis": "x",
         "y": [
          8.45804846079727,
          8.45804846079727,
          8.45804846079727,
          8.45804846079727,
          8.45804846079727,
          8.45804846079727,
          8.45804846079727,
          6.871104966738965,
          6.871104966738965,
          6.871104966738965,
          6.871104966738965,
          6.6423444819811674,
          6.6423444819811674,
          6.6423444819811674,
          6.824469601546163,
          6.210600155887269,
          6.210600155887269,
          6.210600155887269,
          6.459820838532572,
          6.459820838532572
         ],
         "yaxis": "y"
        },
        {
         "fill": "toself",
         "fillcolor": "rgba(0,100,80,0.2)",
         "hoverinfo": "skip",
         "line": {
          "color": "rgba(255,255,255,0)"
         },
         "name": "Baseline:<br>6 Agent 95%<br>Prediction<br>Interval",
         "type": "scatter",
         "x": [
          0,
          6,
          12,
          18,
          24,
          30,
          36,
          42,
          48,
          54,
          60,
          66,
          72,
          78,
          84,
          90,
          96,
          102,
          108,
          114,
          120,
          126,
          132,
          138,
          144,
          150,
          156,
          162,
          168,
          174,
          180,
          186,
          192,
          198,
          204,
          210,
          216,
          222,
          228,
          234,
          240,
          246,
          252,
          258,
          264,
          270,
          276,
          282,
          288,
          294,
          300,
          306,
          312,
          318,
          324,
          330,
          336,
          342,
          348,
          354,
          360,
          366,
          372,
          378,
          384,
          390,
          396,
          402,
          408,
          414,
          420,
          426,
          432,
          438,
          444,
          450,
          456,
          462,
          468,
          474,
          480,
          486,
          492,
          498,
          504,
          510,
          516,
          522,
          528,
          534,
          540,
          546,
          552,
          558,
          564,
          570,
          576,
          582,
          588,
          594,
          600,
          606,
          612,
          618,
          624,
          630,
          636,
          642,
          648,
          654,
          660,
          666,
          672,
          678,
          684,
          690,
          696,
          702,
          708,
          714,
          720,
          726,
          732,
          738,
          744,
          750,
          756,
          762,
          768,
          774,
          780,
          786,
          792,
          798,
          804,
          810,
          816,
          822,
          828,
          834,
          840,
          846,
          852,
          858,
          864,
          870,
          876,
          882,
          888,
          894,
          900,
          906,
          912,
          918,
          924,
          930,
          936,
          942,
          948,
          954,
          960,
          966,
          972,
          978,
          984,
          990,
          996,
          1002,
          1008,
          1014,
          1020,
          1026,
          1032,
          1038,
          1044,
          1050,
          1056,
          1062,
          1068,
          1074,
          1080,
          1086,
          1092,
          1098,
          1104,
          1110,
          1116,
          1122,
          1128,
          1134,
          1140,
          1146,
          1152,
          1158,
          1164,
          1170,
          1176,
          1182,
          1188,
          1194,
          1194,
          1188,
          1182,
          1176,
          1170,
          1164,
          1158,
          1152,
          1146,
          1140,
          1134,
          1128,
          1122,
          1116,
          1110,
          1104,
          1098,
          1092,
          1086,
          1080,
          1074,
          1068,
          1062,
          1056,
          1050,
          1044,
          1038,
          1032,
          1026,
          1020,
          1014,
          1008,
          1002,
          996,
          990,
          984,
          978,
          972,
          966,
          960,
          954,
          948,
          942,
          936,
          930,
          924,
          918,
          912,
          906,
          900,
          894,
          888,
          882,
          876,
          870,
          864,
          858,
          852,
          846,
          840,
          834,
          828,
          822,
          816,
          810,
          804,
          798,
          792,
          786,
          780,
          774,
          768,
          762,
          756,
          750,
          744,
          738,
          732,
          726,
          720,
          714,
          708,
          702,
          696,
          690,
          684,
          678,
          672,
          666,
          660,
          654,
          648,
          642,
          636,
          630,
          624,
          618,
          612,
          606,
          600,
          594,
          588,
          582,
          576,
          570,
          564,
          558,
          552,
          546,
          540,
          534,
          528,
          522,
          516,
          510,
          504,
          498,
          492,
          486,
          480,
          474,
          468,
          462,
          456,
          450,
          444,
          438,
          432,
          426,
          420,
          414,
          408,
          402,
          396,
          390,
          384,
          378,
          372,
          366,
          360,
          354,
          348,
          342,
          336,
          330,
          324,
          318,
          312,
          306,
          300,
          294,
          288,
          282,
          276,
          270,
          264,
          258,
          252,
          246,
          240,
          234,
          228,
          222,
          216,
          210,
          204,
          198,
          192,
          186,
          180,
          174,
          168,
          162,
          156,
          150,
          144,
          138,
          132,
          126,
          120,
          114,
          108,
          102,
          96,
          90,
          84,
          78,
          72,
          66,
          60,
          54,
          48,
          42,
          36,
          30,
          24,
          18,
          12,
          6,
          0
         ],
         "y": [
          -75.3344004647009,
          -75.3344004647009,
          -76.35192314673613,
          -76.64676825430715,
          -76.25475571881638,
          -76.25475571881638,
          -75.07237816902698,
          -70.76427645669473,
          -70.50044001928357,
          -69.54126760089879,
          -69.54126760089879,
          -64.95136871450138,
          -64.52852509483925,
          -62.35315623050596,
          -57.70654083393815,
          -53.719417770971674,
          -51.78925425993738,
          -48.210015635111375,
          -41.837308886032574,
          -39.61831634606244,
          -39.61831634606244,
          -37.21953499782603,
          -31.053600200638314,
          -29.349563514084167,
          -27.24169891800277,
          -27.24169891800277,
          -20.743713710160108,
          -19.670559643074604,
          -18.537238331694816,
          -15.74838297628467,
          -12.899944960636024,
          -12.284873162889449,
          -11.091358899286437,
          -5.985962452720152,
          -5.061456469446544,
          -5.061456469446544,
          -4.12063295710338,
          0.512015493577989,
          1.1782728872841908,
          1.388294576786123,
          1.388294576786123,
          5.77099295522941,
          5.758054086378914,
          5.9743084993097195,
          7.355497343379181,
          8.542224140719497,
          8.808820724667587,
          9.323326611376412,
          11.325588786277025,
          11.53492589451548,
          11.53492589451548,
          11.542967336843725,
          13.1368157886218,
          13.02344265348473,
          13.329367947738511,
          13.512395717969346,
          14.75169625418484,
          14.874024812665514,
          15.417607854536453,
          16.323990020263953,
          17.59068401156144,
          17.525561884921753,
          17.435660851757458,
          18.539203112615443,
          18.482217528334346,
          18.482217528334346,
          18.83389602952947,
          19.51571866611036,
          19.49816830592294,
          19.50406314478267,
          20.031498954849187,
          19.78218914538641,
          20.158166578148705,
          20.251091819148627,
          19.951899316896224,
          19.845576893375856,
          20.209229365246166,
          20.42346836235091,
          21.703452363816336,
          21.842847384425177,
          21.842847384425177,
          22.07948073147497,
          23.29764954379332,
          23.60141948360392,
          23.780688795160387,
          25.144972415863542,
          26.00160290019479,
          25.654108373858964,
          26.18125727913271,
          26.987123785419264,
          27.33403877945944,
          27.506696207741147,
          27.650181882120258,
          27.636577289544785,
          27.713199632581688,
          27.713199632581688,
          27.6183687755684,
          28.432355965519605,
          28.73349539310032,
          28.931689095693194,
          29.144444403021613,
          29.703299821212426,
          29.81757668644082,
          30.10335011664903,
          30.674684953469946,
          31.398578289212537,
          31.434530900002386,
          31.416214184231805,
          31.972611975558216,
          32.1004459029151,
          32.1004459029151,
          32.44755929572372,
          32.21447308581584,
          31.96739244100299,
          31.688151610593046,
          30.984717029341542,
          30.456262549075056,
          30.535219877359467,
          30.534853019620947,
          30.638402630848063,
          30.48449798117996,
          30.678647011487637,
          31.24861384741836,
          31.67216772061108,
          31.030986426568724,
          31.030986426568724,
          31.278266742105842,
          31.472191750327866,
          31.223224667306788,
          31.71562270520831,
          31.821286212164917,
          32.88031665148909,
          33.18390086164866,
          33.07608965849184,
          33.02701214967026,
          33.724691694679855,
          33.843341049362984,
          33.42362534657868,
          33.62207060028048,
          33.812982445116084,
          33.812982445116084,
          34.308105216227915,
          34.31837637366148,
          34.15755930386355,
          34.54514736628738,
          34.21841062522061,
          33.16747606808739,
          33.0035489905041,
          32.80089426964337,
          32.908122974520424,
          33.36014136071153,
          33.14045045944484,
          32.959065315081745,
          32.82599843895279,
          32.89235790492939,
          32.89235790492939,
          33.05102066274356,
          32.85522036339718,
          33.27968441421544,
          33.6140510139114,
          34.39339897651262,
          33.82591487872624,
          33.73187070949987,
          33.8196238011779,
          32.81674045696883,
          32.55090347621384,
          32.38431579767168,
          32.35166026971149,
          32.0087309719673,
          32.32164869256509,
          32.32164869256509,
          32.406271631816324,
          31.89386168194781,
          31.779213609515573,
          31.973957581605802,
          32.41283088061149,
          33.20058733662491,
          33.02110859571619,
          33.261907413947995,
          33.30370997710716,
          33.897038547402836,
          33.87682847382349,
          34.04543650921147,
          33.85562006920433,
          34.778783727714746,
          34.778783727714746,
          35.149928219811876,
          35.76215702898885,
          36.14340505385933,
          36.093095157544106,
          36.07366633223058,
          36.53987217658653,
          36.35424891988444,
          36.24799562202346,
          36.93045317227682,
          36.310354822227985,
          36.69460940490835,
          36.0225722929577,
          36.36715513085204,
          36.39750659526454,
          9.706991844113345,
          9.940327430198217,
          10.053725684406603,
          9.331114691964418,
          9.320876618416053,
          8.503681826122794,
          8.57705637937278,
          8.473201485837636,
          8.229205927848493,
          8.528918826410248,
          8.138763999487798,
          8.172771590120727,
          8.00839590745715,
          8.525032387032454,
          8.602639839774016,
          8.602639839774016,
          9.337035416326698,
          9.040555336203742,
          8.030038809684951,
          7.596620501790651,
          7.229587772526514,
          6.679991452796035,
          6.746636301564431,
          6.1076726046405785,
          6.274162721223798,
          6.135488863581209,
          6.268999052648736,
          6.097155577060377,
          5.168839500033727,
          5.351748624119889,
          5.351748624119889,
          6.625155231306637,
          6.361742600623035,
          6.096867984693482,
          6.065563797806492,
          5.586180312828834,
          4.670594281249695,
          4.510137548561172,
          4.445521365181042,
          4.622308363135602,
          4.901565864740325,
          4.757119983411302,
          4.880228314092722,
          4.555168208477022,
          4.672749287794126,
          4.672749287794126,
          4.822978014669621,
          4.664205852836126,
          4.8470302177327245,
          4.737282152967559,
          4.99227448371829,
          4.423717495283739,
          4.242510550188349,
          4.071938865254106,
          3.191048985908335,
          3.078065989647337,
          3.3032954540088735,
          2.8169491770697253,
          2.0601177706098426,
          2.5480732495981524,
          2.5480732495981524,
          2.2626366661403914,
          2.511690781492689,
          2.4524749161379322,
          2.8336757671020596,
          3.011943265638523,
          3.188003776276183,
          2.650231036615134,
          3.0395505943765198,
          3.990440975103777,
          4.3408833860917735,
          4.404484841621914,
          4.153499373441498,
          2.1834709747003114,
          1.899218950754376,
          1.899218950754376,
          1.8540330568068892,
          1.3939706874299027,
          1.59491426431536,
          1.9020699670081207,
          0.6824228764032316,
          0.42165934238576774,
          -0.011002164152182914,
          -0.30769550730872375,
          -1.3347598686874882,
          -1.5503196384603513,
          -2.015863052526246,
          -2.313157383283908,
          -3.231536481542996,
          -3.4671946289755535,
          -3.4671946289755535,
          -3.387090871494662,
          -3.04443336699409,
          -3.085352086499954,
          -2.9211841332529485,
          -2.7599453171044352,
          -3.0737650343154463,
          -2.971979719683514,
          -2.6976777354688988,
          -3.3954247117083405,
          -3.65141989577201,
          -3.7816455952881807,
          -3.932878942398702,
          -3.5468136746917676,
          -3.938748413849776,
          -3.938748413849776,
          -4.128968688437528,
          -5.41561831301688,
          -5.074072477440335,
          -4.969421859282496,
          -4.714172316644161,
          -4.85107132401088,
          -4.430444700612924,
          -5.032375043357181,
          -6.044682131740613,
          -5.700424632395709,
          -5.793185324309514,
          -5.800611723721138,
          -7.020512553715221,
          -7.083848689040646,
          -7.083848689040646,
          -7.346243667996769,
          -8.726189042943814,
          -8.749762297522755,
          -8.621783137186082,
          -9.36058430378663,
          -9.549363491539252,
          -9.315115318276295,
          -9.331661743450713,
          -10.435632496528921,
          -10.62457337063092,
          -11.010411027783782,
          -11.589654870252412,
          -12.354989484269616,
          -12.527567051803542,
          -12.527567051803542,
          -12.696523120521986,
          -14.484909664989901,
          -15.264331203192048,
          -16.220727779232643,
          -16.62279957075975,
          -17.10644662882108,
          -16.840613333646345,
          -16.869939884112362,
          -17.924215783272647,
          -18.23015382106379,
          -18.047051998628064,
          -18.433714973641887,
          -20.32257688885654,
          -20.672408246340744,
          -20.672408246340744,
          -20.740783208281783,
          -21.84547170707079,
          -21.753960170259383,
          -21.966916386748473,
          -22.71327732344847,
          -23.575154696231053,
          -23.691826730805047,
          -24.055247802799016,
          -26.064751611825976,
          -26.064751611825976,
          -26.676999268683964,
          -26.737973351672963,
          -30.592475109465035,
          -30.916539719950958,
          -30.916539719950958,
          -31.242377262273813,
          -36.109878326757595,
          -36.68205843270445,
          -37.56527088853227,
          -40.231683248828915,
          -42.93147772358782,
          -43.19745185782632,
          -43.55559110091947,
          -51.28211675219397,
          -51.28211675219397,
          -51.08249849353204,
          -51.2183386973835,
          -60.506890751765155,
          -60.20630551578685,
          -60.20630551578685,
          -60.25060760620299,
          -70.4060712171284,
          -69.60843268675474,
          -70.31520128898964,
          -75.12823802647769,
          -76.27725411324732,
          -76.4832392839849,
          -77.31353906800145,
          -81.77662945760873,
          -81.77662945760873,
          -82.0857994044466,
          -82.91590893943986,
          -88.26589631848513,
          -88.3693466285791,
          -88.3693466285791,
          -89.01771213177432,
          -90.87818739977031,
          -92.53739074318932,
          -92.53739074318932
         ]
        }
       ],
       "layout": {
        "height": 450,
        "legend": {
         "title": {
          "text": "Pretraining Length"
         },
         "tracegroupgap": 0
        },
        "template": {
         "data": {
          "bar": [
           {
            "error_x": {
             "color": "#2a3f5f"
            },
            "error_y": {
             "color": "#2a3f5f"
            },
            "marker": {
             "line": {
              "color": "#E5ECF6",
              "width": 0.5
             },
             "pattern": {
              "fillmode": "overlay",
              "size": 10,
              "solidity": 0.2
             }
            },
            "type": "bar"
           }
          ],
          "barpolar": [
           {
            "marker": {
             "line": {
              "color": "#E5ECF6",
              "width": 0.5
             },
             "pattern": {
              "fillmode": "overlay",
              "size": 10,
              "solidity": 0.2
             }
            },
            "type": "barpolar"
           }
          ],
          "carpet": [
           {
            "aaxis": {
             "endlinecolor": "#2a3f5f",
             "gridcolor": "white",
             "linecolor": "white",
             "minorgridcolor": "white",
             "startlinecolor": "#2a3f5f"
            },
            "baxis": {
             "endlinecolor": "#2a3f5f",
             "gridcolor": "white",
             "linecolor": "white",
             "minorgridcolor": "white",
             "startlinecolor": "#2a3f5f"
            },
            "type": "carpet"
           }
          ],
          "choropleth": [
           {
            "colorbar": {
             "outlinewidth": 0,
             "ticks": ""
            },
            "type": "choropleth"
           }
          ],
          "contour": [
           {
            "colorbar": {
             "outlinewidth": 0,
             "ticks": ""
            },
            "colorscale": [
             [
              0,
              "#0d0887"
             ],
             [
              0.1111111111111111,
              "#46039f"
             ],
             [
              0.2222222222222222,
              "#7201a8"
             ],
             [
              0.3333333333333333,
              "#9c179e"
             ],
             [
              0.4444444444444444,
              "#bd3786"
             ],
             [
              0.5555555555555556,
              "#d8576b"
             ],
             [
              0.6666666666666666,
              "#ed7953"
             ],
             [
              0.7777777777777778,
              "#fb9f3a"
             ],
             [
              0.8888888888888888,
              "#fdca26"
             ],
             [
              1,
              "#f0f921"
             ]
            ],
            "type": "contour"
           }
          ],
          "contourcarpet": [
           {
            "colorbar": {
             "outlinewidth": 0,
             "ticks": ""
            },
            "type": "contourcarpet"
           }
          ],
          "heatmap": [
           {
            "colorbar": {
             "outlinewidth": 0,
             "ticks": ""
            },
            "colorscale": [
             [
              0,
              "#0d0887"
             ],
             [
              0.1111111111111111,
              "#46039f"
             ],
             [
              0.2222222222222222,
              "#7201a8"
             ],
             [
              0.3333333333333333,
              "#9c179e"
             ],
             [
              0.4444444444444444,
              "#bd3786"
             ],
             [
              0.5555555555555556,
              "#d8576b"
             ],
             [
              0.6666666666666666,
              "#ed7953"
             ],
             [
              0.7777777777777778,
              "#fb9f3a"
             ],
             [
              0.8888888888888888,
              "#fdca26"
             ],
             [
              1,
              "#f0f921"
             ]
            ],
            "type": "heatmap"
           }
          ],
          "heatmapgl": [
           {
            "colorbar": {
             "outlinewidth": 0,
             "ticks": ""
            },
            "colorscale": [
             [
              0,
              "#0d0887"
             ],
             [
              0.1111111111111111,
              "#46039f"
             ],
             [
              0.2222222222222222,
              "#7201a8"
             ],
             [
              0.3333333333333333,
              "#9c179e"
             ],
             [
              0.4444444444444444,
              "#bd3786"
             ],
             [
              0.5555555555555556,
              "#d8576b"
             ],
             [
              0.6666666666666666,
              "#ed7953"
             ],
             [
              0.7777777777777778,
              "#fb9f3a"
             ],
             [
              0.8888888888888888,
              "#fdca26"
             ],
             [
              1,
              "#f0f921"
             ]
            ],
            "type": "heatmapgl"
           }
          ],
          "histogram": [
           {
            "marker": {
             "pattern": {
              "fillmode": "overlay",
              "size": 10,
              "solidity": 0.2
             }
            },
            "type": "histogram"
           }
          ],
          "histogram2d": [
           {
            "colorbar": {
             "outlinewidth": 0,
             "ticks": ""
            },
            "colorscale": [
             [
              0,
              "#0d0887"
             ],
             [
              0.1111111111111111,
              "#46039f"
             ],
             [
              0.2222222222222222,
              "#7201a8"
             ],
             [
              0.3333333333333333,
              "#9c179e"
             ],
             [
              0.4444444444444444,
              "#bd3786"
             ],
             [
              0.5555555555555556,
              "#d8576b"
             ],
             [
              0.6666666666666666,
              "#ed7953"
             ],
             [
              0.7777777777777778,
              "#fb9f3a"
             ],
             [
              0.8888888888888888,
              "#fdca26"
             ],
             [
              1,
              "#f0f921"
             ]
            ],
            "type": "histogram2d"
           }
          ],
          "histogram2dcontour": [
           {
            "colorbar": {
             "outlinewidth": 0,
             "ticks": ""
            },
            "colorscale": [
             [
              0,
              "#0d0887"
             ],
             [
              0.1111111111111111,
              "#46039f"
             ],
             [
              0.2222222222222222,
              "#7201a8"
             ],
             [
              0.3333333333333333,
              "#9c179e"
             ],
             [
              0.4444444444444444,
              "#bd3786"
             ],
             [
              0.5555555555555556,
              "#d8576b"
             ],
             [
              0.6666666666666666,
              "#ed7953"
             ],
             [
              0.7777777777777778,
              "#fb9f3a"
             ],
             [
              0.8888888888888888,
              "#fdca26"
             ],
             [
              1,
              "#f0f921"
             ]
            ],
            "type": "histogram2dcontour"
           }
          ],
          "mesh3d": [
           {
            "colorbar": {
             "outlinewidth": 0,
             "ticks": ""
            },
            "type": "mesh3d"
           }
          ],
          "parcoords": [
           {
            "line": {
             "colorbar": {
              "outlinewidth": 0,
              "ticks": ""
             }
            },
            "type": "parcoords"
           }
          ],
          "pie": [
           {
            "automargin": true,
            "type": "pie"
           }
          ],
          "scatter": [
           {
            "fillpattern": {
             "fillmode": "overlay",
             "size": 10,
             "solidity": 0.2
            },
            "type": "scatter"
           }
          ],
          "scatter3d": [
           {
            "line": {
             "colorbar": {
              "outlinewidth": 0,
              "ticks": ""
             }
            },
            "marker": {
             "colorbar": {
              "outlinewidth": 0,
              "ticks": ""
             }
            },
            "type": "scatter3d"
           }
          ],
          "scattercarpet": [
           {
            "marker": {
             "colorbar": {
              "outlinewidth": 0,
              "ticks": ""
             }
            },
            "type": "scattercarpet"
           }
          ],
          "scattergeo": [
           {
            "marker": {
             "colorbar": {
              "outlinewidth": 0,
              "ticks": ""
             }
            },
            "type": "scattergeo"
           }
          ],
          "scattergl": [
           {
            "marker": {
             "colorbar": {
              "outlinewidth": 0,
              "ticks": ""
             }
            },
            "type": "scattergl"
           }
          ],
          "scattermapbox": [
           {
            "marker": {
             "colorbar": {
              "outlinewidth": 0,
              "ticks": ""
             }
            },
            "type": "scattermapbox"
           }
          ],
          "scatterpolar": [
           {
            "marker": {
             "colorbar": {
              "outlinewidth": 0,
              "ticks": ""
             }
            },
            "type": "scatterpolar"
           }
          ],
          "scatterpolargl": [
           {
            "marker": {
             "colorbar": {
              "outlinewidth": 0,
              "ticks": ""
             }
            },
            "type": "scatterpolargl"
           }
          ],
          "scatterternary": [
           {
            "marker": {
             "colorbar": {
              "outlinewidth": 0,
              "ticks": ""
             }
            },
            "type": "scatterternary"
           }
          ],
          "surface": [
           {
            "colorbar": {
             "outlinewidth": 0,
             "ticks": ""
            },
            "colorscale": [
             [
              0,
              "#0d0887"
             ],
             [
              0.1111111111111111,
              "#46039f"
             ],
             [
              0.2222222222222222,
              "#7201a8"
             ],
             [
              0.3333333333333333,
              "#9c179e"
             ],
             [
              0.4444444444444444,
              "#bd3786"
             ],
             [
              0.5555555555555556,
              "#d8576b"
             ],
             [
              0.6666666666666666,
              "#ed7953"
             ],
             [
              0.7777777777777778,
              "#fb9f3a"
             ],
             [
              0.8888888888888888,
              "#fdca26"
             ],
             [
              1,
              "#f0f921"
             ]
            ],
            "type": "surface"
           }
          ],
          "table": [
           {
            "cells": {
             "fill": {
              "color": "#EBF0F8"
             },
             "line": {
              "color": "white"
             }
            },
            "header": {
             "fill": {
              "color": "#C8D4E3"
             },
             "line": {
              "color": "white"
             }
            },
            "type": "table"
           }
          ]
         },
         "layout": {
          "annotationdefaults": {
           "arrowcolor": "#2a3f5f",
           "arrowhead": 0,
           "arrowwidth": 1
          },
          "autotypenumbers": "strict",
          "coloraxis": {
           "colorbar": {
            "outlinewidth": 0,
            "ticks": ""
           }
          },
          "colorscale": {
           "diverging": [
            [
             0,
             "#8e0152"
            ],
            [
             0.1,
             "#c51b7d"
            ],
            [
             0.2,
             "#de77ae"
            ],
            [
             0.3,
             "#f1b6da"
            ],
            [
             0.4,
             "#fde0ef"
            ],
            [
             0.5,
             "#f7f7f7"
            ],
            [
             0.6,
             "#e6f5d0"
            ],
            [
             0.7,
             "#b8e186"
            ],
            [
             0.8,
             "#7fbc41"
            ],
            [
             0.9,
             "#4d9221"
            ],
            [
             1,
             "#276419"
            ]
           ],
           "sequential": [
            [
             0,
             "#0d0887"
            ],
            [
             0.1111111111111111,
             "#46039f"
            ],
            [
             0.2222222222222222,
             "#7201a8"
            ],
            [
             0.3333333333333333,
             "#9c179e"
            ],
            [
             0.4444444444444444,
             "#bd3786"
            ],
            [
             0.5555555555555556,
             "#d8576b"
            ],
            [
             0.6666666666666666,
             "#ed7953"
            ],
            [
             0.7777777777777778,
             "#fb9f3a"
            ],
            [
             0.8888888888888888,
             "#fdca26"
            ],
            [
             1,
             "#f0f921"
            ]
           ],
           "sequentialminus": [
            [
             0,
             "#0d0887"
            ],
            [
             0.1111111111111111,
             "#46039f"
            ],
            [
             0.2222222222222222,
             "#7201a8"
            ],
            [
             0.3333333333333333,
             "#9c179e"
            ],
            [
             0.4444444444444444,
             "#bd3786"
            ],
            [
             0.5555555555555556,
             "#d8576b"
            ],
            [
             0.6666666666666666,
             "#ed7953"
            ],
            [
             0.7777777777777778,
             "#fb9f3a"
            ],
            [
             0.8888888888888888,
             "#fdca26"
            ],
            [
             1,
             "#f0f921"
            ]
           ]
          },
          "colorway": [
           "#636efa",
           "#EF553B",
           "#00cc96",
           "#ab63fa",
           "#FFA15A",
           "#19d3f3",
           "#FF6692",
           "#B6E880",
           "#FF97FF",
           "#FECB52"
          ],
          "font": {
           "color": "#2a3f5f"
          },
          "geo": {
           "bgcolor": "white",
           "lakecolor": "white",
           "landcolor": "#E5ECF6",
           "showlakes": true,
           "showland": true,
           "subunitcolor": "white"
          },
          "hoverlabel": {
           "align": "left"
          },
          "hovermode": "closest",
          "mapbox": {
           "style": "light"
          },
          "paper_bgcolor": "white",
          "plot_bgcolor": "#E5ECF6",
          "polar": {
           "angularaxis": {
            "gridcolor": "white",
            "linecolor": "white",
            "ticks": ""
           },
           "bgcolor": "#E5ECF6",
           "radialaxis": {
            "gridcolor": "white",
            "linecolor": "white",
            "ticks": ""
           }
          },
          "scene": {
           "xaxis": {
            "backgroundcolor": "#E5ECF6",
            "gridcolor": "white",
            "gridwidth": 2,
            "linecolor": "white",
            "showbackground": true,
            "ticks": "",
            "zerolinecolor": "white"
           },
           "yaxis": {
            "backgroundcolor": "#E5ECF6",
            "gridcolor": "white",
            "gridwidth": 2,
            "linecolor": "white",
            "showbackground": true,
            "ticks": "",
            "zerolinecolor": "white"
           },
           "zaxis": {
            "backgroundcolor": "#E5ECF6",
            "gridcolor": "white",
            "gridwidth": 2,
            "linecolor": "white",
            "showbackground": true,
            "ticks": "",
            "zerolinecolor": "white"
           }
          },
          "shapedefaults": {
           "line": {
            "color": "#2a3f5f"
           }
          },
          "ternary": {
           "aaxis": {
            "gridcolor": "white",
            "linecolor": "white",
            "ticks": ""
           },
           "baxis": {
            "gridcolor": "white",
            "linecolor": "white",
            "ticks": ""
           },
           "bgcolor": "#E5ECF6",
           "caxis": {
            "gridcolor": "white",
            "linecolor": "white",
            "ticks": ""
           }
          },
          "title": {
           "x": 0.05
          },
          "xaxis": {
           "automargin": true,
           "gridcolor": "white",
           "linecolor": "white",
           "ticks": "",
           "title": {
            "standoff": 15
           },
           "zerolinecolor": "white",
           "zerolinewidth": 2
          },
          "yaxis": {
           "automargin": true,
           "gridcolor": "white",
           "linecolor": "white",
           "ticks": "",
           "title": {
            "standoff": 15
           },
           "zerolinecolor": "white",
           "zerolinewidth": 2
          }
         }
        },
        "title": {
         "text": "6 Agent Task with 2 Agent Pretraining"
        },
        "width": 700,
        "xaxis": {
         "anchor": "y",
         "domain": [
          0,
          1
         ],
         "title": {
          "text": "Agent-steps"
         }
        },
        "yaxis": {
         "anchor": "x",
         "domain": [
          0,
          1
         ],
         "title": {
          "text": "Mean Episode Reward per Agent"
         }
        }
       }
      }
     },
     "metadata": {},
     "output_type": "display_data"
    }
   ],
   "source": [
    "plot_avg_retrain(6)"
   ]
  },
  {
   "cell_type": "code",
   "execution_count": 27,
   "metadata": {},
   "outputs": [
    {
     "data": {
      "application/vnd.plotly.v1+json": {
       "config": {
        "plotlyServerURL": "https://plot.ly"
       },
       "data": [
        {
         "hovertemplate": "Pretraining Length=20<br>Agent-steps=%{x}<br>Mean Episode Reward per Agent=%{y}<extra></extra>",
         "legendgroup": "20",
         "line": {
          "color": "#3366CC",
          "dash": "solid",
          "shape": "spline"
         },
         "marker": {
          "symbol": "circle"
         },
         "mode": "lines",
         "name": "20",
         "orientation": "v",
         "showlegend": true,
         "type": "scatter",
         "x": [
          40,
          48,
          56,
          64,
          72,
          80,
          88,
          96,
          104,
          112,
          120,
          128,
          136,
          144,
          152,
          160,
          168,
          176,
          184,
          192,
          200,
          208,
          216,
          224,
          232,
          240,
          248,
          256,
          264,
          272,
          280,
          288,
          296,
          304,
          312,
          320,
          328,
          336,
          344,
          352,
          360,
          368,
          376,
          384,
          392,
          400,
          408,
          416,
          424,
          432,
          440,
          448,
          456,
          464,
          472,
          480,
          488,
          496,
          504,
          512,
          520,
          528,
          536,
          544,
          552,
          560,
          568,
          576,
          584,
          592,
          600,
          608,
          616,
          624,
          632,
          640,
          648,
          656,
          664,
          672,
          680,
          688,
          696,
          704,
          712,
          720,
          728,
          736,
          744,
          752,
          760,
          768,
          776,
          784,
          792,
          800,
          808,
          816,
          824,
          832,
          840,
          848,
          856,
          864,
          872,
          880,
          888,
          896,
          904,
          912,
          920,
          928,
          936,
          944,
          952,
          960,
          968,
          976,
          984,
          992,
          1000,
          1008,
          1016,
          1024,
          1032,
          1040,
          1048,
          1056,
          1064,
          1072,
          1080,
          1088,
          1096,
          1104,
          1112,
          1120,
          1128,
          1136,
          1144,
          1152,
          1160,
          1168,
          1176,
          1184,
          1192,
          1200,
          1208,
          1216,
          1224,
          1232,
          1240,
          1248,
          1256,
          1264,
          1272,
          1280,
          1288,
          1296,
          1304,
          1312,
          1320,
          1328,
          1336,
          1344,
          1352,
          1360,
          1368,
          1376,
          1384,
          1392,
          1400,
          1408,
          1416,
          1424,
          1432,
          1440,
          1448,
          1456,
          1464,
          1472
         ],
         "xaxis": "x",
         "y": [
          -52.056205001860214,
          -52.056205001860214,
          -52.056205001860214,
          -52.056205001860214,
          -52.056205001860214,
          -52.056205001860214,
          -52.056205001860214,
          -48.09097682663828,
          -48.09097682663828,
          -48.09097682663828,
          -48.09097682663828,
          -43.723173570805784,
          -43.723173570805784,
          -43.723173570805784,
          -42.61336282713903,
          -38.92690127520606,
          -38.92690127520606,
          -38.92690127520606,
          -33.55673478974161,
          -33.55673478974161,
          -33.55673478974161,
          -33.55673478974161,
          -29.853519154005948,
          -29.853519154005948,
          -29.853519154005948,
          -29.853519154005948,
          -27.63364223668329,
          -27.63364223668329,
          -27.63364223668329,
          -26.59126139633895,
          -25.152824003563673,
          -25.152824003563673,
          -25.152824003563673,
          -22.64108092437665,
          -22.64108092437665,
          -22.64108092437665,
          -22.64108092437665,
          -20.453349411398726,
          -20.453349411398726,
          -20.453349411398726,
          -20.453349411398726,
          -18.343162352354682,
          -18.343162352354682,
          -18.343162352354682,
          -17.828788905519463,
          -17.968806617195774,
          -17.968806617195774,
          -17.968806617195774,
          -16.91191739037953,
          -16.91191739037953,
          -16.91191739037953,
          -16.91191739037953,
          -15.160203829392675,
          -15.160203829392675,
          -15.160203829392675,
          -14.507979121838556,
          -13.170247188976822,
          -13.170247188976822,
          -13.170247188976822,
          -12.32191060592442,
          -11.86519448196382,
          -11.86519448196382,
          -11.86519448196382,
          -11.086177505809204,
          -11.086177505809204,
          -11.086177505809204,
          -11.086177505809204,
          -10.909744897590452,
          -10.909744897590452,
          -10.909744897590452,
          -11.189174078592615,
          -10.560897938687983,
          -10.560897938687983,
          -10.560897938687983,
          -10.144004591573289,
          -9.720562473087597,
          -9.720562473087597,
          -9.720562473087597,
          -9.132688716626589,
          -9.132688716626589,
          -9.132688716626589,
          -9.132688716626589,
          -8.381896891614511,
          -8.381896891614511,
          -8.381896891614511,
          -7.897835944687424,
          -7.696001144615631,
          -7.696001144615631,
          -7.696001144615631,
          -7.379307903299727,
          -7.116802579393301,
          -7.116802579393301,
          -7.116802579393301,
          -6.040113756756044,
          -6.040113756756044,
          -6.040113756756044,
          -6.040113756756044,
          -5.620944643622305,
          -5.620944643622305,
          -5.620944643622305,
          -5.469111243457412,
          -5.060505334335175,
          -5.060505334335175,
          -5.060505334335175,
          -4.849344503477634,
          -4.212514689449281,
          -4.212514689449281,
          -4.212514689449281,
          -4.24687090921306,
          -3.923743018503668,
          -3.923743018503668,
          -3.5840787070525257,
          -3.5367200900547964,
          -3.5367200900547964,
          -3.5367200900547964,
          -3.5802489946241485,
          -3.917798742613203,
          -3.917798742613203,
          -3.917798742613203,
          -4.112519088831211,
          -4.217096321540508,
          -4.217096321540508,
          -4.217096321540508,
          -3.9202934741979965,
          -3.294531890761813,
          -3.294531890761813,
          -3.6388730936772737,
          -3.1125443263123387,
          -3.1125443263123387,
          -3.1125443263123387,
          -2.9113654999997047,
          -1.85439341998559,
          -1.85439341998559,
          -1.85439341998559,
          -1.6691065940887273,
          -2.1249880231975906,
          -2.1249880231975906,
          -2.1249880231975906,
          -2.121598723461598,
          -1.7770103899270933,
          -1.7770103899270933,
          -1.2286034272543072,
          -1.4153430208073856,
          -1.4153430208073856,
          -1.4153430208073856,
          -1.4086475483990295,
          -1.3082571221080863,
          -1.3082571221080863,
          -1.3082571221080863,
          -1.0419104630615053,
          -0.8685083362334496,
          -0.8685083362334496,
          -1.0789488504559686,
          -1.0789488504559686,
          -1.451423043287002,
          -1.451423043287002,
          -1.5421221749932492,
          -1.5935554027225953,
          -1.5935554027225953,
          -1.5935554027225953,
          -1.201015192990502,
          -1.6684279377551872,
          -1.6684279377551872,
          -1.6684279377551872,
          -1.770589935854049,
          -1.1420928324603101,
          -1.1420928324603101,
          -0.9430728610684724,
          -0.9430728610684724,
          -0.33128881067027277,
          -0.33128881067027277,
          0.11588594742656055,
          0.33594025748926737,
          0.33594025748926737,
          0.33594025748926737,
          0.6288463807824718,
          0.9606613342862749,
          0.9606613342862749,
          0.9606613342862749,
          0.313428800394978
         ],
         "yaxis": "y"
        },
        {
         "hovertemplate": "Pretraining Length=40<br>Agent-steps=%{x}<br>Mean Episode Reward per Agent=%{y}<extra></extra>",
         "legendgroup": "40",
         "line": {
          "color": "#DC3912",
          "dash": "solid",
          "shape": "spline"
         },
         "marker": {
          "symbol": "circle"
         },
         "mode": "lines",
         "name": "40",
         "orientation": "v",
         "showlegend": true,
         "type": "scatter",
         "x": [
          80,
          88,
          96,
          104,
          112,
          120,
          128,
          136,
          144,
          152,
          160,
          168,
          176,
          184,
          192,
          200,
          208,
          216,
          224,
          232,
          240,
          248,
          256,
          264,
          272,
          280,
          288,
          296,
          304,
          312,
          320,
          328,
          336,
          344,
          352,
          360,
          368,
          376,
          384,
          392,
          400,
          408,
          416,
          424,
          432,
          440,
          448,
          456,
          464,
          472,
          480,
          488,
          496,
          504,
          512,
          520,
          528,
          536,
          544,
          552,
          560,
          568,
          576,
          584,
          592,
          600,
          608,
          616,
          624,
          632,
          640,
          648,
          656,
          664,
          672,
          680,
          688,
          696,
          704,
          712,
          720,
          728,
          736,
          744,
          752,
          760,
          768,
          776,
          784,
          792,
          800,
          808,
          816,
          824,
          832,
          840,
          848,
          856,
          864,
          872,
          880,
          888,
          896,
          904,
          912,
          920,
          928,
          936,
          944,
          952,
          960,
          968,
          976,
          984,
          992,
          1000,
          1008,
          1016,
          1024,
          1032,
          1040,
          1048,
          1056,
          1064,
          1072,
          1080,
          1088,
          1096,
          1104,
          1112,
          1120,
          1128,
          1136,
          1144,
          1152,
          1160,
          1168,
          1176,
          1184,
          1192,
          1200,
          1208,
          1216,
          1224,
          1232,
          1240,
          1248,
          1256,
          1264,
          1272,
          1280,
          1288,
          1296,
          1304,
          1312,
          1320,
          1328,
          1336,
          1344,
          1352
         ],
         "xaxis": "x",
         "y": [
          -34.14918675403938,
          -34.14918675403938,
          -34.14918675403938,
          -34.14918675403938,
          -34.14918675403938,
          -34.14918675403938,
          -34.14918675403938,
          -32.067563651944155,
          -32.067563651944155,
          -32.067563651944155,
          -32.067563651944155,
          -30.313441741356968,
          -30.313441741356968,
          -30.313441741356968,
          -29.99985634263346,
          -28.299711613433523,
          -28.299711613433523,
          -28.299711613433523,
          -25.90178853241749,
          -25.90178853241749,
          -25.90178853241749,
          -25.90178853241749,
          -24.71881651229004,
          -24.71881651229004,
          -24.71881651229004,
          -24.71881651229004,
          -22.980076202854313,
          -22.980076202854313,
          -22.980076202854313,
          -22.096686867708616,
          -21.496329211730732,
          -21.496329211730732,
          -21.496329211730732,
          -20.360450370898995,
          -20.360450370898995,
          -20.360450370898995,
          -20.360450370898995,
          -18.97520523871928,
          -18.97520523871928,
          -18.97520523871928,
          -18.97520523871928,
          -18.166340096518052,
          -18.166340096518052,
          -18.166340096518052,
          -17.344738665446787,
          -16.384478529982005,
          -16.384478529982005,
          -16.384478529982005,
          -15.097607789360547,
          -15.097607789360547,
          -15.097607789360547,
          -15.097607789360547,
          -13.75118242222043,
          -13.75118242222043,
          -13.75118242222043,
          -13.48666940893482,
          -12.736598895653383,
          -12.736598895653383,
          -12.736598895653383,
          -12.192812555614914,
          -11.36821918674924,
          -11.36821918674924,
          -11.36821918674924,
          -9.485501102105383,
          -9.485501102105383,
          -9.485501102105383,
          -9.485501102105383,
          -7.756223559096926,
          -7.756223559096926,
          -7.756223559096926,
          -7.794001060088403,
          -6.944349592261173,
          -6.944349592261173,
          -6.944349592261173,
          -6.769130492436224,
          -7.000370493534571,
          -7.000370493534571,
          -7.000370493534571,
          -6.1468527556425965,
          -6.1468527556425965,
          -6.1468527556425965,
          -6.1468527556425965,
          -5.062815205609036,
          -5.062815205609036,
          -5.062815205609036,
          -4.81342554858267,
          -3.5190650454336483,
          -3.5190650454336483,
          -3.5190650454336483,
          -3.271443151895723,
          -3.1426522265836985,
          -3.1426522265836985,
          -3.1426522265836985,
          -2.93206735720935,
          -2.93206735720935,
          -2.93206735720935,
          -2.93206735720935,
          -3.0047408507557845,
          -3.0047408507557845,
          -3.0047408507557845,
          -2.893319013647529,
          -3.0658611416938633,
          -3.0658611416938633,
          -3.0658611416938633,
          -3.3894372343000754,
          -3.753156463258467,
          -3.753156463258467,
          -3.753156463258467,
          -3.3400913345404595,
          -2.9573561193104276,
          -2.9573561193104276,
          -2.4518353287521233,
          -2.060280859853466,
          -2.060280859853466,
          -2.060280859853466,
          -2.077145383767932,
          -1.558979354076889,
          -1.558979354076889,
          -1.558979354076889,
          -1.1067269006911888,
          -0.2566404934682166,
          -0.2566404934682166,
          -0.2566404934682166,
          -0.1137603568766746,
          0.5050273655015987,
          0.5050273655015987,
          0.6137498020993669,
          0.9061111525879827,
          0.9061111525879827,
          0.9061111525879827,
          0.9534650268741203,
          0.8569707360469347,
          0.8569707360469347,
          0.8569707360469347,
          0.8853853632152522,
          0.6489366168302741,
          0.6489366168302741,
          0.6489366168302741,
          0.5607328086822004,
          0.12018825934639432,
          0.12018825934639432,
          -0.44677990174445686,
          -1.1193968232790916,
          -1.1193968232790916,
          -1.1193968232790916,
          -0.854078284826925,
          -0.8362482351521262,
          -0.8362482351521262,
          -0.8362482351521262,
          -0.9290319625169303,
          -0.3839375021472153,
          -0.3839375021472153,
          -0.11565093824313008,
          -0.11565093824313008,
          1.2394435395225223,
          1.2394435395225223,
          1.1837130228260948,
          1.0709232405099762,
          1.0709232405099762,
          1.0709232405099762
         ],
         "yaxis": "y"
        },
        {
         "hovertemplate": "Pretraining Length=60<br>Agent-steps=%{x}<br>Mean Episode Reward per Agent=%{y}<extra></extra>",
         "legendgroup": "60",
         "line": {
          "color": "#FF9900",
          "dash": "solid",
          "shape": "spline"
         },
         "marker": {
          "symbol": "circle"
         },
         "mode": "lines",
         "name": "60",
         "orientation": "v",
         "showlegend": true,
         "type": "scatter",
         "x": [
          120,
          128,
          136,
          144,
          152,
          160,
          168,
          176,
          184,
          192,
          200,
          208,
          216,
          224,
          232,
          240,
          248,
          256,
          264,
          272,
          280,
          288,
          296,
          304,
          312,
          320,
          328,
          336,
          344,
          352,
          360,
          368,
          376,
          384,
          392,
          400,
          408,
          416,
          424,
          432,
          440,
          448,
          456,
          464,
          472,
          480,
          488,
          496,
          504,
          512,
          520,
          528,
          536,
          544,
          552,
          560,
          568,
          576,
          584,
          592,
          600,
          608,
          616,
          624,
          632,
          640,
          648,
          656,
          664,
          672,
          680,
          688,
          696,
          704,
          712,
          720,
          728,
          736,
          744,
          752,
          760,
          768,
          776,
          784,
          792,
          800,
          808,
          816,
          824,
          832,
          840,
          848,
          856,
          864,
          872,
          880,
          888,
          896,
          904,
          912,
          920,
          928,
          936,
          944,
          952,
          960,
          968,
          976,
          984,
          992,
          1000,
          1008,
          1016,
          1024,
          1032,
          1040,
          1048,
          1056,
          1064,
          1072,
          1080,
          1088,
          1096,
          1104,
          1112,
          1120,
          1128,
          1136,
          1144,
          1152,
          1160,
          1168,
          1176,
          1184,
          1192,
          1200,
          1208,
          1216,
          1224,
          1232
         ],
         "xaxis": "x",
         "y": [
          -15.904956481241515,
          -15.904956481241515,
          -15.904956481241515,
          -15.904956481241515,
          -15.904956481241515,
          -15.904956481241515,
          -15.904956481241515,
          -13.818431663787047,
          -13.818431663787047,
          -13.818431663787047,
          -13.818431663787047,
          -12.717923657124079,
          -12.717923657124079,
          -12.717923657124079,
          -12.498098465591529,
          -11.148660098912503,
          -11.148660098912503,
          -11.148660098912503,
          -9.561134110604758,
          -9.561134110604758,
          -9.561134110604758,
          -9.561134110604758,
          -8.216555966184483,
          -8.216555966184483,
          -8.216555966184483,
          -8.216555966184483,
          -7.722533243875107,
          -7.722533243875107,
          -7.722533243875107,
          -7.758771921938483,
          -7.602588863357113,
          -7.602588863357113,
          -7.602588863357113,
          -6.805934151834517,
          -6.805934151834517,
          -6.805934151834517,
          -6.805934151834517,
          -5.6217858861864585,
          -5.6217858861864585,
          -5.6217858861864585,
          -5.6217858861864585,
          -5.001284046372664,
          -5.001284046372664,
          -5.001284046372664,
          -4.550967413048381,
          -4.26664596779621,
          -4.26664596779621,
          -4.26664596779621,
          -2.7376520916911122,
          -2.7376520916911122,
          -2.7376520916911122,
          -2.7376520916911122,
          -2.9806917816549277,
          -2.9806917816549277,
          -2.9806917816549277,
          -2.3124003863266487,
          -2.0787355351270627,
          -2.0787355351270627,
          -2.0787355351270627,
          -1.8571705929173794,
          -2.1109087766607773,
          -2.1109087766607773,
          -2.1109087766607773,
          -2.0972626751161885,
          -2.0972626751161885,
          -2.0972626751161885,
          -2.0972626751161885,
          -1.985147127995675,
          -1.985147127995675,
          -1.985147127995675,
          -1.8526454723499854,
          -1.910034896388231,
          -1.910034896388231,
          -1.910034896388231,
          -1.662524493933178,
          -1.4156364615210975,
          -1.4156364615210975,
          -1.4156364615210975,
          -0.08713227119341976,
          -0.08713227119341976,
          -0.08713227119341976,
          -0.08713227119341976,
          0.06076735068076308,
          0.06076735068076308,
          0.06076735068076308,
          0.04506406413762538,
          1.1367621267895234,
          1.1367621267895234,
          1.1367621267895234,
          1.1494621682685233,
          1.1987948194585014,
          1.1987948194585014,
          1.1987948194585014,
          1.5526630025566814,
          1.5526630025566814,
          1.5526630025566814,
          1.5526630025566814,
          1.3869882695255789,
          1.3869882695255789,
          1.3869882695255789,
          1.0581827394056442,
          1.4351177311093903,
          1.4351177311093903,
          1.4351177311093903,
          1.0590284447739302,
          0.868673964306713,
          0.868673964306713,
          0.868673964306713,
          0.8377298663710261,
          0.6306701319006791,
          0.6306701319006791,
          0.7711250157204227,
          0.5178673065134084,
          0.5178673065134084,
          0.5178673065134084,
          0.4807137311130218,
          0.9305105289721267,
          0.9305105289721267,
          0.9305105289721267,
          0.8438702860402515,
          1.2406190387958727,
          1.2406190387958727,
          1.2406190387958727,
          1.3296629978933538,
          1.175565981084407,
          1.175565981084407,
          1.5944940615109142,
          1.8558674257407881,
          1.8558674257407881,
          1.8558674257407881,
          1.879121281399983,
          2.073302270058972,
          2.073302270058972,
          2.073302270058972,
          2.148486971089628,
          2.1039380879115783,
          2.1039380879115783,
          2.1039380879115783,
          2.547884405866195,
          2.652820751745171
         ],
         "yaxis": "y"
        },
        {
         "hovertemplate": "Pretraining Length=80<br>Agent-steps=%{x}<br>Mean Episode Reward per Agent=%{y}<extra></extra>",
         "legendgroup": "80",
         "line": {
          "color": "#109618",
          "dash": "solid",
          "shape": "spline"
         },
         "marker": {
          "symbol": "circle"
         },
         "mode": "lines",
         "name": "80",
         "orientation": "v",
         "showlegend": true,
         "type": "scatter",
         "x": [
          160,
          168,
          176,
          184,
          192,
          200,
          208,
          216,
          224,
          232,
          240,
          248,
          256,
          264,
          272,
          280,
          288,
          296,
          304,
          312,
          320,
          328,
          336,
          344,
          352,
          360,
          368,
          376,
          384,
          392,
          400,
          408,
          416,
          424,
          432,
          440,
          448,
          456,
          464,
          472,
          480,
          488,
          496,
          504,
          512,
          520,
          528,
          536,
          544,
          552,
          560,
          568,
          576,
          584,
          592,
          600,
          608,
          616,
          624,
          632,
          640,
          648,
          656,
          664,
          672,
          680,
          688,
          696,
          704,
          712,
          720,
          728,
          736,
          744,
          752,
          760,
          768,
          776,
          784,
          792,
          800,
          808,
          816,
          824,
          832,
          840,
          848,
          856,
          864,
          872,
          880,
          888,
          896,
          904,
          912,
          920,
          928,
          936,
          944,
          952,
          960,
          968,
          976,
          984,
          992,
          1000,
          1008,
          1016,
          1024,
          1032,
          1040,
          1048,
          1056,
          1064,
          1072,
          1080,
          1088,
          1096,
          1104,
          1112
         ],
         "xaxis": "x",
         "y": [
          -17.341041561907005,
          -17.341041561907005,
          -17.341041561907005,
          -17.341041561907005,
          -17.341041561907005,
          -17.341041561907005,
          -17.341041561907005,
          -15.80196254087295,
          -15.80196254087295,
          -15.80196254087295,
          -15.80196254087295,
          -15.023634752941117,
          -15.023634752941117,
          -15.023634752941117,
          -14.890256293487178,
          -13.857388161754248,
          -13.857388161754248,
          -13.857388161754248,
          -12.608782369100181,
          -12.608782369100181,
          -12.608782369100181,
          -12.608782369100181,
          -12.227679507667357,
          -12.227679507667357,
          -12.227679507667357,
          -12.227679507667357,
          -11.146928602889702,
          -11.146928602889702,
          -11.146928602889702,
          -10.560566367483064,
          -9.792053973587667,
          -9.792053973587667,
          -9.792053973587667,
          -8.827884554906344,
          -8.827884554906344,
          -8.827884554906344,
          -8.827884554906344,
          -8.037286232682623,
          -8.037286232682623,
          -8.037286232682623,
          -8.037286232682623,
          -7.151278802812145,
          -7.151278802812145,
          -7.151278802812145,
          -6.844542700390575,
          -5.857076736653274,
          -5.857076736653274,
          -5.857076736653274,
          -5.276786589234122,
          -5.276786589234122,
          -5.276786589234122,
          -5.276786589234122,
          -4.318143430015626,
          -4.318143430015626,
          -4.318143430015626,
          -3.8858300672542043,
          -3.138673386112351,
          -3.138673386112351,
          -3.138673386112351,
          -3.086246897549511,
          -1.8943188981120114,
          -1.8943188981120114,
          -1.8943188981120114,
          -1.6219994604193726,
          -1.6219994604193726,
          -1.6219994604193726,
          -1.6219994604193726,
          -1.4695509470721242,
          -1.4695509470721242,
          -1.4695509470721242,
          -1.1764038106176518,
          -0.9389454694074928,
          -0.9389454694074928,
          -0.9389454694074928,
          -1.0801218193410413,
          -0.49761484706266707,
          -0.49761484706266707,
          -0.49761484706266707,
          -0.07573901106396083,
          -0.07573901106396083,
          -0.07573901106396083,
          -0.07573901106396083,
          -0.7365215836042703,
          -0.7365215836042703,
          -0.7365215836042703,
          -0.5324220726447748,
          -0.10392306289213742,
          -0.10392306289213742,
          -0.10392306289213742,
          -0.4975856539140017,
          -0.37031631108919133,
          -0.37031631108919133,
          -0.37031631108919133,
          1.0124333600610984,
          1.0124333600610984,
          1.0124333600610984,
          1.0124333600610984,
          0.817444559009968,
          0.817444559009968,
          0.817444559009968,
          0.5432293083399438,
          -0.03160989574418822,
          -0.03160989574418822,
          -0.03160989574418822,
          -0.012427391364081457,
          -0.692371027989202,
          -0.692371027989202,
          -0.692371027989202,
          -1.3431264451754619,
          -1.8153900834750696,
          -1.8153900834750696,
          -1.525724711223905,
          -0.7815127566393958,
          -0.7815127566393958,
          -0.7815127566393958,
          0.0434881765189683,
          0.2756697828182832,
          0.2756697828182832,
          0.2756697828182832,
          0.625051144209665
         ],
         "yaxis": "y"
        },
        {
         "hovertemplate": "Pretraining Length=100<br>Agent-steps=%{x}<br>Mean Episode Reward per Agent=%{y}<extra></extra>",
         "legendgroup": "100",
         "line": {
          "color": "#990099",
          "dash": "solid",
          "shape": "spline"
         },
         "marker": {
          "symbol": "circle"
         },
         "mode": "lines",
         "name": "100",
         "orientation": "v",
         "showlegend": true,
         "type": "scatter",
         "x": [
          200,
          208,
          216,
          224,
          232,
          240,
          248,
          256,
          264,
          272,
          280,
          288,
          296,
          304,
          312,
          320,
          328,
          336,
          344,
          352,
          360,
          368,
          376,
          384,
          392,
          400,
          408,
          416,
          424,
          432,
          440,
          448,
          456,
          464,
          472,
          480,
          488,
          496,
          504,
          512,
          520,
          528,
          536,
          544,
          552,
          560,
          568,
          576,
          584,
          592,
          600,
          608,
          616,
          624,
          632,
          640,
          648,
          656,
          664,
          672,
          680,
          688,
          696,
          704,
          712,
          720,
          728,
          736,
          744,
          752,
          760,
          768,
          776,
          784,
          792,
          800,
          808,
          816,
          824,
          832,
          840,
          848,
          856,
          864,
          872,
          880,
          888,
          896,
          904,
          912,
          920,
          928,
          936,
          944,
          952,
          960,
          968,
          976,
          984,
          992
         ],
         "xaxis": "x",
         "y": [
          -14.243202353611265,
          -14.243202353611265,
          -14.243202353611265,
          -14.243202353611265,
          -14.243202353611265,
          -14.243202353611265,
          -14.243202353611265,
          -13.284923492291862,
          -13.284923492291862,
          -13.284923492291862,
          -13.284923492291862,
          -11.749360312611186,
          -11.749360312611186,
          -11.749360312611186,
          -11.167285163503992,
          -9.53019561562858,
          -9.53019561562858,
          -9.53019561562858,
          -7.457525088084668,
          -7.457525088084668,
          -7.457525088084668,
          -7.457525088084668,
          -6.901676240036868,
          -6.901676240036868,
          -6.901676240036868,
          -6.901676240036868,
          -6.644781931995515,
          -6.644781931995515,
          -6.644781931995515,
          -6.5518043874825205,
          -7.5125994934038,
          -7.5125994934038,
          -7.5125994934038,
          -6.526511988112553,
          -6.526511988112553,
          -6.526511988112553,
          -6.526511988112553,
          -6.819526486581185,
          -6.819526486581185,
          -6.819526486581185,
          -6.819526486581185,
          -5.965343144905131,
          -5.965343144905131,
          -5.965343144905131,
          -5.981575479031395,
          -5.530532962177154,
          -5.530532962177154,
          -5.530532962177154,
          -6.0857053280648605,
          -6.0857053280648605,
          -6.0857053280648605,
          -6.0857053280648605,
          -6.226459828151,
          -6.226459828151,
          -6.226459828151,
          -6.871588851531931,
          -6.737467589720701,
          -6.737467589720701,
          -6.737467589720701,
          -6.913964916284157,
          -6.5293412527919825,
          -6.5293412527919825,
          -6.5293412527919825,
          -6.388172733096034,
          -6.388172733096034,
          -6.388172733096034,
          -6.388172733096034,
          -5.5041345653295,
          -5.5041345653295,
          -5.5041345653295,
          -5.113975538255525,
          -4.536921391637776,
          -4.536921391637776,
          -4.536921391637776,
          -4.220106625787364,
          -3.8783630733494987,
          -3.8783630733494987,
          -3.8783630733494987,
          -3.0408969407733184,
          -3.0408969407733184,
          -3.0408969407733184,
          -3.0408969407733184,
          -2.531989973961819,
          -2.531989973961819,
          -2.531989973961819,
          -2.075070109663043,
          -1.513968020551579,
          -1.513968020551579,
          -1.513968020551579,
          -1.267796102514171,
          -1.401336282896959,
          -1.401336282896959,
          -1.401336282896959,
          0.39184926245659724,
          0.39184926245659724,
          0.39184926245659724,
          0.39184926245659724,
          0.5003391464083004,
          0.5003391464083004,
          0.5003391464083004
         ],
         "yaxis": "y"
        },
        {
         "hovertemplate": "Pretraining Length=120<br>Agent-steps=%{x}<br>Mean Episode Reward per Agent=%{y}<extra></extra>",
         "legendgroup": "120",
         "line": {
          "color": "#0099C6",
          "dash": "solid",
          "shape": "spline"
         },
         "marker": {
          "symbol": "circle"
         },
         "mode": "lines",
         "name": "120",
         "orientation": "v",
         "showlegend": true,
         "type": "scatter",
         "x": [
          240,
          248,
          256,
          264,
          272,
          280,
          288,
          296,
          304,
          312,
          320,
          328,
          336,
          344,
          352,
          360,
          368,
          376,
          384,
          392,
          400,
          408,
          416,
          424,
          432,
          440,
          448,
          456,
          464,
          472,
          480,
          488,
          496,
          504,
          512,
          520,
          528,
          536,
          544,
          552,
          560,
          568,
          576,
          584,
          592,
          600,
          608,
          616,
          624,
          632,
          640,
          648,
          656,
          664,
          672,
          680,
          688,
          696,
          704,
          712,
          720,
          728,
          736,
          744,
          752,
          760,
          768,
          776,
          784,
          792,
          800,
          808,
          816,
          824,
          832,
          840,
          848,
          856,
          864,
          872
         ],
         "xaxis": "x",
         "y": [
          -10.690577274550451,
          -10.690577274550451,
          -10.690577274550451,
          -10.690577274550451,
          -10.690577274550451,
          -10.690577274550451,
          -10.690577274550451,
          -9.58532258776358,
          -9.58532258776358,
          -9.58532258776358,
          -9.58532258776358,
          -8.758170126086464,
          -8.758170126086464,
          -8.758170126086464,
          -8.353868443586903,
          -7.942566525282968,
          -7.942566525282968,
          -7.942566525282968,
          -7.268072272275849,
          -7.268072272275849,
          -7.268072272275849,
          -7.268072272275849,
          -6.591075332906028,
          -6.591075332906028,
          -6.591075332906028,
          -6.591075332906028,
          -6.817491615241709,
          -6.817491615241709,
          -6.817491615241709,
          -6.301215572884016,
          -5.750474421564652,
          -5.750474421564652,
          -5.750474421564652,
          -5.2123692398045565,
          -5.2123692398045565,
          -5.2123692398045565,
          -5.2123692398045565,
          -4.154468476803636,
          -4.154468476803636,
          -4.154468476803636,
          -4.154468476803636,
          -2.950255097666784,
          -2.950255097666784,
          -2.950255097666784,
          -2.3273403145790454,
          -2.3283457033253407,
          -2.3283457033253407,
          -2.3283457033253407,
          -2.3944040818617203,
          -2.3944040818617203,
          -2.3944040818617203,
          -2.3944040818617203,
          -2.2192537013189892,
          -2.2192537013189892,
          -2.2192537013189892,
          -1.5515515500985644,
          -1.8076601299314814,
          -1.8076601299314814,
          -1.8076601299314814,
          -1.666763918404196,
          -1.4271546435212423,
          -1.4271546435212423,
          -1.4271546435212423,
          -0.3999475726569516,
          -0.3999475726569516,
          -0.3999475726569516,
          -0.3999475726569516,
          -0.9087982473355561,
          -0.9087982473355561,
          -0.9087982473355561,
          -0.9170740807522971,
          -0.2970664477518482,
          -0.2970664477518482,
          -0.2970664477518482,
          0.012945155583211054,
          -0.609877777327629,
          -0.609877777327629,
          -0.609877777327629,
          -0.5991557785421909,
          -0.5991557785421909
         ],
         "yaxis": "y"
        },
        {
         "hovertemplate": "Pretraining Length=140<br>Agent-steps=%{x}<br>Mean Episode Reward per Agent=%{y}<extra></extra>",
         "legendgroup": "140",
         "line": {
          "color": "#DD4477",
          "dash": "solid",
          "shape": "spline"
         },
         "marker": {
          "symbol": "circle"
         },
         "mode": "lines",
         "name": "140",
         "orientation": "v",
         "showlegend": true,
         "type": "scatter",
         "x": [
          280,
          288,
          296,
          304,
          312,
          320,
          328,
          336,
          344,
          352,
          360,
          368,
          376,
          384,
          392,
          400,
          408,
          416,
          424,
          432,
          440,
          448,
          456,
          464,
          472,
          480,
          488,
          496,
          504,
          512,
          520,
          528,
          536,
          544,
          552,
          560,
          568,
          576,
          584,
          592,
          600,
          608,
          616,
          624,
          632,
          640,
          648,
          656,
          664,
          672,
          680,
          688,
          696,
          704,
          712,
          720,
          728,
          736,
          744,
          752
         ],
         "xaxis": "x",
         "y": [
          -9.285251658840671,
          -9.285251658840671,
          -9.285251658840671,
          -9.285251658840671,
          -9.285251658840671,
          -9.285251658840671,
          -9.285251658840671,
          -10.148452572363732,
          -10.148452572363732,
          -10.148452572363732,
          -10.148452572363732,
          -10.077291365738411,
          -10.077291365738411,
          -10.077291365738411,
          -10.312124196416221,
          -10.355419507797993,
          -10.355419507797993,
          -10.355419507797993,
          -9.178877232933598,
          -9.178877232933598,
          -9.178877232933598,
          -9.178877232933598,
          -10.046267140317935,
          -10.046267140317935,
          -10.046267140317935,
          -10.046267140317935,
          -10.919567303775512,
          -10.919567303775512,
          -10.919567303775512,
          -11.563406889499785,
          -11.475285285396104,
          -11.475285285396104,
          -11.475285285396104,
          -10.577016835005193,
          -10.577016835005193,
          -10.577016835005193,
          -10.577016835005193,
          -8.43164848388638,
          -8.43164848388638,
          -8.43164848388638,
          -8.43164848388638,
          -7.667677371458316,
          -7.667677371458316,
          -7.667677371458316,
          -6.923792230900671,
          -6.765997916538447,
          -6.765997916538447,
          -6.765997916538447,
          -5.503034773491532,
          -5.503034773491532,
          -5.503034773491532,
          -5.503034773491532,
          -4.7865347710324135,
          -4.7865347710324135,
          -4.7865347710324135,
          -4.273844817981743,
          -4.358109456014654,
          -4.358109456014654,
          -4.358109456014654,
          -4.673440679072405
         ],
         "yaxis": "y"
        },
        {
         "hovertemplate": "Pretraining Length=160<br>Agent-steps=%{x}<br>Mean Episode Reward per Agent=%{y}<extra></extra>",
         "legendgroup": "160",
         "line": {
          "color": "#66AA00",
          "dash": "solid",
          "shape": "spline"
         },
         "marker": {
          "symbol": "circle"
         },
         "mode": "lines",
         "name": "160",
         "orientation": "v",
         "showlegend": true,
         "type": "scatter",
         "x": [
          320,
          328,
          336,
          344,
          352,
          360,
          368,
          376,
          384,
          392,
          400,
          408,
          416,
          424,
          432,
          440,
          448,
          456,
          464,
          472,
          480,
          488,
          496,
          504,
          512,
          520,
          528,
          536,
          544,
          552,
          560,
          568,
          576,
          584,
          592,
          600,
          608,
          616,
          624,
          632
         ],
         "xaxis": "x",
         "y": [
          -10.956806782383957,
          -10.956806782383957,
          -10.956806782383957,
          -10.956806782383957,
          -10.956806782383957,
          -10.956806782383957,
          -10.956806782383957,
          -10.71639500216496,
          -10.71639500216496,
          -10.71639500216496,
          -10.71639500216496,
          -10.23980919606195,
          -10.23980919606195,
          -10.23980919606195,
          -9.988146325016023,
          -9.414794079986061,
          -9.414794079986061,
          -9.414794079986061,
          -9.636537024962054,
          -9.636537024962054,
          -9.636537024962054,
          -9.636537024962054,
          -8.306524418083635,
          -8.306524418083635,
          -8.306524418083635,
          -8.306524418083635,
          -7.7161140340856305,
          -7.7161140340856305,
          -7.7161140340856305,
          -7.7774266665743115,
          -6.9284930147508135,
          -6.9284930147508135,
          -6.9284930147508135,
          -4.9086581856268285,
          -4.9086581856268285,
          -4.9086581856268285,
          -4.9086581856268285,
          -3.969545621148316,
          -3.969545621148316,
          -3.969545621148316
         ],
         "yaxis": "y"
        },
        {
         "hovertemplate": "Pretraining Length=180<br>Agent-steps=%{x}<br>Mean Episode Reward per Agent=%{y}<extra></extra>",
         "legendgroup": "180",
         "line": {
          "color": "#B82E2E",
          "dash": "solid",
          "shape": "spline"
         },
         "marker": {
          "symbol": "circle"
         },
         "mode": "lines",
         "name": "180",
         "orientation": "v",
         "showlegend": true,
         "type": "scatter",
         "x": [
          360,
          368,
          376,
          384,
          392,
          400,
          408,
          416,
          424,
          432,
          440,
          448,
          456,
          464,
          472,
          480,
          488,
          496,
          504,
          512
         ],
         "xaxis": "x",
         "y": [
          -10.247377559080471,
          -10.247377559080471,
          -10.247377559080471,
          -10.247377559080471,
          -10.247377559080471,
          -10.247377559080471,
          -10.247377559080471,
          -8.056052833478697,
          -8.056052833478697,
          -8.056052833478697,
          -8.056052833478697,
          -8.464070707261651,
          -8.464070707261651,
          -8.464070707261651,
          -8.39648837423575,
          -9.313584282291272,
          -9.313584282291272,
          -9.313584282291272,
          -9.169438009952737,
          -9.169438009952737
         ],
         "yaxis": "y"
        },
        {
         "fill": "toself",
         "fillcolor": "rgba(0,100,80,0.2)",
         "hoverinfo": "skip",
         "line": {
          "color": "rgba(255,255,255,0)"
         },
         "name": "Baseline:<br>8 Agent 95%<br>Prediction<br>Interval",
         "type": "scatter",
         "x": [
          0,
          8,
          16,
          24,
          32,
          40,
          48,
          56,
          64,
          72,
          80,
          88,
          96,
          104,
          112,
          120,
          128,
          136,
          144,
          152,
          160,
          168,
          176,
          184,
          192,
          200,
          208,
          216,
          224,
          232,
          240,
          248,
          256,
          264,
          272,
          280,
          288,
          296,
          304,
          312,
          320,
          328,
          336,
          344,
          352,
          360,
          368,
          376,
          384,
          392,
          400,
          408,
          416,
          424,
          432,
          440,
          448,
          456,
          464,
          472,
          480,
          488,
          496,
          504,
          512,
          520,
          528,
          536,
          544,
          552,
          560,
          568,
          576,
          584,
          592,
          600,
          608,
          616,
          624,
          632,
          640,
          648,
          656,
          664,
          672,
          680,
          688,
          696,
          704,
          712,
          720,
          728,
          736,
          744,
          752,
          760,
          768,
          776,
          784,
          792,
          800,
          808,
          816,
          824,
          832,
          840,
          848,
          856,
          864,
          872,
          880,
          888,
          896,
          904,
          912,
          920,
          928,
          936,
          944,
          952,
          960,
          968,
          976,
          984,
          992,
          1000,
          1008,
          1016,
          1024,
          1032,
          1040,
          1048,
          1056,
          1064,
          1072,
          1080,
          1088,
          1096,
          1104,
          1112,
          1120,
          1128,
          1136,
          1144,
          1152,
          1160,
          1168,
          1176,
          1184,
          1192,
          1200,
          1208,
          1216,
          1224,
          1232,
          1240,
          1248,
          1256,
          1264,
          1272,
          1280,
          1288,
          1296,
          1304,
          1312,
          1320,
          1328,
          1336,
          1344,
          1352,
          1360,
          1368,
          1376,
          1384,
          1392,
          1400,
          1408,
          1416,
          1424,
          1432,
          1440,
          1448,
          1456,
          1464,
          1472,
          1480,
          1488,
          1496,
          1504,
          1512,
          1520,
          1528,
          1536,
          1544,
          1552,
          1560,
          1568,
          1576,
          1584,
          1592,
          1592,
          1584,
          1576,
          1568,
          1560,
          1552,
          1544,
          1536,
          1528,
          1520,
          1512,
          1504,
          1496,
          1488,
          1480,
          1472,
          1464,
          1456,
          1448,
          1440,
          1432,
          1424,
          1416,
          1408,
          1400,
          1392,
          1384,
          1376,
          1368,
          1360,
          1352,
          1344,
          1336,
          1328,
          1320,
          1312,
          1304,
          1296,
          1288,
          1280,
          1272,
          1264,
          1256,
          1248,
          1240,
          1232,
          1224,
          1216,
          1208,
          1200,
          1192,
          1184,
          1176,
          1168,
          1160,
          1152,
          1144,
          1136,
          1128,
          1120,
          1112,
          1104,
          1096,
          1088,
          1080,
          1072,
          1064,
          1056,
          1048,
          1040,
          1032,
          1024,
          1016,
          1008,
          1000,
          992,
          984,
          976,
          968,
          960,
          952,
          944,
          936,
          928,
          920,
          912,
          904,
          896,
          888,
          880,
          872,
          864,
          856,
          848,
          840,
          832,
          824,
          816,
          808,
          800,
          792,
          784,
          776,
          768,
          760,
          752,
          744,
          736,
          728,
          720,
          712,
          704,
          696,
          688,
          680,
          672,
          664,
          656,
          648,
          640,
          632,
          624,
          616,
          608,
          600,
          592,
          584,
          576,
          568,
          560,
          552,
          544,
          536,
          528,
          520,
          512,
          504,
          496,
          488,
          480,
          472,
          464,
          456,
          448,
          440,
          432,
          424,
          416,
          408,
          400,
          392,
          384,
          376,
          368,
          360,
          352,
          344,
          336,
          328,
          320,
          312,
          304,
          296,
          288,
          280,
          272,
          264,
          256,
          248,
          240,
          232,
          224,
          216,
          208,
          200,
          192,
          184,
          176,
          168,
          160,
          152,
          144,
          136,
          128,
          120,
          112,
          104,
          96,
          88,
          80,
          72,
          64,
          56,
          48,
          40,
          32,
          24,
          16,
          8,
          0
         ],
         "y": [
          -73.39992346840953,
          -73.39992346840953,
          -74.2983970661995,
          -74.70598240234978,
          -74.40288051163606,
          -74.40288051163606,
          -73.1923176455025,
          -69.16042533369799,
          -69.14899367595153,
          -68.30912473469775,
          -68.30912473469775,
          -64.32517162838559,
          -64.26651881073745,
          -61.88872360146351,
          -58.64448579990416,
          -56.1931943881676,
          -55.181632928104705,
          -52.58543928280189,
          -46.52962585738398,
          -45.32441841201689,
          -45.32441841201689,
          -42.72120366990646,
          -37.788464517509134,
          -36.362389372822136,
          -34.80609473352581,
          -34.80609473352581,
          -30.169854852328022,
          -29.550774925089094,
          -28.270927777075837,
          -25.742691227365498,
          -23.236577425179377,
          -22.66732621150027,
          -21.939783243435553,
          -17.327855925486112,
          -17.002883638160615,
          -17.002883638160615,
          -16.69348899426785,
          -11.844098881691352,
          -11.547607551114584,
          -11.201441807732026,
          -11.201441807732026,
          -9.021571496253285,
          -8.86824468595978,
          -8.618573382016155,
          -7.653288501246598,
          -6.637676250328115,
          -6.349330717298605,
          -5.947219608071393,
          -5.939587573615762,
          -5.941549077071501,
          -5.941549077071501,
          -5.823495623932663,
          -4.708711495013526,
          -4.479825181366799,
          -4.645725911182657,
          -4.457243684841023,
          -3.618188461119697,
          -3.842738096322619,
          -3.749225282017016,
          -3.3837952285412767,
          -2.940150980620693,
          -2.8465421564876268,
          -2.45092660998111,
          -1.5834482406694406,
          -1.221465673611803,
          -1.221465673611803,
          -1.039026941873054,
          -0.030423589831857,
          -0.45680544842402604,
          -0.22431590053368033,
          0.49905235208633236,
          1.3687254901765815,
          1.5485916134019053,
          1.8770034750045017,
          1.7520164498872353,
          1.9070500792894665,
          2.078087280688999,
          2.067996087988094,
          2.590082421102715,
          2.8440120874360977,
          2.8440120874360977,
          2.907868104052679,
          3.0007199898469903,
          2.937556078437945,
          2.7832626693938174,
          3.2762120985793253,
          3.5979035505993764,
          3.881765411238976,
          4.2308927530083436,
          4.323691977095796,
          4.89505653022185,
          5.068258946268383,
          5.336657499576975,
          6.2048952166695415,
          6.868034713126843,
          6.868034713126843,
          7.358529170431819,
          7.755704057151368,
          7.987423934546511,
          8.155921243166802,
          8.933736740276759,
          9.386382349249116,
          9.618655756883033,
          9.763499261935227,
          9.849226310282486,
          10.447240074689068,
          10.419344734187042,
          10.450756306432986,
          10.366674921764169,
          10.738402034702801,
          10.738402034702801,
          11.292925939611118,
          10.881575778644356,
          11.012448791856981,
          11.288977058045207,
          11.774394945847714,
          10.771442252332436,
          10.589321998716013,
          10.540391508505095,
          10.434115626923232,
          10.401346828646174,
          10.694255755390811,
          10.668299465887092,
          10.886752956676524,
          10.961932103838524,
          10.961932103838524,
          10.846224859919673,
          11.70156782831132,
          12.026590889182085,
          12.42475769912313,
          12.303437581368572,
          12.884676903630636,
          12.745250276082835,
          12.83175633963304,
          13.378304423558912,
          13.791798843738404,
          13.983895852485416,
          14.143898723206707,
          14.065179413247227,
          14.05875027205254,
          14.05875027205254,
          14.203148347222331,
          14.613368685181399,
          14.702407573273522,
          15.00510112085459,
          15.158955021998333,
          15.007243599921924,
          14.616968757789962,
          14.289619719711508,
          14.135275196557336,
          14.786543671074945,
          15.055499095431529,
          14.8519381519025,
          14.647368791235404,
          15.265107312064977,
          15.265107312064977,
          15.698263607520904,
          16.057952046566413,
          15.995608402335352,
          16.156698894933854,
          16.291664417038668,
          16.541863090911583,
          16.426017330989016,
          16.38270876621537,
          16.73652516497192,
          16.937903523770718,
          16.931739258920288,
          16.518153690860427,
          16.583622087603736,
          16.13362442552391,
          16.13362442552391,
          15.912236058358367,
          15.000393091845693,
          15.156282375080874,
          15.115537748740293,
          15.325343709858638,
          15.20404683239121,
          15.378488863509602,
          15.249138291714214,
          15.25645779432796,
          16.207123985913036,
          16.263335945419648,
          16.73890507569533,
          17.016095737670717,
          17.717248668088843,
          17.717248668088843,
          18.169808582434257,
          18.33742107936354,
          18.50875439911178,
          18.52044531630841,
          18.512058884754182,
          18.550159049529082,
          18.788816262489075,
          18.677629455165157,
          18.492035870454195,
          18.258206882933585,
          17.958209313123852,
          18.12009796593992,
          18.23072645777006,
          18.33104756862396,
          -4.926748759519528,
          -5.097642721545062,
          -5.020114079132544,
          -4.849131261878159,
          -4.931901304995843,
          -5.15756197053077,
          -5.868827679373847,
          -5.868668682359131,
          -5.737486076889066,
          -5.678571027936114,
          -5.803786368333639,
          -5.7352305033125095,
          -5.731317323800044,
          -5.735307556997232,
          -4.662178352313891,
          -4.662178352313891,
          -4.856745654569321,
          -4.819266411490275,
          -4.111267653615697,
          -4.25295946092629,
          -3.5254381238587467,
          -3.8673649354930424,
          -3.9894793401031947,
          -4.13452423375601,
          -4.530772725470248,
          -4.444694118810075,
          -4.470928195690977,
          -4.616596149588238,
          -5.6200280417668935,
          -5.797085982195259,
          -5.797085982195259,
          -6.159431986470055,
          -6.061874592636502,
          -6.302003358035035,
          -6.439705623929064,
          -6.138956099076208,
          -5.8668401453693155,
          -5.502060075382335,
          -5.750532532406023,
          -5.930531326057187,
          -5.808719204722409,
          -5.928844126074827,
          -6.078493980443675,
          -6.810298022970984,
          -6.9788486736760165,
          -6.9788486736760165,
          -6.388633840579505,
          -6.815893639261327,
          -7.052002969551601,
          -7.251275975192254,
          -7.191231400295029,
          -7.356921032764129,
          -7.69068897185971,
          -7.94611576091183,
          -8.332793129161624,
          -8.306730880816339,
          -8.154087184568699,
          -8.386044677903666,
          -8.67034854440119,
          -8.267358576839696,
          -8.267358576839696,
          -8.751373934601434,
          -9.123147209865063,
          -9.137579771535082,
          -8.898951097178609,
          -8.209015702052724,
          -8.848475712706376,
          -8.946245091408983,
          -8.97196158022121,
          -8.727087771826676,
          -9.248193249235964,
          -8.988895906691386,
          -9.008115416922498,
          -8.817154425960691,
          -8.685352165439188,
          -8.685352165439188,
          -8.869108408154297,
          -9.268285050576413,
          -9.229235601472643,
          -9.002596218649545,
          -9.089570841103408,
          -9.259796706298136,
          -9.250369347363165,
          -9.472043370755875,
          -11.122481581128696,
          -10.746788988835744,
          -10.397458820092746,
          -10.533540049386756,
          -11.644424322487621,
          -11.920853065179141,
          -11.920853065179141,
          -11.86385821396863,
          -12.310445169702025,
          -12.496268131774745,
          -12.744339595499204,
          -12.567948050346875,
          -12.68244147670121,
          -12.44021332012402,
          -12.504048037042503,
          -13.154115576544056,
          -12.732648083352622,
          -12.772271716999866,
          -12.772409112518671,
          -13.236178040920525,
          -13.240475500591554,
          -13.240475500591554,
          -13.005306754180456,
          -13.486844003111358,
          -13.619266203754098,
          -13.738364756795843,
          -13.76383045987141,
          -13.853717586773339,
          -13.878108748273771,
          -13.69476101745396,
          -14.394964263269046,
          -14.32343551291956,
          -14.345885091766531,
          -14.378078132358121,
          -14.925382309883048,
          -15.024335331197626,
          -15.024335331197626,
          -15.179875711217619,
          -15.545785213525766,
          -15.508718094729682,
          -15.275094707741005,
          -15.87489633316466,
          -16.53158036039327,
          -16.37189183546389,
          -16.381294592258882,
          -16.392223737874254,
          -15.917853677973644,
          -15.875385749365384,
          -16.39832517718439,
          -16.749442972310316,
          -16.649246740602713,
          -16.649246740602713,
          -16.577678979418597,
          -18.04512729218848,
          -18.141346627151187,
          -18.375521422962112,
          -18.405483951665776,
          -19.384479998702353,
          -19.82100954844726,
          -20.353830058998764,
          -21.459895105142436,
          -22.166064361058545,
          -22.491007395109165,
          -22.669839834515948,
          -24.76871774532686,
          -25.052316393221837,
          -25.052316393221837,
          -25.401669683598016,
          -28.800561783242358,
          -29.178239906217122,
          -29.54002775391026,
          -30.569140877893233,
          -31.465456190764346,
          -31.815907489481056,
          -32.370429656159025,
          -34.61734910795576,
          -34.61734910795576,
          -35.17456087666008,
          -35.58489006800187,
          -37.00206152019378,
          -37.482237501133014,
          -37.482237501133014,
          -37.99872387590515,
          -40.425461554315305,
          -40.49484960837674,
          -40.773246752788054,
          -42.56535460797721,
          -44.31297784746326,
          -44.22702357923853,
          -44.65474642529346,
          -50.169522163469125,
          -50.169522163469125,
          -49.938893599111495,
          -50.1893792179364,
          -56.85035146909455,
          -56.13781728357636,
          -56.13781728357636,
          -57.062359740122204,
          -65.30576435188814,
          -64.64638551101469,
          -65.55498380482283,
          -70.88488660250214,
          -72.46245581202558,
          -72.34776339358886,
          -73.5028602927423,
          -77.11491618026378,
          -77.11491618026378,
          -77.37241840733283,
          -78.43734536548851,
          -82.79238606786066,
          -82.8682519126634,
          -82.8682519126634,
          -83.87767950903432,
          -85.95847446503385,
          -87.8398426780953,
          -87.8398426780953
         ]
        }
       ],
       "layout": {
        "height": 450,
        "legend": {
         "title": {
          "text": "Pretraining Length"
         },
         "tracegroupgap": 0
        },
        "template": {
         "data": {
          "bar": [
           {
            "error_x": {
             "color": "#2a3f5f"
            },
            "error_y": {
             "color": "#2a3f5f"
            },
            "marker": {
             "line": {
              "color": "#E5ECF6",
              "width": 0.5
             },
             "pattern": {
              "fillmode": "overlay",
              "size": 10,
              "solidity": 0.2
             }
            },
            "type": "bar"
           }
          ],
          "barpolar": [
           {
            "marker": {
             "line": {
              "color": "#E5ECF6",
              "width": 0.5
             },
             "pattern": {
              "fillmode": "overlay",
              "size": 10,
              "solidity": 0.2
             }
            },
            "type": "barpolar"
           }
          ],
          "carpet": [
           {
            "aaxis": {
             "endlinecolor": "#2a3f5f",
             "gridcolor": "white",
             "linecolor": "white",
             "minorgridcolor": "white",
             "startlinecolor": "#2a3f5f"
            },
            "baxis": {
             "endlinecolor": "#2a3f5f",
             "gridcolor": "white",
             "linecolor": "white",
             "minorgridcolor": "white",
             "startlinecolor": "#2a3f5f"
            },
            "type": "carpet"
           }
          ],
          "choropleth": [
           {
            "colorbar": {
             "outlinewidth": 0,
             "ticks": ""
            },
            "type": "choropleth"
           }
          ],
          "contour": [
           {
            "colorbar": {
             "outlinewidth": 0,
             "ticks": ""
            },
            "colorscale": [
             [
              0,
              "#0d0887"
             ],
             [
              0.1111111111111111,
              "#46039f"
             ],
             [
              0.2222222222222222,
              "#7201a8"
             ],
             [
              0.3333333333333333,
              "#9c179e"
             ],
             [
              0.4444444444444444,
              "#bd3786"
             ],
             [
              0.5555555555555556,
              "#d8576b"
             ],
             [
              0.6666666666666666,
              "#ed7953"
             ],
             [
              0.7777777777777778,
              "#fb9f3a"
             ],
             [
              0.8888888888888888,
              "#fdca26"
             ],
             [
              1,
              "#f0f921"
             ]
            ],
            "type": "contour"
           }
          ],
          "contourcarpet": [
           {
            "colorbar": {
             "outlinewidth": 0,
             "ticks": ""
            },
            "type": "contourcarpet"
           }
          ],
          "heatmap": [
           {
            "colorbar": {
             "outlinewidth": 0,
             "ticks": ""
            },
            "colorscale": [
             [
              0,
              "#0d0887"
             ],
             [
              0.1111111111111111,
              "#46039f"
             ],
             [
              0.2222222222222222,
              "#7201a8"
             ],
             [
              0.3333333333333333,
              "#9c179e"
             ],
             [
              0.4444444444444444,
              "#bd3786"
             ],
             [
              0.5555555555555556,
              "#d8576b"
             ],
             [
              0.6666666666666666,
              "#ed7953"
             ],
             [
              0.7777777777777778,
              "#fb9f3a"
             ],
             [
              0.8888888888888888,
              "#fdca26"
             ],
             [
              1,
              "#f0f921"
             ]
            ],
            "type": "heatmap"
           }
          ],
          "heatmapgl": [
           {
            "colorbar": {
             "outlinewidth": 0,
             "ticks": ""
            },
            "colorscale": [
             [
              0,
              "#0d0887"
             ],
             [
              0.1111111111111111,
              "#46039f"
             ],
             [
              0.2222222222222222,
              "#7201a8"
             ],
             [
              0.3333333333333333,
              "#9c179e"
             ],
             [
              0.4444444444444444,
              "#bd3786"
             ],
             [
              0.5555555555555556,
              "#d8576b"
             ],
             [
              0.6666666666666666,
              "#ed7953"
             ],
             [
              0.7777777777777778,
              "#fb9f3a"
             ],
             [
              0.8888888888888888,
              "#fdca26"
             ],
             [
              1,
              "#f0f921"
             ]
            ],
            "type": "heatmapgl"
           }
          ],
          "histogram": [
           {
            "marker": {
             "pattern": {
              "fillmode": "overlay",
              "size": 10,
              "solidity": 0.2
             }
            },
            "type": "histogram"
           }
          ],
          "histogram2d": [
           {
            "colorbar": {
             "outlinewidth": 0,
             "ticks": ""
            },
            "colorscale": [
             [
              0,
              "#0d0887"
             ],
             [
              0.1111111111111111,
              "#46039f"
             ],
             [
              0.2222222222222222,
              "#7201a8"
             ],
             [
              0.3333333333333333,
              "#9c179e"
             ],
             [
              0.4444444444444444,
              "#bd3786"
             ],
             [
              0.5555555555555556,
              "#d8576b"
             ],
             [
              0.6666666666666666,
              "#ed7953"
             ],
             [
              0.7777777777777778,
              "#fb9f3a"
             ],
             [
              0.8888888888888888,
              "#fdca26"
             ],
             [
              1,
              "#f0f921"
             ]
            ],
            "type": "histogram2d"
           }
          ],
          "histogram2dcontour": [
           {
            "colorbar": {
             "outlinewidth": 0,
             "ticks": ""
            },
            "colorscale": [
             [
              0,
              "#0d0887"
             ],
             [
              0.1111111111111111,
              "#46039f"
             ],
             [
              0.2222222222222222,
              "#7201a8"
             ],
             [
              0.3333333333333333,
              "#9c179e"
             ],
             [
              0.4444444444444444,
              "#bd3786"
             ],
             [
              0.5555555555555556,
              "#d8576b"
             ],
             [
              0.6666666666666666,
              "#ed7953"
             ],
             [
              0.7777777777777778,
              "#fb9f3a"
             ],
             [
              0.8888888888888888,
              "#fdca26"
             ],
             [
              1,
              "#f0f921"
             ]
            ],
            "type": "histogram2dcontour"
           }
          ],
          "mesh3d": [
           {
            "colorbar": {
             "outlinewidth": 0,
             "ticks": ""
            },
            "type": "mesh3d"
           }
          ],
          "parcoords": [
           {
            "line": {
             "colorbar": {
              "outlinewidth": 0,
              "ticks": ""
             }
            },
            "type": "parcoords"
           }
          ],
          "pie": [
           {
            "automargin": true,
            "type": "pie"
           }
          ],
          "scatter": [
           {
            "fillpattern": {
             "fillmode": "overlay",
             "size": 10,
             "solidity": 0.2
            },
            "type": "scatter"
           }
          ],
          "scatter3d": [
           {
            "line": {
             "colorbar": {
              "outlinewidth": 0,
              "ticks": ""
             }
            },
            "marker": {
             "colorbar": {
              "outlinewidth": 0,
              "ticks": ""
             }
            },
            "type": "scatter3d"
           }
          ],
          "scattercarpet": [
           {
            "marker": {
             "colorbar": {
              "outlinewidth": 0,
              "ticks": ""
             }
            },
            "type": "scattercarpet"
           }
          ],
          "scattergeo": [
           {
            "marker": {
             "colorbar": {
              "outlinewidth": 0,
              "ticks": ""
             }
            },
            "type": "scattergeo"
           }
          ],
          "scattergl": [
           {
            "marker": {
             "colorbar": {
              "outlinewidth": 0,
              "ticks": ""
             }
            },
            "type": "scattergl"
           }
          ],
          "scattermapbox": [
           {
            "marker": {
             "colorbar": {
              "outlinewidth": 0,
              "ticks": ""
             }
            },
            "type": "scattermapbox"
           }
          ],
          "scatterpolar": [
           {
            "marker": {
             "colorbar": {
              "outlinewidth": 0,
              "ticks": ""
             }
            },
            "type": "scatterpolar"
           }
          ],
          "scatterpolargl": [
           {
            "marker": {
             "colorbar": {
              "outlinewidth": 0,
              "ticks": ""
             }
            },
            "type": "scatterpolargl"
           }
          ],
          "scatterternary": [
           {
            "marker": {
             "colorbar": {
              "outlinewidth": 0,
              "ticks": ""
             }
            },
            "type": "scatterternary"
           }
          ],
          "surface": [
           {
            "colorbar": {
             "outlinewidth": 0,
             "ticks": ""
            },
            "colorscale": [
             [
              0,
              "#0d0887"
             ],
             [
              0.1111111111111111,
              "#46039f"
             ],
             [
              0.2222222222222222,
              "#7201a8"
             ],
             [
              0.3333333333333333,
              "#9c179e"
             ],
             [
              0.4444444444444444,
              "#bd3786"
             ],
             [
              0.5555555555555556,
              "#d8576b"
             ],
             [
              0.6666666666666666,
              "#ed7953"
             ],
             [
              0.7777777777777778,
              "#fb9f3a"
             ],
             [
              0.8888888888888888,
              "#fdca26"
             ],
             [
              1,
              "#f0f921"
             ]
            ],
            "type": "surface"
           }
          ],
          "table": [
           {
            "cells": {
             "fill": {
              "color": "#EBF0F8"
             },
             "line": {
              "color": "white"
             }
            },
            "header": {
             "fill": {
              "color": "#C8D4E3"
             },
             "line": {
              "color": "white"
             }
            },
            "type": "table"
           }
          ]
         },
         "layout": {
          "annotationdefaults": {
           "arrowcolor": "#2a3f5f",
           "arrowhead": 0,
           "arrowwidth": 1
          },
          "autotypenumbers": "strict",
          "coloraxis": {
           "colorbar": {
            "outlinewidth": 0,
            "ticks": ""
           }
          },
          "colorscale": {
           "diverging": [
            [
             0,
             "#8e0152"
            ],
            [
             0.1,
             "#c51b7d"
            ],
            [
             0.2,
             "#de77ae"
            ],
            [
             0.3,
             "#f1b6da"
            ],
            [
             0.4,
             "#fde0ef"
            ],
            [
             0.5,
             "#f7f7f7"
            ],
            [
             0.6,
             "#e6f5d0"
            ],
            [
             0.7,
             "#b8e186"
            ],
            [
             0.8,
             "#7fbc41"
            ],
            [
             0.9,
             "#4d9221"
            ],
            [
             1,
             "#276419"
            ]
           ],
           "sequential": [
            [
             0,
             "#0d0887"
            ],
            [
             0.1111111111111111,
             "#46039f"
            ],
            [
             0.2222222222222222,
             "#7201a8"
            ],
            [
             0.3333333333333333,
             "#9c179e"
            ],
            [
             0.4444444444444444,
             "#bd3786"
            ],
            [
             0.5555555555555556,
             "#d8576b"
            ],
            [
             0.6666666666666666,
             "#ed7953"
            ],
            [
             0.7777777777777778,
             "#fb9f3a"
            ],
            [
             0.8888888888888888,
             "#fdca26"
            ],
            [
             1,
             "#f0f921"
            ]
           ],
           "sequentialminus": [
            [
             0,
             "#0d0887"
            ],
            [
             0.1111111111111111,
             "#46039f"
            ],
            [
             0.2222222222222222,
             "#7201a8"
            ],
            [
             0.3333333333333333,
             "#9c179e"
            ],
            [
             0.4444444444444444,
             "#bd3786"
            ],
            [
             0.5555555555555556,
             "#d8576b"
            ],
            [
             0.6666666666666666,
             "#ed7953"
            ],
            [
             0.7777777777777778,
             "#fb9f3a"
            ],
            [
             0.8888888888888888,
             "#fdca26"
            ],
            [
             1,
             "#f0f921"
            ]
           ]
          },
          "colorway": [
           "#636efa",
           "#EF553B",
           "#00cc96",
           "#ab63fa",
           "#FFA15A",
           "#19d3f3",
           "#FF6692",
           "#B6E880",
           "#FF97FF",
           "#FECB52"
          ],
          "font": {
           "color": "#2a3f5f"
          },
          "geo": {
           "bgcolor": "white",
           "lakecolor": "white",
           "landcolor": "#E5ECF6",
           "showlakes": true,
           "showland": true,
           "subunitcolor": "white"
          },
          "hoverlabel": {
           "align": "left"
          },
          "hovermode": "closest",
          "mapbox": {
           "style": "light"
          },
          "paper_bgcolor": "white",
          "plot_bgcolor": "#E5ECF6",
          "polar": {
           "angularaxis": {
            "gridcolor": "white",
            "linecolor": "white",
            "ticks": ""
           },
           "bgcolor": "#E5ECF6",
           "radialaxis": {
            "gridcolor": "white",
            "linecolor": "white",
            "ticks": ""
           }
          },
          "scene": {
           "xaxis": {
            "backgroundcolor": "#E5ECF6",
            "gridcolor": "white",
            "gridwidth": 2,
            "linecolor": "white",
            "showbackground": true,
            "ticks": "",
            "zerolinecolor": "white"
           },
           "yaxis": {
            "backgroundcolor": "#E5ECF6",
            "gridcolor": "white",
            "gridwidth": 2,
            "linecolor": "white",
            "showbackground": true,
            "ticks": "",
            "zerolinecolor": "white"
           },
           "zaxis": {
            "backgroundcolor": "#E5ECF6",
            "gridcolor": "white",
            "gridwidth": 2,
            "linecolor": "white",
            "showbackground": true,
            "ticks": "",
            "zerolinecolor": "white"
           }
          },
          "shapedefaults": {
           "line": {
            "color": "#2a3f5f"
           }
          },
          "ternary": {
           "aaxis": {
            "gridcolor": "white",
            "linecolor": "white",
            "ticks": ""
           },
           "baxis": {
            "gridcolor": "white",
            "linecolor": "white",
            "ticks": ""
           },
           "bgcolor": "#E5ECF6",
           "caxis": {
            "gridcolor": "white",
            "linecolor": "white",
            "ticks": ""
           }
          },
          "title": {
           "x": 0.05
          },
          "xaxis": {
           "automargin": true,
           "gridcolor": "white",
           "linecolor": "white",
           "ticks": "",
           "title": {
            "standoff": 15
           },
           "zerolinecolor": "white",
           "zerolinewidth": 2
          },
          "yaxis": {
           "automargin": true,
           "gridcolor": "white",
           "linecolor": "white",
           "ticks": "",
           "title": {
            "standoff": 15
           },
           "zerolinecolor": "white",
           "zerolinewidth": 2
          }
         }
        },
        "title": {
         "text": "8 Agent Task with 2 Agent Pretraining"
        },
        "width": 700,
        "xaxis": {
         "anchor": "y",
         "domain": [
          0,
          1
         ],
         "title": {
          "text": "Agent-steps"
         }
        },
        "yaxis": {
         "anchor": "x",
         "domain": [
          0,
          1
         ],
         "title": {
          "text": "Mean Episode Reward per Agent"
         }
        }
       }
      }
     },
     "metadata": {},
     "output_type": "display_data"
    }
   ],
   "source": [
    "plot_avg_retrain(8)"
   ]
  },
  {
   "cell_type": "code",
   "execution_count": 4,
   "metadata": {},
   "outputs": [
    {
     "name": "stdout",
     "output_type": "stream",
     "text": [
      "                            OLS Regression Results                            \n",
      "==============================================================================\n",
      "Dep. Variable:                   time   R-squared:                       0.999\n",
      "Model:                            OLS   Adj. R-squared:                  0.999\n",
      "Method:                 Least Squares   F-statistic:                 2.827e+07\n",
      "Date:                Mon, 10 Feb 2025   Prob (F-statistic):               0.00\n",
      "Time:                        22:22:50   Log-Likelihood:            -2.6299e+05\n",
      "No. Observations:               34901   AIC:                         5.260e+05\n",
      "Df Residuals:                   34899   BIC:                         5.260e+05\n",
      "Df Model:                           1                                         \n",
      "Covariance Type:            nonrobust                                         \n",
      "==============================================================================\n",
      "                 coef    std err          t      P>|t|      [0.025      0.975]\n",
      "------------------------------------------------------------------------------\n",
      "Intercept    324.2441      7.543     42.984      0.000     309.459     339.030\n",
      "num_agents  7004.7673      1.317   5317.006      0.000    7002.185    7007.350\n",
      "==============================================================================\n",
      "Omnibus:                     5846.490   Durbin-Watson:                   0.032\n",
      "Prob(Omnibus):                  0.000   Jarque-Bera (JB):            15287.781\n",
      "Skew:                           0.923   Prob(JB):                         0.00\n",
      "Kurtosis:                       5.666   Cond. No.                         18.3\n",
      "==============================================================================\n",
      "\n",
      "Notes:\n",
      "[1] Standard Errors assume that the covariance matrix of the errors is correctly specified.\n"
     ]
    }
   ],
   "source": [
    "import wandb\n",
    "import pandas as pd\n",
    "\n",
    "api = wandb.Api()\n",
    "runs = api.runs(\"no-organization-for-signup/ww_test\")\n",
    "\n",
    "data = []\n",
    "for run in runs:\n",
    "    for time in run.history()['timers/training_iteration_time_ms']:\n",
    "        data.append({\n",
    "                    'num_agents': run.config['num_agents'],\n",
    "                    'time': time,\n",
    "                    #'mean_time': hist.mean(),\n",
    "                    #'steps': len(hist)\n",
    "                    })\n",
    "\n",
    "time_costs = pd.DataFrame(data)\n",
    "time_costs.to_csv('ww-timecosts.csv', index=False)\n",
    "\n",
    "import statsmodels.formula.api as smf \n",
    "\n",
    "model = smf.ols(formula='time ~ num_agents', data=time_costs).fit() \n",
    "print(model.summary())\n",
    "\n"
   ]
  },
  {
   "cell_type": "code",
   "execution_count": 37,
   "metadata": {},
   "outputs": [
    {
     "data": {
      "application/vnd.plotly.v1+json": {
       "config": {
        "plotlyServerURL": "https://plot.ly"
       },
       "data": [
        {
         "alignmentgroup": "True",
         "error_y": {
          "array": [
           171.88325959972806
          ]
         },
         "hovertemplate": "n_agents=2.0<br>Number of Agents=%{x}<br>Time (ms)=%{y}<extra></extra>",
         "legendgroup": "2.0",
         "marker": {
          "color": "rgb(95, 70, 144)",
          "opacity": 0.65,
          "pattern": {
           "shape": ""
          }
         },
         "name": "2.0",
         "offsetgroup": "2.0",
         "orientation": "v",
         "showlegend": true,
         "textposition": "auto",
         "type": "bar",
         "x": [
          2
         ],
         "xaxis": "x",
         "y": [
          14291.335622841225
         ],
         "yaxis": "y"
        },
        {
         "alignmentgroup": "True",
         "error_y": {
          "array": [
           232.04280080559417
          ]
         },
         "hovertemplate": "n_agents=3.0<br>Number of Agents=%{x}<br>Time (ms)=%{y}<extra></extra>",
         "legendgroup": "3.0",
         "marker": {
          "color": "rgb(29, 105, 150)",
          "opacity": 0.65,
          "pattern": {
           "shape": ""
          }
         },
         "name": "3.0",
         "offsetgroup": "3.0",
         "orientation": "v",
         "showlegend": true,
         "textposition": "auto",
         "type": "bar",
         "x": [
          3
         ],
         "xaxis": "x",
         "y": [
          21297.113582671107
         ],
         "yaxis": "y"
        },
        {
         "alignmentgroup": "True",
         "error_y": {
          "array": [
           357.26129766763887
          ]
         },
         "hovertemplate": "n_agents=4.0<br>Number of Agents=%{x}<br>Time (ms)=%{y}<extra></extra>",
         "legendgroup": "4.0",
         "marker": {
          "color": "rgb(56, 166, 165)",
          "opacity": 0.65,
          "pattern": {
           "shape": ""
          }
         },
         "name": "4.0",
         "offsetgroup": "4.0",
         "orientation": "v",
         "showlegend": true,
         "textposition": "auto",
         "type": "bar",
         "x": [
          4
         ],
         "xaxis": "x",
         "y": [
          28366.942501992035
         ],
         "yaxis": "y"
        },
        {
         "alignmentgroup": "True",
         "error_y": {
          "array": [
           362.32409482445536
          ]
         },
         "hovertemplate": "n_agents=5.0<br>Number of Agents=%{x}<br>Time (ms)=%{y}<extra></extra>",
         "legendgroup": "5.0",
         "marker": {
          "color": "rgb(15, 133, 84)",
          "opacity": 0.65,
          "pattern": {
           "shape": ""
          }
         },
         "name": "5.0",
         "offsetgroup": "5.0",
         "orientation": "v",
         "showlegend": true,
         "textposition": "auto",
         "type": "bar",
         "x": [
          5
         ],
         "xaxis": "x",
         "y": [
          35375.2347579655
         ],
         "yaxis": "y"
        },
        {
         "alignmentgroup": "True",
         "error_y": {
          "array": [
           467.98464420806374
          ]
         },
         "hovertemplate": "n_agents=6.0<br>Number of Agents=%{x}<br>Time (ms)=%{y}<extra></extra>",
         "legendgroup": "6.0",
         "marker": {
          "color": "rgb(115, 175, 72)",
          "opacity": 0.65,
          "pattern": {
           "shape": ""
          }
         },
         "name": "6.0",
         "offsetgroup": "6.0",
         "orientation": "v",
         "showlegend": true,
         "textposition": "auto",
         "type": "bar",
         "x": [
          6
         ],
         "xaxis": "x",
         "y": [
          42402.34655800576
         ],
         "yaxis": "y"
        },
        {
         "alignmentgroup": "True",
         "error_y": {
          "array": [
           430.63608678816246
          ]
         },
         "hovertemplate": "n_agents=7.0<br>Number of Agents=%{x}<br>Time (ms)=%{y}<extra></extra>",
         "legendgroup": "7.0",
         "marker": {
          "color": "rgb(237, 173, 8)",
          "opacity": 0.65,
          "pattern": {
           "shape": ""
          }
         },
         "name": "7.0",
         "offsetgroup": "7.0",
         "orientation": "v",
         "showlegend": true,
         "textposition": "auto",
         "type": "bar",
         "x": [
          7
         ],
         "xaxis": "x",
         "y": [
          49230.86572346144
         ],
         "yaxis": "y"
        },
        {
         "alignmentgroup": "True",
         "error_y": {
          "array": [
           664.2357340490906
          ]
         },
         "hovertemplate": "n_agents=8.0<br>Number of Agents=%{x}<br>Time (ms)=%{y}<extra></extra>",
         "legendgroup": "8.0",
         "marker": {
          "color": "rgb(225, 124, 5)",
          "opacity": 0.65,
          "pattern": {
           "shape": ""
          }
         },
         "name": "8.0",
         "offsetgroup": "8.0",
         "orientation": "v",
         "showlegend": true,
         "textposition": "auto",
         "type": "bar",
         "x": [
          8
         ],
         "xaxis": "x",
         "y": [
          56372.59745251396
         ],
         "yaxis": "y"
        }
       ],
       "layout": {
        "barcornerradius": 5,
        "barmode": "relative",
        "height": 450,
        "legend": {
         "title": {
          "text": "n_agents"
         },
         "tracegroupgap": 0
        },
        "showlegend": false,
        "template": {
         "data": {
          "bar": [
           {
            "error_x": {
             "color": "#2a3f5f"
            },
            "error_y": {
             "color": "#2a3f5f"
            },
            "marker": {
             "line": {
              "color": "#E5ECF6",
              "width": 0.5
             },
             "pattern": {
              "fillmode": "overlay",
              "size": 10,
              "solidity": 0.2
             }
            },
            "type": "bar"
           }
          ],
          "barpolar": [
           {
            "marker": {
             "line": {
              "color": "#E5ECF6",
              "width": 0.5
             },
             "pattern": {
              "fillmode": "overlay",
              "size": 10,
              "solidity": 0.2
             }
            },
            "type": "barpolar"
           }
          ],
          "carpet": [
           {
            "aaxis": {
             "endlinecolor": "#2a3f5f",
             "gridcolor": "white",
             "linecolor": "white",
             "minorgridcolor": "white",
             "startlinecolor": "#2a3f5f"
            },
            "baxis": {
             "endlinecolor": "#2a3f5f",
             "gridcolor": "white",
             "linecolor": "white",
             "minorgridcolor": "white",
             "startlinecolor": "#2a3f5f"
            },
            "type": "carpet"
           }
          ],
          "choropleth": [
           {
            "colorbar": {
             "outlinewidth": 0,
             "ticks": ""
            },
            "type": "choropleth"
           }
          ],
          "contour": [
           {
            "colorbar": {
             "outlinewidth": 0,
             "ticks": ""
            },
            "colorscale": [
             [
              0,
              "#0d0887"
             ],
             [
              0.1111111111111111,
              "#46039f"
             ],
             [
              0.2222222222222222,
              "#7201a8"
             ],
             [
              0.3333333333333333,
              "#9c179e"
             ],
             [
              0.4444444444444444,
              "#bd3786"
             ],
             [
              0.5555555555555556,
              "#d8576b"
             ],
             [
              0.6666666666666666,
              "#ed7953"
             ],
             [
              0.7777777777777778,
              "#fb9f3a"
             ],
             [
              0.8888888888888888,
              "#fdca26"
             ],
             [
              1,
              "#f0f921"
             ]
            ],
            "type": "contour"
           }
          ],
          "contourcarpet": [
           {
            "colorbar": {
             "outlinewidth": 0,
             "ticks": ""
            },
            "type": "contourcarpet"
           }
          ],
          "heatmap": [
           {
            "colorbar": {
             "outlinewidth": 0,
             "ticks": ""
            },
            "colorscale": [
             [
              0,
              "#0d0887"
             ],
             [
              0.1111111111111111,
              "#46039f"
             ],
             [
              0.2222222222222222,
              "#7201a8"
             ],
             [
              0.3333333333333333,
              "#9c179e"
             ],
             [
              0.4444444444444444,
              "#bd3786"
             ],
             [
              0.5555555555555556,
              "#d8576b"
             ],
             [
              0.6666666666666666,
              "#ed7953"
             ],
             [
              0.7777777777777778,
              "#fb9f3a"
             ],
             [
              0.8888888888888888,
              "#fdca26"
             ],
             [
              1,
              "#f0f921"
             ]
            ],
            "type": "heatmap"
           }
          ],
          "heatmapgl": [
           {
            "colorbar": {
             "outlinewidth": 0,
             "ticks": ""
            },
            "colorscale": [
             [
              0,
              "#0d0887"
             ],
             [
              0.1111111111111111,
              "#46039f"
             ],
             [
              0.2222222222222222,
              "#7201a8"
             ],
             [
              0.3333333333333333,
              "#9c179e"
             ],
             [
              0.4444444444444444,
              "#bd3786"
             ],
             [
              0.5555555555555556,
              "#d8576b"
             ],
             [
              0.6666666666666666,
              "#ed7953"
             ],
             [
              0.7777777777777778,
              "#fb9f3a"
             ],
             [
              0.8888888888888888,
              "#fdca26"
             ],
             [
              1,
              "#f0f921"
             ]
            ],
            "type": "heatmapgl"
           }
          ],
          "histogram": [
           {
            "marker": {
             "pattern": {
              "fillmode": "overlay",
              "size": 10,
              "solidity": 0.2
             }
            },
            "type": "histogram"
           }
          ],
          "histogram2d": [
           {
            "colorbar": {
             "outlinewidth": 0,
             "ticks": ""
            },
            "colorscale": [
             [
              0,
              "#0d0887"
             ],
             [
              0.1111111111111111,
              "#46039f"
             ],
             [
              0.2222222222222222,
              "#7201a8"
             ],
             [
              0.3333333333333333,
              "#9c179e"
             ],
             [
              0.4444444444444444,
              "#bd3786"
             ],
             [
              0.5555555555555556,
              "#d8576b"
             ],
             [
              0.6666666666666666,
              "#ed7953"
             ],
             [
              0.7777777777777778,
              "#fb9f3a"
             ],
             [
              0.8888888888888888,
              "#fdca26"
             ],
             [
              1,
              "#f0f921"
             ]
            ],
            "type": "histogram2d"
           }
          ],
          "histogram2dcontour": [
           {
            "colorbar": {
             "outlinewidth": 0,
             "ticks": ""
            },
            "colorscale": [
             [
              0,
              "#0d0887"
             ],
             [
              0.1111111111111111,
              "#46039f"
             ],
             [
              0.2222222222222222,
              "#7201a8"
             ],
             [
              0.3333333333333333,
              "#9c179e"
             ],
             [
              0.4444444444444444,
              "#bd3786"
             ],
             [
              0.5555555555555556,
              "#d8576b"
             ],
             [
              0.6666666666666666,
              "#ed7953"
             ],
             [
              0.7777777777777778,
              "#fb9f3a"
             ],
             [
              0.8888888888888888,
              "#fdca26"
             ],
             [
              1,
              "#f0f921"
             ]
            ],
            "type": "histogram2dcontour"
           }
          ],
          "mesh3d": [
           {
            "colorbar": {
             "outlinewidth": 0,
             "ticks": ""
            },
            "type": "mesh3d"
           }
          ],
          "parcoords": [
           {
            "line": {
             "colorbar": {
              "outlinewidth": 0,
              "ticks": ""
             }
            },
            "type": "parcoords"
           }
          ],
          "pie": [
           {
            "automargin": true,
            "type": "pie"
           }
          ],
          "scatter": [
           {
            "fillpattern": {
             "fillmode": "overlay",
             "size": 10,
             "solidity": 0.2
            },
            "type": "scatter"
           }
          ],
          "scatter3d": [
           {
            "line": {
             "colorbar": {
              "outlinewidth": 0,
              "ticks": ""
             }
            },
            "marker": {
             "colorbar": {
              "outlinewidth": 0,
              "ticks": ""
             }
            },
            "type": "scatter3d"
           }
          ],
          "scattercarpet": [
           {
            "marker": {
             "colorbar": {
              "outlinewidth": 0,
              "ticks": ""
             }
            },
            "type": "scattercarpet"
           }
          ],
          "scattergeo": [
           {
            "marker": {
             "colorbar": {
              "outlinewidth": 0,
              "ticks": ""
             }
            },
            "type": "scattergeo"
           }
          ],
          "scattergl": [
           {
            "marker": {
             "colorbar": {
              "outlinewidth": 0,
              "ticks": ""
             }
            },
            "type": "scattergl"
           }
          ],
          "scattermapbox": [
           {
            "marker": {
             "colorbar": {
              "outlinewidth": 0,
              "ticks": ""
             }
            },
            "type": "scattermapbox"
           }
          ],
          "scatterpolar": [
           {
            "marker": {
             "colorbar": {
              "outlinewidth": 0,
              "ticks": ""
             }
            },
            "type": "scatterpolar"
           }
          ],
          "scatterpolargl": [
           {
            "marker": {
             "colorbar": {
              "outlinewidth": 0,
              "ticks": ""
             }
            },
            "type": "scatterpolargl"
           }
          ],
          "scatterternary": [
           {
            "marker": {
             "colorbar": {
              "outlinewidth": 0,
              "ticks": ""
             }
            },
            "type": "scatterternary"
           }
          ],
          "surface": [
           {
            "colorbar": {
             "outlinewidth": 0,
             "ticks": ""
            },
            "colorscale": [
             [
              0,
              "#0d0887"
             ],
             [
              0.1111111111111111,
              "#46039f"
             ],
             [
              0.2222222222222222,
              "#7201a8"
             ],
             [
              0.3333333333333333,
              "#9c179e"
             ],
             [
              0.4444444444444444,
              "#bd3786"
             ],
             [
              0.5555555555555556,
              "#d8576b"
             ],
             [
              0.6666666666666666,
              "#ed7953"
             ],
             [
              0.7777777777777778,
              "#fb9f3a"
             ],
             [
              0.8888888888888888,
              "#fdca26"
             ],
             [
              1,
              "#f0f921"
             ]
            ],
            "type": "surface"
           }
          ],
          "table": [
           {
            "cells": {
             "fill": {
              "color": "#EBF0F8"
             },
             "line": {
              "color": "white"
             }
            },
            "header": {
             "fill": {
              "color": "#C8D4E3"
             },
             "line": {
              "color": "white"
             }
            },
            "type": "table"
           }
          ]
         },
         "layout": {
          "annotationdefaults": {
           "arrowcolor": "#2a3f5f",
           "arrowhead": 0,
           "arrowwidth": 1
          },
          "autotypenumbers": "strict",
          "coloraxis": {
           "colorbar": {
            "outlinewidth": 0,
            "ticks": ""
           }
          },
          "colorscale": {
           "diverging": [
            [
             0,
             "#8e0152"
            ],
            [
             0.1,
             "#c51b7d"
            ],
            [
             0.2,
             "#de77ae"
            ],
            [
             0.3,
             "#f1b6da"
            ],
            [
             0.4,
             "#fde0ef"
            ],
            [
             0.5,
             "#f7f7f7"
            ],
            [
             0.6,
             "#e6f5d0"
            ],
            [
             0.7,
             "#b8e186"
            ],
            [
             0.8,
             "#7fbc41"
            ],
            [
             0.9,
             "#4d9221"
            ],
            [
             1,
             "#276419"
            ]
           ],
           "sequential": [
            [
             0,
             "#0d0887"
            ],
            [
             0.1111111111111111,
             "#46039f"
            ],
            [
             0.2222222222222222,
             "#7201a8"
            ],
            [
             0.3333333333333333,
             "#9c179e"
            ],
            [
             0.4444444444444444,
             "#bd3786"
            ],
            [
             0.5555555555555556,
             "#d8576b"
            ],
            [
             0.6666666666666666,
             "#ed7953"
            ],
            [
             0.7777777777777778,
             "#fb9f3a"
            ],
            [
             0.8888888888888888,
             "#fdca26"
            ],
            [
             1,
             "#f0f921"
            ]
           ],
           "sequentialminus": [
            [
             0,
             "#0d0887"
            ],
            [
             0.1111111111111111,
             "#46039f"
            ],
            [
             0.2222222222222222,
             "#7201a8"
            ],
            [
             0.3333333333333333,
             "#9c179e"
            ],
            [
             0.4444444444444444,
             "#bd3786"
            ],
            [
             0.5555555555555556,
             "#d8576b"
            ],
            [
             0.6666666666666666,
             "#ed7953"
            ],
            [
             0.7777777777777778,
             "#fb9f3a"
            ],
            [
             0.8888888888888888,
             "#fdca26"
            ],
            [
             1,
             "#f0f921"
            ]
           ]
          },
          "colorway": [
           "#636efa",
           "#EF553B",
           "#00cc96",
           "#ab63fa",
           "#FFA15A",
           "#19d3f3",
           "#FF6692",
           "#B6E880",
           "#FF97FF",
           "#FECB52"
          ],
          "font": {
           "color": "#2a3f5f"
          },
          "geo": {
           "bgcolor": "white",
           "lakecolor": "white",
           "landcolor": "#E5ECF6",
           "showlakes": true,
           "showland": true,
           "subunitcolor": "white"
          },
          "hoverlabel": {
           "align": "left"
          },
          "hovermode": "closest",
          "mapbox": {
           "style": "light"
          },
          "paper_bgcolor": "white",
          "plot_bgcolor": "#E5ECF6",
          "polar": {
           "angularaxis": {
            "gridcolor": "white",
            "linecolor": "white",
            "ticks": ""
           },
           "bgcolor": "#E5ECF6",
           "radialaxis": {
            "gridcolor": "white",
            "linecolor": "white",
            "ticks": ""
           }
          },
          "scene": {
           "xaxis": {
            "backgroundcolor": "#E5ECF6",
            "gridcolor": "white",
            "gridwidth": 2,
            "linecolor": "white",
            "showbackground": true,
            "ticks": "",
            "zerolinecolor": "white"
           },
           "yaxis": {
            "backgroundcolor": "#E5ECF6",
            "gridcolor": "white",
            "gridwidth": 2,
            "linecolor": "white",
            "showbackground": true,
            "ticks": "",
            "zerolinecolor": "white"
           },
           "zaxis": {
            "backgroundcolor": "#E5ECF6",
            "gridcolor": "white",
            "gridwidth": 2,
            "linecolor": "white",
            "showbackground": true,
            "ticks": "",
            "zerolinecolor": "white"
           }
          },
          "shapedefaults": {
           "line": {
            "color": "#2a3f5f"
           }
          },
          "ternary": {
           "aaxis": {
            "gridcolor": "white",
            "linecolor": "white",
            "ticks": ""
           },
           "baxis": {
            "gridcolor": "white",
            "linecolor": "white",
            "ticks": ""
           },
           "bgcolor": "#E5ECF6",
           "caxis": {
            "gridcolor": "white",
            "linecolor": "white",
            "ticks": ""
           }
          },
          "title": {
           "x": 0.05
          },
          "xaxis": {
           "automargin": true,
           "gridcolor": "white",
           "linecolor": "white",
           "ticks": "",
           "title": {
            "standoff": 15
           },
           "zerolinecolor": "white",
           "zerolinewidth": 2
          },
          "yaxis": {
           "automargin": true,
           "gridcolor": "white",
           "linecolor": "white",
           "ticks": "",
           "title": {
            "standoff": 15
           },
           "zerolinecolor": "white",
           "zerolinewidth": 2
          }
         }
        },
        "title": {
         "text": "Time Cost Per Training Iteration"
        },
        "width": 700,
        "xaxis": {
         "anchor": "y",
         "domain": [
          0,
          1
         ],
         "range": [
          0,
          8.5
         ],
         "title": {
          "text": "Number of Agents"
         }
        },
        "yaxis": {
         "anchor": "x",
         "domain": [
          0,
          1
         ],
         "title": {
          "text": "Time (ms)"
         }
        }
       }
      }
     },
     "metadata": {},
     "output_type": "display_data"
    }
   ],
   "source": [
    "import plotly.express as px\n",
    "import plotly.graph_objects as go\n",
    "import pandas as pd\n",
    "\n",
    "time_costs = pd.read_csv('ww-timecosts.csv')\n",
    "\n",
    "tc = time_costs.groupby([\"num_agents\"]).mean().reset_index()\n",
    "tc[\"error\"] = time_costs.groupby([\"num_agents\"]).std().reset_index()[\"time\"]\n",
    "tc[\"n_agents\"] = tc[\"num_agents\"].astype(str)\n",
    "\n",
    "fig = (px.bar(\n",
    "    tc.groupby([\"num_agents\"]).mean().reset_index(), \n",
    "    y=\"time\", x=\"num_agents\", color=\"n_agents\", \n",
    "    error_y=\"error\",\n",
    "    title=\"Time Cost Per Training Iteration\",\n",
    "    labels={\"num_agents\":\"Number of Agents\", \"time\":\"Time (ms)\"},\n",
    "    color_discrete_sequence=px.colors.qualitative.Prism,\n",
    "    opacity=0.65,\n",
    "    )\n",
    "    .update_layout(\n",
    "        showlegend=False,\n",
    "        width=700, height=450,\n",
    "        barcornerradius=5,\n",
    "        )\n",
    "    .update_xaxes(range=[0, 8.5])\n",
    ")\n",
    "\n",
    "#fig.add_trace(go.Line( x=[0, 8], y=[324.2441, 324.2441 + 8 * 7004.7673] ) )\n",
    "\n",
    "fig.show()\n",
    "fig.write_image(f\"time_costs.png\", width=700, height=450)"
   ]
  },
  {
   "cell_type": "code",
   "execution_count": 89,
   "metadata": {},
   "outputs": [
    {
     "data": {
      "application/vnd.plotly.v1+json": {
       "config": {
        "plotlyServerURL": "https://plot.ly"
       },
       "data": [
        {
         "hovertemplate": "Pretraining<br>Length=0<br>Adjusted Timesteps=%{x}<br>Mean Episode Reward per Agent=%{y}<extra></extra>",
         "legendgroup": "0",
         "line": {
          "color": "#3366CC",
          "dash": "solid",
          "shape": "spline"
         },
         "marker": {
          "symbol": "circle"
         },
         "mode": "lines",
         "name": "0",
         "orientation": "v",
         "showlegend": true,
         "type": "scatter",
         "x": [
          0,
          1,
          2,
          3,
          4,
          5,
          6,
          7,
          8,
          9,
          10,
          11,
          12,
          13,
          14,
          15,
          16,
          17,
          18,
          19,
          20,
          21,
          22,
          23,
          24,
          25,
          26,
          27,
          28,
          29,
          30,
          31,
          32,
          33,
          34,
          35,
          36,
          37,
          38,
          39,
          40,
          41,
          42,
          43,
          44,
          45,
          46,
          47,
          48,
          49,
          50,
          51,
          52,
          53,
          54,
          55,
          56,
          57,
          58,
          59,
          60,
          61,
          62,
          63,
          64,
          65,
          66,
          67,
          68,
          69,
          70,
          71,
          72,
          73,
          74,
          75,
          76,
          77,
          78,
          79,
          80,
          81,
          82,
          83,
          84,
          85,
          86,
          87,
          88,
          89,
          90,
          91,
          92,
          93,
          94,
          95,
          96,
          97,
          98,
          99,
          100,
          101,
          102,
          103,
          104,
          105,
          106,
          107,
          108,
          109,
          110,
          111,
          112,
          113,
          114,
          115,
          116,
          117,
          118,
          119,
          120,
          121,
          122,
          123,
          124,
          125,
          126,
          127,
          128,
          129,
          130,
          131,
          132,
          133,
          134,
          135,
          136,
          137,
          138,
          139,
          140,
          141,
          142,
          143,
          144,
          145,
          146,
          147,
          148,
          149,
          150,
          151,
          152,
          153,
          154,
          155,
          156,
          157,
          158,
          159,
          160,
          161,
          162,
          163,
          164,
          165,
          166,
          167,
          168,
          169,
          170,
          171,
          172,
          173,
          174,
          175,
          176,
          177,
          178,
          179,
          180,
          181,
          182,
          183,
          184,
          185,
          186,
          187,
          188,
          189,
          190,
          191,
          192,
          193,
          194,
          195,
          196,
          197,
          198,
          199
         ],
         "xaxis": "x",
         "y": [
          -103.16970878118836,
          -103.10378655529057,
          -103.13221763102308,
          -103.12498873467209,
          -102.77207275518046,
          -102.87917855669113,
          -102.91346709630076,
          -102.88022173314319,
          -102.862789448862,
          -102.84504900737159,
          -102.8994783000176,
          -102.88983090078914,
          -102.74734482510772,
          -102.90627079607552,
          -102.82252553610749,
          -102.5461019981398,
          -102.81535680846127,
          -103.03071220392651,
          -102.8054939594853,
          -102.3524244986386,
          -102.31170092061812,
          -102.82073321991858,
          -103.03068123210717,
          -103.08808466852688,
          -103.05185959561129,
          -102.40570914243683,
          -102.8234061172983,
          -102.50482655997408,
          -102.51899006321302,
          -102.82802517434686,
          -102.91864262523686,
          -102.71670369225545,
          -103.0959379616872,
          -102.42266895323179,
          -102.72152311142996,
          -102.46071386842682,
          -101.06894730195037,
          -101.23379912441375,
          -101.3005107836633,
          -102.49589559596828,
          -100.95967048360927,
          -101.18773198141872,
          -101.84527242872204,
          -101.28813681059833,
          -101.13595182309868,
          -101.96849019304733,
          -99.80535666024153,
          -98.30976762382896,
          -100.13941947107118,
          -100.26920507893283,
          -101.18898144708,
          -101.8213489728781,
          -99.60263929613109,
          -100.5067202970434,
          -101.07057212001624,
          -100.53075995886056,
          -100.96703468511996,
          -101.86221475843669,
          -101.64667357186838,
          -101.87792071626356,
          -101.1353872253094,
          -99.41152833836465,
          -95.54578807806972,
          -91.59779512676556,
          -88.0089741615162,
          -91.89787757933956,
          -95.39855757563724,
          -98.30753930491532,
          -96.219083619889,
          -96.2878364270946,
          -95.39955906253309,
          -97.4645316888272,
          -95.7177302026331,
          -93.9651394988988,
          -92.3031202089916,
          -91.25078340057178,
          -93.169975578709,
          -92.26309893678469,
          -92.89303804668502,
          -93.87381418453994,
          -95.97380878352506,
          -94.9650846002558,
          -93.07874810548115,
          -89.99720415573806,
          -90.89114530979016,
          -92.82390859955068,
          -94.89017402248768,
          -97.6804512167132,
          -90.831697478715,
          -90.14182986093296,
          -89.2625814120192,
          -87.33885449634322,
          -86.43373127115503,
          -83.33518164033653,
          -81.36190608952155,
          -80.34755899387645,
          -74.319212525927,
          -75.02250874553633,
          -80.20738101179188,
          -82.10480135600646,
          -80.11409159593167,
          -83.37741815598798,
          -86.27950023414898,
          -84.4169277027748,
          -82.36242581455056,
          -79.46976549015555,
          -82.02011905967608,
          -76.75807993408971,
          -80.54226017234595,
          -86.48912027244184,
          -86.74579993260132,
          -80.78370947716408,
          -85.80009829471722,
          -81.93621507820576,
          -80.84461598555558,
          -85.81783932872428,
          -83.9631127094912,
          -82.03780442354115,
          -84.26080864325243,
          -79.12623101422098,
          -80.03201210816972,
          -83.10402825290454,
          -85.92475785615854,
          -85.62975222700275,
          -86.77689565207343,
          -84.79448287476514,
          -79.67956023223815,
          -78.85940467705174,
          -83.81118520426448,
          -83.90374674998573,
          -85.01901444625769,
          -86.02222585277981,
          -87.84939765582793,
          -93.68775687134205,
          -97.48450812848672,
          -96.90549962929838,
          -91.16414482427685,
          -90.00688767085472,
          -89.15083384416454,
          -86.98958350627915,
          -82.9403516374769,
          -82.76884949688333,
          -80.84718187471618,
          -76.77613834739914,
          -77.69413397897442,
          -77.71421047639122,
          -81.74694112596121,
          -79.74930577867296,
          -77.92016086046739,
          -77.74758730262198,
          -77.75252981739264,
          -78.57911870648375,
          -77.70837418996331,
          -78.87150410838494,
          -79.03331254520211,
          -82.14887261563291,
          -80.22805872790109,
          -80.3171581811487,
          -79.34213978986863,
          -80.28829383309916,
          -76.29001401943877,
          -79.00085517173531,
          -80.94450671590525,
          -79.6557610876739,
          -80.52967822226589,
          -80.5397481449548,
          -73.92899110023951,
          -71.98601484968259,
          -74.01207725748974,
          -72.24888897622479,
          -73.4633711999096,
          -81.46656788914,
          -86.27133824047012,
          -92.0761121033458,
          -91.7293092958668,
          -91.62733047693852,
          -87.08738423371726,
          -86.98960812865329,
          -86.05585591294765,
          -81.13267738294904,
          -80.17254046739622,
          -75.95549858072462,
          -74.75002791680309,
          -78.66362916646206,
          -83.61287670909573,
          -91.2838799689943,
          -91.27256949100722,
          -91.37572262406428,
          -91.49889220982249,
          -89.67455776145992,
          -88.79439907056492,
          -85.8868934448271,
          -83.7570939434638,
          -86.612314191292,
          -86.880277447739,
          -90.63590494664648,
          -88.59705281536976,
          -88.43531737792044,
          -85.29050567960492,
          -80.52693636995711
         ],
         "yaxis": "y"
        },
        {
         "hovertemplate": "Pretraining<br>Length=40<br>Adjusted Timesteps=%{x}<br>Mean Episode Reward per Agent=%{y}<extra></extra>",
         "legendgroup": "40",
         "line": {
          "color": "#DC3912",
          "dash": "solid",
          "shape": "spline"
         },
         "marker": {
          "symbol": "circle"
         },
         "mode": "lines",
         "name": "40",
         "orientation": "v",
         "showlegend": true,
         "type": "scatter",
         "x": [
          20,
          21,
          22,
          23,
          24,
          25,
          26,
          27,
          28,
          29,
          30,
          31,
          32,
          33,
          34,
          35,
          36,
          37,
          38,
          39,
          40,
          41,
          42,
          43,
          44,
          45,
          46,
          47,
          48,
          49,
          50,
          51,
          52,
          53,
          54,
          55,
          56,
          57,
          58,
          59,
          60,
          61,
          62,
          63,
          64,
          65,
          66,
          67,
          68,
          69,
          70,
          71,
          72,
          73,
          74,
          75,
          76,
          77,
          78,
          79,
          80,
          81,
          82,
          83,
          84,
          85,
          86,
          87,
          88,
          89,
          90,
          91,
          92,
          93,
          94,
          95,
          96,
          97,
          98,
          99,
          100,
          101,
          102,
          103,
          104,
          105,
          106,
          107,
          108,
          109,
          110,
          111,
          112,
          113,
          114,
          115,
          116,
          117,
          118,
          119,
          120,
          121,
          122,
          123,
          124,
          125,
          126,
          127,
          128,
          129,
          130,
          131,
          132,
          133,
          134,
          135,
          136,
          137,
          138,
          139,
          140,
          141,
          142,
          143,
          144,
          145,
          146,
          147,
          148,
          149,
          150,
          151,
          152,
          153,
          154,
          155,
          156,
          157,
          158,
          159,
          160,
          161,
          162,
          163,
          164,
          165,
          166,
          167,
          168,
          169,
          170,
          171,
          172,
          173,
          174,
          175,
          176,
          177,
          178,
          179
         ],
         "xaxis": "x",
         "y": [
          -103.08367846787787,
          -102.9458366979734,
          -102.98162169387115,
          -100.12654671324557,
          -95.26131044489846,
          -92.70109343787813,
          -90.63135085156925,
          -89.34114593806953,
          -88.36433644644744,
          -88.13079645485928,
          -88.89363611069221,
          -88.02573735613284,
          -88.87486792952885,
          -88.15588295147995,
          -89.78005489189198,
          -89.24590034239544,
          -89.17451607200938,
          -87.70723201274265,
          -87.94081661535654,
          -86.71361403851525,
          -86.97997605595458,
          -85.31028134645499,
          -84.17633344898218,
          -83.2979698774657,
          -83.18937585651555,
          -84.59658465986173,
          -84.3997441161207,
          -84.2033386319555,
          -84.11493629135622,
          -84.02157772027822,
          -84.80363287716276,
          -82.85682647540055,
          -81.82856435039426,
          -82.73727380748332,
          -81.94523584207799,
          -82.2008327883264,
          -81.18894034382936,
          -82.66979300595753,
          -82.12238635782876,
          -83.80000758858368,
          -84.57371574623055,
          -83.58139749885216,
          -84.24981758769205,
          -83.2297757190122,
          -82.39298704394245,
          -83.81292302124594,
          -84.472160551569,
          -85.12802445980722,
          -84.87181143440311,
          -85.1706422001057,
          -87.19765535448991,
          -88.52318883518363,
          -90.44918492267637,
          -88.83144096559901,
          -90.1494086034513,
          -89.92292614548225,
          -91.44113675281997,
          -90.75576171168893,
          -89.92915791891171,
          -89.74622589167257,
          -89.94215860314262,
          -87.92279945185624,
          -86.52763602234322,
          -85.70067938416237,
          -88.14022708288066,
          -87.99265561350397,
          -89.66500063399872,
          -89.6074485288578,
          -89.17360306306409,
          -89.60101618861172,
          -89.01435182485692,
          -90.36165935365361,
          -90.55721906036516,
          -90.59312475405422,
          -90.53107199728515,
          -89.8292449316006,
          -88.83577222838588,
          -88.72295580725087,
          -89.02605735579128,
          -88.54684628590097,
          -88.94092105315924,
          -90.49501443981175,
          -91.54308405005767,
          -92.2073614050034,
          -92.80925245770932,
          -92.86368618660933,
          -91.26692320797312,
          -91.1892622617839,
          -91.25016568542256,
          -90.9900390428726,
          -91.94441927419216,
          -92.35048679546706,
          -93.92941949208148,
          -92.87175925266179,
          -92.09072736967398,
          -92.31265391133232,
          -92.29146520659503,
          -93.104878575438,
          -92.37304138736104,
          -93.23101561060992,
          -92.8612688998875,
          -93.09431935155108,
          -92.04956507423978,
          -91.04871657486949,
          -91.01614731613729,
          -91.41420889078263,
          -91.03807967613218,
          -91.5636971500736,
          -92.26725729989947,
          -92.55564958879349,
          -92.43160209847547,
          -91.62373263018546,
          -91.2546331484139,
          -91.21348713404689,
          -91.55876446140317,
          -92.4698998299444,
          -92.42833096216613,
          -92.22710954062016,
          -92.52759690528933,
          -92.58702197895698,
          -92.24806520802399,
          -92.7815657796411,
          -93.36571199953906,
          -92.73465879882504,
          -93.28722258931903,
          -92.75274432224649,
          -92.25763522950304,
          -92.18325122583258,
          -92.88616140523773,
          -93.56875746428514,
          -92.36519181338276,
          -91.6452895151431,
          -91.55530293469216,
          -91.35828775699757,
          -90.06973895324282,
          -92.53509868630624,
          -93.07365700521252,
          -92.56754973423946,
          -92.51898037999648,
          -91.3575494758317,
          -92.52268341174832,
          -92.06239885418397,
          -93.3231765319184,
          -92.65525340895083,
          -93.29330211481191,
          -92.29841483686134,
          -92.67641896661708,
          -93.22700931186611,
          -93.19010420875604,
          -93.21245373353607,
          -92.91444534670993,
          -93.07547102788364,
          -92.68719770316218,
          -94.3061327455977,
          -93.45254749534236,
          -94.11951085065337,
          -94.30750067218501,
          -93.7506833241031,
          -93.45907673514351,
          -93.86894832487097
         ],
         "yaxis": "y"
        },
        {
         "hovertemplate": "Pretraining<br>Length=80<br>Adjusted Timesteps=%{x}<br>Mean Episode Reward per Agent=%{y}<extra></extra>",
         "legendgroup": "80",
         "line": {
          "color": "#FF9900",
          "dash": "solid",
          "shape": "spline"
         },
         "marker": {
          "symbol": "circle"
         },
         "mode": "lines",
         "name": "80",
         "orientation": "v",
         "showlegend": true,
         "type": "scatter",
         "x": [
          40,
          41,
          42,
          43,
          44,
          45,
          46,
          47,
          48,
          49,
          50,
          51,
          52,
          53,
          54,
          55,
          56,
          57,
          58,
          59,
          60,
          61,
          62,
          63,
          64,
          65,
          66,
          67,
          68,
          69,
          70,
          71,
          72,
          73,
          74,
          75,
          76,
          77,
          78,
          79,
          80,
          81,
          82,
          83,
          84,
          85,
          86,
          87,
          88,
          89,
          90,
          91,
          92,
          93,
          94,
          95,
          96,
          97,
          98,
          99,
          100,
          101,
          102,
          103,
          104,
          105,
          106,
          107,
          108,
          109,
          110,
          111,
          112,
          113,
          114,
          115,
          116,
          117,
          118,
          119,
          120,
          121,
          122,
          123,
          124,
          125,
          126,
          127,
          128,
          129,
          130,
          131,
          132,
          133,
          134,
          135,
          136,
          137,
          138,
          139,
          140,
          141,
          142,
          143,
          144,
          145,
          146,
          147,
          148,
          149,
          150,
          151,
          152,
          153,
          154,
          155,
          156,
          157,
          158,
          159
         ],
         "xaxis": "x",
         "y": [
          -102.8317269816678,
          -102.80108405518725,
          -102.65704064145287,
          -98.31841401307126,
          -91.94467796216702,
          -89.39762470783698,
          -87.29020872664094,
          -87.42900447812826,
          -88.8290129703327,
          -88.10994591124953,
          -88.81484030120752,
          -88.13646769566898,
          -88.04123075716528,
          -87.2424449235439,
          -88.35163347289719,
          -88.35639907994343,
          -87.38276388183886,
          -87.50390298725776,
          -87.27018763406535,
          -87.17029414032534,
          -87.94215408131247,
          -88.49606219201421,
          -86.74531578874787,
          -86.15945655226501,
          -85.39704585680464,
          -83.51600358772178,
          -84.41369374168163,
          -85.04863867634208,
          -86.32893843275859,
          -86.38699981243147,
          -82.86566971642686,
          -83.41228178994267,
          -82.38795060843098,
          -84.29327700144833,
          -86.86076519304251,
          -85.78551850448265,
          -84.47770608533257,
          -84.02918598665524,
          -86.58019430231369,
          -88.31312027684096,
          -88.10198927180159,
          -88.68569071286306,
          -88.57231881398297,
          -87.41817008766772,
          -86.78034870639438,
          -86.06154747405999,
          -84.96132561218123,
          -83.8857434854098,
          -84.71105586189164,
          -85.32957397156386,
          -84.65221524838265,
          -86.00421735586987,
          -87.57757661343173,
          -88.13653641403964,
          -89.04421169160825,
          -90.04414587796319,
          -87.23979221667392,
          -85.72205185272391,
          -87.13247383006436,
          -88.25960112141016,
          -89.65016839099891,
          -88.77119987319004,
          -88.80714677878629,
          -87.63541850012443,
          -86.52614496180614,
          -86.22682625064215,
          -86.7402674823602,
          -87.13033569530215,
          -85.80566673962208,
          -85.34340953568065,
          -88.1354580548923,
          -89.24680635695223,
          -88.77767245249963,
          -88.31163622798655,
          -88.64957718478915,
          -89.13982835603669,
          -88.6830018708282,
          -88.50473767355301,
          -87.79787492072772,
          -87.61038246597845,
          -87.99196521082969,
          -89.28358593237606,
          -89.80296025033601,
          -89.6262946272093,
          -89.00732824454636,
          -89.7638067141166,
          -90.3043690031756,
          -89.47343387591005,
          -88.0388335272179,
          -90.7012366086041,
          -91.1336955256631,
          -91.37821540311025,
          -91.21123198716046,
          -90.41775912318704,
          -90.97599097160567,
          -90.1567607151419,
          -91.8797880940455,
          -92.79245851215133,
          -92.70509258453261,
          -93.51973510434509,
          -93.02143862274905,
          -92.79912286552393,
          -92.20592908893548,
          -93.05148121815196,
          -94.5823121019372,
          -93.55024035811483,
          -91.36808313454286,
          -88.86024022168678,
          -89.5691743533861,
          -90.78891251977424,
          -90.95660221870084,
          -91.52670017587168,
          -91.75626309400441,
          -91.23124489871364,
          -91.42414361072845,
          -91.67391540615911,
          -90.7708634082196,
          -89.37253873782853,
          -91.36553480660196,
          -92.93344681914132
         ],
         "yaxis": "y"
        },
        {
         "hovertemplate": "Pretraining<br>Length=120<br>Adjusted Timesteps=%{x}<br>Mean Episode Reward per Agent=%{y}<extra></extra>",
         "legendgroup": "120",
         "line": {
          "color": "#109618",
          "dash": "solid",
          "shape": "spline"
         },
         "marker": {
          "symbol": "circle"
         },
         "mode": "lines",
         "name": "120",
         "orientation": "v",
         "showlegend": true,
         "type": "scatter",
         "x": [
          60,
          61,
          62,
          63,
          64,
          65,
          66,
          67,
          68,
          69,
          70,
          71,
          72,
          73,
          74,
          75,
          76,
          77,
          78,
          79,
          80,
          81,
          82,
          83,
          84,
          85,
          86,
          87,
          88,
          89,
          90,
          91,
          92,
          93,
          94,
          95,
          96,
          97,
          98,
          99,
          100,
          101,
          102,
          103,
          104,
          105,
          106,
          107,
          108,
          109,
          110,
          111,
          112,
          113,
          114,
          115,
          116,
          117,
          118,
          119,
          120,
          121,
          122,
          123,
          124,
          125,
          126,
          127,
          128,
          129,
          130,
          131,
          132,
          133,
          134,
          135,
          136,
          137,
          138,
          139
         ],
         "xaxis": "x",
         "y": [
          -102.74487515635278,
          -102.81153223169932,
          -102.84532505573588,
          -100.27514599726844,
          -94.25463573791248,
          -91.9793925579,
          -91.26941519605589,
          -91.57788868139112,
          -91.19370458605113,
          -90.51115422907468,
          -90.31725670045628,
          -89.47702406576202,
          -89.76169605655011,
          -92.18704373924992,
          -91.98850554790553,
          -90.82338550177724,
          -90.584304128076,
          -90.14204179615112,
          -89.81260379423658,
          -89.16436988051267,
          -88.39476168949655,
          -89.82959031029539,
          -91.87070615411157,
          -91.70491793986669,
          -91.02704542434064,
          -90.45219158008733,
          -89.48531846853344,
          -89.5140463346993,
          -91.02405570055066,
          -91.82745561946463,
          -91.40174659053449,
          -91.41299093364611,
          -91.51187243392106,
          -91.4853476716538,
          -93.13329221371974,
          -90.69501492962176,
          -90.44570706534144,
          -90.96303940945256,
          -91.64288465535842,
          -91.99901734048399,
          -91.46934665504322,
          -90.64312991355584,
          -89.15713693768966,
          -89.43006035253302,
          -89.5766116526726,
          -91.51307506942385,
          -91.5758540453525,
          -90.75520052072036,
          -91.14786466370359,
          -89.21671033337518,
          -89.36663364922585,
          -89.37254418353768,
          -89.78547950395595,
          -90.89417631514198,
          -90.84673929021697,
          -90.34984612410155,
          -90.45274720611974,
          -89.41382712903714,
          -90.80849076375787,
          -90.19769870686373,
          -90.39186830183272,
          -90.48826308358367,
          -91.04318606923572,
          -90.71683576770695,
          -89.96950958343423,
          -90.50091510590799,
          -90.39015934343162,
          -91.18744439654178,
          -92.0158821871094,
          -92.13934828593092,
          -92.97951898886892,
          -91.43765296797139,
          -91.05640163438291,
          -89.24290861910984,
          -89.7268358272587,
          -88.9946750772648,
          -89.1143984394851,
          -88.52209728132,
          -89.26853496263463,
          -89.53276818536607
         ],
         "yaxis": "y"
        },
        {
         "hovertemplate": "Pretraining<br>Length=160<br>Adjusted Timesteps=%{x}<br>Mean Episode Reward per Agent=%{y}<extra></extra>",
         "legendgroup": "160",
         "line": {
          "color": "#990099",
          "dash": "solid",
          "shape": "spline"
         },
         "marker": {
          "symbol": "circle"
         },
         "mode": "lines",
         "name": "160",
         "orientation": "v",
         "showlegend": true,
         "type": "scatter",
         "x": [
          80,
          81,
          82,
          83,
          84,
          85,
          86,
          87,
          88,
          89,
          90,
          91,
          92,
          93,
          94,
          95,
          96,
          97,
          98,
          99,
          100,
          101,
          102,
          103,
          104,
          105,
          106,
          107,
          108,
          109,
          110,
          111,
          112,
          113,
          114,
          115,
          116,
          117,
          118,
          119
         ],
         "xaxis": "x",
         "y": [
          -102.75871240292508,
          -102.70963663987564,
          -102.74170003885119,
          -98.30807046821074,
          -93.02345055672053,
          -90.35158990424554,
          -88.15521717142269,
          -90.05105378124343,
          -91.75079820024344,
          -91.76698228756267,
          -92.47750454268711,
          -92.79844510501653,
          -91.57962999974661,
          -90.88365864969374,
          -90.29620445350555,
          -90.05335603629048,
          -90.3219326714403,
          -91.32704665938459,
          -91.67407361115654,
          -90.75773092304355,
          -90.61887143352656,
          -91.58786714642247,
          -91.30493581774081,
          -90.80739454682033,
          -90.46496097650551,
          -91.23869483259737,
          -90.87177707949061,
          -89.78038166242308,
          -89.67204336552554,
          -89.95458271085121,
          -89.71836408532666,
          -91.0119204194139,
          -91.7065004510183,
          -92.06668079311075,
          -91.00927331135954,
          -92.43779455648381,
          -92.39500785363111,
          -92.42788409457582,
          -92.37046318507224,
          -91.71051595988256
         ],
         "yaxis": "y"
        },
        {
         "hovertemplate": "Pretraining<br>Length=200<br>Adjusted Timesteps=%{x}<br>Mean Episode Reward per Agent=%{y}<extra></extra>",
         "legendgroup": "200",
         "line": {
          "color": "#0099C6",
          "dash": "solid",
          "shape": "spline"
         },
         "marker": {
          "symbol": "circle"
         },
         "mode": "lines",
         "name": "200",
         "orientation": "v",
         "showlegend": true,
         "type": "scatter",
         "x": [
          100
         ],
         "xaxis": "x",
         "y": [
          -102.83397421448565
         ],
         "yaxis": "y"
        }
       ],
       "layout": {
        "height": 450,
        "legend": {
         "title": {
          "text": "Pretraining<br>Length"
         },
         "tracegroupgap": 0
        },
        "template": {
         "data": {
          "bar": [
           {
            "error_x": {
             "color": "#2a3f5f"
            },
            "error_y": {
             "color": "#2a3f5f"
            },
            "marker": {
             "line": {
              "color": "#E5ECF6",
              "width": 0.5
             },
             "pattern": {
              "fillmode": "overlay",
              "size": 10,
              "solidity": 0.2
             }
            },
            "type": "bar"
           }
          ],
          "barpolar": [
           {
            "marker": {
             "line": {
              "color": "#E5ECF6",
              "width": 0.5
             },
             "pattern": {
              "fillmode": "overlay",
              "size": 10,
              "solidity": 0.2
             }
            },
            "type": "barpolar"
           }
          ],
          "carpet": [
           {
            "aaxis": {
             "endlinecolor": "#2a3f5f",
             "gridcolor": "white",
             "linecolor": "white",
             "minorgridcolor": "white",
             "startlinecolor": "#2a3f5f"
            },
            "baxis": {
             "endlinecolor": "#2a3f5f",
             "gridcolor": "white",
             "linecolor": "white",
             "minorgridcolor": "white",
             "startlinecolor": "#2a3f5f"
            },
            "type": "carpet"
           }
          ],
          "choropleth": [
           {
            "colorbar": {
             "outlinewidth": 0,
             "ticks": ""
            },
            "type": "choropleth"
           }
          ],
          "contour": [
           {
            "colorbar": {
             "outlinewidth": 0,
             "ticks": ""
            },
            "colorscale": [
             [
              0,
              "#0d0887"
             ],
             [
              0.1111111111111111,
              "#46039f"
             ],
             [
              0.2222222222222222,
              "#7201a8"
             ],
             [
              0.3333333333333333,
              "#9c179e"
             ],
             [
              0.4444444444444444,
              "#bd3786"
             ],
             [
              0.5555555555555556,
              "#d8576b"
             ],
             [
              0.6666666666666666,
              "#ed7953"
             ],
             [
              0.7777777777777778,
              "#fb9f3a"
             ],
             [
              0.8888888888888888,
              "#fdca26"
             ],
             [
              1,
              "#f0f921"
             ]
            ],
            "type": "contour"
           }
          ],
          "contourcarpet": [
           {
            "colorbar": {
             "outlinewidth": 0,
             "ticks": ""
            },
            "type": "contourcarpet"
           }
          ],
          "heatmap": [
           {
            "colorbar": {
             "outlinewidth": 0,
             "ticks": ""
            },
            "colorscale": [
             [
              0,
              "#0d0887"
             ],
             [
              0.1111111111111111,
              "#46039f"
             ],
             [
              0.2222222222222222,
              "#7201a8"
             ],
             [
              0.3333333333333333,
              "#9c179e"
             ],
             [
              0.4444444444444444,
              "#bd3786"
             ],
             [
              0.5555555555555556,
              "#d8576b"
             ],
             [
              0.6666666666666666,
              "#ed7953"
             ],
             [
              0.7777777777777778,
              "#fb9f3a"
             ],
             [
              0.8888888888888888,
              "#fdca26"
             ],
             [
              1,
              "#f0f921"
             ]
            ],
            "type": "heatmap"
           }
          ],
          "heatmapgl": [
           {
            "colorbar": {
             "outlinewidth": 0,
             "ticks": ""
            },
            "colorscale": [
             [
              0,
              "#0d0887"
             ],
             [
              0.1111111111111111,
              "#46039f"
             ],
             [
              0.2222222222222222,
              "#7201a8"
             ],
             [
              0.3333333333333333,
              "#9c179e"
             ],
             [
              0.4444444444444444,
              "#bd3786"
             ],
             [
              0.5555555555555556,
              "#d8576b"
             ],
             [
              0.6666666666666666,
              "#ed7953"
             ],
             [
              0.7777777777777778,
              "#fb9f3a"
             ],
             [
              0.8888888888888888,
              "#fdca26"
             ],
             [
              1,
              "#f0f921"
             ]
            ],
            "type": "heatmapgl"
           }
          ],
          "histogram": [
           {
            "marker": {
             "pattern": {
              "fillmode": "overlay",
              "size": 10,
              "solidity": 0.2
             }
            },
            "type": "histogram"
           }
          ],
          "histogram2d": [
           {
            "colorbar": {
             "outlinewidth": 0,
             "ticks": ""
            },
            "colorscale": [
             [
              0,
              "#0d0887"
             ],
             [
              0.1111111111111111,
              "#46039f"
             ],
             [
              0.2222222222222222,
              "#7201a8"
             ],
             [
              0.3333333333333333,
              "#9c179e"
             ],
             [
              0.4444444444444444,
              "#bd3786"
             ],
             [
              0.5555555555555556,
              "#d8576b"
             ],
             [
              0.6666666666666666,
              "#ed7953"
             ],
             [
              0.7777777777777778,
              "#fb9f3a"
             ],
             [
              0.8888888888888888,
              "#fdca26"
             ],
             [
              1,
              "#f0f921"
             ]
            ],
            "type": "histogram2d"
           }
          ],
          "histogram2dcontour": [
           {
            "colorbar": {
             "outlinewidth": 0,
             "ticks": ""
            },
            "colorscale": [
             [
              0,
              "#0d0887"
             ],
             [
              0.1111111111111111,
              "#46039f"
             ],
             [
              0.2222222222222222,
              "#7201a8"
             ],
             [
              0.3333333333333333,
              "#9c179e"
             ],
             [
              0.4444444444444444,
              "#bd3786"
             ],
             [
              0.5555555555555556,
              "#d8576b"
             ],
             [
              0.6666666666666666,
              "#ed7953"
             ],
             [
              0.7777777777777778,
              "#fb9f3a"
             ],
             [
              0.8888888888888888,
              "#fdca26"
             ],
             [
              1,
              "#f0f921"
             ]
            ],
            "type": "histogram2dcontour"
           }
          ],
          "mesh3d": [
           {
            "colorbar": {
             "outlinewidth": 0,
             "ticks": ""
            },
            "type": "mesh3d"
           }
          ],
          "parcoords": [
           {
            "line": {
             "colorbar": {
              "outlinewidth": 0,
              "ticks": ""
             }
            },
            "type": "parcoords"
           }
          ],
          "pie": [
           {
            "automargin": true,
            "type": "pie"
           }
          ],
          "scatter": [
           {
            "fillpattern": {
             "fillmode": "overlay",
             "size": 10,
             "solidity": 0.2
            },
            "type": "scatter"
           }
          ],
          "scatter3d": [
           {
            "line": {
             "colorbar": {
              "outlinewidth": 0,
              "ticks": ""
             }
            },
            "marker": {
             "colorbar": {
              "outlinewidth": 0,
              "ticks": ""
             }
            },
            "type": "scatter3d"
           }
          ],
          "scattercarpet": [
           {
            "marker": {
             "colorbar": {
              "outlinewidth": 0,
              "ticks": ""
             }
            },
            "type": "scattercarpet"
           }
          ],
          "scattergeo": [
           {
            "marker": {
             "colorbar": {
              "outlinewidth": 0,
              "ticks": ""
             }
            },
            "type": "scattergeo"
           }
          ],
          "scattergl": [
           {
            "marker": {
             "colorbar": {
              "outlinewidth": 0,
              "ticks": ""
             }
            },
            "type": "scattergl"
           }
          ],
          "scattermapbox": [
           {
            "marker": {
             "colorbar": {
              "outlinewidth": 0,
              "ticks": ""
             }
            },
            "type": "scattermapbox"
           }
          ],
          "scatterpolar": [
           {
            "marker": {
             "colorbar": {
              "outlinewidth": 0,
              "ticks": ""
             }
            },
            "type": "scatterpolar"
           }
          ],
          "scatterpolargl": [
           {
            "marker": {
             "colorbar": {
              "outlinewidth": 0,
              "ticks": ""
             }
            },
            "type": "scatterpolargl"
           }
          ],
          "scatterternary": [
           {
            "marker": {
             "colorbar": {
              "outlinewidth": 0,
              "ticks": ""
             }
            },
            "type": "scatterternary"
           }
          ],
          "surface": [
           {
            "colorbar": {
             "outlinewidth": 0,
             "ticks": ""
            },
            "colorscale": [
             [
              0,
              "#0d0887"
             ],
             [
              0.1111111111111111,
              "#46039f"
             ],
             [
              0.2222222222222222,
              "#7201a8"
             ],
             [
              0.3333333333333333,
              "#9c179e"
             ],
             [
              0.4444444444444444,
              "#bd3786"
             ],
             [
              0.5555555555555556,
              "#d8576b"
             ],
             [
              0.6666666666666666,
              "#ed7953"
             ],
             [
              0.7777777777777778,
              "#fb9f3a"
             ],
             [
              0.8888888888888888,
              "#fdca26"
             ],
             [
              1,
              "#f0f921"
             ]
            ],
            "type": "surface"
           }
          ],
          "table": [
           {
            "cells": {
             "fill": {
              "color": "#EBF0F8"
             },
             "line": {
              "color": "white"
             }
            },
            "header": {
             "fill": {
              "color": "#C8D4E3"
             },
             "line": {
              "color": "white"
             }
            },
            "type": "table"
           }
          ]
         },
         "layout": {
          "annotationdefaults": {
           "arrowcolor": "#2a3f5f",
           "arrowhead": 0,
           "arrowwidth": 1
          },
          "autotypenumbers": "strict",
          "coloraxis": {
           "colorbar": {
            "outlinewidth": 0,
            "ticks": ""
           }
          },
          "colorscale": {
           "diverging": [
            [
             0,
             "#8e0152"
            ],
            [
             0.1,
             "#c51b7d"
            ],
            [
             0.2,
             "#de77ae"
            ],
            [
             0.3,
             "#f1b6da"
            ],
            [
             0.4,
             "#fde0ef"
            ],
            [
             0.5,
             "#f7f7f7"
            ],
            [
             0.6,
             "#e6f5d0"
            ],
            [
             0.7,
             "#b8e186"
            ],
            [
             0.8,
             "#7fbc41"
            ],
            [
             0.9,
             "#4d9221"
            ],
            [
             1,
             "#276419"
            ]
           ],
           "sequential": [
            [
             0,
             "#0d0887"
            ],
            [
             0.1111111111111111,
             "#46039f"
            ],
            [
             0.2222222222222222,
             "#7201a8"
            ],
            [
             0.3333333333333333,
             "#9c179e"
            ],
            [
             0.4444444444444444,
             "#bd3786"
            ],
            [
             0.5555555555555556,
             "#d8576b"
            ],
            [
             0.6666666666666666,
             "#ed7953"
            ],
            [
             0.7777777777777778,
             "#fb9f3a"
            ],
            [
             0.8888888888888888,
             "#fdca26"
            ],
            [
             1,
             "#f0f921"
            ]
           ],
           "sequentialminus": [
            [
             0,
             "#0d0887"
            ],
            [
             0.1111111111111111,
             "#46039f"
            ],
            [
             0.2222222222222222,
             "#7201a8"
            ],
            [
             0.3333333333333333,
             "#9c179e"
            ],
            [
             0.4444444444444444,
             "#bd3786"
            ],
            [
             0.5555555555555556,
             "#d8576b"
            ],
            [
             0.6666666666666666,
             "#ed7953"
            ],
            [
             0.7777777777777778,
             "#fb9f3a"
            ],
            [
             0.8888888888888888,
             "#fdca26"
            ],
            [
             1,
             "#f0f921"
            ]
           ]
          },
          "colorway": [
           "#636efa",
           "#EF553B",
           "#00cc96",
           "#ab63fa",
           "#FFA15A",
           "#19d3f3",
           "#FF6692",
           "#B6E880",
           "#FF97FF",
           "#FECB52"
          ],
          "font": {
           "color": "#2a3f5f"
          },
          "geo": {
           "bgcolor": "white",
           "lakecolor": "white",
           "landcolor": "#E5ECF6",
           "showlakes": true,
           "showland": true,
           "subunitcolor": "white"
          },
          "hoverlabel": {
           "align": "left"
          },
          "hovermode": "closest",
          "mapbox": {
           "style": "light"
          },
          "paper_bgcolor": "white",
          "plot_bgcolor": "#E5ECF6",
          "polar": {
           "angularaxis": {
            "gridcolor": "white",
            "linecolor": "white",
            "ticks": ""
           },
           "bgcolor": "#E5ECF6",
           "radialaxis": {
            "gridcolor": "white",
            "linecolor": "white",
            "ticks": ""
           }
          },
          "scene": {
           "xaxis": {
            "backgroundcolor": "#E5ECF6",
            "gridcolor": "white",
            "gridwidth": 2,
            "linecolor": "white",
            "showbackground": true,
            "ticks": "",
            "zerolinecolor": "white"
           },
           "yaxis": {
            "backgroundcolor": "#E5ECF6",
            "gridcolor": "white",
            "gridwidth": 2,
            "linecolor": "white",
            "showbackground": true,
            "ticks": "",
            "zerolinecolor": "white"
           },
           "zaxis": {
            "backgroundcolor": "#E5ECF6",
            "gridcolor": "white",
            "gridwidth": 2,
            "linecolor": "white",
            "showbackground": true,
            "ticks": "",
            "zerolinecolor": "white"
           }
          },
          "shapedefaults": {
           "line": {
            "color": "#2a3f5f"
           }
          },
          "ternary": {
           "aaxis": {
            "gridcolor": "white",
            "linecolor": "white",
            "ticks": ""
           },
           "baxis": {
            "gridcolor": "white",
            "linecolor": "white",
            "ticks": ""
           },
           "bgcolor": "#E5ECF6",
           "caxis": {
            "gridcolor": "white",
            "linecolor": "white",
            "ticks": ""
           }
          },
          "title": {
           "x": 0.05
          },
          "xaxis": {
           "automargin": true,
           "gridcolor": "white",
           "linecolor": "white",
           "ticks": "",
           "title": {
            "standoff": 15
           },
           "zerolinecolor": "white",
           "zerolinewidth": 2
          },
          "yaxis": {
           "automargin": true,
           "gridcolor": "white",
           "linecolor": "white",
           "ticks": "",
           "title": {
            "standoff": 15
           },
           "zerolinecolor": "white",
           "zerolinewidth": 2
          }
         }
        },
        "title": {
         "text": "6 Agent Task with 3 Agent Pretraining"
        },
        "width": 700,
        "xaxis": {
         "anchor": "y",
         "domain": [
          0,
          1
         ],
         "title": {
          "text": "Adjusted Timesteps"
         }
        },
        "yaxis": {
         "anchor": "x",
         "domain": [
          0,
          1
         ],
         "title": {
          "text": "Mean Episode Reward per Agent"
         }
        }
       }
      }
     },
     "metadata": {},
     "output_type": "display_data"
    }
   ],
   "source": [
    "def plot_walker_retrain(n, path='walker-out.csv'):\n",
    "    pre_agents = 3\n",
    "    task_agents = n\n",
    "\n",
    "    ts_df = pd.read_csv(path)\n",
    "    re = ts_df\n",
    "    #re = ts_df[ts_df[\"pretrained_steps\"]>0]\n",
    "    #re = re[re[\"timestep\"]>10]\n",
    "    d1=(re[re[\"num_agents\"]==task_agents]\n",
    "        .groupby(['pretrained_steps','timestep'])[\"per_agent_erm\"]\n",
    "        .mean()\n",
    "        .reset_index()\n",
    "        )\n",
    "    d1['timestep'] = d1['timestep'] - (d1['pretrained_steps']*(1-pre_agents/task_agents))\n",
    "\n",
    "    fig = px.line(\n",
    "        d1,\n",
    "        y=\"per_agent_erm\", \n",
    "        x=\"timestep\", color=\"pretrained_steps\", line_group=\"pretrained_steps\",\n",
    "        color_discrete_sequence=px.colors.qualitative.G10, line_shape=\"spline\", \n",
    "        render_mode=\"svg\", \n",
    "        title=f\"{task_agents} Agent Task with {pre_agents} Agent Pretraining\",\n",
    "        labels={\n",
    "            \"per_agent_erm\" : \"Mean Episode Reward per Agent\", \n",
    "            \"timestep\": \"Adjusted Timesteps\",\n",
    "            \"pretrained_steps\": \"Pretraining<br>Length\"})\n",
    "\n",
    "    \"\"\"\n",
    "    base_x,base_y = baseline_prediction_interval(task_agents)\n",
    "    fig.add_trace(go.Scatter(\n",
    "        x=base_x,\n",
    "        y=base_y,\n",
    "        fill='toself',\n",
    "        fillcolor='rgba(0,100,80,0.2)',  # semi-transparent fill\n",
    "        line=dict(color='rgba(255,255,255,0)'),\n",
    "        name=f'Baseline:<br>{task_agents} Agent 95%<br>Prediction<br>Interval',\n",
    "        hoverinfo=\"skip\"\n",
    "    ))\n",
    "    \"\"\"\n",
    "\n",
    "    fig.update_layout(width=700, height=450,)\n",
    "\n",
    "    fig.show()\n",
    "    fig.write_image(f\"walker_{n}task.png\", width=700, height=450)\n",
    "\n",
    "plot_walker_retrain(6)"
   ]
  },
  {
   "cell_type": "code",
   "execution_count": 100,
   "metadata": {},
   "outputs": [
    {
     "data": {
      "application/vnd.plotly.v1+json": {
       "config": {
        "plotlyServerURL": "https://plot.ly"
       },
       "data": [
        {
         "fill": "tonexty",
         "fillcolor": "rgba(0,100,80,0.2)",
         "hoverinfo": "skip",
         "line": {
          "color": "rgba(255,255,255,0)"
         },
         "name": "95% Prediction Interval",
         "type": "scatter",
         "x": [
          0,
          1,
          2,
          3,
          4,
          5,
          6,
          7,
          8,
          9,
          10,
          11,
          12,
          13,
          14,
          15,
          16,
          17,
          18,
          19,
          20,
          21,
          22,
          23,
          24,
          25,
          26,
          27,
          28,
          29,
          30,
          31,
          32,
          33,
          34,
          35,
          36,
          37,
          38,
          39,
          40,
          41,
          42,
          43,
          44,
          45,
          46,
          47,
          48,
          49,
          50,
          51,
          52,
          53,
          54,
          55,
          56,
          57,
          58,
          59,
          60,
          61,
          62,
          63,
          64,
          65,
          66,
          67,
          68,
          69,
          70,
          71,
          72,
          73,
          74,
          75,
          76,
          77,
          78,
          79,
          80,
          81,
          82,
          83,
          84,
          85,
          86,
          87,
          88,
          89,
          90,
          91,
          92,
          93,
          94,
          95,
          96,
          97,
          98,
          99,
          100,
          101,
          102,
          103,
          104,
          105,
          106,
          107,
          108,
          109,
          110,
          111,
          112,
          113,
          114,
          115,
          116,
          117,
          118,
          119,
          120,
          121,
          122,
          123,
          124,
          125,
          126,
          127,
          128,
          129,
          130,
          131,
          132,
          133,
          134,
          135,
          136,
          137,
          138,
          139,
          140,
          141,
          142,
          143,
          144,
          145,
          146,
          147,
          148,
          149,
          150,
          151,
          152,
          153,
          154,
          155,
          156,
          157,
          158,
          159,
          160,
          161,
          162,
          163,
          164,
          165,
          166,
          167,
          168,
          169,
          170,
          171,
          172,
          173,
          174,
          175,
          176,
          177,
          178,
          179,
          180,
          181,
          182,
          183,
          184,
          185,
          186,
          187,
          188,
          189,
          190,
          191,
          192,
          193,
          194,
          195,
          196,
          197,
          198,
          199,
          200,
          200,
          199,
          198,
          197,
          196,
          195,
          194,
          193,
          192,
          191,
          190,
          189,
          188,
          187,
          186,
          185,
          184,
          183,
          182,
          181,
          180,
          179,
          178,
          177,
          176,
          175,
          174,
          173,
          172,
          171,
          170,
          169,
          168,
          167,
          166,
          165,
          164,
          163,
          162,
          161,
          160,
          159,
          158,
          157,
          156,
          155,
          154,
          153,
          152,
          151,
          150,
          149,
          148,
          147,
          146,
          145,
          144,
          143,
          142,
          141,
          140,
          139,
          138,
          137,
          136,
          135,
          134,
          133,
          132,
          131,
          130,
          129,
          128,
          127,
          126,
          125,
          124,
          123,
          122,
          121,
          120,
          119,
          118,
          117,
          116,
          115,
          114,
          113,
          112,
          111,
          110,
          109,
          108,
          107,
          106,
          105,
          104,
          103,
          102,
          101,
          100,
          99,
          98,
          97,
          96,
          95,
          94,
          93,
          92,
          91,
          90,
          89,
          88,
          87,
          86,
          85,
          84,
          83,
          82,
          81,
          80,
          79,
          78,
          77,
          76,
          75,
          74,
          73,
          72,
          71,
          70,
          69,
          68,
          67,
          66,
          65,
          64,
          63,
          62,
          61,
          60,
          59,
          58,
          57,
          56,
          55,
          54,
          53,
          52,
          51,
          50,
          49,
          48,
          47,
          46,
          45,
          44,
          43,
          42,
          41,
          40,
          39,
          38,
          37,
          36,
          35,
          34,
          33,
          32,
          31,
          30,
          29,
          28,
          27,
          26,
          25,
          24,
          23,
          22,
          21,
          20,
          19,
          18,
          17,
          16,
          15,
          14,
          13,
          12,
          11,
          10,
          9,
          8,
          7,
          6,
          5,
          4,
          3,
          2,
          1,
          0
         ],
         "y": [
          -102.30479887334111,
          -102.25224782755907,
          -102.22626754237217,
          -101.86231834026933,
          -99.84486515340114,
          -97.86417385740482,
          -97.29058769360334,
          -97.25594303196794,
          -96.44349176381927,
          -97.26625114543927,
          -97.72878293659774,
          -97.31365000502298,
          -95.77241384875454,
          -94.53122584182056,
          -92.66112013220182,
          -90.7365376099141,
          -91.18651603887682,
          -88.68891623497684,
          -88.59498663390677,
          -86.57107402322664,
          -85.77819295466276,
          -84.85567704484323,
          -83.36160821826303,
          -82.89360125782957,
          -84.37451714901613,
          -84.31919386595978,
          -83.62614985998712,
          -82.6549290825245,
          -81.12286359526504,
          -81.11550343865211,
          -79.33228966307364,
          -78.68344489658907,
          -76.22189154917339,
          -75.3519740402918,
          -75.62806794614272,
          -75.13711666876203,
          -74.26965078470799,
          -73.53167849258536,
          -72.32581637067312,
          -70.67661269425668,
          -70.13790629536744,
          -69.37582131088745,
          -67.73986760105225,
          -66.40283975095618,
          -64.46547337327647,
          -64.31477472521475,
          -64.59210866804708,
          -62.06459280896074,
          -61.50969653078201,
          -61.866602403936156,
          -61.95831588272736,
          -62.36721762389085,
          -62.559442771117574,
          -64.22672075004999,
          -62.677223518854504,
          -62.84207641428272,
          -61.23635174062991,
          -61.65832575648506,
          -61.76603360186064,
          -62.01620247296222,
          -60.78066541580992,
          -60.96686424953535,
          -63.15796753089772,
          -63.57365644168992,
          -63.63272823503638,
          -64.36280740446651,
          -65.06409854887859,
          -65.5382291241286,
          -65.61042787370977,
          -64.43920080685331,
          -64.71387283318865,
          -64.72166603028386,
          -64.23011008058756,
          -67.12751367050454,
          -67.60801343114498,
          -66.99544484914736,
          -66.48007749855482,
          -65.43978451573362,
          -63.62807651672675,
          -64.08573447968487,
          -62.61687837371764,
          -61.92369535222011,
          -60.07385341204841,
          -62.36423644908298,
          -63.37963695894334,
          -65.07626604093988,
          -66.90911488391657,
          -69.03570396161008,
          -69.35862891200931,
          -68.44730740743657,
          -68.76179471837315,
          -70.38016083272584,
          -71.46257921241308,
          -70.34912119710197,
          -70.76576484304844,
          -71.40342690412729,
          -71.55325498018968,
          -73.48192431744921,
          -74.7827717091701,
          -73.79568658024617,
          -73.92289349080299,
          -73.37656217946802,
          -73.2941171218381,
          -72.13749766757032,
          -70.92722260826348,
          -71.70490075996025,
          -71.26786034957223,
          -71.78860739124549,
          -71.3733169368189,
          -70.2312268037773,
          -69.04912677295664,
          -70.4746329757829,
          -71.19424534131632,
          -70.38439466850906,
          -71.85011702700446,
          -73.28625242487232,
          -73.79640510563812,
          -73.60827308583363,
          -75.58757612336444,
          -75.33158189260044,
          -75.19723158796901,
          -75.35448218606422,
          -75.36097694774261,
          -73.08835603535954,
          -73.86594365649324,
          -72.84021494500581,
          -72.69251839178469,
          -74.34381348835723,
          -75.88505072582295,
          -77.51316662414948,
          -78.81451546555279,
          -76.07944349462488,
          -73.81565437960474,
          -72.97500811240386,
          -73.00229771865808,
          -72.8317535939562,
          -74.04948880991424,
          -76.63225061163226,
          -77.74524727627883,
          -79.15188382281326,
          -79.0859612681667,
          -77.27705003208649,
          -74.77452315211934,
          -74.67156230169255,
          -75.79394420205142,
          -76.18433511921083,
          -76.2242065493199,
          -75.69181100809341,
          -74.72867220936004,
          -75.76713747147262,
          -76.73123001486172,
          -78.00418757065418,
          -77.72530820545452,
          -76.46058777868532,
          -76.62481385370236,
          -76.30679249733834,
          -76.51819662208653,
          -77.50717189586341,
          -77.61962903515172,
          -77.94969145026955,
          -77.08589749970409,
          -76.37846960961528,
          -74.61660748616431,
          -75.16085542581344,
          -76.71304947713332,
          -77.07677400103977,
          -78.85062064328487,
          -78.58900035072614,
          -79.46667906728428,
          -78.13648129169573,
          -77.86103230871615,
          -78.83338001156174,
          -78.32613991711713,
          -78.33295722246811,
          -79.1768629399313,
          -78.55826744104677,
          -79.79916110960794,
          -79.32548067419789,
          -79.53669835806153,
          -77.73898912647768,
          -77.84032308803133,
          -77.22885696920183,
          -76.65263438685298,
          -78.88001580917444,
          -78.89942879629899,
          -79.71957183518286,
          -79.96684328107585,
          -80.82212202317936,
          -79.75995381905211,
          -80.63427699151909,
          -79.62558676066244,
          -77.99117263301056,
          -79.2768945814845,
          -80.73593803455984,
          -81.43137294761263,
          -79.53165901099761,
          -80.62930810690493,
          -81.16448901138766,
          -81.38758234419,
          -81.76826714366771,
          null,
          null,
          -98.14970079033179,
          -98.42732542307489,
          -98.63064407457416,
          -99.72440067625162,
          -99.89709796023139,
          -98.28007231749612,
          -97.35589804332415,
          -98.26219470276652,
          -101.65580225953312,
          -100.78839467740447,
          -100.59279696658477,
          -99.93799993280733,
          -98.87137951106783,
          -98.29765156336043,
          -96.70146767336898,
          -96.75621983756105,
          -97.56127298735734,
          -100.69701144600592,
          -100.64220978672732,
          -98.49034295741565,
          -99.07315201532116,
          -97.76330249357935,
          -97.83152881309799,
          -96.6220172364758,
          -98.16928710298082,
          -98.95891393367593,
          -100.41386570106184,
          -100.08286081602532,
          -99.06978522619617,
          -97.92555100455104,
          -97.89522504567887,
          -97.77873054427556,
          -98.89743048861286,
          -97.67569036103957,
          -98.73153568302668,
          -99.77839218982879,
          -100.68649559024489,
          -100.33021126807459,
          -98.4198770083539,
          -97.63559093103325,
          -98.09226479355745,
          -97.9270673056578,
          -98.2762285389998,
          -99.44956498780509,
          -99.50272341775619,
          -99.33484182331256,
          -98.93541293347477,
          -97.48845644601639,
          -97.75992876757326,
          -97.80886857266378,
          -98.02839818395212,
          -98.59289990425614,
          -97.45839357813314,
          -97.62789440223777,
          -97.37596103450628,
          -97.19582926348176,
          -98.20990005343981,
          -98.84988110191662,
          -97.73118611098724,
          -97.97637701658115,
          -98.94739791869779,
          -98.92156953063517,
          -99.38949846466986,
          -100.3094473079357,
          -100.01026894526424,
          -100.45624330271413,
          -99.93030209501723,
          -98.4349988703582,
          -95.37834514624353,
          -93.64691433079209,
          -94.65391395941316,
          -95.74883044069465,
          -96.35927893949739,
          -96.2983460931724,
          -96.60741136408726,
          -97.19020009711133,
          -97.20812312597707,
          -97.1753839742234,
          -97.12792995795502,
          -97.19146430034363,
          -96.20767958755664,
          -95.15797119731798,
          -97.13763431987233,
          -97.22292871627135,
          -99.83831794976456,
          -99.51906321821811,
          -99.28789742590521,
          -98.29240608483694,
          -97.56336740476655,
          -98.95892126679678,
          -99.64076764564717,
          -98.58752134349967,
          -98.26365097058716,
          -99.2864742048881,
          -98.23337145619743,
          -98.28937767314535,
          -98.81260783753648,
          -98.43463006046278,
          -97.35320980166797,
          -96.19137562801929,
          -95.40219254712524,
          -94.43057458631648,
          -93.69250140550629,
          -94.57501700939616,
          -95.457726328971,
          -96.02348639920486,
          -96.83375014937411,
          -96.37803564027526,
          -94.99122451640167,
          -96.11761786105251,
          -95.85480991582818,
          -95.86040406041924,
          -97.675812531678,
          -98.70399273267753,
          -99.08167333295893,
          -99.98013409561585,
          -97.86474320262742,
          -99.0604893883978,
          -98.72360794539091,
          -99.44434153559723,
          -97.7292677895366,
          -98.82088477056065,
          -98.55904901486049,
          -98.05949588651409,
          -95.92459437820409,
          -93.76456045296722,
          -95.39819351304173,
          -95.31331818653055,
          -95.2579353050415,
          -96.38117821505475,
          -97.1819393788764,
          -98.07602241877044,
          -100.41384528231944,
          -100.0739801415941,
          -102.44694302663052,
          -102.0064973918247,
          -101.017492839935,
          -101.12838164010999,
          -101.45681980552484,
          -102.3334124083216,
          -103.08818190717045,
          -102.60926776213643,
          -102.6534597276461,
          -103.91061028970697,
          -103.53393755598461,
          -104.3555735780096,
          -104.55106357731205,
          -105.94482361672956,
          -108.12049004095483,
          -108.77482827372273,
          -107.60570160998876,
          -108.19538711101717,
          -108.20017331795573,
          -108.67769066272956,
          -110.17744365646392,
          -110.14788665628461,
          -108.67455943194584,
          -107.8268021058561,
          -106.23378356214683,
          -106.7582441057515,
          -107.98656692734389,
          -106.65076937236009,
          -106.47076200768136,
          -106.2296811519323,
          -108.15446231809501,
          -108.30789501624642,
          -107.43607301907238,
          -106.57942487705,
          -106.65525982427582,
          -108.61459399300075,
          -108.70203345222059,
          -108.78472053973081,
          -108.76773498407651,
          -109.36726267143302,
          -109.04147577401223,
          -109.24619721290614,
          -110.60609730650623,
          -110.7004132001141,
          -109.51000998476248,
          -108.9869266918933,
          -109.43028735399393,
          -108.4779203385625,
          -108.48704885800471,
          -107.25449187158733,
          -107.69163927087057,
          -108.44313350532174,
          -107.57742886556379,
          -106.61196122579138,
          -105.80784491433617,
          -105.88841680805312,
          -106.1550116908409,
          -106.20395299744847,
          -105.8655641320652,
          -106.26145451336875,
          -105.77167531132683,
          -104.94459937757546,
          -104.68861822236721,
          -104.99785993371358,
          -105.00918351137167,
          -105.09142383278932
         ]
        }
       ],
       "layout": {
        "template": {
         "data": {
          "bar": [
           {
            "error_x": {
             "color": "#2a3f5f"
            },
            "error_y": {
             "color": "#2a3f5f"
            },
            "marker": {
             "line": {
              "color": "#E5ECF6",
              "width": 0.5
             },
             "pattern": {
              "fillmode": "overlay",
              "size": 10,
              "solidity": 0.2
             }
            },
            "type": "bar"
           }
          ],
          "barpolar": [
           {
            "marker": {
             "line": {
              "color": "#E5ECF6",
              "width": 0.5
             },
             "pattern": {
              "fillmode": "overlay",
              "size": 10,
              "solidity": 0.2
             }
            },
            "type": "barpolar"
           }
          ],
          "carpet": [
           {
            "aaxis": {
             "endlinecolor": "#2a3f5f",
             "gridcolor": "white",
             "linecolor": "white",
             "minorgridcolor": "white",
             "startlinecolor": "#2a3f5f"
            },
            "baxis": {
             "endlinecolor": "#2a3f5f",
             "gridcolor": "white",
             "linecolor": "white",
             "minorgridcolor": "white",
             "startlinecolor": "#2a3f5f"
            },
            "type": "carpet"
           }
          ],
          "choropleth": [
           {
            "colorbar": {
             "outlinewidth": 0,
             "ticks": ""
            },
            "type": "choropleth"
           }
          ],
          "contour": [
           {
            "colorbar": {
             "outlinewidth": 0,
             "ticks": ""
            },
            "colorscale": [
             [
              0,
              "#0d0887"
             ],
             [
              0.1111111111111111,
              "#46039f"
             ],
             [
              0.2222222222222222,
              "#7201a8"
             ],
             [
              0.3333333333333333,
              "#9c179e"
             ],
             [
              0.4444444444444444,
              "#bd3786"
             ],
             [
              0.5555555555555556,
              "#d8576b"
             ],
             [
              0.6666666666666666,
              "#ed7953"
             ],
             [
              0.7777777777777778,
              "#fb9f3a"
             ],
             [
              0.8888888888888888,
              "#fdca26"
             ],
             [
              1,
              "#f0f921"
             ]
            ],
            "type": "contour"
           }
          ],
          "contourcarpet": [
           {
            "colorbar": {
             "outlinewidth": 0,
             "ticks": ""
            },
            "type": "contourcarpet"
           }
          ],
          "heatmap": [
           {
            "colorbar": {
             "outlinewidth": 0,
             "ticks": ""
            },
            "colorscale": [
             [
              0,
              "#0d0887"
             ],
             [
              0.1111111111111111,
              "#46039f"
             ],
             [
              0.2222222222222222,
              "#7201a8"
             ],
             [
              0.3333333333333333,
              "#9c179e"
             ],
             [
              0.4444444444444444,
              "#bd3786"
             ],
             [
              0.5555555555555556,
              "#d8576b"
             ],
             [
              0.6666666666666666,
              "#ed7953"
             ],
             [
              0.7777777777777778,
              "#fb9f3a"
             ],
             [
              0.8888888888888888,
              "#fdca26"
             ],
             [
              1,
              "#f0f921"
             ]
            ],
            "type": "heatmap"
           }
          ],
          "heatmapgl": [
           {
            "colorbar": {
             "outlinewidth": 0,
             "ticks": ""
            },
            "colorscale": [
             [
              0,
              "#0d0887"
             ],
             [
              0.1111111111111111,
              "#46039f"
             ],
             [
              0.2222222222222222,
              "#7201a8"
             ],
             [
              0.3333333333333333,
              "#9c179e"
             ],
             [
              0.4444444444444444,
              "#bd3786"
             ],
             [
              0.5555555555555556,
              "#d8576b"
             ],
             [
              0.6666666666666666,
              "#ed7953"
             ],
             [
              0.7777777777777778,
              "#fb9f3a"
             ],
             [
              0.8888888888888888,
              "#fdca26"
             ],
             [
              1,
              "#f0f921"
             ]
            ],
            "type": "heatmapgl"
           }
          ],
          "histogram": [
           {
            "marker": {
             "pattern": {
              "fillmode": "overlay",
              "size": 10,
              "solidity": 0.2
             }
            },
            "type": "histogram"
           }
          ],
          "histogram2d": [
           {
            "colorbar": {
             "outlinewidth": 0,
             "ticks": ""
            },
            "colorscale": [
             [
              0,
              "#0d0887"
             ],
             [
              0.1111111111111111,
              "#46039f"
             ],
             [
              0.2222222222222222,
              "#7201a8"
             ],
             [
              0.3333333333333333,
              "#9c179e"
             ],
             [
              0.4444444444444444,
              "#bd3786"
             ],
             [
              0.5555555555555556,
              "#d8576b"
             ],
             [
              0.6666666666666666,
              "#ed7953"
             ],
             [
              0.7777777777777778,
              "#fb9f3a"
             ],
             [
              0.8888888888888888,
              "#fdca26"
             ],
             [
              1,
              "#f0f921"
             ]
            ],
            "type": "histogram2d"
           }
          ],
          "histogram2dcontour": [
           {
            "colorbar": {
             "outlinewidth": 0,
             "ticks": ""
            },
            "colorscale": [
             [
              0,
              "#0d0887"
             ],
             [
              0.1111111111111111,
              "#46039f"
             ],
             [
              0.2222222222222222,
              "#7201a8"
             ],
             [
              0.3333333333333333,
              "#9c179e"
             ],
             [
              0.4444444444444444,
              "#bd3786"
             ],
             [
              0.5555555555555556,
              "#d8576b"
             ],
             [
              0.6666666666666666,
              "#ed7953"
             ],
             [
              0.7777777777777778,
              "#fb9f3a"
             ],
             [
              0.8888888888888888,
              "#fdca26"
             ],
             [
              1,
              "#f0f921"
             ]
            ],
            "type": "histogram2dcontour"
           }
          ],
          "mesh3d": [
           {
            "colorbar": {
             "outlinewidth": 0,
             "ticks": ""
            },
            "type": "mesh3d"
           }
          ],
          "parcoords": [
           {
            "line": {
             "colorbar": {
              "outlinewidth": 0,
              "ticks": ""
             }
            },
            "type": "parcoords"
           }
          ],
          "pie": [
           {
            "automargin": true,
            "type": "pie"
           }
          ],
          "scatter": [
           {
            "fillpattern": {
             "fillmode": "overlay",
             "size": 10,
             "solidity": 0.2
            },
            "type": "scatter"
           }
          ],
          "scatter3d": [
           {
            "line": {
             "colorbar": {
              "outlinewidth": 0,
              "ticks": ""
             }
            },
            "marker": {
             "colorbar": {
              "outlinewidth": 0,
              "ticks": ""
             }
            },
            "type": "scatter3d"
           }
          ],
          "scattercarpet": [
           {
            "marker": {
             "colorbar": {
              "outlinewidth": 0,
              "ticks": ""
             }
            },
            "type": "scattercarpet"
           }
          ],
          "scattergeo": [
           {
            "marker": {
             "colorbar": {
              "outlinewidth": 0,
              "ticks": ""
             }
            },
            "type": "scattergeo"
           }
          ],
          "scattergl": [
           {
            "marker": {
             "colorbar": {
              "outlinewidth": 0,
              "ticks": ""
             }
            },
            "type": "scattergl"
           }
          ],
          "scattermapbox": [
           {
            "marker": {
             "colorbar": {
              "outlinewidth": 0,
              "ticks": ""
             }
            },
            "type": "scattermapbox"
           }
          ],
          "scatterpolar": [
           {
            "marker": {
             "colorbar": {
              "outlinewidth": 0,
              "ticks": ""
             }
            },
            "type": "scatterpolar"
           }
          ],
          "scatterpolargl": [
           {
            "marker": {
             "colorbar": {
              "outlinewidth": 0,
              "ticks": ""
             }
            },
            "type": "scatterpolargl"
           }
          ],
          "scatterternary": [
           {
            "marker": {
             "colorbar": {
              "outlinewidth": 0,
              "ticks": ""
             }
            },
            "type": "scatterternary"
           }
          ],
          "surface": [
           {
            "colorbar": {
             "outlinewidth": 0,
             "ticks": ""
            },
            "colorscale": [
             [
              0,
              "#0d0887"
             ],
             [
              0.1111111111111111,
              "#46039f"
             ],
             [
              0.2222222222222222,
              "#7201a8"
             ],
             [
              0.3333333333333333,
              "#9c179e"
             ],
             [
              0.4444444444444444,
              "#bd3786"
             ],
             [
              0.5555555555555556,
              "#d8576b"
             ],
             [
              0.6666666666666666,
              "#ed7953"
             ],
             [
              0.7777777777777778,
              "#fb9f3a"
             ],
             [
              0.8888888888888888,
              "#fdca26"
             ],
             [
              1,
              "#f0f921"
             ]
            ],
            "type": "surface"
           }
          ],
          "table": [
           {
            "cells": {
             "fill": {
              "color": "#EBF0F8"
             },
             "line": {
              "color": "white"
             }
            },
            "header": {
             "fill": {
              "color": "#C8D4E3"
             },
             "line": {
              "color": "white"
             }
            },
            "type": "table"
           }
          ]
         },
         "layout": {
          "annotationdefaults": {
           "arrowcolor": "#2a3f5f",
           "arrowhead": 0,
           "arrowwidth": 1
          },
          "autotypenumbers": "strict",
          "coloraxis": {
           "colorbar": {
            "outlinewidth": 0,
            "ticks": ""
           }
          },
          "colorscale": {
           "diverging": [
            [
             0,
             "#8e0152"
            ],
            [
             0.1,
             "#c51b7d"
            ],
            [
             0.2,
             "#de77ae"
            ],
            [
             0.3,
             "#f1b6da"
            ],
            [
             0.4,
             "#fde0ef"
            ],
            [
             0.5,
             "#f7f7f7"
            ],
            [
             0.6,
             "#e6f5d0"
            ],
            [
             0.7,
             "#b8e186"
            ],
            [
             0.8,
             "#7fbc41"
            ],
            [
             0.9,
             "#4d9221"
            ],
            [
             1,
             "#276419"
            ]
           ],
           "sequential": [
            [
             0,
             "#0d0887"
            ],
            [
             0.1111111111111111,
             "#46039f"
            ],
            [
             0.2222222222222222,
             "#7201a8"
            ],
            [
             0.3333333333333333,
             "#9c179e"
            ],
            [
             0.4444444444444444,
             "#bd3786"
            ],
            [
             0.5555555555555556,
             "#d8576b"
            ],
            [
             0.6666666666666666,
             "#ed7953"
            ],
            [
             0.7777777777777778,
             "#fb9f3a"
            ],
            [
             0.8888888888888888,
             "#fdca26"
            ],
            [
             1,
             "#f0f921"
            ]
           ],
           "sequentialminus": [
            [
             0,
             "#0d0887"
            ],
            [
             0.1111111111111111,
             "#46039f"
            ],
            [
             0.2222222222222222,
             "#7201a8"
            ],
            [
             0.3333333333333333,
             "#9c179e"
            ],
            [
             0.4444444444444444,
             "#bd3786"
            ],
            [
             0.5555555555555556,
             "#d8576b"
            ],
            [
             0.6666666666666666,
             "#ed7953"
            ],
            [
             0.7777777777777778,
             "#fb9f3a"
            ],
            [
             0.8888888888888888,
             "#fdca26"
            ],
            [
             1,
             "#f0f921"
            ]
           ]
          },
          "colorway": [
           "#636efa",
           "#EF553B",
           "#00cc96",
           "#ab63fa",
           "#FFA15A",
           "#19d3f3",
           "#FF6692",
           "#B6E880",
           "#FF97FF",
           "#FECB52"
          ],
          "font": {
           "color": "#2a3f5f"
          },
          "geo": {
           "bgcolor": "white",
           "lakecolor": "white",
           "landcolor": "#E5ECF6",
           "showlakes": true,
           "showland": true,
           "subunitcolor": "white"
          },
          "hoverlabel": {
           "align": "left"
          },
          "hovermode": "closest",
          "mapbox": {
           "style": "light"
          },
          "paper_bgcolor": "white",
          "plot_bgcolor": "#E5ECF6",
          "polar": {
           "angularaxis": {
            "gridcolor": "white",
            "linecolor": "white",
            "ticks": ""
           },
           "bgcolor": "#E5ECF6",
           "radialaxis": {
            "gridcolor": "white",
            "linecolor": "white",
            "ticks": ""
           }
          },
          "scene": {
           "xaxis": {
            "backgroundcolor": "#E5ECF6",
            "gridcolor": "white",
            "gridwidth": 2,
            "linecolor": "white",
            "showbackground": true,
            "ticks": "",
            "zerolinecolor": "white"
           },
           "yaxis": {
            "backgroundcolor": "#E5ECF6",
            "gridcolor": "white",
            "gridwidth": 2,
            "linecolor": "white",
            "showbackground": true,
            "ticks": "",
            "zerolinecolor": "white"
           },
           "zaxis": {
            "backgroundcolor": "#E5ECF6",
            "gridcolor": "white",
            "gridwidth": 2,
            "linecolor": "white",
            "showbackground": true,
            "ticks": "",
            "zerolinecolor": "white"
           }
          },
          "shapedefaults": {
           "line": {
            "color": "#2a3f5f"
           }
          },
          "ternary": {
           "aaxis": {
            "gridcolor": "white",
            "linecolor": "white",
            "ticks": ""
           },
           "baxis": {
            "gridcolor": "white",
            "linecolor": "white",
            "ticks": ""
           },
           "bgcolor": "#E5ECF6",
           "caxis": {
            "gridcolor": "white",
            "linecolor": "white",
            "ticks": ""
           }
          },
          "title": {
           "x": 0.05
          },
          "xaxis": {
           "automargin": true,
           "gridcolor": "white",
           "linecolor": "white",
           "ticks": "",
           "title": {
            "standoff": 15
           },
           "zerolinecolor": "white",
           "zerolinewidth": 2
          },
          "yaxis": {
           "automargin": true,
           "gridcolor": "white",
           "linecolor": "white",
           "ticks": "",
           "title": {
            "standoff": 15
           },
           "zerolinecolor": "white",
           "zerolinewidth": 2
          }
         }
        }
       }
      }
     },
     "metadata": {},
     "output_type": "display_data"
    }
   ],
   "source": [
    "import plotly.graph_objects as go\n",
    "ts_df = pd.read_csv('walker-out.csv')\n",
    "\n",
    "#ts_df = ts_df[ts_df[\"timestep\"]>6]\n",
    "#ts_df.head()\n",
    "#ts_df['pretrained_steps'][7] == 0\n",
    "#ts_df[ts_df[\"pretrained_steps\"]>0].head()\n",
    "#ts_df = ts_df[ts_df[\"num_agents\"]==6]\n",
    "seq = (\n",
    "    ts_df[ts_df[\"pretrained_steps\"]==0]\n",
    "    #.groupby(['pretrained_steps','timestep'])[\"per_agent_erm\"]\n",
    "    .groupby(['timestep'])[\"per_agent_erm\"]\n",
    "    #.mean()\n",
    "    #.reset_index()\n",
    ")\n",
    "\n",
    "mean = seq.mean()\n",
    "std_dev = seq.std()\n",
    "n = seq.count()\n",
    "z = 1.96\n",
    "margin_of_error = z * std_dev * np.sqrt(1 + 1/n)\n",
    "lower_bound = mean - margin_of_error\n",
    "upper_bound = mean + margin_of_error\n",
    "x = np.concatenate([mean.index, mean.index[::-1]])\n",
    "y = np.concatenate([upper_bound, lower_bound[::-1]])\n",
    "\n",
    "\n",
    "fig = go.Figure()\n",
    "\n",
    "fig.add_trace(go.Scatter(\n",
    "    x=x,\n",
    "    y=y,\n",
    "    fill='tonexty', \n",
    "    #fill='toself',\n",
    "    fillcolor='rgba(0,100,80,0.2)',  # semi-transparent fill\n",
    "    line=dict(color='rgba(255,255,255,0)'),\n",
    "    name='95% Prediction Interval',\n",
    "    hoverinfo=\"skip\",\n",
    "    #title=f\"{task_agents} Agent Task with {pre_agents} Agent Pretraining\",\n",
    "    ))\n",
    "\n",
    "#fig.add_trace(go.Line(\n",
    "#    x=x,\n",
    "#    y=mean\n",
    "#))\n",
    "\n",
    "fig.show()\n"
   ]
  },
  {
   "cell_type": "code",
   "execution_count": 28,
   "metadata": {},
   "outputs": [
    {
     "data": {
      "text/plain": [
       "0    171.883260\n",
       "1    232.042801\n",
       "2    357.261298\n",
       "3    362.324095\n",
       "4    467.984644\n",
       "5    430.636087\n",
       "6    664.235734\n",
       "Name: time, dtype: float64"
      ]
     },
     "execution_count": 28,
     "metadata": {},
     "output_type": "execute_result"
    }
   ],
   "source": [
    "time_costs.groupby([\"num_agents\"]).mean().reset_index()\n",
    "time_costs.groupby([\"num_agents\"]).std().reset_index()[\"time\"]"
   ]
  },
  {
   "cell_type": "code",
   "execution_count": 220,
   "metadata": {},
   "outputs": [
    {
     "name": "stdout",
     "output_type": "stream",
     "text": [
      "[[0.02527156 0.03550806 0.03796476 0.03550806 0.02527156]\n",
      " [0.03550806 0.04977457 0.0518548  0.04977457 0.03550806]\n",
      " [0.03796476 0.0518548  0.05647276 0.0518548  0.03796476]\n",
      " [0.03550806 0.04977457 0.0518548  0.04977457 0.03550806]\n",
      " [0.02527156 0.03550806 0.03796476 0.03550806 0.02527156]]\n"
     ]
    }
   ],
   "source": [
    "import numpy as np\n",
    "\n",
    "def diffuse(arr:np.array, n_steps:int=1):\n",
    "    if n_steps == 0:\n",
    "        return arr\n",
    "\n",
    "    movespace = [[-1,0],[0,-1],[0,0],[1,0],[0,1]]\n",
    "    new_arr = np.zeros_like(arr)\n",
    "\n",
    "    # Iterate across entire array\n",
    "    for index, n in np.ndenumerate(arr):\n",
    "        # Check for existing probability\n",
    "        if n > 0:\n",
    "            # Get adjacent indices\n",
    "            possible_moves = np.array(index) + movespace\n",
    "            # Clip for out of bound moves\n",
    "            valid_moves = np.unique(np.clip(possible_moves, 0, np.subtract(arr.shape,1)), axis=0)\n",
    "            # Calculate probability\n",
    "            p = n/len(valid_moves)\n",
    "            # Add probability to new space\n",
    "            for move in valid_moves:\n",
    "                new_arr[*move] = new_arr[*move] + p\n",
    "\n",
    "    return diffuse(new_arr,n_steps-1)\n",
    "\n",
    "# EXAMPLE:\n",
    "\n",
    "a = np.zeros((5,5))\n",
    "a[2,2] = 1\n",
    "\n",
    "print(diffuse(a,8))\n",
    "\n",
    "#print(a)\n",
    "#for _ in range(3):\n",
    "#    a = diffuse(a)\n",
    "#    print()\n",
    "#    print(a)"
   ]
  },
  {
   "cell_type": "code",
   "execution_count": 6,
   "metadata": {},
   "outputs": [],
   "source": [
    "import pandas as pd \n",
    "import wandb\n",
    "api = wandb.Api()\n",
    "\n",
    "# Project is specified by <entity/project-name>\n",
    "runs = api.runs(\"no-organization-for-signup/mini-test-waterworld\")\n",
    "\n",
    "summary_list, config_list, name_list = [], [], []\n",
    "for run in runs: \n",
    "    # .summary contains the output keys/values for metrics like accuracy.\n",
    "    #  We call ._json_dict to omit large files \n",
    "    summary_list.append(run.summary._json_dict)\n",
    "\n",
    "    # .config contains the hyperparameters.\n",
    "    #  We remove special values that start with _.\n",
    "    config_list.append(\n",
    "        {k: v for k,v in run.config.items()\n",
    "          if not k.startswith('_')})\n",
    "\n",
    "    # .name is the human-readable name of the run.\n",
    "    name_list.append(run.name)\n",
    "\n",
    "runs_df = pd.DataFrame({\n",
    "    \"summary\": summary_list,\n",
    "    \"config\": config_list,\n",
    "    \"name\": name_list\n",
    "    })\n",
    "\n",
    "runs_df.to_csv(\"mini-test-waterworld.csv\")"
   ]
  },
  {
   "cell_type": "markdown",
   "metadata": {},
   "source": [
    "# Graphing Functions\n",
    "\n",
    "Rewriting graphing functions to fit the full wandb ingest."
   ]
  },
  {
   "cell_type": "markdown",
   "metadata": {},
   "source": [
    "info/learner/pursuer_2/diff_num_grad_updates_vs_sampler_policy,\n",
    "info/learner/pursuer_1/learner_stats/vf_explained_var,\n",
    "info/learner/pursuer_2/learner_stats/policy_loss,\n",
    "info/learner/pursuer_4/diff_num_grad_updates_vs_sampler_policy,\n",
    "info/learner/pursuer_5/learner_stats/entropy_coeff,\n",
    "info/learner/pursuer_5/learner_stats/cur_lr,\n",
    "info/learner/pursuer_2/learner_stats/total_loss,\n",
    "env_runners/policy_reward_max/pursuer_2,\n",
    "info/learner/pursuer_5/learner_stats/entropy,\n",
    "info/learner/pursuer_4/learner_stats/vf_loss,\n",
    "env_runners/policy_reward_max/pursuer_3,\n",
    "num_agents,env_runners/sampler_perf/mean_raw_obs_processing_ms,\n",
    "env_runners/sampler_perf/mean_env_wait_ms,\n",
    "info/learner/pursuer_0/learner_stats/total_loss,\n",
    "info/num_env_steps_trained,\n",
    "env_runners/policy_reward_max/pursuer_1,\n",
    "counters/num_agent_steps_trained,\n",
    "info/learner/pursuer_2/learner_stats/vf_loss,env_runners/episode_reward_max,\n",
    "num_env_steps_sampled_throughput_per_sec,\n",
    "iterations_since_restore,\n",
    "info/learner/pursuer_4/learner_stats/cur_kl_coeff,\n",
    "info/learner/pursuer_3/learner_stats/kl,\n",
    "info/learner/pursuer_4/learner_stats/entropy_coeff,\n",
    "info/learner/pursuer_0/num_grad_updates_lifetime,\n",
    "info/learner/pursuer_6/learner_stats/kl,\n",
    "num_agent_steps_sampled,time_this_iter_s,\n",
    "time_total_s,info/learner/pursuer_1/num_agent_steps_trained,\n",
    "env_runners/policy_reward_max/pursuer_5,\n",
    "info/learner/pursuer_3/learner_stats/grad_gnorm,\n",
    "timers/restore_workers_time_ms,\n",
    "timers/training_iteration_time_ms,\n",
    "info/learner/pursuer_6/learner_stats/total_loss,\n",
    "info/learner/pursuer_0/diff_num_grad_updates_vs_sampler_policy,\n",
    "info/learner/pursuer_2/num_agent_steps_trained,\n",
    "info/learner/pursuer_0/learner_stats/cur_lr,\n",
    "info/learner/pursuer_5/learner_stats/allreduce_latency,\n",
    "info/learner/pursuer_2/learner_stats/grad_gnorm,\n",
    "num_env_steps_trained_throughput_per_sec,\n",
    "info/learner/pursuer_4/learner_stats/policy_loss,\n",
    "timestamp,info/learner/pursuer_4/num_grad_updates_lifetime,\n",
    "env_runners/policy_reward_mean/pursuer_2,\n",
    "num_env_steps_trained_this_iter,\n",
    "info/learner/pursuer_5/learner_stats/total_loss,\n",
    "env_runners/policy_reward_max/pursuer_7,\n",
    "env_runners/connector_metrics/StateBufferConnector_ms,\n",
    "info/learner/pursuer_3/learner_stats/cur_kl_coeff,\n",
    "info/learner/pursuer_6/learner_stats/entropy_coeff,\n",
    "env_runners/policy_reward_min/pursuer_2,\n",
    "_step,\n",
    "info/learner/pursuer_0/learner_stats/policy_loss,\n",
    "_runtime,\n",
    "info/learner/pursuer_0/learner_stats/entropy_coeff,\n",
    "info/learner/pursuer_7/num_agent_steps_trained,\n",
    "info/learner/pursuer_2/learner_stats/vf_explained_var,\n",
    "info/num_agent_steps_sampled,time_since_restore,\n",
    "info/learner/pursuer_2/learner_stats/entropy,\n",
    "info/learner/pursuer_1/learner_stats/total_loss,\n",
    "env_runners/policy_reward_mean/pursuer_0,\n",
    "env_runners/policy_reward_mean/pursuer_3,\n",
    "env_runners/policy_reward_min/pursuer_5,\n",
    "info/learner/pursuer_7/learner_stats/total_loss,\n",
    "info/learner/pursuer_6/diff_num_grad_updates_vs_sampler_policy,\n",
    "info/learner/pursuer_7/learner_stats/vf_explained_var,\n",
    "info/learner/pursuer_1/learner_stats/cur_kl_coeff,\n",
    "info/learner/pursuer_3/num_grad_updates_lifetime,\n",
    "env_runners/policy_reward_mean/pursuer_4,\n",
    "info/learner/pursuer_2/learner_stats/cur_lr,\n",
    "info/learner/pursuer_4/learner_stats/allreduce_latency,\n",
    "env_runners/episodes_this_iter,\n",
    "num_remote_worker_restarts,\n",
    "env_runners/num_episodes,\n",
    "info/num_env_steps_sampled,\n",
    "info/learner/pursuer_3/learner_stats/entropy,\n",
    "info/learner/pursuer_1/learner_stats/vf_loss,\n",
    "env_runners/episode_reward_min,\n",
    "info/learner/pursuer_6/learner_stats/entropy,\n",
    "info/learner/pursuer_4/learner_stats/grad_gnorm,\n",
    "info/learner/pursuer_3/diff_num_grad_updates_vs_sampler_policy,\n",
    "env_runners/policy_reward_min/pursuer_4,\n",
    "env_runners/policy_reward_mean/pursuer_5,\n",
    "num_pretrained,\n",
    "info/learner/pursuer_5/diff_num_grad_updates_vs_sampler_policy,\n",
    "info/learner/pursuer_4/learner_stats/kl,\n",
    "env_runners/episode_reward_mean,\n",
    "counters/num_env_steps_trained,\n",
    "info/learner/pursuer_2/learner_stats/cur_kl_coeff,\n",
    "info/learner/pursuer_4/num_agent_steps_trained,\n",
    "num_agent_steps_trained,\n",
    "info/learner/pursuer_5/learner_stats/policy_loss,\n",
    "env_runners/policy_reward_min/pursuer_3,\n",
    "env_runners/policy_reward_max/pursuer_4,\n",
    "env_runners/episodes_timesteps_total,\n",
    "info/learner/pursuer_4/learner_stats/cur_lr,\n",
    "num_agent_steps_sampled_lifetime,\n",
    "agent_timesteps_total,\n",
    "num_env_steps_sampled_lifetime,\n",
    "env_runners/episode_return_mean,\n",
    "info/learner/pursuer_3/learner_stats/allreduce_latency,\n",
    "info/learner/pursuer_1/learner_stats/kl,\n",
    "timers/synch_weights_time_ms,\n",
    "timers/training_step_time_ms,\n",
    "perf/ram_util_percent,\n",
    "env_runners/sampler_perf/mean_inference_ms,\n",
    "info/learner/pursuer_3/learner_stats/policy_loss,\n",
    "env_runners/num_faulty_episodes,\n",
    "info/learner/pursuer_3/learner_stats/vf_loss,\n",
    "info/learner/pursuer_1/learner_stats/entropy,\n",
    "info/learner/pursuer_1/learner_stats/allreduce_latency,\n",
    "info/learner/pursuer_6/learner_stats/vf_loss,\n",
    "env_runners/sampler_perf/mean_env_render_ms,\n",
    "info/learner/pursuer_6/learner_stats/policy_loss,\n",
    "info/learner/pursuer_3/learner_stats/vf_explained_var,\n",
    "info/learner/pursuer_3/learner_stats/entropy_coeff,\n",
    "info/learner/pursuer_0/num_agent_steps_trained,\n",
    "info/num_agent_steps_trained,\n",
    "info/learner/pursuer_7/learner_stats/allreduce_latency,\n",
    "info/learner/pursuer_0/learner_stats/entropy,\n",
    "info/learner/pursuer_5/num_agent_steps_trained,\n",
    "timesteps_total,\n",
    "info/learner/pursuer_6/learner_stats/cur_kl_coeff,\n",
    "info/learner/pursuer_7/learner_stats/cur_kl_coeff,\n",
    "env_runners/sampler_perf/mean_action_processing_ms,\n",
    "info/learner/pursuer_0/learner_stats/vf_explained_var,\n",
    "timers/learn_time_ms,info/learner/pursuer_5/num_grad_updates_lifetime,\n",
    "env_runners/policy_reward_mean/pursuer_7,\n",
    "info/learner/pursuer_1/diff_num_grad_updates_vs_sampler_policy,\n",
    "info/learner/pursuer_3/learner_stats/cur_lr,\n",
    "info/learner/pursuer_4/learner_stats/total_loss,\n",
    "timers/sample_time_ms,perf/cpu_util_percent,\n",
    "env_runners/policy_reward_mean/pursuer_1,\n",
    "info/learner/pursuer_7/num_grad_updates_lifetime,\n",
    "info/learner/pursuer_7/learner_stats/cur_lr,\n",
    "info/learner/pursuer_6/learner_stats/allreduce_latency,\n",
    "info/learner/pursuer_7/learner_stats/vf_loss,\n",
    "num_env_steps_sampled,\n",
    "info/learner/pursuer_2/learner_stats/kl,\n",
    "num_env_steps_sampled_this_iter,\n",
    "env_runners/connector_metrics/ViewRequirementAgentConnector_ms,\n",
    "env_runners/policy_reward_max/pursuer_6,\n",
    "env_runners/policy_reward_max/pursuer_0,\n",
    "info/learner/pursuer_3/num_agent_steps_trained,\n",
    "env_runners/policy_reward_min/pursuer_7,\n",
    "info/learner/pursuer_4/learner_stats/vf_explained_var,\n",
    "counters/num_env_steps_sampled,_timestamp,\n",
    "info/learner/pursuer_0/learner_stats/cur_kl_coeff,\n",
    "info/learner/pursuer_2/learner_stats/entropy_coeff,\n",
    "timers/learn_throughput,\n",
    "info/learner/pursuer_7/learner_stats/kl,\n",
    "info/learner/pursuer_7/learner_stats/entropy,\n",
    "num_steps_trained_this_iter,\n",
    "info/learner/pursuer_0/learner_stats/vf_loss,\n",
    "info/learner/pursuer_5/learner_stats/cur_kl_coeff,\n",
    "counters/num_agent_steps_sampled,\n",
    "info/learner/pursuer_1/learner_stats/cur_lr,\n",
    "info/learner/pursuer_0/learner_stats/kl,\n",
    "num_healthy_workers,\n",
    "info/learner/pursuer_7/learner_stats/policy_loss,\n",
    "info/learner/pursuer_1/learner_stats/policy_loss,\n",
    "info/learner/pursuer_6/num_agent_steps_trained,\n",
    "info/learner/pursuer_6/learner_stats/grad_gnorm,\n",
    "info/learner/pursuer_6/num_grad_updates_lifetime,\n",
    "info/learner/pursuer_0/learner_stats/allreduce_latency,\n",
    "info/learner/pursuer_3/learner_stats/total_loss,\n",
    "training_iteration,env_runners/policy_reward_min/pursuer_1,\n",
    "info/learner/pursuer_7/learner_stats/entropy_coeff,\n",
    "env_runners/episode_return_max,\n",
    "info/learner/pursuer_5/learner_stats/vf_loss,\n",
    "info/learner/pursuer_4/learner_stats/entropy,\n",
    "info/learner/pursuer_7/diff_num_grad_updates_vs_sampler_policy,\n",
    "env_runners/connector_metrics/ObsPreprocessorConnector_ms,\n",
    "info/learner/pursuer_2/learner_stats/allreduce_latency,\n",
    "env_runners/policy_reward_min/pursuer_6,\n",
    "info/learner/pursuer_5/learner_stats/kl,\n",
    "env_runners/episode_return_min,\n",
    "info/learner/pursuer_0/learner_stats/grad_gnorm,\n",
    "info/learner/pursuer_7/learner_stats/grad_gnorm,\n",
    "env_runners/policy_reward_min/pursuer_0,\n",
    "info/learner/pursuer_1/learner_stats/grad_gnorm,\n",
    "info/learner/pursuer_1/learner_stats/entropy_coeff,\n",
    "env_runners/policy_reward_mean/pursuer_6,\n",
    "info/learner/pursuer_2/num_grad_updates_lifetime,\n",
    "info/learner/pursuer_6/learner_stats/cur_lr,\n",
    "num_env_steps_trained,env_runners/episode_len_mean,\n",
    "info/learner/pursuer_1/num_grad_updates_lifetime,\n",
    "info/learner/pursuer_5/learner_stats/vf_explained_var,\n",
    "info/learner/pursuer_5/learner_stats/grad_gnorm,\n",
    "info/learner/pursuer_6/learner_stats/vf_explained_var,\n",
    "num_in_flight_async_sample_reqs,\n",
    "episode_reward_mean"
   ]
  },
  {
   "cell_type": "code",
   "execution_count": 157,
   "metadata": {},
   "outputs": [
    {
     "name": "stdout",
     "output_type": "stream",
     "text": [
      "32\n",
      "40967\n",
      "1280.21875\n"
     ]
    },
    {
     "data": {
      "text/plain": [
       "NoneType"
      ]
     },
     "execution_count": 167,
     "metadata": {},
     "output_type": "execute_result"
    }
   ],
   "source": [
    "import numpy as np\n",
    "import pandas as pd\n",
    "\n",
    "\n",
    "def baseline_prediction_interval(num_agents, path):\n",
    "    data = []\n",
    "    for p in path:\n",
    "        # Read each table\n",
    "        run_info = pd.read_csv(f\"{p}.csv\")\n",
    "        run_info = run_info[run_info['num_agents']==num_agents]\n",
    "        run_info = run_info[run_info['steps_pretrained']==0]\n",
    "        ids = run_info['id']\n",
    "\n",
    "        #print(ids)\n",
    "\n",
    "        hist = pd.read_csv(f\"{p}_history.csv\")\n",
    "        #hist = hist[hist['id'].isin(ids)]\n",
    "        print(len(ids))\n",
    "        print(len(hist))\n",
    "\n",
    "        print(len(hist)/len(ids))\n",
    "\n",
    "        #_df['env_runners/episode_reward_mean'] = (\n",
    "        #    _df['env_runners/episode_reward_mean'].div(num_agents))\n",
    "        #data.append(_df)\n",
    "        #print(hist.head)\n",
    "\n",
    "\n",
    "\n",
    "\n",
    "\n",
    "a = baseline_prediction_interval(4, path=['mini-test-waterworld'])\n",
    "type(a)"
   ]
  },
  {
   "cell_type": "code",
   "execution_count": 142,
   "metadata": {},
   "outputs": [
    {
     "ename": "KeyError",
     "evalue": "'steps_pretrained'",
     "output_type": "error",
     "traceback": [
      "\u001b[0;31m---------------------------------------------------------------------------\u001b[0m",
      "\u001b[0;31mKeyError\u001b[0m                                  Traceback (most recent call last)",
      "File \u001b[0;32m/opt/homebrew/lib/python3.11/site-packages/pandas/core/indexes/base.py:3653\u001b[0m, in \u001b[0;36mIndex.get_loc\u001b[0;34m(self, key)\u001b[0m\n\u001b[1;32m   3652\u001b[0m \u001b[38;5;28;01mtry\u001b[39;00m:\n\u001b[0;32m-> 3653\u001b[0m     \u001b[38;5;28;01mreturn\u001b[39;00m \u001b[38;5;28;43mself\u001b[39;49m\u001b[38;5;241;43m.\u001b[39;49m\u001b[43m_engine\u001b[49m\u001b[38;5;241;43m.\u001b[39;49m\u001b[43mget_loc\u001b[49m\u001b[43m(\u001b[49m\u001b[43mcasted_key\u001b[49m\u001b[43m)\u001b[49m\n\u001b[1;32m   3654\u001b[0m \u001b[38;5;28;01mexcept\u001b[39;00m \u001b[38;5;167;01mKeyError\u001b[39;00m \u001b[38;5;28;01mas\u001b[39;00m err:\n",
      "File \u001b[0;32m/opt/homebrew/lib/python3.11/site-packages/pandas/_libs/index.pyx:147\u001b[0m, in \u001b[0;36mpandas._libs.index.IndexEngine.get_loc\u001b[0;34m()\u001b[0m\n",
      "File \u001b[0;32m/opt/homebrew/lib/python3.11/site-packages/pandas/_libs/index.pyx:176\u001b[0m, in \u001b[0;36mpandas._libs.index.IndexEngine.get_loc\u001b[0;34m()\u001b[0m\n",
      "File \u001b[0;32mpandas/_libs/hashtable_class_helper.pxi:7080\u001b[0m, in \u001b[0;36mpandas._libs.hashtable.PyObjectHashTable.get_item\u001b[0;34m()\u001b[0m\n",
      "File \u001b[0;32mpandas/_libs/hashtable_class_helper.pxi:7088\u001b[0m, in \u001b[0;36mpandas._libs.hashtable.PyObjectHashTable.get_item\u001b[0;34m()\u001b[0m\n",
      "\u001b[0;31mKeyError\u001b[0m: 'steps_pretrained'",
      "\nThe above exception was the direct cause of the following exception:\n",
      "\u001b[0;31mKeyError\u001b[0m                                  Traceback (most recent call last)",
      "Cell \u001b[0;32mIn[142], line 114\u001b[0m\n\u001b[1;32m     72\u001b[0m \u001b[38;5;124;03m\"\"\"\u001b[39;00m\n\u001b[1;32m     73\u001b[0m \u001b[38;5;124;03mimport plotly.express as px\u001b[39;00m\n\u001b[1;32m     74\u001b[0m \n\u001b[0;32m   (...)\u001b[0m\n\u001b[1;32m    110\u001b[0m \u001b[38;5;124;03mplot_avg_retrain(4, path=['mini-test-waterworld_history.csv'])\u001b[39;00m\n\u001b[1;32m    111\u001b[0m \u001b[38;5;124;03m\"\"\"\u001b[39;00m\n\u001b[1;32m    113\u001b[0m \u001b[38;5;66;03m#base_x, base_y, mean = baseline_prediction_interval(4, path=['mini-test-waterworld_history.csv'])\u001b[39;00m\n\u001b[0;32m--> 114\u001b[0m a \u001b[38;5;241m=\u001b[39m \u001b[43mget_avg_retrain\u001b[49m\u001b[43m(\u001b[49m\u001b[38;5;241;43m4\u001b[39;49m\u001b[43m,\u001b[49m\u001b[43m \u001b[49m\u001b[43mpath\u001b[49m\u001b[38;5;241;43m=\u001b[39;49m\u001b[43m[\u001b[49m\u001b[38;5;124;43m'\u001b[39;49m\u001b[38;5;124;43mmini-test-waterworld_history.csv\u001b[39;49m\u001b[38;5;124;43m'\u001b[39;49m\u001b[43m]\u001b[49m\u001b[43m)\u001b[49m\n\u001b[1;32m    115\u001b[0m \u001b[38;5;28mtype\u001b[39m(a)\n",
      "Cell \u001b[0;32mIn[142], line 58\u001b[0m, in \u001b[0;36mget_avg_retrain\u001b[0;34m(task_agents, path, pre_agents)\u001b[0m\n\u001b[1;32m     55\u001b[0m         _df[\u001b[38;5;124m'\u001b[39m\u001b[38;5;124msteps_pretrained\u001b[39m\u001b[38;5;124m'\u001b[39m] \u001b[38;5;241m=\u001b[39m _df[\u001b[38;5;124m'\u001b[39m\u001b[38;5;124mpretrained_steps\u001b[39m\u001b[38;5;124m'\u001b[39m]\n\u001b[1;32m     56\u001b[0m     \u001b[38;5;66;03m# Filter for NON tabula rasa\u001b[39;00m\n\u001b[0;32m---> 58\u001b[0m     _df \u001b[38;5;241m=\u001b[39m _df[\u001b[43m_df\u001b[49m\u001b[43m[\u001b[49m\u001b[38;5;124;43m'\u001b[39;49m\u001b[38;5;124;43msteps_pretrained\u001b[39;49m\u001b[38;5;124;43m'\u001b[39;49m\u001b[43m]\u001b[49m\u001b[38;5;241m>\u001b[39m\u001b[38;5;241m0\u001b[39m]\n\u001b[1;32m     59\u001b[0m     data\u001b[38;5;241m.\u001b[39mappend(_df)\n\u001b[1;32m     61\u001b[0m d1 \u001b[38;5;241m=\u001b[39m (pd\u001b[38;5;241m.\u001b[39mconcat(data, ignore_index\u001b[38;5;241m=\u001b[39m\u001b[38;5;28;01mTrue\u001b[39;00m)\n\u001b[1;32m     62\u001b[0m       \u001b[38;5;241m.\u001b[39mgroupby([\u001b[38;5;124m'\u001b[39m\u001b[38;5;124msteps_pretrained\u001b[39m\u001b[38;5;124m'\u001b[39m,\u001b[38;5;124m'\u001b[39m\u001b[38;5;124m_step\u001b[39m\u001b[38;5;124m'\u001b[39m])[\u001b[38;5;124m'\u001b[39m\u001b[38;5;124menv_runners/episode_reward_mean\u001b[39m\u001b[38;5;124m'\u001b[39m]\n\u001b[1;32m     63\u001b[0m       \u001b[38;5;241m.\u001b[39mmean()\n\u001b[1;32m     64\u001b[0m       \u001b[38;5;241m.\u001b[39mreset_index()\n\u001b[1;32m     65\u001b[0m       )\u001b[38;5;241m/\u001b[39mtask_agents\n",
      "File \u001b[0;32m/opt/homebrew/lib/python3.11/site-packages/pandas/core/frame.py:3761\u001b[0m, in \u001b[0;36mDataFrame.__getitem__\u001b[0;34m(self, key)\u001b[0m\n\u001b[1;32m   3759\u001b[0m \u001b[38;5;28;01mif\u001b[39;00m \u001b[38;5;28mself\u001b[39m\u001b[38;5;241m.\u001b[39mcolumns\u001b[38;5;241m.\u001b[39mnlevels \u001b[38;5;241m>\u001b[39m \u001b[38;5;241m1\u001b[39m:\n\u001b[1;32m   3760\u001b[0m     \u001b[38;5;28;01mreturn\u001b[39;00m \u001b[38;5;28mself\u001b[39m\u001b[38;5;241m.\u001b[39m_getitem_multilevel(key)\n\u001b[0;32m-> 3761\u001b[0m indexer \u001b[38;5;241m=\u001b[39m \u001b[38;5;28;43mself\u001b[39;49m\u001b[38;5;241;43m.\u001b[39;49m\u001b[43mcolumns\u001b[49m\u001b[38;5;241;43m.\u001b[39;49m\u001b[43mget_loc\u001b[49m\u001b[43m(\u001b[49m\u001b[43mkey\u001b[49m\u001b[43m)\u001b[49m\n\u001b[1;32m   3762\u001b[0m \u001b[38;5;28;01mif\u001b[39;00m is_integer(indexer):\n\u001b[1;32m   3763\u001b[0m     indexer \u001b[38;5;241m=\u001b[39m [indexer]\n",
      "File \u001b[0;32m/opt/homebrew/lib/python3.11/site-packages/pandas/core/indexes/base.py:3655\u001b[0m, in \u001b[0;36mIndex.get_loc\u001b[0;34m(self, key)\u001b[0m\n\u001b[1;32m   3653\u001b[0m     \u001b[38;5;28;01mreturn\u001b[39;00m \u001b[38;5;28mself\u001b[39m\u001b[38;5;241m.\u001b[39m_engine\u001b[38;5;241m.\u001b[39mget_loc(casted_key)\n\u001b[1;32m   3654\u001b[0m \u001b[38;5;28;01mexcept\u001b[39;00m \u001b[38;5;167;01mKeyError\u001b[39;00m \u001b[38;5;28;01mas\u001b[39;00m err:\n\u001b[0;32m-> 3655\u001b[0m     \u001b[38;5;28;01mraise\u001b[39;00m \u001b[38;5;167;01mKeyError\u001b[39;00m(key) \u001b[38;5;28;01mfrom\u001b[39;00m \u001b[38;5;21;01merr\u001b[39;00m\n\u001b[1;32m   3656\u001b[0m \u001b[38;5;28;01mexcept\u001b[39;00m \u001b[38;5;167;01mTypeError\u001b[39;00m:\n\u001b[1;32m   3657\u001b[0m     \u001b[38;5;66;03m# If we have a listlike key, _check_indexing_error will raise\u001b[39;00m\n\u001b[1;32m   3658\u001b[0m     \u001b[38;5;66;03m#  InvalidIndexError. Otherwise we fall through and re-raise\u001b[39;00m\n\u001b[1;32m   3659\u001b[0m     \u001b[38;5;66;03m#  the TypeError.\u001b[39;00m\n\u001b[1;32m   3660\u001b[0m     \u001b[38;5;28mself\u001b[39m\u001b[38;5;241m.\u001b[39m_check_indexing_error(key)\n",
      "\u001b[0;31mKeyError\u001b[0m: 'steps_pretrained'"
     ]
    }
   ],
   "source": [
    "import numpy as np\n",
    "import pandas as pd\n",
    "\n",
    "\n",
    "def baseline_prediction_interval(num_agents, path):\n",
    "    data = []\n",
    "    for p in path:\n",
    "        # Read each table\n",
    "        run_info = pd.read_csv(f\"{p}.csv\")\n",
    "        run_info = run_info\n",
    "\n",
    "        hist = pd.read_csv(f\"{p}_history.csv\")\n",
    "        \n",
    "        _df = pd.read_csv(f\"{p}_history.csv\")\n",
    "        # Filter for number of agents\n",
    "        _df = _df[_df['num_agents']==num_agents]\n",
    "        # Filter for tabula rasa\n",
    "        if 'steps_pretrained' in _df.columns:\n",
    "            _df = _df[_df['steps_pretrained']==0]\n",
    "        elif 'pretrained_steps' in _df.columns:\n",
    "            _df = _df[_df['pretrained_steps']==0]\n",
    "        _df['env_runners/episode_reward_mean'] = (\n",
    "            _df['env_runners/episode_reward_mean'].div(num_agents))\n",
    "        data.append(_df)\n",
    "\n",
    "    seq = (pd.concat(data, ignore_index=True)\n",
    "           .groupby('_step')['env_runners/episode_reward_mean']\n",
    "           )\n",
    "\n",
    "    # Mean and standard deviation per timestep\n",
    "    mean = seq.mean()\n",
    "    std_dev = seq.std()\n",
    "    n = seq.count()\n",
    "\n",
    "    # Calculate the Prediction Interval (PI)\n",
    "    # For large n, using z=1.96 for ~95% coverage. (Central limit theorem)\n",
    "    z = 1.96\n",
    "    margin_of_error = z * std_dev * np.sqrt(1 + 1/n)\n",
    "\n",
    "    # Lower and upper bounds of the PI\n",
    "    lower_bound = mean - margin_of_error\n",
    "    upper_bound = mean + margin_of_error\n",
    "\n",
    "    x = np.concatenate([mean.index, mean.index[::-1]]) * num_agents\n",
    "    y = np.concatenate([upper_bound, lower_bound[::-1]])\n",
    "\n",
    "    return x, y, mean\n",
    "\n",
    "\n",
    "def get_avg_retrain(task_agents, path, pre_agents=2):\n",
    "    data = []\n",
    "    for p in path:\n",
    "        # Read each table\n",
    "        _df = pd.read_csv(p)\n",
    "        # Filter for number of agents\n",
    "        _df = _df[_df['num_agents']==task_agents]\n",
    "        # Correct possible naming disparity\n",
    "        if 'pretrained_steps' in _df.columns:\n",
    "            #_df.rename(columns={'pretrained_steps':'steps_pretrained'})\n",
    "            _df['steps_pretrained'] = _df['pretrained_steps']\n",
    "        # Filter for NON tabula rasa\n",
    "\n",
    "        _df = _df[_df['steps_pretrained']>0]\n",
    "        data.append(_df)\n",
    "\n",
    "    d1 = (pd.concat(data, ignore_index=True)\n",
    "          .groupby(['steps_pretrained','_step'])['env_runners/episode_reward_mean']\n",
    "          .mean()\n",
    "          .reset_index()\n",
    "          )/task_agents\n",
    "\n",
    "    d1['timestep'] = pre_agents*d1['steps_pretrained'] +\\\n",
    "                     task_agents*(d1['_step']-d1['steps_pretrained'])\n",
    "\n",
    "    return d1\n",
    "\n",
    "\"\"\"\n",
    "import plotly.express as px\n",
    "\n",
    "def plot_avg_retrain(task_agents, path, pre_agents=2):\n",
    "    df = get_avg_retrain(task_agents, path)\n",
    "\n",
    "    base_x, base_y, mean = baseline_prediction_interval(task_agents, path)\n",
    "\n",
    "    fig = px.line(\n",
    "        df,\n",
    "        y=\"per_agent_erm\", \n",
    "        x=\"timestep\", color=\"pretrained_steps\", line_group=\"pretrained_steps\",\n",
    "        color_discrete_sequence=px.colors.qualitative.G10, line_shape=\"spline\", \n",
    "        render_mode=\"svg\", \n",
    "        title=f\"{task_agents} Agent Task with {pre_agents} Agent Pretraining\",\n",
    "        labels={\n",
    "            \"per_agent_erm\" : \"Mean Episode Reward per Agent\", \n",
    "            \"timestep\": \"Agent-steps\",\n",
    "            \"pretrained_steps\": \"Pretraining Length\"})\n",
    "\n",
    "    fig.add_trace(go.Scatter(\n",
    "        x=base_x,\n",
    "        y=base_y,\n",
    "        fill='toself',\n",
    "        fillcolor='rgba(0,100,80,0.2)',  # semi-transparent fill\n",
    "        line=dict(color='rgba(255,255,255,0)'),\n",
    "        name=f'Baseline:<br>{task_agents} Agent 95%<br>Prediction<br>Interval',\n",
    "        hoverinfo=\"skip\"\n",
    "    ))\n",
    "\n",
    "    fig.update_layout(width=700, height=450,)\n",
    "\n",
    "    fig.show()\n",
    "    #fig.write_image(f\"{n}task.png\", width=700, height=450)\n",
    "\n",
    "# ['mini-test-waterworld.csv', 'mini-test-waterworld_history.csv']\n",
    "#x, y, mean = baseline_prediction_interval(3, path=['mini-test-waterworld_history.csv'])\n",
    "\n",
    "plot_avg_retrain(4, path=['mini-test-waterworld_history.csv'])\n",
    "\"\"\"\n",
    "\n",
    "#base_x, base_y, mean = baseline_prediction_interval(4, path=['mini-test-waterworld_history.csv'])\n",
    "a = get_avg_retrain(4, path=['mini-test-waterworld_history.csv'])\n",
    "type(a)"
   ]
  },
  {
   "cell_type": "code",
   "execution_count": 3,
   "metadata": {},
   "outputs": [],
   "source": [
    "info = pd.read_csv(\"mini-test-waterworld.csv\")\n",
    "hist = pd.read_csv(\"mini-test-waterworld_history.csv\")\n",
    "\n",
    "info['steps_pretrained']\n",
    "\n",
    "hist['steps_pretrained'] = 0\n",
    "\n",
    "hist.to_csv(f\"mini-test-waterworld_history2.csv\", index=False)"
   ]
  }
 ],
 "metadata": {
  "kernelspec": {
   "display_name": "Python 3",
   "language": "python",
   "name": "python3"
  },
  "language_info": {
   "codemirror_mode": {
    "name": "ipython",
    "version": 3
   },
   "file_extension": ".py",
   "mimetype": "text/x-python",
   "name": "python",
   "nbconvert_exporter": "python",
   "pygments_lexer": "ipython3",
   "version": "3.11.9"
  }
 },
 "nbformat": 4,
 "nbformat_minor": 2
}
