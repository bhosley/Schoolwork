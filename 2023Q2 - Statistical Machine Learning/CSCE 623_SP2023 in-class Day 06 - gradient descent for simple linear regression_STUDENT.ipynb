{
 "cells": [
  {
   "cell_type": "markdown",
   "metadata": {},
   "source": [
    "# Day 5 - Gradient descent for simple linear regression\n",
    "\n",
    "Extending code from day 3\n",
    "\n",
    "caution:  this dataset has very few points, so local gradient estimation\n",
    "using partial gradients in each direction (B0, B1)\n",
    "has very little gradient to descend on.  \n",
    "\n",
    "This will make it slow and highly dependent on your starting beta.  \n",
    "Normally there are other much-better numerical techniques to deal with this...  \n",
    "Dont use this local gradient descent code on real problems - there are better solutions!\n"
   ]
  },
  {
   "cell_type": "code",
   "execution_count": 1,
   "metadata": {
    "collapsed": false,
    "jupyter": {
     "outputs_hidden": false
    }
   },
   "outputs": [],
   "source": [
    "import numpy as np\n",
    "import matplotlib.pyplot as plt"
   ]
  },
  {
   "attachments": {},
   "cell_type": "markdown",
   "metadata": {},
   "source": [
    "## Code to set up the matrix and make initial guess for Betas\n",
    "\n",
    "\n",
    "For this exercise we will generate 20 datapoints containing student pretest (aptitute test) scores and their corresponding final exam scores using a basis linear function with added gaussian noise\n",
    "\n",
    "(no student code required)"
   ]
  },
  {
   "cell_type": "code",
   "execution_count": null,
   "metadata": {},
   "outputs": [],
   "source": [
    "#code to load your matrix here\n",
    "\n",
    "np.random.seed(42)\n",
    "pretest_scores = np.random.uniform(low=25, high=95, size=20).astype(int)\n",
    "noise = 8*np.random.randn(1,len(pretest_scores))\n",
    "final_exam_scores = (20+0.7*pretest_scores+noise   ).astype(int)\n",
    "final_exam_scores[final_exam_scores>100]=100\n",
    "final_exam_scores[final_exam_scores<0]=100\n",
    "y=final_exam_scores.T\n",
    "\n",
    "#build the design matrix X\n",
    "X = np.vstack((np.ones(len(pretest_scores)),pretest_scores)).T                         "
   ]
  },
  {
   "cell_type": "markdown",
   "metadata": {},
   "source": [
    "## Helper Functions and Utilities\n",
    "\n",
    "(no student code required)"
   ]
  },
  {
   "cell_type": "code",
   "execution_count": 3,
   "metadata": {
    "collapsed": false,
    "jupyter": {
     "outputs_hidden": false
    }
   },
   "outputs": [],
   "source": [
    "#function to generate line points for plotting\n",
    "def computeline(intercept,slope,start_x,end_x):\n",
    "    points_x=[start_x,end_x]\n",
    "    points_y=[intercept,intercept+slope*end_x]\n",
    "    return points_x, points_y\n",
    "\n",
    "#function to plot regression lines through the data\n",
    "def plot_regression_results(X, y, t, ythat, beta0,beta1, show=True, newfig = True, alpha = 1.0):\n",
    "    if newfig:\n",
    "        fig = plt.figure()  #else just keep using current axis\n",
    "    plt.axis([0.,100.,0.,100.])\n",
    "    #plt.axis([-1.,1.,-1.,1.])\n",
    "    #add the points in black\n",
    "    plt.scatter(X[:,1],y,c='k',marker='x')\n",
    "    #add the predicted final exam score for Aptitude test = 80\n",
    "    plt.scatter(t[0,1],ythat,c='g',marker='o',alpha=alpha)\n",
    "    #add the student line in blue\n",
    "    points_x,points_y = computeline(beta0,beta1,0,100)\n",
    "    plt.plot(points_x,points_y,c='r',alpha=alpha)\n",
    "    plt.title('Simple Regression')\n",
    "    plt.ylabel('Final Exam Score')\n",
    "    plt.xlabel('Aptitude test score')\n",
    "    #plt.axis('equal')\n",
    "    plt.grid(True)\n",
    "    if show: plt.show()\n"
   ]
  },
  {
   "attachments": {},
   "cell_type": "markdown",
   "metadata": {},
   "source": [
    "## STEP 1: STUDENT CODE for the updating Beta to search for the best coefficients\n",
    "Complete the code stub below to compute and return the gradient of the cost (error=MSE) surface in the immediate vicinity of the current values of the coefficients\n",
    "\n",
    "An easy way to compute the local gradient is:\n",
    "\n",
    "For theta in this linear regression model, the set of parameters includes (`beta0`, `beta1`), but you should write the code such that it could work for any number of coefficients (not just 2): \n",
    "\n",
    "* compute the errors for the current model parameters on the dataset X\n",
    "* use these errors to determine the gradient of the error with respect to theta. \n",
    "\n",
    "After computing these, return the gradients \n",
    "\n",
    "Hint:  See HOML Chatper 4, page 142-144\n",
    "\n",
    "Hint: the signs of the gradients should be such that ADDING a small amount of the gradient to beta would yield better (lower) RSS when recomputing RSS on the updated betas.   If you find that the instructor-provided gradient descent code that runs later in this notebook leads to worse RSS as the iterations progress, you might have a sign error in your gradient computations."
   ]
  },
  {
   "cell_type": "code",
   "execution_count": 4,
   "metadata": {},
   "outputs": [],
   "source": [
    "def compute_gradients(X,y,theta):\n",
    "    '''\n",
    "    Given the training data X (should have shape [obsCount, featureCount+1])\n",
    "    and the current estimate for theta ( in the shape of [featureCount+1, 1]),\n",
    "    and the correct values for each observation (shape = [obsCount,1])\n",
    "    compute the gradients in each dimension of beta\n",
    "    Returns gradients (shape = [featureCount+1,1] )\n",
    "    '''\n",
    "    \n",
    "    \n",
    "    #STUDENT CODE HERE \n",
    "    #using calculus (partial derivatives), compute the error gradients (slope of the error surface with respect to the theta values)\n",
    "    #-----------------------------------------------------------\n",
    "    gradients = None  #replace with code to compute the gradients\n",
    "    \n",
    "    #--------------------------\n",
    "    #END STUDENT CODE\n",
    "    \n",
    "    assert gradients.shape==(X.shape[1],1) , \"wrong gradient shape returned from compute_gradients\"\n",
    "\n",
    "    \n",
    "    return gradients\n",
    "    \n"
   ]
  },
  {
   "attachments": {},
   "cell_type": "markdown",
   "metadata": {},
   "source": [
    "## STEP 2:  STUDENT CODE for Guessing the starting Beta coefficients \n",
    "\n",
    "This regression activity can yield different results depending on the starting point of the beta guess.\n",
    "one that works well for demonstrating the gradient descent process is one in which the starting conditions are far away from a good line.  For example:\n",
    "\n",
    "`\n",
    " beta0 = 100.0\n",
    " beta1 = -2.0\n",
    "`"
   ]
  },
  {
   "cell_type": "code",
   "execution_count": 5,
   "metadata": {
    "collapsed": false,
    "jupyter": {
     "outputs_hidden": false
    }
   },
   "outputs": [],
   "source": [
    "#beta initial guess here.  Note that later you will find this using gradient descent\n",
    "#beta = np.array([[26.768,0.644]]).T    #guess the best betas (2 x 1 array)  \n",
    "\n",
    "#STUDENT CODE HERE.... GUESS YOUR BETA VALUES FOR Beta0 and Beta1\n",
    "#suggestion:  make the beta guess bad\n",
    "#--------------\n",
    "beta0 = 100.0\n",
    "beta1 = -2.0\n",
    "#------------\n",
    "#END STUDENT CODE"
   ]
  },
  {
   "cell_type": "markdown",
   "metadata": {},
   "source": [
    "## Next, we compute the error when this beta is chosen, and we make predictions on the test point (80.0)\n",
    "\n",
    "(no student code required)"
   ]
  },
  {
   "cell_type": "code",
   "execution_count": 6,
   "metadata": {
    "collapsed": false,
    "jupyter": {
     "outputs_hidden": false
    }
   },
   "outputs": [
    {
     "name": "stdout",
     "output_type": "stream",
     "text": [
      "Beta \n",
      " [[100.]\n",
      " [ -2.]] \n",
      "\n",
      "Design Matrix X \n",
      " [[ 1. 41.]\n",
      " [ 1. 90.]\n",
      " [ 1. 72.]\n",
      " [ 1. 60.]\n",
      " [ 1. 23.]\n",
      " [ 1. 23.]\n",
      " [ 1. 14.]\n",
      " [ 1. 83.]\n",
      " [ 1. 61.]\n",
      " [ 1. 70.]\n",
      " [ 1. 11.]\n",
      " [ 1. 92.]\n",
      " [ 1. 80.]\n",
      " [ 1. 28.]\n",
      " [ 1. 25.]\n",
      " [ 1. 25.]\n",
      " [ 1. 35.]\n",
      " [ 1. 54.]\n",
      " [ 1. 46.]\n",
      " [ 1. 34.]] \n",
      "\n",
      "yhat \n",
      " [[ 18.]\n",
      " [-80.]\n",
      " [-44.]\n",
      " [-20.]\n",
      " [ 54.]\n",
      " [ 54.]\n",
      " [ 72.]\n",
      " [-66.]\n",
      " [-22.]\n",
      " [-40.]\n",
      " [ 78.]\n",
      " [-84.]\n",
      " [-60.]\n",
      " [ 44.]\n",
      " [ 50.]\n",
      " [ 50.]\n",
      " [ 30.]\n",
      " [ -8.]\n",
      " [  8.]\n",
      " [ 32.]] \n",
      "\n",
      "ydif (prediction errors) \n",
      " [[ -26.]\n",
      " [-164.]\n",
      " [-110.]\n",
      " [ -76.]\n",
      " [  13.]\n",
      " [  19.]\n",
      " [  42.]\n",
      " [-138.]\n",
      " [ -82.]\n",
      " [-109.]\n",
      " [  55.]\n",
      " [-169.]\n",
      " [-133.]\n",
      " [   6.]\n",
      " [  15.]\n",
      " [   6.]\n",
      " [ -14.]\n",
      " [ -61.]\n",
      " [ -47.]\n",
      " [  -6.]] \n",
      "\n",
      "\n",
      "RSS:  [[141125.]] \n",
      "\n",
      "MSE:  [[7056.25]] \n",
      "\n",
      "RMSE:  [[84.00148808]] \n",
      "\n",
      "Prediction at Aptitude 80 [[-60.]] \n",
      "\n"
     ]
    },
    {
     "data": {
      "image/png": "[encoded data removed]",
      "text/plain": [
       "<Figure size 432x288 with 1 Axes>"
      ]
     },
     "metadata": {
      "needs_background": "light"
     },
     "output_type": "display_data"
    }
   ],
   "source": [
    "beta = np.array([[beta0,beta1]]).T      \n",
    "\n",
    "#print the Betas and X's\n",
    "print('Beta','\\n', beta, '\\n')\n",
    "print('Design Matrix X', '\\n', X, '\\n')\n",
    "\n",
    "#estimate yhat for all datapoints\n",
    "yhat = np.dot(X,beta)\n",
    "\n",
    "print('yhat','\\n',  yhat,'\\n')\n",
    "\n",
    "#find the difference betwen predicted and truth \n",
    "ydiff = yhat-y\n",
    "print('ydif (prediction errors)', '\\n',ydiff, '\\n')\n",
    "\n",
    "#compute RSS\n",
    "rss = np.dot(ydiff.T,ydiff)\n",
    "#compute MSE\n",
    "mse = rss/len(ydiff)\n",
    "#compute RMSE\n",
    "rmse =  np.sqrt(mse)\n",
    "print()\n",
    "print('RSS: ', rss, '\\n')\n",
    "print('MSE: ', mse, '\\n')\n",
    "print('RMSE: ',rmse, '\\n')\n",
    "\n",
    "#make prediction on aptitude test score of 80\n",
    "t = np.array([[1, 80]])\n",
    "ythat = np.dot(t,beta)\n",
    "print('Prediction at Aptitude 80', ythat, '\\n')\n",
    "plot_regression_results(X, y, t, ythat, beta0, beta1)"
   ]
  },
  {
   "cell_type": "markdown",
   "metadata": {},
   "source": [
    "## Next we use gradient descent to find good values for the coefficients  \n",
    "\n",
    "(no student code required)"
   ]
  },
  {
   "cell_type": "code",
   "execution_count": null,
   "metadata": {},
   "outputs": [
    {
     "name": "stdout",
     "output_type": "stream",
     "text": [
      "Initial beta linear regression plot\n"
     ]
    },
    {
     "data": {
      "image/png": "[encoded data removed]",
      "text/plain": [
       "<Figure size 432x288 with 1 Axes>"
      ]
     },
     "metadata": {},
     "output_type": "display_data"
    },
    {
     "name": "stdout",
     "output_type": "stream",
     "text": [
      "Starting beta search\n",
      "*** Iteration  2500  improvement 1.1722966855741106  updatedRSS:  13086.528249621504 \n",
      "  B0:  90.92207044321388  B1:  -0.45157012929098367 \n",
      "\n",
      "\n",
      "\n",
      "*** Iteration  5000  improvement 0.9195589325536275  updatedRSS:  10484.608230702011 \n",
      "  B0:  82.86266088312082  B1:  -0.32624417470926 \n",
      "\n",
      "\n",
      "\n",
      "*** Iteration  7500  improvement 0.7213094098515285  updatedRSS:  8443.641277003433 \n",
      "  B0:  75.72469872316896  B1:  -0.215246971403729 \n",
      "\n",
      "\n",
      "\n",
      "*** Iteration  10000  improvement 0.5658008924910973  updatedRSS:  6842.690411565338 \n",
      "  B0:  69.40283315510132  B1:  -0.11694028638569401 \n",
      "\n",
      "\n",
      "\n",
      "*** Iteration  12500  improvement 0.44381876289480715  updatedRSS:  5586.891698655165 \n",
      "  B0:  63.803758326020564  B1:  -0.02987318891448122 \n",
      "\n",
      "\n",
      "\n",
      "*** Iteration  15000  improvement 0.34813500104428385  updatedRSS:  4601.833105420123 \n",
      "  B0:  58.84483621606676  B1:  0.04723936411963958 \n",
      "\n",
      "\n",
      "\n",
      "*** Iteration  17500  improvement 0.2730798899988258  updatedRSS:  3829.145235835123 \n",
      "  B0:  54.45287696507303  B1:  0.11553549443919926 \n",
      "\n",
      "\n",
      "\n",
      "*** Iteration  20000  improvement 0.21420605827825057  updatedRSS:  3223.042667009182 \n",
      "  B0:  50.563058646759146  B1:  0.17602320017710374 \n",
      "\n",
      "\n",
      "\n",
      "*** Iteration  22500  improvement 0.1680249519777135  updatedRSS:  2747.610945614727 \n",
      "  B0:  47.11797054716738  B1:  0.22959523315050798 \n",
      "\n",
      "\n",
      "\n",
      "*** Iteration  25000  improvement 0.1318001214058313  updatedRSS:  2374.678486103905 \n",
      "  B0:  44.066765826867474  B1:  0.2770422751880926 \n",
      "\n",
      "\n",
      "\n",
      "*** Iteration  27500  improvement 0.10338507345659309  updatedRSS:  2082.1472705828473 \n",
      "  B0:  41.364411060879505  B1:  0.3190646079831519 \n",
      "\n",
      "\n",
      "\n",
      "*** Iteration  30000  improvement 0.0810960816993429  updatedRSS:  1852.6834363902271 \n",
      "  B0:  38.97102158010389  B1:  0.35628244871050624 \n",
      "\n",
      "\n",
      "\n",
      "*** Iteration  32500  improvement 0.06361241760782832  updatedRSS:  1672.6901624806665 \n",
      "  B0:  36.85127280441224  B1:  0.3892451039529491 \n",
      "\n",
      "\n",
      "\n",
      "*** Iteration  35000  improvement 0.04989809111611976  updatedRSS:  1531.501993257109 \n",
      "  B0:  34.97387887912894  B1:  0.4184390770421318 \n",
      "\n",
      "\n",
      "\n",
      "*** Iteration  37500  improvement 0.03914046330419296  updatedRSS:  1420.752859716035 \n",
      "  B0:  33.31113091997917  B1:  0.4442952484719967 \n",
      "\n",
      "\n",
      "\n",
      "*** Iteration  40000  improvement 0.030702093675472497  updatedRSS:  1333.8803501598234 \n",
      "  B0:  31.838488051360493  B1:  0.46719523536203783 \n",
      "\n",
      "\n",
      "\n",
      "*** Iteration  42500  improvement 0.024082968786160563  updatedRSS:  1265.7368561631415 \n",
      "  B0:  30.53421520197305  B1:  0.4874770238312441 \n",
      "\n",
      "\n",
      "\n",
      "*** Iteration  45000  improvement 0.01889087407835177  updatedRSS:  1212.284552346926 \n",
      "  B0:  29.37906231195512  B1:  0.505439957412158 \n",
      "\n",
      "\n",
      "\n",
      "*** Iteration  47500  improvement 0.01481815330248537  updatedRSS:  1170.3561360640658 \n",
      "  B0:  28.355980216867668  B1:  0.5213491551302132 \n",
      "\n",
      "\n",
      "\n",
      "*** Iteration  50000  improvement 0.011623478424780842  updatedRSS:  1137.4671496878564 \n",
      "  B0:  27.449869015196214  B1:  0.5354394244557686 \n",
      "\n",
      "\n",
      "\n"
     ]
    },
    {
     "data": {
      "image/png": "[encoded data removed]",
      "text/plain": [
       "<Figure size 432x288 with 1 Axes>"
      ]
     },
     "metadata": {},
     "output_type": "display_data"
    },
    {
     "name": "stdout",
     "output_type": "stream",
     "text": [
      "Done\n",
      "Final Results\n"
     ]
    },
    {
     "data": {
      "image/png": "[encoded data removed]",
      "text/plain": [
       "<Figure size 432x288 with 1 Axes>"
      ]
     },
     "metadata": {},
     "output_type": "display_data"
    },
    {
     "name": "stdout",
     "output_type": "stream",
     "text": [
      "*** Iteration  50000  updatedRSS:  1137.4671496878564 \n",
      "  B0:  27.449869015196214  B1:  0.5354394244557686 \n",
      "\n",
      "\n",
      "\n"
     ]
    }
   ],
   "source": [
    "#Iteratively find best betas using gradient descent\n",
    "\n",
    "#setup the search\n",
    "\n",
    "convergenceThreshold = 0.0000001  #If theta changes less than this amount, finish the search\n",
    "improvement = 99999999.0  #start with an unreasonbly high improvement\n",
    "\n",
    "eta = 0.0002  #learning rate\n",
    "iteration_count = 0\n",
    "max_iterations=50000\n",
    "done = False\n",
    "\n",
    "\n",
    "t = np.array([[1, 80]])\n",
    "\n",
    "comparisonBeta = np.array([[0],[0]])  #placeholder for comparing whether to plot new graphs or not\n",
    "\n",
    "print(\"Initial beta linear regression plot\")\n",
    "\n",
    "plot_regression_results(X, y, t, ythat, beta0,beta1)\n",
    "ythat = np.dot(t,beta)\n",
    "\n",
    "\n",
    "print(\"Starting beta search\")\n",
    "\n",
    "theta=beta  # we will optimize theta parameters which will be initialized to beta\n",
    "alpha = 0.0\n",
    "while not done and iteration_count < max_iterations:\n",
    "    #capture current rss value\n",
    "    iteration_count = iteration_count+1\n",
    "\n",
    "    yhatold = np.dot(X,theta)\n",
    "    oldRss = np.dot((yhatold-y).T , (yhatold-y))\n",
    "    \n",
    "    #call the student-written code to find the gradient of the cost surface\n",
    "    #at the current coefficient values (beta)\n",
    "\n",
    "    gradients = compute_gradients(X,y,theta)\n",
    " \n",
    "    thetaNew = theta - (eta * gradients)\n",
    "    thetaChange = thetaNew-theta\n",
    "    \n",
    "    #test for convergence    \n",
    "    #if total change in theta is small then done\n",
    "    done = np.dot(thetaChange.T,thetaChange) <convergenceThreshold   #compute L2 size of the change and check against threshold\n",
    "    \n",
    "    theta = thetaNew\n",
    "    \n",
    "    #test for amount of improvement in RSS\n",
    "    yhat = np.dot(X,thetaNew)\n",
    "    updatedRss = np.dot((yhat-y).T , (yhat-y))\n",
    "    \n",
    "    #the following code will print an update after a certain number of iterations\n",
    "    displayEveryIterations=int(max_iterations/20.)  #how many iterations to run before displaying an update\n",
    "\n",
    "    if not np.mod(iteration_count,displayEveryIterations):   \n",
    "\n",
    "        ythat = np.dot(t,theta)\n",
    "        beta0 = theta[0,0]\n",
    "        beta1 = theta[1,0]\n",
    "        \n",
    "        if alpha <=0.95:\n",
    "            alpha = alpha+ 0.05        \n",
    "        #only plot regression results if the beta is interestingly different\n",
    "        comparisonYhat = np.dot(X,comparisonBeta)\n",
    "        comparisonRSS = np.dot((comparisonYhat-y).T , (comparisonYhat-y))\n",
    "        #print(\" TEMP comparison delta:\", comparisonRSS, updatedRss, comparisonRSS-updatedRss)\n",
    "        if ((comparisonRSS-updatedRss)>5):\n",
    "            plot_regression_results(X, y, t, ythat, beta0,beta1,show=False,newfig=False,alpha=alpha)\n",
    "            comparisonBeta = np.copy(theta)\n",
    "            #print(\"did the if\")\n",
    "            \n",
    "            improvement = oldRss-updatedRss\n",
    "            print('*** Iteration ',iteration_count,\n",
    "              ' improvement',improvement.item(),  \n",
    "              ' updatedRSS: ',updatedRss.item(),\n",
    "              '\\n',\n",
    "              ' B0: ', beta0.item(), ' B1: ', beta1.item(),\n",
    "              '\\n\\n\\n' )\n",
    "        else: \n",
    "            print(\" Not plotting... no sigificant change in line by iteration \", iteration_count, \", updatedRSS=\", updatedRss.item() )\n",
    "        \n",
    "        \n",
    "\n",
    "       \n",
    "plt.show()  #flush the graphics buffer\n",
    "print(\"Done\")\n",
    "\n",
    "print(\"Final Results\")\n",
    "plot_regression_results(X, y, t, ythat, beta0,beta1)\n",
    "print('*** Iteration ',iteration_count,\n",
    "        ' updatedRSS: ',updatedRss.item(),\n",
    "        '\\n',\n",
    "        ' B0: ', beta0.item(), ' B1: ', beta1.item(),\n",
    "         '\\n\\n\\n' )\n",
    "\n",
    "\n"
   ]
  },
  {
   "cell_type": "code",
   "execution_count": null,
   "metadata": {},
   "outputs": [],
   "source": []
  }
 ],
 "metadata": {
  "kernelspec": {
   "display_name": "Python 3",
   "language": "python",
   "name": "python3"
  },
  "language_info": {
   "codemirror_mode": {
    "name": "ipython",
    "version": 3
   },
   "file_extension": ".py",
   "mimetype": "text/x-python",
   "name": "python",
   "nbconvert_exporter": "python",
   "pygments_lexer": "ipython3",
   "version": "3.9.12"
  }
 },
 "nbformat": 4,
 "nbformat_minor": 4
}
