{
 "cells": [
  {
   "cell_type": "markdown",
   "metadata": {
    "id": "9lAsyeOwFnoX"
   },
   "source": [
    "# CSCE 623 Homework Assignment 2\n"
   ]
  },
  {
   "cell_type": "markdown",
   "metadata": {
    "id": "46d-KBtJJxN1"
   },
   "source": [
    "### Student Name:  <font color=\"red\">LASTNAME, FIRSTNAME</font>"
   ]
  },
  {
   "cell_type": "markdown",
   "metadata": {
    "id": "Yna07rL4Jz43"
   },
   "source": [
    "### Date: <font color=\"red\">April XX, 2022</font>"
   ]
  },
  {
   "cell_type": "markdown",
   "metadata": {
    "id": "kS60EAw9MiU2"
   },
   "source": [
    "## Simple Linear Regression"
   ]
  },
  {
   "cell_type": "markdown",
   "metadata": {
    "id": "zXzR22oMKEtf"
   },
   "source": [
    "## Overview\n",
    "\n",
    "In this homework assignment, you will conduct simple linear regression using the concepts you've learned in class and from the course ISLR and HOML texts. Using a dataset of automobile data, you will first attempt to find the y-intercept of the relationship between horsepower and miles per gallon manually using a numerical process. You will then calculate the exact solution using a closed-form analytical method and compare your results. Finally, you will use the Python `scikit-learn` (aka `sklearn`) package to fit a linear model to the data.\n",
    "\n",
    "This assignment includes both written and programming components.\n",
    "\n"
   ]
  },
  {
   "cell_type": "markdown",
   "metadata": {
    "id": "qbbSOVyq7lYk"
   },
   "source": [
    "### Written Components\n",
    "Answers to written components should include not only the answer to the question, but they should also include supporting information. You should provide justification or supporting information even if the question only asks for a single number or short answer."
   ]
  },
  {
   "cell_type": "markdown",
   "metadata": {
    "id": "a-5OaiNO7m6F"
   },
   "source": [
    "### Programming Components\n",
    "Use Python to perform any manipulations you make to provided datasets, all calculations and mathematical transformations, and to generate graphs, figures, or other support to explain how you arrived at your written answers."
   ]
  },
  {
   "cell_type": "markdown",
   "metadata": {
    "id": "a0Zjdxie-jWf"
   },
   "source": [
    "### Imports (instructor provided code)\n",
    "\n",
    "First we import common packages needed for this HW "
   ]
  },
  {
   "cell_type": "code",
   "execution_count": null,
   "metadata": {
    "id": "LAEpXYjRFnoe"
   },
   "outputs": [],
   "source": [
    "import numpy as np\n",
    "import matplotlib.pyplot as plt\n",
    "\n",
    "#make plots inline using jupyter magic\n",
    "%matplotlib inline\n",
    "\n",
    "import pandas as pd\n",
    "from pandas.plotting import scatter_matrix\n",
    "from sklearn import datasets, linear_model \n",
    "from sklearn.metrics import mean_squared_error\n",
    "from sklearn.metrics import explained_variance_score\n",
    "from sklearn.model_selection import train_test_split\n",
    "\n",
    "from IPython.display import Markdown as md  #enable markdown within code cell\n",
    "from IPython.display import display, Math, Latex\n",
    "\n",
    "import seaborn as sns"
   ]
  },
  {
   "cell_type": "markdown",
   "metadata": {},
   "source": [
    "For each step, use the step-named boolean (True/False) flag to keep track for yourself about whether you have completed all of the required steps. \n",
    "These flags dont affect the operation of the program.\n",
    "\n",
    "Initial conditions:  set all completion status of steps to False\n",
    "\n",
    "After you believe you have completed each step, uncomment the line to set its step status to True\n",
    "\n",
    "Example:  `STEP_00_COMPLETE = True`\n",
    "\n",
    "Before Submission/Final Check:  \n",
    "* Restart Kernel and Run all Cells to ensure your step status propagates to the final cell in the notebook\n",
    "* Final check:  Ensure all the Step statuses at in the final cell of the notebook are True"
   ]
  },
  {
   "cell_type": "code",
   "execution_count": null,
   "metadata": {},
   "outputs": [],
   "source": [
    "#reset all step completion values to logical False\n",
    "\n",
    "steplist = list(range(16))\n",
    "stepnames = ['STEP_{:02d}_COMPLETE'.format(x) for x in steplist]\n",
    "for s in stepnames: exec(\"%s = False\" % (s))\n",
    "\n",
    "def check_step_status():\n",
    "    for s in stepnames:\n",
    "        print(s,\":\",globals()[s])\n",
    "\n",
    "check_step_status()\n",
    "    "
   ]
  },
  {
   "cell_type": "markdown",
   "metadata": {
    "id": "A5yhrcvjN0AD"
   },
   "source": [
    "### STEP 0  (optional student coding section)\n"
   ]
  },
  {
   "cell_type": "markdown",
   "metadata": {
    "id": "pFdGmA3GN3_q"
   },
   "source": [
    "Install any packages you need for your notebook.  In general, you should avoid this for this HW since what you need has most likely been imported already.  Additionaly, if using the Google Colab environment, you should not need to install any additional packages."
   ]
  },
  {
   "cell_type": "code",
   "execution_count": null,
   "metadata": {
    "id": "LAEpXYjRFnoe"
   },
   "outputs": [],
   "source": [
    "#STUDENT SOLUTION ADDS ADDITIONAL PACKAGES...\n",
    "\n",
    "### ------------ STUDENT CODE HERE----------------\n",
    "\n",
    "#leave this blank if no addtional imports\n",
    "\n",
    "\n",
    "### ------------ END STUDENT CODE HERE----------------\n",
    "\n",
    "#STEP_00_COMPLETE = True"
   ]
  },
  {
   "cell_type": "markdown",
   "metadata": {
    "id": "Z4Lwf_jiXqXK"
   },
   "source": [
    "### Data Analysis\n",
    "\n",
    "In steps 1-2, you'll import and conduct an analysis of the `auto.csv` dataset."
   ]
  },
  {
   "cell_type": "markdown",
   "metadata": {
    "id": "EwKDAUtjFnof"
   },
   "source": [
    "#### STEP 1"
   ]
  },
  {
   "cell_type": "markdown",
   "metadata": {
    "id": "G7c6P84MOuJB"
   },
   "source": [
    "For this assignment, you will use the auto.csv dataset located at https://raw.githubusercontent.com/afit-csce623-master/datasets/main/auto.csv.  If for some reason you dont have access to this dataset, let your instructor know as soon as possible.\n",
    "\n",
    "This dataset includes missing values, denoted as \"?\". You must handle these missing values. A suggested option for this dataset is to remove observations with missing data.\n",
    "\n",
    "Split the test and training dataset such that the training set contains 75% of the remaining data after removing NaNs\n",
    "* Store the *test* dataset in a `pandas` `dataframe` called `test_df`\n",
    "* Store the *training* dataset in a `pandas` `dataframe` called `train_df`."
   ]
  },
  {
   "cell_type": "code",
   "execution_count": null,
   "metadata": {
    "colab": {
     "base_uri": "https://localhost:8080/",
     "height": 204
    },
    "id": "_tQNDIVeFnog",
    "outputId": "7fe02aac-b86c-4d11-998f-7cce8aa88610"
   },
   "outputs": [],
   "source": [
    "#STEP 1\n",
    "\n",
    "#STUDENT CODE - insert code to load auto.csv using pandas and preprocess it (handle missing values)\n",
    "# store your data in a dataframe called 'data'\n",
    "\n",
    "random_state = 42  #for reproducability during train_test_split\n",
    "\n",
    "### ------------  STUDENT CODE HERE----------------\n",
    "\n",
    "\n",
    "\n",
    "### ------------ END STUDENT CODE HERE----------------|\n",
    "\n",
    "\n",
    "print(\"Confirm the NaNs in the dataset are dropped by checking for missing rows\")\n",
    "missing_df = alldata[alldata.isna().any(axis=1)]\n",
    "print(missing_df.shape[0], \"rows with missing data remain\\n\")\n",
    "\n",
    "#show the dataset was loaded by displaying first few rows\n",
    "print(\"train size\",train_df.shape, \"test size\", test_df.shape)\n",
    "print(\"training set sample of rows:\")\n",
    "display(train_df.head())\n",
    "\n",
    "#STEP_01_COMPLETE = True"
   ]
  },
  {
   "cell_type": "markdown",
   "metadata": {
    "id": "L1HzMDO0Fnoh"
   },
   "source": [
    "#### STEP 2\n",
    "A common first step after importing a dataset and splitting into training and test is to explore the training set. Useful `pandas` `dataframe` methods include `info`, `hist`, and `corr` as well as `scatter_matrix` in `pandas.plotting`. You may also find the `pairplot` function in the `seaborn` package to be useful.\n",
    "\n",
    "Use Python to do the following and then answer the questions below:\n",
    "\n",
    "1. Display statistics of the dataset.\n",
    "2. Display a histogram of each of the individual feature values.\n",
    "3. Choose a subset of at least 5 attributes you expect to be related to one another and display a scatterplot of each of the pairings between each possible pair of these attributes."
   ]
  },
  {
   "cell_type": "markdown",
   "metadata": {
    "id": "gP7IE26KSQiR"
   },
   "source": [
    "##### Programming"
   ]
  },
  {
   "cell_type": "code",
   "execution_count": null,
   "metadata": {
    "colab": {
     "base_uri": "https://localhost:8080/",
     "height": 1000
    },
    "id": "8o2O3DAPFnoh",
    "outputId": "bd808aad-c005-4fbe-a1ba-419237d059d4"
   },
   "outputs": [],
   "source": [
    "#STEP 2\n",
    "\n",
    "#STUDENT CODE - Insert code to explore the dataset here\n",
    "### ------------  STUDENT CODE HERE----------------\n",
    "\n",
    "\n",
    "### ------------ END STUDENT CODE HERE----------------\n",
    "\n"
   ]
  },
  {
   "cell_type": "markdown",
   "metadata": {
    "id": "9lRxutBfFnoi"
   },
   "source": [
    "##### <font color='blue'>Written Responses</font>\n",
    "\n",
    "1. How many observations/datapoints are there?\n",
    "   \n",
    "   <font color='green'>STUDENT ANSWER</font>\n",
    "\n",
    "\n",
    "2. How many features/attributes are there per observation? Describe these features in terms of type of data (feature/response and numerical/categorical)\n",
    "   \n",
    "   <font color='green'>STUDENT ANSWER</font>\n",
    "\n",
    "\n",
    "3. Describe the distribution of each feature in terms of statistical descriptions (e.g., uniform, normal/Gaussian, exponential, skewed, multi-modal).\n",
    "\n",
    "   <font color='green'>STUDENT ANSWER</font>\n",
    "\n",
    "\n",
    "4. Describe the attributes you chose for relational analysis in terms of weak- and strong-relationships, linear and non-linear relationships, and positive and negative correlations.\n",
    "\n",
    "   <font color='green'>STUDENT ANSWER</font>\n",
    "\n"
   ]
  },
  {
   "cell_type": "code",
   "execution_count": null,
   "metadata": {
    "id": "2j_FdhbT8GRP"
   },
   "outputs": [],
   "source": [
    "#STEP_02_COMPLETE = True"
   ]
  },
  {
   "cell_type": "markdown",
   "metadata": {
    "id": "sZN0PgymX87b"
   },
   "source": [
    "### Find optimal $\\beta_1$ value\n",
    "\n",
    "In steps 3-7, you'll find an optimal $\\beta_1$ value assuming $\\beta_0$ = 40."
   ]
  },
  {
   "cell_type": "markdown",
   "metadata": {
    "id": "E_WKjobOFnoj"
   },
   "source": [
    "#### STEP 3\n",
    "Make a single scatterplot of horsepower (x axis) by MPG (y axis). use `matplotlib` `pyplot`'s `scatter` function.  Ensure your x and y axis lables are labeled, tickmarks are reasonable and the title of the graph is correct.\n",
    "\n",
    "Set the axes so that the origin (0,0) is included, as well as all of the datapoints. Label axes appropriately, \"Horsepower\" and \"MPG\"). \n",
    "\n",
    "Assuming the relationship between Horsepower and MPG is linear and $\\beta_0$ (y-intercept) is fixed at 40, estimate a value of `beta1guess` (slope) from a visual inspection of the scatterplot."
   ]
  },
  {
   "cell_type": "code",
   "execution_count": null,
   "metadata": {
    "colab": {
     "base_uri": "https://localhost:8080/",
     "height": 283
    },
    "id": "CrOFmK8cFnoj",
    "outputId": "0cc59ea7-8bc4-4405-b9f9-06e744f5a00d"
   },
   "outputs": [],
   "source": [
    "#STEP 3\n",
    "\n",
    "beta0init = 40.  #dont change this initialization value in this step\n",
    "\n",
    "#STUDENT CODE - Make a single scatterplot of horsepower (x axis) by MPG (y axis) \n",
    "# Insert the value of beta1guess based on eyeballing the graph\n",
    "### ------------ STUDENT CODE HERE----------------\n",
    "\n",
    "\n",
    "### ------------ END STUDENT CODE HERE----------------\n",
    "\n",
    "\n",
    "md(r\"Guess for $\\beta_1$ = %f\" %beta1guess)\n",
    "\n",
    "#STEP_03_COMPLETE = True"
   ]
  },
  {
   "cell_type": "markdown",
   "metadata": {
    "id": "Vv6PR9nqFnok"
   },
   "source": [
    "#### STEP 4\n",
    "Make a `numpy` array of possible $\\beta_1$ values named `beta1bracket` that surround your `beta1guess` value. Do not hard code your values. Instead, use code. You may find the `numpy` `arange` or the `linspace` functions useful."
   ]
  },
  {
   "cell_type": "code",
   "execution_count": null,
   "metadata": {
    "colab": {
     "base_uri": "https://localhost:8080/"
    },
    "id": "0r8oTkVGFnok",
    "outputId": "e9b793d9-dcde-470d-ea45-9085f95e78f4"
   },
   "outputs": [],
   "source": [
    "#STEP 4\n",
    "\n",
    "#STUDENT CODE - Insert code to make a set of possible beta1 values to test & display the values you chose\n",
    "\n",
    "beta1bracket = None #placeholder\n",
    "### ------------  STUDENT CODE HERE----------------\n",
    "\n",
    "\n",
    "### ------------ END STUDENT CODE HERE----------------\n",
    "\n",
    "print(beta1bracket)\n",
    "#STEP_04_COMPLETE = True"
   ]
  },
  {
   "cell_type": "markdown",
   "metadata": {
    "id": "KziJNpVLFnol"
   },
   "source": [
    "#### STEP 5a\n",
    "\n",
    "Create a function `rss1d(beta0, beta1, x, y)` to compute the sum of squared residuals (RSS) for a given $\\beta_0$ and $\\beta_1$ and a vector of input features `x` and target values `y`. You may assume that `x` and `y` are each single vector arrays (in this case, `pandas` Series)."
   ]
  },
  {
   "cell_type": "code",
   "execution_count": null,
   "metadata": {
    "id": "2f5iTroKFnol"
   },
   "outputs": [],
   "source": [
    "#STEP 5\n",
    "\n",
    "\n",
    "#rssbeta1 = None\n",
    "\n",
    "def rss1d(beta0, beta1, x, y):\n",
    "    '''compute the sum of squared residuas for a given beta_0 and beta_1 over a vector of input features x and target values y'''\n",
    "    \n",
    "    function_output = None #placeholder for the output of your function\n",
    "    \n",
    "    #remember to indent your code for the function internals\n",
    "\n",
    "    ### ------------  STUDENT CODE HERE----------------\n",
    "\n",
    "   \n",
    "    ### ------------ END STUDENT CODE HERE----------------\n",
    "    \n",
    "    return function_output\n",
    "\n",
    "    \n",
    "    "
   ]
  },
  {
   "cell_type": "markdown",
   "metadata": {
    "id": "KziJNpVLFnol"
   },
   "source": [
    "#### STEP 5b\n",
    "\n",
    "Then, call the function function created abover to compute the RSS for the fixed `beta0init` value (40) and for each member of the `beta1bracket` vector you created in STEP 4. Store these RSS values in a `numpy` array named `rssbeta1`."
   ]
  },
  {
   "cell_type": "code",
   "execution_count": null,
   "metadata": {
    "id": "2f5iTroKFnol"
   },
   "outputs": [],
   "source": [
    "#STUDENT CODE - Insert code to compute the sum of squared residual errors (RSS) under each possible beta1bracket member.\n",
    "\n",
    "\n",
    "rssbeta1 = None #placeholder for your code to store the result\n",
    "\n",
    "### ------------  STUDENT CODE HERE----------------\n",
    "\n",
    "\n",
    "\n",
    "### ------------ END STUDENT CODE HERE----------------\n",
    "\n",
    "\n",
    "#STEP_05_COMPLETE = True"
   ]
  },
  {
   "cell_type": "markdown",
   "metadata": {
    "id": "mJ7q_15OFnom"
   },
   "source": [
    "#### STEP 6\n",
    "\n",
    "Make a new plot of $\\beta_1$ values on the x axis and the RSS values you calculated in STEP 5 on the y axis (computed in step 5). Label your axes and use math fonts in your labels.\n",
    "\n",
    "Use the `numpy` function `argmin` to find the $\\beta_1$ value having the smallest RSS. Store this value in a variable named `beta1min`."
   ]
  },
  {
   "cell_type": "code",
   "execution_count": null,
   "metadata": {
    "colab": {
     "base_uri": "https://localhost:8080/",
     "height": 320
    },
    "id": "wlT7lXhdFnom",
    "outputId": "aeb0c910-785a-40d4-df75-5462b97ba875"
   },
   "outputs": [],
   "source": [
    "#STEP 6\n",
    "\n",
    "#STUDENT CODE - make a new plot of beta_1 values on the x axis and RSS cost on the y axis (computed in step 5). \n",
    "#label your axes and use math fonts in your labels if possible\n",
    "#find the beta1 value having the smallest RSS, and assign this value to beta1min\n",
    "\n",
    "\n",
    "beta1min = None #placeholder\n",
    "\n",
    "\n",
    "### ------------  STUDENT CODE HERE----------------\n",
    "\n",
    "\n",
    "### ------------ END STUDENT CODE HERE----------------\n",
    "\n",
    " \n",
    "\n",
    "#STEP_06_COMPLETE = True"
   ]
  },
  {
   "cell_type": "markdown",
   "metadata": {
    "id": "MyPlYih3Fnon"
   },
   "source": [
    "#### STEP 7\n",
    "\n",
    "Describe the RSS plot you created in STEP 6 by answering the following questions."
   ]
  },
  {
   "cell_type": "markdown",
   "metadata": {
    "id": "MyPlYih3Fnon"
   },
   "source": [
    "1. What is the shape of the plot in STEP 6?  \n",
    "  \n",
    "  <font color='green'>STUDENT ANSWER</font>\n",
    "\n",
    "\n",
    "2. Using the plot, how might someone find the best value of $\\beta_1$:  \n",
    "  \n",
    "  <font color='green'>STUDENT ANSWER</font>\n",
    "\n",
    "\n",
    "3. Select & report value of $\\beta_1$ you think will have the best fit. Note that you may need to improve your estimate in STEP 3 or add additional $\\beta_1$ values in `beta1bracket` in STEP 4, then repeat steps 5 and 6. Assuming the range of values in `beta1bracket` have sufficient granularity and contain an optimal $\\beta_1$ value, you may find the use of the `numpy` function `argmin` will be helpful to find the $\\beta_1$ value having the smallest RSS value.\n",
    "\n",
    "  <font color='green'>STUDENT ANSWER</font>\n",
    "\n"
   ]
  },
  {
   "cell_type": "code",
   "execution_count": null,
   "metadata": {
    "id": "FIgXb5fK8U3f"
   },
   "outputs": [],
   "source": [
    "#STEP_07_COMPLETE = True"
   ]
  },
  {
   "cell_type": "markdown",
   "metadata": {
    "id": "EHSOPqk2aSsz"
   },
   "source": [
    "### Evaluate $\\beta_1$ value\n",
    "\n",
    "In steps 8-12, you'll evaluate the $\\beta_1$ value you discovered in steps 3-7 and compare it to the closed form solution.*italicized text*"
   ]
  },
  {
   "cell_type": "markdown",
   "metadata": {
    "id": "R9iiu6xSFnoo"
   },
   "source": [
    "#### STEP 8\n",
    "Build a new scatterplot with horsepower(x axis) vs MPG (y axis). Label your scatterplot data, \"Raw data\".\n",
    "\n",
    "Add a line to the plot - the linear regression line in red implied by the fixed $\\beta_0 = 40$ (`beta0init`) and your best choice for $\\beta_1$ (`beta1min`). Label your linear regression line, \"1st order fitted line\" in the legend."
   ]
  },
  {
   "cell_type": "code",
   "execution_count": null,
   "metadata": {
    "colab": {
     "base_uri": "https://localhost:8080/",
     "height": 283
    },
    "id": "2Te5dS26Fnoo",
    "outputId": "2ee906c8-42bc-4b47-8f0e-f1862b67e581"
   },
   "outputs": [],
   "source": [
    "#STEP 8\n",
    "\n",
    "#STUDENT CODE - Build a new scatterplot with horsepower(x axis) vs MPG (y axis)\n",
    "# add a line to the plot - the linear regression line implied by the fixed beta0init=40 and your best choice for beta1 \n",
    "\n",
    "### ------------ STUDENT CODE HERE----------------\n",
    "\n",
    "\n",
    "\n",
    "### ------------ END STUDENT CODE HERE----------------\n",
    "\n",
    "\n",
    "#STEP_08_COMPLETE = True"
   ]
  },
  {
   "cell_type": "markdown",
   "metadata": {
    "id": "-4T3LZvrFnop"
   },
   "source": [
    "#### STEP 9\n",
    "Implement equation 3.4 on page 62 to develop the closed-form function `computeBetas(xVec, yVec)` \n",
    "which accepts a column vector of x values and a column vector of y values and returns betas, \n",
    "which is a structure containing the values for the 2 coefficients $\\beta_0$ and $\\beta_1$  "
   ]
  },
  {
   "cell_type": "code",
   "execution_count": null,
   "metadata": {
    "id": "92BdJfUfFnop"
   },
   "outputs": [],
   "source": [
    "#STEP 9\n",
    "\n",
    "#STUDENT CODE - In code, implement equation 3.4 on page 62 to develop the closed-form function computeBetas(xVec, yVec) \n",
    "# which accepts a column vector of x values and a column vector of y values and returns betas, \n",
    "# which is a structure containing the values for the 2 coefficients beta0 and beta1  \n",
    "\n",
    "def computeBetas(xVec, yVec):\n",
    "    function_output = None #placeholder\n",
    "\n",
    "### ------------  STUDENT CODE HERE----------------\n",
    "\n",
    "\n",
    "### ------------ END STUDENT CODE HERE----------------\n",
    "\n",
    "    return function_output\n",
    "\n",
    " \n",
    "\n",
    "#STEP_09_COMPLETE = True"
   ]
  },
  {
   "cell_type": "markdown",
   "metadata": {
    "id": "uSz8ttl3Fnoq"
   },
   "source": [
    "In the `computeBetasMatrixForm` function above I used the matrix form of Equation 3.4 on page 62 of ISLR. The equation is $\\mathbf{b} = \\left(\\mathbf{X}'\\mathbf{X}\\right)^{-1}\\mathbf{X}'\\mathbf{Y}$ and comes from Equation 5.60 on page 200 of _Applied Linear Statistical Models, 5th ed._ by Kutner, Nachtsheim, Neter, and Li. It is the book used in Math 696, Applied General Linear Models. The matrix form calculates the betas approximately 9% faster than the non-matrix form."
   ]
  },
  {
   "cell_type": "markdown",
   "metadata": {
    "id": "5HYBo4xWFnoq"
   },
   "source": [
    "#### STEP 10\n",
    "Compute and display the best $\\beta_0$ and $\\beta_1$ for the auto dataset by calling the closed-form function in step 9"
   ]
  },
  {
   "cell_type": "code",
   "execution_count": null,
   "metadata": {
    "colab": {
     "base_uri": "https://localhost:8080/",
     "height": 77
    },
    "id": "vBrgl69jFnoq",
    "outputId": "1f75d357-aea8-4e12-f9ac-319615d326f3"
   },
   "outputs": [],
   "source": [
    "#STEP 10\n",
    "#STUDENT CODE - Compute and display beta0 and beta1 for the auto dataset by calling the closed-form function in step 9\n",
    "\n",
    "### ------------  STUDENT CODE HERE----------------\n",
    "\n",
    "\n",
    "### ------------ END STUDENT CODE HERE----------------\n",
    "\n",
    "\n",
    "#STEP_10_COMPLETE = True"
   ]
  },
  {
   "cell_type": "markdown",
   "metadata": {
    "id": "egXjJaMGFnoq"
   },
   "source": [
    "#### STEP 11\n",
    "\n",
    "How does the closed form computed value of $\\beta_1$ compare with your estimate of $\\beta_1$ from step 6? \n",
    "\n",
    "<font color='green'>STUDENT ANSWER</font>\n",
    "\n"
   ]
  },
  {
   "cell_type": "code",
   "execution_count": null,
   "metadata": {
    "id": "Cu8Rcup6BBJH"
   },
   "outputs": [],
   "source": [
    "STEP_11_COMPLETE = True"
   ]
  },
  {
   "cell_type": "markdown",
   "metadata": {
    "id": "uGkb7DP1Fnor"
   },
   "source": [
    "#### STEP 12\n",
    "Build a new scatterplot of the training data with horsepower(x axis) vs MPG (y axis). \n",
    "\n",
    "* Label your scatterplot data, \"Raw data\".\n",
    "* Add a <font color=\"green\">green</font> linear regression line formed by the closed form beta values you determined in STEP 10. \n",
    "* Label your linear regression line, \"1st order closed-form fit\".\n",
    "* Add axis labels and a title\n"
   ]
  },
  {
   "cell_type": "code",
   "execution_count": null,
   "metadata": {
    "colab": {
     "base_uri": "https://localhost:8080/",
     "height": 283
    },
    "id": "4HdI1zXqFnor",
    "outputId": "9e38512b-a4d7-479b-eb3a-80cbad250e85"
   },
   "outputs": [],
   "source": [
    "#STEP 12\n",
    "\n",
    "#STUDENT CODE - Build a new scatterplot with horsepower(x axis) vs MPG (y axis)\n",
    "# add a line to the plot - the linear regression line implied by the beta0 and beta1 you determined in step 10 \n",
    "\n",
    "### ------------ STUDENT CODE HERE----------------\n",
    "\n",
    "\n",
    "### ------------ END STUDENT CODE HERE----------------\n",
    "\n",
    "\n",
    "#STEP_12_COMPLETE = True"
   ]
  },
  {
   "cell_type": "markdown",
   "metadata": {
    "id": "aNWzohOf0vBb"
   },
   "source": [
    "### Fit model using `sklearn`"
   ]
  },
  {
   "cell_type": "markdown",
   "metadata": {
    "id": "eeax8VpYFnos"
   },
   "source": [
    "#### STEP 13\n",
    "Use `sklearn`'s `linear_model` function to fit a linear model from horsepower to mpg. Store your model in a variable named `mpg_hp_model`. Using the model's accessors, obtain the coefficients and store them in `beta0` and `beta1`.\n",
    "\n",
    "On the *test set*, compute the explained variance score, and MSE, store the values in variables names  `r2`, and `mse`. Display each of these values.\n",
    "\n",
    "Hint:  see https://scikit-learn.org/stable/modules/generated/sklearn.linear_model.LinearRegression.html"
   ]
  },
  {
   "cell_type": "code",
   "execution_count": null,
   "metadata": {
    "colab": {
     "base_uri": "https://localhost:8080/",
     "height": 131
    },
    "id": "BwewImArFnos",
    "outputId": "7af12714-dfa7-4c41-9afe-7f20a416991e",
    "scrolled": true
   },
   "outputs": [],
   "source": [
    "#STEP13\n",
    "\n",
    "#STUDENT CODE - Use sklearn's linear model function to fit a linar model from horsepower to mpg. \n",
    "# also, display the coefficients, MSE and explained variance score\n",
    "\n",
    "mpg_hp_model= None #placeholder for the linear model from sklearn\n",
    "\n",
    "#placeholders for extracted values from sklearns linear model\n",
    "beta0 = None\n",
    "beta1 = None\n",
    "#placeholders for computed performance values\n",
    "r2 = None\n",
    "mse = None\n",
    "\n",
    "### ------------ STUDENT CODE HERE----------------\n",
    "\n",
    "\n",
    "\n",
    "### ------------ END STUDENT CODE HERE----------------\n",
    "\n",
    "display(md(r'$\\beta_0 =$ %f' %beta0))\n",
    "display(md(r'$\\beta_1 =$ %f' %beta1))\n",
    "display(md(r'Test Set $R^2 =$ %f' %r2))\n",
    "display(md(r'Test Set $MSE =$ %f' %mse))\n",
    "\n",
    "\n",
    "\n",
    "STEP_13_COMPLETE = True"
   ]
  },
  {
   "cell_type": "markdown",
   "metadata": {
    "id": "zmC25I3bFnos"
   },
   "source": [
    "#### STEP 14\n",
    "Using the *test set* data, build a new scatterplot with horsepower (x axis) vs MPG (y axis). Label your scatterplot data, \"Raw data\".\n",
    "\n",
    "Create a new plot with a black linear regression line computed by the `sklearn` model fitted in STEP 13."
   ]
  },
  {
   "cell_type": "code",
   "execution_count": null,
   "metadata": {
    "colab": {
     "base_uri": "https://localhost:8080/",
     "height": 283
    },
    "id": "hgZ-fHCbFnot",
    "outputId": "1b65ee26-190c-4712-f726-d6e5c319a2af"
   },
   "outputs": [],
   "source": [
    "#STEP 14\n",
    "\n",
    "#STUDENT CODE - Build a new scatterplot with horsepower(x axis) vs MPG (y axis)\n",
    "# add a line to the plot - the linear regression line implied by the sklearn model determined in step 13 \n",
    "\n",
    "### ------------ STUDENT CODE HERE----------------\n",
    "\n",
    "   \n",
    "\n",
    "### ------------ END STUDENT CODE HERE----------------\n",
    "\n",
    " \n",
    "\n",
    "#STEP_14_COMPLETE = True"
   ]
  },
  {
   "cell_type": "markdown",
   "metadata": {
    "id": "LIdZRrXyFnot"
   },
   "source": [
    "## STEP 15a:\n",
    "Compute the residual errors in predicting MPG from horsepower using the ```sklearn``` model.  Plot these residual errors as a function of horsepower using a scatterplot.  Add a red horizontal line at y=0 to indicate the zero-error position."
   ]
  },
  {
   "cell_type": "code",
   "execution_count": null,
   "metadata": {
    "colab": {
     "base_uri": "https://localhost:8080/",
     "height": 279
    },
    "id": "PUDyjZyPFnot",
    "outputId": "6a237c0b-37dc-4bfd-a293-06ec10ec247e"
   },
   "outputs": [],
   "source": [
    "#STUDENT CODE\n",
    "\n",
    "\n",
    "### ------------ END STUDENT CODE HERE----------------\n",
    "\n",
    "  \n",
    "\n",
    "\n",
    "### ------------ END STUDENT CODE HERE----------------\n",
    "\n",
    "      "
   ]
  },
  {
   "cell_type": "markdown",
   "metadata": {
    "id": "zUEDzETFFnot"
   },
   "source": [
    "## STEP 15b\n",
    "\n",
    "Describe the plot. Do the errors appear well-distributed, or are there trends in the residuals? If there are trends, explain what these trends indicate about the ability to predict mpg from horsepower using a linear model, and give at least one course of action you could take to make a better model.\n",
    "\n",
    "<font color='green'>STUDENT ANSWER</font>\n",
    "\n",
    "<font color=\"green\">The plot shows the residuals of the fit of mpg estimated from the horsepower feature. The data is heavily represented in lower horsepowers, as discussed above, but it is apparent there is a distinct curvature to the residuals, indicating there may be non-linearity in the relationship between mpg and horsepower. Due to this curvature, it is somewhat difficult to analyze the homoscedasticity of the data, though it appears there may be less variance as the horsepower increases. This finding is obfuscated by the left-skewedness of the distribution. To address these concerns, I would first include a second order term relating mpg and horsepower into the model. Then, I would reexamine the residuals. If heteroscedasticity remains, the data may need to be transformed prior to the model fitting process in order to not invalidate further inference.</font>\n",
    "\n"
   ]
  },
  {
   "cell_type": "code",
   "execution_count": null,
   "metadata": {
    "id": "4I5amrJu8hSB"
   },
   "outputs": [],
   "source": [
    "STEP_15_COMPLETE = True"
   ]
  },
  {
   "cell_type": "markdown",
   "metadata": {
    "id": "htWHch_l8iuZ"
   },
   "source": [
    "## STEP 16 (Optional)\n",
    "Optional (not required, but good practice in developing your coding skills):  build a structure containing possible values for $\\beta_0$ and $\\beta_1$ pairs.   Compute the RSS over all beta pairs at each cell in the matrix on the horsepower vs. MPG data.  Now build a contour and/or 3D plot of these RSS values as shown in the book Figure 3.2 on page 63 (the x and y axes are $\\beta_0$ and $\\beta_1$ and the z axis is RSS).   On your contour/3D plot, add a point at the location of the best $\\beta_0$, $\\beta_1$ coordinates which minimize the RSS.\n",
    "\n",
    "Hint:  `numpy` `meshgrid` may be helpful here (https://numpy.org/doc/stable/reference/generated/numpy.meshgrid.htmlhttps://numpy.org/doc/stable/reference/generated/numpy.meshgrid.html)\n",
    "\n",
    "Hint:  `bb0` and `bb1` are provided as the ideal best beta coefficients - center your contour plot on these values"
   ]
  },
  {
   "cell_type": "code",
   "execution_count": null,
   "metadata": {
    "id": "HKwvzW879S52"
   },
   "outputs": [],
   "source": [
    "#STUDENT CODE\n",
    "\n",
    "\n",
    "bb0=40.670412  #found best beta0 \n",
    "bb1= -0.162513  #found best beta1\n",
    "\n",
    "\n",
    "### ------------  STUDENT CODE HERE----------------\n",
    "\n",
    "\n",
    "\n",
    "### ------------ END STUDENT CODE HERE----------------\n",
    "\n",
    "\n",
    "\n",
    "\n"
   ]
  },
  {
   "cell_type": "code",
   "execution_count": null,
   "metadata": {},
   "outputs": [],
   "source": [
    "check_step_status()\n"
   ]
  }
 ],
 "metadata": {
  "colab": {
   "collapsed_sections": [],
   "name": "hw1_solution.ipynb",
   "provenance": [],
   "toc_visible": true
  },
  "kernelspec": {
   "display_name": "Python 3 (ipykernel)",
   "language": "python",
   "name": "python3"
  },
  "language_info": {
   "codemirror_mode": {
    "name": "ipython",
    "version": 3
   },
   "file_extension": ".py",
   "mimetype": "text/x-python",
   "name": "python",
   "nbconvert_exporter": "python",
   "pygments_lexer": "ipython3",
   "version": "3.9.12"
  }
 },
 "nbformat": 4,
 "nbformat_minor": 4
}
