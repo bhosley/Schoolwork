{
 "cells": [
  {
   "cell_type": "markdown",
   "metadata": {
    "id": "6Js1HtPZQF3c"
   },
   "source": [
    "# CSCE 623 Day 3 Warmup coding\n",
    "\n",
    "This activity focuses on python for numerical computation (e.g. linear algebra) using the numpy package for math variable storage and operator actions.\n",
    "\n",
    "Students will review the basics of \n",
    "* importing packages (numpy) \n",
    "* entring numerical variable structures (scalars, vectors, matrix)\n",
    "* showing the shapes (sizes of the dimensions) of those structures\n"
   ]
  },
  {
   "cell_type": "markdown",
   "metadata": {
    "id": "6Js1HtPZQF3c"
   },
   "source": [
    "First, we import numpy as `np` and show the numpy version using the numpy attribute  `__version__`.  In python, class attributes can be accessed using the `.` notation:  `np.__version__`. Printing something to an output cell can be accomplished using `print( )`, and you can place commas `,` between items if you want to include text (inside quotes) and values.  \n",
    "\n",
    "Showing the version of an import is a quick way to ensure the import was successful.  It will also come in handy when you need to look up peculiarities of this version in the documentation since python packages change frequently."
   ]
  },
  {
   "cell_type": "code",
   "execution_count": 1,
   "metadata": {
    "colab": {
     "base_uri": "https://localhost:8080/"
    },
    "id": "D0HrWvSVMluW",
    "outputId": "550831ca-eaaf-4187-82c9-410866444d63"
   },
   "outputs": [
    {
     "name": "stdout",
     "output_type": "stream",
     "text": [
      "np version is 1.21.1\n"
     ]
    }
   ],
   "source": [
    "import numpy as np\n",
    "print(\"np version is\", np.__version__)\n",
    "\n"
   ]
  },
  {
   "cell_type": "markdown",
   "metadata": {
    "id": "00_MmIUAQmLH"
   },
   "source": [
    "## Instantiating and manipulating variables\n",
    "\n",
    "----------\n",
    "## STUDENT CODING REQUIRED\n",
    "\n",
    "create three variables in numpy using `numpy.array()`:  a_scalar, a_vector and a_matrix.   Each should contain the number \"42\"   "
   ]
  },
  {
   "cell_type": "code",
   "execution_count": 3,
   "metadata": {},
   "outputs": [],
   "source": [
    "#--------STUDENT CODING SECTION\n",
    "\n",
    "#remove the None and add your code to create a scalar containing the value 42\n",
    "a_scalar = np.array(42)\n",
    "\n",
    "#remove the None and add your code to create a vector containing only the single value 42\n",
    "a_vector = np.array([42])\n",
    "\n",
    "#remove the None and add your code to create a matrix (2D numpy array) containing only the single value 42\n",
    "a_matrix = np.array([[42]])\n",
    "\n",
    "#--------END OF STUDENT CODING SECTION\n"
   ]
  },
  {
   "cell_type": "markdown",
   "metadata": {},
   "source": [
    "Assuming that the variables were correctly instantiated, for each variable, we can print the variable, and print the shape of the variable using `.shape`"
   ]
  },
  {
   "cell_type": "code",
   "execution_count": 4,
   "metadata": {
    "colab": {
     "base_uri": "https://localhost:8080/"
    },
    "id": "LCx1Kls0Msbo",
    "outputId": "a52a2967-aad9-483b-809b-7a51dd272466"
   },
   "outputs": [
    {
     "name": "stdout",
     "output_type": "stream",
     "text": [
      "a_scalar = 42\n",
      "a_scalar.shape is  ()\n",
      "a_vector = [42]\n",
      "a_vector.shape is  (1,)\n",
      "a_matrix = [[42]]\n",
      "a_matrix.shape is  (1, 1)\n"
     ]
    }
   ],
   "source": [
    "print(\"a_scalar =\", a_scalar)\n",
    "print(\"a_scalar.shape is \", a_scalar.shape)\n",
    "\n",
    "print(\"a_vector =\", a_vector)\n",
    "print(\"a_vector.shape is \", a_vector.shape)\n",
    "\n",
    "print(\"a_matrix =\", a_matrix)\n",
    "print(\"a_matrix.shape is \", a_matrix.shape)"
   ]
  },
  {
   "cell_type": "markdown",
   "metadata": {
    "id": "wLeIRBe4TmXw"
   },
   "source": [
    "-----\n",
    "## STUDENT CODING REQURIED\n",
    "\n",
    "for each of those variables, take the transpose using the built in `numpy` shortcut `T` and then print the resulting shapes of the transpose.   Did you notice anything interesting about the transposes?"
   ]
  },
  {
   "cell_type": "code",
   "execution_count": 5,
   "metadata": {
    "colab": {
     "base_uri": "https://localhost:8080/"
    },
    "id": "b3akLVYuNW8z",
    "outputId": "5514fc56-0202-42c5-9c9f-cd704d26f3d2"
   },
   "outputs": [
    {
     "name": "stdout",
     "output_type": "stream",
     "text": [
      "()\n",
      "(1,)\n",
      "(1, 1)\n"
     ]
    }
   ],
   "source": [
    "#--------STUDENT CODING SECTION\n",
    "#add code below to print the shapes of the transposes of each of the structures (a_scalar, a_vector, a_matrix)\n",
    "\n",
    "print(a_scalar.T.shape)\n",
    "print(a_vector.T.shape)\n",
    "print(a_matrix.T.shape)\n",
    "\n",
    "#--------END OF STUDENT CODING SECTION"
   ]
  },
  {
   "cell_type": "markdown",
   "metadata": {
    "id": "B-fd1a5SYA3r"
   },
   "source": [
    "Each of the variables (scalar, vector, matrix) contain only a single integer (42).  Lets Check to see if they are equivalent:  We will check for equality usint 3 different methods to see the differences and display the results:\n",
    "\n",
    "> with `==`\n",
    "\n",
    "> with `np.array_equal`\n",
    "\n",
    "> with `np.array_equiv`\n",
    "\n"
   ]
  },
  {
   "cell_type": "code",
   "execution_count": 6,
   "metadata": {
    "colab": {
     "base_uri": "https://localhost:8080/"
    },
    "id": "_bzNoJCnYbHX",
    "outputId": "27e99328-836e-4ed0-b6e6-37295534cd69"
   },
   "outputs": [
    {
     "name": "stdout",
     "output_type": "stream",
     "text": [
      "Numpy == checks\n",
      "a_scalar compare element equivalence to a_vector:  [ True]\n",
      "a_scalar compare element equivalence to a_matrix:  [[ True]]\n",
      "a_vector compare element equivalence to a_matrix:  [[ True]]\n",
      "Numpy array_equal checks\n",
      "a_scalar is np.array_equal to a_vector:  False\n",
      "a_scalar is np.array_equal to a_matrix:  False\n",
      "a_vector is np.array_equal to a_matrix:  False\n",
      "Numpy array_equiv checks\n",
      "a_scalar is np.array_equiv to a_vector:  True\n",
      "a_scalar is np.array_equiv to a_matrix:  True\n",
      "a_vector is np.array_equal to a_matrix:  True\n"
     ]
    }
   ],
   "source": [
    "print(\"Numpy == checks\")\n",
    "\n",
    "print(\"a_scalar compare element equivalence to a_vector: \", a_scalar==a_vector)\n",
    "print(\"a_scalar compare element equivalence to a_matrix: \", a_scalar==a_matrix)\n",
    "print(\"a_vector compare element equivalence to a_matrix: \", a_vector==a_matrix)\n",
    "\n",
    "\n",
    "print(\"Numpy array_equal checks\")\n",
    "print(\"a_scalar is np.array_equal to a_vector: \", np.array_equal(a_scalar,a_vector))\n",
    "print(\"a_scalar is np.array_equal to a_matrix: \", np.array_equal(a_scalar,a_matrix))\n",
    "print(\"a_vector is np.array_equal to a_matrix: \", np.array_equal(a_vector,a_matrix))\n",
    "\n",
    "\n",
    "print(\"Numpy array_equiv checks\")\n",
    "print(\"a_scalar is np.array_equiv to a_vector: \", np.array_equiv(a_scalar,a_vector))\n",
    "print(\"a_scalar is np.array_equiv to a_matrix: \", np.array_equiv(a_scalar,a_matrix))\n",
    "print(\"a_vector is np.array_equal to a_matrix: \", np.array_equiv(a_vector,a_matrix))\n",
    "\n"
   ]
  },
  {
   "cell_type": "markdown",
   "metadata": {},
   "source": [
    "## STUDENT ANSWER REQUIRED\n",
    "\n",
    "in the space below, write your observation of these results... were they all the same?  why or why not\n",
    "hint:  see the following operator APIs for Numpy:\n",
    "* equal (shortcut is \"==\"): https://numpy.org/doc/stable/reference/generated/numpy.equal.html\n",
    "* array_equiv:  https://numpy.org/doc/stable/reference/generated/numpy.array_equiv.html\n",
    "* array_equal:  https://numpy.org/doc/stable/reference/generated/numpy.array_equal.html"
   ]
  },
  {
   "cell_type": "markdown",
   "metadata": {
    "id": "gAY2k_NKUm8v"
   },
   "source": [
    "---\n",
    "STUDENT RESPONSE AREA:\n",
    "* enter your answer here by opening this markdown chunk and typing your answer)\n",
    "\n",
    "\n",
    "SOLUTION OBSERVATION: \n",
    "\n",
    "- Equivalence using the overridden primitive comparision operation returns true in all cases, however the boolean is returned in the number of brackets of the higher dimension of the pair, this leads me to believe that the operation attempts comparison by first attempting to type cast one of the entry data types to be the same as the other. array_equal appears not to do this and thus returns false for all. array_equiv also returns true but without the array brackets arround the boolean, I suspect that this means that this does similar casting to the first, but has an operation to return only the boolean.\n",
    "\n",
    "---\n",
    "\n",
    "\n"
   ]
  },
  {
   "cell_type": "markdown",
   "metadata": {
    "id": "6jz9oIALWqC9"
   },
   "source": [
    "------\n",
    "For the vector you created above, we can also find out whether the vector is `np` `array_equal` to its transpose..."
   ]
  },
  {
   "cell_type": "code",
   "execution_count": 7,
   "metadata": {
    "colab": {
     "base_uri": "https://localhost:8080/"
    },
    "id": "ykTAxG3pW10V",
    "outputId": "394bf31f-1b00-4de3-a253-3012080bb991"
   },
   "outputs": [
    {
     "name": "stdout",
     "output_type": "stream",
     "text": [
      "a_vector is np.array_equal to a_vector.T:  True\n"
     ]
    }
   ],
   "source": [
    "print(\"a_vector is np.array_equal to a_vector.T: \", np.array_equal(a_vector,a_vector.T))\n"
   ]
  },
  {
   "cell_type": "markdown",
   "metadata": {
    "id": "UkmDUyT9X5vw"
   },
   "source": [
    "------\n",
    "lets make an actual meaningful vector in two different ways and see what happens.   Make a one-dimensional vector using `np.array([1, 2])`  and a 2-dimensional \"row vector\" using `np.array([[1, 2]])`, then display the shape of each of these as well as the shapes of their transposes. Finally, check for array_equal and array_equiv"
   ]
  },
  {
   "cell_type": "code",
   "execution_count": 8,
   "metadata": {
    "colab": {
     "base_uri": "https://localhost:8080/"
    },
    "id": "_ffv2Qa3NnYv",
    "outputId": "beb8f8c1-2525-462c-e6ea-7c1ed5a1b875"
   },
   "outputs": [
    {
     "name": "stdout",
     "output_type": "stream",
     "text": [
      "b_vector:  [1 2] , shape =  (2,)\n",
      "b_rowvector:  [[1 2]] , shape =  (1, 2)\n",
      "b_vector np.array_equal to b_rowvector:  False\n",
      "b_vector np.array_equiv to b_rowvector:  True\n"
     ]
    }
   ],
   "source": [
    "b_vector = np.array([1, 2])\n",
    "print(\"b_vector: \", b_vector, \", shape = \", b_vector.shape)\n",
    "\n",
    "b_rowvector = np.array([[1, 2]])\n",
    "print(\"b_rowvector: \", b_rowvector, \", shape = \", b_rowvector.shape)\n",
    "\n",
    "print(\"b_vector np.array_equal to b_rowvector: \", np.array_equal(b_vector,b_rowvector))\n",
    "print(\"b_vector np.array_equiv to b_rowvector: \", np.array_equiv(b_vector,b_rowvector))"
   ]
  },
  {
   "cell_type": "markdown",
   "metadata": {
    "id": "WlNQyaJeV651"
   },
   "source": [
    "----------\n",
    "## STUDENT CODE REQUIRED\n",
    "\n",
    "Given what you saw in the results, create two different COLUMN vectors containing the integer values 1 and 2 using  two different techniques (directly via array creation, and indirectly using Transpose of the previous rowvector).  "
   ]
  },
  {
   "cell_type": "code",
   "execution_count": 11,
   "metadata": {
    "colab": {
     "base_uri": "https://localhost:8080/"
    },
    "id": "L7ETsDyUVrXo",
    "outputId": "8a858cf3-97b4-45b8-c53e-9d6653c4f93b"
   },
   "outputs": [],
   "source": [
    "#--------STUDENT CODING SECTION\n",
    "\n",
    "#replace None with a direct instantiation of a column vector with values 1 and 2\n",
    "c_columnvector1 = np.array([[1],[2]])\n",
    "\n",
    "\n",
    "#replace None with a transpose of the b_rowvector instantiated in the previous code chunk\n",
    "c_columnvector2 = b_rowvector.T\n",
    "\n",
    "\n",
    "#--------END OF STUDENT CODING SECTION"
   ]
  },
  {
   "cell_type": "markdown",
   "metadata": {
    "id": "WlNQyaJeV651"
   },
   "source": [
    "Now lets display their values and shapes, and check for equality and equivalence"
   ]
  },
  {
   "cell_type": "code",
   "execution_count": 12,
   "metadata": {
    "colab": {
     "base_uri": "https://localhost:8080/"
    },
    "id": "L7ETsDyUVrXo",
    "outputId": "8a858cf3-97b4-45b8-c53e-9d6653c4f93b"
   },
   "outputs": [
    {
     "name": "stdout",
     "output_type": "stream",
     "text": [
      "c_columnvector1:  [[1]\n",
      " [2]] ; shape =  (2, 1)\n",
      "c_columnvector2:  [[1]\n",
      " [2]] ; shape =  (2, 1)\n",
      "c_columnvector1 np.array_equal to c_columnvector2:  True\n",
      "c_columnvector1 np.array_equiv to c_columnvector2:  True\n"
     ]
    }
   ],
   "source": [
    "print(\"c_columnvector1: \", c_columnvector1, \"; shape = \", c_columnvector1.shape)\n",
    "print(\"c_columnvector2: \", c_columnvector2, \"; shape = \", c_columnvector2.shape)\n",
    "print(\"c_columnvector1 np.array_equal to c_columnvector2: \", np.array_equal(c_columnvector1,c_columnvector2))\n",
    "print(\"c_columnvector1 np.array_equiv to c_columnvector2: \", np.array_equiv(c_columnvector1,c_columnvector2))"
   ]
  },
  {
   "cell_type": "markdown",
   "metadata": {
    "id": "eyeMCJaPgMIb"
   },
   "source": [
    "------\n",
    "## Multiplication\n",
    "\n",
    "There are different meanings of \"mulitplication\" in `numpy`.   One must distinguish element-wise multiplication from matrix multiplication.\n",
    "\n",
    "## STUDENT CODING REQUIRED\n",
    "\n",
    "Create two different matrices  `[[1,2],[3,4]]` in `m1` and `[[5,6],[7,8]]` in `m2` "
   ]
  },
  {
   "cell_type": "code",
   "execution_count": 13,
   "metadata": {
    "colab": {
     "base_uri": "https://localhost:8080/"
    },
    "id": "CEmU9pxBgFaf",
    "outputId": "f056be6a-9047-4d64-f19b-aea697062ba6"
   },
   "outputs": [],
   "source": [
    "#--------STUDENT CODING SECTION\n",
    "\n",
    "#replace \"None\" with the instantiation of m1:\n",
    "m1 = np.array([[1,2],[3,4]])\n",
    "\n",
    "\n",
    "\n",
    "#replace \"None\" with the instantiation of m2:\n",
    "m2 = np.array([[5,6],[7,8]])\n",
    "\n",
    "\n",
    "#--------END OF STUDENT CODING SECTION"
   ]
  },
  {
   "cell_type": "markdown",
   "metadata": {
    "id": "eyeMCJaPgMIb"
   },
   "source": [
    "Lets see what the differences are using `*`,`@`, `np.mult`, `np.dot` to operate on these two matrices.  Which ones are element-wise multiplication and which are matrix multiplication?"
   ]
  },
  {
   "cell_type": "code",
   "execution_count": 14,
   "metadata": {
    "colab": {
     "base_uri": "https://localhost:8080/"
    },
    "id": "CEmU9pxBgFaf",
    "outputId": "f056be6a-9047-4d64-f19b-aea697062ba6"
   },
   "outputs": [
    {
     "name": "stdout",
     "output_type": "stream",
     "text": [
      "m1: \n",
      " [[1 2]\n",
      " [3 4]]\n",
      "m2: \n",
      " [[5 6]\n",
      " [7 8]]\n",
      "results of *:\n",
      " [[ 5 12]\n",
      " [21 32]]\n",
      "results of @:\n",
      " [[19 22]\n",
      " [43 50]]\n",
      "results of np.mult:\n",
      " [[ 5 12]\n",
      " [21 32]]\n",
      "results of np.dot:\n",
      " [[19 22]\n",
      " [43 50]]\n"
     ]
    }
   ],
   "source": [
    "print(\"m1: \\n\",m1)\n",
    "print(\"m2: \\n\",m2)\n",
    "print(\"results of *:\\n\" , m1*m2)\n",
    "print(\"results of @:\\n\" , m1@m2)\n",
    "print(\"results of np.mult:\\n\" , np.multiply(m1,m2))\n",
    "print(\"results of np.dot:\\n\" , np.dot(m1,m2))"
   ]
  },
  {
   "cell_type": "markdown",
   "metadata": {},
   "source": [
    "## STUDENT OBSERVATION REQUIRED:\n",
    "\n",
    "Given what you saw above, what do you think thes operators are doing?\n",
    "\n",
    "Hint:  See the `numpy` API"
   ]
  },
  {
   "attachments": {},
   "cell_type": "markdown",
   "metadata": {},
   "source": [
    "---\n",
    "STUDENT RESPONSE AREA:\n",
    "(enter your answer here by opening this markdown chunk and typing your answer)\n",
    "\n",
    "OBSERVATION:\n",
    "\n",
    "Multiply and * are both the Hadamard product (element-wise product).\n",
    "\n",
    "Dot and @ are the result of proper matrix multiplication.\n",
    "\n",
    "---"
   ]
  },
  {
   "cell_type": "markdown",
   "metadata": {
    "id": "-iuvRyKkfTpc"
   },
   "source": [
    "Lets see what happens if we create a column vector `y` to be (the transpose of) `[[3, 4]]` and compute the dot product of `y.T` and `y`.   \n",
    "\n",
    "Create the vector first and print out its shape to ensure you have a column vector of shape (2,1).  Challenge:  can you define the column vector y in a single line of code?\n",
    "\n",
    "Then take the dot product of `y.T` and `y` and display the result.  What shape is the result?\n",
    "What does the result appear to be?   \n",
    "\n"
   ]
  },
  {
   "cell_type": "code",
   "execution_count": 15,
   "metadata": {
    "colab": {
     "base_uri": "https://localhost:8080/"
    },
    "id": "FQROHLAOezkF",
    "outputId": "83d8c4b6-8fc8-4fce-de65-4d4af6f2ee2e"
   },
   "outputs": [
    {
     "name": "stdout",
     "output_type": "stream",
     "text": [
      "y.shape:  (2, 1)\n",
      "dot product of y.T and y: [[25]]\n"
     ]
    }
   ],
   "source": [
    "y = np.array([[3,4]]).T\n",
    "print(\"y.shape: \",y.shape)\n",
    "print(\"dot product of y.T and y:\", np.dot(y.T,y))"
   ]
  },
  {
   "cell_type": "markdown",
   "metadata": {
    "id": "GgVIluaMj3Vf"
   },
   "source": [
    "------\n",
    "\n",
    "So far we have been working with structures containing integers.  Numpy also allows structures of floating point numbers, but if you want to represent an integer value as a float you need to put a decimal point after the intger, like this\n",
    "\n",
    ">`numpy.array([[1., 2.]])`  \n",
    "\n",
    "One important activity in science and engineering - and especially machine learning - is computing a summary value from a set of errors.  Some common summary representations include the \"sum of squared errors\" (RSS), the \"mean squared error\" (MSE) and the \"Root Mean Squared Error\" (RMSE)\n",
    "\n",
    "Suppose you had a column vector of error values `errors` : `[[-1.],[1.],[2.],[-1.],[3.]]` like this:"
   ]
  },
  {
   "cell_type": "code",
   "execution_count": 16,
   "metadata": {
    "colab": {
     "base_uri": "https://localhost:8080/"
    },
    "id": "qC0xdN3Mi6gt",
    "outputId": "629486a2-a36f-4a78-ae52-ffe1b2b21f1a"
   },
   "outputs": [
    {
     "name": "stdout",
     "output_type": "stream",
     "text": [
      "errors:\n",
      " [[-1.]\n",
      " [ 1.]\n",
      " [ 2.]\n",
      " [-1.]\n",
      " [ 3.]] \n",
      "errors.shape:\n",
      " (5, 1)\n"
     ]
    }
   ],
   "source": [
    "errors = np.array([[-1.],[1.],[2.],[-1.],[3.]])\n",
    "print(\"errors:\\n\", errors, \"\\nerrors.shape:\\n\", errors.shape)"
   ]
  },
  {
   "cell_type": "markdown",
   "metadata": {
    "id": "GgVIluaMj3Vf"
   },
   "source": [
    "and suppose you wanted to find the  Sum of Squared errors... you could use a loop to compute the square of each value, and sum them like this... "
   ]
  },
  {
   "cell_type": "code",
   "execution_count": 17,
   "metadata": {
    "colab": {
     "base_uri": "https://localhost:8080/"
    },
    "id": "qC0xdN3Mi6gt",
    "outputId": "629486a2-a36f-4a78-ae52-ffe1b2b21f1a"
   },
   "outputs": [
    {
     "name": "stdout",
     "output_type": "stream",
     "text": [
      "computing RSS using loop, rss_loop: [16.]\n"
     ]
    }
   ],
   "source": [
    "rss_loop = 0\n",
    "for err in errors:\n",
    "  rss_loop += np.square(err)\n",
    "\n",
    "print(\"computing RSS using loop, rss_loop:\", rss_loop)"
   ]
  },
  {
   "cell_type": "markdown",
   "metadata": {},
   "source": [
    "...but that is not very efficient for large vectors... if you were a little more crafty you might realize that loops run slow and you could skip the loop by use numpy to square each individual the elements at first and then use numpy to sum them.  \n",
    "\n",
    "## STUDENT CODING REQUIRED:\n",
    "\n",
    "Implement the loop technique and the vectorized technique to find the RSS using each method and display the results\n",
    "\n",
    "hint:  use the `square` and `sum` operators in `numpy` to operate driectly on the `errors` vector"
   ]
  },
  {
   "cell_type": "code",
   "execution_count": 18,
   "metadata": {},
   "outputs": [],
   "source": [
    "#--------STUDENT CODING SECTION\n",
    "\n",
    "# replace \"None\" with your vectorized solution for computing the sum of squared errors\n",
    "rss_vectorized = errors**2\n",
    "\n",
    "#--------END OF STUDENT CODING SECTION"
   ]
  },
  {
   "cell_type": "code",
   "execution_count": 19,
   "metadata": {},
   "outputs": [
    {
     "name": "stdout",
     "output_type": "stream",
     "text": [
      "computing RSS using vectorized method, rss_loop: [[1.]\n",
      " [1.]\n",
      " [4.]\n",
      " [1.]\n",
      " [9.]]\n"
     ]
    }
   ],
   "source": [
    "print(\"computing RSS using vectorized method, rss_loop:\", rss_vectorized)\n"
   ]
  },
  {
   "cell_type": "markdown",
   "metadata": {
    "id": "t7dhUx86oCzT"
   },
   "source": [
    "## STUDENT CODING REQUIRED\n",
    "\n",
    "If you are really crafty, you might recognize that we can do this entire RSS calculation using a single call to one of numpy's matrix operations (instead of a calls to `np.square` and `np.sum`).  Do that next and print out the result.\n",
    "\n",
    "Hint:  Look for a `numpy` linear algebra function which performa the operation of multiplying a set of values together and suming the result.   Using such an operator on a vector and itself would yield the desired result - sum of squares - but remember that you will need to make the operation compatible for the linear algebra multiplication to be valid"
   ]
  },
  {
   "cell_type": "code",
   "execution_count": 20,
   "metadata": {
    "colab": {
     "base_uri": "https://localhost:8080/"
    },
    "id": "xlUfM97roCMr",
    "outputId": "172ccbf0-1782-4d0d-b109-e5608636e698"
   },
   "outputs": [],
   "source": [
    "#--------STUDENT CODING SECTION\n",
    "\n",
    "# replace `None` with the desired code to compute the RSS\n",
    "rss_dot = np.sum(errors**2)\n",
    "\n",
    "\n",
    "#--------END OF STUDENT CODING SECTION"
   ]
  },
  {
   "cell_type": "code",
   "execution_count": 21,
   "metadata": {
    "colab": {
     "base_uri": "https://localhost:8080/"
    },
    "id": "xlUfM97roCMr",
    "outputId": "172ccbf0-1782-4d0d-b109-e5608636e698"
   },
   "outputs": [
    {
     "name": "stdout",
     "output_type": "stream",
     "text": [
      "computing RSS using dot product, rss_dot: 16.0\n"
     ]
    }
   ],
   "source": [
    "print(\"computing RSS using dot product, rss_dot:\", rss_dot)"
   ]
  },
  {
   "cell_type": "markdown",
   "metadata": {},
   "source": [
    "Notice that this is printing the results inside a numpy matrix.   Lets see how we can get this as a scalar value instead of a numpy array containing that value. \n",
    "When the numpy array is a single value we can use the `.item()` attribute of the array to obtain that value."
   ]
  },
  {
   "cell_type": "code",
   "execution_count": null,
   "metadata": {},
   "outputs": [],
   "source": [
    "print(\"computing RSS using dot product, rss_dot:\", rss_dot.item())"
   ]
  },
  {
   "cell_type": "markdown",
   "metadata": {
    "id": "uoaYp1gdqOBB"
   },
   "source": [
    "## STUDENT CODING REQUIRED\n",
    "\n",
    "Challenge:  Can you compute the *root mean squared error* (aka RMSE) of this error vector using a single line of code?  print the results when done."
   ]
  },
  {
   "cell_type": "code",
   "execution_count": 24,
   "metadata": {
    "colab": {
     "base_uri": "https://localhost:8080/"
    },
    "id": "yXjDi4IzqXKk",
    "outputId": "c61447a2-ead6-4824-bb0f-39b02c830a7c"
   },
   "outputs": [
    {
     "name": "stdout",
     "output_type": "stream",
     "text": [
      "Compute the mean of the squared errors by dividing by the vector length: RMSE =  1.7888543819998317\n"
     ]
    }
   ],
   "source": [
    "#--------STUDENT CODING SECTION\n",
    "\n",
    "#replace the `None` with the code to compute rmse\n",
    "rmse = np.sqrt(np.sum(errors**2)/len(errors))\n",
    "\n",
    "\n",
    "print(\"Compute the mean of the squared errors by dividing by the vector length: RMSE = \", rmse)\n",
    "\n",
    "\n",
    "#--------END OF STUDENT CODING SECTION"
   ]
  }
 ],
 "metadata": {
  "colab": {
   "name": "CSCE623_Day03_warmup_SOLUTION.ipynb",
   "provenance": []
  },
  "kernelspec": {
   "display_name": "Python 3",
   "language": "python",
   "name": "python3"
  },
  "language_info": {
   "codemirror_mode": {
    "name": "ipython",
    "version": 3
   },
   "file_extension": ".py",
   "mimetype": "text/x-python",
   "name": "python",
   "nbconvert_exporter": "python",
   "pygments_lexer": "ipython3",
   "version": "3.9.6"
  }
 },
 "nbformat": 4,
 "nbformat_minor": 4
}
