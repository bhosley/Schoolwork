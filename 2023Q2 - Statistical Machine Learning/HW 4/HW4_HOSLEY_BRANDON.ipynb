{
 "cells": [
  {
   "attachments": {},
   "cell_type": "markdown",
   "metadata": {
    "id": "9lAsyeOwFnoX"
   },
   "source": [
    "# CSCE 623 Homework Assignment 4"
   ]
  },
  {
   "attachments": {},
   "cell_type": "markdown",
   "metadata": {
    "id": "46d-KBtJJxN1"
   },
   "source": [
    "### Student Name:  HOSLEY, BRANDON"
   ]
  },
  {
   "attachments": {},
   "cell_type": "markdown",
   "metadata": {
    "id": "Yna07rL4Jz43"
   },
   "source": [
    "### Date: May 9, 2022"
   ]
  },
  {
   "attachments": {},
   "cell_type": "markdown",
   "metadata": {},
   "source": [
    "### Baseball Salary Regression in multi-feature player dataset\n",
    "\n",
    "Instructions:\n",
    "* Review all provided code before starting your work - this instructor has provided hints and tips throughout the code\n",
    "* This assignment is composed of 2 parts\n",
    "    * Load, split, and explore the data\n",
    "    * Fit models and evaluate performance\n",
    "* Complete the numbered STEPS which contain (STUDENT CODE REQUIRED) and (STUDENT MARKDOWN RESPONSE REQUIRED) activities\n",
    "* Remember to restart the kernel and rerun all cells before submitting the assignment\n",
    "* Submit only the Jupyter Notebook (.ipynb) file - do not submit the datasets."
   ]
  },
  {
   "cell_type": "code",
   "execution_count": 1,
   "metadata": {
    "collapsed": false,
    "jupyter": {
     "outputs_hidden": false
    }
   },
   "outputs": [],
   "source": [
    "# Note... not all of these are used...\n",
    "\n",
    "import pandas as pd\n",
    "import numpy as np\n",
    "import matplotlib.pyplot as plt\n",
    "import seaborn as sns\n",
    "\n",
    "import itertools\n",
    "import copy\n",
    "\n",
    "from math import factorial\n",
    "\n",
    "from sklearn.preprocessing import OneHotEncoder\n",
    "\n",
    "from sklearn.preprocessing import scale \n",
    "from sklearn.preprocessing import StandardScaler\n",
    "\n",
    "from sklearn.compose import ColumnTransformer, make_column_selector\n",
    "\n",
    "from sklearn.pipeline import Pipeline\n",
    "\n",
    "from sklearn.model_selection import train_test_split, cross_validate,  cross_val_score, GridSearchCV\n",
    "from sklearn.metrics import mean_squared_error, make_scorer\n",
    "\n",
    "\n",
    "from sklearn.linear_model import LinearRegression, Ridge, RidgeCV, Lasso, LassoCV\n",
    "from sklearn.decomposition import PCA\n",
    "from sklearn.cross_decomposition import PLSRegression\n",
    "\n",
    "from sklearn.feature_selection import SequentialFeatureSelector\n",
    "\n",
    "%matplotlib inline\n",
    "plt.style.use('seaborn-white')\n",
    "\n",
    "import warnings\n",
    "#warnings.filterwarnings('ignore')\n",
    "#warnings.filterwarnings(action='once')"
   ]
  },
  {
   "attachments": {},
   "cell_type": "markdown",
   "metadata": {},
   "source": [
    "## OPTIONAL STUDENT CODING: If you need any imports, code them below"
   ]
  },
  {
   "cell_type": "code",
   "execution_count": 2,
   "metadata": {},
   "outputs": [],
   "source": [
    "######### ------- EXTRA STUDENT IMPORTS ------------\n",
    "\n",
    "\n",
    "######### ------- END STUDENT IMPORTS ------------"
   ]
  },
  {
   "attachments": {},
   "cell_type": "markdown",
   "metadata": {},
   "source": [
    "# Part A:  Data setup and exploration"
   ]
  },
  {
   "attachments": {},
   "cell_type": "markdown",
   "metadata": {
    "tags": []
   },
   "source": [
    "This dataset contains information about various baseball players and their salaries.  \n",
    "\n",
    "### Load the 'ISLR_Hitters.csv' data using pandas (INSTRUCTOR CODE PROVIDED).  \n",
    "* set the `index_col` to 0\n",
    "* There are unknown salaries in the dataset for some players... drop any `na`s in the dataset (there will be 263 remaining rows after removing the nas)\n",
    "* Ensure the index is correctly identifying each of the 263 rows from the index 0 to 262 without gaps\n",
    "* Store the full dataset data in `df`\n",
    "* Make the name column of the player be `Player`\n"
   ]
  },
  {
   "cell_type": "code",
   "execution_count": 3,
   "metadata": {
    "collapsed": false,
    "jupyter": {
     "outputs_hidden": false
    }
   },
   "outputs": [
    {
     "name": "stdout",
     "output_type": "stream",
     "text": [
      "<class 'pandas.core.frame.DataFrame'>\n",
      "RangeIndex: 263 entries, 0 to 262\n",
      "Data columns (total 21 columns):\n",
      " #   Column     Non-Null Count  Dtype  \n",
      "---  ------     --------------  -----  \n",
      " 0   Player     263 non-null    object \n",
      " 1   AtBat      263 non-null    int64  \n",
      " 2   Hits       263 non-null    int64  \n",
      " 3   HmRun      263 non-null    int64  \n",
      " 4   Runs       263 non-null    int64  \n",
      " 5   RBI        263 non-null    int64  \n",
      " 6   Walks      263 non-null    int64  \n",
      " 7   Years      263 non-null    int64  \n",
      " 8   CAtBat     263 non-null    int64  \n",
      " 9   CHits      263 non-null    int64  \n",
      " 10  CHmRun     263 non-null    int64  \n",
      " 11  CRuns      263 non-null    int64  \n",
      " 12  CRBI       263 non-null    int64  \n",
      " 13  CWalks     263 non-null    int64  \n",
      " 14  League     263 non-null    object \n",
      " 15  Division   263 non-null    object \n",
      " 16  PutOuts    263 non-null    int64  \n",
      " 17  Assists    263 non-null    int64  \n",
      " 18  Errors     263 non-null    int64  \n",
      " 19  Salary     263 non-null    float64\n",
      " 20  NewLeague  263 non-null    object \n",
      "dtypes: float64(1), int64(16), object(4)\n",
      "memory usage: 43.3+ KB\n"
     ]
    },
    {
     "data": {
      "text/plain": [
       "None"
      ]
     },
     "metadata": {},
     "output_type": "display_data"
    }
   ],
   "source": [
    "# df = pd.read_csv('ISLR_Hitters.csv', index_col=False).dropna()\n",
    "pre_df = pd.read_csv('ISLR_Hitters.csv').dropna().reset_index(drop=True)\n",
    "pre_df.rename(columns={ pre_df.columns[0]: \"Player\" },inplace=True)\n",
    "display(pre_df.info())\n"
   ]
  },
  {
   "attachments": {},
   "cell_type": "markdown",
   "metadata": {
    "tags": []
   },
   "source": [
    "##  STEP 1: (STUDENT CODE REQUIRED) Preprocess the categorical columns in the data using one-hot-encoding \n",
    "\n",
    "Notice that `League`, `Division` and `NewLeague` are non-numerical categories (stored as `object`s ) which should be converted to one-hot-encoded features.  Each of these categorical features only contains two categories, and if we created 2 one-hot features for each, using both columns would not provide any more information than using one.  Since we want to eliminate columns which provide redundant information, we only need one of the category columns to be 'hot' and if it is not (0 instead of 1), we know that the other category for that feature must be true.   \n",
    "\n",
    "For example, we create a one-hot-encoded column `League_N` such that if the original categorical value in `League` was `N` then the one-hot-encoded column `League_N` should contain a 1, however if the categorical value in `League` was `A` then the one-hot-encoded column `League_N` should contain a 0\n",
    "\n",
    "Create a new dataframe `df` to accomplish this for each of the three categorical features.  After completing this step, the dataset `df` should be such that\n",
    "* The categorical column `League` (`A`merican or `N`ational) is represented instead with column  `League_N` which contains a 1 if `League` was `N` or a 0 if `League` was `A`\n",
    "* The categorical column  `Division` (`E`ast or `W`est) is represented instead with column `Division_W` which contains a 1 if `Division` was `W` or a 0 if `Division` was `E`\n",
    "* The categorical column   `NewLeague` (`A`merican or `N`ational) is represented instead with column `NewLeague_N` which contains a 1 if `NewLeague` was `N` or a 0 if `NewLeague` was `A` \n",
    "* `df` doesn't contain the original 3 categorical variables (`League`, `Division` and `NewLeague`)\n",
    "\n",
    "Check to make sure everytyhing worked correctly.  After this step is complete there should still be 263 rows, 21 columns, and all columns except for `Player` will contain numeric information (no letters, strings, objects)\n",
    "\n",
    "\n",
    "Hint:  see https://scikit-learn.org/stable/modules/generated/sklearn.preprocessing.OneHotEncoder.html and the function's option `drop= 'first'` "
   ]
  },
  {
   "cell_type": "code",
   "execution_count": 4,
   "metadata": {},
   "outputs": [],
   "source": [
    "# STEP 1\n",
    "\n",
    "df = None #placeholder\n",
    "\n",
    "\n",
    "#----------------START STUDENT CODE -----------------------\n",
    "df = pre_df.copy().drop(columns = ['League','Division', 'NewLeague'])\n",
    "\n",
    "col_transformer = ColumnTransformer(transformers =[\n",
    "    ('enc', OneHotEncoder(drop ='first'), ['League','Division', 'NewLeague']),\n",
    "    ], remainder ='passthrough')\n",
    "\n",
    "df[['League_N', 'Division_W', 'NewLeague_N']] =\\\n",
    "    pd.DataFrame( col_transformer.fit_transform(pre_df[['League','Division', 'NewLeague']]) ).apply(pd.to_numeric, downcast='integer')\n",
    "#----------------END STUDENT CODE -----------------------"
   ]
  },
  {
   "cell_type": "code",
   "execution_count": 5,
   "metadata": {
    "tags": []
   },
   "outputs": [
    {
     "name": "stdout",
     "output_type": "stream",
     "text": [
      "<class 'pandas.core.frame.DataFrame'>\n",
      "RangeIndex: 263 entries, 0 to 262\n",
      "Data columns (total 21 columns):\n",
      " #   Column       Non-Null Count  Dtype  \n",
      "---  ------       --------------  -----  \n",
      " 0   Player       263 non-null    object \n",
      " 1   AtBat        263 non-null    int64  \n",
      " 2   Hits         263 non-null    int64  \n",
      " 3   HmRun        263 non-null    int64  \n",
      " 4   Runs         263 non-null    int64  \n",
      " 5   RBI          263 non-null    int64  \n",
      " 6   Walks        263 non-null    int64  \n",
      " 7   Years        263 non-null    int64  \n",
      " 8   CAtBat       263 non-null    int64  \n",
      " 9   CHits        263 non-null    int64  \n",
      " 10  CHmRun       263 non-null    int64  \n",
      " 11  CRuns        263 non-null    int64  \n",
      " 12  CRBI         263 non-null    int64  \n",
      " 13  CWalks       263 non-null    int64  \n",
      " 14  PutOuts      263 non-null    int64  \n",
      " 15  Assists      263 non-null    int64  \n",
      " 16  Errors       263 non-null    int64  \n",
      " 17  Salary       263 non-null    float64\n",
      " 18  League_N     263 non-null    int8   \n",
      " 19  Division_W   263 non-null    int8   \n",
      " 20  NewLeague_N  263 non-null    int8   \n",
      "dtypes: float64(1), int64(16), int8(3), object(1)\n",
      "memory usage: 37.9+ KB\n"
     ]
    }
   ],
   "source": [
    "df.info()  #confirm existence of dummies and auto-generated names\n"
   ]
  },
  {
   "attachments": {},
   "cell_type": "markdown",
   "metadata": {},
   "source": [
    "### Separating features and regression target labels & test/non-test split (INSTRUCTOR CODE PROVIDED)\n",
    "\n",
    "Next we will \n",
    "* Separate features and labels in the full dataset into X and y.\n",
    "* Partition the data into test and non-test sets"
   ]
  },
  {
   "cell_type": "code",
   "execution_count": 6,
   "metadata": {},
   "outputs": [],
   "source": [
    "y = pd.DataFrame( df.Salary)\n",
    "# Drop the column with the independent variable (Salary)\n",
    "# X = df.drop(['Salary'], axis=1).astype('float64')\n",
    "X = df.drop(['Salary'], axis=1)\n",
    "\n",
    "testfraction = 0.25\n",
    "randState = 42\n",
    "\n",
    "X_nonTest, X_test, y_nonTest, y_test = train_test_split(X, y, test_size=testfraction, random_state=randState)"
   ]
  },
  {
   "cell_type": "code",
   "execution_count": 7,
   "metadata": {},
   "outputs": [
    {
     "data": {
      "text/plain": [
       "['Player',\n",
       " 'AtBat',\n",
       " 'Hits',\n",
       " 'HmRun',\n",
       " 'Runs',\n",
       " 'RBI',\n",
       " 'Walks',\n",
       " 'Years',\n",
       " 'CAtBat',\n",
       " 'CHits',\n",
       " 'CHmRun',\n",
       " 'CRuns',\n",
       " 'CRBI',\n",
       " 'CWalks',\n",
       " 'PutOuts',\n",
       " 'Assists',\n",
       " 'Errors',\n",
       " 'League_N',\n",
       " 'Division_W',\n",
       " 'NewLeague_N']"
      ]
     },
     "execution_count": 7,
     "metadata": {},
     "output_type": "execute_result"
    }
   ],
   "source": [
    "# display the names of the features\n",
    "list(X_nonTest.columns)"
   ]
  },
  {
   "cell_type": "code",
   "execution_count": 8,
   "metadata": {},
   "outputs": [
    {
     "name": "stdout",
     "output_type": "stream",
     "text": [
      "<class 'pandas.core.frame.DataFrame'>\n",
      "Int64Index: 197 entries, 143 to 102\n",
      "Data columns (total 1 columns):\n",
      " #   Column  Non-Null Count  Dtype  \n",
      "---  ------  --------------  -----  \n",
      " 0   Salary  197 non-null    float64\n",
      "dtypes: float64(1)\n",
      "memory usage: 3.1 KB\n"
     ]
    }
   ],
   "source": [
    "y_nonTest.info()"
   ]
  },
  {
   "attachments": {},
   "cell_type": "markdown",
   "metadata": {},
   "source": [
    "### Explore the value of the response variable (salary)   (INSTRUCTOR CODE PROVIDED)"
   ]
  },
  {
   "cell_type": "code",
   "execution_count": 9,
   "metadata": {},
   "outputs": [
    {
     "name": "stdout",
     "output_type": "stream",
     "text": [
      "<class 'pandas.core.frame.DataFrame'>\n",
      "Int64Index: 197 entries, 143 to 102\n",
      "Data columns (total 1 columns):\n",
      " #   Column  Non-Null Count  Dtype  \n",
      "---  ------  --------------  -----  \n",
      " 0   Salary  197 non-null    float64\n",
      "dtypes: float64(1)\n",
      "memory usage: 3.1 KB\n"
     ]
    },
    {
     "data": {
      "text/plain": [
       "None"
      ]
     },
     "metadata": {},
     "output_type": "display_data"
    },
    {
     "data": {
      "text/html": [
       "<div>\n",
       "<style scoped>\n",
       "    .dataframe tbody tr th:only-of-type {\n",
       "        vertical-align: middle;\n",
       "    }\n",
       "\n",
       "    .dataframe tbody tr th {\n",
       "        vertical-align: top;\n",
       "    }\n",
       "\n",
       "    .dataframe thead th {\n",
       "        text-align: right;\n",
       "    }\n",
       "</style>\n",
       "<table border=\"1\" class=\"dataframe\">\n",
       "  <thead>\n",
       "    <tr style=\"text-align: right;\">\n",
       "      <th></th>\n",
       "      <th>Salary</th>\n",
       "    </tr>\n",
       "  </thead>\n",
       "  <tbody>\n",
       "    <tr>\n",
       "      <th>count</th>\n",
       "      <td>197.000000</td>\n",
       "    </tr>\n",
       "    <tr>\n",
       "      <th>mean</th>\n",
       "      <td>543.483442</td>\n",
       "    </tr>\n",
       "    <tr>\n",
       "      <th>std</th>\n",
       "      <td>445.996188</td>\n",
       "    </tr>\n",
       "    <tr>\n",
       "      <th>min</th>\n",
       "      <td>67.500000</td>\n",
       "    </tr>\n",
       "    <tr>\n",
       "      <th>25%</th>\n",
       "      <td>195.000000</td>\n",
       "    </tr>\n",
       "    <tr>\n",
       "      <th>50%</th>\n",
       "      <td>425.000000</td>\n",
       "    </tr>\n",
       "    <tr>\n",
       "      <th>75%</th>\n",
       "      <td>750.000000</td>\n",
       "    </tr>\n",
       "    <tr>\n",
       "      <th>max</th>\n",
       "      <td>2460.000000</td>\n",
       "    </tr>\n",
       "  </tbody>\n",
       "</table>\n",
       "</div>"
      ],
      "text/plain": [
       "            Salary\n",
       "count   197.000000\n",
       "mean    543.483442\n",
       "std     445.996188\n",
       "min      67.500000\n",
       "25%     195.000000\n",
       "50%     425.000000\n",
       "75%     750.000000\n",
       "max    2460.000000"
      ]
     },
     "metadata": {},
     "output_type": "display_data"
    },
    {
     "data": {
      "image/png": "[encoded data removed]",
      "text/plain": [
       "<Figure size 640x480 with 1 Axes>"
      ]
     },
     "metadata": {},
     "output_type": "display_data"
    }
   ],
   "source": [
    "display(y_nonTest.info())\n",
    "display(y_nonTest.describe())\n",
    "\n",
    "y_nonTest.hist(bins=20)\n",
    "plt.show()"
   ]
  },
  {
   "attachments": {},
   "cell_type": "markdown",
   "metadata": {},
   "source": [
    "Notice that the histogram of the response variable reveals very few observations containing higher salaries (above $1.0M).  This may cause problems when trying to predict in this range"
   ]
  },
  {
   "attachments": {},
   "cell_type": "markdown",
   "metadata": {},
   "source": [
    "## STEP 2: Create a new response variable by taking the log of the actual dollar salary value. (STUDENT CODE REQURIED)\n",
    "\n",
    "* Store the value of the base-10-log of the actual dollar sallary $($ `y_nonTest` $\\times1000)$ in a variable called `log_y_nonTest` using `numpy`'s  `log10` function.\n",
    "* show a histogram of `log_y_nonTest`\n",
    "\n",
    "Note that we will need to do this later for the test set y too\n"
   ]
  },
  {
   "cell_type": "code",
   "execution_count": 10,
   "metadata": {},
   "outputs": [
    {
     "data": {
      "image/png": "[encoded data removed]",
      "text/plain": [
       "<Figure size 640x480 with 1 Axes>"
      ]
     },
     "metadata": {},
     "output_type": "display_data"
    }
   ],
   "source": [
    "# STEP 2\n",
    "\n",
    "log_y_nonTest = None #placeholder\n",
    "\n",
    "#----------------START STUDENT CODE -----------------------\n",
    "log_y_nonTest = np.log10(y_nonTest*1000)\n",
    "log_y_nonTest.hist(bins=20)\n",
    "plt.show()\n",
    "#----------------END STUDENT CODE -----------------------\n"
   ]
  },
  {
   "attachments": {},
   "cell_type": "markdown",
   "metadata": {},
   "source": [
    "## STEP 3: Explore the non-test data features & select relevant features (STUDENT CODE REQUIRED)\n",
    "\n",
    "1.  Using only the `X_nonTest` and `log_y_nonTest` data, conduct data exploration on the features\n",
    "2.  Using log salary labels, compute correlations with each possible feature\n",
    "3.  Select the top 7 features you think might work well for predicting player (log) salary.  Later you will be required to provide evidence supporting your beliefs \n",
    "2.  Store the column names of your selected features as a list in `best_features`.  \n",
    "\n",
    "Suggestions:  Use `.corr` will be helpful here"
   ]
  },
  {
   "cell_type": "code",
   "execution_count": 11,
   "metadata": {},
   "outputs": [
    {
     "name": "stdout",
     "output_type": "stream",
     "text": [
      "<class 'pandas.core.frame.DataFrame'>\n",
      "Int64Index: 197 entries, 143 to 102\n",
      "Data columns (total 21 columns):\n",
      " #   Column        Non-Null Count  Dtype  \n",
      "---  ------        --------------  -----  \n",
      " 0   Player        197 non-null    object \n",
      " 1   AtBat         197 non-null    int64  \n",
      " 2   Hits          197 non-null    int64  \n",
      " 3   HmRun         197 non-null    int64  \n",
      " 4   Runs          197 non-null    int64  \n",
      " 5   RBI           197 non-null    int64  \n",
      " 6   Walks         197 non-null    int64  \n",
      " 7   Years         197 non-null    int64  \n",
      " 8   CAtBat        197 non-null    int64  \n",
      " 9   CHits         197 non-null    int64  \n",
      " 10  CHmRun        197 non-null    int64  \n",
      " 11  CRuns         197 non-null    int64  \n",
      " 12  CRBI          197 non-null    int64  \n",
      " 13  CWalks        197 non-null    int64  \n",
      " 14  PutOuts       197 non-null    int64  \n",
      " 15  Assists       197 non-null    int64  \n",
      " 16  Errors        197 non-null    int64  \n",
      " 17  League_N      197 non-null    int8   \n",
      " 18  Division_W    197 non-null    int8   \n",
      " 19  NewLeague_N   197 non-null    int8   \n",
      " 20  Log10_Salary  197 non-null    float64\n",
      "dtypes: float64(1), int64(16), int8(3), object(1)\n",
      "memory usage: 29.8+ KB\n"
     ]
    }
   ],
   "source": [
    "# STEP 3\n",
    "\n",
    "best_features = []  #placeholder\n",
    "\n",
    "# when exploring relationship between features and predictors, it might be useful to have a (re)combined set\n",
    "xy_nontest = pd.concat([X_nonTest, log_y_nonTest], axis=1)\n",
    "xy_nontest.rename(columns={\"Salary\":\"Log10_Salary\"},inplace=True)\n",
    "xy_nontest.info()\n",
    "\n",
    "#----------------START STUDENT CODE -----------------------\n",
    "xy_nontest.corr()\n",
    "#best_features = ['CRuns', 'CHits', 'CAtBat', 'CRBI', 'Years', 'CWalks', 'CHmRun'] # First take\n",
    "best_features = ['Runs', 'Years', 'CHits', 'CRuns', 'PutOuts', 'Assists', 'Division_W'] \n",
    "#----------------END STUDENT CODE -----------------------"
   ]
  },
  {
   "cell_type": "code",
   "execution_count": 12,
   "metadata": {},
   "outputs": [
    {
     "name": "stdout",
     "output_type": "stream",
     "text": [
      "STUDENT-SELECTED BEST FEATURES: ['Runs', 'Years', 'CHits', 'CRuns', 'PutOuts', 'Assists', 'Division_W']\n"
     ]
    }
   ],
   "source": [
    "#instructor code \n",
    "print(\"STUDENT-SELECTED BEST FEATURES:\", best_features)"
   ]
  },
  {
   "attachments": {},
   "cell_type": "markdown",
   "metadata": {},
   "source": [
    "## STEP 4: Evidence supporting selection of best Features  (STUDENT MARKDOWN REQUIRED)\n",
    "\n",
    "Provide descriptions of the evidence you used to make your decisions about best features\n"
   ]
  },
  {
   "attachments": {},
   "cell_type": "markdown",
   "metadata": {},
   "source": [
    "--------------------------\n",
    "\n",
    "<font color='green'>STUDENT ANSWER HERE STEP 4</font>\n",
    "\n",
    "In the pursuit of simplicity the initial choice of features was based upon the 7 with the highest correlation with the Log-Salary. \n",
    "Then upon second thought, the first feature was chosen by highest correlation with log salary, then each subsequent feature was chosen by calculating that feature's correlation with log variance divided by the sum of correlation with the already chosen features, and selecting the highest. In all cases absolute value was used.\n",
    "\n",
    "<font color='green'>END STUDENT ANSWER</font>    \n",
    "    \n",
    "------------------------\n"
   ]
  },
  {
   "attachments": {},
   "cell_type": "markdown",
   "metadata": {
    "tags": []
   },
   "source": [
    "###  Make a `seaborn` `pairplot` of the these 7 features that you think are most useful AND the log salary. (INSTRUCTOR-PROVIDED CODE)\n",
    "\n",
    "(note that pairplots make take time to render - the more features you include the longer they take)  \n"
   ]
  },
  {
   "cell_type": "code",
   "execution_count": 13,
   "metadata": {},
   "outputs": [
    {
     "data": {
      "image/png": "[encoded data removed]",
      "text/plain": [
       "<Figure size 2000x400 with 7 Axes>"
      ]
     },
     "metadata": {},
     "output_type": "display_data"
    }
   ],
   "source": [
    "# NOTE - THIS MAKE TAKE A FEW MOMENTS TO CALCULATE & DISPLAY ON YOUR COMPUTER\n",
    "\n",
    "#switch the below to True to show the pairsplot.\n",
    "if True:\n",
    "    g = sns.pairplot(data=xy_nontest, x_vars=best_features,y_vars=\"Log10_Salary\")\n",
    "    # g = sns.pairplot(data=xy_nontest, x_vars=best_features,y_vars=\"Salary\", height=1, aspect=1.0)\n",
    "    g.fig.set_size_inches(20,4)\n",
    "    \n"
   ]
  },
  {
   "attachments": {},
   "cell_type": "markdown",
   "metadata": {},
   "source": [
    "## STEP 5:  Scale all X data using nonTest data scaler  (STUDENT CODE REQUIRED)\n",
    "* Scale the data features since we dont want some features to affect the linear regressions differently just becasue they have different scales\n",
    "* Fit the `zscaler` to the non-test data and transform the non-test data into the variable called `X_nonTest_scaled`.  Remember that we should not be using test data for this!\n",
    "* then *apply* those (non-test) fitted parameters to the test data into the variable called `X_test_scaled` to preserve the scaling *without being influenced by any aspect of the test data*\n",
    "* Remember to not attempt to scale non-numerical features (like `Player`) or one-hot features liek `League_N`, `Division_W` and `NewLeague_N`\n",
    "\n",
    "Hint: when using `sklearn`'s `StandardScalar`, `.fit`, `.fit_transform`, and `.transform` will be useful here\n",
    "\n",
    "See:  https://scikit-learn.org/stable/modules/generated/sklearn.preprocessing.StandardScaler.html?highlight=standardscaler#sklearn.preprocessing.StandardScaler"
   ]
  },
  {
   "cell_type": "code",
   "execution_count": 14,
   "metadata": {},
   "outputs": [],
   "source": [
    "# STEP 5\n",
    "\n",
    "X_nonTest_scaled = None #placeholder\n",
    "\n",
    "cols = list(X_nonTest.columns.values)\n",
    "exclude_scale_cols = ['Player','League_N','Division_W','NewLeague_N']\n",
    "cols_to_scale = cols.copy()\n",
    "for r in exclude_scale_cols: \n",
    "    cols_to_scale.remove(r)\n",
    "\n",
    "zscaler = StandardScaler()  #use this object to conduct the scaling in the student code block\n",
    "\n",
    "X_nonTest_scaled = X_nonTest.copy()  #placeholder\n",
    "X_test_scaled = X_test.copy()  #placeholder\n",
    "\n",
    "\n",
    "#----------------START STUDENT CODE -----------------------\n",
    "X_nonTest_scaled[cols_to_scale] = zscaler.fit_transform(X_nonTest[cols_to_scale])\n",
    "X_test_scaled[cols_to_scale] = zscaler.transform(X_test[cols_to_scale])\n",
    "#----------------END STUDENT CODE -----------------------"
   ]
  },
  {
   "attachments": {},
   "cell_type": "markdown",
   "metadata": {},
   "source": [
    "The following instructor eval code will report the means and standard deviations of both the nonTest data features and the testData features\n",
    "\n",
    "HINT:  What would you expect to see as the difference in the means and stdevs between these two partitions of the data if the previous step was completed properly?"
   ]
  },
  {
   "cell_type": "code",
   "execution_count": 15,
   "metadata": {},
   "outputs": [
    {
     "name": "stdout",
     "output_type": "stream",
     "text": [
      "-Before transformation, non-test column names:\n",
      " ['Player', 'AtBat', 'Hits', 'HmRun', 'Runs', 'RBI', 'Walks', 'Years', 'CAtBat', 'CHits', 'CHmRun', 'CRuns', 'CRBI', 'CWalks', 'PutOuts', 'Assists', 'Errors', 'League_N', 'Division_W', 'NewLeague_N']\n",
      "---After transformation, non-test column names:\n",
      " ['Player', 'AtBat', 'Hits', 'HmRun', 'Runs', 'RBI', 'Walks', 'Years', 'CAtBat', 'CHits', 'CHmRun', 'CRuns', 'CRBI', 'CWalks', 'PutOuts', 'Assists', 'Errors', 'League_N', 'Division_W', 'NewLeague_N']\n",
      "---After transformation, test column names:\n",
      " ['Player', 'AtBat', 'Hits', 'HmRun', 'Runs', 'RBI', 'Walks', 'Years', 'CAtBat', 'CHits', 'CHmRun', 'CRuns', 'CRBI', 'CWalks', 'PutOuts', 'Assists', 'Errors', 'League_N', 'Division_W', 'NewLeague_N']\n"
     ]
    },
    {
     "data": {
      "text/html": [
       "<div>\n",
       "<style scoped>\n",
       "    .dataframe tbody tr th:only-of-type {\n",
       "        vertical-align: middle;\n",
       "    }\n",
       "\n",
       "    .dataframe tbody tr th {\n",
       "        vertical-align: top;\n",
       "    }\n",
       "\n",
       "    .dataframe thead th {\n",
       "        text-align: right;\n",
       "    }\n",
       "</style>\n",
       "<table border=\"1\" class=\"dataframe\">\n",
       "  <thead>\n",
       "    <tr style=\"text-align: right;\">\n",
       "      <th></th>\n",
       "      <th>actualNonTestMeans</th>\n",
       "      <th>actualNonTestStds</th>\n",
       "      <th>scaledMeansNonTest</th>\n",
       "      <th>scaledStdsNonTest</th>\n",
       "      <th>scaledMeansTest</th>\n",
       "      <th>scaledStdsTest</th>\n",
       "    </tr>\n",
       "  </thead>\n",
       "  <tbody>\n",
       "    <tr>\n",
       "      <th>AtBat</th>\n",
       "      <td>402.461929</td>\n",
       "      <td>142.475984</td>\n",
       "      <td>1.572346e-16</td>\n",
       "      <td>1.002548</td>\n",
       "      <td>0.033021</td>\n",
       "      <td>1.130117</td>\n",
       "    </tr>\n",
       "    <tr>\n",
       "      <th>Hits</th>\n",
       "      <td>106.776650</td>\n",
       "      <td>43.094759</td>\n",
       "      <td>1.442726e-16</td>\n",
       "      <td>1.002548</td>\n",
       "      <td>0.097298</td>\n",
       "      <td>1.175414</td>\n",
       "    </tr>\n",
       "    <tr>\n",
       "      <th>HmRun</th>\n",
       "      <td>11.786802</td>\n",
       "      <td>8.860179</td>\n",
       "      <td>-1.352556e-17</td>\n",
       "      <td>1.002548</td>\n",
       "      <td>-0.075121</td>\n",
       "      <td>0.949986</td>\n",
       "    </tr>\n",
       "    <tr>\n",
       "      <th>Runs</th>\n",
       "      <td>54.030457</td>\n",
       "      <td>24.704530</td>\n",
       "      <td>-3.381390e-17</td>\n",
       "      <td>1.002548</td>\n",
       "      <td>0.115296</td>\n",
       "      <td>1.125640</td>\n",
       "    </tr>\n",
       "    <tr>\n",
       "      <th>RBI</th>\n",
       "      <td>51.685279</td>\n",
       "      <td>25.270163</td>\n",
       "      <td>4.959372e-17</td>\n",
       "      <td>1.002548</td>\n",
       "      <td>-0.031315</td>\n",
       "      <td>1.094091</td>\n",
       "    </tr>\n",
       "    <tr>\n",
       "      <th>Walks</th>\n",
       "      <td>41.563452</td>\n",
       "      <td>20.905207</td>\n",
       "      <td>-1.600525e-16</td>\n",
       "      <td>1.002548</td>\n",
       "      <td>-0.085659</td>\n",
       "      <td>1.146284</td>\n",
       "    </tr>\n",
       "    <tr>\n",
       "      <th>Years</th>\n",
       "      <td>7.223350</td>\n",
       "      <td>4.728235</td>\n",
       "      <td>-3.606816e-17</td>\n",
       "      <td>1.002548</td>\n",
       "      <td>0.074533</td>\n",
       "      <td>1.052625</td>\n",
       "    </tr>\n",
       "    <tr>\n",
       "      <th>CAtBat</th>\n",
       "      <td>2634.228426</td>\n",
       "      <td>2312.704358</td>\n",
       "      <td>-1.803408e-17</td>\n",
       "      <td>1.002548</td>\n",
       "      <td>0.040173</td>\n",
       "      <td>0.953013</td>\n",
       "    </tr>\n",
       "    <tr>\n",
       "      <th>CHits</th>\n",
       "      <td>718.258883</td>\n",
       "      <td>660.201576</td>\n",
       "      <td>1.803408e-17</td>\n",
       "      <td>1.002548</td>\n",
       "      <td>0.023705</td>\n",
       "      <td>0.924312</td>\n",
       "    </tr>\n",
       "    <tr>\n",
       "      <th>CHmRun</th>\n",
       "      <td>70.730964</td>\n",
       "      <td>84.771557</td>\n",
       "      <td>-7.213632e-17</td>\n",
       "      <td>1.002548</td>\n",
       "      <td>-0.070107</td>\n",
       "      <td>0.869022</td>\n",
       "    </tr>\n",
       "    <tr>\n",
       "      <th>CRuns</th>\n",
       "      <td>359.274112</td>\n",
       "      <td>336.432713</td>\n",
       "      <td>-9.017040e-18</td>\n",
       "      <td>1.002548</td>\n",
       "      <td>0.023054</td>\n",
       "      <td>0.935495</td>\n",
       "    </tr>\n",
       "    <tr>\n",
       "      <th>CRBI</th>\n",
       "      <td>331.979695</td>\n",
       "      <td>327.554776</td>\n",
       "      <td>8.115336e-17</td>\n",
       "      <td>1.002548</td>\n",
       "      <td>-0.018996</td>\n",
       "      <td>0.947277</td>\n",
       "    </tr>\n",
       "    <tr>\n",
       "      <th>CWalks</th>\n",
       "      <td>255.233503</td>\n",
       "      <td>260.750549</td>\n",
       "      <td>9.017040e-18</td>\n",
       "      <td>1.002548</td>\n",
       "      <td>0.076910</td>\n",
       "      <td>1.048016</td>\n",
       "    </tr>\n",
       "    <tr>\n",
       "      <th>PutOuts</th>\n",
       "      <td>305.477157</td>\n",
       "      <td>308.565743</td>\n",
       "      <td>6.086502e-17</td>\n",
       "      <td>1.002548</td>\n",
       "      <td>-0.190691</td>\n",
       "      <td>0.508953</td>\n",
       "    </tr>\n",
       "    <tr>\n",
       "      <th>Assists</th>\n",
       "      <td>114.746193</td>\n",
       "      <td>139.827728</td>\n",
       "      <td>-4.508520e-17</td>\n",
       "      <td>1.002548</td>\n",
       "      <td>0.114400</td>\n",
       "      <td>1.139552</td>\n",
       "    </tr>\n",
       "    <tr>\n",
       "      <th>Errors</th>\n",
       "      <td>8.456853</td>\n",
       "      <td>6.297563</td>\n",
       "      <td>-1.036960e-16</td>\n",
       "      <td>1.002548</td>\n",
       "      <td>0.086247</td>\n",
       "      <td>1.183053</td>\n",
       "    </tr>\n",
       "  </tbody>\n",
       "</table>\n",
       "</div>"
      ],
      "text/plain": [
       "         actualNonTestMeans  actualNonTestStds  scaledMeansNonTest  \\\n",
       "AtBat            402.461929         142.475984        1.572346e-16   \n",
       "Hits             106.776650          43.094759        1.442726e-16   \n",
       "HmRun             11.786802           8.860179       -1.352556e-17   \n",
       "Runs              54.030457          24.704530       -3.381390e-17   \n",
       "RBI               51.685279          25.270163        4.959372e-17   \n",
       "Walks             41.563452          20.905207       -1.600525e-16   \n",
       "Years              7.223350           4.728235       -3.606816e-17   \n",
       "CAtBat          2634.228426        2312.704358       -1.803408e-17   \n",
       "CHits            718.258883         660.201576        1.803408e-17   \n",
       "CHmRun            70.730964          84.771557       -7.213632e-17   \n",
       "CRuns            359.274112         336.432713       -9.017040e-18   \n",
       "CRBI             331.979695         327.554776        8.115336e-17   \n",
       "CWalks           255.233503         260.750549        9.017040e-18   \n",
       "PutOuts          305.477157         308.565743        6.086502e-17   \n",
       "Assists          114.746193         139.827728       -4.508520e-17   \n",
       "Errors             8.456853           6.297563       -1.036960e-16   \n",
       "\n",
       "         scaledStdsNonTest  scaledMeansTest  scaledStdsTest  \n",
       "AtBat             1.002548         0.033021        1.130117  \n",
       "Hits              1.002548         0.097298        1.175414  \n",
       "HmRun             1.002548        -0.075121        0.949986  \n",
       "Runs              1.002548         0.115296        1.125640  \n",
       "RBI               1.002548        -0.031315        1.094091  \n",
       "Walks             1.002548        -0.085659        1.146284  \n",
       "Years             1.002548         0.074533        1.052625  \n",
       "CAtBat            1.002548         0.040173        0.953013  \n",
       "CHits             1.002548         0.023705        0.924312  \n",
       "CHmRun            1.002548        -0.070107        0.869022  \n",
       "CRuns             1.002548         0.023054        0.935495  \n",
       "CRBI              1.002548        -0.018996        0.947277  \n",
       "CWalks            1.002548         0.076910        1.048016  \n",
       "PutOuts           1.002548        -0.190691        0.508953  \n",
       "Assists           1.002548         0.114400        1.139552  \n",
       "Errors            1.002548         0.086247        1.183053  "
      ]
     },
     "metadata": {},
     "output_type": "display_data"
    }
   ],
   "source": [
    "# Instructor eval code\n",
    "print(\"-Before transformation, non-test column names:\\n\", cols)\n",
    "\n",
    "print(\"---After transformation, non-test column names:\\n\", list(X_nonTest_scaled.columns.values))\n",
    "print(\"---After transformation, test column names:\\n\", list(X_test_scaled.columns.values))\n",
    "\n",
    "\n",
    "scalingdf = pd.DataFrame({'actualNonTestMeans':zscaler.mean_ ,\n",
    "                          'actualNonTestStds':zscaler.scale_,\n",
    "                          'scaledMeansNonTest':X_nonTest_scaled[cols_to_scale].mean(axis=0),\n",
    "                          'scaledStdsNonTest':X_nonTest_scaled[cols_to_scale].std(axis=0),\n",
    "                          'scaledMeansTest':X_test_scaled[cols_to_scale].mean(axis=0),\n",
    "                          'scaledStdsTest':X_test_scaled[cols_to_scale].std(axis=0)})\n",
    "display(scalingdf)"
   ]
  },
  {
   "attachments": {},
   "cell_type": "markdown",
   "metadata": {},
   "source": [
    "### Make a prediction evaluator that accounts for the log base 10 scaled salaries (INSTRUCTOR-PROVIDED CODE)\n",
    "\n",
    "Before we start fitting models there is one last thing we need to do.\n",
    "\n",
    "Although the new Y values after log-10 scaling should help our model fit, it means the models predictions will be of log-10 salary (not the salary value itself).  In order to compensate for this we will build a new helper function to compute MSE on predictions which were made in the logspace.  This MSE method will be used by our model while computing the optimization equiation in search for good models.\n",
    "\n",
    "A transform to calculate the $MSE$ in the original dataspace is shown below - and all $MSE$ values will be calculated in salary space instead of log-10 salary space."
   ]
  },
  {
   "cell_type": "code",
   "execution_count": 16,
   "metadata": {},
   "outputs": [],
   "source": [
    "def transform_rmse(y_true, y_pred):\n",
    "    ydiff = np.power(10,y_true) - np.power(10,y_pred)\n",
    "    mse = np.dot(ydiff.T, ydiff)/len(ydiff)\n",
    "    #rmse = np.sqrt(mse)\n",
    "    rmse = np.sqrt(mse).item(0)\n",
    "    return -rmse\n",
    "\n",
    "dataspace_rmse = make_scorer(transform_rmse, greater_is_better=True)  #this scorer can be used by the model"
   ]
  },
  {
   "attachments": {},
   "cell_type": "markdown",
   "metadata": {},
   "source": [
    "# Part B:  Building competing models with feature selection and regularization\n",
    "\n",
    "In this next part, we will build several 'best of type' linear regression models using feature selection & regularization techniques\n",
    "* Foward (stepwise) subset selection\n",
    "* Backwards (stepwise) subset selection\n",
    "* Ridge Regression \n",
    "* LASSO\n",
    "\n",
    "In each model type we will use k-fold crossvalidation to make the selection of the best model from the hyper-parameter settings witin the type (number of features to keep for forward and backwards subset selection, best alpha value for each regularization type - ridge regression and LASSO).  \n",
    "\n",
    "Once these four best of type models have been acquired and the crossval performances are known, we can pick the best model of these four types.\n",
    "\n",
    "Then, we will retrain a single model of that winning type using *all* the non-test data and the hyper-parameter settings of the type in preparation for the next part"
   ]
  },
  {
   "attachments": {},
   "cell_type": "markdown",
   "metadata": {},
   "source": [
    "## STEP 6 (STUDENT CODE REQUIRED) Forward and reverse Subset Selection: Determining the greedy set of model features for each size linear regression model\n",
    "\n",
    "In this step, you will use `sklearn.feature_selection`'s `SequentialFeatureSelector` as a model trainer.   This trainer is a good choice becasue it can produce models usine either forward or backwards subset selection, and you can tell it to build a model containing a specific number of features.\n",
    "\n",
    "Inside a loop you will collect the models of each feasibile feature-count size to make the prediction of the `log_y_nonTest` data using all the numeric features avaialbel in the `X_nonTest_scaled` data as input for the model.  This process will involve:\n",
    "* Use LinearRegression() as set to `model` for the `estimator` in `SequentialFeatureSelector`\n",
    "* Use K-cross-fold validation where K is defined by the instructor in the `kfold_count` and is used to populate the `cv` parameter in `SequentialFeatureSelector`\n",
    "* Use the dataspace_rmse scorer (created above) to have the `scoring` parameter minimize the RMSE score in units of actual salary dollars\n",
    "* Create a separate instantiation of `SequentialFeatureSelector` to create both forward and backward models during each iteration of the loop\n",
    "* Fit both the forward and backwards instantiated `SequentialFeatureSelector` using `.fit` with using features in `X_nonTest_scaled` and labels in `log_y_nonTest`\n",
    "* Capture the resulting feature mask using `.get_support` \n",
    "* Use the feature mask to determine the dataframe column names to keep for each model\n",
    "* Because `SequentialFeatureSelector` just provides the best features (not a fit model) we still have to fit and score a model with these features\n",
    "    * Use the fit model to score the model fit on the non-test data using crossvalidation\n",
    "    * Keep track of the best fitting model as the loop iterates\n",
    "* Capture the overall best fit model of each type (fowards and backwards), and the cv score it achieved (RMSE) \n",
    "\n",
    "(Hint:  See https://scikit-learn.org/stable/modules/generated/sklearn.feature_selection.SequentialFeatureSelector.html#sklearn.feature_selection.SequentialFeatureSelector)"
   ]
  },
  {
   "cell_type": "code",
   "execution_count": 17,
   "metadata": {},
   "outputs": [
    {
     "name": "stdout",
     "output_type": "stream",
     "text": [
      "19 numeric features: Index(['AtBat', 'Hits', 'HmRun', 'Runs', 'RBI', 'Walks', 'Years', 'CAtBat',\n",
      "       'CHits', 'CHmRun', 'CRuns', 'CRBI', 'CWalks', 'PutOuts', 'Assists',\n",
      "       'Errors', 'League_N', 'Division_W', 'NewLeague_N'],\n",
      "      dtype='object')\n"
     ]
    }
   ],
   "source": [
    "# STEP 6\n",
    "\n",
    "model = LinearRegression()\n",
    "\n",
    "kfold_count = 5\n",
    "\n",
    "#select only the numeric features to use\n",
    "numeric_features = X_nonTest_scaled.select_dtypes('number').columns\n",
    "print(len(numeric_features),\"numeric features:\", numeric_features)\n",
    "\n",
    "selected_features_forward = [] #placeholder to contain list of feature name text strings (column names)\n",
    "selected_features_backward = [] #placeholder to contain list of feature name text strings (column names)\n",
    "\n",
    "model_scores_forward = [] #placeholder to keep list of scores per fitted model (length = feature qty-1)\n",
    "model_scores_backward = [] #placeholder to keep list of scores per feature-count (length = feature qty-1)\n",
    "\n",
    "best_score_forward = -np.inf #start as bad as possible, to be replaced with best score\n",
    "best_score_backward = -np.inf #start as bad as possible, to be replaced with best score\n",
    "best_idx_forward = None #placeholder\n",
    "best_idx_backward = None #placeholder\n",
    "\n",
    "best_features_forward = None #placeholder to contain list of feature name text strings (column names)\n",
    "best_features_backward = None #placeholder\n",
    "\n",
    "\n",
    "for idx,num_feats in enumerate(range(1,len(numeric_features))):\n",
    "    #----------------START STUDENT CODE -----------------------\n",
    "    \n",
    "    #---Forward---#\n",
    "    forwardSelector = SequentialFeatureSelector(estimator=LinearRegression(), direction='forward', cv=kfold_count, scoring=dataspace_rmse, \n",
    "                                                n_features_to_select=num_feats)\n",
    "    forwardSelector.fit(X_nonTest_scaled[numeric_features], log_y_nonTest)\n",
    "    selected_features_forward.append( numeric_features[forwardSelector.get_support( )] )\n",
    "    model.fit(X_nonTest_scaled[selected_features_forward[idx]], log_y_nonTest)\n",
    "    #model_scores_forward.append( mean_squared_error(log_y_nonTest, model.predict(X_nonTest_scaled[selected_features_forward[idx]]), squared=False) )\n",
    "    model_scores_forward.append( transform_rmse(log_y_nonTest, model.predict(X_nonTest_scaled[selected_features_forward[idx]])) )\n",
    "    if model_scores_forward[idx] > best_score_forward:\n",
    "        best_score_forward = model_scores_forward[idx]\n",
    "        best_idx_forward = idx\n",
    "        best_features_forward = selected_features_forward[idx]\n",
    "    \n",
    "    #---Backward---#\n",
    "    backwardSelector = SequentialFeatureSelector(estimator=LinearRegression(), direction='backward', cv=kfold_count, scoring=dataspace_rmse, \n",
    "                                                 n_features_to_select=num_feats)\n",
    "    backwardSelector.fit(X_nonTest_scaled[numeric_features], log_y_nonTest)\n",
    "    selected_features_backward.append( numeric_features[backwardSelector.get_support()] )\n",
    "    model.fit(X_nonTest_scaled[selected_features_backward[idx]], log_y_nonTest)\n",
    "    #model_scores_backward.append( mean_squared_error(log_y_nonTest, model.predict(X_nonTest_scaled[selected_features_backward[idx]]), squared=False) )\n",
    "    model_scores_backward.append( transform_rmse(log_y_nonTest, model.predict(X_nonTest_scaled[selected_features_backward[idx]])) )\n",
    "    if model_scores_backward[idx] > best_score_backward:\n",
    "        best_score_backward = model_scores_backward[idx]\n",
    "        best_idx_backward = idx\n",
    "        best_features_backward = selected_features_backward[idx]\n",
    "    \n",
    "    #----------------END STUDENT CODE -------------------------\n",
    "\n",
    "    "
   ]
  },
  {
   "cell_type": "code",
   "execution_count": 18,
   "metadata": {},
   "outputs": [
    {
     "name": "stdout",
     "output_type": "stream",
     "text": [
      "[-403786.86098944227, -372478.40647121187, -365523.8357549121, -354150.73061626044, -351385.4942376142, -345746.18264515867, -344818.0226369459, -344726.0366094803, -346473.0136065005, -347246.2056251217, -348468.362329555, -349059.3112810162, -347155.31343554147, -347705.2081407544, -345153.66579081304, -346208.43214119796, -341739.2645640927, -344035.97088113544]\n",
      "[-403786.86098944227, -372478.40647121187, -365523.8357549121, -354150.73061626044, -351385.4942376142, -345746.18264515867, -344818.0226369459, -344726.0366094803, -346473.0136065005, -347246.2056251217, -348213.97659626586, -346147.8616360252, -348213.10129024385, -343499.0337892434, -340193.2684418073, -341640.5055098957, -342945.02446449635, -343145.2364221831]\n"
     ]
    },
    {
     "data": {
      "text/html": [
       "<div>\n",
       "<style scoped>\n",
       "    .dataframe tbody tr th:only-of-type {\n",
       "        vertical-align: middle;\n",
       "    }\n",
       "\n",
       "    .dataframe tbody tr th {\n",
       "        vertical-align: top;\n",
       "    }\n",
       "\n",
       "    .dataframe thead th {\n",
       "        text-align: right;\n",
       "    }\n",
       "</style>\n",
       "<table border=\"1\" class=\"dataframe\">\n",
       "  <thead>\n",
       "    <tr style=\"text-align: right;\">\n",
       "      <th></th>\n",
       "      <th>forward</th>\n",
       "      <th>backward</th>\n",
       "    </tr>\n",
       "  </thead>\n",
       "  <tbody>\n",
       "    <tr>\n",
       "      <th>1</th>\n",
       "      <td>-403786.860989</td>\n",
       "      <td>-403786.860989</td>\n",
       "    </tr>\n",
       "    <tr>\n",
       "      <th>2</th>\n",
       "      <td>-372478.406471</td>\n",
       "      <td>-372478.406471</td>\n",
       "    </tr>\n",
       "    <tr>\n",
       "      <th>3</th>\n",
       "      <td>-365523.835755</td>\n",
       "      <td>-365523.835755</td>\n",
       "    </tr>\n",
       "    <tr>\n",
       "      <th>4</th>\n",
       "      <td>-354150.730616</td>\n",
       "      <td>-354150.730616</td>\n",
       "    </tr>\n",
       "    <tr>\n",
       "      <th>5</th>\n",
       "      <td>-351385.494238</td>\n",
       "      <td>-351385.494238</td>\n",
       "    </tr>\n",
       "    <tr>\n",
       "      <th>6</th>\n",
       "      <td>-345746.182645</td>\n",
       "      <td>-345746.182645</td>\n",
       "    </tr>\n",
       "    <tr>\n",
       "      <th>7</th>\n",
       "      <td>-344818.022637</td>\n",
       "      <td>-344818.022637</td>\n",
       "    </tr>\n",
       "    <tr>\n",
       "      <th>8</th>\n",
       "      <td>-344726.036609</td>\n",
       "      <td>-344726.036609</td>\n",
       "    </tr>\n",
       "    <tr>\n",
       "      <th>9</th>\n",
       "      <td>-346473.013607</td>\n",
       "      <td>-346473.013607</td>\n",
       "    </tr>\n",
       "    <tr>\n",
       "      <th>10</th>\n",
       "      <td>-347246.205625</td>\n",
       "      <td>-347246.205625</td>\n",
       "    </tr>\n",
       "    <tr>\n",
       "      <th>11</th>\n",
       "      <td>-348468.362330</td>\n",
       "      <td>-348213.976596</td>\n",
       "    </tr>\n",
       "    <tr>\n",
       "      <th>12</th>\n",
       "      <td>-349059.311281</td>\n",
       "      <td>-346147.861636</td>\n",
       "    </tr>\n",
       "    <tr>\n",
       "      <th>13</th>\n",
       "      <td>-347155.313436</td>\n",
       "      <td>-348213.101290</td>\n",
       "    </tr>\n",
       "    <tr>\n",
       "      <th>14</th>\n",
       "      <td>-347705.208141</td>\n",
       "      <td>-343499.033789</td>\n",
       "    </tr>\n",
       "    <tr>\n",
       "      <th>15</th>\n",
       "      <td>-345153.665791</td>\n",
       "      <td>-340193.268442</td>\n",
       "    </tr>\n",
       "    <tr>\n",
       "      <th>16</th>\n",
       "      <td>-346208.432141</td>\n",
       "      <td>-341640.505510</td>\n",
       "    </tr>\n",
       "    <tr>\n",
       "      <th>17</th>\n",
       "      <td>-341739.264564</td>\n",
       "      <td>-342945.024464</td>\n",
       "    </tr>\n",
       "    <tr>\n",
       "      <th>18</th>\n",
       "      <td>-344035.970881</td>\n",
       "      <td>-343145.236422</td>\n",
       "    </tr>\n",
       "  </tbody>\n",
       "</table>\n",
       "</div>"
      ],
      "text/plain": [
       "          forward       backward\n",
       "1  -403786.860989 -403786.860989\n",
       "2  -372478.406471 -372478.406471\n",
       "3  -365523.835755 -365523.835755\n",
       "4  -354150.730616 -354150.730616\n",
       "5  -351385.494238 -351385.494238\n",
       "6  -345746.182645 -345746.182645\n",
       "7  -344818.022637 -344818.022637\n",
       "8  -344726.036609 -344726.036609\n",
       "9  -346473.013607 -346473.013607\n",
       "10 -347246.205625 -347246.205625\n",
       "11 -348468.362330 -348213.976596\n",
       "12 -349059.311281 -346147.861636\n",
       "13 -347155.313436 -348213.101290\n",
       "14 -347705.208141 -343499.033789\n",
       "15 -345153.665791 -340193.268442\n",
       "16 -346208.432141 -341640.505510\n",
       "17 -341739.264564 -342945.024464\n",
       "18 -344035.970881 -343145.236422"
      ]
     },
     "metadata": {},
     "output_type": "display_data"
    },
    {
     "name": "stdout",
     "output_type": "stream",
     "text": [
      "Best greedy feature selection models:\n",
      "forward: 17 features, RMSE $ -341739.2645640927\n",
      "Index(['AtBat', 'Hits', 'HmRun', 'Runs', 'RBI', 'Walks', 'Years', 'CHmRun',\n",
      "       'CRuns', 'CRBI', 'CWalks', 'PutOuts', 'Assists', 'Errors', 'League_N',\n",
      "       'Division_W', 'NewLeague_N'],\n",
      "      dtype='object')\n",
      "backward: 15 features, RMSE $ -340193.2684418073\n",
      "Index(['AtBat', 'Hits', 'HmRun', 'Runs', 'RBI', 'Walks', 'Years', 'CHits',\n",
      "       'CRuns', 'CWalks', 'PutOuts', 'Assists', 'Errors', 'League_N',\n",
      "       'Division_W'],\n",
      "      dtype='object')\n"
     ]
    },
    {
     "data": {
      "image/png": "[encoded data removed]",
      "text/plain": [
       "<Figure size 640x480 with 1 Axes>"
      ]
     },
     "metadata": {},
     "output_type": "display_data"
    }
   ],
   "source": [
    "# instructor diagnostics \n",
    "\n",
    "print(model_scores_forward)\n",
    "print(model_scores_backward)\n",
    "\n",
    "feature_counts = range(1,len(model_scores_forward)+1)\n",
    "\n",
    "greedyscoresdf = pd.DataFrame({'forward':model_scores_forward, \n",
    "                               'backward':model_scores_backward},index=feature_counts)\n",
    "# greedyscoresdf.columns = ('foward','backward')\n",
    "display(greedyscoresdf)\n",
    "print(\"Best greedy feature selection models:\")\n",
    "print(\"forward:\", best_idx_forward+1,\"features, RMSE $\",best_score_forward)\n",
    "print(best_features_forward)\n",
    "print(\"backward:\",best_idx_backward+1,\"features, RMSE $\",best_score_backward)\n",
    "print(best_features_backward)\n",
    "\n",
    "\n",
    "\n",
    "#plot the RMSEs of the forward/backward models\n",
    "plt.figure()\n",
    "plt.plot(feature_counts,model_scores_forward,label='forward')\n",
    "plt.plot(feature_counts,model_scores_backward,label='backward')\n",
    "plt.xticks(feature_counts)\n",
    "ax = plt.gca()\n",
    "ax.ticklabel_format(useOffset=False, style='plain')\n",
    "plt.legend()\n",
    "plt.show()"
   ]
  },
  {
   "attachments": {},
   "cell_type": "markdown",
   "metadata": {},
   "source": [
    "## STEP 7 (STUDENT CODE REQUIRED) Find Best Ridge Regression Model\n",
    "\n",
    "Use RidgeCV to find the best alpha for the ridge regression of a models of  to make the prediction of the `log_y_nonTest` data using *all* the *numeric* features avaialble in the `X_nonTest_scaled` data as input for the model.  This process will involve:\n",
    "    * Use K-cross-fold validation where K is defined by the instructor in the `kfold_count` and is used to populate the `cv` parameter in `RidgeCV`\n",
    "    * Use the `dataspace_rmse` scorer (created above) to have the `scoring` parameter minimize the RMSE score in units of actual salary dollars\n",
    "    * set `store_cv_values=True` in order to save the CV scores obtained for each `alpha` evaluated during CV\n",
    "* Fit the instantiated `RidgeCV` using `.fit` with using features in `X_nonTest_scaled` and labels in `log_y_nonTest`\n",
    "\n",
    "* Use Ridge() as set to `model` for the `estimator` in `RidgeCV`\n",
    "* Capture the resulting best alpha using `.alpha_` \n",
    "* Fit a new model with this alpha to compute the RMSE score of the best `RidgeCV` model using the `dataspace_rmse` scorer\n",
    "\n",
    "See:  https://scikit-learn.org/stable/modules/generated/sklearn.linear_model.RidgeCV.html?highlight=ridgecv#sklearn.linear_model.RidgeCV\n"
   ]
  },
  {
   "cell_type": "code",
   "execution_count": 19,
   "metadata": {},
   "outputs": [],
   "source": [
    "# STEP 7\n",
    "\n",
    "kfold_count = 5\n",
    "minLogAlpha = -3\n",
    "maxLogAlpha = 7\n",
    "alphaCount = 1000\n",
    "\n",
    "alphagrid = np.zeros(alphaCount)  # placeholder for the alphas\n",
    "alphagrid = np.logspace(minLogAlpha,maxLogAlpha,num=alphaCount)\n",
    "\n",
    "best_ridge_alpha = None # placeholder\n",
    "best_ridge_score = None # placeholder\n",
    "\n",
    "#------------- START STUDENT CODE ------------------\n",
    "best_ridge_alpha = RidgeCV(alphagrid, scoring=dataspace_rmse, cv=kfold_count).fit(X_nonTest_scaled[numeric_features], log_y_nonTest).alpha_\n",
    "ridge_model = RidgeCV(best_ridge_alpha, scoring=dataspace_rmse, store_cv_values=True).fit(X_nonTest_scaled[numeric_features], log_y_nonTest)\n",
    "#best_ridge_score = mean_squared_error(log_y_nonTest, ridge_model.predict(X_nonTest_scaled[numeric_features]), squared=False)\n",
    "best_ridge_score = transform_rmse(log_y_nonTest, ridge_model.predict(X_nonTest_scaled[numeric_features]))\n",
    "#------------- END STUDENT CODE ------------------"
   ]
  },
  {
   "cell_type": "code",
   "execution_count": 20,
   "metadata": {},
   "outputs": [
    {
     "name": "stdout",
     "output_type": "stream",
     "text": [
      "Best Ridge alpha: 422.30441872066723 ; Best ridge RMSE $ -366527.1159350314\n"
     ]
    }
   ],
   "source": [
    "#instructor diagnostics\n",
    "\n",
    "print(\"Best Ridge alpha:\", best_ridge_alpha, \"; Best ridge RMSE $\", best_ridge_score)\n"
   ]
  },
  {
   "attachments": {},
   "cell_type": "markdown",
   "metadata": {},
   "source": [
    "## STEP 8 (STUDENT CODE REQUIRED) Find Best LASSO Regression Model\n",
    "\n",
    "Lasso behaves differently from Ridge Regression, and if we want to use cross validation RMSE $ as a scoring function we have to accomplish crossvalidation in a different way - by using a generalized wrapper to conduct CV.   Using a generalized wrapper in this way provides some extra functionality in conducting CV over multiple hyperparameter searches and capturing the resulting best models, parameters and performance information.  It may be a wise choice for future efforts...\n",
    "\n",
    "Use Lasso within `GridSearchCV` to find the best alpha for the Lasso regression of a models of  to make the prediction of the `log_y_nonTest` data using *all* the *numeric* features avaialble in the `X_nonTest_scaled` data as input for the model.  This process will involve:\n",
    "* Wrapping a Lasso() estimator inside of a `GridSearchCV()` object\n",
    "    * Setting the `estimator` of GridSearchCV to be `Lasso()`\n",
    "    * Establishing a param_grid dictionary for `GridSearchCV` which contains the logspace set of `alpha` parameters (`alphagrid`)\n",
    "    * Using `dataspace_rmse` as the scoring function for the `GridSearchCV`\n",
    "    * Using K-cross-fold validation where K is defined by the instructor in the `kfold_count` and is used to populate the `cv` parameter in `GridSearchCV`\n",
    "* Fit the instantiated `GridSearchCV` using `.fit` with the numeric features in `X_nonTest_scaled` and labels in `log_y_nonTest`\n",
    "* Capture the best lasso regularization alpha using `best_params.alpha_` \n",
    "* Capture the resulting best score of that model using `best_score_` \n",
    "* Capture extended details of the CV process as a dataframe using `.cv_results_`\n",
    "\n",
    "(Hint:  See https://scikit-learn.org/stable/modules/generated/sklearn.model_selection.GridSearchCV.html)"
   ]
  },
  {
   "cell_type": "code",
   "execution_count": 21,
   "metadata": {},
   "outputs": [],
   "source": [
    "# STEP 8\n",
    "\n",
    "minLogAlpha = -3\n",
    "maxLogAlpha = 7\n",
    "alphaCount = 1000\n",
    "\n",
    "alphagrid = np.zeros(alphaCount)  # placeholder for the alphas\n",
    "alphagrid = np.logspace(minLogAlpha,maxLogAlpha,num=alphaCount)\n",
    "\n",
    "lcv_model = None #placeholder for GridSearchCV() wrapper of Lasso() model\n",
    "best_lasso_alpha = None  #placeholder\n",
    "best_lasso_score = None  #placeholder\n",
    "\n",
    "lasso_cv_results = pd.DataFrame() #placeholder\n",
    "\n",
    "#------------- START STUDENT CODE ------------------\n",
    "params = [{ 'alpha' : alphagrid}]\n",
    "#gscv = GridSearchCV(Lasso(), params, scoring=dataspace_rmse, cv=kfold_count, return_train_score=True, error_score=\"raise\", verbose=2)\n",
    "gscv = GridSearchCV(Lasso(), params, cv=kfold_count, return_train_score=True, error_score=\"raise\")\n",
    "gscv.fit(X_nonTest_scaled[numeric_features], log_y_nonTest) #\n",
    "best_lasso_alpha = gscv.best_params_['alpha']\n",
    "# best_lasso_score = gscv.best_score_\n",
    "best_lasso_score = transform_rmse(log_y_nonTest, \n",
    "#                                  Lasso(best_lasso_alpha).fit(X_nonTest_scaled[numeric_features], log_y_nonTest).predict(X_nonTest_scaled[numeric_features]) )\n",
    "                    np.array([Lasso(best_lasso_alpha).fit(X_nonTest_scaled[numeric_features], log_y_nonTest).predict(X_nonTest_scaled[numeric_features])]).T )\n",
    "lasso_cv_results = pd.DataFrame(gscv.cv_results_)\n",
    "#------------- END STUDENT CODE ------------------"
   ]
  },
  {
   "cell_type": "code",
   "execution_count": 22,
   "metadata": {},
   "outputs": [
    {
     "name": "stdout",
     "output_type": "stream",
     "text": [
      "best Lasso alpha: 0.00893204599858097 ; best Lasso score: -355422.288944283\n"
     ]
    },
    {
     "data": {
      "text/html": [
       "<div>\n",
       "<style scoped>\n",
       "    .dataframe tbody tr th:only-of-type {\n",
       "        vertical-align: middle;\n",
       "    }\n",
       "\n",
       "    .dataframe tbody tr th {\n",
       "        vertical-align: top;\n",
       "    }\n",
       "\n",
       "    .dataframe thead th {\n",
       "        text-align: right;\n",
       "    }\n",
       "</style>\n",
       "<table border=\"1\" class=\"dataframe\">\n",
       "  <thead>\n",
       "    <tr style=\"text-align: right;\">\n",
       "      <th></th>\n",
       "      <th>mean_fit_time</th>\n",
       "      <th>std_fit_time</th>\n",
       "      <th>mean_score_time</th>\n",
       "      <th>std_score_time</th>\n",
       "      <th>param_alpha</th>\n",
       "      <th>params</th>\n",
       "      <th>split0_test_score</th>\n",
       "      <th>split1_test_score</th>\n",
       "      <th>split2_test_score</th>\n",
       "      <th>split3_test_score</th>\n",
       "      <th>...</th>\n",
       "      <th>mean_test_score</th>\n",
       "      <th>std_test_score</th>\n",
       "      <th>rank_test_score</th>\n",
       "      <th>split0_train_score</th>\n",
       "      <th>split1_train_score</th>\n",
       "      <th>split2_train_score</th>\n",
       "      <th>split3_train_score</th>\n",
       "      <th>split4_train_score</th>\n",
       "      <th>mean_train_score</th>\n",
       "      <th>std_train_score</th>\n",
       "    </tr>\n",
       "  </thead>\n",
       "  <tbody>\n",
       "    <tr>\n",
       "      <th>0</th>\n",
       "      <td>0.003120</td>\n",
       "      <td>0.000587</td>\n",
       "      <td>0.001533</td>\n",
       "      <td>0.000118</td>\n",
       "      <td>0.001</td>\n",
       "      <td>{'alpha': 0.001}</td>\n",
       "      <td>0.483604</td>\n",
       "      <td>0.434189</td>\n",
       "      <td>0.574577</td>\n",
       "      <td>0.570878</td>\n",
       "      <td>...</td>\n",
       "      <td>0.445080</td>\n",
       "      <td>0.151158</td>\n",
       "      <td>178</td>\n",
       "      <td>0.622770</td>\n",
       "      <td>0.617185</td>\n",
       "      <td>0.572901</td>\n",
       "      <td>0.577466</td>\n",
       "      <td>0.623655</td>\n",
       "      <td>0.602795</td>\n",
       "      <td>0.022700</td>\n",
       "    </tr>\n",
       "    <tr>\n",
       "      <th>1</th>\n",
       "      <td>0.003037</td>\n",
       "      <td>0.000565</td>\n",
       "      <td>0.001429</td>\n",
       "      <td>0.000089</td>\n",
       "      <td>0.001023</td>\n",
       "      <td>{'alpha': 0.0010233165783302448}</td>\n",
       "      <td>0.484132</td>\n",
       "      <td>0.434171</td>\n",
       "      <td>0.574612</td>\n",
       "      <td>0.571095</td>\n",
       "      <td>...</td>\n",
       "      <td>0.445494</td>\n",
       "      <td>0.150739</td>\n",
       "      <td>177</td>\n",
       "      <td>0.622534</td>\n",
       "      <td>0.617105</td>\n",
       "      <td>0.572745</td>\n",
       "      <td>0.577206</td>\n",
       "      <td>0.623544</td>\n",
       "      <td>0.602627</td>\n",
       "      <td>0.022727</td>\n",
       "    </tr>\n",
       "    <tr>\n",
       "      <th>2</th>\n",
       "      <td>0.002575</td>\n",
       "      <td>0.000538</td>\n",
       "      <td>0.001236</td>\n",
       "      <td>0.000060</td>\n",
       "      <td>0.001047</td>\n",
       "      <td>{'alpha': 0.0010471768194855202}</td>\n",
       "      <td>0.484508</td>\n",
       "      <td>0.434150</td>\n",
       "      <td>0.574659</td>\n",
       "      <td>0.571306</td>\n",
       "      <td>...</td>\n",
       "      <td>0.445917</td>\n",
       "      <td>0.150240</td>\n",
       "      <td>175</td>\n",
       "      <td>0.622372</td>\n",
       "      <td>0.617021</td>\n",
       "      <td>0.572664</td>\n",
       "      <td>0.576933</td>\n",
       "      <td>0.623448</td>\n",
       "      <td>0.602488</td>\n",
       "      <td>0.022753</td>\n",
       "    </tr>\n",
       "    <tr>\n",
       "      <th>3</th>\n",
       "      <td>0.002436</td>\n",
       "      <td>0.000420</td>\n",
       "      <td>0.001164</td>\n",
       "      <td>0.000014</td>\n",
       "      <td>0.001072</td>\n",
       "      <td>{'alpha': 0.001071593399822671}</td>\n",
       "      <td>0.484817</td>\n",
       "      <td>0.434127</td>\n",
       "      <td>0.574712</td>\n",
       "      <td>0.571509</td>\n",
       "      <td>...</td>\n",
       "      <td>0.446337</td>\n",
       "      <td>0.149718</td>\n",
       "      <td>174</td>\n",
       "      <td>0.622238</td>\n",
       "      <td>0.616933</td>\n",
       "      <td>0.572587</td>\n",
       "      <td>0.576647</td>\n",
       "      <td>0.623351</td>\n",
       "      <td>0.602351</td>\n",
       "      <td>0.022785</td>\n",
       "    </tr>\n",
       "    <tr>\n",
       "      <th>4</th>\n",
       "      <td>0.002393</td>\n",
       "      <td>0.000392</td>\n",
       "      <td>0.001168</td>\n",
       "      <td>0.000017</td>\n",
       "      <td>0.001097</td>\n",
       "      <td>{'alpha': 0.0010965792912678099}</td>\n",
       "      <td>0.485113</td>\n",
       "      <td>0.434098</td>\n",
       "      <td>0.574765</td>\n",
       "      <td>0.571705</td>\n",
       "      <td>...</td>\n",
       "      <td>0.446756</td>\n",
       "      <td>0.149184</td>\n",
       "      <td>173</td>\n",
       "      <td>0.622103</td>\n",
       "      <td>0.616841</td>\n",
       "      <td>0.572507</td>\n",
       "      <td>0.576347</td>\n",
       "      <td>0.623249</td>\n",
       "      <td>0.602210</td>\n",
       "      <td>0.022819</td>\n",
       "    </tr>\n",
       "    <tr>\n",
       "      <th>...</th>\n",
       "      <td>...</td>\n",
       "      <td>...</td>\n",
       "      <td>...</td>\n",
       "      <td>...</td>\n",
       "      <td>...</td>\n",
       "      <td>...</td>\n",
       "      <td>...</td>\n",
       "      <td>...</td>\n",
       "      <td>...</td>\n",
       "      <td>...</td>\n",
       "      <td>...</td>\n",
       "      <td>...</td>\n",
       "      <td>...</td>\n",
       "      <td>...</td>\n",
       "      <td>...</td>\n",
       "      <td>...</td>\n",
       "      <td>...</td>\n",
       "      <td>...</td>\n",
       "      <td>...</td>\n",
       "      <td>...</td>\n",
       "      <td>...</td>\n",
       "    </tr>\n",
       "    <tr>\n",
       "      <th>995</th>\n",
       "      <td>0.001560</td>\n",
       "      <td>0.000028</td>\n",
       "      <td>0.001170</td>\n",
       "      <td>0.000013</td>\n",
       "      <td>9119267.598459</td>\n",
       "      <td>{'alpha': 9119267.598459298}</td>\n",
       "      <td>-0.006074</td>\n",
       "      <td>-0.000176</td>\n",
       "      <td>-0.195754</td>\n",
       "      <td>-0.052923</td>\n",
       "      <td>...</td>\n",
       "      <td>-0.052352</td>\n",
       "      <td>0.074163</td>\n",
       "      <td>242</td>\n",
       "      <td>0.000000</td>\n",
       "      <td>0.000000</td>\n",
       "      <td>0.000000</td>\n",
       "      <td>0.000000</td>\n",
       "      <td>0.000000</td>\n",
       "      <td>0.000000</td>\n",
       "      <td>0.000000</td>\n",
       "    </tr>\n",
       "    <tr>\n",
       "      <th>996</th>\n",
       "      <td>0.001538</td>\n",
       "      <td>0.000020</td>\n",
       "      <td>0.001166</td>\n",
       "      <td>0.000031</td>\n",
       "      <td>9331897.715733</td>\n",
       "      <td>{'alpha': 9331897.71573324}</td>\n",
       "      <td>-0.006074</td>\n",
       "      <td>-0.000176</td>\n",
       "      <td>-0.195754</td>\n",
       "      <td>-0.052923</td>\n",
       "      <td>...</td>\n",
       "      <td>-0.052352</td>\n",
       "      <td>0.074163</td>\n",
       "      <td>242</td>\n",
       "      <td>0.000000</td>\n",
       "      <td>0.000000</td>\n",
       "      <td>0.000000</td>\n",
       "      <td>0.000000</td>\n",
       "      <td>0.000000</td>\n",
       "      <td>0.000000</td>\n",
       "      <td>0.000000</td>\n",
       "    </tr>\n",
       "    <tr>\n",
       "      <th>997</th>\n",
       "      <td>0.001537</td>\n",
       "      <td>0.000008</td>\n",
       "      <td>0.001175</td>\n",
       "      <td>0.000036</td>\n",
       "      <td>9549485.639792</td>\n",
       "      <td>{'alpha': 9549485.639791965}</td>\n",
       "      <td>-0.006074</td>\n",
       "      <td>-0.000176</td>\n",
       "      <td>-0.195754</td>\n",
       "      <td>-0.052923</td>\n",
       "      <td>...</td>\n",
       "      <td>-0.052352</td>\n",
       "      <td>0.074163</td>\n",
       "      <td>242</td>\n",
       "      <td>0.000000</td>\n",
       "      <td>0.000000</td>\n",
       "      <td>0.000000</td>\n",
       "      <td>0.000000</td>\n",
       "      <td>0.000000</td>\n",
       "      <td>0.000000</td>\n",
       "      <td>0.000000</td>\n",
       "    </tr>\n",
       "    <tr>\n",
       "      <th>998</th>\n",
       "      <td>0.001552</td>\n",
       "      <td>0.000009</td>\n",
       "      <td>0.001185</td>\n",
       "      <td>0.000028</td>\n",
       "      <td>9772146.969726</td>\n",
       "      <td>{'alpha': 9772146.969725724}</td>\n",
       "      <td>-0.006074</td>\n",
       "      <td>-0.000176</td>\n",
       "      <td>-0.195754</td>\n",
       "      <td>-0.052923</td>\n",
       "      <td>...</td>\n",
       "      <td>-0.052352</td>\n",
       "      <td>0.074163</td>\n",
       "      <td>242</td>\n",
       "      <td>0.000000</td>\n",
       "      <td>0.000000</td>\n",
       "      <td>0.000000</td>\n",
       "      <td>0.000000</td>\n",
       "      <td>0.000000</td>\n",
       "      <td>0.000000</td>\n",
       "      <td>0.000000</td>\n",
       "    </tr>\n",
       "    <tr>\n",
       "      <th>999</th>\n",
       "      <td>0.001567</td>\n",
       "      <td>0.000021</td>\n",
       "      <td>0.001170</td>\n",
       "      <td>0.000025</td>\n",
       "      <td>10000000.0</td>\n",
       "      <td>{'alpha': 10000000.0}</td>\n",
       "      <td>-0.006074</td>\n",
       "      <td>-0.000176</td>\n",
       "      <td>-0.195754</td>\n",
       "      <td>-0.052923</td>\n",
       "      <td>...</td>\n",
       "      <td>-0.052352</td>\n",
       "      <td>0.074163</td>\n",
       "      <td>242</td>\n",
       "      <td>0.000000</td>\n",
       "      <td>0.000000</td>\n",
       "      <td>0.000000</td>\n",
       "      <td>0.000000</td>\n",
       "      <td>0.000000</td>\n",
       "      <td>0.000000</td>\n",
       "      <td>0.000000</td>\n",
       "    </tr>\n",
       "  </tbody>\n",
       "</table>\n",
       "<p>1000 rows × 21 columns</p>\n",
       "</div>"
      ],
      "text/plain": [
       "     mean_fit_time  std_fit_time  mean_score_time  std_score_time  \\\n",
       "0         0.003120      0.000587         0.001533        0.000118   \n",
       "1         0.003037      0.000565         0.001429        0.000089   \n",
       "2         0.002575      0.000538         0.001236        0.000060   \n",
       "3         0.002436      0.000420         0.001164        0.000014   \n",
       "4         0.002393      0.000392         0.001168        0.000017   \n",
       "..             ...           ...              ...             ...   \n",
       "995       0.001560      0.000028         0.001170        0.000013   \n",
       "996       0.001538      0.000020         0.001166        0.000031   \n",
       "997       0.001537      0.000008         0.001175        0.000036   \n",
       "998       0.001552      0.000009         0.001185        0.000028   \n",
       "999       0.001567      0.000021         0.001170        0.000025   \n",
       "\n",
       "        param_alpha                            params  split0_test_score  \\\n",
       "0             0.001                  {'alpha': 0.001}           0.483604   \n",
       "1          0.001023  {'alpha': 0.0010233165783302448}           0.484132   \n",
       "2          0.001047  {'alpha': 0.0010471768194855202}           0.484508   \n",
       "3          0.001072   {'alpha': 0.001071593399822671}           0.484817   \n",
       "4          0.001097  {'alpha': 0.0010965792912678099}           0.485113   \n",
       "..              ...                               ...                ...   \n",
       "995  9119267.598459      {'alpha': 9119267.598459298}          -0.006074   \n",
       "996  9331897.715733       {'alpha': 9331897.71573324}          -0.006074   \n",
       "997  9549485.639792      {'alpha': 9549485.639791965}          -0.006074   \n",
       "998  9772146.969726      {'alpha': 9772146.969725724}          -0.006074   \n",
       "999      10000000.0             {'alpha': 10000000.0}          -0.006074   \n",
       "\n",
       "     split1_test_score  split2_test_score  split3_test_score  ...  \\\n",
       "0             0.434189           0.574577           0.570878  ...   \n",
       "1             0.434171           0.574612           0.571095  ...   \n",
       "2             0.434150           0.574659           0.571306  ...   \n",
       "3             0.434127           0.574712           0.571509  ...   \n",
       "4             0.434098           0.574765           0.571705  ...   \n",
       "..                 ...                ...                ...  ...   \n",
       "995          -0.000176          -0.195754          -0.052923  ...   \n",
       "996          -0.000176          -0.195754          -0.052923  ...   \n",
       "997          -0.000176          -0.195754          -0.052923  ...   \n",
       "998          -0.000176          -0.195754          -0.052923  ...   \n",
       "999          -0.000176          -0.195754          -0.052923  ...   \n",
       "\n",
       "     mean_test_score  std_test_score  rank_test_score  split0_train_score  \\\n",
       "0           0.445080        0.151158              178            0.622770   \n",
       "1           0.445494        0.150739              177            0.622534   \n",
       "2           0.445917        0.150240              175            0.622372   \n",
       "3           0.446337        0.149718              174            0.622238   \n",
       "4           0.446756        0.149184              173            0.622103   \n",
       "..               ...             ...              ...                 ...   \n",
       "995        -0.052352        0.074163              242            0.000000   \n",
       "996        -0.052352        0.074163              242            0.000000   \n",
       "997        -0.052352        0.074163              242            0.000000   \n",
       "998        -0.052352        0.074163              242            0.000000   \n",
       "999        -0.052352        0.074163              242            0.000000   \n",
       "\n",
       "     split1_train_score  split2_train_score  split3_train_score  \\\n",
       "0              0.617185            0.572901            0.577466   \n",
       "1              0.617105            0.572745            0.577206   \n",
       "2              0.617021            0.572664            0.576933   \n",
       "3              0.616933            0.572587            0.576647   \n",
       "4              0.616841            0.572507            0.576347   \n",
       "..                  ...                 ...                 ...   \n",
       "995            0.000000            0.000000            0.000000   \n",
       "996            0.000000            0.000000            0.000000   \n",
       "997            0.000000            0.000000            0.000000   \n",
       "998            0.000000            0.000000            0.000000   \n",
       "999            0.000000            0.000000            0.000000   \n",
       "\n",
       "     split4_train_score  mean_train_score  std_train_score  \n",
       "0              0.623655          0.602795         0.022700  \n",
       "1              0.623544          0.602627         0.022727  \n",
       "2              0.623448          0.602488         0.022753  \n",
       "3              0.623351          0.602351         0.022785  \n",
       "4              0.623249          0.602210         0.022819  \n",
       "..                  ...               ...              ...  \n",
       "995            0.000000          0.000000         0.000000  \n",
       "996            0.000000          0.000000         0.000000  \n",
       "997            0.000000          0.000000         0.000000  \n",
       "998            0.000000          0.000000         0.000000  \n",
       "999            0.000000          0.000000         0.000000  \n",
       "\n",
       "[1000 rows x 21 columns]"
      ]
     },
     "metadata": {},
     "output_type": "display_data"
    },
    {
     "data": {
      "image/png": "[encoded data removed]",
      "text/plain": [
       "<Figure size 640x480 with 1 Axes>"
      ]
     },
     "metadata": {},
     "output_type": "display_data"
    }
   ],
   "source": [
    "#instructor diagnostics\n",
    "\n",
    "print(\"best Lasso alpha:\",best_lasso_alpha, \"; best Lasso score:\",best_lasso_score)\n",
    "display(lasso_cv_results)\n",
    "plt.figure()\n",
    "plt.semilogx(lasso_cv_results.param_alpha,-lasso_cv_results.mean_test_score)\n",
    "plt.xlabel('alpha (logscale)')\n",
    "plt.ylabel('RMSE $')\n",
    "plt.show()"
   ]
  },
  {
   "attachments": {},
   "cell_type": "markdown",
   "metadata": {},
   "source": [
    "## STEP 9 (STUDENT CODE REQUIRED)  Select the best performing model of all the models and refit on *all non-test data*\n",
    "\n",
    "1. In the code block below, re-summarize the  CV performance and hyperparameter settings of each model (via prints or displaying dataframes) \n",
    "\n",
    "2.  Then, for the best performing model, store the fitted model in `best_model`  \n",
    "    * dont forget that if your best model is foward or backwards selection, you must subset the features when you use the test data for prediction (STEP 10)\n",
    "    * refit the model to *all* the non-test (scaled) data\n"
   ]
  },
  {
   "cell_type": "code",
   "execution_count": 23,
   "metadata": {},
   "outputs": [
    {
     "name": "stdout",
     "output_type": "stream",
     "text": [
      "The best forward score is: -341739.2645640927\n",
      "The best backward score is: -340193.2684418073\n",
      "The best ridge score is: -366527.1159350314\n",
      "The best lasso score is: -355422.288944283\n"
     ]
    }
   ],
   "source": [
    "# STEP 9\n",
    "\n",
    "#------------- START STUDENT CODE ------------------\n",
    "for _,(name,score) in enumerate({'forward': best_score_forward, 'backward': best_score_backward, 'ridge': best_ridge_score, 'lasso': best_lasso_score}.items()):\n",
    "    print(f'The best {name} score is: {score}')\n",
    "\n",
    "#best_model = Ridge(alpha=best_ridge_alpha).fit(X_nonTest_scaled[numeric_features], log_y_nonTest)\n",
    "best_model = LinearRegression().fit(X_nonTest_scaled[best_features_backward], log_y_nonTest)\n",
    "#------------- END STUDENT CODE ------------------\n"
   ]
  },
  {
   "attachments": {},
   "cell_type": "markdown",
   "metadata": {},
   "source": [
    "## STEP 10 (STUDENT CODE REQUIRED) Compute the RMSE performance of the best model on the test set data\n"
   ]
  },
  {
   "cell_type": "code",
   "execution_count": 24,
   "metadata": {},
   "outputs": [
    {
     "name": "stdout",
     "output_type": "stream",
     "text": [
      "Test Set Salary RMSE in dollars: -361249.3510648467\n"
     ]
    }
   ],
   "source": [
    "# STEP 10\n",
    "\n",
    "log_y_test=np.log10(y_test*1000) #transform test data actual salaries into log form of $\n",
    "\n",
    "#------------- START STUDENT CODE ------------------\n",
    "\n",
    "#test_rmse = transform_rmse(log_y_test, best_model.predict(X_test_scaled[numeric_features]))\n",
    "test_rmse = transform_rmse(log_y_test, best_model.predict(X_test_scaled[best_features_backward]))\n",
    "\n",
    "#------------- END STUDENT CODE ------------------\n",
    "\n",
    "\n",
    "print(\"Test Set Salary RMSE in dollars:\",test_rmse)"
   ]
  },
  {
   "attachments": {},
   "cell_type": "markdown",
   "metadata": {},
   "source": [
    "## STEP 11 (STUDENT CODE REQUIRED) Make a residuals scatterplot of the predictions \n",
    "\n",
    "Make 2 plots\n",
    "* A plot which shows Acutal Salary in dollars on the horizontal axis and predicted salary in dollars on the vertical axis.  Include a diagonal line showing ideal predictions\n",
    "* A residuals plot which shows actual salary in dollars on horizontal axis, and the residual dollars (actual dollars minus predicted dollars) on the vertical axis \n",
    "\n",
    "Remember that *actual* salary ranges from under $100K to ~$2.5M... your plots should reflect this range  (not the log of it)"
   ]
  },
  {
   "cell_type": "code",
   "execution_count": 25,
   "metadata": {},
   "outputs": [
    {
     "data": {
      "image/png": "[encoded data removed]",
      "text/plain": [
       "<Figure size 640x480 with 1 Axes>"
      ]
     },
     "metadata": {},
     "output_type": "display_data"
    },
    {
     "data": {
      "image/png": "[encoded data removed]",
      "text/plain": [
       "<Figure size 640x480 with 1 Axes>"
      ]
     },
     "metadata": {},
     "output_type": "display_data"
    },
    {
     "data": {
      "image/png": "[encoded data removed]",
      "text/plain": [
       "<Figure size 640x480 with 1 Axes>"
      ]
     },
     "metadata": {},
     "output_type": "display_data"
    },
    {
     "data": {
      "image/png": "[encoded data removed]",
      "text/plain": [
       "<Figure size 640x480 with 1 Axes>"
      ]
     },
     "metadata": {},
     "output_type": "display_data"
    }
   ],
   "source": [
    "# STEP 11\n",
    "\n",
    "#------------- START STUDENT CODE ------------------\n",
    "#X_nonTest_features = X_nonTest_scaled[numeric_features]\n",
    "#X_test_features = X_test_scaled[numeric_features]\n",
    "\n",
    "X_nonTest_features = X_nonTest_scaled[best_features_backward]\n",
    "X_test_features = X_test_scaled[best_features_backward]\n",
    "\n",
    "train_preds = best_model.predict(X_nonTest_features).flatten().T\n",
    "test_preds = best_model.predict(X_test_features).flatten().T\n",
    "\n",
    "sns.scatterplot(y = test_preds, x = log_y_test['Salary'].values,)\n",
    "plt.plot(log_y_test['Salary'],log_y_test['Salary'], color='r')\n",
    "plt.title('Prediction vs Actual (Test)')\n",
    "plt.xlabel('Actual Salary')\n",
    "plt.ylabel('Predicted Salary')\n",
    "plt.show()\n",
    "\n",
    "sns.residplot(x = test_preds, y = log_y_test['Salary'].values)\n",
    "plt.title('Test Residuals')\n",
    "plt.xlabel('Actual Salary')\n",
    "plt.ylabel('Predicted Salary')\n",
    "plt.show()\n",
    "\n",
    "sns.scatterplot(y = train_preds, x = log_y_nonTest['Salary'].values,)\n",
    "plt.plot(log_y_nonTest['Salary'],log_y_nonTest['Salary'], color='r')\n",
    "plt.title('Prediction vs Actual (Training)')\n",
    "plt.xlabel('Actual Salary')\n",
    "plt.ylabel('Predicted Salary')\n",
    "plt.show()\n",
    "\n",
    "sns.residplot(y = train_preds, x = log_y_nonTest['Salary'])\n",
    "plt.title('Training Residuals')\n",
    "plt.xlabel('Actual Salary')\n",
    "plt.show()\n",
    "#------------- END STUDENT CODE ------------------\n"
   ]
  },
  {
   "attachments": {},
   "cell_type": "markdown",
   "metadata": {},
   "source": [
    "## STEP 12 (STUDENT MARKDOWN REQUIRED - Impact of using this model\n",
    "\n",
    "In the markdown cell below, \n",
    "* Describe the residuals behavior as a function of actual salary (Hint: see section 3.3.3 in ISLR \"Potential Problems\"\n",
    "* Describe the pros and cons of the residuals with respect to things like \n",
    "    * Overpaying or underpaying salaries of prospective players with similar attributes\n",
    "    * What kinds of salary ranges are likely to get overpaid (or underpaid)\n",
    "\n",
    "Note:  Use the coding scrap area below to compute things if you wish that will support the markdown in the cell below\n",
    "\n",
    "OPTIONAL/FUN:  Assuming this model is correct, figure out which named players are getting severly underpaid or overpaid and see if you agree with the model instead of their actual salary!\n"
   ]
  },
  {
   "cell_type": "code",
   "execution_count": 26,
   "metadata": {},
   "outputs": [],
   "source": [
    "# Coding Scrap area for addtional analysis for STEP 12 - optional\n",
    "\n",
    "# --------------START SCRAP -----------------------\n",
    "\n",
    "\n",
    "\n",
    "# --------------END SCRAP -----------------------"
   ]
  },
  {
   "attachments": {},
   "cell_type": "markdown",
   "metadata": {},
   "source": [
    "\n",
    "<font color='green'>STUDENT ANSWER HERE FOR STEP 12</font>\n",
    "\n",
    "--------------------------\n",
    "\n",
    "Using primarily visual evaluation, there appears to be a small (and probably statistically insignificant) homoscedastic curve about the prediction curve. The lower end of the actual pay seems to correlate with players being underpaid when compared to the model. Similarly, the upper range seems to have more players that are estimated to be overpaid. There are two outliers that are considered severely over/under paid. In either case, the shape of the data above certainly does not bear a strong enough indicator of any of these patterns to make any real conjecture.\n",
    "\n",
    "--------------------------\n",
    "\n",
    "<font color='green'>END STUDENT ANSWER </font>\n",
    "\n"
   ]
  },
  {
   "attachments": {},
   "cell_type": "markdown",
   "metadata": {},
   "source": [
    "# OPTIONAL:  Build a better model and provide RMSE and residuals\n",
    "\n",
    "* Can you outperform the best model you provided above?\n",
    "* Can you get better behavior in residuals?\n",
    "\n",
    "Hint:  Maybe constraining ourselves to linear functions of the input features are limiting our performance."
   ]
  },
  {
   "cell_type": "code",
   "execution_count": null,
   "metadata": {},
   "outputs": [],
   "source": []
  }
 ],
 "metadata": {
  "kernelspec": {
   "display_name": "Python 3 (ipykernel)",
   "language": "python",
   "name": "python3"
  },
  "language_info": {
   "codemirror_mode": {
    "name": "ipython",
    "version": 3
   },
   "file_extension": ".py",
   "mimetype": "text/x-python",
   "name": "python",
   "nbconvert_exporter": "python",
   "pygments_lexer": "ipython3",
   "version": "3.9.6"
  }
 },
 "nbformat": 4,
 "nbformat_minor": 4
}
