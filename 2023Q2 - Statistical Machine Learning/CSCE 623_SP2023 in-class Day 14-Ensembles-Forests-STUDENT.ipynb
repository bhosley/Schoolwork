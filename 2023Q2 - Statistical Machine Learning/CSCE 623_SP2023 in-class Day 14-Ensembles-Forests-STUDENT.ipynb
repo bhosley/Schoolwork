{
 "cells": [
  {
   "attachments": {},
   "cell_type": "markdown",
   "metadata": {},
   "source": [
    "# Ensemble Learning Exploration\n",
    "\n",
    "This learning activity will focus several items:\n",
    "* The theory of using ensembles of weak learners to create a strong learner\n",
    "* The concepts of combining bootstrapping and feature subsets to decorrelate learners\n",
    "\n",
    "The student coding activity will allow you to explore 2 of the things that affect the performance of an ensemble of weak learners - the underlying performance of an individual leaner and the quantity of learners in the ensemble\n",
    "\n",
    "The takeaway from this activity is that assuming each individual model is slightly better than chance, the number of models required for an ensemble to have reasonable, and perhaps even great performance is not as many as you might think... and if the learners are decently better than chance, a relatively small-sized ensemble is large enough to get very good performance.\n"
   ]
  },
  {
   "cell_type": "code",
   "execution_count": 2,
   "metadata": {},
   "outputs": [],
   "source": [
    "from __future__ import print_function\n",
    "\n",
    "import numpy as np\n",
    "import pandas as pd\n",
    "import matplotlib.pyplot as plt\n",
    "from matplotlib import cm\n",
    "\n",
    "# from sklearn import tree\n",
    "# from sklearn.tree import DecisionTreeRegressor\n",
    "# from sklearn.model_selection import train_test_split\n",
    "# from sklearn.model_selection import GridSearchCV\n",
    "# from sklearn.metrics import mean_squared_error\n",
    "\n",
    "# from mpl_toolkits.mplot3d import Axes3D"
   ]
  },
  {
   "attachments": {},
   "cell_type": "markdown",
   "metadata": {},
   "source": [
    "# Weak Learners -> Strong learning"
   ]
  },
  {
   "attachments": {},
   "cell_type": "markdown",
   "metadata": {},
   "source": [
    "### Weak Learner Definition\n",
    "Suppose we define a weak learner as a model that answers a Binary ML classification problem correctly 51% of the time (just better than chance)\n",
    "\n",
    "We can demonstrate the accuracy of a single learner on a classification problem like this on 10000 observations"
   ]
  },
  {
   "cell_type": "code",
   "execution_count": 3,
   "metadata": {},
   "outputs": [],
   "source": [
    "my_seed=42\n",
    "rng = np.random.RandomState(my_seed)\n"
   ]
  },
  {
   "cell_type": "code",
   "execution_count": 4,
   "metadata": {},
   "outputs": [
    {
     "data": {
      "text/html": [
       "<div>\n",
       "<style scoped>\n",
       "    .dataframe tbody tr th:only-of-type {\n",
       "        vertical-align: middle;\n",
       "    }\n",
       "\n",
       "    .dataframe tbody tr th {\n",
       "        vertical-align: top;\n",
       "    }\n",
       "\n",
       "    .dataframe thead th {\n",
       "        text-align: right;\n",
       "    }\n",
       "</style>\n",
       "<table border=\"1\" class=\"dataframe\">\n",
       "  <thead>\n",
       "    <tr style=\"text-align: right;\">\n",
       "      <th></th>\n",
       "      <th>Accuracy</th>\n",
       "      <th>Correct</th>\n",
       "      <th>Incorrect</th>\n",
       "    </tr>\n",
       "    <tr>\n",
       "      <th>Model #</th>\n",
       "      <th></th>\n",
       "      <th></th>\n",
       "      <th></th>\n",
       "    </tr>\n",
       "  </thead>\n",
       "  <tbody>\n",
       "    <tr>\n",
       "      <th>0</th>\n",
       "      <td>0.5194</td>\n",
       "      <td>5194.0</td>\n",
       "      <td>4806.0</td>\n",
       "    </tr>\n",
       "  </tbody>\n",
       "</table>\n",
       "</div>"
      ],
      "text/plain": [
       "         Accuracy  Correct  Incorrect\n",
       "Model #                              \n",
       "0          0.5194   5194.0     4806.0"
      ]
     },
     "metadata": {},
     "output_type": "display_data"
    }
   ],
   "source": [
    "learner_count = 1\n",
    "correct_proba = 0.51\n",
    "observation_count = 10000\n",
    "\n",
    "rng = np.random.RandomState(my_seed)  #note that you need to restart the generator if you want the cell to give you the same values\n",
    "\n",
    "#collect the booleans on whether the learner got it right or not\n",
    "got_it_right = (rng.rand(observation_count, learner_count) < correct_proba).astype(int)\n",
    "#print the number of correct, incorrect, and accuracy score\n",
    "correct = np.sum(got_it_right)\n",
    "incorrect = np.sum(1-got_it_right)\n",
    "accuracy = correct/(correct+incorrect)\n",
    "\n",
    "tabledata = np.array([[accuracy,correct,incorrect]])\n",
    "df=pd.DataFrame(tabledata, columns=[\"Accuracy\",\"Correct\",\"Incorrect\"])\n",
    "df.index.names=['Model #']\n",
    "display(df)"
   ]
  },
  {
   "attachments": {},
   "cell_type": "markdown",
   "metadata": {},
   "source": [
    "Now lets suppose that we had 9 of these weak learners, each with 51% accuracy, but lets suppose that the learners are *independent* models - their errors (which observations they make mistakes on) is uncorrelated."
   ]
  },
  {
   "cell_type": "code",
   "execution_count": 5,
   "metadata": {},
   "outputs": [
    {
     "data": {
      "text/html": [
       "<div>\n",
       "<style scoped>\n",
       "    .dataframe tbody tr th:only-of-type {\n",
       "        vertical-align: middle;\n",
       "    }\n",
       "\n",
       "    .dataframe tbody tr th {\n",
       "        vertical-align: top;\n",
       "    }\n",
       "\n",
       "    .dataframe thead th {\n",
       "        text-align: right;\n",
       "    }\n",
       "</style>\n",
       "<table border=\"1\" class=\"dataframe\">\n",
       "  <thead>\n",
       "    <tr style=\"text-align: right;\">\n",
       "      <th></th>\n",
       "      <th>Accuracy</th>\n",
       "      <th>Correct</th>\n",
       "      <th>Incorrect</th>\n",
       "    </tr>\n",
       "    <tr>\n",
       "      <th>Model ID</th>\n",
       "      <th></th>\n",
       "      <th></th>\n",
       "      <th></th>\n",
       "    </tr>\n",
       "  </thead>\n",
       "  <tbody>\n",
       "    <tr>\n",
       "      <th>0</th>\n",
       "      <td>0.5020</td>\n",
       "      <td>5020.0</td>\n",
       "      <td>4980.0</td>\n",
       "    </tr>\n",
       "    <tr>\n",
       "      <th>1</th>\n",
       "      <td>0.5107</td>\n",
       "      <td>5107.0</td>\n",
       "      <td>4893.0</td>\n",
       "    </tr>\n",
       "    <tr>\n",
       "      <th>2</th>\n",
       "      <td>0.5102</td>\n",
       "      <td>5102.0</td>\n",
       "      <td>4898.0</td>\n",
       "    </tr>\n",
       "    <tr>\n",
       "      <th>3</th>\n",
       "      <td>0.5051</td>\n",
       "      <td>5051.0</td>\n",
       "      <td>4949.0</td>\n",
       "    </tr>\n",
       "    <tr>\n",
       "      <th>4</th>\n",
       "      <td>0.5109</td>\n",
       "      <td>5109.0</td>\n",
       "      <td>4891.0</td>\n",
       "    </tr>\n",
       "    <tr>\n",
       "      <th>5</th>\n",
       "      <td>0.5082</td>\n",
       "      <td>5082.0</td>\n",
       "      <td>4918.0</td>\n",
       "    </tr>\n",
       "    <tr>\n",
       "      <th>6</th>\n",
       "      <td>0.5217</td>\n",
       "      <td>5217.0</td>\n",
       "      <td>4783.0</td>\n",
       "    </tr>\n",
       "    <tr>\n",
       "      <th>7</th>\n",
       "      <td>0.5127</td>\n",
       "      <td>5127.0</td>\n",
       "      <td>4873.0</td>\n",
       "    </tr>\n",
       "    <tr>\n",
       "      <th>8</th>\n",
       "      <td>0.5052</td>\n",
       "      <td>5052.0</td>\n",
       "      <td>4948.0</td>\n",
       "    </tr>\n",
       "  </tbody>\n",
       "</table>\n",
       "</div>"
      ],
      "text/plain": [
       "          Accuracy  Correct  Incorrect\n",
       "Model ID                              \n",
       "0           0.5020   5020.0     4980.0\n",
       "1           0.5107   5107.0     4893.0\n",
       "2           0.5102   5102.0     4898.0\n",
       "3           0.5051   5051.0     4949.0\n",
       "4           0.5109   5109.0     4891.0\n",
       "5           0.5082   5082.0     4918.0\n",
       "6           0.5217   5217.0     4783.0\n",
       "7           0.5127   5127.0     4873.0\n",
       "8           0.5052   5052.0     4948.0"
      ]
     },
     "metadata": {},
     "output_type": "display_data"
    }
   ],
   "source": [
    "learner_count = 9\n",
    "correct_proba = 0.51\n",
    "observation_count = 10000\n",
    "rng = np.random.RandomState(my_seed)  #note that you need to restart the generator if you want the cell to give you the same values\n",
    "\n",
    "\n",
    "mult_got_it_right = (rng.rand(observation_count, learner_count) < correct_proba).astype(np.int32)\n",
    "#print the number of correct, incorrect, and accuracy score\n",
    "mult_correct = np.sum(mult_got_it_right,axis=0)\n",
    "mult_incorrect = np.sum(1-mult_got_it_right,axis=0)\n",
    "mult_accuracy = mult_correct/(mult_correct+mult_incorrect)\n",
    "tabledata = np.array([mult_accuracy,mult_correct,mult_incorrect]).T\n",
    "df = pd.DataFrame(tabledata, columns=[\"Accuracy\",\"Correct\",\"Incorrect\"])\n",
    "df.index.names=['Model ID']\n",
    "display(df)"
   ]
  },
  {
   "attachments": {},
   "cell_type": "markdown",
   "metadata": {},
   "source": [
    "We can see that each weak learner got around 51% accuracy on the whole dataset.   "
   ]
  },
  {
   "attachments": {},
   "cell_type": "markdown",
   "metadata": {},
   "source": [
    "Next, lets display some of these correct observation predictions as a heatmap to ensure they are independent"
   ]
  },
  {
   "cell_type": "code",
   "execution_count": 6,
   "metadata": {},
   "outputs": [
    {
     "data": {
      "image/png": "[encoded data removed]",
      "text/plain": [
       "<Figure size 1100x700 with 2 Axes>"
      ]
     },
     "metadata": {},
     "output_type": "display_data"
    }
   ],
   "source": [
    "# print(mult_got_it_right.shape)\n",
    "# print(mult_got_it_right[0:50,:])\n",
    "plt.figure(figsize=(11,7))\n",
    "plt.imshow(mult_got_it_right[0:50,:])\n",
    "plt.ylabel(\"observation index\")\n",
    "plt.xlabel(\"model index\")\n",
    "plt.title(\"Got it right?  (1=correct - Yellow, 0=incorrect - Purple)\")\n",
    "plt.colorbar()\n",
    "plt.show()"
   ]
  },
  {
   "attachments": {},
   "cell_type": "markdown",
   "metadata": {},
   "source": [
    "As we can see, the correctnesses of the models appear to be uncorrelated (which would appear as horizontal striping instead of noisy samples in the heatmap above)"
   ]
  },
  {
   "attachments": {},
   "cell_type": "markdown",
   "metadata": {},
   "source": [
    "Can we do better than ~51% accuracy by using the aggregation of all of these weak learners?\n",
    "\n",
    "Lets make a voting scheme such that we do a majority vote on each observation.  If more than half of the learners got the observation right then that means our vote would have been a correct prediction, otherwise it will be an incorrect prediction on that observation.\n",
    "\n",
    "then we can take a look at how well we did on the predictions overall."
   ]
  },
  {
   "cell_type": "code",
   "execution_count": 7,
   "metadata": {},
   "outputs": [
    {
     "name": "stdout",
     "output_type": "stream",
     "text": [
      "Ensemble Accuracy =  0.5245\n"
     ]
    }
   ],
   "source": [
    "#how many models got each observation prediction right ?\n",
    "obs_count_got_it_right = np.sum(mult_got_it_right,axis=1,keepdims=True)  #keep as a numpy array\n",
    "\n",
    "#if number of models getting right greater than half, then the ensemble predicted correctly\n",
    "obs_vote_correct = obs_count_got_it_right>np.floor(learner_count/2)\n",
    "ensemble_obs_correct = np.sum(obs_vote_correct)\n",
    "ensemble_obs_incorrect = np.sum(1-obs_vote_correct)\n",
    "ensemble_accuracy = ensemble_obs_correct/(ensemble_obs_correct+ensemble_obs_incorrect)\n",
    "print(\"Ensemble Accuracy = \",ensemble_accuracy)\n"
   ]
  },
  {
   "attachments": {},
   "cell_type": "markdown",
   "metadata": {},
   "source": [
    "Hmmm... maybe slightly better with 9 models... what if we had more models?  lets make a function to help explore this"
   ]
  },
  {
   "attachments": {},
   "cell_type": "markdown",
   "metadata": {},
   "source": [
    "### Helper function to evaluate ensembles of various quantities of models and weak learner performances"
   ]
  },
  {
   "cell_type": "code",
   "execution_count": 8,
   "metadata": {},
   "outputs": [],
   "source": [
    "def eval_ensemble(model_count=1,obs_count=10000,learner_prob = 0.51, my_seed=my_seed):\n",
    "    np.random.RandomState(my_seed)\n",
    "    mult_got_it_right = (rng.rand(observation_count, model_count) < learner_prob).astype(np.int32)\n",
    "    obs_count_got_it_right = np.sum(mult_got_it_right,axis=1,keepdims=True)  #keep as a numpy array\n",
    "\n",
    "    #if number of models getting right greater than half, then the ensemble predicted correctly\n",
    "    obs_vote_correct = obs_count_got_it_right>np.floor(model_count/2)\n",
    "    ensemble_obs_correct = np.sum(obs_vote_correct)\n",
    "    ensemble_obs_incorrect = np.sum(1-obs_vote_correct)\n",
    "    ensemble_accuracy = ensemble_obs_correct/(ensemble_obs_correct+ensemble_obs_incorrect)\n",
    "    return ensemble_accuracy"
   ]
  },
  {
   "attachments": {},
   "cell_type": "markdown",
   "metadata": {},
   "source": [
    "# STUDENT CODING\n",
    "\n",
    "## STEP 1 (STUDENT VARIABLE SELECTION REQUIRED)\n",
    "\n",
    "The code below calls ```ensemble_accuracies``` with a quantity of weak learners to use in the ensemble.  \n",
    "\n",
    "For example, if you wanted to evaluate the performance of ensembles with 9, 21, and 51 models, use a line of code like this to set the model counts to explore:\n",
    "\n",
    "```model_counts = np.array([9,21,51])```\n",
    "\n",
    "### Your task:\n",
    "Assuming (very) weak learners which have only 51% accuracy, how many of weak learners does it take to exceed an ensemble vote (over all observations) which exceeds 60% accruacy?  exceeds 70% accuracy?  Can you make an ensemble of these weak learners that gets even higher accuracy?\n"
   ]
  },
  {
   "cell_type": "code",
   "execution_count": 11,
   "metadata": {},
   "outputs": [
    {
     "data": {
      "text/html": [
       "<div>\n",
       "<style scoped>\n",
       "    .dataframe tbody tr th:only-of-type {\n",
       "        vertical-align: middle;\n",
       "    }\n",
       "\n",
       "    .dataframe tbody tr th {\n",
       "        vertical-align: top;\n",
       "    }\n",
       "\n",
       "    .dataframe thead th {\n",
       "        text-align: right;\n",
       "    }\n",
       "</style>\n",
       "<table border=\"1\" class=\"dataframe\">\n",
       "  <thead>\n",
       "    <tr style=\"text-align: right;\">\n",
       "      <th></th>\n",
       "      <th>Model Count</th>\n",
       "      <th>Ensemble Accuracy</th>\n",
       "    </tr>\n",
       "  </thead>\n",
       "  <tbody>\n",
       "    <tr>\n",
       "      <th>0</th>\n",
       "      <td>9</td>\n",
       "      <td>0.5190</td>\n",
       "    </tr>\n",
       "    <tr>\n",
       "      <th>1</th>\n",
       "      <td>11</td>\n",
       "      <td>0.5295</td>\n",
       "    </tr>\n",
       "    <tr>\n",
       "      <th>2</th>\n",
       "      <td>51</td>\n",
       "      <td>0.5538</td>\n",
       "    </tr>\n",
       "    <tr>\n",
       "      <th>3</th>\n",
       "      <td>101</td>\n",
       "      <td>0.5758</td>\n",
       "    </tr>\n",
       "    <tr>\n",
       "      <th>4</th>\n",
       "      <td>201</td>\n",
       "      <td>0.6106</td>\n",
       "    </tr>\n",
       "  </tbody>\n",
       "</table>\n",
       "</div>"
      ],
      "text/plain": [
       "   Model Count  Ensemble Accuracy\n",
       "0            9             0.5190\n",
       "1           11             0.5295\n",
       "2           51             0.5538\n",
       "3          101             0.5758\n",
       "4          201             0.6106"
      ]
     },
     "metadata": {},
     "output_type": "display_data"
    }
   ],
   "source": [
    "\n",
    "#fill out the array below with ensemble sizes beyond those shown.\n",
    "\n",
    "#example:\n",
    "# model_counts = np.array([9,11]) \n",
    "\n",
    "#this example would set the inputs to request\n",
    "#a result for a 9-model ensemble and an 11-model ensemble\n",
    "\n",
    "\n",
    "#----------STUDENT CODE MODIFICATION HERE-------------\n",
    "\n",
    "model_counts = np.array([9,11,51,101,201])  #sizes of the ensembles to try  (add more here!)\n",
    "#note we are using odd numbers to prevent ties\n",
    "\n",
    "#----------END STUDENT CODE MODIFICATION -------------\n",
    "\n",
    "ensemble_accuracies = np.zeros(model_counts.shape)\n",
    "for idx,mc in enumerate(model_counts):\n",
    "    ensemble_accuracies[idx] = eval_ensemble(model_count=mc, learner_prob=0.51)\n",
    "\n",
    "tabledata = np.array([model_counts,ensemble_accuracies]).T\n",
    "df = pd.DataFrame(tabledata, columns=[\"Model Count\",\"Ensemble Accuracy\"])\n",
    "df[\"Model Count\"] =df[\"Model Count\"].astype(int)\n",
    "# display(df.style.hide_index()) \n",
    "# display(df.Styler.hide(axis='index') )\n",
    "display(df) \n"
   ]
  },
  {
   "attachments": {},
   "cell_type": "markdown",
   "metadata": {},
   "source": [
    "## STEP 2 (STUDENT VARIABLE SELECTION REQUIRED)\n",
    "\n",
    "The next code block evaluates a fixed quantity of models (101) and allows you to select various levels of accuracy for the individual learners to explore the performance of an ensemble.  For example if you wanted to explore both 51% accuracy and 52% accuracy learners in the ensemble your line of code would look like this:\n",
    "\n",
    "```learner_probs = np.array([0.51,0.52])  ```\n",
    "\n",
    "\n",
    "### Your task:\n",
    "Assuming a fixed quantity of weak learner models (101), how good do each of the weak learners have to be such that an ensembles composed of these 101 models will achieve above 90% accuracy?  Above 98% accuracy?\n",
    "\n",
    "What happens if your learners have below-chance accuracy?  (e.g. 49% accuracy or below)"
   ]
  },
  {
   "cell_type": "code",
   "execution_count": 16,
   "metadata": {},
   "outputs": [
    {
     "data": {
      "text/html": [
       "<div>\n",
       "<style scoped>\n",
       "    .dataframe tbody tr th:only-of-type {\n",
       "        vertical-align: middle;\n",
       "    }\n",
       "\n",
       "    .dataframe tbody tr th {\n",
       "        vertical-align: top;\n",
       "    }\n",
       "\n",
       "    .dataframe thead th {\n",
       "        text-align: right;\n",
       "    }\n",
       "</style>\n",
       "<table border=\"1\" class=\"dataframe\">\n",
       "  <thead>\n",
       "    <tr style=\"text-align: right;\">\n",
       "      <th></th>\n",
       "      <th>Model Accuracy</th>\n",
       "      <th>Ensemble Accuracy</th>\n",
       "    </tr>\n",
       "  </thead>\n",
       "  <tbody>\n",
       "    <tr>\n",
       "      <th>0</th>\n",
       "      <td>0.510</td>\n",
       "      <td>0.5738</td>\n",
       "    </tr>\n",
       "    <tr>\n",
       "      <th>1</th>\n",
       "      <td>0.520</td>\n",
       "      <td>0.6614</td>\n",
       "    </tr>\n",
       "    <tr>\n",
       "      <th>2</th>\n",
       "      <td>0.550</td>\n",
       "      <td>0.8507</td>\n",
       "    </tr>\n",
       "    <tr>\n",
       "      <th>3</th>\n",
       "      <td>0.565</td>\n",
       "      <td>0.9007</td>\n",
       "    </tr>\n",
       "    <tr>\n",
       "      <th>4</th>\n",
       "      <td>0.570</td>\n",
       "      <td>0.9213</td>\n",
       "    </tr>\n",
       "    <tr>\n",
       "      <th>5</th>\n",
       "      <td>0.600</td>\n",
       "      <td>0.9814</td>\n",
       "    </tr>\n",
       "  </tbody>\n",
       "</table>\n",
       "</div>"
      ],
      "text/plain": [
       "   Model Accuracy  Ensemble Accuracy\n",
       "0           0.510             0.5738\n",
       "1           0.520             0.6614\n",
       "2           0.550             0.8507\n",
       "3           0.565             0.9007\n",
       "4           0.570             0.9213\n",
       "5           0.600             0.9814"
      ]
     },
     "metadata": {},
     "output_type": "display_data"
    }
   ],
   "source": [
    "mc = 101  # <<<<<< DONT CHANGE THIS LINE !!!!! >>>>>>>\n",
    "\n",
    "\n",
    "\n",
    "\n",
    "#fill out the array below with learner probabilities beyond those shown.\n",
    "#example:\n",
    "\n",
    "#learner_probs = np.array([0.51,0.52])  #weak learner accuracies to try for 0.51 and 0.52 accuracy weak models\n",
    "\n",
    "\n",
    "\n",
    "#----------STUDENT CODE MODIFICATION HERE-------------\n",
    "\n",
    "learner_probs = np.array([0.51,0.52,0.55,0.565,0.57,0.6])  #weak learner accuracies to try (add more here!)\n",
    "\n",
    "#----------END STUDENT CODE MODIFICATION -------------\n",
    "\n",
    "ensemble_accuracies = np.zeros(learner_probs.shape)\n",
    "for idx,lp in enumerate(learner_probs):\n",
    "    ensemble_accuracies[idx] = eval_ensemble(model_count=mc, learner_prob=lp)\n",
    "\n",
    "    \n",
    "tabledata = np.array([learner_probs,ensemble_accuracies]).T\n",
    "df = pd.DataFrame(tabledata, columns=[\"Model Accuracy\",\"Ensemble Accuracy\"])\n",
    "# display(df.style.hide_index())     \n",
    "display(df)     \n"
   ]
  }
 ],
 "metadata": {
  "kernelspec": {
   "display_name": "Python 3 (ipykernel)",
   "language": "python",
   "name": "python3"
  },
  "language_info": {
   "codemirror_mode": {
    "name": "ipython",
    "version": 3
   },
   "file_extension": ".py",
   "mimetype": "text/x-python",
   "name": "python",
   "nbconvert_exporter": "python",
   "pygments_lexer": "ipython3",
   "version": "3.9.6"
  }
 },
 "nbformat": 4,
 "nbformat_minor": 4
}
