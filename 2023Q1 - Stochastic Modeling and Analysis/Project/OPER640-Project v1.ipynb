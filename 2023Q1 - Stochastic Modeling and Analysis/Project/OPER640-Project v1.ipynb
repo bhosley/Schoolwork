{
 "cells": [
  {
   "cell_type": "code",
   "execution_count": null,
   "metadata": {},
   "outputs": [],
   "source": [
    "import numpy as np\n",
    "from scipy.stats import binom\n",
    "import time"
   ]
  },
  {
   "attachments": {},
   "cell_type": "markdown",
   "metadata": {},
   "source": [
    "Parameters"
   ]
  },
  {
   "cell_type": "code",
   "execution_count": null,
   "metadata": {},
   "outputs": [],
   "source": [
    "NUM_ACFT = 12\n",
    "MAX_SORTIES = 8\n",
    "PROB_PASS_POSTFLT_INSP = 0.8\n",
    "PROB_REPAIR_FRONTSHOP = 0.7\n",
    "PROB_PASS_POST_BACKSHOP_INSP = 0.8"
   ]
  },
  {
   "attachments": {},
   "cell_type": "markdown",
   "metadata": {},
   "source": [
    "Construct stat space"
   ]
  },
  {
   "cell_type": "code",
   "execution_count": null,
   "metadata": {},
   "outputs": [],
   "source": [
    "S = []\n",
    "for x0 in range(NUM_ACFT+1):\n",
    "    for x1 in range(NUM_ACFT+1-x0):\n",
    "        for x2 in range(NUM_ACFT+1-x0-x1):\n",
    "            for x3 in range(NUM_ACFT+1-x0-x1-x2):\n",
    "                S.append([x0,x1,x2,x3,NUM_ACFT-x0-x1-x2])\n",
    "\n",
    "S = np.array(S)\n",
    "cardS = len(S)"
   ]
  },
  {
   "attachments": {},
   "cell_type": "markdown",
   "metadata": {},
   "source": [
    "Utility Functions"
   ]
  },
  {
   "cell_type": "code",
   "execution_count": null,
   "metadata": {},
   "outputs": [],
   "source": [
    "def state_to_index(state):\n",
    "    return np.where((S == tuple(state)).all(axis=1))[0][0]\n",
    "\n",
    "def index_to_state(index):\n",
    "    return S(index)"
   ]
  },
  {
   "attachments": {},
   "cell_type": "markdown",
   "metadata": {},
   "source": [
    "Compute the 1-step transition probability matrix\n"
   ]
  },
  {
   "cell_type": "code",
   "execution_count": null,
   "metadata": {},
   "outputs": [],
   "source": [
    "tic = time.perf_counter()\n",
    "P = np.matrix(np.zeroes((cardS,cardS)))\n",
    "for i_index in range(cardS):\n",
    "    X_n = index_to_state(i_index)\n",
    "\n",
    "    # Compute PMF of X_np1[1], Front Shop first,\n",
    "    # Compute PMFs of intermediate random variables\n",
    "    # Compute PMF of number of acft inbound to front shop frm MC post inspection\n",
    "    num_MC = X_n[0]\n",
    "    num_acft_fly = np.min((MAX_SORTIES,num_MC))\n",
    "    pmf_Yn_MC_failed = [binom.pmf(y,num_acft_fly,1-PROB_PASS_POSTFLT_INSP) for y in range (NUM_ACFT+1)]\n",
    "\n",
    "    # PMF of number of acft inbound to front shop from back shop inspection\n",
    "    num_BS3 = X_n[4]\n",
    "    pmf_Yn_BS3_failed = [binom.pmf(y,num_BS3,1-PROB_PASS_POST_BACKSHOP_INSP) for y in range (NUM_ACFT+1)]\n",
    "    pmf_Xnp1_FS = np.convolve(pmf_Yn_MC_failed,pmf_Yn_BS3_failed)\n",
    "\n",
    "    # Compute PMF of X_np1[2], Back Shop 1\n",
    "    num_FS = X_n[1]\n",
    "    pmf_Xnp1_BS1 = [binom.pmf(y,num_FS,1-PROB_REPAIR_FRONTSHOP) for y in range (NUM_ACFT+1)]\n",
    "\n",
    "    # Compute PMF of X_np1[3], Back Shop 2\n",
    "    pmf_Xnp1_BS2 = np.zeros((NUM_ACFT+1))\n",
    "    pmf_Xnp1_BS2[X_n[2]] = 1\n",
    "\n",
    "    # Compute PMF of X_np1[4], Back Shop 3\n",
    "    pmf_Xnp1_BS3 = np.zeros((NUM_ACFT+1))\n",
    "    pmf_Xnp1_BS3[X_n[3]] = 1\n",
    "\n",
    "    ### Skip PMF of X_np1[0], FMC Acft,\n",
    "    # because the state is completely described using n-1 dimensions.\n",
    "    # The total must equal NUM_ACFT\n",
    "    for j_index in (j_index_filtered for j_index_filtered in range(cardS) if \n",
    "                    index_to_state(j_index_filtered)[4] == X_n[3] and\n",
    "                    index_to_state(j_index_filtered)[3] == X_n[2] and\n",
    "                    index_to_state(j_index_filtered)[2] <= X_n[1] and\n",
    "                    index_to_state(j_index_filtered)[1] <= num_acft_fly+num_BS3):\n",
    "        X_np1 = index_to_state(j_index)\n",
    "        P[i_index,j_index] = pmf_Xnp1_FS[X_np1[1]]*pmf_Xnp1_BS1[X_np1[2]]*pmf_Xnp1_BS2[X_np1[3]]*pmf_Xnp1_BS3[X_np1[4]]\n",
    "\n",
    "toc = time.perf_counter()\n",
    "print(f\"\\nP matrix computed in {toc-tic:0.4f} seconds.\")\n",
    "print(f\"f\\nSum of |S| = {cardS} rows is {np.sum(P)}.\") # Exp 1820\n",
    "print(f\"f\\nNumber of non-zer elements is {np.count_nonzero(P)}.\") # Exp 30856\n"
   ]
  }
 ],
 "metadata": {
  "kernelspec": {
   "display_name": "Python 3",
   "language": "python",
   "name": "python3"
  },
  "language_info": {
   "name": "python",
   "version": "3.9.6"
  },
  "orig_nbformat": 4,
  "vscode": {
   "interpreter": {
    "hash": "aee8b7b246df8f9039afb4144a1f6fd8d2ca17a180786b69acc140d282b71a49"
   }
  }
 },
 "nbformat": 4,
 "nbformat_minor": 2
}
