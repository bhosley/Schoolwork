{
 "cells": [
  {
   "cell_type": "code",
   "execution_count": 1,
   "metadata": {},
   "outputs": [],
   "source": [
    "import numpy as np\n",
    "import ProjectFunctions as PF\n",
    "\n"
   ]
  },
  {
   "cell_type": "code",
   "execution_count": 2,
   "metadata": {},
   "outputs": [
    {
     "name": "stdout",
     "output_type": "stream",
     "text": [
      "\n",
      "P matrix computed in 3.2717 secs.\n",
      "\n",
      "Sum of |S| = 1820 rows is 1820.0.\n",
      "\n",
      "Number of non-zero elements is 30856.\n"
     ]
    }
   ],
   "source": [
    "P, S = PF.create_one_step_P_matrix()\n",
    "# NUM_ACFT = 12\n",
    "# MAX_SORTIES = 8\n",
    "# PROB_PASS_POSTFLT_INSP = 0.8\n",
    "# PROB_REPAIR_FRONTSHOP = 0.7\n",
    "# PROB_PASS_POST_BACKSHOP_INSP = 0.8"
   ]
  },
  {
   "cell_type": "code",
   "execution_count": 8,
   "metadata": {},
   "outputs": [
    {
     "name": "stdout",
     "output_type": "stream",
     "text": [
      "265\n",
      "[0 3 3 3 3]\n",
      "(array([265]),) [[1.]]\n"
     ]
    }
   ],
   "source": [
    "# Initial State:\n",
    "print(PF.state_to_index(S,[0,3,3,3,3]))\n",
    "print(PF.index_to_state(S,265))\n",
    "\n",
    "STARTING_INDEX = 265\n",
    "\n",
    "a = np.zeros(len(P))\n",
    "a[STARTING_INDEX] = 1\n",
    "\n",
    "print(np.nonzero(a), np.take(a, np.nonzero(a)))"
   ]
  },
  {
   "cell_type": "code",
   "execution_count": 10,
   "metadata": {},
   "outputs": [
    {
     "name": "stdout",
     "output_type": "stream",
     "text": [
      "[ 265  629  674  915  960  996 1135 1180 1216 1244 1345 1381 1409 1501\n",
      " 1529 1613] [[2.16000e-04 2.59200e-03 1.51200e-03 1.03680e-02 1.81440e-02 3.52800e-03\n",
      "  1.38240e-02 7.25760e-02 4.23360e-02 2.74400e-03 9.67680e-02 1.69344e-01\n",
      "  3.29280e-02 2.25792e-01 1.31712e-01 1.75616e-01]]\n"
     ]
    }
   ],
   "source": [
    "t1 = a*P\n",
    "print(np.nonzero(t1)[1], np.take(t1, np.nonzero(t1)[1]))"
   ]
  },
  {
   "cell_type": "code",
   "execution_count": 24,
   "metadata": {},
   "outputs": [
    {
     "name": "stdout",
     "output_type": "stream",
     "text": [
      "[8 0 0 0 4]\n"
     ]
    }
   ],
   "source": [
    "print(PF.index_to_state(S,1750))"
   ]
  },
  {
   "cell_type": "code",
   "execution_count": null,
   "metadata": {},
   "outputs": [],
   "source": [
    "# Long term (pi) calculations\n",
    "\n",
    "# Define the p-matrix\n",
    "P\n",
    "cardS, _ = np.shape(P)\n",
    "I = np.matrix(np.eye(cardS))\n",
    "\n",
    "# Construct system of linear equations, Ax=b\n",
    "# LHS\n",
    "A_bal = I-P.T\n",
    "A_norm = np.matrix(np.ones(cardS))\n",
    "\n",
    "# RHS\n",
    "b_bal = np.matrix(np.zeros((cardS,1)))\n",
    "b_norm = np.matrix(1)\n",
    "\n",
    "# vertically stack\n",
    "A = np.vstack((A_bal,A_norm))\n",
    "b = np.vstack((b_bal,b_norm))\n",
    "\n",
    "# Remove an overdetermining member equation\n",
    "A = np.delete(A,0,0)\n",
    "b = np.delete(b,0,0)\n",
    "\n",
    "# Solve\n",
    "pi = np.linalg.solve(A,b)\n"
   ]
  }
 ],
 "metadata": {
  "kernelspec": {
   "display_name": "Python 3",
   "language": "python",
   "name": "python3"
  },
  "language_info": {
   "codemirror_mode": {
    "name": "ipython",
    "version": 3
   },
   "file_extension": ".py",
   "mimetype": "text/x-python",
   "name": "python",
   "nbconvert_exporter": "python",
   "pygments_lexer": "ipython3",
   "version": "3.9.6"
  },
  "orig_nbformat": 4,
  "vscode": {
   "interpreter": {
    "hash": "aee8b7b246df8f9039afb4144a1f6fd8d2ca17a180786b69acc140d282b71a49"
   }
  }
 },
 "nbformat": 4,
 "nbformat_minor": 2
}
