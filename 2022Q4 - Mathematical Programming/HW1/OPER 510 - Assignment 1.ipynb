{
 "cells": [
  {
   "cell_type": "raw",
   "id": "f78cc619",
   "metadata": {
    "raw_mimetype": "text/latex"
   },
   "source": [
    "\\raggedbottom"
   ]
  },
  {
   "cell_type": "markdown",
   "id": "7b7a6694",
   "metadata": {},
   "source": [
    "# Problem 1.\n",
    "Consider the following linear program:\n",
    "\n",
    "Max $z = 10x_1+15x_2$  \n",
    "st.  \n",
    "$$\\begin{aligned}\n",
    "2x_1 +4x_2 &≤100 \\\\\n",
    "3x_1 +2x_2 &≤ 80 \\\\\n",
    "1x_1 +2x_2 &≤ 30 \\\\ \n",
    "x_1,x_2 &≥0 \\\\\n",
    "\\end{aligned}$$\n",
    "\n",
    "a. Solve the problem given above by a graphical LP technique.\n",
    "\n",
    "b. Give the shadow price of each constraint.\n",
    "\n",
    "c. Give the range of variation on each objective function coefficient. \n",
    "\n",
    "d. Give the range on each right hand side value.\n",
    "\n",
    "## A) Solve the problem given above by a graphical LP technique."
   ]
  },
  {
   "cell_type": "code",
   "execution_count": 1,
   "id": "db689de2",
   "metadata": {},
   "outputs": [],
   "source": [
    "import matplotlib.pyplot as plt\n",
    "import numpy as np"
   ]
  },
  {
   "cell_type": "code",
   "execution_count": 2,
   "id": "d09e2c58",
   "metadata": {},
   "outputs": [
    {
     "data": {
      "image/png": "[encoded data removed]",
      "text/plain": [
       "<Figure size 432x288 with 1 Axes>"
      ]
     },
     "metadata": {
      "needs_background": "light"
     },
     "output_type": "display_data"
    }
   ],
   "source": [
    "# Solve Problem Graphically\n",
    "\n",
    "# plot the lines defining the constraints\n",
    "def plot_constraints_1():\n",
    "    x1 = np.linspace(0, 100, 20)\n",
    "\n",
    "    # 2x_1 +4x_2 ≤100 \n",
    "    x2c1 = 25 - 0.5*x1\n",
    "    plt.plot(x1, x2c1, label=r'$2x_1 +4x_2 \\leq100$')\n",
    "\n",
    "    # 3x_1 +2x_2 ≤ 80\n",
    "    x2c2 = 40 - 1.5*x1\n",
    "    plt.plot(x1, x2c2, label=r'$3x_1 +2x_2 \\leq80$')\n",
    "\n",
    "    # 1x_1 +2x_2 ≤ 30 \n",
    "    x2c3 = 15 - 0.5*x1\n",
    "    plt.plot(x1, x2c3, label=r'$1x_1 +2x_2 \\leq30$')\n",
    "\n",
    "    # x_1,x_2 ≥0\n",
    "    plt.plot(x1, x1*0, label=r'$x_1 \\geq0$')\n",
    "    plt.plot(x1*0, x1, label=r'$x_2 \\geq0$')\n",
    "\n",
    "    # Plot's Params\n",
    "    plt.xlim(0,30)\n",
    "    plt.ylim(0,30)\n",
    "    plt.legend(bbox_to_anchor=(1.05, 1), loc=2, borderaxespad=0.)\n",
    "    plt.xlabel(r'$x_1$')\n",
    "    plt.ylabel(r'$x_2$')\n",
    "\n",
    "# plot the feasible region\n",
    "def plot_feasible_1():\n",
    "    d = np.linspace(0,40,250)\n",
    "    x1,x2 = np.meshgrid(d,d)\n",
    "    plt.imshow( ((2*x1+4*x2<=100) & (3*x1+2*x2<=80) & (1*x1+2*x2<=30)).astype(int), \n",
    "                    extent=(x1.min(),x1.max(),x2.min(),x2.max()),\n",
    "                       origin=\"lower\", cmap=\"Greys\", alpha = 0.3);\n",
    "\n",
    "# Plot Corners\n",
    "def plot_corners_1a():\n",
    "    '''\n",
    "    Coordinate given by:\n",
    "        Ax+By=C\n",
    "        x= ((C1*B2)-(C2*B1)) / ((A1*B2)-(A2*B1))\n",
    "    '''\n",
    "    # Corner A\n",
    "    A_x1= 0\n",
    "    A_x2= (30/2) # Constraint divided by coefficient\n",
    "    plt.plot(A_x1, A_x2,'ko')\n",
    "    plt.text(A_x1 +0.5, A_x2 +0.5, \"A\", fontsize=10)\n",
    "    plt.text(31, A_x2 - 0.5 , f\"A: x1={A_x1}, x2={A_x2}\", fontsize=10)\n",
    "\n",
    "    # Corner B\n",
    "    B_x1= (80-30)/(3-1)\n",
    "    B_x2= (80-(30*3))/(2-(2*3))\n",
    "    plt.plot(B_x1, B_x2,'ko')\n",
    "    plt.text(B_x1 +0.5, B_x2 +0.5, \"B\", fontsize=10)\n",
    "    plt.text(31, B_x2 + 0.5 , f\"B: x1={B_x1}, x2={B_x2}\", fontsize=10)\n",
    "\n",
    "    # Corner C\n",
    "    C_x1= (80/3) # Constraint divided by coefficient\n",
    "    C_x2= 0\n",
    "    plt.plot(C_x1, C_x2,'ko')\n",
    "    plt.text(C_x1 +0.5, C_x2 +0.5, \"C\", fontsize=10)\n",
    "    plt.text(31, C_x2 + 0.75 , f\"C: x1={C_x1}, x2={C_x2}\", fontsize=10)\n",
    "\n",
    "    # Corner D\n",
    "    D_x1= 0 \n",
    "    D_x2= 0\n",
    "    plt.plot(D_x1, C_x2,'ko')\n",
    "    plt.text(D_x1 +0.5, D_x2 +0.5, \"D\", fontsize=10)\n",
    "    plt.text(31, D_x2 - 1 , f\"D: x1={D_x1}, x2={D_x2}\", fontsize=10)\n",
    "    \n",
    "    return A_x1,A_x2,B_x1,B_x2,C_x1,C_x2,D_x1,D_x2\n",
    "    \n",
    "plot_constraints_1()\n",
    "plot_feasible_1()\n",
    "A_x1,A_x2,B_x1,B_x2,C_x1,C_x2,D_x1,D_x2 = plot_corners_1a()"
   ]
  },
  {
   "cell_type": "code",
   "execution_count": 3,
   "id": "4524c2af",
   "metadata": {},
   "outputs": [
    {
     "name": "stdout",
     "output_type": "stream",
     "text": [
      "Value of Z at A: 225.0\n",
      "Value of Z at B: 287.5\n",
      "Value of Z at C: 266.6666666666667\n",
      "Value of Z at D: 0\n"
     ]
    }
   ],
   "source": [
    "# Max z = 10x_1+15x_2\n",
    "def calc_z_1(x1,x2):\n",
    "        return (10*x1)+(15*x2)\n",
    "    \n",
    "print(f\"Value of Z at A: {calc_z_1(A_x1,A_x2)}\")\n",
    "print(f\"Value of Z at B: {calc_z_1(B_x1,B_x2)}\")\n",
    "print(f\"Value of Z at C: {calc_z_1(C_x1,C_x2)}\")\n",
    "print(f\"Value of Z at D: {calc_z_1(D_x1,D_x2)}\")"
   ]
  },
  {
   "cell_type": "markdown",
   "id": "1d560098",
   "metadata": {},
   "source": [
    "From this we find the highest value of $z$ is 287.5, obtained when $x_1$ is 25 and $x_2$ is 2.5\n",
    "\n",
    "## B) Give the shadow price of each constraint."
   ]
  },
  {
   "cell_type": "code",
   "execution_count": 4,
   "id": "b1959fa9",
   "metadata": {},
   "outputs": [
    {
     "name": "stdout",
     "output_type": "stream",
     "text": [
      "Shadow price of 3x_1 +2x_2 ≤ 80 is 1.25 per unit\n",
      "Shadow price of 1x_1 +2x_2 ≤ 30 is 6.25 per unit\n"
     ]
    }
   ],
   "source": [
    "# Shadow Prices\n",
    "\n",
    "# 2x_1 +4x_2 ≤101\n",
    "# is zero\n",
    "\n",
    "# 3x_1 +2x_2 ≤ 81\n",
    "# x_2 = 40.5 -1.5x_1\n",
    "# 15 -0.5x_1 = 40.5 -1.5x_1)\n",
    "x_1 = 40.5-15\n",
    "x_2 = 40.5 - (1.5*x_1)\n",
    "sp_1 = calc_z_1(x_1,x_2)-calc_z_1(B_x1,B_x2)\n",
    "print(f\"Shadow price of 3x_1 +2x_2 ≤ 80 is {sp_1} per unit\")\n",
    "\n",
    "# 1x_1 +2x_2 ≤ 31\n",
    "# x_2 = 15.5 -0.5x_1\n",
    "# 40 -1.5x_1 = 15.5 -0.5x_1\n",
    "x_1 = 40-15.5\n",
    "x_2 = 15.5 -(0.5*x_1)\n",
    "sp_2 = calc_z_1(x_1,x_2)-calc_z_1(B_x1,B_x2)\n",
    "print(f\"Shadow price of 1x_1 +2x_2 ≤ 30 is {sp_2} per unit\")"
   ]
  },
  {
   "cell_type": "markdown",
   "id": "acf72551",
   "metadata": {},
   "source": [
    "The shadow price for $2x_1+4x_2 ≤100$ is $0$. \\\n",
    "The shadow price for $3x_1+2x_2 ≤ 80$ is $1.25$ per unit. \\\n",
    "The shadow price for $1x_1+2x_2 ≤ 30$ is $6.25$ per unit."
   ]
  },
  {
   "cell_type": "markdown",
   "id": "23bd2f4f",
   "metadata": {},
   "source": [
    "## C) Give the range of variation on each objective function coefficient. \n",
    "\n",
    "**Range on Objective Function Coefficients** \\\n",
    "$z = 10x_1+15x_2$ \n",
    "\n",
    "Solving for $x_2$\n",
    "\n",
    "$x_2 = 40 -1.5x_1$ \\\n",
    "$x_2 = 15 -0.5x_1$\n",
    "\n",
    "Gives:\n",
    "\n",
    "$-1.5 \\leq -\\frac{c_1}{c_2} \\leq -0.5$\n",
    "\n",
    "Solving for $c_1 = 10$ \n",
    "\n",
    "$-1.5 \\leq -\\frac{10}{c_2} \\leq -0.5$ \\\n",
    "$1.5c_2 \\geq 10 \\geq 0.5c_2$ \\\n",
    "$c_2 \\geq 6\\frac{2}{3}$, $c_2 \\leq 20$ \\\n",
    "$\\mathbf{6\\frac{2}{3} \\leq c_2 \\leq 20}$ \n",
    "\n",
    "Solving for $c_2 = 15$\n",
    "\n",
    "$-1.5 \\leq -\\frac{c_1}{15} \\leq -0.5$ \\\n",
    "$22.5 \\geq c_1 \\geq 7.5$ \\\n",
    "$\\mathbf{7.5 \\leq c_1 \\leq 22.5}$ \n",
    "\n",
    "For coefficient values between $7.5$ and $22.5$ the value of $x_1 = 25$ remains optimal.\\\n",
    "And for coefficient values between $6\\frac{2}{3}$ and $20$ the value of $x_2 = 2.5$ remains optimal.\n",
    "\n",
    "## D) Give the range on each right hand side value."
   ]
  },
  {
   "cell_type": "code",
   "execution_count": 5,
   "id": "d80bc546",
   "metadata": {},
   "outputs": [
    {
     "data": {
      "image/png": "[encoded data removed]",
      "text/plain": [
       "<Figure size 432x288 with 1 Axes>"
      ]
     },
     "metadata": {
      "needs_background": "light"
     },
     "output_type": "display_data"
    }
   ],
   "source": [
    "# Range of Each Right Hand Side\n",
    "def plot_corners_1b():\n",
    "    '''\n",
    "    Coordinate given by:\n",
    "        Ax+By=C\n",
    "        x= ((C1*B2)-(C2*B1)) / ((A1*B2)-(A2*B1))\n",
    "    '''\n",
    "    # Corner E\n",
    "    E_x1= 30\n",
    "    E_x2= 0\n",
    "    plt.plot(E_x1, E_x2,'ko')\n",
    "    plt.text(E_x1 +0.5, E_x2 +0.5, \"E\", fontsize=10)\n",
    "    plt.text(31, E_x2 - 0.5 , f\"E: x1={E_x1}, x2={E_x2}\", fontsize=10)\n",
    "\n",
    "    # Corner B\n",
    "    F_x1= ((100*2)-(80*4)) / ((2*2)-(3*4))\n",
    "    F_x2= ((100*3)-(80*2)) / ((4*3)-(2*2))\n",
    "    plt.plot(F_x1, F_x2,'ko')\n",
    "    plt.text(F_x1 +0.5, F_x2 +0.5, \"F\", fontsize=10)\n",
    "    plt.text(31, F_x2 - 5 , f\"F: x1={F_x1}, x2={F_x2}\", fontsize=10)\n",
    "    \n",
    "    # Corner B (Current Optimum)\n",
    "    B_x1= (80-30)/(3-1)\n",
    "    B_x2= (80-(30*3))/(2-(2*3))\n",
    "    plt.plot(B_x1, B_x2,'ko')\n",
    "    plt.text(B_x1 +0.5, B_x2 +0.5, \"B\", fontsize=10)\n",
    "    plt.text(31, B_x2 + 0.5 , f\"B: x1={B_x1}, x2={B_x2}\", fontsize=10)\n",
    "\n",
    "plot_constraints_1()\n",
    "plot_feasible_1()\n",
    "plot_corners_1b()"
   ]
  },
  {
   "cell_type": "markdown",
   "id": "fbfc5a2c",
   "metadata": {},
   "source": [
    "**Constraint 1:** $2x_1 +4x_2 ≤ 100$ \\\n",
    "Can decrease until Point B.\n",
    "\n",
    "$2(25) + 4(2.5) = 60$ \\\n",
    "So constraint 3 can decrease by $40$ before it begins to limit output and reduces the $z$.\n",
    "\n",
    "**Constraint 2:** $3x_1 +2x_2 ≤ 80$ \\\n",
    "Can increase until Point E.\n",
    "\n",
    "$3(30) + 2(0) = 90$ \\\n",
    "So constraint 2 can increase by $10$ before it begins to produce slack, and further increases are wasted.\n",
    "\n",
    "**Constraint 3:** $1x_1 +2x_2 ≤ 30$ \\\n",
    "Can increase until Point F.\n",
    "\n",
    "$1(15) + 2(17.5) = 50$ \\\n",
    "So constraint 2 can increase by $20$ before it begins to produce slack, and further increases are wasted."
   ]
  },
  {
   "cell_type": "raw",
   "id": "eafe685f",
   "metadata": {},
   "source": [
    "\\newpage"
   ]
  },
  {
   "cell_type": "markdown",
   "id": "ca8f857f",
   "metadata": {},
   "source": [
    "# Problem 2.\n",
    "Consider the following linear program:\n",
    "\n",
    "Max $z=3x_1 + 1x_2$ \\\n",
    "s.t.\n",
    "$$\\begin{aligned}\n",
    "    4x_1 +2x_2 &≤8 \\\\ \n",
    "    3x_1 +1x_2 &≤10 \\\\\n",
    "    x1,x2 &≥0\n",
    "\\end{aligned}$$\n",
    "\n",
    "a) Solve the model graphically.  \n",
    "b) Give the shadow price of each constraint.  \n",
    "c) Give the range on each objective function coefficient.  \n",
    "d) Give the range of each right hand side.\n",
    "\n",
    "## A) Solve the model graphically."
   ]
  },
  {
   "cell_type": "code",
   "execution_count": 6,
   "id": "c189aae5",
   "metadata": {},
   "outputs": [],
   "source": [
    "import matplotlib.pyplot as plt\n",
    "import numpy as np"
   ]
  },
  {
   "cell_type": "code",
   "execution_count": 7,
   "id": "7b645074",
   "metadata": {},
   "outputs": [
    {
     "data": {
      "image/png": "[encoded data removed]",
      "text/plain": [
       "<Figure size 432x288 with 1 Axes>"
      ]
     },
     "metadata": {
      "needs_background": "light"
     },
     "output_type": "display_data"
    }
   ],
   "source": [
    "# this time I will try with just intercepts\n",
    "def plot_constraints_2():\n",
    "    x1_lim, x2_lim = 5, 10\n",
    "    x1 = np.linspace(0, 10, 10)\n",
    "\n",
    "    # 4x_1 +2x_2 ≤8\n",
    "    plt.plot([(8/4),0], [0,(8/2)], label=r'$4x_1 +2x_2 \\leq 8$')\n",
    "\n",
    "    # 3x_1 +1x_2 ≤10\n",
    "    plt.plot([(10/3),0], [0,(10/1)], label=r'$3x_1 +1x_2 \\leq10$')\n",
    "\n",
    "    # x_1,x_2 ≥0\n",
    "    plt.plot([0,x1_lim], [0,0], label=r'$x_1 \\geq0$')\n",
    "    plt.plot([0,0], [0,x2_lim], label=r'$x_2 \\geq0$')\n",
    "\n",
    "    # Plot's Params\n",
    "    plt.xlim(0,x1_lim)\n",
    "    plt.ylim(0,x2_lim)\n",
    "    plt.legend(bbox_to_anchor=(1.05, 1), loc=2, borderaxespad=0.)\n",
    "    plt.xlabel(r'$x_1$')\n",
    "    plt.ylabel(r'$x_2$')\n",
    "    \n",
    "# plot the feasible region\n",
    "def plot_feasible_2():\n",
    "    d = np.linspace(0,10,200)\n",
    "    x1,x2 = np.meshgrid(d,d)\n",
    "    plt.imshow( ((4*x1+2*x2<=8) & (3*x1+1*x2<=10)).astype(int), \n",
    "                    extent=(x1.min(),x1.max(),x2.min(),x2.max()),\n",
    "                       origin=\"lower\", cmap=\"Greys\", alpha = 0.3);\n",
    "    \n",
    "# Plot Corners\n",
    "def plot_corners_2a():\n",
    "    '''\n",
    "    Coordinate given by:\n",
    "        Ax+By=C\n",
    "        x= ((C1*B2)-(C2*B1)) / ((A1*B2)-(A2*B1))\n",
    "    '''\n",
    "    # Corner A\n",
    "    A_x1= 0\n",
    "    A_x2= 0\n",
    "    plt.plot(A_x1, A_x2,'ko')\n",
    "    plt.text(A_x1 +0.5, A_x2 +0.5, \"A\", fontsize=10)\n",
    "    plt.text(6, A_x2 - 0.5 , f\"A: x1={A_x1}, x2={A_x2}\", fontsize=10)\n",
    "\n",
    "    # Corner B\n",
    "    B_x1= 0\n",
    "    B_x2= 4\n",
    "    plt.plot(B_x1, B_x2,'ko')\n",
    "    plt.text(B_x1 +0.5, B_x2 +0.5, \"B\", fontsize=10)\n",
    "    plt.text(6, B_x2 + 0.5 , f\"B: x1={B_x1}, x2={B_x2}\", fontsize=10)\n",
    "\n",
    "    # Corner C\n",
    "    C_x1= 2\n",
    "    C_x2= 0\n",
    "    plt.plot(C_x1, C_x2,'ko')\n",
    "    plt.text(C_x1 +0.5, C_x2 +0.5, \"C\", fontsize=10)\n",
    "    plt.text(6, C_x2 + 0.75 , f\"C: x1={C_x1}, x2={C_x2}\", fontsize=10)\n",
    "    \n",
    "    return A_x1,A_x2,B_x1,B_x2,C_x1,C_x2\n",
    "    \n",
    "plot_constraints_2()\n",
    "plot_feasible_2()\n",
    "a_x1,a_x2,b_x1,b_x2,c_x1,c_x2 = plot_corners_2a()"
   ]
  },
  {
   "cell_type": "code",
   "execution_count": 8,
   "id": "c23ee972",
   "metadata": {
    "scrolled": true
   },
   "outputs": [
    {
     "name": "stdout",
     "output_type": "stream",
     "text": [
      "Value of Z at A: 0\n",
      "Value of Z at B: 4\n",
      "Value of Z at C: 6\n"
     ]
    }
   ],
   "source": [
    "# Max z=3x_1 + 1x_2\n",
    "def calc_z_2(x1,x2):\n",
    "        return (3*x1)+(1*x2)\n",
    "    \n",
    "print(f\"Value of Z at A: {calc_z_2(a_x1,a_x2)}\")\n",
    "print(f\"Value of Z at B: {calc_z_2(b_x1,b_x2)}\")\n",
    "print(f\"Value of Z at C: {calc_z_2(c_x1,c_x2)}\")"
   ]
  },
  {
   "cell_type": "markdown",
   "id": "3059829c",
   "metadata": {},
   "source": [
    "From this we find the highest value of $z$ is 6, obtained when $x_1$ is 2 and $x_2$ is 0\n",
    "\n",
    "## B) Give the shadow price of each constraint. "
   ]
  },
  {
   "cell_type": "code",
   "execution_count": 9,
   "id": "4dc6bfe9",
   "metadata": {},
   "outputs": [
    {
     "name": "stdout",
     "output_type": "stream",
     "text": [
      "The shadow price of constraint 1 is 4.0 per unit\n",
      "The shadow price of constraint 2 is 0\n"
     ]
    }
   ],
   "source": [
    "# Shadow Prices\n",
    "# 4x_1 +2x_2 ≤ 9\n",
    "# x_2 = 4.5 -2x_1\n",
    "# 10 -3x_1 = 4.5 -2x_1\n",
    "x_1b = 10-4.5\n",
    "x_2b = 4.5 - (2*x_1b)\n",
    "sp_b = calc_z_2(x_1b,x_2b)-calc_z_2(c_x1,c_x2)\n",
    "print(f\"The shadow price of constraint 1 is {sp_b} per unit\")\n",
    "# 3x_1 +1x_2 ≤11 is zero\n",
    "print(\"The shadow price of constraint 2 is 0\")"
   ]
  },
  {
   "cell_type": "markdown",
   "id": "08a9c737",
   "metadata": {},
   "source": [
    "## C) Give the range on each objective function coefficient.\n",
    "\n",
    "**Range on Objective Function Coefficients** \\\n",
    "$z=3x_1 + 1x_2$ \n",
    "\n",
    "Solving for $x_1$ \\\n",
    "$x_1 = 2 -x_2$ \\\n",
    "$x_1 = 0 -0x_2$ \n",
    "\n",
    "Gives:\\\n",
    "$-1 \\leq -\\frac{c_1}{c_2} \\leq -0$\n",
    "\n",
    "Solving for $c_1 = 3$ \\\n",
    "$-1 \\leq -\\frac{3}{c_2} \\leq 0$ \\\n",
    "$1c_2 \\geq 3 \\geq 0c_2$ \\\n",
    "$c_2 \\geq 3 $, $c_2 \\leq$ Undefined \\\n",
    "$\\mathbf{3 \\leq c_2}$ \n",
    "\n",
    "Solving for $c_2 = 1$ \\\n",
    "$-1 \\leq -\\frac{c_1}{1} \\leq 0$ \\\n",
    "$1 \\geq c_1 \\geq 0$ \\\n",
    "$\\mathbf{0 \\leq c_1 \\leq 1}$ \n",
    "\n",
    "For coefficient values between greater than $3$ $x_1 = 2$ remains optimal.\\\n",
    "And for coefficient values between $0$ and $1$ the value of $x_2 = 0$ remains optimal.\n",
    "\n",
    "## D) Give the range of each right hand side."
   ]
  },
  {
   "cell_type": "code",
   "execution_count": 10,
   "id": "449e5f96",
   "metadata": {},
   "outputs": [
    {
     "data": {
      "image/png": "[encoded data removed]",
      "text/plain": [
       "<Figure size 432x288 with 1 Axes>"
      ]
     },
     "metadata": {
      "needs_background": "light"
     },
     "output_type": "display_data"
    }
   ],
   "source": [
    "# Range of Each Right Hand Side\n",
    "def plot_corners_2b():\n",
    "    '''\n",
    "    Coordinate given by:\n",
    "        Ax+By=C\n",
    "        x= ((C1*B2)-(C2*B1)) / ((A1*B2)-(A2*B1))\n",
    "    '''\n",
    "    # Corner D\n",
    "    d_x1= 0\n",
    "    d_x2= 10\n",
    "    plt.plot(d_x1, d_x2,'ko')\n",
    "    plt.text(d_x1 +0.5, d_x2 +0.5, \"D\", fontsize=10)\n",
    "    plt.text(6, d_x2 -5, f\"D: x1={d_x1}, x2={d_x2}\", fontsize=10)\n",
    "\n",
    "    # Corner E\n",
    "    e_x1= 10/3\n",
    "    e_x2= 0\n",
    "    plt.plot(e_x1, e_x2,'ko')\n",
    "    plt.text(e_x1 +0.5, e_x2 +0.5, \"E\", fontsize=10)\n",
    "    plt.text(6, e_x2, f\"E: x1={e_x1}, x2={e_x2}\", fontsize=10)\n",
    "    \n",
    "    # Corner C (Current Optimum)\n",
    "    C_x1= 2\n",
    "    C_x2= 0\n",
    "    plt.plot(C_x1, C_x2,'ko')\n",
    "    plt.text(C_x1 +0.5, C_x2 +0.5, \"C\", fontsize=10)\n",
    "    plt.text(6, C_x2 + 0.75 , f\"C: x1={C_x1}, x2={C_x2}\", fontsize=10)\n",
    "\n",
    "plot_constraints_2()\n",
    "plot_feasible_2()\n",
    "plot_corners_2b()"
   ]
  },
  {
   "cell_type": "markdown",
   "id": "8ea3ffdd",
   "metadata": {},
   "source": [
    "**Constraint 1:** $4x_1 +2x_2 ≤ 8$ \\\n",
    "Can decrease until Point D or E. \\\n",
    "Since both yield the same $z$ value, after constraint 1 reaches the lower E there is no further increase.\n",
    "\n",
    "$4(3\\frac{1}{3}) + 2(0) = 13\\frac{1}{3}$ \\\n",
    "So constraint 1 can increase by $5\\frac{1}{3}$ before nothing further increases the $z$."
   ]
  },
  {
   "cell_type": "raw",
   "id": "344a027e",
   "metadata": {},
   "source": [
    "\\newpage"
   ]
  },
  {
   "cell_type": "markdown",
   "id": "0bc21f38",
   "metadata": {},
   "source": [
    "# Problem 3.\n",
    "A small aerospace company will be introducing a new line of lightweight bicycle frames to benefit from the recent interest in dual use technologies. \n",
    "The frames can be made from special aluminum and composite alloys. \n",
    "The frames will be produced in two models, “deluxe” and “professional”. \n",
    "The anticipated profits are currently \\\\$10 for a deluxe frame and \\\\$16 for a professional frame. \n",
    "The number of pounds of each alloy required for each frame is summarized below:\n",
    "\n",
    "|   |Aluminum Alloy | Composite Alloy |\n",
    "|---|---|---|\n",
    "|Deluxe| 2 | 3 |\n",
    "|Professional| 4 | 2 |\n",
    "\n",
    "\n",
    "  The supplier can deliver 100 lbs. of the aluminum alloy per week and 80 lbs of the composite alloy per week.  \n",
    "  \n",
    "a) What is the optimal weekly production schedule?  \n",
    "b) Within what limits must the unit profits lie for each of the frames for the solution to remain optimal?  \n",
    "c) Suppose an additional amount of the aluminum alloy were made available for $2.50 per pound. Should it be purchased?"
   ]
  },
  {
   "cell_type": "markdown",
   "id": "a9642cdc",
   "metadata": {},
   "source": [
    "Deluxe: $x_1 \\geq 0$ \\\n",
    "Professional: $x_2 \\geq 0$ \\\n",
    "Profit: $z = 10x_1 + 16x_2$ \\\n",
    "Aluminum: $2x_1 + 4x_2 \\leq 100$ \\\n",
    "Composite: $3x_1 + 2x_2 \\leq 80$ "
   ]
  },
  {
   "cell_type": "markdown",
   "id": "5900bb81",
   "metadata": {},
   "source": [
    "## A) What is the optimal weekly production schedule?  "
   ]
  },
  {
   "cell_type": "code",
   "execution_count": 11,
   "id": "505534fb",
   "metadata": {},
   "outputs": [],
   "source": [
    "import matplotlib.pyplot as plt\n",
    "import numpy as np"
   ]
  },
  {
   "cell_type": "code",
   "execution_count": 12,
   "id": "bcb095a3",
   "metadata": {},
   "outputs": [
    {
     "name": "stdout",
     "output_type": "stream",
     "text": [
      "Profit at A: 0\n",
      "Profit at B: 400.0\n",
      "Profit at C: 266.6666666666667\n",
      "Profit at D: 430.0\n"
     ]
    },
    {
     "data": {
      "image/png": "[encoded data removed]",
      "text/plain": [
       "<Figure size 432x288 with 1 Axes>"
      ]
     },
     "metadata": {
      "needs_background": "light"
     },
     "output_type": "display_data"
    }
   ],
   "source": [
    "def plot_constraints_3():\n",
    "    x1_lim, x2_lim = 42, 55\n",
    "    \n",
    "    # Aluminum: 2x_1 + 4x_2 <= 100\n",
    "    plt.plot([(100/2),0], [0,(100/4)], label=r'Aluminum')\n",
    "\n",
    "    # Composite: 3x_1 + 2x_2 <= 80\n",
    "    plt.plot([(80/3),0], [0,(80/2)], label=r'Composite')\n",
    "\n",
    "    # x_1,x_2 ≥0\n",
    "    plt.plot([0,x1_lim], [0,0], label=r'Deluxe')\n",
    "    plt.plot([0,0], [0,x2_lim], label=r'Professional')\n",
    "\n",
    "    # Plot's Params\n",
    "    plt.xlim(0,x1_lim)\n",
    "    plt.ylim(0,x2_lim)\n",
    "    plt.legend(bbox_to_anchor=(1.05, 1), loc=2, borderaxespad=0.)\n",
    "    plt.xlabel(r'Deluxe: $x_1$')\n",
    "    plt.ylabel(r'Professional: $x_2$')\n",
    "    \n",
    "# plot the feasible region\n",
    "def plot_feasible_3():\n",
    "    d = np.linspace(0,70,350)\n",
    "    x1,x2 = np.meshgrid(d,d)\n",
    "    plt.imshow( ((2*x1 + 4*x2 <= 100) & (3*x1 + 2*x2 <= 80)).astype(int), \n",
    "                    extent=(x1.min(),x1.max(),x2.min(),x2.max()),\n",
    "                       origin=\"lower\", cmap=\"Greys\", alpha = 0.3);\n",
    "    \n",
    "# Plot Corners\n",
    "def plot_corners_3a():\n",
    "    '''\n",
    "    Coordinate given by:\n",
    "        Ax+By=C\n",
    "        x= ((C1*B2)-(C2*B1)) / ((A1*B2)-(A2*B1))\n",
    "    '''\n",
    "    # Corner A\n",
    "    A_x1= 0\n",
    "    A_x2= 0\n",
    "    plt.plot(A_x1, A_x2,'ko')\n",
    "    plt.text(A_x1 +0.5, A_x2 +0.5, \"A\", fontsize=10)\n",
    "    plt.text(56, A_x2 - 0.5 , f\"A: x1={A_x1}, x2={A_x2}\", fontsize=10)\n",
    "\n",
    "    # Corner B\n",
    "    B_x1= 0\n",
    "    B_x2= (100/4)\n",
    "    plt.plot(B_x1, B_x2,'ko')\n",
    "    plt.text(B_x1 +0.5, B_x2 +0.5, \"B\", fontsize=10)\n",
    "    plt.text(56, B_x2 + 0.5 , f\"B: x1={B_x1}, x2={B_x2}\", fontsize=10)\n",
    "\n",
    "    # Corner C\n",
    "    C_x1= (80/3)\n",
    "    C_x2= 0\n",
    "    plt.plot(C_x1, C_x2,'ko')\n",
    "    plt.text(C_x1 +0.5, C_x2 +0.5, \"C\", fontsize=10)\n",
    "    plt.text(56, C_x2 + 2.5 , f\"C: x1={C_x1}, x2={C_x2}\", fontsize=10)\n",
    "    \n",
    "    # Corner D\n",
    "    D_x1= ((100*2)-(80*4)) / ((2*2)-(3*4))\n",
    "    D_x2= ((100*3)-(80*2)) / ((4*3)-(2*2))\n",
    "    plt.plot(D_x1, D_x2,'ko')\n",
    "    plt.text(D_x1 +0.5, D_x2 +0.5, \"D\", fontsize=10)\n",
    "    plt.text(56, D_x2 + 0.75 , f\"D: x1={D_x1}, x2={D_x2}\", fontsize=10)\n",
    "    \n",
    "    return A_x1,A_x2,B_x1,B_x2,C_x1,C_x2,D_x1,D_x2\n",
    "  \n",
    "plot_constraints_3()\n",
    "plot_feasible_3()\n",
    "a_x1,a_x2,b_x1,b_x2,c_x1,c_x2,d_x1,d_x2 = plot_corners_3a()\n",
    "\n",
    "# Max z=10x_1 + 16x_2\n",
    "def calc_z_2(x1,x2):\n",
    "        return (10*x1)+(16*x2)\n",
    "    \n",
    "print(f\"Profit at A: {calc_z_2(a_x1,a_x2)}\")\n",
    "print(f\"Profit at B: {calc_z_2(b_x1,b_x2)}\")\n",
    "print(f\"Profit at C: {calc_z_2(c_x1,c_x2)}\")\n",
    "print(f\"Profit at D: {calc_z_2(d_x1,d_x2)}\")"
   ]
  },
  {
   "cell_type": "markdown",
   "id": "cb2e548d",
   "metadata": {},
   "source": [
    "The optimal weekly schedule is to produce 15 Deluxe frames and 17.5 Professional frames for a profit of \\\\$430. If a half frame is not feasible, the optimal is 17 professional frames and an adjusted profit of \\\\$422."
   ]
  },
  {
   "cell_type": "markdown",
   "id": "599a55f7",
   "metadata": {},
   "source": [
    "## B) Within what limits must the unit profits lie for each of the frames for the solution to remain optimal?  \n",
    "\n",
    "**Range on Objective Function Coefficients** \\\n",
    "$z=10x_1 + 16x_2$ \n",
    "\n",
    "Solving for $x_2$\n",
    "\n",
    "$x_2 = 25 -0.5x_1$ \\\n",
    "$x_2 = 40 -1.5x_1$ \n",
    "\n",
    "Gives:\n",
    "\n",
    "$-1.5 \\leq -\\frac{c_1}{c_2} \\leq -0.5$\n",
    "\n",
    "Solving if $c_2 = 16$\n",
    "\n",
    "$-1.5 \\leq -\\frac{c_1}{16} \\leq -0.5$ \\\n",
    "$24 \\geq c_1 \\geq 8$ \\\n",
    "$\\mathbf{8 \\leq c_1 \\leq 24}$ \n",
    "\n",
    "Solving if $c_1 = 10$ \n",
    "\n",
    "$-1.5 \\leq -\\frac{10}{c_2} \\leq -0.5$ \\\n",
    "$1.5c_2 \\geq 10 \\geq 0.5c_2$ \\\n",
    "$c_2 \\geq 6.67 $, $c_2 \\leq 20$ \\\n",
    "$\\mathbf{6.67 \\leq c_2 \\leq 20}$ \n",
    "\n",
    "\n",
    "This solution remains optimal for Deluxe frame profits between \\\\$8 and \\\\$24 and for Professional frames profits between \\\\$6.67 and \\\\$20."
   ]
  },
  {
   "cell_type": "markdown",
   "id": "2d34628e",
   "metadata": {},
   "source": [
    "## C) Suppose an additional amount of the aluminum alloy were made available for $2.50 per pound. Should it be purchased?\n",
    "\n",
    "Profit will increase until $x_2 = 40$ \\\n",
    "Aluminum: $(0)2 + (40)4 = 100 + c$ \\\n",
    "$c = 60$ \\\n",
    "Additional cost = $(60)2.50 = 150$ \\\n",
    "New profit = $(0)10 + (40)16 - 150$ = \\\\$490 \n",
    "\n",
    "If aluminum is available for \\\\$2.50 up to 60lbs should be purchased. Ratio of production will change depending on how much aluminum is available. If the full 60lbs can be purchased production will shift to 40 professional bikes with an adjusted profit of \\\\$490."
   ]
  },
  {
   "cell_type": "raw",
   "id": "95ad5d45",
   "metadata": {},
   "source": [
    "\\newpage"
   ]
  },
  {
   "cell_type": "markdown",
   "id": "989cb172",
   "metadata": {},
   "source": [
    "# Problem 4.\n",
    "a) For the following constraints, graph the constraints and give all basic solution vectors. Indicate which solutions are feasible and which are not. Don’t forget to add the slack variables.  \n",
    "\n",
    "$$\\begin{aligned}\n",
    "    2x_1+4x_2 &≥12 \\\\\n",
    "    6x_1+4x_2 &≤24 \\\\\n",
    "    x_1 , x_2 &≥ 0\n",
    "\\end{aligned}$$\n",
    "\n",
    "b) Determine if the following system of equations is consistent and if it is consistent, does it have a unique solution or infinite solutions.\n",
    "$$\\begin{aligned}\n",
    "    2x + 3y - 2z &= 40 \\\\\n",
    "    3x - 2y + 1z &= 60 \\\\\n",
    "    1x - 5y + 3z &= 20\n",
    "\\end{aligned}$$\n"
   ]
  },
  {
   "cell_type": "markdown",
   "id": "0c5600ca",
   "metadata": {},
   "source": [
    "## A) For the following constraints, graph the constraints and give all basic solution vectors. Indicate which solutions are feasible and which are not. Don’t forget to add the slack variables. "
   ]
  },
  {
   "cell_type": "code",
   "execution_count": 13,
   "id": "e17a51e5",
   "metadata": {},
   "outputs": [
    {
     "data": {
      "image/png": "[encoded data removed]",
      "text/plain": [
       "<Figure size 432x288 with 1 Axes>"
      ]
     },
     "metadata": {
      "needs_background": "light"
     },
     "output_type": "display_data"
    }
   ],
   "source": [
    "def plot_constraints_4():\n",
    "    x1_lim, x2_lim = 7.5, 7.5\n",
    "\n",
    "    # 2x_1+4x_2 >= 12\n",
    "    plt.plot([(12/2),0], [0,(12/4)], label=r'$2x_1+4x_2 &≥12$')\n",
    "    \n",
    "    # 6x_1+4x_2 <= 24\n",
    "    plt.plot([(24/6),0], [0,(24/4)], label=r'$6x_1+4x_2 &≤24$')\n",
    "\n",
    "    # x_1,x_2 ≥0\n",
    "    plt.plot([0,x1_lim], [0,0], label=r'$x_1$')\n",
    "    plt.plot([0,0], [0,x2_lim], label=r'$x_2$')\n",
    "\n",
    "    # Plot's Params\n",
    "    plt.xlim(0,x1_lim)\n",
    "    plt.ylim(0,x2_lim)\n",
    "    plt.legend(bbox_to_anchor=(1.05, 1), loc=2, borderaxespad=0.)\n",
    "    plt.xlabel(r'$x_1$')\n",
    "    plt.ylabel(r'$x_2$')\n",
    "      \n",
    "# plot the feasible region\n",
    "def plot_feasible_4():\n",
    "    d = np.linspace(0,10,200)\n",
    "    x1,x2 = np.meshgrid(d,d)\n",
    "    plt.imshow( ((2*x1+4*x2 >=12) & (6*x1+4*x2 <=24)).astype(int), \n",
    "                    extent=(x1.min(),x1.max(),x2.min(),x2.max()),\n",
    "                       origin=\"lower\", cmap=\"Greys\", alpha = 0.3);\n",
    "    \n",
    "plot_constraints_4()\n",
    "plot_feasible_4()"
   ]
  },
  {
   "cell_type": "markdown",
   "id": "a0daee71",
   "metadata": {},
   "source": [
    "$$\\begin{aligned}\n",
    "    2x_1+4x_2 &≥12 \\\\\n",
    "    6x_1+4x_2 &≤24 \\\\\n",
    "    x_1 , x_2 &≥ 0\n",
    "\\end{aligned}$$\n",
    "Adding in surplus and artificial variables becomes:\n",
    "$$\\begin{aligned}\n",
    "    2x_1+4x_2 -s_1 \\hspace{2em} + A_1 &=12 \\\\\n",
    "    6x_1+4x_2 \\hspace{2em} +s_2 \\hspace{2em}    &=24 \\\\\n",
    "    x_1,x_2,s_1,s_2,A_1 &≥ 0\n",
    "\\end{aligned}$$\n",
    "Initial Feasable Solution $(x_1,x_2) = (0,0)$:\n",
    "$$\\begin{aligned}\n",
    "    2(0)+4(0) -s_1 \\hspace{2em} + A_1 &=12        &s_1 = 0\\\\\n",
    "    6(0)+4(0) \\hspace{2em} +s_2 \\hspace{2em} &=24 &s_2 = 24 \\\\\n",
    "    x_1,x_2,s_1,s_2,A_1 &≥ 0 & A_1 = 12\n",
    "\\end{aligned}$$\n",
    "$(x_1,x_2) = (0,0)$ is infeasible. \\\n",
    "Solving for $(x_1,x_2) = (0,6)$:\n",
    "$$\\begin{aligned}\n",
    "    2(0)+4(6) -s_1 \\hspace{2em} + A_1 &=12        &s_1 = 12\\\\\n",
    "    6(0)+4(6) \\hspace{2em} +s_2 \\hspace{2em} &=24 &s_2 = 0 \\\\\n",
    "    x_1,x_2,s_1,s_2,A_1 &≥ 0 & A_1 = 0\n",
    "\\end{aligned}$$\n",
    "$(x_1,x_2) = (0,6)$ is feasible. \\\n",
    "Solving for $(x_1,x_2) = (0,3)$:\n",
    "$$\\begin{aligned}\n",
    "    2(0)+4(3) -s_1 \\hspace{2em} + A_1 &=12        &s_1 = 0\\\\\n",
    "    6(0)+4(3) \\hspace{2em} +s_2 \\hspace{2em} &=24 &s_2 = 12 \\\\\n",
    "    x_1,x_2,s_1,s_2,A_1 &≥ 0 & A_1 = 0\n",
    "\\end{aligned}$$\n",
    "$(x_1,x_2) = (0,6)$ is feasible. \\\n",
    "Solving for $(x_1,x_2) = (3,1)$:\n",
    "$$\\begin{aligned}\n",
    "    2(3)+4(1) -s_1 \\hspace{2em} + A_1 &=12        &s_1 = 0\\\\\n",
    "    6(3)+4(1) \\hspace{2em} +s_2 \\hspace{2em} &=24 &s_2 = 2 \\\\\n",
    "    x_1,x_2,s_1,s_2,A_1 &≥ 0 & A_1 = 0\n",
    "\\end{aligned}$$\n",
    "$(x_1,x_2) = (3,1)$ is feasible."
   ]
  },
  {
   "cell_type": "markdown",
   "id": "15e69684",
   "metadata": {},
   "source": [
    "## B) Determine if the following system of equations is consistent and if it is consistent, does it have a unique solution or infinite solutions.\n",
    "\n",
    "$$\\begin{aligned}\n",
    "    2x + 3y - 2z &= 40 \\\\\n",
    "    3x - 2y + 1z &= 60 \\\\\n",
    "    1x - 5y + 3z &= 20\n",
    "\\end{aligned}$$\n",
    "\n",
    "$R1=R2-R3$, \\\n",
    "$R2=R1+R3$, \\\n",
    "$R3=R2-R1$ \\\n",
    "Therefore this system of equations is consistent.\n",
    "\n",
    "$$\\begin{aligned}\n",
    "\\begin{bmatrix}\n",
    "    2 & 3 & -2 & 40 \\\\\n",
    "    3 & -2 & 1 & 60 \\\\\n",
    "    1 & -5 & 3 & 20\n",
    "\\end{bmatrix}\n",
    "\\rightarrow\n",
    "\\begin{bmatrix}\n",
    "    1 & -5 & 3 & 20 \\\\\n",
    "    2 & 3 & -2 & 40 \\\\\n",
    "    3 & -2 & 1 & 60    \n",
    "\\end{bmatrix}\n",
    "\\xrightarrow[R3-3R1]{R2-2R1}\n",
    "\\begin{bmatrix}\n",
    "    1 & -5 & 3 & 20 \\\\\n",
    "    0 & 13 & -8 & 0 \\\\\n",
    "    0 & 13 & -8 & 0    \n",
    "\\end{bmatrix}& \\\\\n",
    "\\xrightarrow[R3-R2]{R2/13}\n",
    "\\begin{bmatrix}\n",
    "    1 & -5 & 3 & 20 \\\\\n",
    "    0 & 1 & -8/13 & 0 \\\\\n",
    "    0 & 0 & 0 & 0    \n",
    "\\end{bmatrix}\n",
    "\\xrightarrow{R1+5R2}\n",
    "\\begin{bmatrix}\n",
    "    1 & 0 & -1/13 & 20 \\\\\n",
    "    0 & 1 & -8/13 & 0 \\\\\n",
    "    0 & 0 & 0 & 0    \n",
    "\\end{bmatrix}&\n",
    "\\end{aligned}$$\n",
    "\n",
    "This system of equations has infinitely many solutions."
   ]
  }
 ],
 "metadata": {
  "authors": [
   {
    "name": "Brandon Hosley"
   }
  ],
  "celltoolbar": "Raw Cell Format",
  "kernelspec": {
   "display_name": "Python 3 (ipykernel)",
   "language": "python",
   "name": "python3"
  },
  "language_info": {
   "codemirror_mode": {
    "name": "ipython",
    "version": 3
   },
   "file_extension": ".py",
   "mimetype": "text/x-python",
   "name": "python",
   "nbconvert_exporter": "python",
   "pygments_lexer": "ipython3",
   "version": "3.9.12"
  }
 },
 "nbformat": 4,
 "nbformat_minor": 5
}
