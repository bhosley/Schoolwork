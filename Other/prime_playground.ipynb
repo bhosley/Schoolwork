{
 "cells": [
  {
   "cell_type": "code",
   "execution_count": 10,
   "metadata": {},
   "outputs": [],
   "source": [
    "import sympy\n",
    "from termcolor import colored"
   ]
  },
  {
   "cell_type": "code",
   "execution_count": 76,
   "metadata": {},
   "outputs": [
    {
     "name": "stdout",
     "output_type": "stream",
     "text": [
      "151 : \u001b[41m\u001b[97m1\u001b[0m00\u001b[41m\u001b[97m1\u001b[0m0\u001b[41m\u001b[97m1\u001b[0m\u001b[41m\u001b[97m1\u001b[0m\u001b[41m\u001b[97m1\u001b[0m\n",
      "149 : \u001b[41m\u001b[97m1\u001b[0m00\u001b[41m\u001b[97m1\u001b[0m0\u001b[41m\u001b[97m1\u001b[0m0\u001b[41m\u001b[97m1\u001b[0m\n",
      "139 : \u001b[41m\u001b[97m1\u001b[0m000\u001b[41m\u001b[97m1\u001b[0m0\u001b[41m\u001b[97m1\u001b[0m\u001b[41m\u001b[97m1\u001b[0m\n",
      "137 : \u001b[41m\u001b[97m1\u001b[0m000\u001b[41m\u001b[97m1\u001b[0m00\u001b[41m\u001b[97m1\u001b[0m\n",
      "131 : \u001b[41m\u001b[97m1\u001b[0m00000\u001b[41m\u001b[97m1\u001b[0m\u001b[41m\u001b[97m1\u001b[0m\n",
      "127 :  \u001b[41m\u001b[97m1\u001b[0m\u001b[41m\u001b[97m1\u001b[0m\u001b[41m\u001b[97m1\u001b[0m\u001b[41m\u001b[97m1\u001b[0m\u001b[41m\u001b[97m1\u001b[0m\u001b[41m\u001b[97m1\u001b[0m\u001b[41m\u001b[97m1\u001b[0m\n",
      "113 :  \u001b[41m\u001b[97m1\u001b[0m\u001b[41m\u001b[97m1\u001b[0m\u001b[41m\u001b[97m1\u001b[0m000\u001b[41m\u001b[97m1\u001b[0m\n",
      "109 :  \u001b[41m\u001b[97m1\u001b[0m\u001b[41m\u001b[97m1\u001b[0m0\u001b[41m\u001b[97m1\u001b[0m\u001b[41m\u001b[97m1\u001b[0m0\u001b[41m\u001b[97m1\u001b[0m\n",
      "107 :  \u001b[41m\u001b[97m1\u001b[0m\u001b[41m\u001b[97m1\u001b[0m0\u001b[41m\u001b[97m1\u001b[0m0\u001b[41m\u001b[97m1\u001b[0m\u001b[41m\u001b[97m1\u001b[0m\n",
      "103 :  \u001b[41m\u001b[97m1\u001b[0m\u001b[41m\u001b[97m1\u001b[0m00\u001b[41m\u001b[97m1\u001b[0m\u001b[41m\u001b[97m1\u001b[0m\u001b[41m\u001b[97m1\u001b[0m\n",
      "101 :  \u001b[41m\u001b[97m1\u001b[0m\u001b[41m\u001b[97m1\u001b[0m00\u001b[41m\u001b[97m1\u001b[0m0\u001b[41m\u001b[97m1\u001b[0m\n",
      "97  :  \u001b[41m\u001b[97m1\u001b[0m\u001b[41m\u001b[97m1\u001b[0m0000\u001b[41m\u001b[97m1\u001b[0m\n",
      "89  :  \u001b[41m\u001b[97m1\u001b[0m0\u001b[41m\u001b[97m1\u001b[0m\u001b[41m\u001b[97m1\u001b[0m00\u001b[41m\u001b[97m1\u001b[0m\n",
      "83  :  \u001b[41m\u001b[97m1\u001b[0m0\u001b[41m\u001b[97m1\u001b[0m00\u001b[41m\u001b[97m1\u001b[0m\u001b[41m\u001b[97m1\u001b[0m\n",
      "79  :  \u001b[41m\u001b[97m1\u001b[0m00\u001b[41m\u001b[97m1\u001b[0m\u001b[41m\u001b[97m1\u001b[0m\u001b[41m\u001b[97m1\u001b[0m\u001b[41m\u001b[97m1\u001b[0m\n",
      "73  :  \u001b[41m\u001b[97m1\u001b[0m00\u001b[41m\u001b[97m1\u001b[0m00\u001b[41m\u001b[97m1\u001b[0m\n",
      "71  :  \u001b[41m\u001b[97m1\u001b[0m000\u001b[41m\u001b[97m1\u001b[0m\u001b[41m\u001b[97m1\u001b[0m\u001b[41m\u001b[97m1\u001b[0m\n",
      "67  :  \u001b[41m\u001b[97m1\u001b[0m0000\u001b[41m\u001b[97m1\u001b[0m\u001b[41m\u001b[97m1\u001b[0m\n",
      "61  :   \u001b[41m\u001b[97m1\u001b[0m\u001b[41m\u001b[97m1\u001b[0m\u001b[41m\u001b[97m1\u001b[0m\u001b[41m\u001b[97m1\u001b[0m0\u001b[41m\u001b[97m1\u001b[0m\n",
      "59  :   \u001b[41m\u001b[97m1\u001b[0m\u001b[41m\u001b[97m1\u001b[0m\u001b[41m\u001b[97m1\u001b[0m0\u001b[41m\u001b[97m1\u001b[0m\u001b[41m\u001b[97m1\u001b[0m\n",
      "53  :   \u001b[41m\u001b[97m1\u001b[0m\u001b[41m\u001b[97m1\u001b[0m0\u001b[41m\u001b[97m1\u001b[0m0\u001b[41m\u001b[97m1\u001b[0m\n",
      "47  :   \u001b[41m\u001b[97m1\u001b[0m0\u001b[41m\u001b[97m1\u001b[0m\u001b[41m\u001b[97m1\u001b[0m\u001b[41m\u001b[97m1\u001b[0m\u001b[41m\u001b[97m1\u001b[0m\n",
      "43  :   \u001b[41m\u001b[97m1\u001b[0m0\u001b[41m\u001b[97m1\u001b[0m0\u001b[41m\u001b[97m1\u001b[0m\u001b[41m\u001b[97m1\u001b[0m\n",
      "41  :   \u001b[41m\u001b[97m1\u001b[0m0\u001b[41m\u001b[97m1\u001b[0m00\u001b[41m\u001b[97m1\u001b[0m\n",
      "37  :   \u001b[41m\u001b[97m1\u001b[0m00\u001b[41m\u001b[97m1\u001b[0m0\u001b[41m\u001b[97m1\u001b[0m\n",
      "31  :    \u001b[41m\u001b[97m1\u001b[0m\u001b[41m\u001b[97m1\u001b[0m\u001b[41m\u001b[97m1\u001b[0m\u001b[41m\u001b[97m1\u001b[0m\u001b[41m\u001b[97m1\u001b[0m\n",
      "29  :    \u001b[41m\u001b[97m1\u001b[0m\u001b[41m\u001b[97m1\u001b[0m\u001b[41m\u001b[97m1\u001b[0m0\u001b[41m\u001b[97m1\u001b[0m\n",
      "23  :    \u001b[41m\u001b[97m1\u001b[0m0\u001b[41m\u001b[97m1\u001b[0m\u001b[41m\u001b[97m1\u001b[0m\u001b[41m\u001b[97m1\u001b[0m\n",
      "19  :    \u001b[41m\u001b[97m1\u001b[0m00\u001b[41m\u001b[97m1\u001b[0m\u001b[41m\u001b[97m1\u001b[0m\n",
      "17  :    \u001b[41m\u001b[97m1\u001b[0m000\u001b[41m\u001b[97m1\u001b[0m\n",
      "13  :     \u001b[41m\u001b[97m1\u001b[0m\u001b[41m\u001b[97m1\u001b[0m0\u001b[41m\u001b[97m1\u001b[0m\n",
      "11  :     \u001b[41m\u001b[97m1\u001b[0m0\u001b[41m\u001b[97m1\u001b[0m\u001b[41m\u001b[97m1\u001b[0m\n",
      "7   :      \u001b[41m\u001b[97m1\u001b[0m\u001b[41m\u001b[97m1\u001b[0m\u001b[41m\u001b[97m1\u001b[0m\n",
      "5   :      \u001b[41m\u001b[97m1\u001b[0m0\u001b[41m\u001b[97m1\u001b[0m\n",
      "3   :       \u001b[41m\u001b[97m1\u001b[0m\u001b[41m\u001b[97m1\u001b[0m\n",
      "2   :       \u001b[41m\u001b[97m1\u001b[0m0\n"
     ]
    }
   ],
   "source": [
    "n = 155\n",
    "w1 = len(str(n))\n",
    "prime_list = list(sympy.primerange(1,n+1))\n",
    "w2 = len(format(prime_list[-1], 'b'))\n",
    "\n",
    "for p in reversed(prime_list):\n",
    "    b = format(p, 'b').rjust(w2)\n",
    "    b = \"\".join(colored(t,'white','on_red') if t == '1' else t for t in b)\n",
    "    #b = \"\".join(colored(' ','white','on_red') if t == '1' else ' ' for t in b)\n",
    "    print(f'{p}'.ljust(w1), ':', b)\n"
   ]
  },
  {
   "cell_type": "code",
   "execution_count": 89,
   "metadata": {},
   "outputs": [
    {
     "name": "stdout",
     "output_type": "stream",
     "text": [
      "31 True\n"
     ]
    }
   ],
   "source": [
    "p = int('11111',2)\n",
    "print(p, sympy.isprime(p))"
   ]
  },
  {
   "cell_type": "code",
   "execution_count": null,
   "metadata": {},
   "outputs": [],
   "source": [
    "for n in range(1,101):\n",
    "    val = int('1'*n,2)\n",
    "    print(sympy.isprime(val), val)"
   ]
  },
  {
   "cell_type": "code",
   "execution_count": 64,
   "metadata": {},
   "outputs": [
    {
     "name": "stdout",
     "output_type": "stream",
     "text": [
      "\u001b[41m\u001b[97m1\u001b[0m\u001b[41m\u001b[97m1\u001b[0m\u001b[40m\u001b[97m0\u001b[0m\u001b[41m\u001b[97m1\u001b[0m\u001b[40m\u001b[97m0\u001b[0m\u001b[41m\u001b[97m1\u001b[0m\n"
     ]
    }
   ],
   "source": [
    "from termcolor import colored\n",
    "text='110101'\n",
    "result = \"\".join(colored(t,'white','on_red') if t == '1' else colored(t,'white','on_black') for t in text)\n",
    "print(result)\n",
    "\n",
    "# result = \" \".join(colored(t,'white','on_red') if t in l1 else t for t in text.lower().split())"
   ]
  }
 ],
 "metadata": {
  "kernelspec": {
   "display_name": "Python 3",
   "language": "python",
   "name": "python3"
  },
  "language_info": {
   "codemirror_mode": {
    "name": "ipython",
    "version": 3
   },
   "file_extension": ".py",
   "mimetype": "text/x-python",
   "name": "python",
   "nbconvert_exporter": "python",
   "pygments_lexer": "ipython3",
   "version": "3.11.4"
  },
  "orig_nbformat": 4
 },
 "nbformat": 4,
 "nbformat_minor": 2
}
