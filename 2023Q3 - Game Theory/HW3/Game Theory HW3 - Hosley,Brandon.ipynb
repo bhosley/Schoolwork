{
 "cells": [
  {
   "cell_type": "markdown",
   "metadata": {},
   "source": [
    "# OPER 618 Game Theory and Math Programming\n",
    "## Homework #3 - Computing Concepts for Normal Form Games\n",
    "## Hosley, Brandon"
   ]
  },
  {
   "cell_type": "code",
   "execution_count": 5,
   "metadata": {},
   "outputs": [],
   "source": [
    "import pyomo.environ as pyo"
   ]
  },
  {
   "cell_type": "markdown",
   "metadata": {},
   "source": [
    "1. **Maxmin Strategies**. Consider the two-player normal form game depicted in Figure 4.1 of\n",
    "the textbook (and shown below), as well as the file *\"OPER 618 - Homework 3 - Problem 1 -\n",
    "Sets and Parameters.py\"* posted on Canvas.\n",
    "\n",
    "<div style=\"margin-left: auto;\n",
    "            margin-right: auto;\n",
    "            width: 30%\">\n",
    "\n",
    "|              |       | Player 2 |       |\n",
    "|:------------:|:-----:|:--------:|:-----:|\n",
    "|              |       |   $k_1$  | $k_2$ |\n",
    "|              | $j_1$ |   0, 1   |  6, 0 |\n",
    "| **Player 1** | $j_2$ |   2, 0   |  5, 2 |\n",
    "|              | $j_3$ |   3, 4   |  3, 3 |\n",
    "\n",
    "</div>"
   ]
  },
  {
   "cell_type": "code",
   "execution_count": 6,
   "metadata": {},
   "outputs": [
    {
     "ename": "NameError",
     "evalue": "name 'pyo' is not defined",
     "output_type": "error",
     "traceback": [
      "\u001b[0;31m---------------------------------------------------------------------------\u001b[0m",
      "\u001b[0;31mNameError\u001b[0m                                 Traceback (most recent call last)",
      "Cell \u001b[0;32mIn[6], line 2\u001b[0m\n\u001b[1;32m      1\u001b[0m get_ipython()\u001b[39m.\u001b[39mrun_line_magic(\u001b[39m'\u001b[39m\u001b[39mreset\u001b[39m\u001b[39m'\u001b[39m, \u001b[39m'\u001b[39m\u001b[39m-f\u001b[39m\u001b[39m'\u001b[39m)\n\u001b[0;32m----> 2\u001b[0m m \u001b[39m=\u001b[39m pyo\u001b[39m.\u001b[39mConcreteModel()\n\u001b[1;32m      4\u001b[0m \u001b[39m# Input sets\u001b[39;00m\n\u001b[1;32m      5\u001b[0m m\u001b[39m.\u001b[39mJ \u001b[39m=\u001b[39m {\u001b[39m1\u001b[39m,\u001b[39m2\u001b[39m,\u001b[39m3\u001b[39m}\n",
      "\u001b[0;31mNameError\u001b[0m: name 'pyo' is not defined"
     ]
    }
   ],
   "source": [
    "%reset_selective -f\n",
    "m = pyo.ConcreteModel()\n",
    "\n",
    "# Input sets\n",
    "m.J = {1,2,3}\n",
    "m.K = {1,2}\n",
    "\n",
    "# Input parameter data\n",
    "u1=[[0,0,0],\n",
    "   [0, 0, 6], \n",
    "   [0, 2, 5],\n",
    "   [0, 3, 3]]\n",
    "\n",
    "u2=[[0,0,0],\n",
    "   [0, 1, 0], \n",
    "   [0, 0, 2],\n",
    "   [0, 4, 3]]\n",
    "\n",
    "# Decision Variables\n",
    "m.U1 = pyo.Var(domain=pyo.NonNegativeReals) # Player 1's utility\n",
    "m.U2 = pyo.Var(domain=pyo.NonNegativeReals) # Player 2's utility\n",
    "m.p = pyo.Var(m.J,m.K,domain=pyo.NonNegativeReals) # p[j,k]=p1[j]*p2[k]"
   ]
  },
  {
   "cell_type": "markdown",
   "metadata": {},
   "source": [
    "<ol type=\"a\">\n",
    "  <li>\n",
    "    For this non-zero sum game, use Python/Pyomo to formulate and solve the problem of\n",
    "    finding the <i>maxmin</i> strategy for <b>Player 1</b>, allowing for mixed strategies. Discuss the\n",
    "    significance of the optimal solution\n",
    "  </li>\n",
    "</ol>\n"
   ]
  },
  {
   "cell_type": "code",
   "execution_count": 4,
   "metadata": {},
   "outputs": [
    {
     "ename": "NameError",
     "evalue": "name 'pyo' is not defined",
     "output_type": "error",
     "traceback": [
      "\u001b[0;31m---------------------------------------------------------------------------\u001b[0m",
      "\u001b[0;31mNameError\u001b[0m                                 Traceback (most recent call last)",
      "Cell \u001b[0;32mIn[4], line 2\u001b[0m\n\u001b[1;32m      1\u001b[0m \u001b[39m# Model  \u001b[39;00m\n\u001b[0;32m----> 2\u001b[0m m\u001b[39m.\u001b[39mobj_p1_maxmin \u001b[39m=\u001b[39m pyo\u001b[39m.\u001b[39mObjective(expr \u001b[39m=\u001b[39m m\u001b[39m.\u001b[39mU1, sense \u001b[39m=\u001b[39m pyo\u001b[39m.\u001b[39mmaximize)\n\u001b[1;32m      3\u001b[0m m\u001b[39m.\u001b[39mUtilityForPlayer1\u001b[39m=\u001b[39m pyo\u001b[39m.\u001b[39mConstraint(expr\u001b[39m=\u001b[39m m\u001b[39m.\u001b[39mU1\u001b[39m==\u001b[39m\u001b[39msum\u001b[39m(\u001b[39msum\u001b[39m(m\u001b[39m.\u001b[39mp[j,k]\u001b[39m*\u001b[39mu1[j][k] \u001b[39mfor\u001b[39;00m j \u001b[39min\u001b[39;00m m\u001b[39m.\u001b[39mJ) \u001b[39mfor\u001b[39;00m k \u001b[39min\u001b[39;00m m\u001b[39m.\u001b[39mK))\n\u001b[1;32m      4\u001b[0m m\u001b[39m.\u001b[39mUtilityForPlayer2\u001b[39m=\u001b[39m pyo\u001b[39m.\u001b[39mConstraint(expr\u001b[39m=\u001b[39m m\u001b[39m.\u001b[39mU2\u001b[39m==\u001b[39m\u001b[39msum\u001b[39m(\u001b[39msum\u001b[39m(m\u001b[39m.\u001b[39mp[j,k]\u001b[39m*\u001b[39mu2[j][k] \u001b[39mfor\u001b[39;00m j \u001b[39min\u001b[39;00m m\u001b[39m.\u001b[39mJ) \u001b[39mfor\u001b[39;00m k \u001b[39min\u001b[39;00m m\u001b[39m.\u001b[39mK))\n",
      "\u001b[0;31mNameError\u001b[0m: name 'pyo' is not defined"
     ]
    }
   ],
   "source": [
    "# Model  \n",
    "m.obj_p1_maxmin = pyo.Objective(expr = m.U1, sense = pyo.maximize)\n",
    "m.UtilityForPlayer1= pyo.Constraint(expr= m.U1==sum(sum(m.p[j,k]*u1[j][k] for j in m.J) for k in m.K))\n",
    "m.UtilityForPlayer2= pyo.Constraint(expr= m.U2==sum(sum(m.p[j,k]*u2[j][k] for j in m.J) for k in m.K))\n",
    "m.NEcriteriaP1=pyo.ConstraintList()\n",
    "for j in m.J:\n",
    "    for jp in m.J:\n",
    "        if jp!=j:\n",
    "            m.NEcriteriaP1.add(sum(m.p[j,k]*u1[j][k] for k in m.K) >= sum(m.p[j,k]*u1[jp][k] for k in m.K))\n",
    "m.NEcriteriaP2=pyo.ConstraintList()\n",
    "for k in m.K:\n",
    "    for kp in m.K:\n",
    "        if kp!=k:\n",
    "            m.NEcriteriaP2.add(sum(m.p[j,k]*u2[j][k] for j in m.J) >= sum(m.p[j,k]*u2[j][kp] for j in m.J))\n",
    "m.ProbabilityDistribution= pyo.Constraint(expr= sum(sum(m.p[j,k] for j in m.J) for k in m.K)==1)\n",
    "                      \n",
    "# Solve model\n",
    "results=pyo.SolverFactory('glpk').solve(m,tee=False)\n",
    "\n",
    "# Output results\n",
    "print('U1 = %.3f' % pyo.value(m.U1))   \n",
    "print('U2 = %.3f' % pyo.value(m.U2)) \n",
    "\n",
    "for j in m.J:\n",
    "    for k in m.K:\n",
    "        print('p(',j,',',k,') = %.3f' % pyo.value(m.p[j,k]))"
   ]
  },
  {
   "cell_type": "markdown",
   "metadata": {},
   "source": [
    "<ol type=\"a\" start=\"2\">\n",
    "  <li>\n",
    "    For this non-zero sum game, use Python/Pyomo to formulate and solve the problem of\n",
    "    finding the <i>maxmin</i> strategy for <b>Player 2</b>, allowing for mixed strategies. Discuss the\n",
    "    significance of the optimal solution.\n",
    "  </li>\n",
    "</ol>"
   ]
  },
  {
   "cell_type": "code",
   "execution_count": null,
   "metadata": {},
   "outputs": [],
   "source": []
  },
  {
   "cell_type": "markdown",
   "metadata": {},
   "source": [
    "2. **Discriminating among Nash Equilibria with the LCP formulation**. Consider the two-player\n",
    "normal form game depicted in Figure 4.1 of the textbook (and shown below), as well as the\n",
    "file *\"OPER 618 - Homework 3 - Problem 2 - LCP System of Equations.py\"* posted on Canvas.\n",
    "\n",
    "<div style=\"margin-left: auto;\n",
    "            margin-right: auto;\n",
    "            width: 30%\">\n",
    "\n",
    "|              |       | Player 2 |       |\n",
    "|:------------:|:-----:|:--------:|:-----:|\n",
    "|              |       |   $k_1$  | $k_2$ |\n",
    "|              | $j_1$ |   0, 1   |  6, 0 |\n",
    "| **Player 1** | $j_2$ |   2, 0   |  5, 2 |\n",
    "|              | $j_3$ |   3, 4   |  3, 3 |\n",
    "\n",
    "</div>\n",
    "\n",
    "As formulated, the Python/Pyomo Concrete Model finds the Nash equilibrium $s = (s_1, s_2) = \\left((0.67,0.33,0), (0.33, 0.67)\\right)$ \n",
    "with expected payoffs of $(u_1, u_2) = (4, 0.67)$.\n",
    "However, this is only one of the three Nash equilibria, and it doesn't seem to be a very\n",
    "desirable one... at least not for Player 2."
   ]
  },
  {
   "cell_type": "code",
   "execution_count": null,
   "metadata": {},
   "outputs": [],
   "source": [
    "%reset -f\n",
    "m = pyo.ConcreteModel()\n",
    "\n",
    "# Input sets\n",
    "m.J = {1,2,3}\n",
    "m.K = {1,2}\n",
    "\n",
    "# Input parameter data\n",
    "u1=[[0,0,0],\n",
    "   [0, 0, 6], \n",
    "   [0, 2, 5],\n",
    "   [0, 3, 3]]\n",
    "\n",
    "u2=[[0,0,0],\n",
    "   [0, 1, 0], \n",
    "   [0, 0, 2],\n",
    "   [0, 4, 3]]\n",
    "\n",
    "# Decision Variables\n",
    "m.U1 = pyo.Var(domain=pyo.NonNegativeReals) # Player 1's utility\n",
    "m.U2 = pyo.Var(domain=pyo.NonNegativeReals) # Player 2's utility\n",
    "m.p = pyo.Var(m.J,m.K,domain=pyo.NonNegativeReals) # p[j,k]=p1[j]*p2[k]"
   ]
  },
  {
   "cell_type": "markdown",
   "metadata": {},
   "source": [
    "<ol type=\"a\">\n",
    "  <li>\n",
    "    Modify and solve the Python/Pyomo formulation to find the Nash equilibrium that\n",
    "    <u>minimizes the maximum difference in the players' utilities</u>.\n",
    "  </li>\n",
    "</ol>"
   ]
  },
  {
   "cell_type": "markdown",
   "metadata": {},
   "source": [
    "<ol type=\"a\" start=\"2\">\n",
    "  <li>\n",
    "    Modify and solve the Python/Pyomo formulation with an objective function that will\n",
    "    find the remaining Nash equilibrium. Discuss the merits of your approach as it pertains\n",
    "    to generalizability for other two-player games.\n",
    "  </li>\n",
    "</ol>"
   ]
  },
  {
   "cell_type": "markdown",
   "metadata": {},
   "source": [
    "<ol type=\"a\" start=\"3\">\n",
    "  <li>\n",
    "    Discuss method one could implement to find <u>all</u> Nash equilibria using the LCP formulation.\n",
    "  </li>\n",
    "</ol>"
   ]
  },
  {
   "cell_type": "markdown",
   "metadata": {},
   "source": [
    "### Normal form game used for Problems 3, 4, & 5. \n",
    "Consider the two-player normal form game depicted below, which is a modified form of \"Chicken\".\n",
    "\n",
    "<div style=\"margin-left: auto;\n",
    "            margin-right: auto;\n",
    "            width: 30%\">\n",
    "\n",
    "|              |       | Player 2 |       |\n",
    "|:------------:|:-----:|:--------:|:-----:|\n",
    "|              |       |   $k_1$  | $k_2$ |\n",
    "| **Player 1** | $j_1$ |   0, 0   |  9, 3 |\n",
    "|              | $j_2$ |   3, 9   |  7, 7 |\n",
    "\n",
    "</div>\n",
    "The following figure (Duffy and Feltovich, 2010) shows the possible payoffs for Player 1 and\n",
    "Player 2, wherein the respective regions of feasible payoffs, correlated equilibrium payoffs,\n",
    "and Nash equilibrium payoffs are depicted with the indicated letter(s)."
   ]
  },
  {
   "cell_type": "markdown",
   "metadata": {},
   "source": [
    "![](https://www.mathworks.com/matlabcentral/mlc-downloads/downloads/e568cfd1-4a80-11e4-9553-005056977bd0/66a2877e-5aac-4a1d-b090-5035e35db9b2/images/screenshot.gif)"
   ]
  },
  {
   "cell_type": "markdown",
   "metadata": {},
   "source": [
    "3. **Correlated Equilibria and Nash Equilibria**. Consider the Python/Pyomo models in the following files, which correspond to the two functional representations in Section 4.6.\n",
    "    - *OPER 618 - Homework 3 - Problem 3 - Correlated Equilibrium (LP) - Chicken.py*\n",
    "    - *OPER 618 - Homework 3 - Problem 3 - Nash Equilibrium (NLP) - Chicken.py*\n",
    "\n",
    "    Modify the objective function(s) and resolve the model(s) as necessary to identify (a) the\n",
    "    four correlated equilibria corresponding to the extreme points of the region of correlated\n",
    "    equilibria payoff pairs from the diagram and (b) the three correlated equilibria\n",
    "    corresponding to the three Nash equilibria corresponding to the extreme points of the\n",
    "    region of NE payoff pairs from the diagram."
   ]
  },
  {
   "cell_type": "markdown",
   "metadata": {},
   "source": [
    "4. **The Region of Correlated Equilibria**. Identify a correlated equilibrium yielding a pair of\n",
    "payoffs in the region $B_l$ (i.e., the region of correlated equilibria that are not Nash equilibria\n",
    "and have lower-than-NE payoffs), as well as a correlated equilibrium yielding a pair of\n",
    "payoffs in the region $B_h$."
   ]
  },
  {
   "cell_type": "markdown",
   "metadata": {},
   "source": [
    "5. **Unstable Solutions**. Show that the solution corresponding to the joint payoffs of $(7,7)$ is\n",
    "neither a correlated equilibrium nor a Nash equilibrium."
   ]
  }
 ],
 "metadata": {
  "kernelspec": {
   "display_name": "Python 3",
   "language": "python",
   "name": "python3"
  },
  "language_info": {
   "codemirror_mode": {
    "name": "ipython",
    "version": 3
   },
   "file_extension": ".py",
   "mimetype": "text/x-python",
   "name": "python",
   "nbconvert_exporter": "python",
   "pygments_lexer": "ipython3",
   "version": "3.9.6"
  },
  "orig_nbformat": 4
 },
 "nbformat": 4,
 "nbformat_minor": 2
}
