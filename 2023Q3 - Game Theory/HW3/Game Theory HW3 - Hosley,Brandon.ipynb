{
 "cells": [
  {
   "cell_type": "markdown",
   "metadata": {},
   "source": [
    "# OPER 618 Game Theory and Math Programming\n",
    "## Homework #3 - Computing Concepts for Normal Form Games\n",
    "## Hosley, Brandon"
   ]
  },
  {
   "cell_type": "code",
   "execution_count": 28,
   "metadata": {},
   "outputs": [],
   "source": [
    "import pyomo.environ as pyo\n",
    "import itertools\n",
    "\n",
    "#max(m.p.extract_values().values())\n",
    "#max(m.p, key=m.p.extract_values().get)"
   ]
  },
  {
   "cell_type": "markdown",
   "metadata": {},
   "source": [
    "1. **Maxmin Strategies**. Consider the two-player normal form game depicted in Figure 4.1 of\n",
    "the textbook (and shown below), as well as the file *\"OPER 618 - Homework 3 - Problem 1 -\n",
    "Sets and Parameters.py\"* posted on Canvas.\n",
    "\n",
    "<div style=\"margin-left: auto;\n",
    "            margin-right: auto;\n",
    "            width: 30%\">\n",
    "\n",
    "|              |       | Player 2 |       |\n",
    "|:------------:|:-----:|:--------:|:-----:|\n",
    "|              |       |   $k_1$  | $k_2$ |\n",
    "|              | $j_1$ |   0, 1   |  6, 0 |\n",
    "| **Player 1** | $j_2$ |   2, 0   |  5, 2 |\n",
    "|              | $j_3$ |   3, 4   |  3, 3 |\n",
    "\n",
    "</div>"
   ]
  },
  {
   "cell_type": "markdown",
   "metadata": {},
   "source": [
    "<ol type=\"a\">\n",
    "  <li>\n",
    "    For this non-zero sum game, use Python/Pyomo to formulate and solve the problem of\n",
    "    finding the <i>maxmin</i> strategy for <b>Player 1</b>, allowing for mixed strategies. Discuss the\n",
    "    significance of the optimal solution\n",
    "  </li>\n",
    "</ol>\n"
   ]
  },
  {
   "cell_type": "code",
   "execution_count": 2,
   "metadata": {},
   "outputs": [
    {
     "name": "stdout",
     "output_type": "stream",
     "text": [
      "U1 = 3.000\n",
      "p( 1 ) = 0.000\n",
      "p( 2 ) = 0.000\n",
      "p( 3 ) = 1.000\n"
     ]
    }
   ],
   "source": [
    "def problem1_a():\n",
    "    m = pyo.ConcreteModel()\n",
    "\n",
    "    # Input sets\n",
    "    m.J = {1,2,3}\n",
    "    m.K = {1,2}\n",
    "\n",
    "    # Input parameter data\n",
    "    u1=[[0,0,0],\n",
    "    [0, 0, 6], \n",
    "    [0, 2, 5],\n",
    "    [0, 3, 3]]\n",
    "\n",
    "    # Decision Variables\n",
    "    m.U1 = pyo.Var(domain=pyo.NonNegativeReals) # Player 1's utility\n",
    "    m.p1 = pyo.Var(m.J,domain=pyo.NonNegativeReals) # p[j,k]=p1[j]*p2[k]\n",
    "\n",
    "    # Model  \n",
    "    m.objfnvalue = pyo.Objective(expr = m.U1, sense = pyo.maximize)\n",
    "    m.MincriteriaP1=pyo.ConstraintList()\n",
    "    for k in m.K:\n",
    "        m.MincriteriaP1.add(sum(u1[j][k]*m.p1[j] for j in m.J) >= m.U1)\n",
    "    \n",
    "    m.ProbabilityDistribution= pyo.Constraint(expr= sum(m.p1[j] for j in m.J)==1)\n",
    "                        \n",
    "    # Solve model\n",
    "    pyo.SolverFactory('glpk').solve(m,tee=False)\n",
    "\n",
    "    # Output results\n",
    "    print('U1 = %.3f' % pyo.value(m.U1))\n",
    "\n",
    "    for j in m.J:\n",
    "        print('p(',j,') = %.3f' % pyo.value(m.p1[j]))\n",
    "\n",
    "problem1_a()"
   ]
  },
  {
   "cell_type": "markdown",
   "metadata": {},
   "source": [
    "This solution shows that Player 1 will always choose $j_3$ under the maxmin strategy. Unsuprising, as they are gauranteed to have a utility no less than 3."
   ]
  },
  {
   "cell_type": "markdown",
   "metadata": {},
   "source": [
    "<ol type=\"a\" start=\"2\">\n",
    "  <li>\n",
    "    For this non-zero sum game, use Python/Pyomo to formulate and solve the problem of\n",
    "    finding the <i>maxmin</i> strategy for <b>Player 2</b>, allowing for mixed strategies. Discuss the\n",
    "    significance of the optimal solution.\n",
    "  </li>\n",
    "</ol>"
   ]
  },
  {
   "cell_type": "code",
   "execution_count": 3,
   "metadata": {},
   "outputs": [
    {
     "name": "stdout",
     "output_type": "stream",
     "text": [
      "U2 = 0.667\n",
      "p( 1 ) = 0.667\n",
      "p( 2 ) = 0.333\n"
     ]
    }
   ],
   "source": [
    "def problem1_b():\n",
    "    m = pyo.ConcreteModel()\n",
    "\n",
    "    # Input sets\n",
    "    m.J = {1,2,3}\n",
    "    m.K = {1,2}\n",
    "\n",
    "    # Input parameter data\n",
    "    u2=[[0,0,0],\n",
    "    [0, 1, 0], \n",
    "    [0, 0, 2],\n",
    "    [0, 4, 3]]\n",
    "\n",
    "    # Decision Variables\n",
    "    m.U2 = pyo.Var(domain=pyo.NonNegativeReals) # Player 2's utility\n",
    "    m.p2 = pyo.Var(m.K,domain=pyo.NonNegativeReals) # p[j,k]=p1[j]*p2[k]\n",
    "\n",
    "    # Model  \n",
    "    m.objfnvalue = pyo.Objective(expr = m.U2, sense = pyo.maximize)\n",
    "    m.MincriteriaP2=pyo.ConstraintList()\n",
    "    for j in m.J:\n",
    "        m.MincriteriaP2.add(sum(u2[j][k]*m.p2[k] for k in m.K) >= m.U2)\n",
    "    \n",
    "    m.ProbabilityDistribution= pyo.Constraint(expr= sum(m.p2[k] for k in m.K)==1)\n",
    "\n",
    "    # Solve model\n",
    "    pyo.SolverFactory('glpk').solve(m,tee=False)\n",
    "\n",
    "    # Output results\n",
    "    print('U2 = %.3f' % pyo.value(m.U2)) \n",
    "\n",
    "    for k in m.K:\n",
    "        print('p(',k,') = %.3f' % pyo.value(m.p2[k]))\n",
    "\n",
    "problem1_b()"
   ]
  },
  {
   "cell_type": "markdown",
   "metadata": {},
   "source": [
    "Because both of Player 2's choices have equal minimums and neither is (weakly) dominant, a pure strategy does not exist.\n",
    "As a result pyomo returns a solution in which the minimum non-zero expected results are equal. "
   ]
  },
  {
   "cell_type": "markdown",
   "metadata": {},
   "source": [
    "2. **Discriminating among Nash Equilibria with the LCP formulation**. Consider the two-player\n",
    "normal form game depicted in Figure 4.1 of the textbook (and shown below), as well as the\n",
    "file *\"OPER 618 - Homework 3 - Problem 2 - LCP System of Equations.py\"* posted on Canvas.\n",
    "\n",
    "<div style=\"margin-left: auto;\n",
    "            margin-right: auto;\n",
    "            width: 30%\">\n",
    "\n",
    "|              |       | Player 2 |       |\n",
    "|:------------:|:-----:|:--------:|:-----:|\n",
    "|              |       |   $k_1$  | $k_2$ |\n",
    "|              | $j_1$ |   0, 1   |  6, 0 |\n",
    "| **Player 1** | $j_2$ |   2, 0   |  5, 2 |\n",
    "|              | $j_3$ |   3, 4   |  3, 3 |\n",
    "\n",
    "</div>\n",
    "\n",
    "As formulated, the Python/Pyomo Concrete Model finds the Nash equilibrium $s = (s_1, s_2) = \\left((0.67,0.33,0), (0.33, 0.67)\\right)$ \n",
    "with expected payoffs of $(u_1, u_2) = (4, 0.67)$.\n",
    "However, this is only one of the three Nash equilibria, and it doesn't seem to be a very\n",
    "desirable one... at least not for Player 2."
   ]
  },
  {
   "cell_type": "markdown",
   "metadata": {},
   "source": [
    "<ol type=\"a\">\n",
    "  <li>\n",
    "    Modify and solve the Python/Pyomo formulation to find the Nash equilibrium that\n",
    "    <u>minimizes the maximum difference in the players' utilities</u>.\n",
    "  </li>\n",
    "</ol>"
   ]
  },
  {
   "cell_type": "code",
   "execution_count": 35,
   "metadata": {},
   "outputs": [
    {
     "name": "stdout",
     "output_type": "stream",
     "text": [
      "Difference = -0.000\n",
      "U1 = 6.247\n",
      "s1( 1 ) = 0.219\n",
      "s1( 2 ) = 0.247\n",
      "s1( 3 ) = 0.534\n",
      "U2 = 5.000\n",
      "s2( 1 ) = 0.284\n",
      "s2( 2 ) = 0.716\n"
     ]
    }
   ],
   "source": [
    "def problem2_a():\n",
    "   m = pyo.ConcreteModel()\n",
    "\n",
    "   # Input sets\n",
    "   m.J = {1,2,3}\n",
    "   m.K = {1,2}\n",
    "\n",
    "   # Input parameter data\n",
    "   u1=[[0,0,0],\n",
    "      [0, 0, 6], \n",
    "      [0, 2, 5],\n",
    "      [0, 3, 3]]\n",
    "   u2=[[0,0,0],\n",
    "      [0, 1, 0], \n",
    "      [0, 0, 2],\n",
    "      [0, 4, 3]]\n",
    "\n",
    "   # Decision Variables\n",
    "   m.U1 = pyo.Var(domain=pyo.Reals) # Player 1's utility\n",
    "   m.U2 = pyo.Var(domain=pyo.Reals) # Player 2's utility\n",
    "   m.s1 = pyo.Var(m.J,domain=pyo.NonNegativeReals) # s1[j] is the probabilty that Player 1 plays action j\n",
    "   m.r1 = pyo.Var(m.J,domain=pyo.NonNegativeReals) # Player 1's slack variable associated with the utility of playing action j \n",
    "   m.s2 = pyo.Var(m.K,domain=pyo.NonNegativeReals) # s2[k] is the probabilty that Player 2 plays action k\n",
    "   m.r2 = pyo.Var(m.K,domain=pyo.NonNegativeReals) # Player 2's slack variable associated with the utility of playing action k \n",
    "   m.z = pyo.Var(domain=pyo.NonNegativeReals) # A dummy variable to serve as the objective function\n",
    "   \n",
    "   # Model (Formulation from page 91 of the text)\n",
    "   m.objfnvalue = pyo.Objective(expr = m.z, sense = pyo.minimize)\n",
    "   m.UtilityForPlayer1=pyo.ConstraintList()\n",
    "   for j in m.J:\n",
    "      m.UtilityForPlayer1.add(sum(u1[j][k]*m.s2[k] for k in m.K) + m.r1[j] >= m.z)\n",
    "      #m.UtilityForPlayer1.add(sum(u1[j][k]*m.s2[k] for k in m.K) + m.r1[j] == m.U1)\n",
    "   m.UtilityForPlayer2=pyo.ConstraintList()\n",
    "   for k in m.K:\n",
    "      m.UtilityForPlayer2.add(sum(u2[j][k]*m.s1[j] for j in m.J) + m.r2[k] >= m.z)\n",
    "      #m.UtilityForPlayer2.add(sum(u2[j][k]*m.s1[j] for j in m.J) + m.r2[k] == m.U2)\n",
    "   m.ProbabilityDistributionForP1 = pyo.Constraint(expr = sum(m.s1[j] for j in m.J) == 1)   \n",
    "   m.ProbabilityDistributionForP2 = pyo.Constraint(expr = sum(m.s2[k] for k in m.K) == 1)                         \n",
    "   m.ComplementarySlacknessForPlayer1=pyo.ConstraintList()\n",
    "   for j in m.J:\n",
    "      m.ComplementarySlacknessForPlayer1.add(m.s1[j]*m.r1[j] == 0)\n",
    "   m.ComplementarySlacknessForPlayer2=pyo.ConstraintList()\n",
    "   for k in m.K:\n",
    "      m.ComplementarySlacknessForPlayer2.add(m.s2[k]*m.r2[k] == 0)\n",
    "\n",
    "   # Solve model\n",
    "   pyo.SolverFactory('ipopt').solve(m,tee=False)\n",
    "\n",
    "   # Output results\n",
    "   print('Difference = %.3f' % pyo.value(m.z))\n",
    "   \n",
    "   m.U1 = sum(u1[j][k]*m.s1[j] for k,j in list(itertools.product(m.K,m.J)))\n",
    "   print('U1 = %.3f' % pyo.value(m.U1))\n",
    "   for j in m.J:\n",
    "      print('s1(',j,') = %.3f' % pyo.value(m.s1[j]))\n",
    "      \n",
    "   m.U2 = sum(u2[j][k]*m.s2[k] for k,j in list(itertools.product(m.K,m.J)))\n",
    "   print('U2 = %.3f' % pyo.value(m.U2))    \n",
    "   for k in m.K:\n",
    "      print('s2(',k,') = %.3f' % pyo.value(m.s2[k]))\n",
    "\n",
    "problem2_a()"
   ]
  },
  {
   "cell_type": "markdown",
   "metadata": {},
   "source": [
    "<ol type=\"a\" start=\"2\">\n",
    "  <li>\n",
    "    Modify and solve the Python/Pyomo formulation with an objective function that will\n",
    "    find the remaining Nash equilibrium. Discuss the merits of your approach as it pertains\n",
    "    to generalizability for other two-player games.\n",
    "  </li>\n",
    "</ol>"
   ]
  },
  {
   "cell_type": "code",
   "execution_count": 58,
   "metadata": {},
   "outputs": [
    {
     "name": "stdout",
     "output_type": "stream",
     "text": [
      "U1 = 3.000\n",
      "s1( 1 ) = 0.667\n",
      "s1( 2 ) = 0.333\n",
      "s1( 3 ) = -0.000\n",
      "U2 = 0.667\n",
      "s2( 1 ) = 0.328\n",
      "s2( 2 ) = 0.672\n"
     ]
    }
   ],
   "source": [
    "def problem2_b():\n",
    "   m = pyo.ConcreteModel()\n",
    "\n",
    "   # Input sets\n",
    "   m.J = {1,2,3}\n",
    "   m.K = {1,2}\n",
    "\n",
    "   # Input parameter data\n",
    "   u1=[[0,0,0],\n",
    "      [0, 0, 6], \n",
    "      [0, 2, 5],\n",
    "      [0, 3, 3]]\n",
    "   u2=[[0,0,0],\n",
    "      [0, 1, 0], \n",
    "      [0, 0, 2],\n",
    "      [0, 4, 3]]\n",
    "\n",
    "   # Decision Variables\n",
    "   m.U1 = pyo.Var(domain=pyo.Reals) # Player 1's utility\n",
    "   m.U2 = pyo.Var(domain=pyo.Reals) # Player 2's utility\n",
    "   m.s1 = pyo.Var(m.J,domain=pyo.NonNegativeReals) # s1[j] is the probabilty that Player 1 plays action j\n",
    "   m.r1 = pyo.Var(m.J,domain=pyo.NonNegativeReals) # Player 1's slack variable associated with the utility of playing action j \n",
    "   m.s2 = pyo.Var(m.K,domain=pyo.NonNegativeReals) # s2[k] is the probabilty that Player 2 plays action k\n",
    "   m.r2 = pyo.Var(m.K,domain=pyo.NonNegativeReals) # Player 2's slack variable associated with the utility of playing action k \n",
    "   m.z = pyo.Var(domain=pyo.NonNegativeReals) # A dummy variable to serve as the objective function\n",
    "   \n",
    "   # Model (Formulation from page 91 of the text)\n",
    "   #m.objfnvalue1 = pyo.Objective(expr = m.U1, sense = pyo.maximize)\n",
    "   #m.objfnvalue2 = pyo.Objective(expr = m.U2, sense = pyo.minimize)\n",
    "   m.objfnvalue = pyo.Objective(expr = m.U2, sense = pyo.minimize)\n",
    "\n",
    "   m.UtilityForPlayer1=pyo.ConstraintList()\n",
    "   for k in m.K:\n",
    "      m.UtilityForPlayer1.add(sum(u1[j][k]*m.s1[j] for j in m.J) >= m.U1)\n",
    "\n",
    "   m.UtilityForPlayer2=pyo.ConstraintList()\n",
    "   for j in m.J:\n",
    "      m.UtilityForPlayer2.add(sum(u2[j][k]*m.s2[k] for k in m.K) >= m.U2)\n",
    "\n",
    "   m.ProbabilityDistributionForP1 = pyo.Constraint(expr = sum(m.s1[j] for j in m.J) == 1)   \n",
    "   m.ProbabilityDistributionForP2 = pyo.Constraint(expr = sum(m.s2[k] for k in m.K) == 1)                         \n",
    "\n",
    "   # Solve model\n",
    "   results=pyo.SolverFactory('ipopt').solve(m,tee=False)\n",
    "\n",
    "   # Output results\n",
    "   print('U1 = %.3f' % pyo.value(m.U1)) \n",
    "   for j in m.J:\n",
    "      print('s1(',j,') = %.3f' % pyo.value(m.s1[j]))\n",
    "   print('U2 = %.3f' % pyo.value(m.U2))    \n",
    "   for k in m.K:\n",
    "      print('s2(',k,') = %.3f' % pyo.value(m.s2[k]))\n",
    "\n",
    "problem2_b()"
   ]
  },
  {
   "cell_type": "markdown",
   "metadata": {},
   "source": [
    "<ol type=\"a\" start=\"3\">\n",
    "  <li>\n",
    "    Discuss method one could implement to find <u>all</u> Nash equilibria using the LCP formulation.\n",
    "  </li>\n",
    "</ol>"
   ]
  },
  {
   "cell_type": "markdown",
   "metadata": {},
   "source": [
    "### Normal form game used for Problems 3, 4, & 5. \n",
    "Consider the two-player normal form game depicted below, which is a modified form of \"Chicken\".\n",
    "\n",
    "<div style=\"margin-left: auto;\n",
    "            margin-right: auto;\n",
    "            width: 30%\">\n",
    "\n",
    "|              |       | Player 2 |       |\n",
    "|:------------:|:-----:|:--------:|:-----:|\n",
    "|              |       |   $k_1$  | $k_2$ |\n",
    "| **Player 1** | $j_1$ |   0, 0   |  9, 3 |\n",
    "|              | $j_2$ |   3, 9   |  7, 7 |\n",
    "\n",
    "</div>\n",
    "The following figure (Duffy and Feltovich, 2010) shows the possible payoffs for Player 1 and\n",
    "Player 2, wherein the respective regions of feasible payoffs, correlated equilibrium payoffs,\n",
    "and Nash equilibrium payoffs are depicted with the indicated letter(s)."
   ]
  },
  {
   "cell_type": "markdown",
   "metadata": {},
   "source": [
    "![](https://www.mathworks.com/matlabcentral/mlc-downloads/downloads/e568cfd1-4a80-11e4-9553-005056977bd0/66a2877e-5aac-4a1d-b090-5035e35db9b2/images/screenshot.gif)"
   ]
  },
  {
   "cell_type": "markdown",
   "metadata": {},
   "source": [
    "3. **Correlated Equilibria and Nash Equilibria**. Consider the Python/Pyomo models in the following files, which correspond to the two functional representations in Section 4.6.\n",
    "    - *OPER 618 - Homework 3 - Problem 3 - Correlated Equilibrium (LP) - Chicken.py*\n",
    "    - *OPER 618 - Homework 3 - Problem 3 - Nash Equilibrium (NLP) - Chicken.py*\n",
    "\n",
    "    Modify the objective function(s) and resolve the model(s) as necessary to identify (a) the\n",
    "    four correlated equilibria corresponding to the extreme points of the region of correlated\n",
    "    equilibria payoff pairs from the diagram and (b) the three correlated equilibria\n",
    "    corresponding to the three Nash equilibria corresponding to the extreme points of the\n",
    "    region of NE payoff pairs from the diagram."
   ]
  },
  {
   "cell_type": "markdown",
   "metadata": {},
   "source": [
    "4. **The Region of Correlated Equilibria**. Identify a correlated equilibrium yielding a pair of\n",
    "payoffs in the region $B_l$ (i.e., the region of correlated equilibria that are not Nash equilibria\n",
    "and have lower-than-NE payoffs), as well as a correlated equilibrium yielding a pair of\n",
    "payoffs in the region $B_h$."
   ]
  },
  {
   "cell_type": "markdown",
   "metadata": {},
   "source": [
    "5. **Unstable Solutions**. Show that the solution corresponding to the joint payoffs of $(7,7)$ is\n",
    "neither a correlated equilibrium nor a Nash equilibrium."
   ]
  }
 ],
 "metadata": {
  "kernelspec": {
   "display_name": "Python 3",
   "language": "python",
   "name": "python3"
  },
  "language_info": {
   "codemirror_mode": {
    "name": "ipython",
    "version": 3
   },
   "file_extension": ".py",
   "mimetype": "text/x-python",
   "name": "python",
   "nbconvert_exporter": "python",
   "pygments_lexer": "ipython3",
   "version": "3.9.6"
  },
  "orig_nbformat": 4
 },
 "nbformat": 4,
 "nbformat_minor": 2
}
