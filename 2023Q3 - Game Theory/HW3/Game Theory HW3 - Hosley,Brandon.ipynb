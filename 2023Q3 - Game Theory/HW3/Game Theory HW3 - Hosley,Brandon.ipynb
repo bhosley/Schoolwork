{
 "cells": [
  {
   "cell_type": "markdown",
   "metadata": {},
   "source": [
    "# OPER 618 Game Theory and Math Programming\n",
    "## Homework #3 - Computing Concepts for Normal Form Games\n",
    "## Hosley, Brandon"
   ]
  },
  {
   "cell_type": "code",
   "execution_count": 1,
   "metadata": {},
   "outputs": [],
   "source": [
    "import pyomo.environ as pyo\n",
    "import itertools"
   ]
  },
  {
   "cell_type": "markdown",
   "metadata": {},
   "source": [
    "1. **Maxmin Strategies**. Consider the two-player normal form game depicted in Figure 4.1 of\n",
    "the textbook (and shown below), as well as the file *\"OPER 618 - Homework 3 - Problem 1 -\n",
    "Sets and Parameters.py\"* posted on Canvas.\n",
    "\n",
    "<div style=\"margin-left: auto;\n",
    "            margin-right: auto;\n",
    "            width: 30%\">\n",
    "\n",
    "|              |       | Player 2 |       |\n",
    "|:------------:|:-----:|:--------:|:-----:|\n",
    "|              |       |   $k_1$  | $k_2$ |\n",
    "|              | $j_1$ |   0, 1   |  6, 0 |\n",
    "| **Player 1** | $j_2$ |   2, 0   |  5, 2 |\n",
    "|              | $j_3$ |   3, 4   |  3, 3 |\n",
    "\n",
    "</div>"
   ]
  },
  {
   "cell_type": "markdown",
   "metadata": {},
   "source": [
    "<ol type=\"a\">\n",
    "  <li>\n",
    "    For this non-zero sum game, use Python/Pyomo to formulate and solve the problem of\n",
    "    finding the <i>maxmin</i> strategy for <b>Player 1</b>, allowing for mixed strategies. Discuss the\n",
    "    significance of the optimal solution\n",
    "  </li>\n",
    "</ol>\n"
   ]
  },
  {
   "cell_type": "code",
   "execution_count": 2,
   "metadata": {},
   "outputs": [
    {
     "name": "stdout",
     "output_type": "stream",
     "text": [
      "U1 = 3.000\n",
      "p( 1 ) = 0.000\n",
      "p( 2 ) = 0.000\n",
      "p( 3 ) = 1.000\n"
     ]
    }
   ],
   "source": [
    "def problem1_a():\n",
    "    m = pyo.ConcreteModel()\n",
    "\n",
    "    # Input sets\n",
    "    m.J = {1,2,3}\n",
    "    m.K = {1,2}\n",
    "\n",
    "    # Input parameter data\n",
    "    u1=[[0,0,0],\n",
    "    [0, 0, 6], \n",
    "    [0, 2, 5],\n",
    "    [0, 3, 3]]\n",
    "\n",
    "    # Decision Variables\n",
    "    m.U1 = pyo.Var(domain=pyo.NonNegativeReals) # Player 1's utility\n",
    "    m.p1 = pyo.Var(m.J,domain=pyo.NonNegativeReals) # p[j,k]=p1[j]*p2[k]\n",
    "\n",
    "    # Model  \n",
    "    m.objfnvalue = pyo.Objective(expr = m.U1, sense = pyo.maximize)\n",
    "    m.MincriteriaP1=pyo.ConstraintList()\n",
    "    for k in m.K:\n",
    "        m.MincriteriaP1.add(sum(u1[j][k]*m.p1[j] for j in m.J) >= m.U1)\n",
    "    \n",
    "    m.ProbabilityDistribution= pyo.Constraint(expr= sum(m.p1[j] for j in m.J)==1)\n",
    "                        \n",
    "    # Solve model\n",
    "    pyo.SolverFactory('glpk').solve(m,tee=False)\n",
    "\n",
    "    # Output results\n",
    "    print('U1 = %.3f' % pyo.value(m.U1))\n",
    "\n",
    "    for j in m.J:\n",
    "        print('p(',j,') = %.3f' % pyo.value(m.p1[j]))\n",
    "\n",
    "problem1_a()"
   ]
  },
  {
   "cell_type": "markdown",
   "metadata": {},
   "source": [
    "This solution shows that Player 1 will always choose $j_3$ under the maxmin strategy. Unsuprising, as they are gauranteed to have a utility no less than 3."
   ]
  },
  {
   "cell_type": "markdown",
   "metadata": {},
   "source": [
    "<ol type=\"a\" start=\"2\">\n",
    "  <li>\n",
    "    For this non-zero sum game, use Python/Pyomo to formulate and solve the problem of\n",
    "    finding the <i>maxmin</i> strategy for <b>Player 2</b>, allowing for mixed strategies. Discuss the\n",
    "    significance of the optimal solution.\n",
    "  </li>\n",
    "</ol>"
   ]
  },
  {
   "cell_type": "code",
   "execution_count": 3,
   "metadata": {},
   "outputs": [
    {
     "name": "stdout",
     "output_type": "stream",
     "text": [
      "U2 = 0.667\n",
      "p( 1 ) = 0.667\n",
      "p( 2 ) = 0.333\n"
     ]
    }
   ],
   "source": [
    "def problem1_b():\n",
    "    m = pyo.ConcreteModel()\n",
    "\n",
    "    # Input sets\n",
    "    m.J = {1,2,3}\n",
    "    m.K = {1,2}\n",
    "\n",
    "    # Input parameter data\n",
    "    u2=[[0,0,0],\n",
    "    [0, 1, 0], \n",
    "    [0, 0, 2],\n",
    "    [0, 4, 3]]\n",
    "\n",
    "    # Decision Variables\n",
    "    m.U2 = pyo.Var(domain=pyo.NonNegativeReals) # Player 2's utility\n",
    "    m.p2 = pyo.Var(m.K,domain=pyo.NonNegativeReals) # p[j,k]=p1[j]*p2[k]\n",
    "\n",
    "    # Model  \n",
    "    m.objfnvalue = pyo.Objective(expr = m.U2, sense = pyo.maximize)\n",
    "    m.MincriteriaP2=pyo.ConstraintList()\n",
    "    for j in m.J:\n",
    "        m.MincriteriaP2.add(sum(u2[j][k]*m.p2[k] for k in m.K) >= m.U2)\n",
    "    \n",
    "    m.ProbabilityDistribution= pyo.Constraint(expr= sum(m.p2[k] for k in m.K)==1)\n",
    "\n",
    "    # Solve model\n",
    "    pyo.SolverFactory('glpk').solve(m,tee=False)\n",
    "\n",
    "    # Output results\n",
    "    print('U2 = %.3f' % pyo.value(m.U2)) \n",
    "\n",
    "    for k in m.K:\n",
    "        print('p(',k,') = %.3f' % pyo.value(m.p2[k]))\n",
    "\n",
    "problem1_b()"
   ]
  },
  {
   "cell_type": "markdown",
   "metadata": {},
   "source": [
    "Because both of Player 2's choices have equal minimums and neither is (weakly) dominant, a pure strategy does not exist.\n",
    "As a result pyomo returns a solution in which the minimum non-zero expected results are equal. "
   ]
  },
  {
   "cell_type": "markdown",
   "metadata": {},
   "source": [
    "2. **Discriminating among Nash Equilibria with the LCP formulation**. Consider the two-player\n",
    "normal form game depicted in Figure 4.1 of the textbook (and shown below), as well as the\n",
    "file *\"OPER 618 - Homework 3 - Problem 2 - LCP System of Equations.py\"* posted on Canvas.\n",
    "\n",
    "<div style=\"margin-left: auto;\n",
    "            margin-right: auto;\n",
    "            width: 30%\">\n",
    "\n",
    "|              |       | Player 2 |       |\n",
    "|:------------:|:-----:|:--------:|:-----:|\n",
    "|              |       |   $k_1$  | $k_2$ |\n",
    "|              | $j_1$ |   0, 1   |  6, 0 |\n",
    "| **Player 1** | $j_2$ |   2, 0   |  5, 2 |\n",
    "|              | $j_3$ |   3, 4   |  3, 3 |\n",
    "\n",
    "</div>\n",
    "\n",
    "As formulated, the Python/Pyomo Concrete Model finds the Nash equilibrium $s = (s_1, s_2) = \\left((0.67,0.33,0), (0.33, 0.67)\\right)$ \n",
    "with expected payoffs of $(u_1, u_2) = (4, 0.67)$.\n",
    "However, this is only one of the three Nash equilibria, and it doesn't seem to be a very\n",
    "desirable one... at least not for Player 2."
   ]
  },
  {
   "cell_type": "markdown",
   "metadata": {},
   "source": [
    "<ol type=\"a\">\n",
    "  <li>\n",
    "    Modify and solve the Python/Pyomo formulation to find the Nash equilibrium that\n",
    "    <u>minimizes the maximum difference in the players' utilities</u>.\n",
    "  </li>\n",
    "</ol>"
   ]
  },
  {
   "cell_type": "code",
   "execution_count": 25,
   "metadata": {},
   "outputs": [
    {
     "name": "stdout",
     "output_type": "stream",
     "text": [
      "WARNING: Loading a SolverResults object with a warning status into\n",
      "model.name=\"unknown\";\n",
      "    - termination condition: infeasible\n",
      "    - message from solver: Ipopt 3.14.12\\x3a Converged to a locally infeasible\n",
      "      point. Problem may be infeasible.\n",
      "U1 = 3.000\n",
      "s1( 1 ) = 0.004\n",
      "s1( 2 ) = 0.333\n",
      "s1( 3 ) = 0.662\n",
      "U2 = 2.654\n",
      "s2( 1 ) = 0.500\n",
      "s2( 2 ) = 0.500\n"
     ]
    }
   ],
   "source": [
    "def problem2_a():\n",
    "    m = pyo.ConcreteModel()\n",
    "\n",
    "    # Input sets\n",
    "    m.J = {1,2,3}\n",
    "    m.K = {1,2}\n",
    "\n",
    "    # Input parameter data\n",
    "    u1=[[0,0,0],\n",
    "    [0, 0, 6], \n",
    "    [0, 2, 5],\n",
    "    [0, 3, 3]]\n",
    "    u2=[[0,0,0],\n",
    "    [0, 1, 0], \n",
    "    [0, 0, 2],\n",
    "    [0, 4, 3]]\n",
    "\n",
    "    # Decision Variables\n",
    "    m.U1 = pyo.Var(domain=pyo.Reals) # Player 1's utility\n",
    "    m.U2 = pyo.Var(domain=pyo.Reals) # Player 2's utility\n",
    "    m.s1 = pyo.Var(m.J,domain=pyo.NonNegativeReals) # s1[j] is the probabilty that Player 1 plays action j\n",
    "    m.r1 = pyo.Var(m.J,domain=pyo.NonNegativeReals) # Player 1's slack variable associated with the utility of playing action j \n",
    "    m.s2 = pyo.Var(m.K,domain=pyo.NonNegativeReals) # s2[k] is the probabilty that Player 2 plays action k\n",
    "    m.r2 = pyo.Var(m.K,domain=pyo.NonNegativeReals) # Player 2's slack variable associated with the utility of playing action k \n",
    "    m.z = pyo.Var(domain=pyo.NonNegativeReals) # A dummy variable to serve as the objective function\n",
    "    \n",
    "    # Model (Formulation from page 91 of the text)\n",
    "    m.objfnvalue = pyo.Objective(expr = m.U2, sense = pyo.maximize)\n",
    "    m.UtilityForPlayer1=pyo.ConstraintList()\n",
    "    for j in m.J:\n",
    "        m.UtilityForPlayer1.add(sum(u1[j][k]*m.s2[k] for k in m.K)  == m.U1)\n",
    "    m.UtilityForPlayer2=pyo.ConstraintList()\n",
    "    for k in m.K:\n",
    "        m.UtilityForPlayer2.add(sum(u2[j][k]*m.s1[j] for j in m.J) == m.U2)\n",
    "\n",
    "    m.ProbabilityDistributionForP1 = pyo.Constraint(expr = sum(m.s1[j] for j in m.J) == 1)   \n",
    "    m.ProbabilityDistributionForP2 = pyo.Constraint(expr = sum(m.s2[k] for k in m.K) == 1)                         \n",
    "    m.ComplementarySlacknessForPlayer1=pyo.ConstraintList()\n",
    "    for j in m.J:\n",
    "        m.ComplementarySlacknessForPlayer1.add(m.s1[j]*m.r1[j] == 0)\n",
    "    m.ComplementarySlacknessForPlayer2=pyo.ConstraintList()\n",
    "    for k in m.K:\n",
    "        m.ComplementarySlacknessForPlayer2.add(m.s2[k]*m.r2[k] == 0)\n",
    "\n",
    "    # Solve model\n",
    "    results=pyo.SolverFactory('ipopt').solve(m,tee=False)\n",
    "\n",
    "    # Output results\n",
    "    print('U1 = %.3f' % pyo.value(m.U1)) \n",
    "    for j in m.J:\n",
    "        print('s1(',j,') = %.3f' % pyo.value(m.s1[j]))\n",
    "    print('U2 = %.3f' % pyo.value(m.U2))    \n",
    "    for k in m.K:\n",
    "        print('s2(',k,') = %.3f' % pyo.value(m.s2[k]))\n",
    "\n",
    "problem2_a()"
   ]
  },
  {
   "cell_type": "markdown",
   "metadata": {},
   "source": [
    "<ol type=\"a\" start=\"2\">\n",
    "  <li>\n",
    "    Modify and solve the Python/Pyomo formulation with an objective function that will\n",
    "    find the remaining Nash equilibrium. Discuss the merits of your approach as it pertains\n",
    "    to generalizability for other two-player games.\n",
    "  </li>\n",
    "</ol>"
   ]
  },
  {
   "cell_type": "markdown",
   "metadata": {},
   "source": [
    "For some reason this program was particularly difficult, and never seemed to behave as expected. A third Nash Equilibrium was apparent by inspection, however, giving some guidance on the expected answer. With this method I have attempted to utilize pyomo to find the optimal pure strategy, but in the process of exploring possible answers, the player two Utility often behaved counter-intuitively depending on the solver used.\n",
    "\n",
    "After an irresponsible amount of time, the closest I could get was on in which the strategy declarations are correct, but the reported utility is not. This approach is not likely to be robust, nor would I want to use it as is for any other problem."
   ]
  },
  {
   "cell_type": "code",
   "execution_count": 5,
   "metadata": {},
   "outputs": [
    {
     "name": "stdout",
     "output_type": "stream",
     "text": [
      "U1 = 3.000\n",
      "s1( 1 ) = 0.000\n",
      "s1( 2 ) = 0.000\n",
      "s1( 3 ) = 1.000\n",
      "U2 = 3.000\n",
      "s2( 1 ) = 1.000\n",
      "s2( 2 ) = 0.000\n"
     ]
    }
   ],
   "source": [
    "def problem2_b():\n",
    "    m = pyo.ConcreteModel()\n",
    "\n",
    "    # Input sets\n",
    "    m.J = {1,2,3}\n",
    "    m.K = {1,2}\n",
    "\n",
    "    # Input parameter data\n",
    "    u1=[[0,0,0],\n",
    "    [0, 0, 6], \n",
    "    [0, 2, 5],\n",
    "    [0, 3, 3]]\n",
    "    u2=[[0,0,0],\n",
    "    [0, 1, 0], \n",
    "    [0, 0, 2],\n",
    "    [0, 4, 3]]\n",
    "\n",
    "    # Decision Variables\n",
    "    m.U1 = pyo.Var(domain=pyo.Reals) # Player 1's utility\n",
    "    m.U2 = pyo.Var(domain=pyo.Reals) # Player 2's utility\n",
    "    m.s1 = pyo.Var(m.J,domain=pyo.Binary) # s1[j] is the probabilty that Player 1 plays action j\n",
    "    m.s2 = pyo.Var(m.K,domain=pyo.Binary) # s2[k] is the probabilty that Player 2 plays action k\n",
    "\n",
    "    # Model (Formulation from page 91 of the text)\n",
    "    m.objfnvalue = pyo.Objective(expr = m.U2-m.U1, sense = pyo.maximize)\n",
    "    m.UtilityForPlayer1=pyo.ConstraintList()\n",
    "    for j in m.J:\n",
    "        m.UtilityForPlayer1.add(sum(u1[j][k]*m.s2[k] for k in m.K) <= m.U1)\n",
    "\n",
    "    m.UtilityForPlayer2=pyo.ConstraintList()\n",
    "    for k in m.K:\n",
    "        m.UtilityForPlayer2.add(sum(u2[j][k]*m.s1[j] for j in m.J) >= m.U2)\n",
    "\n",
    "    m.ProbabilityDistributionForP1 = pyo.Constraint(expr = sum(m.s1[j] for j in m.J) == 1)   \n",
    "    m.ProbabilityDistributionForP2 = pyo.Constraint(expr = sum(m.s2[k] for k in m.K) == 1)                         \n",
    "\n",
    "    # Solve model\n",
    "    pyo.SolverFactory('glpk').solve(m,tee=False)\n",
    "\n",
    "    # Output results\n",
    "    print('U1 = %.3f' % pyo.value(m.U1)) \n",
    "    for j in m.J:\n",
    "        print('s1(',j,') = %.3f' % pyo.value(m.s1[j]))\n",
    "    print('U2 = %.3f' % pyo.value(m.U2))    \n",
    "    for k in m.K:\n",
    "        print('s2(',k,') = %.3f' % pyo.value(m.s2[k]))\n",
    "\n",
    "problem2_b()"
   ]
  },
  {
   "cell_type": "markdown",
   "metadata": {},
   "source": [
    "<ol type=\"a\" start=\"3\">\n",
    "  <li>\n",
    "    Discuss a method one could implement to find <u>all</u> Nash equilibria using the LCP formulation.\n",
    "  </li>\n",
    "</ol>"
   ]
  },
  {
   "cell_type": "markdown",
   "metadata": {},
   "source": [
    "An effective method to find all of the nash Equilibria using the LCP formulation would be to step through the same steps as the Lemke-Howson Algorithm. In the case of implementation within Pyomo, I believe that one method to do so would be to manually set parts of the $s$ vector to values corresponding to what may be representative of the $G\\times G$. In this particular case, ons should have been able to set a value of a strictly dominant strategy for any individual player as 1, but perhaps doing so interferes with the interior point method of ipopt. "
   ]
  },
  {
   "cell_type": "markdown",
   "metadata": {},
   "source": [
    "### Normal form game used for Problems 3, 4, & 5. \n",
    "Consider the two-player normal form game depicted below, which is a modified form of \"Chicken\".\n",
    "\n",
    "<div style=\"margin-left: auto;\n",
    "            margin-right: auto;\n",
    "            width: 30%\">\n",
    "\n",
    "|              |       | Player 2 |       |\n",
    "|:------------:|:-----:|:--------:|:-----:|\n",
    "|              |       |   $k_1$  | $k_2$ |\n",
    "| **Player 1** | $j_1$ |   0, 0   |  9, 3 |\n",
    "|              | $j_2$ |   3, 9   |  7, 7 |\n",
    "\n",
    "</div>\n",
    "The following figure (Duffy and Feltovich, 2010) shows the possible payoffs for Player 1 and\n",
    "Player 2, wherein the respective regions of feasible payoffs, correlated equilibrium payoffs,\n",
    "and Nash equilibrium payoffs are depicted with the indicated letter(s)."
   ]
  },
  {
   "cell_type": "markdown",
   "metadata": {},
   "source": [
    "![](https://www.mathworks.com/matlabcentral/mlc-downloads/downloads/e568cfd1-4a80-11e4-9553-005056977bd0/66a2877e-5aac-4a1d-b090-5035e35db9b2/images/screenshot.gif)"
   ]
  },
  {
   "cell_type": "markdown",
   "metadata": {},
   "source": [
    "3. **Correlated Equilibria and Nash Equilibria**. Consider the Python/Pyomo models in the following files, which correspond to the two functional representations in Section 4.6.\n",
    "    - *OPER 618 - Homework 3 - Problem 3 - Correlated Equilibrium (LP) - Chicken.py*\n",
    "    - *OPER 618 - Homework 3 - Problem 3 - Nash Equilibrium (NLP) - Chicken.py*\n",
    "\n",
    "    Modify the objective function(s) and resolve the model(s) as necessary to identify (a) the\n",
    "    four correlated equilibria corresponding to the extreme points of the region of correlated\n",
    "    equilibria payoff pairs from the diagram and (b) the three correlated equilibria\n",
    "    corresponding to the three Nash equilibria corresponding to the extreme points of the\n",
    "    region of NE payoff pairs from the diagram."
   ]
  },
  {
   "cell_type": "markdown",
   "metadata": {},
   "source": [
    "For the lower-middle correlated equilibrium point, we simply use the code as graciously provided by Dr. Lunday."
   ]
  },
  {
   "cell_type": "code",
   "execution_count": 6,
   "metadata": {},
   "outputs": [
    {
     "name": "stdout",
     "output_type": "stream",
     "text": [
      "U1 = 4.500\n",
      "U2 = 4.500\n",
      "p( 1 , 1 ) = 0.250\n",
      "p( 1 , 2 ) = 0.375\n",
      "p( 2 , 1 ) = 0.375\n",
      "p( 2 , 2 ) = 0.000\n"
     ]
    }
   ],
   "source": [
    "def CorrelatedEquilibriumLow():\n",
    "    m = pyo.ConcreteModel()\n",
    "\n",
    "    # Input sets\n",
    "    m.J = {1,2}\n",
    "    m.K = {1,2}\n",
    "\n",
    "    # Input parameter data\n",
    "    u1=[[0,0,0],\n",
    "        [0, 0, 9], \n",
    "        [0, 3, 7]]\n",
    "    u2=[[0,0,0],\n",
    "        [0, 0, 3], \n",
    "        [0, 9, 7]]\n",
    "\n",
    "    # Decision Variables\n",
    "    m.U1 = pyo.Var(domain=pyo.NonNegativeReals) # Player 1's utility\n",
    "    m.U2 = pyo.Var(domain=pyo.NonNegativeReals) # Player 2's utility\n",
    "    m.p = pyo.Var(m.J,m.K,domain=pyo.NonNegativeReals) # p[j,k]=p1[j]*p2[k]\n",
    "    \n",
    "    # Model  \n",
    "    m.objfnvalue = pyo.Objective(expr = m.U1+m.U2, sense = pyo.minimize)\n",
    "    m.UtilityForPlayer1= pyo.Constraint(expr= m.U1==sum(sum(m.p[j,k]*u1[j][k] for j in m.J) for k in m.K))\n",
    "    m.UtilityForPlayer2= pyo.Constraint(expr= m.U2==sum(sum(m.p[j,k]*u2[j][k] for j in m.J) for k in m.K))\n",
    "    m.NEcriteriaP1=pyo.ConstraintList()\n",
    "    for j in m.J:\n",
    "        for jp in m.J:\n",
    "            if jp!=j:\n",
    "                m.NEcriteriaP1.add(sum(m.p[j,k]*u1[j][k] for k in m.K) >= sum(m.p[j,k]*u1[jp][k] for k in m.K))\n",
    "    m.NEcriteriaP2=pyo.ConstraintList()\n",
    "    for k in m.K:\n",
    "        for kp in m.K:\n",
    "            if kp!=k:\n",
    "                m.NEcriteriaP2.add(sum(m.p[j,k]*u2[j][k] for j in m.J) >= sum(m.p[j,k]*u2[j][kp] for j in m.J))\n",
    "    m.ProbabilityDistribution= pyo.Constraint(expr= sum(sum(m.p[j,k] for j in m.J) for k in m.K)==1)\n",
    "                        \n",
    "    # Solve model\n",
    "    results=pyo.SolverFactory('glpk').solve(m,tee=False)\n",
    "\n",
    "    # Output results\n",
    "    print('U1 = %.3f' % pyo.value(m.U1))   \n",
    "    print('U2 = %.3f' % pyo.value(m.U2)) \n",
    "\n",
    "    for j in m.J:\n",
    "        for k in m.K:\n",
    "            print('p(',j,',',k,') = %.3f' % pyo.value(m.p[j,k]))\n",
    "\n",
    "CorrelatedEquilibriumLow()"
   ]
  },
  {
   "cell_type": "markdown",
   "metadata": {},
   "source": [
    "For the upper-middle correlated equilibrium point, we simply change the objective function to maximize."
   ]
  },
  {
   "cell_type": "code",
   "execution_count": 7,
   "metadata": {},
   "outputs": [
    {
     "name": "stdout",
     "output_type": "stream",
     "text": [
      "U1 = 6.429\n",
      "U2 = 6.429\n",
      "p( 1 , 1 ) = 0.000\n",
      "p( 1 , 2 ) = 0.286\n",
      "p( 2 , 1 ) = 0.286\n",
      "p( 2 , 2 ) = 0.429\n"
     ]
    }
   ],
   "source": [
    "def CorrelatedEquilibriumHigh():\n",
    "    m = pyo.ConcreteModel()\n",
    "\n",
    "    # Input sets\n",
    "    m.J = {1,2}\n",
    "    m.K = {1,2}\n",
    "\n",
    "    # Input parameter data\n",
    "    u1=[[0,0,0],\n",
    "        [0, 0, 9], \n",
    "        [0, 3, 7]]\n",
    "    u2=[[0,0,0],\n",
    "        [0, 0, 3], \n",
    "        [0, 9, 7]]\n",
    "\n",
    "    # Decision Variables\n",
    "    m.U1 = pyo.Var(domain=pyo.NonNegativeReals) # Player 1's utility\n",
    "    m.U2 = pyo.Var(domain=pyo.NonNegativeReals) # Player 2's utility\n",
    "    m.p = pyo.Var(m.J,m.K,domain=pyo.NonNegativeReals) # p[j,k]=p1[j]*p2[k]\n",
    "    \n",
    "    # Model  \n",
    "    m.objfnvalue = pyo.Objective(expr = m.U1+m.U2, sense = pyo.maximize)\n",
    "    m.UtilityForPlayer1= pyo.Constraint(expr= m.U1==sum(sum(m.p[j,k]*u1[j][k] for j in m.J) for k in m.K))\n",
    "    m.UtilityForPlayer2= pyo.Constraint(expr= m.U2==sum(sum(m.p[j,k]*u2[j][k] for j in m.J) for k in m.K))\n",
    "    m.NEcriteriaP1=pyo.ConstraintList()\n",
    "    for j in m.J:\n",
    "        for jp in m.J:\n",
    "            if jp!=j:\n",
    "                m.NEcriteriaP1.add(sum(m.p[j,k]*u1[j][k] for k in m.K) >= sum(m.p[j,k]*u1[jp][k] for k in m.K))\n",
    "    m.NEcriteriaP2=pyo.ConstraintList()\n",
    "    for k in m.K:\n",
    "        for kp in m.K:\n",
    "            if kp!=k:\n",
    "                m.NEcriteriaP2.add(sum(m.p[j,k]*u2[j][k] for j in m.J) >= sum(m.p[j,k]*u2[j][kp] for j in m.J))\n",
    "    m.ProbabilityDistribution= pyo.Constraint(expr= sum(sum(m.p[j,k] for j in m.J) for k in m.K)==1)\n",
    "                        \n",
    "    # Solve model\n",
    "    results=pyo.SolverFactory('glpk').solve(m,tee=False)\n",
    "\n",
    "    # Output results\n",
    "    print('U1 = %.3f' % pyo.value(m.U1))   \n",
    "    print('U2 = %.3f' % pyo.value(m.U2)) \n",
    "\n",
    "    for j in m.J:\n",
    "        for k in m.K:\n",
    "            print('p(',j,',',k,') = %.3f' % pyo.value(m.p[j,k]))\n",
    "\n",
    "CorrelatedEquilibriumHigh()"
   ]
  },
  {
   "cell_type": "markdown",
   "metadata": {},
   "source": [
    "For the middle Nash equilibrium point we once again use the free code."
   ]
  },
  {
   "cell_type": "code",
   "execution_count": 8,
   "metadata": {},
   "outputs": [
    {
     "name": "stdout",
     "output_type": "stream",
     "text": [
      "U1 = 5.400\n",
      "p1( 1 ) = 0.400\n",
      "p1( 2 ) = 0.600\n",
      "U2 = 5.400\n",
      "p2( 1 ) = 0.400\n",
      "p2( 2 ) = 0.600\n",
      "p( 1 , 1 ) = 0.160\n",
      "p( 1 , 2 ) = 0.240\n",
      "p( 2 , 1 ) = 0.240\n",
      "p( 2 , 2 ) = 0.360\n"
     ]
    }
   ],
   "source": [
    "def NashEquilibrium():\n",
    "    m = pyo.ConcreteModel()\n",
    "\n",
    "    # Input sets\n",
    "    m.J = {1,2}\n",
    "    m.K = {1,2}\n",
    "\n",
    "    # Input parameter data\n",
    "    u1=[[0,0,0],\n",
    "        [0, 0, 9], \n",
    "        [0, 3, 7]]\n",
    "    u2=[[0,0,0],\n",
    "        [0, 0, 3], \n",
    "        [0, 9, 7]]\n",
    "\n",
    "    # Decision Variables\n",
    "    m.U1 = pyo.Var(domain=pyo.NonNegativeReals) # Player 1's utility\n",
    "    m.U2 = pyo.Var(domain=pyo.NonNegativeReals) # Player 2's utility\n",
    "    m.p1 = pyo.Var(m.J,domain=pyo.NonNegativeReals) # p1[j] is the probabilty that Player 1 plays action j\n",
    "    m.p2 = pyo.Var(m.K,domain=pyo.NonNegativeReals) # p2[k] is the probabilty that Player 2 plays action k\n",
    "    m.p = pyo.Var(m.J,m.K,domain=pyo.NonNegativeReals) # p[j,k]=p1[j]*p2[k]\n",
    "\n",
    "    # Model  \n",
    "    m.objfnvalue = pyo.Objective(expr = 0*m.U1+m.U2, sense = pyo.minimize)\n",
    "    m.UtilityForPlayer1= pyo.Constraint(expr= m.U1==sum(sum(m.p[j,k]*u1[j][k] for j in m.J) for k in m.K))\n",
    "    m.UtilityForPlayer2= pyo.Constraint(expr= m.U2==sum(sum(m.p[j,k]*u2[j][k] for j in m.J) for k in m.K))\n",
    "    m.NEcriteriaP1=pyo.ConstraintList()\n",
    "    for j in m.J:\n",
    "        for jp in m.J:\n",
    "            if jp!=j:\n",
    "                m.NEcriteriaP1.add(sum(m.p[j,k]*u1[j][k] for k in m.K) >= sum(m.p[j,k]*u1[jp][k] for k in m.K))\n",
    "    m.NEcriteriaP2=pyo.ConstraintList()\n",
    "    for k in m.K:\n",
    "        for kp in m.K:\n",
    "            if kp!=k:\n",
    "                m.NEcriteriaP2.add(sum(m.p[j,k]*u2[j][k] for j in m.J) >= sum(m.p[j,k]*u2[j][kp] for j in m.J))\n",
    "    m.ProbabilityDistribution= pyo.Constraint(expr= sum(sum(m.p[j,k] for j in m.J) for k in m.K)==1)\n",
    "    m.JointPDFCalculations=pyo.ConstraintList()\n",
    "    for j in m.J:\n",
    "        for k in m.K:\n",
    "            m.JointPDFCalculations.add(m.p[j,k]==m.p1[j]*m.p2[k])\n",
    "    m.ProbabilityDistributionForP1 = pyo.Constraint(expr = sum(m.p1[j] for j in m.J) == 1)   \n",
    "    m.ProbabilityDistributionForP2 = pyo.Constraint(expr = sum(m.p2[k] for k in m.K) == 1)   \n",
    "                        \n",
    "    # Solve model\n",
    "    results=pyo.SolverFactory('ipopt').solve(m,tee=False)\n",
    "\n",
    "    # Output results\n",
    "    print('U1 = %.3f' % pyo.value(m.U1)) \n",
    "    for j in m.J:\n",
    "        print('p1(',j,') = %.3f' % pyo.value(m.p1[j]))\n",
    "        \n",
    "    print('U2 = %.3f' % pyo.value(m.U2)) \n",
    "    for k in m.K:\n",
    "        print('p2(',k,') = %.3f' % pyo.value(m.p2[k]))\n",
    "\n",
    "    for j in m.J:\n",
    "        for k in m.K:\n",
    "            print('p(',j,',',k,') = %.3f' % pyo.value(m.p[j,k]))\n",
    "\n",
    "NashEquilibrium()"
   ]
  },
  {
   "cell_type": "markdown",
   "metadata": {},
   "source": [
    "For the asymmetric, player-favored points we keep seeking the maximization utility, but subtract the utility of the opposite player."
   ]
  },
  {
   "cell_type": "code",
   "execution_count": 9,
   "metadata": {},
   "outputs": [
    {
     "name": "stdout",
     "output_type": "stream",
     "text": [
      "U1 = 9.000\n",
      "U2 = 3.000\n",
      "p( 1 , 1 ) = 0.000\n",
      "p( 1 , 2 ) = 1.000\n",
      "p( 2 , 1 ) = 0.000\n",
      "p( 2 , 2 ) = 0.000\n",
      "U1 = 3.000\n",
      "U2 = 9.000\n",
      "p( 1 , 1 ) = 0.000\n",
      "p( 1 , 2 ) = -0.000\n",
      "p( 2 , 1 ) = 1.000\n",
      "p( 2 , 2 ) = 0.000\n"
     ]
    }
   ],
   "source": [
    "def FavoredEquilibrium(player=1):\n",
    "    m = pyo.ConcreteModel()\n",
    "\n",
    "    # Input sets\n",
    "    m.J = {1,2}\n",
    "    m.K = {1,2}\n",
    "\n",
    "    # Input parameter data\n",
    "    u1=[[0,0,0],\n",
    "        [0, 0, 9], \n",
    "        [0, 3, 7]]\n",
    "    u2=[[0,0,0],\n",
    "        [0, 0, 3], \n",
    "        [0, 9, 7]]\n",
    "\n",
    "    # Decision Variables\n",
    "    m.U1 = pyo.Var(domain=pyo.NonNegativeReals) # Player 1's utility\n",
    "    m.U2 = pyo.Var(domain=pyo.NonNegativeReals) # Player 2's utility\n",
    "    m.p = pyo.Var(m.J,m.K,domain=pyo.NonNegativeReals) # p[j,k]=p1[j]*p2[k]\n",
    "    \n",
    "    # Model\n",
    "    m.objfnvalue = pyo.Objective(expr = m.U1-m.U2 if player == 1 else m.U2-m.U1, sense = pyo.maximize)\n",
    "    m.UtilityForPlayer1= pyo.Constraint(expr= m.U1==sum(sum(m.p[j,k]*u1[j][k] for j in m.J) for k in m.K))\n",
    "    m.UtilityForPlayer2= pyo.Constraint(expr= m.U2==sum(sum(m.p[j,k]*u2[j][k] for j in m.J) for k in m.K))\n",
    "    m.NEcriteriaP1=pyo.ConstraintList()\n",
    "    for j in m.J:\n",
    "        for jp in m.J:\n",
    "            if jp!=j:\n",
    "                m.NEcriteriaP1.add(sum(m.p[j,k]*u1[j][k] for k in m.K) >= sum(m.p[j,k]*u1[jp][k] for k in m.K))\n",
    "    m.NEcriteriaP2=pyo.ConstraintList()\n",
    "    for k in m.K:\n",
    "        for kp in m.K:\n",
    "            if kp!=k:\n",
    "                m.NEcriteriaP2.add(sum(m.p[j,k]*u2[j][k] for j in m.J) >= sum(m.p[j,k]*u2[j][kp] for j in m.J))\n",
    "    m.ProbabilityDistribution= pyo.Constraint(expr= sum(sum(m.p[j,k] for j in m.J) for k in m.K)==1)\n",
    "                        \n",
    "    # Solve model\n",
    "    results=pyo.SolverFactory('glpk').solve(m,tee=False)\n",
    "\n",
    "    # Output results\n",
    "    print('U1 = %.3f' % pyo.value(m.U1))   \n",
    "    print('U2 = %.3f' % pyo.value(m.U2)) \n",
    "\n",
    "    for j in m.J:\n",
    "        for k in m.K:\n",
    "            print('p(',j,',',k,') = %.3f' % pyo.value(m.p[j,k]))\n",
    "\n",
    "FavoredEquilibrium(player=1)\n",
    "FavoredEquilibrium(player=2)"
   ]
  },
  {
   "cell_type": "markdown",
   "metadata": {},
   "source": [
    "4. **The Region of Correlated Equilibria**. Identify a correlated equilibrium yielding a pair of\n",
    "payoffs in the region $B_l$ (i.e., the region of correlated equilibria that are not Nash equilibria\n",
    "and have lower-than-NE payoffs), as well as a correlated equilibrium yielding a pair of\n",
    "payoffs in the region $B_h$."
   ]
  },
  {
   "cell_type": "markdown",
   "metadata": {},
   "source": [
    "By using the previous correlated equilibrium extreme point functions and symmetrically weighting the criteria values. The weight, $w$ below, is a value between 0 and 1 which represents the proportion of distance between the 'lower correlated point' and the 'middle Nash' point that the new value is. "
   ]
  },
  {
   "cell_type": "code",
   "execution_count": 10,
   "metadata": {},
   "outputs": [
    {
     "name": "stdout",
     "output_type": "stream",
     "text": [
      "U1 = 4.800\n",
      "U2 = 4.800\n",
      "p( 1 , 1 ) = 0.200\n",
      "p( 1 , 2 ) = 0.400\n",
      "p( 2 , 1 ) = 0.400\n",
      "p( 2 , 2 ) = 0.000\n"
     ]
    }
   ],
   "source": [
    "def CorrelatedEquilibriumB_l():\n",
    "    m = pyo.ConcreteModel()\n",
    "\n",
    "    # Input sets\n",
    "    m.J = {1,2}\n",
    "    m.K = {1,2}\n",
    "\n",
    "    # Input parameter data\n",
    "    u1=[[0,0,0],\n",
    "        [0, 0, 9], \n",
    "        [0, 3, 7]]\n",
    "    u2=[[0,0,0],\n",
    "        [0, 0, 3], \n",
    "        [0, 9, 7]]\n",
    "\n",
    "    # Decision Variables\n",
    "    m.U1 = pyo.Var(domain=pyo.NonNegativeReals) # Player 1's utility\n",
    "    m.U2 = pyo.Var(domain=pyo.NonNegativeReals) # Player 2's utility\n",
    "    m.p = pyo.Var(m.J,m.K,domain=pyo.NonNegativeReals) # p[j,k]=p1[j]*p2[k]\n",
    "\n",
    "    # Weight\n",
    "    w = 0.2 # Must be between 0 and 1\n",
    "    \n",
    "    # Model  \n",
    "    m.objfnvalue = pyo.Objective(expr = m.U1+m.U2, sense = pyo.minimize)\n",
    "    m.UtilityForPlayer1= pyo.Constraint(expr= m.U1==sum(sum(m.p[j,k]*u1[j][k] for j in m.J) for k in m.K))\n",
    "    m.UtilityForPlayer2= pyo.Constraint(expr= m.U2==sum(sum(m.p[j,k]*u2[j][k] for j in m.J) for k in m.K))\n",
    "    m.NEcriteriaP1=pyo.ConstraintList()\n",
    "    for j in m.J:\n",
    "        for jp in m.J:\n",
    "            if jp!=j:\n",
    "                m.NEcriteriaP1.add(sum(m.p[j,k]*u1[j][k] for k in m.K) >= sum(m.p[j,k]*u1[jp][k] for k in m.K)+w)\n",
    "    m.NEcriteriaP2=pyo.ConstraintList()\n",
    "    for k in m.K:\n",
    "        for kp in m.K:\n",
    "            if kp!=k:\n",
    "                m.NEcriteriaP2.add(sum(m.p[j,k]*u2[j][k] for j in m.J) >= sum(m.p[j,k]*u2[j][kp] for j in m.J)+w)\n",
    "    m.ProbabilityDistribution= pyo.Constraint(expr= sum(sum(m.p[j,k] for j in m.J) for k in m.K)==1)\n",
    "                        \n",
    "    # Solve model\n",
    "    results=pyo.SolverFactory('glpk').solve(m,tee=False)\n",
    "\n",
    "    # Output results\n",
    "    print('U1 = %.3f' % pyo.value(m.U1))   \n",
    "    print('U2 = %.3f' % pyo.value(m.U2)) \n",
    "\n",
    "    for j in m.J:\n",
    "        for k in m.K:\n",
    "            print('p(',j,',',k,') = %.3f' % pyo.value(m.p[j,k]))\n",
    "\n",
    "CorrelatedEquilibriumB_l()"
   ]
  },
  {
   "cell_type": "markdown",
   "metadata": {},
   "source": [
    "THe upper region operates in the same way as above, with the restriction on the weight value and it representing a proportion of distance from the Nash Equilibrium."
   ]
  },
  {
   "cell_type": "code",
   "execution_count": 11,
   "metadata": {},
   "outputs": [
    {
     "name": "stdout",
     "output_type": "stream",
     "text": [
      "U1 = 6.334\n",
      "U2 = 6.334\n",
      "p( 1 , 1 ) = 0.000\n",
      "p( 1 , 2 ) = 0.333\n",
      "p( 2 , 1 ) = 0.333\n",
      "p( 2 , 2 ) = 0.334\n"
     ]
    }
   ],
   "source": [
    "def CorrelatedEquilibriumB_h():\n",
    "    m = pyo.ConcreteModel()\n",
    "\n",
    "    # Input sets\n",
    "    m.J = {1,2}\n",
    "    m.K = {1,2}\n",
    "\n",
    "    # Input parameter data\n",
    "    u1=[[0,0,0],\n",
    "        [0, 0, 9], \n",
    "        [0, 3, 7]]\n",
    "    u2=[[0,0,0],\n",
    "        [0, 0, 3], \n",
    "        [0, 9, 7]]\n",
    "\n",
    "    # Decision Variables\n",
    "    m.U1 = pyo.Var(domain=pyo.NonNegativeReals) # Player 1's utility\n",
    "    m.U2 = pyo.Var(domain=pyo.NonNegativeReals) # Player 2's utility\n",
    "    m.p = pyo.Var(m.J,m.K,domain=pyo.NonNegativeReals) # p[j,k]=p1[j]*p2[k]\n",
    "    \n",
    "    # Weight\n",
    "    w = 0.33 # Must be between 0 and 1\n",
    "\n",
    "    # Model  \n",
    "    m.objfnvalue = pyo.Objective(expr = m.U1+m.U2, sense = pyo.maximize)\n",
    "    m.UtilityForPlayer1= pyo.Constraint(expr= m.U1==sum(sum(m.p[j,k]*u1[j][k] for j in m.J) for k in m.K))\n",
    "    m.UtilityForPlayer2= pyo.Constraint(expr= m.U2==sum(sum(m.p[j,k]*u2[j][k] for j in m.J) for k in m.K))\n",
    "    m.NEcriteriaP1=pyo.ConstraintList()\n",
    "    for j in m.J:\n",
    "        for jp in m.J:\n",
    "            if jp!=j:\n",
    "                m.NEcriteriaP1.add(sum(m.p[j,k]*u1[j][k] for k in m.K) >= sum(m.p[j,k]*u1[jp][k] for k in m.K)+w)\n",
    "    m.NEcriteriaP2=pyo.ConstraintList()\n",
    "    for k in m.K:\n",
    "        for kp in m.K:\n",
    "            if kp!=k:\n",
    "                m.NEcriteriaP2.add(sum(m.p[j,k]*u2[j][k] for j in m.J) >= sum(m.p[j,k]*u2[j][kp] for j in m.J)+w)\n",
    "    m.ProbabilityDistribution= pyo.Constraint(expr= sum(sum(m.p[j,k] for j in m.J) for k in m.K)==1)\n",
    "                        \n",
    "    # Solve model\n",
    "    results=pyo.SolverFactory('glpk').solve(m,tee=False)\n",
    "\n",
    "    # Output results\n",
    "    print('U1 = %.3f' % pyo.value(m.U1))   \n",
    "    print('U2 = %.3f' % pyo.value(m.U2)) \n",
    "\n",
    "    for j in m.J:\n",
    "        for k in m.K:\n",
    "            print('p(',j,',',k,') = %.3f' % pyo.value(m.p[j,k]))\n",
    "\n",
    "CorrelatedEquilibriumB_h()"
   ]
  },
  {
   "cell_type": "markdown",
   "metadata": {},
   "source": [
    "5. **Unstable Solutions**. Show that the solution corresponding to the joint payoffs of $(7,7)$ is\n",
    "neither a correlated equilibrium nor a Nash equilibrium."
   ]
  },
  {
   "cell_type": "markdown",
   "metadata": {},
   "source": [
    "While this situation can be seen intuitively from the payoff matrix, it may also be seen by the modifications to the correlated equilibrium function that we have been using up to this point. The $(7,7)$ value is achievable, but only when the equilibrium criteria are both switched from $\\geq$ to $\\leq$, which effectively represents that the player is playing in an altruistic manner, seeking maximum utility for their opponent. While this outcome may be desirable, it does break the assumption of Homo economicus players."
   ]
  },
  {
   "cell_type": "code",
   "execution_count": 12,
   "metadata": {},
   "outputs": [
    {
     "name": "stdout",
     "output_type": "stream",
     "text": [
      "U1 = 7.000\n",
      "U2 = 7.000\n",
      "p( 1 , 1 ) = 0.000\n",
      "p( 1 , 2 ) = 0.000\n",
      "p( 2 , 1 ) = 0.000\n",
      "p( 2 , 2 ) = 1.000\n"
     ]
    }
   ],
   "source": [
    "def FragileCooperation():\n",
    "    m = pyo.ConcreteModel()\n",
    "\n",
    "    # Input sets\n",
    "    m.J = {1,2}\n",
    "    m.K = {1,2}\n",
    "\n",
    "    # Input parameter data\n",
    "    u1=[[0,0,0],\n",
    "        [0, 0, 9], \n",
    "        [0, 3, 7]]\n",
    "    u2=[[0,0,0],\n",
    "        [0, 0, 3], \n",
    "        [0, 9, 7]]\n",
    "\n",
    "    # Decision Variables\n",
    "    m.U1 = pyo.Var(domain=pyo.NonNegativeReals) # Player 1's utility\n",
    "    m.U2 = pyo.Var(domain=pyo.NonNegativeReals) # Player 2's utility\n",
    "    m.p = pyo.Var(m.J,m.K,domain=pyo.NonNegativeReals) # p[j,k]=p1[j]*p2[k]\n",
    "    \n",
    "    # Model  \n",
    "    m.objfnvalue = pyo.Objective(expr = m.U1+m.U2, sense = pyo.maximize)\n",
    "    m.UtilityForPlayer1= pyo.Constraint(expr= m.U1==sum(sum(m.p[j,k]*u1[j][k] for j in m.J) for k in m.K))\n",
    "    m.UtilityForPlayer2= pyo.Constraint(expr= m.U2==sum(sum(m.p[j,k]*u2[j][k] for j in m.J) for k in m.K))\n",
    "    m.NEcriteriaP1=pyo.ConstraintList()\n",
    "    for j in m.J:\n",
    "        for jp in m.J:\n",
    "            if jp!=j:\n",
    "                m.NEcriteriaP1.add(sum(m.p[j,k]*u1[j][k] for k in m.K) <= sum(m.p[j,k]*u1[jp][k] for k in m.K))\n",
    "    m.NEcriteriaP2=pyo.ConstraintList()\n",
    "    for k in m.K:\n",
    "        for kp in m.K:\n",
    "            if kp!=k:\n",
    "                m.NEcriteriaP2.add(sum(m.p[j,k]*u2[j][k] for j in m.J) <= sum(m.p[j,k]*u2[j][kp] for j in m.J))\n",
    "    m.ProbabilityDistribution= pyo.Constraint(expr= sum(sum(m.p[j,k] for j in m.J) for k in m.K)==1)\n",
    "                        \n",
    "    # Solve model\n",
    "    results=pyo.SolverFactory('glpk').solve(m,tee=False)\n",
    "\n",
    "    # Output results\n",
    "    print('U1 = %.3f' % pyo.value(m.U1))   \n",
    "    print('U2 = %.3f' % pyo.value(m.U2)) \n",
    "\n",
    "    for j in m.J:\n",
    "        for k in m.K:\n",
    "            print('p(',j,',',k,') = %.3f' % pyo.value(m.p[j,k]))\n",
    "\n",
    "FragileCooperation()"
   ]
  }
 ],
 "metadata": {
  "kernelspec": {
   "display_name": "Python 3",
   "language": "python",
   "name": "python3"
  },
  "language_info": {
   "codemirror_mode": {
    "name": "ipython",
    "version": 3
   },
   "file_extension": ".py",
   "mimetype": "text/x-python",
   "name": "python",
   "nbconvert_exporter": "python",
   "pygments_lexer": "ipython3",
   "version": "3.9.6"
  },
  "orig_nbformat": 4
 },
 "nbformat": 4,
 "nbformat_minor": 2
}
