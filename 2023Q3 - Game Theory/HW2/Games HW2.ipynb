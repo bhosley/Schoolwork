{
 "cells": [
  {
   "cell_type": "code",
   "execution_count": 1,
   "metadata": {},
   "outputs": [],
   "source": [
    "import pyomo.environ as pyo\n",
    "import numpy as np"
   ]
  },
  {
   "cell_type": "code",
   "execution_count": null,
   "metadata": {},
   "outputs": [],
   "source": [
    "model4a = pyo.ConcreteModel()\n",
    "\n",
    "model4a.utils = {\n",
    "    'A2' : {'A1': 0, 'B1': 6, 'C1': 0, 'D1': 1},\n",
    "    'C2' : {'A1': 2, 'B1': 5, 'C1': 0, 'D1': 1},\n",
    "    'D2' : {'A1': 2, 'B1': 3, 'C1': 4, 'D1': 0}}\n",
    "\n",
    "model4a.B2 = {'A1': 1, 'B1': 4, 'C1': 0, 'D1': 0}\n",
    "\n",
    "model4a.A1 = model4a.B2.keys()\n",
    "model4a.A2 = model4a.utils.keys()\n",
    "model4a.p = pyo.Var(model4a.A2, domain = pyo.NonNegativeReals)\n",
    "\n",
    "model4a.constraints=pyo.ConstraintList()\n",
    "model4a.constraints.add( sum(model4a.p[a] for a in model4a.A2) == 1 )\n",
    "\n",
    "model4a.objective = pyo.Objective(\n",
    "    expr = min(sum( \n",
    "        model4a.utils[a2][a1]*model4a.p[a2] for a2 in model4a.A2) - \n",
    "        model4a.B2[a1] for a1 in model4a.A1),\n",
    "    sense = pyo.maximize)\n"
   ]
  },
  {
   "cell_type": "code",
   "execution_count": 24,
   "metadata": {},
   "outputs": [
    {
     "name": "stdout",
     "output_type": "stream",
     "text": [
      "        0.00 seconds required to write file\n",
      "        0.00 seconds required for presolve\n",
      "GLPSOL: GLPK LP/MIP Solver, v4.65\n",
      "Parameter(s) specified in the command line:\n",
      " --write /var/folders/8h/pt6dnpv520d200zx4xc71ld80000gn/T/tmp4wytos_d.glpk.raw\n",
      " --wglp /var/folders/8h/pt6dnpv520d200zx4xc71ld80000gn/T/tmp0gxfpljx.glpk.glp\n",
      " --cpxlp /var/folders/8h/pt6dnpv520d200zx4xc71ld80000gn/T/tmp7vbmrq6r.pyomo.lp\n",
      "Reading problem data from '/var/folders/8h/pt6dnpv520d200zx4xc71ld80000gn/T/tmp7vbmrq6r.pyomo.lp'...\n",
      "1 row, 4 columns, 3 non-zeros\n",
      "23 lines were read\n",
      "Writing problem data to '/var/folders/8h/pt6dnpv520d200zx4xc71ld80000gn/T/tmp0gxfpljx.glpk.glp'...\n",
      "17 lines were written\n",
      "GLPK Simplex Optimizer, v4.65\n",
      "1 row, 4 columns, 3 non-zeros\n",
      "Preprocessing...\n",
      "1 row, 2 columns, 2 non-zeros\n",
      "Scaling...\n",
      " A: min|aij| =  1.000e+00  max|aij| =  1.000e+00  ratio =  1.000e+00\n",
      "Problem data seem to be well scaled\n",
      "Constructing initial basis...\n",
      "Size of triangular part is 1\n",
      "*     0: obj =   3.000000000e+00 inf =   0.000e+00 (1)\n",
      "*     1: obj =   4.000000000e+00 inf =   0.000e+00 (0)\n",
      "OPTIMAL LP SOLUTION FOUND\n",
      "Time used:   0.0 secs\n",
      "Memory used: 0.0 Mb (40400 bytes)\n",
      "Writing basic solution to '/var/folders/8h/pt6dnpv520d200zx4xc71ld80000gn/T/tmp4wytos_d.glpk.raw'...\n",
      "14 lines were written\n",
      "        0.03 seconds required for solver\n",
      "        0.00 seconds required to read logfile \n",
      "        0.00 seconds required to read solution file \n",
      "        0.00 seconds required for postsolve\n",
      "s2( 0 ) = 0.000\n",
      "s2( 2 ) = 0.000\n",
      "s2( 3 ) = 1.000\n"
     ]
    }
   ],
   "source": [
    "m = pyo.ConcreteModel()\n",
    "\n",
    "# Action Profiles\n",
    "m.P1 = {0,1,2,3}\n",
    "m.P2 = {0,2,3}\n",
    "\n",
    "# Utility Matrix\n",
    "u1=[[5, 1, 0, 0],\n",
    "    [1, 1, 2, 1],\n",
    "    [2, 4, 1, 0],\n",
    "    [0, 1, 0, 4]]\n",
    "u2=[[0, 1, 2, 2],\n",
    "    [6, 4, 5, 3],\n",
    "    [0, 0, 0, 4],\n",
    "    [1, 0, 1, 0]]\n",
    "\n",
    "m.s2 = pyo.Var(m.P1,domain=pyo.NonNegativeReals)\n",
    "\n",
    "def minDom(m):\n",
    "    doms = []\n",
    "    for i in m.P1:\n",
    "        doms.append(sum(m.s2[k]*u2[i][k] for k in m.P2) - u2[i][1] )\n",
    "    return sum(doms)\n",
    "\n",
    "m.constraints=pyo.ConstraintList()\n",
    "m.constraints.add( sum(m.s2[k] for k in m.P2) == 1 )\n",
    "\n",
    "#m.objective = pyo.Objective(expr = minDom(m), sense = pyo.maximize)\n",
    "m.objective = pyo.Objective(expr = minDom(m), sense = pyo.maximize)\n",
    "\n",
    "results = pyo.SolverFactory('glpk').solve(m, report_timing=True, tee=True)\n",
    "\n",
    "for a in m.P2:\n",
    "    print('s2(',a,') = %.3f' % pyo.value(m.s2[a]))"
   ]
  }
 ],
 "metadata": {
  "kernelspec": {
   "display_name": "Python 3",
   "language": "python",
   "name": "python3"
  },
  "language_info": {
   "name": "python",
   "version": "3.9.6"
  },
  "orig_nbformat": 4
 },
 "nbformat": 4,
 "nbformat_minor": 2
}
