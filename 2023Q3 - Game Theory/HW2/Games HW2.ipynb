{
 "cells": [
  {
   "cell_type": "code",
   "execution_count": 1,
   "metadata": {},
   "outputs": [],
   "source": [
    "import pyomo.environ as pyo\n",
    "import numpy as np"
   ]
  },
  {
   "cell_type": "code",
   "execution_count": 25,
   "metadata": {},
   "outputs": [
    {
     "ename": "PyomoException",
     "evalue": "Cannot convert non-constant Pyomo expression (6*p[A2] + 5*p[C2] + 3*p[D2] - 4  <  0*p[A2] + 2*p[C2] + 2*p[D2] - 1) to bool.\nThis error is usually caused by using a Var, unit, or mutable Param in a\nBoolean context such as an \"if\" statement, or when checking container\nmembership or equality. For example,\n    >>> m.x = Var()\n    >>> if m.x >= 1:\n    ...     pass\nand\n    >>> m.y = Var()\n    >>> if m.y in [m.x, m.y]:\n    ...     pass\nwould both cause this exception.",
     "output_type": "error",
     "traceback": [
      "\u001b[0;31m---------------------------------------------------------------------------\u001b[0m",
      "\u001b[0;31mPyomoException\u001b[0m                            Traceback (most recent call last)",
      "Cell \u001b[0;32mIn[25], line 18\u001b[0m\n\u001b[1;32m     14\u001b[0m model4a\u001b[39m.\u001b[39mconstraints\u001b[39m=\u001b[39mpyo\u001b[39m.\u001b[39mConstraintList()\n\u001b[1;32m     15\u001b[0m model4a\u001b[39m.\u001b[39mconstraints\u001b[39m.\u001b[39madd( \u001b[39msum\u001b[39m(model4a\u001b[39m.\u001b[39mp[a] \u001b[39mfor\u001b[39;00m a \u001b[39min\u001b[39;00m model4a\u001b[39m.\u001b[39mA2) \u001b[39m==\u001b[39m \u001b[39m1\u001b[39m )\n\u001b[1;32m     17\u001b[0m model4a\u001b[39m.\u001b[39mobjective \u001b[39m=\u001b[39m pyo\u001b[39m.\u001b[39mObjective(\n\u001b[0;32m---> 18\u001b[0m     expr \u001b[39m=\u001b[39m \u001b[39mmin\u001b[39;49m([\u001b[39msum\u001b[39;49m( \n\u001b[1;32m     19\u001b[0m         model4a\u001b[39m.\u001b[39;49mutils[a2][a1]\u001b[39m*\u001b[39;49mmodel4a\u001b[39m.\u001b[39;49mp[a2] \u001b[39mfor\u001b[39;49;00m a2 \u001b[39min\u001b[39;49;00m model4a\u001b[39m.\u001b[39;49mA2) \u001b[39m-\u001b[39;49m \n\u001b[1;32m     20\u001b[0m         model4a\u001b[39m.\u001b[39;49mB2[a1] \u001b[39mfor\u001b[39;49;00m a1 \u001b[39min\u001b[39;49;00m model4a\u001b[39m.\u001b[39;49mA1]),\n\u001b[1;32m     21\u001b[0m     sense \u001b[39m=\u001b[39m pyo\u001b[39m.\u001b[39mmaximize)\n",
      "File \u001b[0;32m/Library/Frameworks/Python.framework/Versions/3.9/lib/python3.9/site-packages/pyomo/core/expr/relational_expr.py:48\u001b[0m, in \u001b[0;36mRelationalExpression.__bool__\u001b[0;34m(self)\u001b[0m\n\u001b[1;32m     46\u001b[0m         \u001b[39mif\u001b[39;00m \u001b[39mself\u001b[39m\u001b[39m.\u001b[39mis_constant():\n\u001b[1;32m     47\u001b[0m             \u001b[39mreturn\u001b[39;00m \u001b[39mbool\u001b[39m(\u001b[39mself\u001b[39m())\n\u001b[0;32m---> 48\u001b[0m         \u001b[39mraise\u001b[39;00m PyomoException(\n\u001b[1;32m     49\u001b[0m \u001b[39m            \u001b[39m\u001b[39m\"\"\"\u001b[39;00m\n\u001b[1;32m     50\u001b[0m \u001b[39mCannot convert non-constant Pyomo expression (%s) to bool.\u001b[39;00m\n\u001b[1;32m     51\u001b[0m \u001b[39mThis error is usually caused by using a Var, unit, or mutable Param in a\u001b[39;00m\n\u001b[1;32m     52\u001b[0m \u001b[39mBoolean context such as an \"if\" statement, or when checking container\u001b[39;00m\n\u001b[1;32m     53\u001b[0m \u001b[39mmembership or equality. For example,\u001b[39;00m\n\u001b[1;32m     54\u001b[0m \u001b[39m    >>> m.x = Var()\u001b[39;00m\n\u001b[1;32m     55\u001b[0m \u001b[39m    >>> if m.x >= 1:\u001b[39;00m\n\u001b[1;32m     56\u001b[0m \u001b[39m    ...     pass\u001b[39;00m\n\u001b[1;32m     57\u001b[0m \u001b[39mand\u001b[39;00m\n\u001b[1;32m     58\u001b[0m \u001b[39m    >>> m.y = Var()\u001b[39;00m\n\u001b[1;32m     59\u001b[0m \u001b[39m    >>> if m.y in [m.x, m.y]:\u001b[39;00m\n\u001b[1;32m     60\u001b[0m \u001b[39m    ...     pass\u001b[39;00m\n\u001b[1;32m     61\u001b[0m \u001b[39mwould both cause this exception.\"\"\"\u001b[39;00m\u001b[39m.\u001b[39mstrip()\n\u001b[1;32m     62\u001b[0m             \u001b[39m%\u001b[39m (\u001b[39mself\u001b[39m,)\n\u001b[1;32m     63\u001b[0m         )\n",
      "\u001b[0;31mPyomoException\u001b[0m: Cannot convert non-constant Pyomo expression (6*p[A2] + 5*p[C2] + 3*p[D2] - 4  <  0*p[A2] + 2*p[C2] + 2*p[D2] - 1) to bool.\nThis error is usually caused by using a Var, unit, or mutable Param in a\nBoolean context such as an \"if\" statement, or when checking container\nmembership or equality. For example,\n    >>> m.x = Var()\n    >>> if m.x >= 1:\n    ...     pass\nand\n    >>> m.y = Var()\n    >>> if m.y in [m.x, m.y]:\n    ...     pass\nwould both cause this exception."
     ]
    }
   ],
   "source": [
    "model4a = pyo.ConcreteModel()\n",
    "\n",
    "model4a.utils = {\n",
    "    'A2' : {'A1': 0, 'B1': 6, 'C1': 0, 'D1': 1},\n",
    "    'C2' : {'A1': 2, 'B1': 5, 'C1': 0, 'D1': 1},\n",
    "    'D2' : {'A1': 2, 'B1': 3, 'C1': 4, 'D1': 0}}\n",
    "\n",
    "model4a.B2 = {'A1': 1, 'B1': 4, 'C1': 0, 'D1': 0}\n",
    "\n",
    "model4a.A1 = model4a.B2.keys()\n",
    "model4a.A2 = model4a.utils.keys()\n",
    "model4a.p = pyo.Var(model4a.A2, domain = pyo.NonNegativeReals)\n",
    "\n",
    "model4a.constraints=pyo.ConstraintList()\n",
    "model4a.constraints.add( sum(model4a.p[a] for a in model4a.A2) == 1 )\n",
    "\n",
    "model4a.objective = pyo.Objective(\n",
    "    expr = min(sum( \n",
    "        model4a.utils[a2][a1]*model4a.p[a2] for a2 in model4a.A2) - \n",
    "        model4a.B2[a1] for a1 in model4a.A1),\n",
    "    sense = pyo.maximize)\n"
   ]
  }
 ],
 "metadata": {
  "kernelspec": {
   "display_name": "Python 3",
   "language": "python",
   "name": "python3"
  },
  "language_info": {
   "name": "python",
   "version": "3.9.6"
  },
  "orig_nbformat": 4
 },
 "nbformat": 4,
 "nbformat_minor": 2
}
