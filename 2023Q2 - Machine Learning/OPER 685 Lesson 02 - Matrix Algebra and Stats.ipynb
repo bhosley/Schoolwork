{
 "cells": [
  {
   "cell_type": "markdown",
   "id": "e249fb85",
   "metadata": {},
   "source": [
    "# OPER 685 \n",
    "# Lesson 2 - Matrix Algebra and Stats review using Python"
   ]
  },
  {
   "cell_type": "markdown",
   "id": "4ba3dc90",
   "metadata": {},
   "source": [
    "##  0. Import Libraries"
   ]
  },
  {
   "cell_type": "code",
   "execution_count": 1,
   "id": "2727c08a",
   "metadata": {},
   "outputs": [],
   "source": [
    "import pandas as pd\n",
    "import numpy as np\n",
    "import random\n",
    "import math\n",
    "import matplotlib.pyplot as plt\n",
    "from numpy.linalg import eig\n",
    "%matplotlib inline"
   ]
  },
  {
   "cell_type": "markdown",
   "id": "1e08b3c9",
   "metadata": {},
   "source": [
    "## 1.0 Vectors"
   ]
  },
  {
   "cell_type": "markdown",
   "id": "bff812dd",
   "metadata": {},
   "source": [
    "### 1.1 Creating Vectors"
   ]
  },
  {
   "cell_type": "code",
   "execution_count": 2,
   "id": "f9af5d9b",
   "metadata": {},
   "outputs": [],
   "source": [
    "v1 = np.array([2,3])\n",
    "v2 = np.array([4,5])"
   ]
  },
  {
   "cell_type": "code",
   "execution_count": 3,
   "id": "c3d6fa5f",
   "metadata": {},
   "outputs": [
    {
     "data": {
      "text/plain": [
       "numpy.ndarray"
      ]
     },
     "execution_count": 3,
     "metadata": {},
     "output_type": "execute_result"
    }
   ],
   "source": [
    "type(v1)"
   ]
  },
  {
   "cell_type": "markdown",
   "id": "b4a0d463",
   "metadata": {},
   "source": [
    "### 1.2 Vector Multiplication"
   ]
  },
  {
   "cell_type": "code",
   "execution_count": 4,
   "id": "fef2b3bc",
   "metadata": {},
   "outputs": [
    {
     "data": {
      "text/plain": [
       "23"
      ]
     },
     "execution_count": 4,
     "metadata": {},
     "output_type": "execute_result"
    }
   ],
   "source": [
    "np.dot(v1,v2)"
   ]
  },
  {
   "cell_type": "markdown",
   "id": "59908287",
   "metadata": {},
   "source": [
    "### Mismatched vectors\n",
    "Cannot use scalar product (i.e., dot product)"
   ]
  },
  {
   "cell_type": "code",
   "execution_count": 5,
   "id": "3a252331",
   "metadata": {},
   "outputs": [
    {
     "data": {
      "text/plain": [
       "array([4, 5])"
      ]
     },
     "execution_count": 5,
     "metadata": {},
     "output_type": "execute_result"
    }
   ],
   "source": [
    "v2"
   ]
  },
  {
   "cell_type": "code",
   "execution_count": 6,
   "id": "88bc5876",
   "metadata": {},
   "outputs": [
    {
     "data": {
      "text/plain": [
       "array([2, 3, 4])"
      ]
     },
     "execution_count": 6,
     "metadata": {},
     "output_type": "execute_result"
    }
   ],
   "source": [
    "v3 = np.array([2,3,4]) \n",
    "v3"
   ]
  },
  {
   "cell_type": "code",
   "execution_count": 7,
   "id": "c71ec8e1",
   "metadata": {},
   "outputs": [
    {
     "ename": "ValueError",
     "evalue": "shapes (3,) and (2,) not aligned: 3 (dim 0) != 2 (dim 0)",
     "output_type": "error",
     "traceback": [
      "\u001b[0;31m---------------------------------------------------------------------------\u001b[0m",
      "\u001b[0;31mValueError\u001b[0m                                Traceback (most recent call last)",
      "Cell \u001b[0;32mIn[7], line 1\u001b[0m\n\u001b[0;32m----> 1\u001b[0m np\u001b[39m.\u001b[39;49mdot(v3, v2)\n",
      "File \u001b[0;32m<__array_function__ internals>:5\u001b[0m, in \u001b[0;36mdot\u001b[0;34m(*args, **kwargs)\u001b[0m\n",
      "\u001b[0;31mValueError\u001b[0m: shapes (3,) and (2,) not aligned: 3 (dim 0) != 2 (dim 0)"
     ]
    }
   ],
   "source": [
    "np.dot(v3, v2)"
   ]
  },
  {
   "cell_type": "markdown",
   "id": "1da9caa9",
   "metadata": {},
   "source": [
    "### 1.3 Weighted sums of vectors"
   ]
  },
  {
   "cell_type": "code",
   "execution_count": 8,
   "id": "50d28a92",
   "metadata": {},
   "outputs": [
    {
     "data": {
      "text/plain": [
       "array([3.5, 4.5])"
      ]
     },
     "execution_count": 8,
     "metadata": {},
     "output_type": "execute_result"
    }
   ],
   "source": [
    "w1 = .25\n",
    "w2 = .75\n",
    "w1*v1+w2*v2"
   ]
  },
  {
   "cell_type": "markdown",
   "id": "8266cc88",
   "metadata": {},
   "source": [
    "### 1.4 Vector norms\n",
    "Note that instead of the L2 norm (standard euclidean norm) you can change the 2 to any number to calculate any arbitray p-norm.  Traditional choices are the L1 Norm (taxicab norm), and the L_infinity norm. "
   ]
  },
  {
   "cell_type": "code",
   "execution_count": 9,
   "id": "1b2595af",
   "metadata": {},
   "outputs": [
    {
     "data": {
      "text/plain": [
       "3.7416573867739413"
      ]
     },
     "execution_count": 9,
     "metadata": {},
     "output_type": "execute_result"
    }
   ],
   "source": [
    "v3 = np.array([1,2,3])\n",
    "np.linalg.norm(v3, 2)"
   ]
  },
  {
   "cell_type": "markdown",
   "id": "ddf47a9d",
   "metadata": {},
   "source": [
    "$L_1$ norm is defined as sum of absolute values of components <br>\n",
    "$\\displaystyle \\|{\\boldsymbol {x}}\\|_{1}:=\\sum _{i=1}^{n}\\left|x_{i}\\right|$"
   ]
  },
  {
   "cell_type": "code",
   "execution_count": 10,
   "id": "6d38d244",
   "metadata": {},
   "outputs": [
    {
     "data": {
      "text/plain": [
       "6.0"
      ]
     },
     "execution_count": 10,
     "metadata": {},
     "output_type": "execute_result"
    }
   ],
   "source": [
    "np.linalg.norm(v3, 1)"
   ]
  },
  {
   "cell_type": "markdown",
   "id": "4ee866b9",
   "metadata": {},
   "source": [
    "$L_\\infty$ norm is the maximum component <br> \n",
    "${\\displaystyle \\|\\mathbf {x} \\|_{\\infty }:=\\max _{i}\\left|x_{i}\\right|}$"
   ]
  },
  {
   "cell_type": "code",
   "execution_count": 11,
   "id": "a03b06ff",
   "metadata": {},
   "outputs": [
    {
     "data": {
      "text/plain": [
       "3.0"
      ]
     },
     "execution_count": 11,
     "metadata": {},
     "output_type": "execute_result"
    }
   ],
   "source": [
    "np.linalg.norm(v3, np.inf)"
   ]
  },
  {
   "cell_type": "markdown",
   "id": "2f290679",
   "metadata": {},
   "source": [
    "## 2.0 Matrices"
   ]
  },
  {
   "cell_type": "markdown",
   "id": "a691613f",
   "metadata": {},
   "source": [
    "### 2.1 Creating an Matrix\n",
    "This can be done two ways: </p>"
   ]
  },
  {
   "cell_type": "markdown",
   "id": "2d17ac05",
   "metadata": {},
   "source": [
    "**First:**  Create a list and then reshape the list into the matrix shape you want"
   ]
  },
  {
   "cell_type": "code",
   "execution_count": 12,
   "id": "73c863a7",
   "metadata": {},
   "outputs": [],
   "source": [
    "a = (7.92, 5.68, 5.68, 6.29)"
   ]
  },
  {
   "cell_type": "code",
   "execution_count": 13,
   "id": "c28aa3e8",
   "metadata": {},
   "outputs": [
    {
     "name": "stdout",
     "output_type": "stream",
     "text": [
      "[[7.92 5.68]\n",
      " [5.68 6.29]]\n",
      "(2, 2)\n"
     ]
    }
   ],
   "source": [
    "a = np.reshape(a, (2,2), order='C')\n",
    "print(a)\n",
    "print(a.shape)"
   ]
  },
  {
   "cell_type": "code",
   "execution_count": 15,
   "id": "c03df028",
   "metadata": {},
   "outputs": [
    {
     "name": "stdout",
     "output_type": "stream",
     "text": [
      "[[7.92 5.68]\n",
      " [5.68 6.29]]\n",
      "(2, 2)\n"
     ]
    }
   ],
   "source": [
    "b = np.reshape(a, (2,2), order='F')\n",
    "print(b)\n",
    "print(b.shape)"
   ]
  },
  {
   "cell_type": "markdown",
   "id": "1c105d48",
   "metadata": {},
   "source": [
    "**Second:**  Directly create the matrix"
   ]
  },
  {
   "cell_type": "code",
   "execution_count": 16,
   "id": "e777934d",
   "metadata": {},
   "outputs": [
    {
     "name": "stdout",
     "output_type": "stream",
     "text": [
      "Matrix C has shape (2, 2)\n",
      "[[1 0]\n",
      " [0 1]]\n"
     ]
    }
   ],
   "source": [
    "c = np.array([[1, 0],[0, 1]])\n",
    "print(\"Matrix C has shape\" , c.shape)\n",
    "print(c)"
   ]
  },
  {
   "cell_type": "markdown",
   "id": "ab8d438a",
   "metadata": {},
   "source": [
    "### 2.2 Matrix Transpose"
   ]
  },
  {
   "cell_type": "code",
   "execution_count": 17,
   "id": "166791ac",
   "metadata": {},
   "outputs": [
    {
     "data": {
      "text/plain": [
       "array([[1, 2],\n",
       "       [3, 4]])"
      ]
     },
     "execution_count": 17,
     "metadata": {},
     "output_type": "execute_result"
    }
   ],
   "source": [
    "m1 = np.array([[1,2],[3,4]])\n",
    "m1"
   ]
  },
  {
   "cell_type": "code",
   "execution_count": 18,
   "id": "3f93bb7d",
   "metadata": {},
   "outputs": [
    {
     "data": {
      "text/plain": [
       "array([[1, 3],\n",
       "       [2, 4]])"
      ]
     },
     "execution_count": 18,
     "metadata": {},
     "output_type": "execute_result"
    }
   ],
   "source": [
    "m1.T"
   ]
  },
  {
   "cell_type": "markdown",
   "id": "20a4c517",
   "metadata": {},
   "source": [
    "### 2.3 *ij* 'th element of a Matrix"
   ]
  },
  {
   "cell_type": "code",
   "execution_count": 19,
   "id": "82f24309",
   "metadata": {},
   "outputs": [
    {
     "data": {
      "text/plain": [
       "1"
      ]
     },
     "execution_count": 19,
     "metadata": {},
     "output_type": "execute_result"
    }
   ],
   "source": [
    "# i=0 and j=0 (recall Python 0 index)\n",
    "m1[0,0]"
   ]
  },
  {
   "cell_type": "code",
   "execution_count": 20,
   "id": "783aaaf5",
   "metadata": {},
   "outputs": [
    {
     "data": {
      "text/plain": [
       "2"
      ]
     },
     "execution_count": 20,
     "metadata": {},
     "output_type": "execute_result"
    }
   ],
   "source": [
    "m1[0,1]"
   ]
  },
  {
   "cell_type": "code",
   "execution_count": 21,
   "id": "3b197a21",
   "metadata": {},
   "outputs": [
    {
     "data": {
      "text/plain": [
       "array([3, 4])"
      ]
     },
     "execution_count": 21,
     "metadata": {},
     "output_type": "execute_result"
    }
   ],
   "source": [
    "#row slice, a vector\n",
    "m1[1,:]"
   ]
  },
  {
   "cell_type": "code",
   "execution_count": 22,
   "id": "a4efabde",
   "metadata": {},
   "outputs": [
    {
     "data": {
      "text/plain": [
       "array([2, 4])"
      ]
     },
     "execution_count": 22,
     "metadata": {},
     "output_type": "execute_result"
    }
   ],
   "source": [
    "# Column slice, a vector\n",
    "m1[:,1]"
   ]
  },
  {
   "cell_type": "markdown",
   "id": "d8a0a76a",
   "metadata": {},
   "source": [
    "### 2.4 Matrix Addition"
   ]
  },
  {
   "cell_type": "code",
   "execution_count": 23,
   "id": "3d1cdd78",
   "metadata": {},
   "outputs": [
    {
     "data": {
      "text/plain": [
       "array([[1, 2],\n",
       "       [3, 4]])"
      ]
     },
     "execution_count": 23,
     "metadata": {},
     "output_type": "execute_result"
    }
   ],
   "source": [
    "m1"
   ]
  },
  {
   "cell_type": "code",
   "execution_count": 24,
   "id": "b0864026",
   "metadata": {},
   "outputs": [
    {
     "data": {
      "text/plain": [
       "array([[5, 6],\n",
       "       [7, 8]])"
      ]
     },
     "execution_count": 24,
     "metadata": {},
     "output_type": "execute_result"
    }
   ],
   "source": [
    "m2 = np.array([[5,6],[7,8]])\n",
    "m2"
   ]
  },
  {
   "cell_type": "code",
   "execution_count": 25,
   "id": "e19493eb",
   "metadata": {},
   "outputs": [
    {
     "data": {
      "text/plain": [
       "array([[ 6,  8],\n",
       "       [10, 12]])"
      ]
     },
     "execution_count": 25,
     "metadata": {},
     "output_type": "execute_result"
    }
   ],
   "source": [
    "m1 + m2"
   ]
  },
  {
   "cell_type": "markdown",
   "id": "d590de55",
   "metadata": {},
   "source": [
    "### 2.5 Scalar Matrix multiplication"
   ]
  },
  {
   "cell_type": "code",
   "execution_count": 26,
   "id": "6e3f88eb",
   "metadata": {},
   "outputs": [
    {
     "data": {
      "text/plain": [
       "array([[ 5, 10],\n",
       "       [15, 20]])"
      ]
     },
     "execution_count": 26,
     "metadata": {},
     "output_type": "execute_result"
    }
   ],
   "source": [
    "5*m1"
   ]
  },
  {
   "cell_type": "markdown",
   "id": "d2191c70",
   "metadata": {},
   "source": [
    "### 2.6 Matrix Multiplication \n",
    "Numpy has many ways of doing matrix multiplcation and they are not all the same.  Stick with np.dot(a, b)."
   ]
  },
  {
   "cell_type": "code",
   "execution_count": 27,
   "id": "9b36190d",
   "metadata": {},
   "outputs": [
    {
     "data": {
      "text/plain": [
       "array([[1, 2],\n",
       "       [3, 4]])"
      ]
     },
     "execution_count": 27,
     "metadata": {},
     "output_type": "execute_result"
    }
   ],
   "source": [
    "m1"
   ]
  },
  {
   "cell_type": "code",
   "execution_count": 28,
   "id": "3c04abae",
   "metadata": {},
   "outputs": [
    {
     "name": "stdout",
     "output_type": "stream",
     "text": [
      "[[5 6]\n",
      " [1 2]]\n"
     ]
    }
   ],
   "source": [
    "m2 = np.array([[5,6],[1,2]])\n",
    "print(m2)"
   ]
  },
  {
   "cell_type": "code",
   "execution_count": 29,
   "id": "dba0a2fc",
   "metadata": {},
   "outputs": [
    {
     "name": "stdout",
     "output_type": "stream",
     "text": [
      "[[ 7 10]\n",
      " [19 26]]\n"
     ]
    }
   ],
   "source": [
    "# Good\n",
    "print(np.dot(m1,m2))"
   ]
  },
  {
   "cell_type": "code",
   "execution_count": 27,
   "id": "042b2610",
   "metadata": {},
   "outputs": [
    {
     "name": "stdout",
     "output_type": "stream",
     "text": [
      "[[ 7 10]\n",
      " [19 26]]\n"
     ]
    }
   ],
   "source": [
    "#BAD - For easy problems these looks the same but as you get deeper into data science (tensors) they diverge.\n",
    "print(np.matmul(m1,m2))"
   ]
  },
  {
   "cell_type": "code",
   "execution_count": 30,
   "id": "788da971",
   "metadata": {},
   "outputs": [
    {
     "name": "stdout",
     "output_type": "stream",
     "text": [
      "[[ 7 10]\n",
      " [19 26]]\n"
     ]
    }
   ],
   "source": [
    "#Also BAD - Just A shortcut for  matmul\n",
    "#You can use @/matmul, and sometimes need to.  But be aware that @ != np.dot\n",
    "print(m1@m2)"
   ]
  },
  {
   "cell_type": "markdown",
   "id": "80cd9a14",
   "metadata": {},
   "source": [
    "#### Example\n",
    "For simple matrices these two methods match but for tensors they do not.  Probably doesn't matter now but worth remembering. "
   ]
  },
  {
   "cell_type": "code",
   "execution_count": 31,
   "id": "bf4efc38",
   "metadata": {},
   "outputs": [
    {
     "name": "stdout",
     "output_type": "stream",
     "text": [
      "[[[0.81293755 0.73844101 0.1962041 ]\n",
      "  [0.62138537 0.787837   0.7860234 ]\n",
      "  [0.58814563 0.43994756 0.13727539]]\n",
      "\n",
      " [[0.35378897 0.1185117  0.37942823]\n",
      "  [0.77491973 0.88125417 0.08467242]\n",
      "  [0.95483009 0.08682723 0.74248864]]]\n"
     ]
    }
   ],
   "source": [
    "a = np.random.rand(2,3,3)\n",
    "print(a)"
   ]
  },
  {
   "cell_type": "code",
   "execution_count": 32,
   "id": "e0097a00",
   "metadata": {},
   "outputs": [
    {
     "name": "stdout",
     "output_type": "stream",
     "text": [
      "[[[0.91444259 0.17242092 0.04209062]\n",
      "  [0.60725205 0.8455373  0.49957035]\n",
      "  [0.70897651 0.13709292 0.44224454]]\n",
      "\n",
      " [[0.45440733 0.01402636 0.08078521]\n",
      "  [0.66240899 0.62842298 0.91482974]\n",
      "  [0.12631504 0.9203748  0.4279532 ]]]\n"
     ]
    }
   ],
   "source": [
    "b = np.random.rand(2,3,3)\n",
    "print(b)"
   ]
  },
  {
   "cell_type": "code",
   "execution_count": 33,
   "id": "d5a7bc76",
   "metadata": {},
   "outputs": [
    {
     "name": "stdout",
     "output_type": "stream",
     "text": [
      "[[[1.33090863 0.79144504 0.48989047]\n",
      "  [1.60390901 0.88104364 0.76734906]\n",
      "  [0.90230949 0.49222016 0.30524946]]\n",
      "\n",
      " [[0.28719501 0.42865403 0.29937647]\n",
      "  [0.94657529 0.64260003 0.90503541]\n",
      "  [0.58518441 0.75132484 0.47431867]]]\n"
     ]
    }
   ],
   "source": [
    "c = (a@b)\n",
    "print(c)"
   ]
  },
  {
   "cell_type": "code",
   "execution_count": 34,
   "id": "95bf9096",
   "metadata": {},
   "outputs": [
    {
     "name": "stdout",
     "output_type": "stream",
     "text": [
      "[[[[1.33090863 0.79144504 0.48989047]\n",
      "   [0.88333827 0.65603715 0.82518729]]\n",
      "\n",
      "  [[1.60390901 0.88104364 0.76734906]\n",
      "   [0.90351896 1.22724677 1.10731669]]\n",
      "\n",
      "  [[0.90230949 0.49222016 0.30524946]\n",
      "   [0.57602285 0.4110675  0.50873802]]]\n",
      "\n",
      "\n",
      " [[[0.66449188 0.21322361 0.2418962 ]\n",
      "   [0.28719501 0.42865403 0.29937647]]\n",
      "\n",
      "  [[1.30379377 0.89035363 0.51031123]\n",
      "   [0.94657529 0.64260003 0.90503541]]\n",
      "\n",
      "  [[1.45227031 0.33983828 0.41192725]\n",
      "   [0.58518441 0.75132484 0.47431867]]]]\n"
     ]
    }
   ],
   "source": [
    "d = np.dot(a,b)\n",
    "print(d)"
   ]
  },
  {
   "cell_type": "markdown",
   "id": "f279c595",
   "metadata": {},
   "source": [
    "### 2.7 Hadamard Product\n",
    "Also called element wise matrix multiplication </p>\n",
    "Be careful here.  If you were to use the np.matrix command to create matrices instead of arrays everything till now would look the same but you would not get the Hadamard product.  **Best practice is to use arrays in Python not matrices.** "
   ]
  },
  {
   "cell_type": "code",
   "execution_count": 35,
   "id": "34dcfb82",
   "metadata": {},
   "outputs": [
    {
     "data": {
      "text/plain": [
       "array([[1, 2],\n",
       "       [3, 4]])"
      ]
     },
     "execution_count": 35,
     "metadata": {},
     "output_type": "execute_result"
    }
   ],
   "source": [
    "m1"
   ]
  },
  {
   "cell_type": "code",
   "execution_count": 36,
   "id": "0c93a70a",
   "metadata": {},
   "outputs": [
    {
     "data": {
      "text/plain": [
       "array([[5, 6],\n",
       "       [1, 2]])"
      ]
     },
     "execution_count": 36,
     "metadata": {},
     "output_type": "execute_result"
    }
   ],
   "source": [
    "m2"
   ]
  },
  {
   "cell_type": "code",
   "execution_count": 37,
   "id": "eeb57837",
   "metadata": {},
   "outputs": [
    {
     "data": {
      "text/plain": [
       "array([[ 5, 12],\n",
       "       [ 3,  8]])"
      ]
     },
     "execution_count": 37,
     "metadata": {},
     "output_type": "execute_result"
    }
   ],
   "source": [
    "m1 * m2"
   ]
  },
  {
   "cell_type": "code",
   "execution_count": 38,
   "id": "bac7e0ef",
   "metadata": {},
   "outputs": [],
   "source": [
    "m1=np.matrix([[1,2],[3,4]])\n",
    "m2=np.matrix([[5,6],[1,2]])"
   ]
  },
  {
   "cell_type": "code",
   "execution_count": 39,
   "id": "8a83d08a",
   "metadata": {},
   "outputs": [
    {
     "data": {
      "text/plain": [
       "matrix([[ 7, 10],\n",
       "        [19, 26]])"
      ]
     },
     "execution_count": 39,
     "metadata": {},
     "output_type": "execute_result"
    }
   ],
   "source": [
    "m1*m2"
   ]
  },
  {
   "cell_type": "markdown",
   "id": "7201c957",
   "metadata": {},
   "source": [
    "### 2.8 Trace"
   ]
  },
  {
   "cell_type": "code",
   "execution_count": 40,
   "id": "faaad4bc",
   "metadata": {},
   "outputs": [
    {
     "data": {
      "text/plain": [
       "matrix([[1, 2],\n",
       "        [3, 4]])"
      ]
     },
     "execution_count": 40,
     "metadata": {},
     "output_type": "execute_result"
    }
   ],
   "source": [
    "m1"
   ]
  },
  {
   "cell_type": "code",
   "execution_count": 41,
   "id": "ff6e9d1a",
   "metadata": {},
   "outputs": [
    {
     "data": {
      "text/plain": [
       "5"
      ]
     },
     "execution_count": 41,
     "metadata": {},
     "output_type": "execute_result"
    }
   ],
   "source": [
    "np.trace(m1)"
   ]
  },
  {
   "cell_type": "markdown",
   "id": "17c364ae",
   "metadata": {},
   "source": [
    "### 2.9 Determinants"
   ]
  },
  {
   "cell_type": "code",
   "execution_count": 42,
   "id": "34537c21",
   "metadata": {},
   "outputs": [
    {
     "data": {
      "text/plain": [
       "array([[1, 2],\n",
       "       [3, 7]])"
      ]
     },
     "execution_count": 42,
     "metadata": {},
     "output_type": "execute_result"
    }
   ],
   "source": [
    "m1 = np.array([[1,2],[3,7]])\n",
    "m1"
   ]
  },
  {
   "cell_type": "code",
   "execution_count": 43,
   "id": "3cd5455d",
   "metadata": {},
   "outputs": [
    {
     "data": {
      "text/plain": [
       "0.9999999999999991"
      ]
     },
     "execution_count": 43,
     "metadata": {},
     "output_type": "execute_result"
    }
   ],
   "source": [
    "np.linalg.det(m1)"
   ]
  },
  {
   "cell_type": "markdown",
   "id": "8b7657ae",
   "metadata": {},
   "source": [
    "### 2.10 Matrix Inverse\n",
    "Numpy can easily find the inverse of a matrix"
   ]
  },
  {
   "cell_type": "code",
   "execution_count": 44,
   "id": "2216284a",
   "metadata": {},
   "outputs": [
    {
     "data": {
      "text/plain": [
       "array([[1, 2],\n",
       "       [3, 7]])"
      ]
     },
     "execution_count": 44,
     "metadata": {},
     "output_type": "execute_result"
    }
   ],
   "source": [
    "m1"
   ]
  },
  {
   "cell_type": "code",
   "execution_count": 45,
   "id": "973f7888",
   "metadata": {},
   "outputs": [
    {
     "name": "stdout",
     "output_type": "stream",
     "text": [
      "[[ 7. -2.]\n",
      " [-3.  1.]]\n"
     ]
    }
   ],
   "source": [
    "m3 = np.linalg.inv(m1)\n",
    "print(m3)"
   ]
  },
  {
   "cell_type": "markdown",
   "id": "2cbd9e61",
   "metadata": {},
   "source": [
    "### 2.11 Eigenvalues and Eigenvectors"
   ]
  },
  {
   "cell_type": "code",
   "execution_count": 46,
   "id": "e30b81f8",
   "metadata": {},
   "outputs": [
    {
     "name": "stdout",
     "output_type": "stream",
     "text": [
      "E-values of A: \n",
      " [10.20312646  1.41987857 -2.62300503]\n",
      "E-vectors of A: \n",
      " [-0.41798254 -0.7676085  -0.48586808] \n",
      " [-0.55647306  0.63908551 -0.53094957] \n",
      " [-0.71807265 -0.04844484  0.69428003]\n"
     ]
    }
   ],
   "source": [
    "A = np.array([[2, 1, 4], \n",
    "              [1, 3, 5],\n",
    "              [4, 5, 4]])\n",
    "w,v=eig(A)\n",
    "print('E-values of A:', '\\r\\n',w)\n",
    "print('E-vectors of A:','\\r\\n', v[0],'\\r\\n', v[1], '\\r\\n',v[2])"
   ]
  },
  {
   "cell_type": "markdown",
   "id": "67167965",
   "metadata": {},
   "source": [
    "Remember Eigenvalue decomposition from slide 31? <br>\n",
    "$A = E \\Lambda E^{-1}$ <br>\n",
    "Let's check that.  First we define $\\Lambda$ "
   ]
  },
  {
   "cell_type": "code",
   "execution_count": 47,
   "id": "4ba6205e",
   "metadata": {
    "scrolled": false
   },
   "outputs": [
    {
     "data": {
      "text/plain": [
       "array([[10.20312646,  0.        ,  0.        ],\n",
       "       [ 0.        ,  1.41987857,  0.        ],\n",
       "       [ 0.        ,  0.        , -2.62300503]])"
      ]
     },
     "execution_count": 47,
     "metadata": {},
     "output_type": "execute_result"
    }
   ],
   "source": [
    "l=np.diag(w)\n",
    "l"
   ]
  },
  {
   "cell_type": "code",
   "execution_count": 48,
   "id": "ac7b2019",
   "metadata": {},
   "outputs": [
    {
     "data": {
      "text/plain": [
       "array([[2., 1., 4.],\n",
       "       [1., 3., 5.],\n",
       "       [4., 5., 4.]])"
      ]
     },
     "execution_count": 48,
     "metadata": {},
     "output_type": "execute_result"
    }
   ],
   "source": [
    "v@l@np.linalg.inv(v)"
   ]
  },
  {
   "cell_type": "markdown",
   "id": "4e889b74",
   "metadata": {},
   "source": [
    "Yep.  Our decomposition recreated A!"
   ]
  },
  {
   "cell_type": "code",
   "execution_count": 49,
   "id": "a63f02f5",
   "metadata": {},
   "outputs": [
    {
     "data": {
      "text/plain": [
       "9"
      ]
     },
     "execution_count": 49,
     "metadata": {},
     "output_type": "execute_result"
    }
   ],
   "source": [
    "np.trace(A)"
   ]
  },
  {
   "cell_type": "markdown",
   "id": "6aeca670",
   "metadata": {},
   "source": [
    "recall that the sum of the eigenvalues(A) = trace(A)"
   ]
  },
  {
   "cell_type": "code",
   "execution_count": 50,
   "id": "b5813e22",
   "metadata": {},
   "outputs": [
    {
     "data": {
      "text/plain": [
       "9.0"
      ]
     },
     "execution_count": 50,
     "metadata": {},
     "output_type": "execute_result"
    }
   ],
   "source": [
    "w@np.ones(3)"
   ]
  },
  {
   "cell_type": "markdown",
   "id": "9806b3e1",
   "metadata": {},
   "source": [
    "## 3. Statistics\n",
    "If you want to import excel (.xls) instead of a .csv use the command pd.read_excel. You may also need to `pip install openpyxl` </p> <br>\n",
    "Additionally, you need to either have the data file in the same folder as the Python code or you need to use more complicated code to tell Python where to look."
   ]
  },
  {
   "cell_type": "markdown",
   "id": "0f838d7f",
   "metadata": {},
   "source": [
    "### 3.1 Import Data Set"
   ]
  },
  {
   "cell_type": "code",
   "execution_count": 51,
   "id": "e0ea52c7",
   "metadata": {},
   "outputs": [],
   "source": [
    "bodymeasure = pd.read_csv(\"bodymeasurements.csv\", index_col=None)"
   ]
  },
  {
   "cell_type": "code",
   "execution_count": 52,
   "id": "d3defe53",
   "metadata": {},
   "outputs": [
    {
     "data": {
      "text/plain": [
       "(33, 11)"
      ]
     },
     "execution_count": 52,
     "metadata": {},
     "output_type": "execute_result"
    }
   ],
   "source": [
    "bodymeasure.shape"
   ]
  },
  {
   "cell_type": "markdown",
   "id": "065efe14",
   "metadata": {},
   "source": [
    "Note that the data is imported as a pandas dataframe **not** as an array or matrix.  "
   ]
  },
  {
   "cell_type": "code",
   "execution_count": 53,
   "id": "1a1978a9",
   "metadata": {},
   "outputs": [
    {
     "data": {
      "text/plain": [
       "pandas.core.frame.DataFrame"
      ]
     },
     "execution_count": 53,
     "metadata": {},
     "output_type": "execute_result"
    }
   ],
   "source": [
    "type(bodymeasure)"
   ]
  },
  {
   "cell_type": "code",
   "execution_count": 56,
   "id": "4be9da46",
   "metadata": {},
   "outputs": [
    {
     "data": {
      "text/html": [
       "<div>\n",
       "<style scoped>\n",
       "    .dataframe tbody tr th:only-of-type {\n",
       "        vertical-align: middle;\n",
       "    }\n",
       "\n",
       "    .dataframe tbody tr th {\n",
       "        vertical-align: top;\n",
       "    }\n",
       "\n",
       "    .dataframe thead th {\n",
       "        text-align: right;\n",
       "    }\n",
       "</style>\n",
       "<table border=\"1\" class=\"dataframe\">\n",
       "  <thead>\n",
       "    <tr style=\"text-align: right;\">\n",
       "      <th></th>\n",
       "      <th>ID</th>\n",
       "      <th>Height</th>\n",
       "      <th>SITHT</th>\n",
       "      <th>UARM</th>\n",
       "      <th>FORE</th>\n",
       "      <th>Hand</th>\n",
       "      <th>ULEG</th>\n",
       "      <th>LLEG</th>\n",
       "      <th>FOOT</th>\n",
       "      <th>BRACH</th>\n",
       "      <th>TIBIO</th>\n",
       "    </tr>\n",
       "  </thead>\n",
       "  <tbody>\n",
       "    <tr>\n",
       "      <th>0</th>\n",
       "      <td>1</td>\n",
       "      <td>165.8</td>\n",
       "      <td>88.7</td>\n",
       "      <td>31.8</td>\n",
       "      <td>28.1</td>\n",
       "      <td>18.7</td>\n",
       "      <td>40.3</td>\n",
       "      <td>38.9</td>\n",
       "      <td>6.7</td>\n",
       "      <td>88.36</td>\n",
       "      <td>96.53</td>\n",
       "    </tr>\n",
       "    <tr>\n",
       "      <th>1</th>\n",
       "      <td>2</td>\n",
       "      <td>169.8</td>\n",
       "      <td>90.0</td>\n",
       "      <td>32.4</td>\n",
       "      <td>29.1</td>\n",
       "      <td>18.3</td>\n",
       "      <td>43.3</td>\n",
       "      <td>42.7</td>\n",
       "      <td>6.4</td>\n",
       "      <td>89.81</td>\n",
       "      <td>98.61</td>\n",
       "    </tr>\n",
       "    <tr>\n",
       "      <th>2</th>\n",
       "      <td>3</td>\n",
       "      <td>170.7</td>\n",
       "      <td>87.7</td>\n",
       "      <td>33.6</td>\n",
       "      <td>29.5</td>\n",
       "      <td>20.7</td>\n",
       "      <td>43.7</td>\n",
       "      <td>41.1</td>\n",
       "      <td>7.2</td>\n",
       "      <td>87.80</td>\n",
       "      <td>94.05</td>\n",
       "    </tr>\n",
       "    <tr>\n",
       "      <th>3</th>\n",
       "      <td>4</td>\n",
       "      <td>170.9</td>\n",
       "      <td>87.1</td>\n",
       "      <td>31.0</td>\n",
       "      <td>28.2</td>\n",
       "      <td>18.6</td>\n",
       "      <td>43.7</td>\n",
       "      <td>40.6</td>\n",
       "      <td>6.7</td>\n",
       "      <td>90.97</td>\n",
       "      <td>92.91</td>\n",
       "    </tr>\n",
       "    <tr>\n",
       "      <th>4</th>\n",
       "      <td>5</td>\n",
       "      <td>157.5</td>\n",
       "      <td>81.3</td>\n",
       "      <td>32.1</td>\n",
       "      <td>27.3</td>\n",
       "      <td>17.5</td>\n",
       "      <td>38.1</td>\n",
       "      <td>39.6</td>\n",
       "      <td>6.6</td>\n",
       "      <td>85.05</td>\n",
       "      <td>103.94</td>\n",
       "    </tr>\n",
       "  </tbody>\n",
       "</table>\n",
       "</div>"
      ],
      "text/plain": [
       "   ID  Height  SITHT  UARM  FORE  Hand  ULEG  LLEG  FOOT  BRACH   TIBIO\n",
       "0   1   165.8   88.7  31.8  28.1  18.7  40.3  38.9   6.7  88.36   96.53\n",
       "1   2   169.8   90.0  32.4  29.1  18.3  43.3  42.7   6.4  89.81   98.61\n",
       "2   3   170.7   87.7  33.6  29.5  20.7  43.7  41.1   7.2  87.80   94.05\n",
       "3   4   170.9   87.1  31.0  28.2  18.6  43.7  40.6   6.7  90.97   92.91\n",
       "4   5   157.5   81.3  32.1  27.3  17.5  38.1  39.6   6.6  85.05  103.94"
      ]
     },
     "execution_count": 56,
     "metadata": {},
     "output_type": "execute_result"
    }
   ],
   "source": [
    "bodymeasure.head()"
   ]
  },
  {
   "cell_type": "markdown",
   "id": "8da5cce6",
   "metadata": {},
   "source": [
    "we can still slice the data but we need different commands"
   ]
  },
  {
   "cell_type": "code",
   "execution_count": 57,
   "id": "cee4163f",
   "metadata": {},
   "outputs": [
    {
     "data": {
      "text/html": [
       "<div>\n",
       "<style scoped>\n",
       "    .dataframe tbody tr th:only-of-type {\n",
       "        vertical-align: middle;\n",
       "    }\n",
       "\n",
       "    .dataframe tbody tr th {\n",
       "        vertical-align: top;\n",
       "    }\n",
       "\n",
       "    .dataframe thead th {\n",
       "        text-align: right;\n",
       "    }\n",
       "</style>\n",
       "<table border=\"1\" class=\"dataframe\">\n",
       "  <thead>\n",
       "    <tr style=\"text-align: right;\">\n",
       "      <th></th>\n",
       "      <th>ID</th>\n",
       "      <th>Height</th>\n",
       "      <th>SITHT</th>\n",
       "      <th>UARM</th>\n",
       "      <th>FORE</th>\n",
       "      <th>Hand</th>\n",
       "      <th>ULEG</th>\n",
       "      <th>LLEG</th>\n",
       "      <th>FOOT</th>\n",
       "      <th>BRACH</th>\n",
       "      <th>TIBIO</th>\n",
       "    </tr>\n",
       "  </thead>\n",
       "  <tbody>\n",
       "    <tr>\n",
       "      <th>0</th>\n",
       "      <td>1</td>\n",
       "      <td>165.8</td>\n",
       "      <td>88.7</td>\n",
       "      <td>31.8</td>\n",
       "      <td>28.1</td>\n",
       "      <td>18.7</td>\n",
       "      <td>40.3</td>\n",
       "      <td>38.9</td>\n",
       "      <td>6.7</td>\n",
       "      <td>88.36</td>\n",
       "      <td>96.53</td>\n",
       "    </tr>\n",
       "    <tr>\n",
       "      <th>1</th>\n",
       "      <td>2</td>\n",
       "      <td>169.8</td>\n",
       "      <td>90.0</td>\n",
       "      <td>32.4</td>\n",
       "      <td>29.1</td>\n",
       "      <td>18.3</td>\n",
       "      <td>43.3</td>\n",
       "      <td>42.7</td>\n",
       "      <td>6.4</td>\n",
       "      <td>89.81</td>\n",
       "      <td>98.61</td>\n",
       "    </tr>\n",
       "  </tbody>\n",
       "</table>\n",
       "</div>"
      ],
      "text/plain": [
       "   ID  Height  SITHT  UARM  FORE  Hand  ULEG  LLEG  FOOT  BRACH  TIBIO\n",
       "0   1   165.8   88.7  31.8  28.1  18.7  40.3  38.9   6.7  88.36  96.53\n",
       "1   2   169.8   90.0  32.4  29.1  18.3  43.3  42.7   6.4  89.81  98.61"
      ]
     },
     "execution_count": 57,
     "metadata": {},
     "output_type": "execute_result"
    }
   ],
   "source": [
    "bodymeasure.loc[0:1]"
   ]
  },
  {
   "cell_type": "code",
   "execution_count": 58,
   "id": "17a4ffa0",
   "metadata": {},
   "outputs": [
    {
     "data": {
      "text/plain": [
       "0     165.8\n",
       "1     169.8\n",
       "2     170.7\n",
       "3     170.9\n",
       "4     157.5\n",
       "5     165.9\n",
       "6     158.7\n",
       "7     166.0\n",
       "8     158.7\n",
       "9     161.5\n",
       "10    167.3\n",
       "11    167.4\n",
       "12    159.2\n",
       "13    170.0\n",
       "14    166.3\n",
       "15    169.0\n",
       "16    156.2\n",
       "17    159.6\n",
       "18    155.0\n",
       "19    161.1\n",
       "20    170.3\n",
       "21    167.8\n",
       "22    163.1\n",
       "23    165.8\n",
       "24    175.4\n",
       "25    159.8\n",
       "26    166.0\n",
       "27    161.2\n",
       "28    160.4\n",
       "29    164.3\n",
       "30    165.5\n",
       "31    167.2\n",
       "32    167.2\n",
       "Name: Height, dtype: float64"
      ]
     },
     "execution_count": 58,
     "metadata": {},
     "output_type": "execute_result"
    }
   ],
   "source": [
    "bodymeasure.loc[:,'Height']"
   ]
  },
  {
   "cell_type": "code",
   "execution_count": 59,
   "id": "e8203f65",
   "metadata": {},
   "outputs": [
    {
     "data": {
      "text/plain": [
       "ID         17.000000\n",
       "Height    164.563636\n",
       "SITHT      85.566667\n",
       "UARM       41.760606\n",
       "FORE       28.024242\n",
       "Hand       18.575758\n",
       "ULEG       42.315152\n",
       "LLEG       40.603030\n",
       "FOOT        6.027273\n",
       "BRACH      86.710909\n",
       "TIBIO      96.034242\n",
       "dtype: float64"
      ]
     },
     "execution_count": 59,
     "metadata": {},
     "output_type": "execute_result"
    }
   ],
   "source": [
    "np.mean(bodymeasure)"
   ]
  },
  {
   "cell_type": "code",
   "execution_count": 60,
   "id": "5ca9734b",
   "metadata": {},
   "outputs": [
    {
     "data": {
      "text/plain": [
       "ID         9.521905\n",
       "Height     4.817822\n",
       "SITHT      2.595879\n",
       "UARM      52.923844\n",
       "FORE       1.297557\n",
       "Hand       0.933235\n",
       "ULEG       2.214432\n",
       "LLEG       2.063020\n",
       "FOOT       0.626811\n",
       "BRACH      4.271511\n",
       "TIBIO      3.722308\n",
       "dtype: float64"
      ]
     },
     "execution_count": 60,
     "metadata": {},
     "output_type": "execute_result"
    }
   ],
   "source": [
    "np.std(bodymeasure)"
   ]
  },
  {
   "cell_type": "code",
   "execution_count": 61,
   "id": "71afabae",
   "metadata": {
    "scrolled": true
   },
   "outputs": [
    {
     "name": "stdout",
     "output_type": "stream",
     "text": [
      "           Height      FORE      Hand\n",
      "Height  23.936761  4.482784  2.683778\n",
      "FORE     4.482784  1.736269  0.626544\n",
      "Hand     2.683778  0.626544  0.898144\n"
     ]
    }
   ],
   "source": [
    "cov = bodymeasure[['Height', 'FORE', 'Hand']].cov()\n",
    "print(cov)"
   ]
  },
  {
   "cell_type": "code",
   "execution_count": 62,
   "id": "b85c4ce1",
   "metadata": {},
   "outputs": [
    {
     "name": "stdout",
     "output_type": "stream",
     "text": [
      "          Height      FORE      Hand\n",
      "Height  1.000000  0.695355  0.578817\n",
      "FORE    0.695355  1.000000  0.501730\n",
      "Hand    0.578817  0.501730  1.000000\n"
     ]
    }
   ],
   "source": [
    "cor = bodymeasure[['Height', 'FORE', 'Hand']].corr()\n",
    "print(cor)"
   ]
  },
  {
   "cell_type": "markdown",
   "id": "5ea73196",
   "metadata": {},
   "source": [
    "Note that covariance and correlation are ...correlated. Correlation is simply covariance on standardized data."
   ]
  },
  {
   "cell_type": "code",
   "execution_count": 63,
   "id": "8fa95f07",
   "metadata": {},
   "outputs": [],
   "source": [
    "Xstnd = (bodymeasure - bodymeasure.mean())/(bodymeasure.std())"
   ]
  },
  {
   "cell_type": "code",
   "execution_count": 64,
   "id": "031593d5",
   "metadata": {},
   "outputs": [
    {
     "name": "stdout",
     "output_type": "stream",
     "text": [
      "          Height      FORE      Hand\n",
      "Height  1.000000  0.695355  0.578817\n",
      "FORE    0.695355  1.000000  0.501730\n",
      "Hand    0.578817  0.501730  1.000000\n"
     ]
    }
   ],
   "source": [
    "cov = Xstnd[['Height', 'FORE', 'Hand']].cov()\n",
    "print(cov)"
   ]
  },
  {
   "cell_type": "markdown",
   "id": "b1f8f42b",
   "metadata": {},
   "source": [
    "## 4.0 On your own"
   ]
  },
  {
   "cell_type": "markdown",
   "id": "a9d729b7",
   "metadata": {},
   "source": [
    "#### 4.1 Import the file `Lesson_2.xlsx`"
   ]
  },
  {
   "cell_type": "code",
   "execution_count": 2,
   "id": "61df3909",
   "metadata": {},
   "outputs": [],
   "source": [
    "df = pd.read_excel(\"Lesson_2.xlsx\", index_col=None)"
   ]
  },
  {
   "cell_type": "markdown",
   "id": "25c90a2b",
   "metadata": {},
   "source": [
    "#### 4.2 Display the top 5 rows of this file using the \".head()\" command"
   ]
  },
  {
   "cell_type": "code",
   "execution_count": 4,
   "id": "182f64a9",
   "metadata": {},
   "outputs": [
    {
     "data": {
      "text/html": [
       "<div>\n",
       "<style scoped>\n",
       "    .dataframe tbody tr th:only-of-type {\n",
       "        vertical-align: middle;\n",
       "    }\n",
       "\n",
       "    .dataframe tbody tr th {\n",
       "        vertical-align: top;\n",
       "    }\n",
       "\n",
       "    .dataframe thead th {\n",
       "        text-align: right;\n",
       "    }\n",
       "</style>\n",
       "<table border=\"1\" class=\"dataframe\">\n",
       "  <thead>\n",
       "    <tr style=\"text-align: right;\">\n",
       "      <th></th>\n",
       "      <th>Feature 1</th>\n",
       "      <th>Feature 2</th>\n",
       "      <th>Feature 3</th>\n",
       "      <th>Feature 4</th>\n",
       "    </tr>\n",
       "  </thead>\n",
       "  <tbody>\n",
       "    <tr>\n",
       "      <th>0</th>\n",
       "      <td>2</td>\n",
       "      <td>-1</td>\n",
       "      <td>5</td>\n",
       "      <td>-4</td>\n",
       "    </tr>\n",
       "    <tr>\n",
       "      <th>1</th>\n",
       "      <td>3</td>\n",
       "      <td>0</td>\n",
       "      <td>6</td>\n",
       "      <td>-3</td>\n",
       "    </tr>\n",
       "    <tr>\n",
       "      <th>2</th>\n",
       "      <td>7</td>\n",
       "      <td>10</td>\n",
       "      <td>9</td>\n",
       "      <td>-9</td>\n",
       "    </tr>\n",
       "    <tr>\n",
       "      <th>3</th>\n",
       "      <td>2</td>\n",
       "      <td>0</td>\n",
       "      <td>2</td>\n",
       "      <td>0</td>\n",
       "    </tr>\n",
       "    <tr>\n",
       "      <th>4</th>\n",
       "      <td>4</td>\n",
       "      <td>1</td>\n",
       "      <td>4</td>\n",
       "      <td>-5</td>\n",
       "    </tr>\n",
       "  </tbody>\n",
       "</table>\n",
       "</div>"
      ],
      "text/plain": [
       "   Feature 1  Feature 2  Feature 3  Feature 4\n",
       "0          2         -1          5         -4\n",
       "1          3          0          6         -3\n",
       "2          7         10          9         -9\n",
       "3          2          0          2          0\n",
       "4          4          1          4         -5"
      ]
     },
     "execution_count": 4,
     "metadata": {},
     "output_type": "execute_result"
    }
   ],
   "source": [
    "df.head(5)"
   ]
  },
  {
   "cell_type": "markdown",
   "id": "191f631e",
   "metadata": {},
   "source": [
    "#### 4.3 Standardize the file contents"
   ]
  },
  {
   "cell_type": "code",
   "execution_count": 5,
   "id": "4a50bab4",
   "metadata": {},
   "outputs": [],
   "source": [
    "dfstnd = (df - df.mean())/(df.std())"
   ]
  },
  {
   "cell_type": "markdown",
   "id": "d78392f9",
   "metadata": {},
   "source": [
    "#### 4.4 Create a vector called `silly` which is equal to the 5th sample from the standardized file "
   ]
  },
  {
   "cell_type": "code",
   "execution_count": 19,
   "id": "5bee6ebc",
   "metadata": {},
   "outputs": [
    {
     "name": "stdout",
     "output_type": "stream",
     "text": [
      "Feature 1   -0.077771\n",
      "Feature 2   -0.747500\n",
      "Feature 3   -0.516984\n",
      "Feature 4   -0.046565\n",
      "Name: 4, dtype: float64\n"
     ]
    }
   ],
   "source": [
    "silly = dfstnd.loc[4,:]\n",
    "print(silly)"
   ]
  },
  {
   "cell_type": "markdown",
   "id": "2f7c39a3",
   "metadata": {},
   "source": [
    "#### 4.5 Calculate the covariance of the standardized file"
   ]
  },
  {
   "cell_type": "code",
   "execution_count": 20,
   "id": "7820fa3e",
   "metadata": {},
   "outputs": [
    {
     "name": "stdout",
     "output_type": "stream",
     "text": [
      "           Feature 1  Feature 2  Feature 3  Feature 4\n",
      "Feature 1   1.000000   0.827111   0.917904  -0.931120\n",
      "Feature 2   0.827111   1.000000   0.720452  -0.781608\n",
      "Feature 3   0.917904   0.720452   1.000000  -0.905730\n",
      "Feature 4  -0.931120  -0.781608  -0.905730   1.000000\n"
     ]
    }
   ],
   "source": [
    "dfcov = dfstnd.cov()\n",
    "print(dfcov)"
   ]
  },
  {
   "cell_type": "markdown",
   "id": "1455046d",
   "metadata": {},
   "source": [
    "#### 4.6 Discuss what you can uncover regarding the relationships of the 4 features to one another using the above covariance matrix"
   ]
  },
  {
   "attachments": {},
   "cell_type": "markdown",
   "id": "38058d4c",
   "metadata": {},
   "source": [
    "Features 1,2, and 3 are strongly correlated with eachother, and strongly inversely correlated with 4."
   ]
  },
  {
   "cell_type": "markdown",
   "id": "c47234cf",
   "metadata": {},
   "source": [
    "#### 4.7 Find the trace of the covariance matrix"
   ]
  },
  {
   "cell_type": "code",
   "execution_count": 21,
   "id": "21f210e3",
   "metadata": {},
   "outputs": [
    {
     "name": "stdout",
     "output_type": "stream",
     "text": [
      "3.9999999999999996\n"
     ]
    }
   ],
   "source": [
    "print(np.trace(dfcov))"
   ]
  },
  {
   "cell_type": "markdown",
   "id": "2f883043",
   "metadata": {},
   "source": [
    "#### 4.8 Find and display the eigenvalue and eigenvectors of the covariance matrix"
   ]
  },
  {
   "cell_type": "code",
   "execution_count": 22,
   "id": "a6155b75",
   "metadata": {},
   "outputs": [
    {
     "name": "stdout",
     "output_type": "stream",
     "text": [
      "[3.54717606 0.30724917 0.05771808 0.08785669] \n",
      "\n",
      " [[-5.19096091e-01 -8.97488069e-02 -8.49990537e-01  6.98650112e-04]\n",
      " [-4.67128677e-01  8.49814512e-01  1.95669053e-01  1.46012727e-01]\n",
      " [-5.00971257e-01 -4.66595930e-01  3.55737066e-01  6.36213154e-01]\n",
      " [ 5.11231697e-01  2.28141809e-01 -3.35679683e-01  7.57570207e-01]]\n"
     ]
    }
   ],
   "source": [
    "val,vec = eig(dfcov)\n",
    "print(val,\"\\n\\n\",vec)"
   ]
  },
  {
   "cell_type": "code",
   "execution_count": null,
   "id": "5b84f001",
   "metadata": {},
   "outputs": [],
   "source": []
  }
 ],
 "metadata": {
  "kernelspec": {
   "display_name": "Python 3 (ipykernel)",
   "language": "python",
   "name": "python3"
  },
  "language_info": {
   "codemirror_mode": {
    "name": "ipython",
    "version": 3
   },
   "file_extension": ".py",
   "mimetype": "text/x-python",
   "name": "python",
   "nbconvert_exporter": "python",
   "pygments_lexer": "ipython3",
   "version": "3.9.12"
  }
 },
 "nbformat": 4,
 "nbformat_minor": 5
}
