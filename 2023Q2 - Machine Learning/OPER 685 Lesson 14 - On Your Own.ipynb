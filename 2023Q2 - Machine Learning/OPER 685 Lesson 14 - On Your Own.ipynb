{
 "cells": [
  {
   "cell_type": "markdown",
   "id": "ceba9189",
   "metadata": {},
   "source": [
    "# On your Own Neural Networks\n",
    "Using the code I provided in the prior Jupyter Notebook create a neural network to predict the quality of a bottle of wine. Best prediction gets bragging rights for the day."
   ]
  },
  {
   "cell_type": "markdown",
   "id": "bc4399e5",
   "metadata": {},
   "source": [
    "## 0. Import libraries\n",
    "I'll help you out!"
   ]
  },
  {
   "cell_type": "code",
   "execution_count": 1,
   "id": "41037a1e",
   "metadata": {},
   "outputs": [],
   "source": [
    "import pandas as pd\n",
    "import numpy as np\n",
    "import requests\n",
    "import re\n",
    "import seaborn\n",
    "import matplotlib.pyplot as plt\n",
    "import tensorflow as tf\n",
    "import sklearn as sk\n",
    "\n",
    "from matplotlib import pyplot as plt\n",
    "from IPython.display import clear_output\n",
    "from sklearn import preprocessing\n",
    "from sklearn.preprocessing import LabelBinarizer\n",
    "from sklearn.model_selection import train_test_split\n",
    "from tensorflow import keras \n",
    "from tensorflow.keras import layers \n",
    "from sklearn.metrics import confusion_matrix\n",
    "from sklearn.metrics import ConfusionMatrixDisplay\n",
    "from sklearn.preprocessing import StandardScaler\n"
   ]
  },
  {
   "cell_type": "markdown",
   "id": "47e29a35",
   "metadata": {},
   "source": [
    "## 1. Import `winequality.csv`"
   ]
  },
  {
   "cell_type": "code",
   "execution_count": null,
   "id": "7a947739",
   "metadata": {},
   "outputs": [],
   "source": []
  },
  {
   "cell_type": "markdown",
   "id": "4bb5a002",
   "metadata": {},
   "source": [
    "## 2. Check out the first few rows to see what the dataset looks like"
   ]
  },
  {
   "cell_type": "code",
   "execution_count": null,
   "id": "aa31bd37",
   "metadata": {},
   "outputs": [],
   "source": []
  },
  {
   "cell_type": "markdown",
   "id": "eea558b9",
   "metadata": {},
   "source": [
    "## 3. Check out the entries within the quality column.  This is what you are trying to predict."
   ]
  },
  {
   "cell_type": "code",
   "execution_count": null,
   "id": "6d319767",
   "metadata": {},
   "outputs": [],
   "source": []
  },
  {
   "cell_type": "markdown",
   "id": "028a1614",
   "metadata": {},
   "source": [
    "## 4. Split the data into an `X` matrix for features and a `y` vector for response"
   ]
  },
  {
   "cell_type": "code",
   "execution_count": null,
   "id": "0b51c6b9",
   "metadata": {},
   "outputs": [],
   "source": []
  },
  {
   "cell_type": "markdown",
   "id": "91b3ec12",
   "metadata": {},
   "source": [
    "## 5. Split into training and test sets"
   ]
  },
  {
   "cell_type": "code",
   "execution_count": null,
   "id": "67d5f6e4",
   "metadata": {},
   "outputs": [],
   "source": []
  },
  {
   "cell_type": "markdown",
   "id": "e61c1d87",
   "metadata": {},
   "source": [
    "## 6. Scale `X`-data and 1-hot encode `y`-data"
   ]
  },
  {
   "cell_type": "code",
   "execution_count": null,
   "id": "39fd5230",
   "metadata": {},
   "outputs": [],
   "source": []
  },
  {
   "cell_type": "code",
   "execution_count": null,
   "id": "1cee0e78",
   "metadata": {},
   "outputs": [],
   "source": []
  },
  {
   "cell_type": "markdown",
   "id": "518eea74",
   "metadata": {},
   "source": [
    "## 7. Create cells to store your NN hyperparameters \n",
    "one cell for learning rate, epochs, optimizer and batch size <br>\n",
    "another cell for architectural choices (number of layers, number or neurons per layer)  "
   ]
  },
  {
   "cell_type": "code",
   "execution_count": null,
   "id": "46c1849b",
   "metadata": {},
   "outputs": [],
   "source": []
  },
  {
   "cell_type": "code",
   "execution_count": null,
   "id": "42cc0cb8",
   "metadata": {},
   "outputs": [],
   "source": []
  },
  {
   "cell_type": "markdown",
   "id": "0b249f46",
   "metadata": {},
   "source": [
    "## 8. Build your NN model"
   ]
  },
  {
   "cell_type": "code",
   "execution_count": null,
   "id": "8f5d6ca7",
   "metadata": {},
   "outputs": [],
   "source": []
  },
  {
   "cell_type": "markdown",
   "id": "cf43d090",
   "metadata": {},
   "source": [
    "## 9. Just reuse the plotting function I provided"
   ]
  },
  {
   "cell_type": "code",
   "execution_count": 41,
   "id": "77f339cb",
   "metadata": {},
   "outputs": [],
   "source": [
    "class PlotLearning(keras.callbacks.Callback):\n",
    "    \"\"\"\n",
    "    Callback to plot the learning curves of the model during training.\n",
    "    \"\"\"\n",
    "    def on_train_begin(self, logs={}):\n",
    "        self.metrics = {}\n",
    "        for metric in logs:\n",
    "            self.metrics[metric] = []\n",
    "            \n",
    "\n",
    "    def on_epoch_end(self, epoch, logs={}):\n",
    "        # Storing metrics\n",
    "        for metric in logs:\n",
    "            if metric in self.metrics:\n",
    "                self.metrics[metric].append(logs.get(metric))\n",
    "            else:\n",
    "                self.metrics[metric] = [logs.get(metric)]\n",
    "        \n",
    "        # Plotting\n",
    "        metrics = [x for x in logs if 'val' not in x]\n",
    "        \n",
    "        f, axs = plt.subplots(1, len(metrics), figsize=(15,5))\n",
    "        clear_output(wait=True)\n",
    "\n",
    "        for i, metric in enumerate(metrics):\n",
    "            axs[i].plot(range(1, epoch + 2), \n",
    "                        self.metrics[metric], \n",
    "                        label=metric)\n",
    "            if logs['val_' + metric]:\n",
    "                axs[i].plot(range(1, epoch + 2), \n",
    "                            self.metrics['val_' + metric], \n",
    "                            label='val_' + metric)\n",
    "                \n",
    "            axs[i].legend()\n",
    "            axs[i].grid()\n",
    "\n",
    "        plt.tight_layout()\n",
    "        plt.show()"
   ]
  },
  {
   "cell_type": "code",
   "execution_count": 42,
   "id": "1b0b8ef1",
   "metadata": {},
   "outputs": [],
   "source": [
    "callbacks_list = [PlotLearning()]"
   ]
  },
  {
   "cell_type": "markdown",
   "id": "a703398c",
   "metadata": {},
   "source": [
    "## 10. Train your NN"
   ]
  },
  {
   "cell_type": "code",
   "execution_count": null,
   "id": "59ba4d6f",
   "metadata": {},
   "outputs": [],
   "source": []
  },
  {
   "cell_type": "markdown",
   "id": "bb7b0cda",
   "metadata": {},
   "source": [
    "## 11. Create your CM and calculate accuracy, recall and F-1"
   ]
  },
  {
   "cell_type": "code",
   "execution_count": null,
   "id": "e8b6749b",
   "metadata": {},
   "outputs": [],
   "source": []
  }
 ],
 "metadata": {
  "kernelspec": {
   "display_name": "Python 3 (ipykernel)",
   "language": "python",
   "name": "python3"
  },
  "language_info": {
   "codemirror_mode": {
    "name": "ipython",
    "version": 3
   },
   "file_extension": ".py",
   "mimetype": "text/x-python",
   "name": "python",
   "nbconvert_exporter": "python",
   "pygments_lexer": "ipython3",
   "version": "3.9.16"
  }
 },
 "nbformat": 4,
 "nbformat_minor": 5
}
