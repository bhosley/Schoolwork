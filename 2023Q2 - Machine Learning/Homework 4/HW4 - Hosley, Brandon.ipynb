{
 "cells": [
  {
   "attachments": {},
   "cell_type": "markdown",
   "metadata": {},
   "source": [
    "# Homework 4\n",
    "### OPER 685 - Machine Learning I\n",
    "### Hosley, Brandon"
   ]
  },
  {
   "cell_type": "code",
   "execution_count": 12,
   "metadata": {},
   "outputs": [
    {
     "name": "stdout",
     "output_type": "stream",
     "text": [
      "The ipydex.displaytools extension is already loaded. To reload it, use:\n",
      "  %reload_ext ipydex.displaytools\n"
     ]
    }
   ],
   "source": [
    "%load_ext ipydex.displaytools\n",
    "import pandas as pd\n",
    "import numpy as np\n",
    "import seaborn as sns\n",
    "import matplotlib.pyplot as plt\n",
    "from sklearn.tree import DecisionTreeClassifier\n",
    "from sklearn.metrics import confusion_matrix, classification_report, ConfusionMatrixDisplay\n",
    "from sklearn.ensemble import RandomForestClassifier\n",
    "from sklearn.linear_model import LogisticRegression\n",
    "from sklearn.preprocessing import StandardScaler\n",
    "from sklearn.decomposition import PCA\n",
    "from sklearn.model_selection import train_test_split\n",
    "from sklearn.discriminant_analysis import LinearDiscriminantAnalysis as LDA\n",
    "\n",
    "randState = 42"
   ]
  },
  {
   "attachments": {},
   "cell_type": "markdown",
   "metadata": {},
   "source": [
    "## 1. (30 Points) Consider the data in auto.csv. Develop a model to predict whether a given car gets \"high\" or \"low\" gas mileage.  "
   ]
  },
  {
   "cell_type": "code",
   "execution_count": 13,
   "metadata": {},
   "outputs": [
    {
     "data": {
      "text/html": [
       "<div>\n",
       "<style scoped>\n",
       "    .dataframe tbody tr th:only-of-type {\n",
       "        vertical-align: middle;\n",
       "    }\n",
       "\n",
       "    .dataframe tbody tr th {\n",
       "        vertical-align: top;\n",
       "    }\n",
       "\n",
       "    .dataframe thead th {\n",
       "        text-align: right;\n",
       "    }\n",
       "</style>\n",
       "<table border=\"1\" class=\"dataframe\">\n",
       "  <thead>\n",
       "    <tr style=\"text-align: right;\">\n",
       "      <th></th>\n",
       "      <th>mpg</th>\n",
       "      <th>cylinders</th>\n",
       "      <th>displacement</th>\n",
       "      <th>horsepower</th>\n",
       "      <th>weight</th>\n",
       "      <th>acceleration</th>\n",
       "      <th>year</th>\n",
       "      <th>origin</th>\n",
       "      <th>name</th>\n",
       "    </tr>\n",
       "  </thead>\n",
       "  <tbody>\n",
       "    <tr>\n",
       "      <th>0</th>\n",
       "      <td>18.0</td>\n",
       "      <td>8</td>\n",
       "      <td>307.0</td>\n",
       "      <td>130</td>\n",
       "      <td>3504</td>\n",
       "      <td>12.0</td>\n",
       "      <td>70</td>\n",
       "      <td>1</td>\n",
       "      <td>chevrolet chevelle malibu</td>\n",
       "    </tr>\n",
       "    <tr>\n",
       "      <th>1</th>\n",
       "      <td>15.0</td>\n",
       "      <td>8</td>\n",
       "      <td>350.0</td>\n",
       "      <td>165</td>\n",
       "      <td>3693</td>\n",
       "      <td>11.5</td>\n",
       "      <td>70</td>\n",
       "      <td>1</td>\n",
       "      <td>buick skylark 320</td>\n",
       "    </tr>\n",
       "    <tr>\n",
       "      <th>2</th>\n",
       "      <td>18.0</td>\n",
       "      <td>8</td>\n",
       "      <td>318.0</td>\n",
       "      <td>150</td>\n",
       "      <td>3436</td>\n",
       "      <td>11.0</td>\n",
       "      <td>70</td>\n",
       "      <td>1</td>\n",
       "      <td>plymouth satellite</td>\n",
       "    </tr>\n",
       "    <tr>\n",
       "      <th>3</th>\n",
       "      <td>16.0</td>\n",
       "      <td>8</td>\n",
       "      <td>304.0</td>\n",
       "      <td>150</td>\n",
       "      <td>3433</td>\n",
       "      <td>12.0</td>\n",
       "      <td>70</td>\n",
       "      <td>1</td>\n",
       "      <td>amc rebel sst</td>\n",
       "    </tr>\n",
       "    <tr>\n",
       "      <th>4</th>\n",
       "      <td>17.0</td>\n",
       "      <td>8</td>\n",
       "      <td>302.0</td>\n",
       "      <td>140</td>\n",
       "      <td>3449</td>\n",
       "      <td>10.5</td>\n",
       "      <td>70</td>\n",
       "      <td>1</td>\n",
       "      <td>ford torino</td>\n",
       "    </tr>\n",
       "  </tbody>\n",
       "</table>\n",
       "</div>"
      ],
      "text/plain": [
       "    mpg  cylinders  displacement  horsepower  weight  acceleration  year  \\\n",
       "0  18.0          8         307.0         130    3504          12.0    70   \n",
       "1  15.0          8         350.0         165    3693          11.5    70   \n",
       "2  18.0          8         318.0         150    3436          11.0    70   \n",
       "3  16.0          8         304.0         150    3433          12.0    70   \n",
       "4  17.0          8         302.0         140    3449          10.5    70   \n",
       "\n",
       "   origin                       name  \n",
       "0       1  chevrolet chevelle malibu  \n",
       "1       1          buick skylark 320  \n",
       "2       1         plymouth satellite  \n",
       "3       1              amc rebel sst  \n",
       "4       1                ford torino  "
      ]
     },
     "execution_count": 13,
     "metadata": {},
     "output_type": "execute_result"
    }
   ],
   "source": [
    "auto_df = pd.read_csv('Auto.csv').replace('?', np.NaN).dropna()\n",
    "auto_df['horsepower'] = pd.to_numeric( auto_df['horsepower'], errors='coerce')\n",
    "auto_df.head()"
   ]
  },
  {
   "attachments": {},
   "cell_type": "markdown",
   "metadata": {},
   "source": [
    "### a. (5 points) Create a binary variable, mpg01, that contains a value of 1 for samples that are above the median value of mpg and contains a value of zero for samples that are at or below that median value of mpg. Define \"high\" gas mileage as anything above this median value. "
   ]
  },
  {
   "cell_type": "code",
   "execution_count": 14,
   "metadata": {},
   "outputs": [],
   "source": [
    "# Change the response variable from boolean to integer encoding\n",
    "med = np.median(auto_df.mpg)    # Define mean MPG for response variable\n",
    "auto_y = pd.DataFrame()         # Response var instantiation/placeholder\n",
    "auto_y['mpg01'] = pd.DataFrame( auto_df['mpg'] > med ).replace({True: 1, False: 0})\n",
    "\n",
    "# Separate the regressors, drop response and string name\n",
    "auto_X = auto_df.drop(['name','mpg'], axis=1)\n",
    "\n",
    "# Train Test split\n",
    "auto_testfraction = 0.2     # split ratio\n",
    "auto_X_nonTest, auto_X_test, auto_y_nonTest, auto_y_test = train_test_split(auto_X, auto_y, test_size=auto_testfraction, random_state=randState)"
   ]
  },
  {
   "attachments": {},
   "cell_type": "markdown",
   "metadata": {},
   "source": [
    "### b. (5 points) Create and train a logistic regression model to predict mpg01."
   ]
  },
  {
   "cell_type": "code",
   "execution_count": 15,
   "metadata": {},
   "outputs": [
    {
     "name": "stderr",
     "output_type": "stream",
     "text": [
      "/Library/Frameworks/Python.framework/Versions/3.9/lib/python3.9/site-packages/sklearn/utils/validation.py:1143: DataConversionWarning: A column-vector y was passed when a 1d array was expected. Please change the shape of y to (n_samples, ), for example using ravel().\n",
      "  y = column_or_1d(y, warn=True)\n"
     ]
    }
   ],
   "source": [
    "auto_LR = LogisticRegression().fit(auto_X_nonTest, auto_y_nonTest)"
   ]
  },
  {
   "attachments": {},
   "cell_type": "markdown",
   "metadata": {},
   "source": [
    "### c. (5 points) Do you need to use a validation dataset?  Defend your answer.\n",
    "\n",
    "Because there are no hyperparameters to tune, there is not any benefit to having a validation class. When the solver is not  ‘sag’, ‘saga’ or ‘liblinear’ the sklearn wrapper for the logistic regression process is deterministic. Above, the dataset was split into a train and test set alone so that we have an opportunity to evaluate the model below."
   ]
  },
  {
   "attachments": {},
   "cell_type": "markdown",
   "metadata": {},
   "source": [
    "### d. (5 points) Do you need to scale the data used for training?  Defend your answer?\n",
    "\n",
    "Consider the equation $$\\pi(\\mathbf X) = \\frac{\\exp(\\beta_0 + \\beta_1X_1 + \\ldots + \\beta_k X_k)}{1+\\exp(\\beta_0 + \\beta_1X_1 + \\ldots + \\beta_k X_k)}.$$\n",
    "The scaling is not necessary as the effect is that scale of the $\\beta$'s change, in other words, dividing each element by the mean of the feature's values in the sample is equivalent to just dividing the $\\beta$ by that same number.\n",
    "$$ \\beta_\\text{standardized} = \\frac{\\beta_\\text{unmodified}}{\\bar{\\mathbf x}}. $$"
   ]
  },
  {
   "attachments": {},
   "cell_type": "markdown",
   "metadata": {},
   "source": [
    "### e. (5 points) Show your model results using appropriate metrics.\n",
    "\n",
    "Because the sklearn implementation of the logistic regression returns the integer class prediction rather than a probability, residual plot would not be very useful as, in this case all points would cluster around four points. A confusion matrix will provide more information to identify strengths and weaknesses in this model."
   ]
  },
  {
   "cell_type": "code",
   "execution_count": 16,
   "metadata": {},
   "outputs": [
    {
     "data": {
      "image/png": "[encoded data removed]",
      "text/plain": [
       "<Figure size 640x480 with 2 Axes>"
      ]
     },
     "metadata": {},
     "output_type": "display_data"
    }
   ],
   "source": [
    "cm_auto = confusion_matrix(auto_y_test, auto_LR.predict(auto_X_test), labels=[0, 1])\n",
    "disp_auto = ConfusionMatrixDisplay(confusion_matrix=cm_auto, display_labels=['Lower than average MPG', 'Higher than average MPG'])\n",
    "disp_auto.plot()\n",
    "plt.title('Confusion Matrix for Logistic Regression Predictions')\n",
    "plt.show()"
   ]
  },
  {
   "cell_type": "code",
   "execution_count": 17,
   "metadata": {},
   "outputs": [
    {
     "name": "stdout",
     "output_type": "stream",
     "text": [
      "Accuracy : 0.8734177215189873\n",
      "Precision : 0.813953488372093\n",
      "Recall : 0.9459459459459459\n",
      "F1-score : 0.875\n"
     ]
    }
   ],
   "source": [
    "auto_TP = cm_auto[1,1]\n",
    "auto_FP = cm_auto[0,1]\n",
    "auto_FN = cm_auto[1,0]\n",
    "auto_TN = cm_auto[0,0]\n",
    "\n",
    "print(f'Accuracy : {(auto_TP+auto_TN)/np.sum(cm_auto)}')\n",
    "print(f'Precision : {auto_TP/(auto_TP+auto_FP)}')\n",
    "print(f'Recall : {auto_TP/(auto_TP+auto_FN)}')\n",
    "print(f'F1-score : {(2*auto_TP)/(2*auto_TP+auto_FP+auto_FN)}')"
   ]
  },
  {
   "attachments": {},
   "cell_type": "markdown",
   "metadata": {},
   "source": [
    "### f. (5 points) Analyze your model results, ensure you are using proper terminology and translating this terminology into a meaningful answer.\n",
    "\n",
    "The results above suggest that the model is most effective at identifying the vehicles that are above average in MPG. The performance is fair by all other measurements. The most common error that this model makes is mistaking a low MPG vehicle for a high MPG one. This may be problematic if the stakeholder's intention is to reduce fuel consumption. "
   ]
  },
  {
   "attachments": {},
   "cell_type": "markdown",
   "metadata": {},
   "source": [
    "# 2. (35 Points) The file pizza.csv includes 147 samples with the following variables:\n",
    "brand – Pizza brand (class label)\n",
    "id – Sample analyzed\n",
    "mois – Amount of water per 100 grams in the sample\n",
    "prot – Amount of protein per 100 grams in the sample\n",
    "fat – Amount of fat per 100 grams in the sample\n",
    "ash – Amount of ash per 100 grams in the sample\n",
    "sodium – Amount of sodium per 100 grams in the sample\n",
    "carb – Amount of carbohydrates per 100 grams in the sample\n",
    "cal – Amount of calories per 100 grams in the sample\n",
    "### (15 points) Apply both PCA and LDA to the data.\n",
    "Address the comments and questions below."
   ]
  },
  {
   "cell_type": "code",
   "execution_count": 18,
   "metadata": {},
   "outputs": [
    {
     "name": "stdout",
     "output_type": "stream",
     "text": [
      "<class 'pandas.core.frame.DataFrame'>\n",
      "RangeIndex: 147 entries, 0 to 146\n",
      "Data columns (total 9 columns):\n",
      " #   Column  Non-Null Count  Dtype  \n",
      "---  ------  --------------  -----  \n",
      " 0   brand   147 non-null    object \n",
      " 1   id      147 non-null    int64  \n",
      " 2   mois    147 non-null    float64\n",
      " 3   prot    147 non-null    float64\n",
      " 4   fat     147 non-null    float64\n",
      " 5   ash     147 non-null    float64\n",
      " 6   sodium  147 non-null    float64\n",
      " 7   carb    147 non-null    float64\n",
      " 8   cal     147 non-null    float64\n",
      "dtypes: float64(7), int64(1), object(1)\n",
      "memory usage: 10.5+ KB\n"
     ]
    },
    {
     "data": {
      "text/plain": [
       "(pizza_df.info()) := None"
      ]
     },
     "metadata": {},
     "output_type": "display_data"
    },
    {
     "data": {
      "text/plain": [
       "---"
      ]
     },
     "metadata": {},
     "output_type": "display_data"
    }
   ],
   "source": [
    "pizza_df = pd.read_csv('pizza.csv')\n",
    "pizza_df.info() ##:\n",
    "\n",
    "# Response Variables\n",
    "pizza_y = pizza_df['brand']\n",
    "\n",
    "# Features, normalized\n",
    "pizza_X = pizza_df.drop(['brand','id'], axis=1)\n",
    "pizza_scaler = StandardScaler(with_mean=True)\n",
    "pizza_X[pizza_X.columns] = pizza_scaler.fit_transform(pizza_X[pizza_X.columns])\n",
    "\n",
    "# Train-test split\n",
    "## Not performed as performance is not requested below.\n"
   ]
  },
  {
   "attachments": {},
   "cell_type": "markdown",
   "metadata": {},
   "source": [
    "### (a) (5 points) What percentage of the total variance is explained by the first two principal components? Calculate this \"by-hand\" (i.e., do not use the built in \"explained_variance_ratio_\" function)."
   ]
  },
  {
   "cell_type": "code",
   "execution_count": 19,
   "metadata": {},
   "outputs": [
    {
     "data": {
      "text/plain": [
       "(pizza_pca_eigVals[dims] / np.sum(pizza_pca_eigVals)) := \n",
       "array([0.57712476, 0.33044006])"
      ]
     },
     "metadata": {},
     "output_type": "display_data"
    },
    {
     "data": {
      "text/plain": [
       "---"
      ]
     },
     "metadata": {},
     "output_type": "display_data"
    },
    {
     "data": {
      "text/plain": [
       "(PCA(n_components=len(dims)).fit(pizza_X, pizza_y).explained_variance_ratio_) := \n",
       "array([0.57712476, 0.33044006])"
      ]
     },
     "metadata": {},
     "output_type": "display_data"
    },
    {
     "data": {
      "text/plain": [
       "---"
      ]
     },
     "metadata": {},
     "output_type": "display_data"
    }
   ],
   "source": [
    "dims = [0,1]\n",
    "pizza_pca_eigVals, pizza_pca_eigVecs = np.linalg.eig( pizza_X.cov() ) \n",
    "pizza_pca_eigVals[dims] / np.sum(pizza_pca_eigVals) ##:\n",
    "\n",
    "# Do the bad thing to confirm answer\n",
    "PCA(n_components=len(dims)).fit(pizza_X, pizza_y).explained_variance_ratio_ ##:"
   ]
  },
  {
   "attachments": {},
   "cell_type": "markdown",
   "metadata": {},
   "source": [
    "The first two components explain 57.712% and 33.044% respectively."
   ]
  },
  {
   "attachments": {},
   "cell_type": "markdown",
   "metadata": {},
   "source": [
    "### (b) (5 points) What percentage of between-group variance is explained by the first two discriminants?  Calculate this \"by-hand\" (i.e., do not use the built in \"explained_variance_ratio_\" function)."
   ]
  },
  {
   "cell_type": "code",
   "execution_count": 20,
   "metadata": {},
   "outputs": [
    {
     "data": {
      "text/plain": [
       "(pizza_lda_eigVals[dims] / np.sum(pizza_lda_eigVals)) := \n",
       "array([0.66535998, 0.20635691])"
      ]
     },
     "metadata": {},
     "output_type": "display_data"
    },
    {
     "data": {
      "text/plain": [
       "---"
      ]
     },
     "metadata": {},
     "output_type": "display_data"
    },
    {
     "data": {
      "text/plain": [
       "(LDA(n_components=len(dims)).fit(pizza_X, pizza_y).explained_variance_ratio_) := \n",
       "array([0.66535998, 0.20635691])"
      ]
     },
     "metadata": {},
     "output_type": "display_data"
    },
    {
     "data": {
      "text/plain": [
       "---"
      ]
     },
     "metadata": {},
     "output_type": "display_data"
    }
   ],
   "source": [
    "def lda(X, y):\n",
    "    # Calculate class means (\\bar{y})\n",
    "    class_means = []\n",
    "    classes = np.unique(y)\n",
    "    for c in classes:\n",
    "        class_means.append(np.mean(X[y == c], axis=0))\n",
    "    class_means = np.array(class_means)\n",
    "    \n",
    "    # Calculate within-class scatter matrix (Sw)\n",
    "    n_features = X.shape[1]\n",
    "    Sw = np.zeros((n_features, n_features))\n",
    "    for i,c in enumerate(classes):\n",
    "        X_c = X[y == c]\n",
    "        diff = X_c - class_means[i]\n",
    "        Sw += np.dot(diff.T, diff)\n",
    "    \n",
    "    # Calculate between-class scatter matrix (Sb)\n",
    "    sample_mean = np.mean(X, axis=0)\n",
    "    Sb = np.zeros((n_features, n_features))\n",
    "    for i,c in enumerate(classes):\n",
    "        n_samples = X[y == c].shape[0]\n",
    "        diff = class_means[i] - sample_mean\n",
    "        Sb += n_samples * np.outer(diff, diff)\n",
    "    \n",
    "    # Perform eigendecomposition\n",
    "    eigenvalues, eigenvectors = np.linalg.eig(np.linalg.inv(Sw).dot(Sb))\n",
    "    \n",
    "    # Sort eigenvalues and eigenvectors in descending order\n",
    "    sorted_indices = np.argsort(eigenvalues)[::-1]\n",
    "    eigenvalues = eigenvalues[sorted_indices]\n",
    "    eigenvectors = eigenvectors[:, sorted_indices]\n",
    "    \n",
    "    return eigenvalues, eigenvectors\n",
    "\n",
    "pizza_lda_eigVals, pizza_lda_eigVecs = lda(pizza_X, pizza_y)\n",
    "pizza_lda_eigVals[dims] / np.sum(pizza_lda_eigVals) ##:\n",
    "\n",
    "# Do the bad thing to confirm answer\n",
    "LDA(n_components=len(dims)).fit(pizza_X, pizza_y).explained_variance_ratio_ ##:"
   ]
  },
  {
   "attachments": {},
   "cell_type": "markdown",
   "metadata": {},
   "source": [
    "### (c) (5 points) Plot the data in two-dimensional space using PCA. Plot the data in two-dimensional space using LDA. Discuss any insights you obtain. (Make sure the graphs are labeled)"
   ]
  },
  {
   "cell_type": "code",
   "execution_count": 21,
   "metadata": {},
   "outputs": [
    {
     "data": {
      "text/plain": [
       "[Text(0.5, 1.0, '2D LD MDS'), None]"
      ]
     },
     "execution_count": 21,
     "metadata": {},
     "output_type": "execute_result"
    },
    {
     "data": {
      "image/png": "[encoded data removed]",
      "text/plain": [
       "<Figure size 1000x1000 with 2 Axes>"
      ]
     },
     "metadata": {},
     "output_type": "display_data"
    }
   ],
   "source": [
    "pizza_pca_coords = pizza_X@pizza_pca_eigVecs[:,dims]\n",
    "pizza_pca_coords = pizza_pca_coords.rename(columns={0: 'PC1', 1: 'PC2'})\n",
    "\n",
    "pizza_lda_coords = pizza_X@pizza_lda_eigVecs[:,dims]\n",
    "pizza_lda_coords = pizza_lda_coords.rename(columns={0: 'LD1', 1: 'LD2'})\n",
    "\n",
    "pizza_pca_coords['brand'] = pizza_lda_coords['brand'] = pizza_y\n",
    "\n",
    "# Plot in R^2 space\n",
    "fig, (ax1, ax2) = plt.subplots(ncols=2, figsize=[10,10])\n",
    "#fig, (ax1, ax2) = plt.subplots(ncols=2, sharey=True)\n",
    "sns.scatterplot(data=pizza_pca_coords, x='PC1', y='PC2', hue='brand', ax=ax1).set(title='2D PC MDS', aspect=1) \n",
    "sns.scatterplot(data=pizza_lda_coords, x='LD1', y='LD2', hue='brand', ax=ax2).set(title='2D LD MDS', aspect=1) "
   ]
  },
  {
   "attachments": {},
   "cell_type": "markdown",
   "metadata": {},
   "source": [
    "The axes scales are different, but the relative scales between each other remain approximately the same. The clusters of brands A and E show that the two a similar to reflections of the other across a $y=-x$ type line, and the shapes of the clusters remain somewhat similar. Brands B, C, and D remain in the expected order for the same reflection previously discussed. \n",
    "\n",
    "Looking at the principle components one can imagine the data points projected onto each of the individual components (axes) and in both cases there appears to be usable separation between A and E; whereas there appears to be almost no separation between B, C, and D along the first component, and a small amount of separation along the second component. Projecting onto the plane of both components shows fairly clear separation, however, the BCD clusters are close together and appear to have non-linear decision barriers (curved or discontinuous). \n",
    "\n",
    "The LDA is very similar, with the most significant difference is the last observation above. As promised in the name, the LDA model provides clear patterns in which one may place linear decision boundaries; not only that, there appears to be adequate space for each of the decision boundaries to be collinear. "
   ]
  },
  {
   "attachments": {},
   "cell_type": "markdown",
   "metadata": {},
   "source": [
    "### (d) (5 points) Using LDA, classify the following sample: mois –50  prot –13  fat –25  ash –3  sodium –1  carb –5  cal –31"
   ]
  },
  {
   "cell_type": "code",
   "execution_count": 22,
   "metadata": {},
   "outputs": [
    {
     "name": "stdout",
     "output_type": "stream",
     "text": [
      "This LDA model predicts the novel sample to be B.\n"
     ]
    },
    {
     "name": "stderr",
     "output_type": "stream",
     "text": [
      "/Library/Frameworks/Python.framework/Versions/3.9/lib/python3.9/site-packages/sklearn/base.py:439: UserWarning: X does not have valid feature names, but LinearDiscriminantAnalysis was fitted with feature names\n",
      "  warnings.warn(\n"
     ]
    }
   ],
   "source": [
    "new_sample = pizza_scaler.transform(pd.DataFrame(\n",
    "    [[50, 13, 25, 3, 1, 5, 31]],\n",
    "    columns= ['mois', 'prot', 'fat', 'ash', 'sodium', 'carb', 'cal']))\n",
    "\n",
    "\n",
    "pizz_lda = LDA(n_components=len(dims)).fit(pizza_X, pizza_y)\n",
    "print(f'This LDA model predicts the novel sample to be {pizz_lda.predict(new_sample)[0]}.')"
   ]
  },
  {
   "attachments": {},
   "cell_type": "markdown",
   "metadata": {},
   "source": [
    "## 3. (35 Points) \n",
    "### The file winequality.csv contains 4898 data records on 11 aspects of a wine’s chemical makeup along with a score variable, \"quality\" (bad, normal, good). Build a classification model using a single decision tree along with at least one ensemble technique to examine the data. The goal of the assignment is to gain insight into how well a tree can classify the information and what kind of improvements, if any, are attainable via ensemble techniques."
   ]
  },
  {
   "cell_type": "code",
   "execution_count": 23,
   "metadata": {},
   "outputs": [
    {
     "data": {
      "text/html": [
       "<div>\n",
       "<style scoped>\n",
       "    .dataframe tbody tr th:only-of-type {\n",
       "        vertical-align: middle;\n",
       "    }\n",
       "\n",
       "    .dataframe tbody tr th {\n",
       "        vertical-align: top;\n",
       "    }\n",
       "\n",
       "    .dataframe thead th {\n",
       "        text-align: right;\n",
       "    }\n",
       "</style>\n",
       "<table border=\"1\" class=\"dataframe\">\n",
       "  <thead>\n",
       "    <tr style=\"text-align: right;\">\n",
       "      <th></th>\n",
       "      <th>fixed acidity</th>\n",
       "      <th>volatile acidity</th>\n",
       "      <th>citric acid</th>\n",
       "      <th>residual sugar</th>\n",
       "      <th>chlorides</th>\n",
       "      <th>free sulfur dioxide</th>\n",
       "      <th>total sulfur dioxide</th>\n",
       "      <th>density</th>\n",
       "      <th>pH</th>\n",
       "      <th>sulphates</th>\n",
       "      <th>alcohol</th>\n",
       "      <th>quality</th>\n",
       "    </tr>\n",
       "  </thead>\n",
       "  <tbody>\n",
       "    <tr>\n",
       "      <th>0</th>\n",
       "      <td>7.0</td>\n",
       "      <td>0.27</td>\n",
       "      <td>0.36</td>\n",
       "      <td>20.7</td>\n",
       "      <td>0.045</td>\n",
       "      <td>45.0</td>\n",
       "      <td>170.0</td>\n",
       "      <td>1.0010</td>\n",
       "      <td>3.00</td>\n",
       "      <td>0.45</td>\n",
       "      <td>8.8</td>\n",
       "      <td>normal</td>\n",
       "    </tr>\n",
       "    <tr>\n",
       "      <th>1</th>\n",
       "      <td>6.3</td>\n",
       "      <td>0.30</td>\n",
       "      <td>0.34</td>\n",
       "      <td>1.6</td>\n",
       "      <td>0.049</td>\n",
       "      <td>14.0</td>\n",
       "      <td>132.0</td>\n",
       "      <td>0.9940</td>\n",
       "      <td>3.30</td>\n",
       "      <td>0.49</td>\n",
       "      <td>9.5</td>\n",
       "      <td>normal</td>\n",
       "    </tr>\n",
       "    <tr>\n",
       "      <th>2</th>\n",
       "      <td>8.1</td>\n",
       "      <td>0.28</td>\n",
       "      <td>0.40</td>\n",
       "      <td>6.9</td>\n",
       "      <td>0.050</td>\n",
       "      <td>30.0</td>\n",
       "      <td>97.0</td>\n",
       "      <td>0.9951</td>\n",
       "      <td>3.26</td>\n",
       "      <td>0.44</td>\n",
       "      <td>10.1</td>\n",
       "      <td>normal</td>\n",
       "    </tr>\n",
       "    <tr>\n",
       "      <th>3</th>\n",
       "      <td>7.2</td>\n",
       "      <td>0.23</td>\n",
       "      <td>0.32</td>\n",
       "      <td>8.5</td>\n",
       "      <td>0.058</td>\n",
       "      <td>47.0</td>\n",
       "      <td>186.0</td>\n",
       "      <td>0.9956</td>\n",
       "      <td>3.19</td>\n",
       "      <td>0.40</td>\n",
       "      <td>9.9</td>\n",
       "      <td>normal</td>\n",
       "    </tr>\n",
       "    <tr>\n",
       "      <th>4</th>\n",
       "      <td>7.2</td>\n",
       "      <td>0.23</td>\n",
       "      <td>0.32</td>\n",
       "      <td>8.5</td>\n",
       "      <td>0.058</td>\n",
       "      <td>47.0</td>\n",
       "      <td>186.0</td>\n",
       "      <td>0.9956</td>\n",
       "      <td>3.19</td>\n",
       "      <td>0.40</td>\n",
       "      <td>9.9</td>\n",
       "      <td>normal</td>\n",
       "    </tr>\n",
       "  </tbody>\n",
       "</table>\n",
       "</div>"
      ],
      "text/plain": [
       "   fixed acidity   volatile acidity  citric acid  residual sugar  chlorides  \\\n",
       "0             7.0              0.27         0.36            20.7      0.045   \n",
       "1             6.3              0.30         0.34             1.6      0.049   \n",
       "2             8.1              0.28         0.40             6.9      0.050   \n",
       "3             7.2              0.23         0.32             8.5      0.058   \n",
       "4             7.2              0.23         0.32             8.5      0.058   \n",
       "\n",
       "   free sulfur dioxide  total sulfur dioxide  density    pH  sulphates  \\\n",
       "0                 45.0                 170.0   1.0010  3.00       0.45   \n",
       "1                 14.0                 132.0   0.9940  3.30       0.49   \n",
       "2                 30.0                  97.0   0.9951  3.26       0.44   \n",
       "3                 47.0                 186.0   0.9956  3.19       0.40   \n",
       "4                 47.0                 186.0   0.9956  3.19       0.40   \n",
       "\n",
       "   alcohol quality  \n",
       "0      8.8  normal  \n",
       "1      9.5  normal  \n",
       "2     10.1  normal  \n",
       "3      9.9  normal  \n",
       "4      9.9  normal  "
      ]
     },
     "execution_count": 23,
     "metadata": {},
     "output_type": "execute_result"
    }
   ],
   "source": [
    "wine_df = pd.read_csv('winequality.csv')\n",
    "wine_df.head()"
   ]
  },
  {
   "attachments": {},
   "cell_type": "markdown",
   "metadata": {},
   "source": [
    "### (a) (5 points) Split the data into a training set and test/validation set."
   ]
  },
  {
   "cell_type": "code",
   "execution_count": 24,
   "metadata": {},
   "outputs": [],
   "source": [
    "test_ratio = 0.2\n",
    "val_ratio = 0.2\n",
    "wine_y = wine_df['quality']\n",
    "wine_X = wine_df.drop('quality', axis=1)\n",
    "\n",
    "wine_X_nonTest, wine_X_test, wine_y_nonTest, wine_y_test =\\\n",
    "    train_test_split(wine_X, wine_y, test_size=test_ratio)\n",
    "wine_X_train, wine_X_val, wine_y_train, wine_y_val =\\\n",
    "    train_test_split(wine_X_nonTest, wine_y_nonTest, test_size=(1-test_ratio)*val_ratio)\n",
    "\n",
    "# Scaling\n",
    "# wine_scaler = StandardScaler()\n",
    "# wine_X_train = wine_scaler.fit_transform(wine_X_train)\n",
    "# wine_X_val = wine_scaler.fit_transform(wine_X_val)\n",
    "# wine_X_test = wine_scaler.fit_transform(wine_X_test)"
   ]
  },
  {
   "attachments": {},
   "cell_type": "markdown",
   "metadata": {},
   "source": [
    "### (b) (5 points) Compute and show the confusion matrices for your decision tree model. What insights do these matrices give you?"
   ]
  },
  {
   "cell_type": "code",
   "execution_count": 25,
   "metadata": {},
   "outputs": [
    {
     "data": {
      "image/png": "[encoded data removed]",
      "text/plain": [
       "<Figure size 640x480 with 2 Axes>"
      ]
     },
     "metadata": {},
     "output_type": "display_data"
    }
   ],
   "source": [
    "wine_tree = DecisionTreeClassifier()\n",
    "wine_tree.fit(wine_X_train, wine_y_train)\n",
    "\n",
    "wine_t_cm = confusion_matrix(wine_y_val, wine_tree.predict(wine_X_val), labels=['bad', 'normal', 'good'])\n",
    "disp_wine = ConfusionMatrixDisplay(confusion_matrix=wine_t_cm, display_labels=['Bad', 'Normal', 'Good'])\n",
    "disp_wine.plot()\n",
    "plt.title('Confusion Matrix for Decision Tree')\n",
    "plt.show()\n",
    "\n"
   ]
  },
  {
   "attachments": {},
   "cell_type": "markdown",
   "metadata": {},
   "source": [
    "### (c) (5 points) Using the same training and test data, compute and show the confusion matrices for your ensemble model. What insights do these matrices give you? Make sure you indicate which ensemble technique(s) you use."
   ]
  },
  {
   "cell_type": "code",
   "execution_count": 26,
   "metadata": {},
   "outputs": [
    {
     "data": {
      "image/png": "[encoded data removed]",
      "text/plain": [
       "<Figure size 640x480 with 2 Axes>"
      ]
     },
     "metadata": {},
     "output_type": "display_data"
    }
   ],
   "source": [
    "wine_forest = RandomForestClassifier(n_estimators=100)\n",
    "wine_forest.fit(wine_X_train, wine_y_train)\n",
    "\n",
    "wine_f_cm = confusion_matrix(wine_y_val, wine_forest.predict(wine_X_val), labels=['bad', 'normal', 'good'])\n",
    "disp_wine = ConfusionMatrixDisplay(confusion_matrix=wine_f_cm, display_labels=['Bad', 'Normal', 'Good'])\n",
    "disp_wine.plot()\n",
    "plt.title('Confusion Matrix for Random Forest')\n",
    "plt.show()"
   ]
  },
  {
   "attachments": {},
   "cell_type": "markdown",
   "metadata": {},
   "source": [
    "### (d) (5 points) What features are considered to be important for your ensemble model’s predictions?"
   ]
  },
  {
   "cell_type": "code",
   "execution_count": 27,
   "metadata": {},
   "outputs": [
    {
     "name": "stderr",
     "output_type": "stream",
     "text": [
      "/Library/Frameworks/Python.framework/Versions/3.9/lib/python3.9/site-packages/numpy/core/fromnumeric.py:3162: VisibleDeprecationWarning: Creating an ndarray from ragged nested sequences (which is a list-or-tuple of lists-or-tuples-or ndarrays with different lengths or shapes) is deprecated. If you meant to do this, you must specify 'dtype=object' when creating the ndarray.\n",
      "  return asarray(a).ndim\n",
      "/Library/Frameworks/Python.framework/Versions/3.9/lib/python3.9/site-packages/numpy/core/fromnumeric.py:1970: VisibleDeprecationWarning: Creating an ndarray from ragged nested sequences (which is a list-or-tuple of lists-or-tuples-or ndarrays with different lengths or shapes) is deprecated. If you meant to do this, you must specify 'dtype=object' when creating the ndarray.\n",
      "  result = asarray(a).shape\n"
     ]
    },
    {
     "data": {
      "text/html": [
       "<div>\n",
       "<style scoped>\n",
       "    .dataframe tbody tr th:only-of-type {\n",
       "        vertical-align: middle;\n",
       "    }\n",
       "\n",
       "    .dataframe tbody tr th {\n",
       "        vertical-align: top;\n",
       "    }\n",
       "\n",
       "    .dataframe thead th {\n",
       "        text-align: right;\n",
       "    }\n",
       "</style>\n",
       "<table border=\"1\" class=\"dataframe\">\n",
       "  <thead>\n",
       "    <tr style=\"text-align: right;\">\n",
       "      <th></th>\n",
       "      <th>Feature</th>\n",
       "      <th>value</th>\n",
       "      <th>model</th>\n",
       "    </tr>\n",
       "  </thead>\n",
       "  <tbody>\n",
       "    <tr>\n",
       "      <th>0</th>\n",
       "      <td>alcohol</td>\n",
       "      <td>0.126762</td>\n",
       "      <td>Random Forest</td>\n",
       "    </tr>\n",
       "    <tr>\n",
       "      <th>1</th>\n",
       "      <td>density</td>\n",
       "      <td>0.110189</td>\n",
       "      <td>Random Forest</td>\n",
       "    </tr>\n",
       "    <tr>\n",
       "      <th>2</th>\n",
       "      <td>volatile acidity</td>\n",
       "      <td>0.100444</td>\n",
       "      <td>Random Forest</td>\n",
       "    </tr>\n",
       "    <tr>\n",
       "      <th>3</th>\n",
       "      <td>free sulfur dioxide</td>\n",
       "      <td>0.093560</td>\n",
       "      <td>Random Forest</td>\n",
       "    </tr>\n",
       "    <tr>\n",
       "      <th>4</th>\n",
       "      <td>total sulfur dioxide</td>\n",
       "      <td>0.086799</td>\n",
       "      <td>Random Forest</td>\n",
       "    </tr>\n",
       "    <tr>\n",
       "      <th>5</th>\n",
       "      <td>pH</td>\n",
       "      <td>0.085378</td>\n",
       "      <td>Random Forest</td>\n",
       "    </tr>\n",
       "    <tr>\n",
       "      <th>6</th>\n",
       "      <td>residual sugar</td>\n",
       "      <td>0.084167</td>\n",
       "      <td>Random Forest</td>\n",
       "    </tr>\n",
       "    <tr>\n",
       "      <th>7</th>\n",
       "      <td>chlorides</td>\n",
       "      <td>0.083060</td>\n",
       "      <td>Random Forest</td>\n",
       "    </tr>\n",
       "    <tr>\n",
       "      <th>8</th>\n",
       "      <td>citric acid</td>\n",
       "      <td>0.080429</td>\n",
       "      <td>Random Forest</td>\n",
       "    </tr>\n",
       "    <tr>\n",
       "      <th>9</th>\n",
       "      <td>sulphates</td>\n",
       "      <td>0.075057</td>\n",
       "      <td>Random Forest</td>\n",
       "    </tr>\n",
       "    <tr>\n",
       "      <th>10</th>\n",
       "      <td>fixed acidity</td>\n",
       "      <td>0.074156</td>\n",
       "      <td>Random Forest</td>\n",
       "    </tr>\n",
       "    <tr>\n",
       "      <th>11</th>\n",
       "      <td>fixed acidity</td>\n",
       "      <td>0.076983</td>\n",
       "      <td>Decision Tree</td>\n",
       "    </tr>\n",
       "    <tr>\n",
       "      <th>12</th>\n",
       "      <td>volatile acidity</td>\n",
       "      <td>0.104890</td>\n",
       "      <td>Decision Tree</td>\n",
       "    </tr>\n",
       "    <tr>\n",
       "      <th>13</th>\n",
       "      <td>citric acid</td>\n",
       "      <td>0.074228</td>\n",
       "      <td>Decision Tree</td>\n",
       "    </tr>\n",
       "    <tr>\n",
       "      <th>14</th>\n",
       "      <td>residual sugar</td>\n",
       "      <td>0.068088</td>\n",
       "      <td>Decision Tree</td>\n",
       "    </tr>\n",
       "    <tr>\n",
       "      <th>15</th>\n",
       "      <td>chlorides</td>\n",
       "      <td>0.081040</td>\n",
       "      <td>Decision Tree</td>\n",
       "    </tr>\n",
       "    <tr>\n",
       "      <th>16</th>\n",
       "      <td>free sulfur dioxide</td>\n",
       "      <td>0.090222</td>\n",
       "      <td>Decision Tree</td>\n",
       "    </tr>\n",
       "    <tr>\n",
       "      <th>17</th>\n",
       "      <td>total sulfur dioxide</td>\n",
       "      <td>0.088201</td>\n",
       "      <td>Decision Tree</td>\n",
       "    </tr>\n",
       "    <tr>\n",
       "      <th>18</th>\n",
       "      <td>density</td>\n",
       "      <td>0.087602</td>\n",
       "      <td>Decision Tree</td>\n",
       "    </tr>\n",
       "    <tr>\n",
       "      <th>19</th>\n",
       "      <td>pH</td>\n",
       "      <td>0.085300</td>\n",
       "      <td>Decision Tree</td>\n",
       "    </tr>\n",
       "    <tr>\n",
       "      <th>20</th>\n",
       "      <td>sulphates</td>\n",
       "      <td>0.074680</td>\n",
       "      <td>Decision Tree</td>\n",
       "    </tr>\n",
       "    <tr>\n",
       "      <th>21</th>\n",
       "      <td>alcohol</td>\n",
       "      <td>0.168765</td>\n",
       "      <td>Decision Tree</td>\n",
       "    </tr>\n",
       "  </tbody>\n",
       "</table>\n",
       "</div>"
      ],
      "text/plain": [
       "(pd.DataFrame(importances).head(len(importances))) :=                  Feature     value          model\n",
       "0                alcohol  0.126762  Random Forest\n",
       "1                density  0.110189  Random Forest\n",
       "2       volatile acidity  0.100444  Random Forest\n",
       "3    free sulfur dioxide  0.093560  Random Forest\n",
       "4   total sulfur dioxide  0.086799  Random Forest\n",
       "5                     pH  0.085378  Random Forest\n",
       "6         residual sugar  0.084167  Random Forest\n",
       "7              chlorides  0.083060  Random Forest\n",
       "8            citric acid  0.080429  Random Forest\n",
       "9              sulphates  0.075057  Random Forest\n",
       "10        fixed acidity   0.074156  Random Forest\n",
       "11        fixed acidity   0.076983  Decision Tree\n",
       "12      volatile acidity  0.104890  Decision Tree\n",
       "13           citric acid  0.074228  Decision Tree\n",
       "14        residual sugar  0.068088  Decision Tree\n",
       "15             chlorides  0.081040  Decision Tree\n",
       "16   free sulfur dioxide  0.090222  Decision Tree\n",
       "17  total sulfur dioxide  0.088201  Decision Tree\n",
       "18               density  0.087602  Decision Tree\n",
       "19                    pH  0.085300  Decision Tree\n",
       "20             sulphates  0.074680  Decision Tree\n",
       "21               alcohol  0.168765  Decision Tree"
      ]
     },
     "metadata": {},
     "output_type": "display_data"
    },
    {
     "data": {
      "text/plain": [
       "---"
      ]
     },
     "metadata": {},
     "output_type": "display_data"
    },
    {
     "data": {
      "text/plain": [
       "<seaborn.axisgrid.FacetGrid at 0x7fb6b8da4d30>"
      ]
     },
     "execution_count": 27,
     "metadata": {},
     "output_type": "execute_result"
    },
    {
     "data": {
      "image/png": "[encoded data removed]",
      "text/plain": [
       "<Figure size 1785.25x650 with 1 Axes>"
      ]
     },
     "metadata": {},
     "output_type": "display_data"
    }
   ],
   "source": [
    "imp_tree, imp_forest = pd.DataFrame(columns=['Feature','value','model']), pd.DataFrame(columns=['Feature','value','model'])\n",
    "\n",
    "imp_forest[['Feature','value','model']]= [wine_X.columns, wine_forest.feature_importances_, 'Random Forest']\n",
    "imp_tree[['Feature','value','model']] = [wine_X.columns, wine_tree.feature_importances_, 'Decision Tree']\n",
    "importances = pd.concat([imp_forest.sort_values('value', ascending=False), imp_tree], ignore_index=True)\n",
    "\n",
    "pd.DataFrame(importances).head(len(importances)) ##:\n",
    "sns.set_theme(style=\"whitegrid\")\n",
    "sns.catplot(data = importances, kind='bar', x='Feature', y='value', hue='model',\n",
    "            height=6.5, aspect=2.5).despine(left=True)"
   ]
  },
  {
   "attachments": {},
   "cell_type": "markdown",
   "metadata": {},
   "source": [
    "### (e) (5 points) Compare the results from each model. Which is best?"
   ]
  },
  {
   "cell_type": "code",
   "execution_count": 28,
   "metadata": {},
   "outputs": [
    {
     "data": {
      "text/plain": [
       "(wine_t_cm.trace() / np.sum(wine_t_cm)) := 0.6586921850079744"
      ]
     },
     "metadata": {},
     "output_type": "display_data"
    },
    {
     "data": {
      "text/plain": [
       "---"
      ]
     },
     "metadata": {},
     "output_type": "display_data"
    },
    {
     "data": {
      "text/plain": [
       "(wine_f_cm.trace() / np.sum(wine_f_cm)) := 0.7129186602870813"
      ]
     },
     "metadata": {},
     "output_type": "display_data"
    },
    {
     "data": {
      "text/plain": [
       "---"
      ]
     },
     "metadata": {},
     "output_type": "display_data"
    },
    {
     "name": "stdout",
     "output_type": "stream",
     "text": [
      "              precision    recall  f1-score   support\n",
      "\n",
      "         bad       0.70      0.67      0.69       221\n",
      "        good       0.57      0.63      0.60       129\n",
      "      normal       0.67      0.66      0.67       277\n",
      "\n",
      "    accuracy                           0.66       627\n",
      "   macro avg       0.65      0.65      0.65       627\n",
      "weighted avg       0.66      0.66      0.66       627\n",
      "\n",
      "              precision    recall  f1-score   support\n",
      "\n",
      "         bad       0.77      0.70      0.73       221\n",
      "        good       0.74      0.66      0.70       129\n",
      "      normal       0.67      0.75      0.71       277\n",
      "\n",
      "    accuracy                           0.71       627\n",
      "   macro avg       0.73      0.70      0.71       627\n",
      "weighted avg       0.72      0.71      0.71       627\n",
      "\n"
     ]
    }
   ],
   "source": [
    "wine_t_cm.trace() / np.sum(wine_t_cm) ##:\n",
    "wine_f_cm.trace() / np.sum(wine_f_cm) ##:\n",
    "\n",
    "print( classification_report(wine_y_val, wine_tree.predict(wine_X_val)) )\n",
    "print( classification_report(wine_y_val, wine_forest.predict(wine_X_val)) )"
   ]
  },
  {
   "attachments": {},
   "cell_type": "markdown",
   "metadata": {},
   "source": [
    "The forest model outperforms the tree in all of the prediction metrics tested. It would appear that the only reasons to choose a decision tree is if there are technological limitations to consider."
   ]
  },
  {
   "cell_type": "code",
   "execution_count": 91,
   "metadata": {},
   "outputs": [
    {
     "data": {
      "text/html": [
       "<div>\n",
       "<style scoped>\n",
       "    .dataframe tbody tr th:only-of-type {\n",
       "        vertical-align: middle;\n",
       "    }\n",
       "\n",
       "    .dataframe tbody tr th {\n",
       "        vertical-align: top;\n",
       "    }\n",
       "\n",
       "    .dataframe thead th {\n",
       "        text-align: right;\n",
       "    }\n",
       "</style>\n",
       "<table border=\"1\" class=\"dataframe\">\n",
       "  <thead>\n",
       "    <tr style=\"text-align: right;\">\n",
       "      <th></th>\n",
       "      <th>fixed acidity</th>\n",
       "      <th>volatile acidity</th>\n",
       "      <th>citric acid</th>\n",
       "      <th>residual sugar</th>\n",
       "      <th>chlorides</th>\n",
       "      <th>free sulfur dioxide</th>\n",
       "      <th>total sulfur dioxide</th>\n",
       "      <th>density</th>\n",
       "      <th>pH</th>\n",
       "      <th>sulphates</th>\n",
       "      <th>alcohol</th>\n",
       "      <th>quality</th>\n",
       "    </tr>\n",
       "  </thead>\n",
       "  <tbody>\n",
       "    <tr>\n",
       "      <th>0</th>\n",
       "      <td>7.0</td>\n",
       "      <td>0.27</td>\n",
       "      <td>0.36</td>\n",
       "      <td>20.7</td>\n",
       "      <td>0.045</td>\n",
       "      <td>45.0</td>\n",
       "      <td>170.0</td>\n",
       "      <td>1.00100</td>\n",
       "      <td>3.00</td>\n",
       "      <td>0.45</td>\n",
       "      <td>8.8</td>\n",
       "      <td>normal</td>\n",
       "    </tr>\n",
       "    <tr>\n",
       "      <th>1</th>\n",
       "      <td>6.3</td>\n",
       "      <td>0.30</td>\n",
       "      <td>0.34</td>\n",
       "      <td>1.6</td>\n",
       "      <td>0.049</td>\n",
       "      <td>14.0</td>\n",
       "      <td>132.0</td>\n",
       "      <td>0.99400</td>\n",
       "      <td>3.30</td>\n",
       "      <td>0.49</td>\n",
       "      <td>9.5</td>\n",
       "      <td>normal</td>\n",
       "    </tr>\n",
       "    <tr>\n",
       "      <th>2</th>\n",
       "      <td>8.1</td>\n",
       "      <td>0.28</td>\n",
       "      <td>0.40</td>\n",
       "      <td>6.9</td>\n",
       "      <td>0.050</td>\n",
       "      <td>30.0</td>\n",
       "      <td>97.0</td>\n",
       "      <td>0.99510</td>\n",
       "      <td>3.26</td>\n",
       "      <td>0.44</td>\n",
       "      <td>10.1</td>\n",
       "      <td>normal</td>\n",
       "    </tr>\n",
       "    <tr>\n",
       "      <th>3</th>\n",
       "      <td>7.2</td>\n",
       "      <td>0.23</td>\n",
       "      <td>0.32</td>\n",
       "      <td>8.5</td>\n",
       "      <td>0.058</td>\n",
       "      <td>47.0</td>\n",
       "      <td>186.0</td>\n",
       "      <td>0.99560</td>\n",
       "      <td>3.19</td>\n",
       "      <td>0.40</td>\n",
       "      <td>9.9</td>\n",
       "      <td>normal</td>\n",
       "    </tr>\n",
       "    <tr>\n",
       "      <th>4</th>\n",
       "      <td>7.2</td>\n",
       "      <td>0.23</td>\n",
       "      <td>0.32</td>\n",
       "      <td>8.5</td>\n",
       "      <td>0.058</td>\n",
       "      <td>47.0</td>\n",
       "      <td>186.0</td>\n",
       "      <td>0.99560</td>\n",
       "      <td>3.19</td>\n",
       "      <td>0.40</td>\n",
       "      <td>9.9</td>\n",
       "      <td>normal</td>\n",
       "    </tr>\n",
       "    <tr>\n",
       "      <th>...</th>\n",
       "      <td>...</td>\n",
       "      <td>...</td>\n",
       "      <td>...</td>\n",
       "      <td>...</td>\n",
       "      <td>...</td>\n",
       "      <td>...</td>\n",
       "      <td>...</td>\n",
       "      <td>...</td>\n",
       "      <td>...</td>\n",
       "      <td>...</td>\n",
       "      <td>...</td>\n",
       "      <td>...</td>\n",
       "    </tr>\n",
       "    <tr>\n",
       "      <th>4893</th>\n",
       "      <td>6.2</td>\n",
       "      <td>0.21</td>\n",
       "      <td>0.29</td>\n",
       "      <td>1.6</td>\n",
       "      <td>0.039</td>\n",
       "      <td>24.0</td>\n",
       "      <td>92.0</td>\n",
       "      <td>0.99114</td>\n",
       "      <td>3.27</td>\n",
       "      <td>0.50</td>\n",
       "      <td>11.2</td>\n",
       "      <td>normal</td>\n",
       "    </tr>\n",
       "    <tr>\n",
       "      <th>4894</th>\n",
       "      <td>6.6</td>\n",
       "      <td>0.32</td>\n",
       "      <td>0.36</td>\n",
       "      <td>8.0</td>\n",
       "      <td>0.047</td>\n",
       "      <td>57.0</td>\n",
       "      <td>168.0</td>\n",
       "      <td>0.99490</td>\n",
       "      <td>3.15</td>\n",
       "      <td>0.46</td>\n",
       "      <td>9.6</td>\n",
       "      <td>bad</td>\n",
       "    </tr>\n",
       "    <tr>\n",
       "      <th>4895</th>\n",
       "      <td>6.5</td>\n",
       "      <td>0.24</td>\n",
       "      <td>0.19</td>\n",
       "      <td>1.2</td>\n",
       "      <td>0.041</td>\n",
       "      <td>30.0</td>\n",
       "      <td>111.0</td>\n",
       "      <td>0.99254</td>\n",
       "      <td>2.99</td>\n",
       "      <td>0.46</td>\n",
       "      <td>9.4</td>\n",
       "      <td>normal</td>\n",
       "    </tr>\n",
       "    <tr>\n",
       "      <th>4896</th>\n",
       "      <td>5.5</td>\n",
       "      <td>0.29</td>\n",
       "      <td>0.30</td>\n",
       "      <td>1.1</td>\n",
       "      <td>0.022</td>\n",
       "      <td>20.0</td>\n",
       "      <td>110.0</td>\n",
       "      <td>0.98869</td>\n",
       "      <td>3.34</td>\n",
       "      <td>0.38</td>\n",
       "      <td>12.8</td>\n",
       "      <td>good</td>\n",
       "    </tr>\n",
       "    <tr>\n",
       "      <th>4897</th>\n",
       "      <td>6.0</td>\n",
       "      <td>0.21</td>\n",
       "      <td>0.38</td>\n",
       "      <td>0.8</td>\n",
       "      <td>0.020</td>\n",
       "      <td>22.0</td>\n",
       "      <td>98.0</td>\n",
       "      <td>0.98941</td>\n",
       "      <td>3.26</td>\n",
       "      <td>0.32</td>\n",
       "      <td>11.8</td>\n",
       "      <td>normal</td>\n",
       "    </tr>\n",
       "  </tbody>\n",
       "</table>\n",
       "<p>4744 rows × 12 columns</p>\n",
       "</div>"
      ],
      "text/plain": [
       "      fixed acidity   volatile acidity  citric acid  residual sugar  \\\n",
       "0                7.0              0.27         0.36            20.7   \n",
       "1                6.3              0.30         0.34             1.6   \n",
       "2                8.1              0.28         0.40             6.9   \n",
       "3                7.2              0.23         0.32             8.5   \n",
       "4                7.2              0.23         0.32             8.5   \n",
       "...              ...               ...          ...             ...   \n",
       "4893             6.2              0.21         0.29             1.6   \n",
       "4894             6.6              0.32         0.36             8.0   \n",
       "4895             6.5              0.24         0.19             1.2   \n",
       "4896             5.5              0.29         0.30             1.1   \n",
       "4897             6.0              0.21         0.38             0.8   \n",
       "\n",
       "      chlorides  free sulfur dioxide  total sulfur dioxide  density    pH  \\\n",
       "0         0.045                 45.0                 170.0  1.00100  3.00   \n",
       "1         0.049                 14.0                 132.0  0.99400  3.30   \n",
       "2         0.050                 30.0                  97.0  0.99510  3.26   \n",
       "3         0.058                 47.0                 186.0  0.99560  3.19   \n",
       "4         0.058                 47.0                 186.0  0.99560  3.19   \n",
       "...         ...                  ...                   ...      ...   ...   \n",
       "4893      0.039                 24.0                  92.0  0.99114  3.27   \n",
       "4894      0.047                 57.0                 168.0  0.99490  3.15   \n",
       "4895      0.041                 30.0                 111.0  0.99254  2.99   \n",
       "4896      0.022                 20.0                 110.0  0.98869  3.34   \n",
       "4897      0.020                 22.0                  98.0  0.98941  3.26   \n",
       "\n",
       "      sulphates  alcohol quality  \n",
       "0          0.45      8.8  normal  \n",
       "1          0.49      9.5  normal  \n",
       "2          0.44     10.1  normal  \n",
       "3          0.40      9.9  normal  \n",
       "4          0.40      9.9  normal  \n",
       "...         ...      ...     ...  \n",
       "4893       0.50     11.2  normal  \n",
       "4894       0.46      9.6     bad  \n",
       "4895       0.46      9.4  normal  \n",
       "4896       0.38     12.8    good  \n",
       "4897       0.32     11.8  normal  \n",
       "\n",
       "[4744 rows x 12 columns]"
      ]
     },
     "execution_count": 91,
     "metadata": {},
     "output_type": "execute_result"
    }
   ],
   "source": [
    "test = wine_df.drop('quality', axis=1)\n",
    "o = test[(test > test.quantile(0.15)) & (test < test.quantile(0.85))]\n",
    "wine_df.drop(index=o.dropna().index)\n"
   ]
  }
 ],
 "metadata": {
  "kernelspec": {
   "display_name": "Python 3",
   "language": "python",
   "name": "python3"
  },
  "language_info": {
   "codemirror_mode": {
    "name": "ipython",
    "version": 3
   },
   "file_extension": ".py",
   "mimetype": "text/x-python",
   "name": "python",
   "nbconvert_exporter": "python",
   "pygments_lexer": "ipython3",
   "version": "3.9.6"
  },
  "orig_nbformat": 4
 },
 "nbformat": 4,
 "nbformat_minor": 2
}
