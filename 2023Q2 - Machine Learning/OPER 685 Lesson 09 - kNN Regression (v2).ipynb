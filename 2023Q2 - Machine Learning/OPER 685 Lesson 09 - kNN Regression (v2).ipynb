{
 "cells": [
  {
   "cell_type": "markdown",
   "id": "9e44c978",
   "metadata": {},
   "source": [
    "# k-Nearest Neighbors Classification and Regression + Kernel Regression\n",
    "I base this code off of following: <br>\n",
    "https://nickmccullum.com/python-machine-learning/k-nearest-neighbors-python/ <br>\n",
    "https://www.dataquest.io/blog/k-nearest-neighbors-in-python/ <br>\n",
    "\n",
    "We will be leveraging scikit learns KNeighbors package, documentation can be found here: <br>\n",
    "https://scikit-learn.org/stable/modules/generated/sklearn.neighbors.KNeighborsClassifier.html"
   ]
  },
  {
   "cell_type": "markdown",
   "id": "f5e16d98",
   "metadata": {},
   "source": [
    "## 1. kNN Classification"
   ]
  },
  {
   "cell_type": "markdown",
   "id": "eb6cab8b",
   "metadata": {},
   "source": [
    "### Import Libraries"
   ]
  },
  {
   "cell_type": "code",
   "execution_count": 1,
   "id": "d98dd614",
   "metadata": {},
   "outputs": [],
   "source": [
    "import numpy as np\n",
    "import pandas as pd\n",
    "import matplotlib.pyplot as plt\n",
    "import seaborn as sns\n",
    "\n",
    "from sklearn.preprocessing import StandardScaler\n",
    "from sklearn.model_selection import train_test_split\n",
    "from sklearn.neighbors import KNeighborsClassifier, KNeighborsRegressor\n",
    "from sklearn.metrics import classification_report, mean_squared_error, r2_score\n",
    "from sklearn.metrics import confusion_matrix, ConfusionMatrixDisplay\n",
    "from sklearn.model_selection import KFold\n",
    "from sklearn.model_selection import cross_val_score\n",
    "from sklearn.linear_model import LinearRegression\n",
    "from numpy import mean\n",
    "from numpy import absolute"
   ]
  },
  {
   "cell_type": "markdown",
   "id": "b1c02107",
   "metadata": {},
   "source": [
    "### Read in and Standardize Data"
   ]
  },
  {
   "cell_type": "code",
   "execution_count": 2,
   "id": "757e8eb3",
   "metadata": {},
   "outputs": [],
   "source": [
    "iris = pd.read_csv(\"Iris.csv\")"
   ]
  },
  {
   "cell_type": "code",
   "execution_count": 3,
   "id": "3cd845c6",
   "metadata": {},
   "outputs": [
    {
     "data": {
      "text/html": [
       "<div>\n",
       "<style scoped>\n",
       "    .dataframe tbody tr th:only-of-type {\n",
       "        vertical-align: middle;\n",
       "    }\n",
       "\n",
       "    .dataframe tbody tr th {\n",
       "        vertical-align: top;\n",
       "    }\n",
       "\n",
       "    .dataframe thead th {\n",
       "        text-align: right;\n",
       "    }\n",
       "</style>\n",
       "<table border=\"1\" class=\"dataframe\">\n",
       "  <thead>\n",
       "    <tr style=\"text-align: right;\">\n",
       "      <th></th>\n",
       "      <th>Id</th>\n",
       "      <th>SepalLengthCm</th>\n",
       "      <th>SepalWidthCm</th>\n",
       "      <th>PetalLengthCm</th>\n",
       "      <th>PetalWidthCm</th>\n",
       "      <th>Species</th>\n",
       "    </tr>\n",
       "  </thead>\n",
       "  <tbody>\n",
       "    <tr>\n",
       "      <th>0</th>\n",
       "      <td>1</td>\n",
       "      <td>5.1</td>\n",
       "      <td>3.5</td>\n",
       "      <td>1.4</td>\n",
       "      <td>0.2</td>\n",
       "      <td>Iris-setosa</td>\n",
       "    </tr>\n",
       "    <tr>\n",
       "      <th>1</th>\n",
       "      <td>2</td>\n",
       "      <td>4.9</td>\n",
       "      <td>3.0</td>\n",
       "      <td>1.4</td>\n",
       "      <td>0.2</td>\n",
       "      <td>Iris-setosa</td>\n",
       "    </tr>\n",
       "    <tr>\n",
       "      <th>2</th>\n",
       "      <td>3</td>\n",
       "      <td>4.7</td>\n",
       "      <td>3.2</td>\n",
       "      <td>1.3</td>\n",
       "      <td>0.2</td>\n",
       "      <td>Iris-setosa</td>\n",
       "    </tr>\n",
       "    <tr>\n",
       "      <th>3</th>\n",
       "      <td>4</td>\n",
       "      <td>4.6</td>\n",
       "      <td>3.1</td>\n",
       "      <td>1.5</td>\n",
       "      <td>0.2</td>\n",
       "      <td>Iris-setosa</td>\n",
       "    </tr>\n",
       "    <tr>\n",
       "      <th>4</th>\n",
       "      <td>5</td>\n",
       "      <td>5.0</td>\n",
       "      <td>3.6</td>\n",
       "      <td>1.4</td>\n",
       "      <td>0.2</td>\n",
       "      <td>Iris-setosa</td>\n",
       "    </tr>\n",
       "  </tbody>\n",
       "</table>\n",
       "</div>"
      ],
      "text/plain": [
       "   Id  SepalLengthCm  SepalWidthCm  PetalLengthCm  PetalWidthCm      Species\n",
       "0   1            5.1           3.5            1.4           0.2  Iris-setosa\n",
       "1   2            4.9           3.0            1.4           0.2  Iris-setosa\n",
       "2   3            4.7           3.2            1.3           0.2  Iris-setosa\n",
       "3   4            4.6           3.1            1.5           0.2  Iris-setosa\n",
       "4   5            5.0           3.6            1.4           0.2  Iris-setosa"
      ]
     },
     "execution_count": 3,
     "metadata": {},
     "output_type": "execute_result"
    }
   ],
   "source": [
    "iris.head()"
   ]
  },
  {
   "cell_type": "markdown",
   "id": "df082d9e",
   "metadata": {},
   "source": [
    "We can now use sklearns standard scaler to standardize all the numeric data, we use drop on Species since it is categorical.  This returns a numpy array which we have to cast back as a pandas dataframe."
   ]
  },
  {
   "cell_type": "code",
   "execution_count": 4,
   "id": "ea9792eb",
   "metadata": {},
   "outputs": [],
   "source": [
    "scaler = StandardScaler()\n",
    "scaler.fit(iris.drop('Species', axis=1))\n",
    "scaled_features = scaler.transform(iris.drop('Species', axis=1))\n",
    "scaled_data = pd.DataFrame(scaled_features, columns=iris.drop('Species',axis=1).columns)"
   ]
  },
  {
   "cell_type": "code",
   "execution_count": 5,
   "id": "5bba1397",
   "metadata": {},
   "outputs": [
    {
     "data": {
      "text/html": [
       "<div>\n",
       "<style scoped>\n",
       "    .dataframe tbody tr th:only-of-type {\n",
       "        vertical-align: middle;\n",
       "    }\n",
       "\n",
       "    .dataframe tbody tr th {\n",
       "        vertical-align: top;\n",
       "    }\n",
       "\n",
       "    .dataframe thead th {\n",
       "        text-align: right;\n",
       "    }\n",
       "</style>\n",
       "<table border=\"1\" class=\"dataframe\">\n",
       "  <thead>\n",
       "    <tr style=\"text-align: right;\">\n",
       "      <th></th>\n",
       "      <th>Id</th>\n",
       "      <th>SepalLengthCm</th>\n",
       "      <th>SepalWidthCm</th>\n",
       "      <th>PetalLengthCm</th>\n",
       "      <th>PetalWidthCm</th>\n",
       "    </tr>\n",
       "  </thead>\n",
       "  <tbody>\n",
       "    <tr>\n",
       "      <th>0</th>\n",
       "      <td>-1.720542</td>\n",
       "      <td>-0.900681</td>\n",
       "      <td>1.032057</td>\n",
       "      <td>-1.341272</td>\n",
       "      <td>-1.312977</td>\n",
       "    </tr>\n",
       "    <tr>\n",
       "      <th>1</th>\n",
       "      <td>-1.697448</td>\n",
       "      <td>-1.143017</td>\n",
       "      <td>-0.124958</td>\n",
       "      <td>-1.341272</td>\n",
       "      <td>-1.312977</td>\n",
       "    </tr>\n",
       "    <tr>\n",
       "      <th>2</th>\n",
       "      <td>-1.674353</td>\n",
       "      <td>-1.385353</td>\n",
       "      <td>0.337848</td>\n",
       "      <td>-1.398138</td>\n",
       "      <td>-1.312977</td>\n",
       "    </tr>\n",
       "    <tr>\n",
       "      <th>3</th>\n",
       "      <td>-1.651258</td>\n",
       "      <td>-1.506521</td>\n",
       "      <td>0.106445</td>\n",
       "      <td>-1.284407</td>\n",
       "      <td>-1.312977</td>\n",
       "    </tr>\n",
       "    <tr>\n",
       "      <th>4</th>\n",
       "      <td>-1.628164</td>\n",
       "      <td>-1.021849</td>\n",
       "      <td>1.263460</td>\n",
       "      <td>-1.341272</td>\n",
       "      <td>-1.312977</td>\n",
       "    </tr>\n",
       "  </tbody>\n",
       "</table>\n",
       "</div>"
      ],
      "text/plain": [
       "         Id  SepalLengthCm  SepalWidthCm  PetalLengthCm  PetalWidthCm\n",
       "0 -1.720542      -0.900681      1.032057      -1.341272     -1.312977\n",
       "1 -1.697448      -1.143017     -0.124958      -1.341272     -1.312977\n",
       "2 -1.674353      -1.385353      0.337848      -1.398138     -1.312977\n",
       "3 -1.651258      -1.506521      0.106445      -1.284407     -1.312977\n",
       "4 -1.628164      -1.021849      1.263460      -1.341272     -1.312977"
      ]
     },
     "execution_count": 5,
     "metadata": {},
     "output_type": "execute_result"
    }
   ],
   "source": [
    "scaled_data.head()"
   ]
  },
  {
   "cell_type": "markdown",
   "id": "c0e41250",
   "metadata": {},
   "source": [
    "### Split our data into training and test sets \n",
    "To be rigoursly correct we should have first parsed out a ~20% section of data for a hold out test set **before** we standardized our data. "
   ]
  },
  {
   "cell_type": "code",
   "execution_count": 6,
   "id": "fc3134f9",
   "metadata": {},
   "outputs": [],
   "source": [
    "x = scaled_data\n",
    "y = iris['Species']"
   ]
  },
  {
   "cell_type": "code",
   "execution_count": 7,
   "id": "e582022f",
   "metadata": {},
   "outputs": [],
   "source": [
    "x_training, x_test, y_training, y_test = train_test_split(x,y, test_size=.5)"
   ]
  },
  {
   "cell_type": "markdown",
   "id": "2fead461",
   "metadata": {},
   "source": [
    "### Choose Optimal size for k"
   ]
  },
  {
   "cell_type": "code",
   "execution_count": 8,
   "id": "8d307415",
   "metadata": {},
   "outputs": [],
   "source": [
    "error_rates = []"
   ]
  },
  {
   "cell_type": "code",
   "execution_count": 9,
   "id": "ed07240f",
   "metadata": {},
   "outputs": [],
   "source": [
    "for i in np.arange(1,50):\n",
    "    new_model = KNeighborsClassifier(n_neighbors = i)\n",
    "    new_model.fit(x_training, y_training)\n",
    "    new_predictions = new_model.predict(x_test)\n",
    "    error_rates.append(np.mean(new_predictions != y_test))"
   ]
  },
  {
   "cell_type": "code",
   "execution_count": 10,
   "id": "42c674e3",
   "metadata": {},
   "outputs": [
    {
     "data": {
      "text/plain": [
       "[<matplotlib.lines.Line2D at 0x2eccd170bb0>]"
      ]
     },
     "execution_count": 10,
     "metadata": {},
     "output_type": "execute_result"
    },
    {
     "data": {
      "image/png": "[encoded data removed]",
      "text/plain": [
       "<Figure size 640x480 with 1 Axes>"
      ]
     },
     "metadata": {},
     "output_type": "display_data"
    }
   ],
   "source": [
    "plt.plot(error_rates)"
   ]
  },
  {
   "cell_type": "markdown",
   "id": "90ab282c",
   "metadata": {},
   "source": [
    "Seems like k=1 or 2 is best."
   ]
  },
  {
   "cell_type": "code",
   "execution_count": 11,
   "id": "3bc094fe",
   "metadata": {},
   "outputs": [],
   "source": [
    "#k=1\n",
    "\n",
    "model = KNeighborsClassifier(n_neighbors = 1)\n",
    "model.fit(x_training, y_training)\n",
    "predictions = model.predict(x_test)"
   ]
  },
  {
   "cell_type": "code",
   "execution_count": 12,
   "id": "c06940d1",
   "metadata": {},
   "outputs": [
    {
     "name": "stdout",
     "output_type": "stream",
     "text": [
      "                 precision    recall  f1-score   support\n",
      "\n",
      "    Iris-setosa       1.00      1.00      1.00        22\n",
      "Iris-versicolor       1.00      0.96      0.98        28\n",
      " Iris-virginica       0.96      1.00      0.98        25\n",
      "\n",
      "       accuracy                           0.99        75\n",
      "      macro avg       0.99      0.99      0.99        75\n",
      "   weighted avg       0.99      0.99      0.99        75\n",
      "\n"
     ]
    }
   ],
   "source": [
    "print(classification_report(y_test,predictions))"
   ]
  },
  {
   "cell_type": "code",
   "execution_count": 13,
   "id": "ac3e63f8",
   "metadata": {},
   "outputs": [],
   "source": [
    "cm = confusion_matrix(y_test,predictions)"
   ]
  },
  {
   "cell_type": "code",
   "execution_count": 14,
   "id": "ab32782a",
   "metadata": {},
   "outputs": [],
   "source": [
    "disp = ConfusionMatrixDisplay(confusion_matrix=cm,\n",
    "                              display_labels=model.classes_)"
   ]
  },
  {
   "cell_type": "code",
   "execution_count": 15,
   "id": "01d59dd6",
   "metadata": {},
   "outputs": [
    {
     "data": {
      "text/plain": [
       "<sklearn.metrics._plot.confusion_matrix.ConfusionMatrixDisplay at 0x2eccb005a00>"
      ]
     },
     "execution_count": 15,
     "metadata": {},
     "output_type": "execute_result"
    },
    {
     "data": {
      "image/png": "[encoded data removed]",
      "text/plain": [
       "<Figure size 640x480 with 2 Axes>"
      ]
     },
     "metadata": {},
     "output_type": "display_data"
    }
   ],
   "source": [
    "disp.plot()"
   ]
  },
  {
   "cell_type": "code",
   "execution_count": 16,
   "id": "c6df4eb3",
   "metadata": {},
   "outputs": [],
   "source": [
    "#k=2\n",
    "\n",
    "model = KNeighborsClassifier(n_neighbors = 2)\n",
    "model.fit(x_training, y_training)\n",
    "predictions = model.predict(x_test)"
   ]
  },
  {
   "cell_type": "code",
   "execution_count": 17,
   "id": "b3f2b650",
   "metadata": {},
   "outputs": [
    {
     "name": "stdout",
     "output_type": "stream",
     "text": [
      "                 precision    recall  f1-score   support\n",
      "\n",
      "    Iris-setosa       1.00      1.00      1.00        22\n",
      "Iris-versicolor       0.97      1.00      0.98        28\n",
      " Iris-virginica       1.00      0.96      0.98        25\n",
      "\n",
      "       accuracy                           0.99        75\n",
      "      macro avg       0.99      0.99      0.99        75\n",
      "   weighted avg       0.99      0.99      0.99        75\n",
      "\n"
     ]
    }
   ],
   "source": [
    "print(classification_report(y_test,predictions))"
   ]
  },
  {
   "cell_type": "code",
   "execution_count": 18,
   "id": "10a41097",
   "metadata": {},
   "outputs": [
    {
     "data": {
      "text/plain": [
       "<sklearn.metrics._plot.confusion_matrix.ConfusionMatrixDisplay at 0x2eccd2620d0>"
      ]
     },
     "execution_count": 18,
     "metadata": {},
     "output_type": "execute_result"
    },
    {
     "data": {
      "image/png": "[encoded data removed]",
      "text/plain": [
       "<Figure size 640x480 with 2 Axes>"
      ]
     },
     "metadata": {},
     "output_type": "display_data"
    }
   ],
   "source": [
    "cm = confusion_matrix(y_test,predictions)\n",
    "\n",
    "disp = ConfusionMatrixDisplay(confusion_matrix=cm,\n",
    "                              display_labels=model.classes_)\n",
    "\n",
    "disp.plot()"
   ]
  },
  {
   "cell_type": "markdown",
   "id": "d71fd6ff",
   "metadata": {},
   "source": [
    "Let us see what happens if we had choosen a poor k, say k=45"
   ]
  },
  {
   "cell_type": "code",
   "execution_count": 19,
   "id": "b140e435",
   "metadata": {},
   "outputs": [
    {
     "name": "stdout",
     "output_type": "stream",
     "text": [
      "                 precision    recall  f1-score   support\n",
      "\n",
      "    Iris-setosa       1.00      1.00      1.00        22\n",
      "Iris-versicolor       0.93      0.46      0.62        28\n",
      " Iris-virginica       0.62      0.96      0.75        25\n",
      "\n",
      "       accuracy                           0.79        75\n",
      "      macro avg       0.85      0.81      0.79        75\n",
      "   weighted avg       0.85      0.79      0.77        75\n",
      "\n"
     ]
    }
   ],
   "source": [
    "#k=45\n",
    "\n",
    "model = KNeighborsClassifier(n_neighbors = 45)\n",
    "model.fit(x_training, y_training)\n",
    "predictions = model.predict(x_test)\n",
    "\n",
    "print(classification_report(y_test,predictions))"
   ]
  },
  {
   "cell_type": "code",
   "execution_count": 20,
   "id": "d9f57878",
   "metadata": {},
   "outputs": [
    {
     "data": {
      "text/plain": [
       "<sklearn.metrics._plot.confusion_matrix.ConfusionMatrixDisplay at 0x2ecd033ce80>"
      ]
     },
     "execution_count": 20,
     "metadata": {},
     "output_type": "execute_result"
    },
    {
     "data": {
      "image/png": "[encoded data removed]",
      "text/plain": [
       "<Figure size 640x480 with 2 Axes>"
      ]
     },
     "metadata": {},
     "output_type": "display_data"
    }
   ],
   "source": [
    "cm = confusion_matrix(y_test,predictions)\n",
    "\n",
    "disp = ConfusionMatrixDisplay(confusion_matrix=cm,\n",
    "                              display_labels=model.classes_)\n",
    "\n",
    "disp.plot()"
   ]
  },
  {
   "cell_type": "markdown",
   "id": "0d627668",
   "metadata": {},
   "source": [
    "### kNN Classification Conclusion\n",
    "Your choice of k definetly matters.  If you play around with the size of the test dataset you see it influances results as well.  The iris dataset is pretty small and as a result is somewhat fragile. <br>\n",
    "\n",
    "How could we overcome this small size?  Instead of setting aside 20% of our training data to be a test set we could use all our data in a k-fold cross valdiation."
   ]
  },
  {
   "cell_type": "markdown",
   "id": "6af17f38",
   "metadata": {},
   "source": [
    "## 2. kNN Regression"
   ]
  },
  {
   "cell_type": "markdown",
   "id": "c8368c2a",
   "metadata": {},
   "source": [
    "### Import and standardize data\n",
    "Here we want to create a regression model on y = sales, using the featyres TV, Radio and Newspaper which represent advertising costs in those mediums."
   ]
  },
  {
   "cell_type": "code",
   "execution_count": 21,
   "id": "b4bf6f39",
   "metadata": {},
   "outputs": [],
   "source": [
    "advertising = pd.read_csv(\"Advertising.csv\", index_col=0)"
   ]
  },
  {
   "cell_type": "code",
   "execution_count": 22,
   "id": "9d50c245",
   "metadata": {},
   "outputs": [
    {
     "data": {
      "text/html": [
       "<div>\n",
       "<style scoped>\n",
       "    .dataframe tbody tr th:only-of-type {\n",
       "        vertical-align: middle;\n",
       "    }\n",
       "\n",
       "    .dataframe tbody tr th {\n",
       "        vertical-align: top;\n",
       "    }\n",
       "\n",
       "    .dataframe thead th {\n",
       "        text-align: right;\n",
       "    }\n",
       "</style>\n",
       "<table border=\"1\" class=\"dataframe\">\n",
       "  <thead>\n",
       "    <tr style=\"text-align: right;\">\n",
       "      <th></th>\n",
       "      <th>TV</th>\n",
       "      <th>Radio</th>\n",
       "      <th>Newspaper</th>\n",
       "      <th>Sales</th>\n",
       "    </tr>\n",
       "  </thead>\n",
       "  <tbody>\n",
       "    <tr>\n",
       "      <th>1</th>\n",
       "      <td>230.1</td>\n",
       "      <td>37.8</td>\n",
       "      <td>69.2</td>\n",
       "      <td>22.1</td>\n",
       "    </tr>\n",
       "    <tr>\n",
       "      <th>2</th>\n",
       "      <td>44.5</td>\n",
       "      <td>39.3</td>\n",
       "      <td>45.1</td>\n",
       "      <td>10.4</td>\n",
       "    </tr>\n",
       "    <tr>\n",
       "      <th>3</th>\n",
       "      <td>17.2</td>\n",
       "      <td>45.9</td>\n",
       "      <td>69.3</td>\n",
       "      <td>9.3</td>\n",
       "    </tr>\n",
       "    <tr>\n",
       "      <th>4</th>\n",
       "      <td>151.5</td>\n",
       "      <td>41.3</td>\n",
       "      <td>58.5</td>\n",
       "      <td>18.5</td>\n",
       "    </tr>\n",
       "    <tr>\n",
       "      <th>5</th>\n",
       "      <td>180.8</td>\n",
       "      <td>10.8</td>\n",
       "      <td>58.4</td>\n",
       "      <td>12.9</td>\n",
       "    </tr>\n",
       "  </tbody>\n",
       "</table>\n",
       "</div>"
      ],
      "text/plain": [
       "      TV  Radio  Newspaper  Sales\n",
       "1  230.1   37.8       69.2   22.1\n",
       "2   44.5   39.3       45.1   10.4\n",
       "3   17.2   45.9       69.3    9.3\n",
       "4  151.5   41.3       58.5   18.5\n",
       "5  180.8   10.8       58.4   12.9"
      ]
     },
     "execution_count": 22,
     "metadata": {},
     "output_type": "execute_result"
    }
   ],
   "source": [
    "advertising.head()"
   ]
  },
  {
   "cell_type": "code",
   "execution_count": 23,
   "id": "def9d7e9",
   "metadata": {},
   "outputs": [],
   "source": [
    "scaler = StandardScaler()\n",
    "scaler.fit(advertising)\n",
    "scaled_features = scaler.transform(advertising)\n",
    "scaled_data = pd.DataFrame(scaled_features, columns=advertising.columns)"
   ]
  },
  {
   "cell_type": "code",
   "execution_count": 24,
   "id": "2fcd4a72",
   "metadata": {},
   "outputs": [
    {
     "data": {
      "text/html": [
       "<div>\n",
       "<style scoped>\n",
       "    .dataframe tbody tr th:only-of-type {\n",
       "        vertical-align: middle;\n",
       "    }\n",
       "\n",
       "    .dataframe tbody tr th {\n",
       "        vertical-align: top;\n",
       "    }\n",
       "\n",
       "    .dataframe thead th {\n",
       "        text-align: right;\n",
       "    }\n",
       "</style>\n",
       "<table border=\"1\" class=\"dataframe\">\n",
       "  <thead>\n",
       "    <tr style=\"text-align: right;\">\n",
       "      <th></th>\n",
       "      <th>TV</th>\n",
       "      <th>Radio</th>\n",
       "      <th>Newspaper</th>\n",
       "      <th>Sales</th>\n",
       "    </tr>\n",
       "  </thead>\n",
       "  <tbody>\n",
       "    <tr>\n",
       "      <th>0</th>\n",
       "      <td>0.969852</td>\n",
       "      <td>0.981522</td>\n",
       "      <td>1.778945</td>\n",
       "      <td>1.552053</td>\n",
       "    </tr>\n",
       "    <tr>\n",
       "      <th>1</th>\n",
       "      <td>-1.197376</td>\n",
       "      <td>1.082808</td>\n",
       "      <td>0.669579</td>\n",
       "      <td>-0.696046</td>\n",
       "    </tr>\n",
       "    <tr>\n",
       "      <th>2</th>\n",
       "      <td>-1.516155</td>\n",
       "      <td>1.528463</td>\n",
       "      <td>1.783549</td>\n",
       "      <td>-0.907406</td>\n",
       "    </tr>\n",
       "    <tr>\n",
       "      <th>3</th>\n",
       "      <td>0.052050</td>\n",
       "      <td>1.217855</td>\n",
       "      <td>1.286405</td>\n",
       "      <td>0.860330</td>\n",
       "    </tr>\n",
       "    <tr>\n",
       "      <th>4</th>\n",
       "      <td>0.394182</td>\n",
       "      <td>-0.841614</td>\n",
       "      <td>1.281802</td>\n",
       "      <td>-0.215683</td>\n",
       "    </tr>\n",
       "  </tbody>\n",
       "</table>\n",
       "</div>"
      ],
      "text/plain": [
       "         TV     Radio  Newspaper     Sales\n",
       "0  0.969852  0.981522   1.778945  1.552053\n",
       "1 -1.197376  1.082808   0.669579 -0.696046\n",
       "2 -1.516155  1.528463   1.783549 -0.907406\n",
       "3  0.052050  1.217855   1.286405  0.860330\n",
       "4  0.394182 -0.841614   1.281802 -0.215683"
      ]
     },
     "execution_count": 24,
     "metadata": {},
     "output_type": "execute_result"
    }
   ],
   "source": [
    "scaled_data.head()"
   ]
  },
  {
   "cell_type": "markdown",
   "id": "545eb668",
   "metadata": {},
   "source": [
    "### Split our data into training and test sets "
   ]
  },
  {
   "cell_type": "code",
   "execution_count": 25,
   "id": "2d7a7482",
   "metadata": {},
   "outputs": [],
   "source": [
    "x = scaled_data[['TV', 'Radio', 'Newspaper']]\n",
    "y = scaled_data['Sales']\n",
    "\n",
    "x_training, x_test, y_training, y_test = train_test_split(x,y, test_size=.3)"
   ]
  },
  {
   "cell_type": "markdown",
   "id": "0bad0e82",
   "metadata": {},
   "source": [
    "### Choose Optimal size for k"
   ]
  },
  {
   "cell_type": "code",
   "execution_count": 26,
   "id": "b0af34a2",
   "metadata": {},
   "outputs": [
    {
     "data": {
      "text/plain": [
       "[<matplotlib.lines.Line2D at 0x2ecd04ca460>]"
      ]
     },
     "execution_count": 26,
     "metadata": {},
     "output_type": "execute_result"
    },
    {
     "data": {
      "image/png": "[encoded data removed]",
      "text/plain": [
       "<Figure size 640x480 with 1 Axes>"
      ]
     },
     "metadata": {},
     "output_type": "display_data"
    }
   ],
   "source": [
    "error_rates = []\n",
    "\n",
    "for i in np.arange(1,10):\n",
    "    new_model = KNeighborsRegressor(n_neighbors = i)\n",
    "    new_model.fit(x_training, y_training)\n",
    "    new_predictions = new_model.predict(x_test)\n",
    "    mse=mean_squared_error(y_test,new_predictions)\n",
    "    error_rates.append(mse)\n",
    "    \n",
    "plt.plot(error_rates)"
   ]
  },
  {
   "cell_type": "code",
   "execution_count": 27,
   "id": "3be286f7",
   "metadata": {},
   "outputs": [],
   "source": [
    "#k=3\n",
    "model = KNeighborsRegressor(n_neighbors = 3)\n",
    "model.fit(x_training, y_training)\n",
    "predictions = new_model.predict(x_test)"
   ]
  },
  {
   "cell_type": "code",
   "execution_count": 28,
   "id": "890eb31e",
   "metadata": {},
   "outputs": [
    {
     "data": {
      "text/plain": [
       "0.09436159232160721"
      ]
     },
     "execution_count": 28,
     "metadata": {},
     "output_type": "execute_result"
    }
   ],
   "source": [
    "mean_squared_error(y_test,predictions)"
   ]
  },
  {
   "cell_type": "code",
   "execution_count": 29,
   "id": "2d677cde",
   "metadata": {},
   "outputs": [
    {
     "data": {
      "text/plain": [
       "0.9194840679839688"
      ]
     },
     "execution_count": 29,
     "metadata": {},
     "output_type": "execute_result"
    }
   ],
   "source": [
    "r2_score(y_test,predictions)"
   ]
  },
  {
   "cell_type": "markdown",
   "id": "a82f817e",
   "metadata": {},
   "source": [
    "92% R^2 isn't a bad model at all."
   ]
  },
  {
   "cell_type": "markdown",
   "id": "dab3fe97",
   "metadata": {},
   "source": [
    "## 3. KNN Regression using K-Fold Cross Validation \n",
    "Is there anything else we could have done? Maybe should have done?  We could \"easily\" use k-fold cross validation to split the training portion of our dataset into some k (*not to be confused with k from KNN*) and then calculated error rates for each fold and averaged.  This would have given us a more robust answer."
   ]
  },
  {
   "cell_type": "code",
   "execution_count": 30,
   "id": "26e19783",
   "metadata": {},
   "outputs": [
    {
     "data": {
      "text/plain": [
       "200"
      ]
     },
     "execution_count": 30,
     "metadata": {},
     "output_type": "execute_result"
    }
   ],
   "source": [
    "x = scaled_data[['TV', 'Radio', 'Newspaper']]\n",
    "y = scaled_data['Sales']\n",
    "\n",
    "len(x)"
   ]
  },
  {
   "cell_type": "code",
   "execution_count": 31,
   "id": "1a69d569",
   "metadata": {},
   "outputs": [
    {
     "data": {
      "text/plain": [
       "5"
      ]
     },
     "execution_count": 31,
     "metadata": {},
     "output_type": "execute_result"
    }
   ],
   "source": [
    "avg_mse = []\n",
    "mse=[]\n",
    "\n",
    "kf = KFold(n_splits=5, random_state=1, shuffle=True)\n",
    "\n",
    "#define cross-validation method to use\n",
    "kf.get_n_splits(x)  "
   ]
  },
  {
   "cell_type": "code",
   "execution_count": 32,
   "id": "328beeed",
   "metadata": {},
   "outputs": [],
   "source": [
    "def Average(lst):\n",
    "    return sum(lst) / len(lst)"
   ]
  },
  {
   "cell_type": "code",
   "execution_count": 33,
   "id": "190dc41a",
   "metadata": {},
   "outputs": [
    {
     "data": {
      "text/plain": [
       "0.08559853557648753"
      ]
     },
     "execution_count": 33,
     "metadata": {},
     "output_type": "execute_result"
    }
   ],
   "source": [
    "#Calculates the average MSE accross all folds for any given number of neighbors\n",
    "for i, (train_index, test_index) in enumerate(kf.split(x)):\n",
    "    new_model = KNeighborsRegressor(n_neighbors = 1)\n",
    "    new_model.fit(x.loc[train_index], y.loc[train_index])\n",
    "    new_predictions = new_model.predict(x.loc[test_index])\n",
    "    error=mean_squared_error(y.loc[test_index],new_predictions)\n",
    "    mse.append(error)\n",
    "    \n",
    "Average(mse)"
   ]
  },
  {
   "cell_type": "code",
   "execution_count": 34,
   "id": "082ecb87",
   "metadata": {},
   "outputs": [],
   "source": [
    "for j in np.arange(1,10):\n",
    "    #Calculates the average MSE accross all folds for any given number of neighbors\n",
    "    for i, (train_index, test_index) in enumerate(kf.split(x)):\n",
    "        new_model = KNeighborsRegressor(n_neighbors = j)\n",
    "        new_model.fit(x.loc[train_index], y.loc[train_index])\n",
    "        new_predictions = new_model.predict(x.loc[test_index])\n",
    "        error=mean_squared_error(y.loc[test_index],new_predictions)\n",
    "        mse.append(error)\n",
    "    avg = Average(mse)\n",
    "    avg_mse.append(avg)\n",
    "    mse=[]"
   ]
  },
  {
   "cell_type": "code",
   "execution_count": 35,
   "id": "72b8b00f",
   "metadata": {},
   "outputs": [
    {
     "data": {
      "text/plain": [
       "[<matplotlib.lines.Line2D at 0x2ecd069e370>]"
      ]
     },
     "execution_count": 35,
     "metadata": {},
     "output_type": "execute_result"
    },
    {
     "data": {
      "image/png": "[encoded data removed]",
      "text/plain": [
       "<Figure size 640x480 with 1 Axes>"
      ]
     },
     "metadata": {},
     "output_type": "display_data"
    }
   ],
   "source": [
    "plt.plot(avg_mse)"
   ]
  },
  {
   "cell_type": "code",
   "execution_count": null,
   "id": "5b4e5b62",
   "metadata": {},
   "outputs": [],
   "source": []
  }
 ],
 "metadata": {
  "kernelspec": {
   "display_name": "Python 3 (ipykernel)",
   "language": "python",
   "name": "python3"
  },
  "language_info": {
   "codemirror_mode": {
    "name": "ipython",
    "version": 3
   },
   "file_extension": ".py",
   "mimetype": "text/x-python",
   "name": "python",
   "nbconvert_exporter": "python",
   "pygments_lexer": "ipython3",
   "version": "3.9.16"
  }
 },
 "nbformat": 4,
 "nbformat_minor": 5
}
