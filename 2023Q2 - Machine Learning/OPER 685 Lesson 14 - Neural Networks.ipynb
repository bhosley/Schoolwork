{
 "cells": [
  {
   "cell_type": "markdown",
   "id": "866550e7",
   "metadata": {},
   "source": [
    "# Neural Networks\n",
    "Tensor Flow Documentation: https://www.tensorflow.org/ <br>\n",
    "Iris Data Set Documentation: https://www.kaggle.com/arshid/iris-flower-dataset <br>"
   ]
  },
  {
   "cell_type": "markdown",
   "id": "86188a45",
   "metadata": {},
   "source": [
    "## 0. Import Libraries"
   ]
  },
  {
   "cell_type": "code",
   "execution_count": 70,
   "id": "ef09f983",
   "metadata": {},
   "outputs": [],
   "source": [
    "import pandas as pd\n",
    "import numpy as np\n",
    "import requests\n",
    "import re\n",
    "import seaborn\n",
    "import matplotlib.pyplot as plt\n",
    "import tensorflow as tf\n",
    "import sklearn as sk\n",
    "\n",
    "from matplotlib import pyplot as plt\n",
    "from IPython.display import clear_output\n",
    "from sklearn import preprocessing\n",
    "from sklearn.preprocessing import LabelBinarizer\n",
    "from sklearn.model_selection import train_test_split\n",
    "from tensorflow import keras \n",
    "from tensorflow.keras import layers \n",
    "from sklearn.metrics import confusion_matrix\n"
   ]
  },
  {
   "cell_type": "markdown",
   "id": "091eb97c",
   "metadata": {},
   "source": [
    "## 1. Import and examine Iris data"
   ]
  },
  {
   "cell_type": "code",
   "execution_count": 12,
   "id": "be991934",
   "metadata": {},
   "outputs": [
    {
     "data": {
      "text/html": [
       "<div>\n",
       "<style scoped>\n",
       "    .dataframe tbody tr th:only-of-type {\n",
       "        vertical-align: middle;\n",
       "    }\n",
       "\n",
       "    .dataframe tbody tr th {\n",
       "        vertical-align: top;\n",
       "    }\n",
       "\n",
       "    .dataframe thead th {\n",
       "        text-align: right;\n",
       "    }\n",
       "</style>\n",
       "<table border=\"1\" class=\"dataframe\">\n",
       "  <thead>\n",
       "    <tr style=\"text-align: right;\">\n",
       "      <th></th>\n",
       "      <th>Id</th>\n",
       "      <th>SepalLengthCm</th>\n",
       "      <th>SepalWidthCm</th>\n",
       "      <th>PetalLengthCm</th>\n",
       "      <th>PetalWidthCm</th>\n",
       "      <th>Species</th>\n",
       "    </tr>\n",
       "  </thead>\n",
       "  <tbody>\n",
       "    <tr>\n",
       "      <th>0</th>\n",
       "      <td>1</td>\n",
       "      <td>5.1</td>\n",
       "      <td>3.5</td>\n",
       "      <td>1.4</td>\n",
       "      <td>0.2</td>\n",
       "      <td>Iris-setosa</td>\n",
       "    </tr>\n",
       "    <tr>\n",
       "      <th>1</th>\n",
       "      <td>2</td>\n",
       "      <td>4.9</td>\n",
       "      <td>3.0</td>\n",
       "      <td>1.4</td>\n",
       "      <td>0.2</td>\n",
       "      <td>Iris-setosa</td>\n",
       "    </tr>\n",
       "    <tr>\n",
       "      <th>2</th>\n",
       "      <td>3</td>\n",
       "      <td>4.7</td>\n",
       "      <td>3.2</td>\n",
       "      <td>1.3</td>\n",
       "      <td>0.2</td>\n",
       "      <td>Iris-setosa</td>\n",
       "    </tr>\n",
       "    <tr>\n",
       "      <th>3</th>\n",
       "      <td>4</td>\n",
       "      <td>4.6</td>\n",
       "      <td>3.1</td>\n",
       "      <td>1.5</td>\n",
       "      <td>0.2</td>\n",
       "      <td>Iris-setosa</td>\n",
       "    </tr>\n",
       "    <tr>\n",
       "      <th>4</th>\n",
       "      <td>5</td>\n",
       "      <td>5.0</td>\n",
       "      <td>3.6</td>\n",
       "      <td>1.4</td>\n",
       "      <td>0.2</td>\n",
       "      <td>Iris-setosa</td>\n",
       "    </tr>\n",
       "  </tbody>\n",
       "</table>\n",
       "</div>"
      ],
      "text/plain": [
       "   Id  SepalLengthCm  SepalWidthCm  PetalLengthCm  PetalWidthCm      Species\n",
       "0   1            5.1           3.5            1.4           0.2  Iris-setosa\n",
       "1   2            4.9           3.0            1.4           0.2  Iris-setosa\n",
       "2   3            4.7           3.2            1.3           0.2  Iris-setosa\n",
       "3   4            4.6           3.1            1.5           0.2  Iris-setosa\n",
       "4   5            5.0           3.6            1.4           0.2  Iris-setosa"
      ]
     },
     "execution_count": 12,
     "metadata": {},
     "output_type": "execute_result"
    }
   ],
   "source": [
    "iris = pd.read_csv(\"Iris.csv\")\n",
    "iris.head()"
   ]
  },
  {
   "cell_type": "markdown",
   "id": "0a3a378f",
   "metadata": {},
   "source": [
    "First we need to delete the column \"Id\" as this is not a feature"
   ]
  },
  {
   "cell_type": "code",
   "execution_count": 13,
   "id": "98e01406",
   "metadata": {},
   "outputs": [],
   "source": [
    "iris.drop('Id',axis=1,inplace=True)"
   ]
  },
  {
   "cell_type": "markdown",
   "id": "24acd1fa",
   "metadata": {},
   "source": [
    "## 2. Transform Iris data into usable forms"
   ]
  },
  {
   "cell_type": "markdown",
   "id": "9ee8dd8a",
   "metadata": {},
   "source": [
    "### Standardize the feature data\n",
    "We need to standardize our data since petalwidth is an order of magnitude smaller then the other features"
   ]
  },
  {
   "cell_type": "code",
   "execution_count": 18,
   "id": "6e68696a",
   "metadata": {},
   "outputs": [],
   "source": [
    "X_data_original = iris[['SepalLengthCm', 'SepalWidthCm', 'PetalLengthCm', 'PetalWidthCm']]\n",
    "Y_data_original = iris[['Species']]"
   ]
  },
  {
   "cell_type": "code",
   "execution_count": 19,
   "id": "5fefccf7",
   "metadata": {},
   "outputs": [],
   "source": [
    "X_data = preprocessing.scale(X_data_original)"
   ]
  },
  {
   "cell_type": "markdown",
   "id": "b09bb273",
   "metadata": {},
   "source": [
    "### One hot encode response\n",
    "Neural Networks do not predict on categorical data, it needs to be nominal.  So we use 1 hot encoding"
   ]
  },
  {
   "cell_type": "code",
   "execution_count": 22,
   "id": "a3b1a35d",
   "metadata": {},
   "outputs": [],
   "source": [
    "one_hot = LabelBinarizer()\n",
    "Y = one_hot.fit_transform(Y_data_original)"
   ]
  },
  {
   "cell_type": "markdown",
   "id": "e6040d36",
   "metadata": {},
   "source": [
    "## 3. Split data into training and test datasets"
   ]
  },
  {
   "cell_type": "code",
   "execution_count": 25,
   "id": "4d0e7690",
   "metadata": {},
   "outputs": [],
   "source": [
    "X_train, X_test, y_train, y_test = train_test_split(X_data, Y, test_size=0.3, random_state=1)"
   ]
  },
  {
   "cell_type": "markdown",
   "id": "20742282",
   "metadata": {},
   "source": [
    "## 4. Define a Neural Network in Tensorflow"
   ]
  },
  {
   "cell_type": "markdown",
   "id": "7695b4da",
   "metadata": {},
   "source": [
    "### Set Hyperparameters\n",
    "In OPER 785 you will learn how to tune these parameters"
   ]
  },
  {
   "cell_type": "code",
   "execution_count": 64,
   "id": "2dc20d6a",
   "metadata": {},
   "outputs": [],
   "source": [
    "# Hyper-parameters\n",
    "learning_rate = 0.01\n",
    "training_epochs = 30\n",
    "optimizer = \"adam\"\n",
    "batches = 32"
   ]
  },
  {
   "cell_type": "code",
   "execution_count": 87,
   "id": "5ff067c4",
   "metadata": {},
   "outputs": [],
   "source": [
    "n_hidden_1 = 16 # 1st layer number of neurons\n",
    "n_hidden_2 = 8 # 1st layer number of neurons\n",
    "n_input = X_train.shape[1] # input shape (105, 4)\n",
    "n_classes = y_train.shape[1] # classes to predict"
   ]
  },
  {
   "cell_type": "code",
   "execution_count": 88,
   "id": "a1b30362",
   "metadata": {},
   "outputs": [
    {
     "name": "stdout",
     "output_type": "stream",
     "text": [
      "Model: \"sequential_4\"\n",
      "_________________________________________________________________\n",
      "Layer (type)                 Output Shape              Param #   \n",
      "=================================================================\n",
      "dense_12 (Dense)             (None, 16)                80        \n",
      "_________________________________________________________________\n",
      "dense_13 (Dense)             (None, 8)                 136       \n",
      "_________________________________________________________________\n",
      "dense_14 (Dense)             (None, 3)                 27        \n",
      "=================================================================\n",
      "Total params: 243\n",
      "Trainable params: 243\n",
      "Non-trainable params: 0\n",
      "_________________________________________________________________\n"
     ]
    }
   ],
   "source": [
    "model = keras.models.Sequential()\n",
    "model.add(keras.Input(shape=n_input))\n",
    "model.add(layers.Dense(n_hidden_1,activation=\"relu\"))\n",
    "model.add(layers.Dense(n_hidden_2,activation=\"relu\"))\n",
    "model.add(layers.Dense(n_classes, activation=\"softmax\"))\n",
    "model.summary()"
   ]
  },
  {
   "cell_type": "markdown",
   "id": "fb64d169",
   "metadata": {},
   "source": [
    "Create a helper function that will plot our accuracy and loss every epoch <br>\n",
    "https://medium.com/geekculture/how-to-plot-model-loss-while-training-in-tensorflow-9fa1a1875a5"
   ]
  },
  {
   "cell_type": "code",
   "execution_count": 89,
   "id": "0ffe22d1",
   "metadata": {},
   "outputs": [],
   "source": [
    "class PlotLearning(keras.callbacks.Callback):\n",
    "    \"\"\"\n",
    "    Callback to plot the learning curves of the model during training.\n",
    "    \"\"\"\n",
    "    def on_train_begin(self, logs={}):\n",
    "        self.metrics = {}\n",
    "        for metric in logs:\n",
    "            self.metrics[metric] = []\n",
    "            \n",
    "\n",
    "    def on_epoch_end(self, epoch, logs={}):\n",
    "        # Storing metrics\n",
    "        for metric in logs:\n",
    "            if metric in self.metrics:\n",
    "                self.metrics[metric].append(logs.get(metric))\n",
    "            else:\n",
    "                self.metrics[metric] = [logs.get(metric)]\n",
    "        \n",
    "        # Plotting\n",
    "        metrics = [x for x in logs if 'val' not in x]\n",
    "        \n",
    "        f, axs = plt.subplots(1, len(metrics), figsize=(15,5))\n",
    "        clear_output(wait=True)\n",
    "\n",
    "        for i, metric in enumerate(metrics):\n",
    "            axs[i].plot(range(1, epoch + 2), \n",
    "                        self.metrics[metric], \n",
    "                        label=metric)\n",
    "            if logs['val_' + metric]:\n",
    "                axs[i].plot(range(1, epoch + 2), \n",
    "                            self.metrics['val_' + metric], \n",
    "                            label='val_' + metric)\n",
    "                \n",
    "            axs[i].legend()\n",
    "            axs[i].grid()\n",
    "\n",
    "        plt.tight_layout()\n",
    "        plt.show()"
   ]
  },
  {
   "cell_type": "code",
   "execution_count": 90,
   "id": "f1309da0",
   "metadata": {},
   "outputs": [],
   "source": [
    "callbacks_list = [PlotLearning()]"
   ]
  },
  {
   "cell_type": "markdown",
   "id": "01766eea",
   "metadata": {},
   "source": [
    "### Train your Neural Network"
   ]
  },
  {
   "cell_type": "code",
   "execution_count": 91,
   "id": "b0bb3ea5",
   "metadata": {},
   "outputs": [
    {
     "data": {
      "image/png": "[encoded data removed]",
      "text/plain": [
       "<Figure size 1080x360 with 2 Axes>"
      ]
     },
     "metadata": {
      "needs_background": "light"
     },
     "output_type": "display_data"
    },
    {
     "data": {
      "text/plain": [
       "<keras.callbacks.History at 0x1e3003bd7f0>"
      ]
     },
     "execution_count": 91,
     "metadata": {},
     "output_type": "execute_result"
    }
   ],
   "source": [
    "model.compile(optimizer=optimizer, loss=tf.keras.losses.MeanSquaredError(), metrics=[\"accuracy\"])\n",
    "model.fit(X_train, y_train, batch_size=batches, epochs=training_epochs, validation_data=(X_test, y_test),callbacks=callbacks_list)"
   ]
  },
  {
   "cell_type": "code",
   "execution_count": 78,
   "id": "93d00b4a",
   "metadata": {},
   "outputs": [
    {
     "data": {
      "text/plain": [
       "(45, 3)"
      ]
     },
     "execution_count": 78,
     "metadata": {},
     "output_type": "execute_result"
    }
   ],
   "source": [
    "predictions = model.predict(X_test)\n",
    "predictions.shape"
   ]
  },
  {
   "cell_type": "code",
   "execution_count": 77,
   "id": "86835f12",
   "metadata": {},
   "outputs": [
    {
     "data": {
      "text/plain": [
       "(45, 3)"
      ]
     },
     "execution_count": 77,
     "metadata": {},
     "output_type": "execute_result"
    }
   ],
   "source": [
    "y_test.shape"
   ]
  },
  {
   "cell_type": "code",
   "execution_count": 81,
   "id": "2d3b75cc",
   "metadata": {},
   "outputs": [
    {
     "data": {
      "text/plain": [
       "array([[14,  0,  0],\n",
       "       [ 0, 17,  1],\n",
       "       [ 0,  1, 12]], dtype=int64)"
      ]
     },
     "execution_count": 81,
     "metadata": {},
     "output_type": "execute_result"
    }
   ],
   "source": [
    "confusion_matrix(\n",
    "    y_test.argmax(axis=1), predictions.argmax(axis=1))"
   ]
  },
  {
   "cell_type": "code",
   "execution_count": null,
   "id": "96ea9b01",
   "metadata": {},
   "outputs": [],
   "source": []
  }
 ],
 "metadata": {
  "kernelspec": {
   "display_name": "Python 3",
   "language": "python",
   "name": "python3"
  },
  "language_info": {
   "codemirror_mode": {
    "name": "ipython",
    "version": 3
   },
   "file_extension": ".py",
   "mimetype": "text/x-python",
   "name": "python",
   "nbconvert_exporter": "python",
   "pygments_lexer": "ipython3",
   "version": "3.9.4"
  }
 },
 "nbformat": 4,
 "nbformat_minor": 5
}
