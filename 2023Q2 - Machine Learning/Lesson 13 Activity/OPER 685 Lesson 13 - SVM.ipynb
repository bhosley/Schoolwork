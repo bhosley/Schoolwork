{
 "cells": [
  {
   "attachments": {},
   "cell_type": "markdown",
   "id": "2841bdaf",
   "metadata": {},
   "source": [
    "# Support Vector Machines\n",
    "SVM USer Guide: https://scikit-learn.org/stable/modules/svm.html# <br>\n",
    "Details on SVM classification: https://scikit-learn.org/stable/modules/generated/sklearn.svm.SVC.html#sklearn.svm.SVC\n"
   ]
  },
  {
   "attachments": {},
   "cell_type": "markdown",
   "id": "19120cfb",
   "metadata": {},
   "source": [
    "## Understanding Kernels\n",
    "From https://iq.opengenus.org/svm-by-improving-classifier/"
   ]
  },
  {
   "cell_type": "code",
   "execution_count": 1,
   "id": "7b72b4ef",
   "metadata": {},
   "outputs": [],
   "source": [
    "from sklearn.datasets import make_moons\n",
    "from sklearn.model_selection import train_test_split\n",
    "from ipywidgets import interact, IntSlider, FloatSlider, fixed\n",
    "from sklearn import svm\n",
    "import numpy as np\n",
    "import matplotlib.pyplot as plt"
   ]
  },
  {
   "cell_type": "code",
   "execution_count": 27,
   "id": "f08e4414",
   "metadata": {},
   "outputs": [],
   "source": [
    "def plot_decision_boundary(X_train, X_test, y_train, y_test):\n",
    "    def plotter(kernel='linear', log_gamma=1, log_C=1, deg=1, coef0=1):\n",
    "        clf = svm.SVC(C=10**log_C, kernel=kernel, gamma=10**log_gamma, coef0=coef0, probability=True)\n",
    "        clf.fit(X_train, y_train)\n",
    "        \n",
    "        X1, X2 = np.meshgrid(np.linspace(-2, 3), np.linspace(-2, 2))\n",
    "        y_proba = clf.predict_proba(np.hstack((X1.reshape(-1, 1), X2.reshape(-1, 1))))[:, 1]\n",
    "        plt.contourf(X1, X2, y_proba.reshape(50, 50), 16, cmap=plt.cm.bwr, alpha=0.75)\n",
    "        plt.colorbar()\n",
    "\n",
    "        accuracy = clf.score(X_test, y_test)\n",
    "        plt.scatter(X_train[:, 0], X_train[:, 1], c=y_train, edgecolors='white', cmap=plt.cm.bwr)\n",
    "        plt.xlabel('$x_1$')\n",
    "        plt.ylabel('$x_2$')\n",
    "        plt.title('test set accuracy: {}'.format(accuracy));\n",
    "\n",
    "    return plotter"
   ]
  },
  {
   "cell_type": "code",
   "execution_count": 28,
   "id": "c65a59bf",
   "metadata": {},
   "outputs": [],
   "source": [
    "def plot_svc_interact(X, y):\n",
    "    def plotter(log_C=1):\n",
    "        clf = svm.SVC(C=10**log_C, kernel='linear')\n",
    "        clf.fit(X, y)\n",
    "    \n",
    "        beta = clf.coef_[0]\n",
    "        beta_0 = clf.intercept_\n",
    "        slope = -beta[0]/beta[1]\n",
    "        intercept = -beta_0/beta[1]\n",
    "       \n",
    "        x_max = np.ceil(np.abs(X).max())\n",
    "        x = np.linspace(-x_max, x_max, 100)\n",
    "        margin_bound_1 = 1/beta[1] + slope*x + intercept\n",
    "        margin_bound_2 = -1/beta[1] + slope*x + intercept\n",
    "\n",
    "        plt.plot(x, slope*x + intercept, 'k')\n",
    "        plt.fill_between(x, margin_bound_1, margin_bound_2, color='k', alpha=0.25, linewidth=0)\n",
    "        plt.scatter(*clf.support_vectors_.T, s=100, c='y')\n",
    "        plt.scatter(X[:, 0], X[:, 1], c=y, cmap=plt.cm.bwr)\n",
    "        plt.axis([-x_max, x_max, -x_max, x_max])\n",
    "\n",
    "    return plotter"
   ]
  },
  {
   "cell_type": "code",
   "execution_count": 32,
   "id": "fa8b58d1",
   "metadata": {},
   "outputs": [
    {
     "data": {
      "application/vnd.jupyter.widget-view+json": {
       "model_id": "091a2aba8b864eefb3355a14b4e92688",
       "version_major": 2,
       "version_minor": 0
      },
      "text/plain": [
       "interactive(children=(Dropdown(description='kernel', index=1, options=('rbf', 'linear', 'sigmoid', 'poly'), va…"
      ]
     },
     "metadata": {},
     "output_type": "display_data"
    }
   ],
   "source": [
    "\n",
    "\n",
    "X, y = make_moons(400, noise=0.25, random_state=0)\n",
    "X_train, X_test, y_train, y_test = train_test_split(X, y, test_size=0.5, random_state=0)\n",
    "\n",
    "log_C_slider = FloatSlider(min=-4, max=4, step=0.25, value=0, description='$\\log(C)$')\n",
    "log_gamma_slider = FloatSlider(min=-3, max=2, step=0.01, value=0, description='$\\log(\\gamma$)')\n",
    "deg_slider = IntSlider(min=1, max=4, step=1, value=2, description='$d$')\n",
    "coef0_slider = FloatSlider(min=-100, max=100, step=0.1, value=0, description='$r$')\n",
    "\n",
    "interact(plot_decision_boundary(X_train, X_test, y_train, y_test),\n",
    "         log_C=log_C_slider,\n",
    "         log_gamma=log_gamma_slider, \n",
    "         kernel=['rbf', 'linear', 'sigmoid', 'poly'],\n",
    "         deg=deg_slider,\n",
    "         coef0=coef0_slider);"
   ]
  },
  {
   "attachments": {},
   "cell_type": "markdown",
   "id": "1e2d69b4",
   "metadata": {},
   "source": [
    "## Applying to SVM to a binary classification problem\n",
    "Adapted from https://www.datacamp.com/community/tutorials/svm-classification-scikit-learn-python"
   ]
  },
  {
   "attachments": {},
   "cell_type": "markdown",
   "id": "5627231a",
   "metadata": {},
   "source": [
    "### Import Breast Cancer Dataset"
   ]
  },
  {
   "cell_type": "code",
   "execution_count": 10,
   "id": "9d5c92bc",
   "metadata": {},
   "outputs": [],
   "source": [
    "#Import scikit-learn dataset library\n",
    "from sklearn import datasets\n",
    "import pandas as pd\n",
    "\n",
    "#Load dataset\n",
    "cancer = datasets.load_breast_cancer()"
   ]
  },
  {
   "attachments": {},
   "cell_type": "markdown",
   "id": "c6910607",
   "metadata": {},
   "source": [
    "### Examine the dataset"
   ]
  },
  {
   "cell_type": "code",
   "execution_count": 17,
   "id": "46949631",
   "metadata": {},
   "outputs": [
    {
     "name": "stdout",
     "output_type": "stream",
     "text": [
      "Features:  ['mean radius' 'mean texture' 'mean perimeter' 'mean area'\n",
      " 'mean smoothness' 'mean compactness' 'mean concavity'\n",
      " 'mean concave points' 'mean symmetry' 'mean fractal dimension'\n",
      " 'radius error' 'texture error' 'perimeter error' 'area error'\n",
      " 'smoothness error' 'compactness error' 'concavity error'\n",
      " 'concave points error' 'symmetry error' 'fractal dimension error'\n",
      " 'worst radius' 'worst texture' 'worst perimeter' 'worst area'\n",
      " 'worst smoothness' 'worst compactness' 'worst concavity'\n",
      " 'worst concave points' 'worst symmetry' 'worst fractal dimension']\n",
      "Labels:  ['malignant' 'benign']\n"
     ]
    },
    {
     "data": {
      "text/plain": [
       "(2,)"
      ]
     },
     "execution_count": 17,
     "metadata": {},
     "output_type": "execute_result"
    }
   ],
   "source": [
    "# print the names of the 13 features\n",
    "print(\"Features: \", cancer.feature_names)\n",
    "\n",
    "# print the label type of cancer('malignant' 'benign')\n",
    "print(\"Labels: \", cancer.target_names)\n",
    "\n",
    "np.shape(cancer.target_names)"
   ]
  },
  {
   "attachments": {},
   "cell_type": "markdown",
   "id": "2d7d5119",
   "metadata": {},
   "source": [
    "### Split data into training and test datasets"
   ]
  },
  {
   "cell_type": "code",
   "execution_count": 4,
   "id": "05f47f90",
   "metadata": {},
   "outputs": [],
   "source": [
    "# Import train_test_split function\n",
    "from sklearn.model_selection import train_test_split\n",
    "\n",
    "# Split dataset into training set and test set\n",
    "X_train, X_test, y_train, y_test = train_test_split(cancer.data, cancer.target, test_size=0.3,random_state=109) # 70% training and 30% test"
   ]
  },
  {
   "attachments": {},
   "cell_type": "markdown",
   "id": "a36a4d80",
   "metadata": {},
   "source": [
    "### Choose your hyperparemeters\n",
    "\n",
    "**C**: Float default=1.0 <br>\n",
    "Regularization parameter. The strength of the regularization is inversely proportional to C. Must be strictly positive. \n",
    "<br>\n",
    "<br>\n",
    "**kernel**{‘linear’, ‘poly’, ‘rbf’, ‘sigmoid’, ‘precomputed’} or callable, default=’rbf’<br>\n",
    "Specifies the kernel type to be used in the algorithm. If none is given, ‘rbf’ will be used. If a callable is given it is used to pre-compute the kernel matrix from data matrices; that matrix should be an array of shape (n_samples, n_samples).\n",
    "<br>\n",
    "<br>\n",
    "**degree**:Int, default=3\n",
    "Degree of the polynomial kernel function (‘poly’). Ignored by all other kernels.\n",
    "<br>\n",
    "<br>\n",
    "**gamma** {‘scale’, ‘auto’} or float, default=’scale’ <br>\n",
    "Kernel coefficient for ‘rbf’, ‘poly’ and ‘sigmoid’. <br>\n",
    "  -if gamma='scale' (default) is passed then it uses 1 / (n_features * X.var()) as value of gamma, <br>\n",
    "  -if ‘auto’, uses 1 / n_features. <br>\n",
    "<br>\n",
    "<br>\n",
    "**coef0**: Float, default=0.0 <br>\n",
    "Independent term in kernel function. It is only significant in ‘poly’ and ‘sigmoid’."
   ]
  },
  {
   "cell_type": "code",
   "execution_count": 5,
   "id": "9f793169",
   "metadata": {},
   "outputs": [],
   "source": [
    "C=1\n",
    "kernel= 'rbf'\n",
    "gamma='scale'\n",
    "coef0=1"
   ]
  },
  {
   "attachments": {},
   "cell_type": "markdown",
   "id": "cb665a5e",
   "metadata": {},
   "source": [
    "Fit Model"
   ]
  },
  {
   "cell_type": "code",
   "execution_count": 6,
   "id": "315cfafe",
   "metadata": {},
   "outputs": [],
   "source": [
    "#Import svm model\n",
    "from sklearn import svm\n",
    "\n",
    "#Create a svm Classifier\n",
    "clf = svm.SVC(C=C, kernel=kernel, gamma=gamma, coef0=coef0, probability=True) #Defined Above\n",
    "\n",
    "#Train the model using the training sets\n",
    "clf.fit(X_train, y_train)\n",
    "\n",
    "#Predict the response for test dataset\n",
    "y_pred = clf.predict(X_test)"
   ]
  },
  {
   "attachments": {},
   "cell_type": "markdown",
   "id": "dbdb7904",
   "metadata": {},
   "source": [
    "### Evaluate Model"
   ]
  },
  {
   "cell_type": "code",
   "execution_count": 7,
   "id": "5fbf3563",
   "metadata": {},
   "outputs": [
    {
     "name": "stdout",
     "output_type": "stream",
     "text": [
      "Accuracy: 0.9239766081871345\n"
     ]
    }
   ],
   "source": [
    "#Import scikit-learn metrics module for accuracy calculation\n",
    "from sklearn import metrics\n",
    "\n",
    "# Model Accuracy: how often is the classifier correct?\n",
    "print(\"Accuracy:\",metrics.accuracy_score(y_test, y_pred))"
   ]
  },
  {
   "cell_type": "code",
   "execution_count": null,
   "id": "e2699837",
   "metadata": {},
   "outputs": [],
   "source": []
  }
 ],
 "metadata": {
  "kernelspec": {
   "display_name": "Python 3",
   "language": "python",
   "name": "python3"
  },
  "language_info": {
   "codemirror_mode": {
    "name": "ipython",
    "version": 3
   },
   "file_extension": ".py",
   "mimetype": "text/x-python",
   "name": "python",
   "nbconvert_exporter": "python",
   "pygments_lexer": "ipython3",
   "version": "3.9.6"
  }
 },
 "nbformat": 4,
 "nbformat_minor": 5
}
