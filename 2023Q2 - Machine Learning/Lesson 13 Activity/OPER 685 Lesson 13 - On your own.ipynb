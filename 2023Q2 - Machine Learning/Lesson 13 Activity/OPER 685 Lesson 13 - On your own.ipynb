{
 "cells": [
  {
   "attachments": {},
   "cell_type": "markdown",
   "id": "bf18c971",
   "metadata": {},
   "source": [
    "# Lesson 13 SVM\n",
    "**Goal** Utilize SVM and kernal trick to predict the kiln in the pottery dataset"
   ]
  },
  {
   "cell_type": "code",
   "execution_count": 11,
   "id": "f2aae51b",
   "metadata": {},
   "outputs": [],
   "source": [
    "import pandas as pd\n",
    "import numpy as np\n",
    "import matplotlib.pyplot as plt\n",
    "from sklearn.model_selection import train_test_split\n",
    "\n"
   ]
  },
  {
   "attachments": {},
   "cell_type": "markdown",
   "id": "6f45dfaa",
   "metadata": {},
   "source": [
    "### 1. Import the Pottery Dataset "
   ]
  },
  {
   "cell_type": "code",
   "execution_count": 5,
   "id": "1142f197",
   "metadata": {},
   "outputs": [
    {
     "data": {
      "text/html": [
       "<div>\n",
       "<style scoped>\n",
       "    .dataframe tbody tr th:only-of-type {\n",
       "        vertical-align: middle;\n",
       "    }\n",
       "\n",
       "    .dataframe tbody tr th {\n",
       "        vertical-align: top;\n",
       "    }\n",
       "\n",
       "    .dataframe thead th {\n",
       "        text-align: right;\n",
       "    }\n",
       "</style>\n",
       "<table border=\"1\" class=\"dataframe\">\n",
       "  <thead>\n",
       "    <tr style=\"text-align: right;\">\n",
       "      <th></th>\n",
       "      <th>Item</th>\n",
       "      <th>A1203</th>\n",
       "      <th>Fe203</th>\n",
       "      <th>Mg0</th>\n",
       "      <th>Ca0</th>\n",
       "      <th>Na20</th>\n",
       "      <th>K20</th>\n",
       "      <th>Ti02</th>\n",
       "      <th>Mn0</th>\n",
       "      <th>Ba0</th>\n",
       "      <th>Kiln</th>\n",
       "    </tr>\n",
       "  </thead>\n",
       "  <tbody>\n",
       "    <tr>\n",
       "      <th>0</th>\n",
       "      <td>1</td>\n",
       "      <td>18.8</td>\n",
       "      <td>9.52</td>\n",
       "      <td>2.00</td>\n",
       "      <td>0.79</td>\n",
       "      <td>0.40</td>\n",
       "      <td>3.20</td>\n",
       "      <td>1.01</td>\n",
       "      <td>0.077</td>\n",
       "      <td>0.015</td>\n",
       "      <td>1</td>\n",
       "    </tr>\n",
       "    <tr>\n",
       "      <th>1</th>\n",
       "      <td>2</td>\n",
       "      <td>16.9</td>\n",
       "      <td>7.33</td>\n",
       "      <td>1.65</td>\n",
       "      <td>0.84</td>\n",
       "      <td>0.40</td>\n",
       "      <td>3.05</td>\n",
       "      <td>0.99</td>\n",
       "      <td>0.067</td>\n",
       "      <td>0.018</td>\n",
       "      <td>1</td>\n",
       "    </tr>\n",
       "    <tr>\n",
       "      <th>2</th>\n",
       "      <td>3</td>\n",
       "      <td>18.2</td>\n",
       "      <td>7.64</td>\n",
       "      <td>1.82</td>\n",
       "      <td>0.77</td>\n",
       "      <td>0.40</td>\n",
       "      <td>3.07</td>\n",
       "      <td>0.98</td>\n",
       "      <td>0.087</td>\n",
       "      <td>0.014</td>\n",
       "      <td>1</td>\n",
       "    </tr>\n",
       "    <tr>\n",
       "      <th>3</th>\n",
       "      <td>4</td>\n",
       "      <td>16.9</td>\n",
       "      <td>7.29</td>\n",
       "      <td>1.56</td>\n",
       "      <td>0.76</td>\n",
       "      <td>0.40</td>\n",
       "      <td>3.05</td>\n",
       "      <td>1.00</td>\n",
       "      <td>0.063</td>\n",
       "      <td>0.019</td>\n",
       "      <td>1</td>\n",
       "    </tr>\n",
       "    <tr>\n",
       "      <th>4</th>\n",
       "      <td>5</td>\n",
       "      <td>17.8</td>\n",
       "      <td>7.24</td>\n",
       "      <td>1.83</td>\n",
       "      <td>0.92</td>\n",
       "      <td>0.43</td>\n",
       "      <td>3.12</td>\n",
       "      <td>0.93</td>\n",
       "      <td>0.061</td>\n",
       "      <td>0.019</td>\n",
       "      <td>1</td>\n",
       "    </tr>\n",
       "  </tbody>\n",
       "</table>\n",
       "</div>"
      ],
      "text/plain": [
       "   Item  A1203  Fe203   Mg0   Ca0  Na20   K20  Ti02    Mn0    Ba0  Kiln\n",
       "0     1   18.8   9.52  2.00  0.79  0.40  3.20  1.01  0.077  0.015     1\n",
       "1     2   16.9   7.33  1.65  0.84  0.40  3.05  0.99  0.067  0.018     1\n",
       "2     3   18.2   7.64  1.82  0.77  0.40  3.07  0.98  0.087  0.014     1\n",
       "3     4   16.9   7.29  1.56  0.76  0.40  3.05  1.00  0.063  0.019     1\n",
       "4     5   17.8   7.24  1.83  0.92  0.43  3.12  0.93  0.061  0.019     1"
      ]
     },
     "execution_count": 5,
     "metadata": {},
     "output_type": "execute_result"
    }
   ],
   "source": [
    "pot = pd.read_csv('pottery.csv')\n",
    "pot.head()"
   ]
  },
  {
   "attachments": {},
   "cell_type": "markdown",
   "id": "35341808",
   "metadata": {},
   "source": [
    "### 2. Split out A1203, Fe203, Mg0, Ca0, Na20, K20, Ti02, Mn0, Ba0 features into **X** and kiln into **y**"
   ]
  },
  {
   "cell_type": "code",
   "execution_count": 9,
   "id": "255d75a0",
   "metadata": {},
   "outputs": [],
   "source": [
    "pot_X = pot.drop('Kiln', axis=1)\n",
    "pot_y = pot['Kiln']"
   ]
  },
  {
   "attachments": {},
   "cell_type": "markdown",
   "id": "72f34407",
   "metadata": {},
   "source": [
    "### 3. Use your best judgement to split data into training and test sets "
   ]
  },
  {
   "cell_type": "code",
   "execution_count": null,
   "id": "444be5ce",
   "metadata": {},
   "outputs": [],
   "source": [
    "\n",
    "pot_X_train, pot_X_test, pot_y_train, pot_y_test = train_test_split(pot_X, pot_y, test_size=0.3,random_state=42)"
   ]
  },
  {
   "cell_type": "code",
   "execution_count": 13,
   "id": "3ed53f9b",
   "metadata": {},
   "outputs": [],
   "source": [
    "def SVC_modelfit(xdata=None, ydata=None, SVC_Type='linear', myC = 0.1, polydegree = 2):\n",
    "    \n",
    "    if SVC_Type=='linear':\n",
    "        modelSVC = svm.SVC(kernel = 'linear', C=myC)\n",
    "        plotTitle = \"SVC Linear, C =\" + str(myC)\n",
    "    if SVC_Type=='poly':\n",
    "        modelSVC = svm.SVC(kernel = 'poly', degree=polydegree, C=myC)\n",
    "        plotTitle = \"SVC poly - degree = \" + str(polydegree) + \" C= \" +str(myC)\n",
    "    if SVC_Type=='rbf':\n",
    "        modelSVC = svm.SVC(kernel = 'rbf', C=myC)\n",
    "        plotTitle = \"SVC rbf, C= \" + str(myC)\n",
    "    if SVC_Type=='sigmoid':\n",
    "        modelSVC = svm.SVC(kernel = 'sigmoid', C=myC)\n",
    "        plotTitle = \"SVC sigmoid, C= \" + str(myC)\n",
    "    \n",
    "    modelSVC.fit(xdata,ydata)\n",
    "\n",
    "    return modelSVC,plotTitle\n",
    "    \n",
    "\n",
    "def drawData(X,y,title):\n",
    "    x1_min, x1_max = X[:, 0].min() - 1, X[:, 0].max() + 1\n",
    "    x2_min, x2_max = X[:, 1].min() - 1, X[:, 1].max() + 1\n",
    "    xx1, xx2 = np.meshgrid(np.arange(x1_min, x1_max, 0.1),\n",
    "                     np.arange(x2_min, x2_max, 0.1))               \n",
    "    #fig = plt.subplots(1, 1, sharex='col', sharey='row', figsize=(10, 8))\n",
    "    plt.figure(figsize=(10, 8))\n",
    "    #plt.contourf(xx1,xx2, Z, alpha = 0.4, cmap=\"binary\")\n",
    "    #plt.scatter(X[:, 0], X[:, 1], c=-y, cmap=\"jet\", alpha=0.6)\n",
    "    plt.scatter(X[:, 0], X[:, 1], c=y, cmap=plt.cm.Paired, alpha=0.9)\n",
    "    plt.title(title)\n",
    "\n",
    "def drawDecisionBoundary(model,X,y,title):\n",
    "    x_min, x_max = X[:, 0].min() - 1, X[:, 0].max() + 1\n",
    "    y_min, y_max = X[:, 1].min() - 1, X[:, 1].max() + 1\n",
    "    xx, yy = np.meshgrid(np.arange(x_min, x_max, 0.02),\n",
    "                     np.arange(y_min, y_max, 0.02))               \n",
    "    #fig = plt.subplots(1, 1, sharex='col', sharey='row', figsize=(10, 8))\n",
    "    plt.figure(figsize=(10, 8))\n",
    "\n",
    "    #Z = model.predict(np.c_[xx.ravel(), yy.ravel()])\n",
    "    Z = model.decision_function(np.c_[xx.ravel(), yy.ravel()])\n",
    "    Z = Z.reshape(xx.shape)\n",
    "\n",
    "    #plt.contourf(xx,yy, Z, alpha = 0.3, cmap=\"binary\")\n",
    "    plt.contourf(xx,yy, Z, alpha = 0.3, cmap=plt.cm.PuOr_r)\n",
    "    contours = plt.contour(xx, yy, Z, levels=[0], linewidths=2,\n",
    "                           linestyles='dashed')\n",
    "\n",
    "    #highlight the support vectors\n",
    "    svecs = X[model.support_]\n",
    "    plt.scatter(svecs[:, 0], svecs[:, 1], alpha=0.9, s=100, edgecolors='k',facecolors='none')\n",
    "\n",
    "    #plot the points from the dataset\n",
    "    #plt.scatter(X[:, 0], X[:, 1], c=-y, cmap=\"jet\", alpha=0.6)\n",
    "    plt.scatter(X[:, 0], X[:, 1], c=y, cmap=plt.cm.Paired, alpha=0.9)\n",
    "    fullTitle = title+\" (support vector quantity: \"+ str(model.support_.shape[0])+ \")\"\n",
    "    plt.title(fullTitle)"
   ]
  },
  {
   "attachments": {},
   "cell_type": "markdown",
   "id": "035da2af",
   "metadata": {},
   "source": [
    "### 4. Set up your kernal parameters - These are what you are going to experiment with"
   ]
  },
  {
   "cell_type": "code",
   "execution_count": null,
   "id": "ba3e4b72",
   "metadata": {},
   "outputs": [],
   "source": [
    "\n",
    "\n",
    "# ------------- STUDENT CODE MODIFICATION SECTION ----------------------\n",
    "\n",
    "SVC_kernel='rbf'          #try different kernels: ‘linear’, ‘poly’, ‘rbf’, ‘sigmoid’\n",
    "myC = 1                  #try different values for C (regularization parameter)\n",
    "polydegree = 2             #try different degrees (will be ignored unless poly kernel)\n",
    "\n",
    "#  ------------- END STUDENT CODE MODIFICATION SECTION ----------------------\n"
   ]
  },
  {
   "attachments": {},
   "cell_type": "markdown",
   "id": "6926e64f",
   "metadata": {},
   "source": [
    "### 5. Create, train and use a SVM classifier to predict y_test given X_test"
   ]
  },
  {
   "cell_type": "code",
   "execution_count": null,
   "id": "4130ceea",
   "metadata": {},
   "outputs": [],
   "source": []
  },
  {
   "attachments": {},
   "cell_type": "markdown",
   "id": "eab67f94",
   "metadata": {},
   "source": [
    "### 6. What is your accuracy?  Can you beat your classmates?? "
   ]
  },
  {
   "cell_type": "code",
   "execution_count": null,
   "id": "4062d6e7",
   "metadata": {},
   "outputs": [],
   "source": []
  }
 ],
 "metadata": {
  "kernelspec": {
   "display_name": "Python 3 (ipykernel)",
   "language": "python",
   "name": "python3"
  },
  "language_info": {
   "codemirror_mode": {
    "name": "ipython",
    "version": 3
   },
   "file_extension": ".py",
   "mimetype": "text/x-python",
   "name": "python",
   "nbconvert_exporter": "python",
   "pygments_lexer": "ipython3",
   "version": "3.9.6"
  }
 },
 "nbformat": 4,
 "nbformat_minor": 5
}
