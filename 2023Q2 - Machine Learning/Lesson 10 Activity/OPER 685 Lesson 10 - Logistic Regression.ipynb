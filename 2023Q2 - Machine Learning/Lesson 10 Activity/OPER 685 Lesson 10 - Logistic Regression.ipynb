{
 "cells": [
  {
   "cell_type": "markdown",
   "id": "f9a51fa2",
   "metadata": {},
   "source": [
    "# Logistic Regression\n",
    "Tutorial follows both: <br>\n",
    "https://www.statology.org/logistic-regression-python <br>"
   ]
  },
  {
   "cell_type": "code",
   "execution_count": 1,
   "id": "ed58c83e",
   "metadata": {},
   "outputs": [],
   "source": [
    "#IMPORT PACKAGES\n",
    "import pandas as pd\n",
    "import numpy as np\n",
    "from sklearn.model_selection import train_test_split\n",
    "from sklearn.linear_model import LogisticRegression\n",
    "from sklearn import metrics\n",
    "import matplotlib.pyplot as plt"
   ]
  },
  {
   "cell_type": "markdown",
   "id": "14135702",
   "metadata": {},
   "source": [
    "## Load Data\n",
    "Data consists of 10,000 students.  Features are student debt balance, and income.  Regressor is default (0:= did not default, 1:= defaulted)"
   ]
  },
  {
   "cell_type": "code",
   "execution_count": 2,
   "id": "c5e6fd05",
   "metadata": {},
   "outputs": [],
   "source": [
    "#LOAD DATA\n",
    "url = \"https://raw.githubusercontent.com/Statology/Python-Guides/main/default.csv\"\n",
    "data=pd.read_csv(url)"
   ]
  },
  {
   "cell_type": "code",
   "execution_count": 6,
   "id": "6c777756",
   "metadata": {},
   "outputs": [
    {
     "data": {
      "text/plain": [
       "(10000, 4)"
      ]
     },
     "execution_count": 6,
     "metadata": {},
     "output_type": "execute_result"
    }
   ],
   "source": [
    "data.shape"
   ]
  },
  {
   "cell_type": "code",
   "execution_count": 4,
   "id": "b3a8ef96",
   "metadata": {},
   "outputs": [
    {
     "data": {
      "text/html": [
       "<div>\n",
       "<style scoped>\n",
       "    .dataframe tbody tr th:only-of-type {\n",
       "        vertical-align: middle;\n",
       "    }\n",
       "\n",
       "    .dataframe tbody tr th {\n",
       "        vertical-align: top;\n",
       "    }\n",
       "\n",
       "    .dataframe thead th {\n",
       "        text-align: right;\n",
       "    }\n",
       "</style>\n",
       "<table border=\"1\" class=\"dataframe\">\n",
       "  <thead>\n",
       "    <tr style=\"text-align: right;\">\n",
       "      <th></th>\n",
       "      <th>default</th>\n",
       "      <th>student</th>\n",
       "      <th>balance</th>\n",
       "      <th>income</th>\n",
       "    </tr>\n",
       "  </thead>\n",
       "  <tbody>\n",
       "    <tr>\n",
       "      <th>0</th>\n",
       "      <td>0</td>\n",
       "      <td>0</td>\n",
       "      <td>729.526495</td>\n",
       "      <td>44361.625074</td>\n",
       "    </tr>\n",
       "    <tr>\n",
       "      <th>1</th>\n",
       "      <td>0</td>\n",
       "      <td>1</td>\n",
       "      <td>817.180407</td>\n",
       "      <td>12106.134700</td>\n",
       "    </tr>\n",
       "    <tr>\n",
       "      <th>2</th>\n",
       "      <td>0</td>\n",
       "      <td>0</td>\n",
       "      <td>1073.549164</td>\n",
       "      <td>31767.138947</td>\n",
       "    </tr>\n",
       "    <tr>\n",
       "      <th>3</th>\n",
       "      <td>0</td>\n",
       "      <td>0</td>\n",
       "      <td>529.250605</td>\n",
       "      <td>35704.493935</td>\n",
       "    </tr>\n",
       "    <tr>\n",
       "      <th>4</th>\n",
       "      <td>0</td>\n",
       "      <td>0</td>\n",
       "      <td>785.655883</td>\n",
       "      <td>38463.495879</td>\n",
       "    </tr>\n",
       "  </tbody>\n",
       "</table>\n",
       "</div>"
      ],
      "text/plain": [
       "   default  student      balance        income\n",
       "0        0        0   729.526495  44361.625074\n",
       "1        0        1   817.180407  12106.134700\n",
       "2        0        0  1073.549164  31767.138947\n",
       "3        0        0   529.250605  35704.493935\n",
       "4        0        0   785.655883  38463.495879"
      ]
     },
     "execution_count": 4,
     "metadata": {},
     "output_type": "execute_result"
    }
   ],
   "source": [
    "data.head()"
   ]
  },
  {
   "cell_type": "markdown",
   "id": "e90fe91a",
   "metadata": {},
   "source": [
    "## Create training and test datsets"
   ]
  },
  {
   "cell_type": "code",
   "execution_count": 8,
   "id": "23e20f13",
   "metadata": {},
   "outputs": [],
   "source": [
    "X = data[['student', 'balance','income']]\n",
    "y = data['default']"
   ]
  },
  {
   "cell_type": "code",
   "execution_count": 9,
   "id": "f2a877c4",
   "metadata": {},
   "outputs": [],
   "source": [
    "#split the dataset into training (70%) and testing (30%) sets\n",
    "X_train,X_test,y_train,y_test = train_test_split(X,y,test_size=0.3,random_state=0)"
   ]
  },
  {
   "cell_type": "markdown",
   "id": "298f89d0",
   "metadata": {},
   "source": [
    "## Fit the logistic regression model"
   ]
  },
  {
   "cell_type": "code",
   "execution_count": 10,
   "id": "38d2e62a",
   "metadata": {},
   "outputs": [],
   "source": [
    "#instantiate the model\n",
    "log_regression = LogisticRegression()"
   ]
  },
  {
   "cell_type": "code",
   "execution_count": 11,
   "id": "4ce3dcc8",
   "metadata": {},
   "outputs": [
    {
     "data": {
      "text/plain": [
       "LogisticRegression()"
      ]
     },
     "execution_count": 11,
     "metadata": {},
     "output_type": "execute_result"
    }
   ],
   "source": [
    "#fit the model using the training data\n",
    "log_regression.fit(X_train,y_train)"
   ]
  },
  {
   "cell_type": "markdown",
   "id": "33b03594",
   "metadata": {},
   "source": [
    "## Make predictions on test data using fitted model"
   ]
  },
  {
   "cell_type": "code",
   "execution_count": 12,
   "id": "cfcc3881",
   "metadata": {},
   "outputs": [],
   "source": [
    "#use model to make predictions on test data\n",
    "y_pred = log_regression.predict(X_test)"
   ]
  },
  {
   "cell_type": "markdown",
   "id": "7cfe0d66",
   "metadata": {},
   "source": [
    "## Evaluate Model fit"
   ]
  },
  {
   "cell_type": "markdown",
   "id": "7cdcb011",
   "metadata": {},
   "source": [
    "### Confusion Matrix"
   ]
  },
  {
   "cell_type": "code",
   "execution_count": 36,
   "id": "1e4667e6",
   "metadata": {},
   "outputs": [
    {
     "data": {
      "text/plain": [
       "array([[2870,   17],\n",
       "       [  93,   20]], dtype=int64)"
      ]
     },
     "execution_count": 36,
     "metadata": {},
     "output_type": "execute_result"
    }
   ],
   "source": [
    "cnf_matrix = metrics.confusion_matrix(y_test, y_pred)\n",
    "cnf_matrix"
   ]
  },
  {
   "cell_type": "markdown",
   "id": "7cf272aa",
   "metadata": {},
   "source": [
    "### Accuracy"
   ]
  },
  {
   "cell_type": "code",
   "execution_count": 21,
   "id": "5f6c0ea3",
   "metadata": {},
   "outputs": [
    {
     "name": "stdout",
     "output_type": "stream",
     "text": [
      "SkLearn Accuracy: 0.9633333333333334\n"
     ]
    }
   ],
   "source": [
    "print(\"SkLearn Accuracy:\",metrics.accuracy_score(y_test, y_pred))"
   ]
  },
  {
   "cell_type": "code",
   "execution_count": 22,
   "id": "21ff9e87",
   "metadata": {},
   "outputs": [
    {
     "name": "stdout",
     "output_type": "stream",
     "text": [
      "Manual Accuracy: 0.9633333333333334\n"
     ]
    }
   ],
   "source": [
    "print(\"Manual Accuracy:\",(cnf_matrix[0,0]+cnf_matrix[1,1])/(cnf_matrix[0,0]+cnf_matrix[0,1]+cnf_matrix[1,0]+cnf_matrix[1,1]))"
   ]
  },
  {
   "cell_type": "markdown",
   "id": "1b3e64d8",
   "metadata": {},
   "source": [
    "### Precision"
   ]
  },
  {
   "cell_type": "code",
   "execution_count": 27,
   "id": "98e8f839",
   "metadata": {},
   "outputs": [
    {
     "name": "stdout",
     "output_type": "stream",
     "text": [
      "Sklearn Precision: 0.5405405405405406\n"
     ]
    }
   ],
   "source": [
    "print(\"Sklearn Precision:\",metrics.precision_score(y_test, y_pred))"
   ]
  },
  {
   "cell_type": "code",
   "execution_count": 23,
   "id": "0f07ea10",
   "metadata": {},
   "outputs": [
    {
     "name": "stdout",
     "output_type": "stream",
     "text": [
      "Manual Precision: 0.9686128923388457\n"
     ]
    }
   ],
   "source": [
    "print(\"Manual Precision:\",(cnf_matrix[0,0])/(cnf_matrix[0,0]+cnf_matrix[1,0]))"
   ]
  },
  {
   "cell_type": "markdown",
   "id": "fde8b27c",
   "metadata": {},
   "source": [
    "What is going on here?  Why do these not match?  When we exaimine sklearn documentation we see the following definition:<br>\n",
    "\n",
    "$\\textit{\"By definition, entry ij in a confusion matrix is the number of observations actually in group i, but predicted to be in group j.\"}$\n",
    "\n",
    "<br>\n",
    "But what is group i? What is group j?  <br>\n",
    "Digging deeper we find: <br>\n"
   ]
  },
  {
   "cell_type": "code",
   "execution_count": 51,
   "id": "9505a269",
   "metadata": {},
   "outputs": [
    {
     "name": "stdout",
     "output_type": "stream",
     "text": [
      "TN: 2870\n",
      "FP: 17\n",
      "FN: 93\n",
      "TP: 20\n"
     ]
    }
   ],
   "source": [
    "print('TN:', cnf_matrix[0, 0])  \n",
    "print('FP:', cnf_matrix[0, 1])\n",
    "print('FN:', cnf_matrix[1, 0]) \n",
    "print('TP:', cnf_matrix[1, 1])"
   ]
  },
  {
   "cell_type": "markdown",
   "id": "7cb4d690",
   "metadata": {},
   "source": [
    "Recall precision is: TP / TP+FP"
   ]
  },
  {
   "cell_type": "code",
   "execution_count": 40,
   "id": "d2aecbdf",
   "metadata": {},
   "outputs": [
    {
     "name": "stdout",
     "output_type": "stream",
     "text": [
      "Manual Precision: 0.5405405405405406\n"
     ]
    }
   ],
   "source": [
    "print(\"Manual Precision:\",(cnf_matrix[1,1])/(cnf_matrix[1,1]+cnf_matrix[0,1]))"
   ]
  },
  {
   "cell_type": "markdown",
   "id": "14cbb764",
   "metadata": {},
   "source": [
    "Now we have a match.  Lesson is, don't assume you know what what entries are in the confusion matrix!"
   ]
  },
  {
   "cell_type": "markdown",
   "id": "8fcb3221",
   "metadata": {},
   "source": [
    "### Recall/Sensitivity – how good a test is at detecting the positives."
   ]
  },
  {
   "cell_type": "code",
   "execution_count": 17,
   "id": "bbc9997d",
   "metadata": {},
   "outputs": [
    {
     "name": "stdout",
     "output_type": "stream",
     "text": [
      "Recall: 0.17699115044247787\n"
     ]
    }
   ],
   "source": [
    "print(\"SKlearn Recall:\",metrics.recall_score(y_test, y_pred))"
   ]
  },
  {
   "cell_type": "markdown",
   "id": "77da1286",
   "metadata": {},
   "source": [
    "Recall is: TP / (TP + FN)"
   ]
  },
  {
   "cell_type": "code",
   "execution_count": 42,
   "id": "c654750a",
   "metadata": {},
   "outputs": [
    {
     "name": "stdout",
     "output_type": "stream",
     "text": [
      "Manual Recall: 0.17699115044247787\n"
     ]
    }
   ],
   "source": [
    "print(\"Manual Recall:\",(cnf_matrix[1,1])/(cnf_matrix[1,1]+cnf_matrix[1,0]))"
   ]
  },
  {
   "cell_type": "markdown",
   "id": "b9aa91b7",
   "metadata": {},
   "source": [
    "It's pretty worthless at predicting defaults "
   ]
  },
  {
   "cell_type": "markdown",
   "id": "5ec2252b",
   "metadata": {},
   "source": [
    "### Specificity - how good a test is at avoiding false alarms."
   ]
  },
  {
   "cell_type": "markdown",
   "id": "66026512",
   "metadata": {},
   "source": [
    "Specificity is: TN / (TN + FP)"
   ]
  },
  {
   "cell_type": "code",
   "execution_count": 52,
   "id": "ba99c057",
   "metadata": {},
   "outputs": [
    {
     "name": "stdout",
     "output_type": "stream",
     "text": [
      "Manual Specificity: 0.9941115344648424\n"
     ]
    }
   ],
   "source": [
    "print(\"Manual Specificity:\",(cnf_matrix[0,0])/(cnf_matrix[0,0]+cnf_matrix[0,1]))"
   ]
  },
  {
   "cell_type": "markdown",
   "id": "866863af",
   "metadata": {},
   "source": [
    "It's great at avoinding false alarms."
   ]
  },
  {
   "cell_type": "markdown",
   "id": "e1f4cde2",
   "metadata": {},
   "source": [
    "### ROC Curve"
   ]
  },
  {
   "cell_type": "code",
   "execution_count": 18,
   "id": "d4413d4d",
   "metadata": {},
   "outputs": [
    {
     "data": {
      "image/png": "[encoded data removed]",
      "text/plain": [
       "<Figure size 432x288 with 1 Axes>"
      ]
     },
     "metadata": {
      "needs_background": "light"
     },
     "output_type": "display_data"
    }
   ],
   "source": [
    "#plot ROC curve\n",
    "y_pred_proba = log_regression.predict_proba(X_test)[::,1]\n",
    "fpr, tpr, _ = metrics.roc_curve(y_test,  y_pred_proba)\n",
    "auc = metrics.roc_auc_score(y_test, y_pred_proba)\n",
    "plt.plot(fpr,tpr,label=\"AUC=\"+str(auc))\n",
    "plt.legend(loc=4)\n",
    "plt.show()"
   ]
  },
  {
   "cell_type": "markdown",
   "id": "53f7411e",
   "metadata": {},
   "source": [
    "## Analysis\n",
    "I'd say this is a pretty worthless model.  I predict a student will detault about 20% of the time.  Put another way I am ~5x more likely to state that a student will not default when they really do.   "
   ]
  },
  {
   "cell_type": "code",
   "execution_count": null,
   "id": "38c2080d",
   "metadata": {},
   "outputs": [],
   "source": []
  }
 ],
 "metadata": {
  "kernelspec": {
   "display_name": "Python 3",
   "language": "python",
   "name": "python3"
  },
  "language_info": {
   "codemirror_mode": {
    "name": "ipython",
    "version": 3
   },
   "file_extension": ".py",
   "mimetype": "text/x-python",
   "name": "python",
   "nbconvert_exporter": "python",
   "pygments_lexer": "ipython3",
   "version": "3.9.4"
  }
 },
 "nbformat": 4,
 "nbformat_minor": 5
}
