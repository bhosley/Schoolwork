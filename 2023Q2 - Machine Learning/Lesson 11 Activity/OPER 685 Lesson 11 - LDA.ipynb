{
 "cells": [
  {
   "cell_type": "markdown",
   "id": "6063bf70",
   "metadata": {},
   "source": [
    "# Linear Discriminant Analysis\n",
    "\n",
    "SkLearn LDA Documentation: https://scikit-learn.org/stable/modules/generated/sklearn.discriminant_analysis.LinearDiscriminantAnalysis.html <br>\n",
    "Iris Data Set: https://scikit-learn.org/stable/auto_examples/datasets/plot_iris_dataset.html <br>\n",
    "Original LDA Tutorial: https://www.statology.org/linear-discriminant-analysis-in-python/ <br>\n",
    "Sklearn Model Selection Documentation: https://scikit-learn.org/stable/modules/classes.html#module-sklearn.model_selection \n"
   ]
  },
  {
   "cell_type": "markdown",
   "id": "e4c10a68",
   "metadata": {},
   "source": [
    "## 0. Load Libraries"
   ]
  },
  {
   "cell_type": "code",
   "execution_count": 1,
   "id": "b7a75643",
   "metadata": {},
   "outputs": [],
   "source": [
    "#LOAD NECESSARY LIBRARIES\n",
    "from sklearn.model_selection import train_test_split\n",
    "from sklearn.discriminant_analysis import LinearDiscriminantAnalysis\n",
    "from sklearn.model_selection import RepeatedStratifiedKFold\n",
    "from sklearn.model_selection import cross_val_score\n",
    "from sklearn import datasets\n",
    "\n",
    "import matplotlib.pyplot as plt\n",
    "import pandas as pd\n",
    "import numpy as np\n",
    "import matplotlib.pyplot as pp\n",
    "import matplotlib.cm as cm\n",
    "\n",
    "# pip install dmba (install dmba if you dont have it already)\n",
    "from dmba import classificationSummary\n"
   ]
  },
  {
   "cell_type": "markdown",
   "id": "278cac1e",
   "metadata": {},
   "source": [
    "## 1. In Class Example\n",
    "For this example we are going to go through the LDA 2-class mechanics by hand matching the results we present in class"
   ]
  },
  {
   "cell_type": "code",
   "execution_count": 2,
   "id": "a6ec8040",
   "metadata": {},
   "outputs": [
    {
     "name": "stdout",
     "output_type": "stream",
     "text": [
      "   X1  X2  Class\n",
      "0   4   2      1\n",
      "1   2   4      1\n",
      "2   2   3      1\n",
      "3   3   6      1\n",
      "4   4   4      1\n",
      "5   9  10      2\n",
      "6   6   8      2\n",
      "7   9   5      2\n",
      "8   8   7      2\n",
      "9  10   8      2\n"
     ]
    }
   ],
   "source": [
    "# load the data\n",
    "X = pd.read_csv('LDA_in_class.csv')\n",
    "print(X)"
   ]
  },
  {
   "cell_type": "code",
   "execution_count": 3,
   "id": "140aca69",
   "metadata": {},
   "outputs": [
    {
     "name": "stdout",
     "output_type": "stream",
     "text": [
      "   X1  X2\n",
      "0   4   2\n",
      "1   2   4\n",
      "2   2   3\n",
      "3   3   6\n",
      "4   4   4\n"
     ]
    }
   ],
   "source": [
    "C1=X.iloc[0:5,0:2]\n",
    "print(C1)"
   ]
  },
  {
   "cell_type": "code",
   "execution_count": 4,
   "id": "d7ac012e",
   "metadata": {},
   "outputs": [
    {
     "name": "stdout",
     "output_type": "stream",
     "text": [
      "   X1  X2\n",
      "5   9  10\n",
      "6   6   8\n",
      "7   9   5\n",
      "8   8   7\n",
      "9  10   8\n"
     ]
    }
   ],
   "source": [
    "C2=X.iloc[5:10,0:2]\n",
    "print(C2)"
   ]
  },
  {
   "cell_type": "code",
   "execution_count": 5,
   "id": "05e3b69f",
   "metadata": {},
   "outputs": [
    {
     "data": {
      "text/plain": [
       "(0.0, 12.0)"
      ]
     },
     "execution_count": 5,
     "metadata": {},
     "output_type": "execute_result"
    },
    {
     "data": {
      "image/png": "[encoded data removed]",
      "text/plain": [
       "<Figure size 640x480 with 1 Axes>"
      ]
     },
     "metadata": {},
     "output_type": "display_data"
    }
   ],
   "source": [
    "plt.scatter(C1['X1'],C1['X2'], c='blue')\n",
    "plt.scatter(C2['X1'],C2['X2'], c='red')\n",
    "plt.xlim(0, 12)\n",
    "plt.ylim(0, 12)"
   ]
  },
  {
   "cell_type": "code",
   "execution_count": 6,
   "id": "fbe54938",
   "metadata": {},
   "outputs": [
    {
     "name": "stdout",
     "output_type": "stream",
     "text": [
      "X1    3.0\n",
      "X2    3.8\n",
      "dtype: float64\n"
     ]
    }
   ],
   "source": [
    "x1_bar = C1.mean()\n",
    "print(x1_bar)"
   ]
  },
  {
   "cell_type": "code",
   "execution_count": 7,
   "id": "5c03ce8c",
   "metadata": {},
   "outputs": [
    {
     "name": "stdout",
     "output_type": "stream",
     "text": [
      "X1    8.4\n",
      "X2    7.6\n",
      "dtype: float64\n"
     ]
    }
   ],
   "source": [
    "x2_bar = C2.mean()\n",
    "print(x2_bar)"
   ]
  },
  {
   "cell_type": "code",
   "execution_count": 8,
   "id": "0d7907e0",
   "metadata": {},
   "outputs": [
    {
     "data": {
      "text/plain": [
       "(0.0, 12.0)"
      ]
     },
     "execution_count": 8,
     "metadata": {},
     "output_type": "execute_result"
    },
    {
     "data": {
      "image/png": "[encoded data removed]",
      "text/plain": [
       "<Figure size 640x480 with 1 Axes>"
      ]
     },
     "metadata": {},
     "output_type": "display_data"
    }
   ],
   "source": [
    "plt.scatter(C1['X1'],C1['X2'], c='blue')\n",
    "plt.scatter(C2['X1'],C2['X2'], c='red')\n",
    "plt.scatter(x1_bar['X1'],x1_bar['X2'], c='blue',marker='*')\n",
    "plt.scatter(x2_bar['X1'],x2_bar['X2'], c='red',marker='*')\n",
    "plt.xlim(0, 12)\n",
    "plt.ylim(0, 12)"
   ]
  },
  {
   "cell_type": "code",
   "execution_count": 9,
   "id": "e3453582",
   "metadata": {},
   "outputs": [
    {
     "name": "stdout",
     "output_type": "stream",
     "text": [
      "      X1    X2\n",
      "X1  1.00 -0.25\n",
      "X2 -0.25  2.20\n"
     ]
    }
   ],
   "source": [
    "S1=C1.cov()\n",
    "print(S1)"
   ]
  },
  {
   "cell_type": "code",
   "execution_count": 10,
   "id": "3aaaf2e0",
   "metadata": {},
   "outputs": [
    {
     "name": "stdout",
     "output_type": "stream",
     "text": [
      "      X1    X2\n",
      "X1  2.30 -0.05\n",
      "X2 -0.05  3.30\n"
     ]
    }
   ],
   "source": [
    "S2=C2.cov()\n",
    "print(S2)"
   ]
  },
  {
   "cell_type": "code",
   "execution_count": 11,
   "id": "bca5308c",
   "metadata": {},
   "outputs": [
    {
     "name": "stdout",
     "output_type": "stream",
     "text": [
      "      X1    X2\n",
      "X1  1.65 -0.15\n",
      "X2 -0.15  2.75\n"
     ]
    }
   ],
   "source": [
    "S_W=1/8*(4*S1+4*S2)\n",
    "print(S_W)"
   ]
  },
  {
   "cell_type": "code",
   "execution_count": 12,
   "id": "26cef87b",
   "metadata": {},
   "outputs": [
    {
     "name": "stdout",
     "output_type": "stream",
     "text": [
      "[[0.60908084 0.03322259]\n",
      " [0.03322259 0.3654485 ]]\n"
     ]
    }
   ],
   "source": [
    "SWinv=np.linalg.inv(S_W)\n",
    "print(SWinv)"
   ]
  },
  {
   "cell_type": "code",
   "execution_count": 13,
   "id": "418c2a14",
   "metadata": {},
   "outputs": [
    {
     "name": "stdout",
     "output_type": "stream",
     "text": [
      "[-5.4 -3.8]\n"
     ]
    }
   ],
   "source": [
    "delta=np.array(x1_bar-x2_bar)\n",
    "print(delta)"
   ]
  },
  {
   "cell_type": "code",
   "execution_count": 14,
   "id": "bebabf05",
   "metadata": {},
   "outputs": [
    {
     "name": "stdout",
     "output_type": "stream",
     "text": [
      "[[29.16 20.52]\n",
      " [20.52 14.44]]\n"
     ]
    }
   ],
   "source": [
    "S_B=np.outer(delta,delta.T)\n",
    "print(S_B)"
   ]
  },
  {
   "cell_type": "code",
   "execution_count": 15,
   "id": "2437b27e",
   "metadata": {},
   "outputs": [
    {
     "data": {
      "text/plain": [
       "array([[18.44252492, 12.97807309],\n",
       "       [ 8.46777409,  5.95880399]])"
      ]
     },
     "execution_count": 15,
     "metadata": {},
     "output_type": "execute_result"
    }
   ],
   "source": [
    "SWinv@S_B"
   ]
  },
  {
   "cell_type": "code",
   "execution_count": 16,
   "id": "bd113c52",
   "metadata": {},
   "outputs": [
    {
     "name": "stdout",
     "output_type": "stream",
     "text": [
      "The eigenvalues are [2.44013289e+01 1.60936574e-15]\n"
     ]
    }
   ],
   "source": [
    "eVals, eVecs =  np.linalg.eig(SWinv@S_B)\n",
    "print(\"The eigenvalues are {}\" .format(eVals))"
   ]
  },
  {
   "cell_type": "code",
   "execution_count": 17,
   "id": "02033fa8",
   "metadata": {},
   "outputs": [
    {
     "name": "stdout",
     "output_type": "stream",
     "text": [
      "[[ 0.90878558 -0.57549341]\n",
      " [ 0.41726342  0.81780642]]\n"
     ]
    }
   ],
   "source": [
    "print(eVecs)"
   ]
  },
  {
   "cell_type": "markdown",
   "id": "27dddd8f",
   "metadata": {},
   "source": [
    "Can also calculate w directly"
   ]
  },
  {
   "cell_type": "code",
   "execution_count": 18,
   "id": "6369a40a",
   "metadata": {},
   "outputs": [
    {
     "data": {
      "text/plain": [
       "array([-3.41528239, -1.56810631])"
      ]
     },
     "execution_count": 18,
     "metadata": {},
     "output_type": "execute_result"
    }
   ],
   "source": [
    "SWinv@delta"
   ]
  },
  {
   "cell_type": "code",
   "execution_count": 19,
   "id": "8bd566c4",
   "metadata": {},
   "outputs": [
    {
     "data": {
      "text/plain": [
       "array([-0.90878558, -0.41726342])"
      ]
     },
     "execution_count": 19,
     "metadata": {},
     "output_type": "execute_result"
    }
   ],
   "source": [
    "SWinv@delta/np.linalg.norm(SWinv@delta)"
   ]
  },
  {
   "cell_type": "markdown",
   "id": "dce7f18b",
   "metadata": {},
   "source": [
    "This allows us to calculate h(x), aka slope and intercept of our hyperplane"
   ]
  },
  {
   "cell_type": "code",
   "execution_count": 20,
   "id": "c20825a8",
   "metadata": {},
   "outputs": [
    {
     "name": "stdout",
     "output_type": "stream",
     "text": [
      "[-3.41528239 -1.56810631]\n"
     ]
    }
   ],
   "source": [
    "h_coefficents=delta.T@SWinv\n",
    "print(h_coefficents)"
   ]
  },
  {
   "cell_type": "code",
   "execution_count": 21,
   "id": "08b1b535",
   "metadata": {},
   "outputs": [
    {
     "name": "stdout",
     "output_type": "stream",
     "text": [
      "28.40531561461794\n"
     ]
    }
   ],
   "source": [
    "h_intercept=(-1/2)*delta.T@SWinv@(x1_bar+x2_bar)\n",
    "print(h_intercept)"
   ]
  },
  {
   "cell_type": "code",
   "execution_count": 22,
   "id": "f4998526",
   "metadata": {},
   "outputs": [
    {
     "data": {
      "image/png": "[encoded data removed]",
      "text/plain": [
       "<Figure size 640x480 with 1 Axes>"
      ]
     },
     "metadata": {},
     "output_type": "display_data"
    }
   ],
   "source": [
    "#Scatter plot points\n",
    "colors = cm.brg(X['Class']/2)\n",
    "pp.scatter(X['X1'], X['X2'],s=50,c = colors)\n",
    "\n",
    "#LDA decision boundry\n",
    "x = np.array(range(0,100))\n",
    "y = -(x*h_coefficents[0] + h_intercept)/h_coefficents[1]\n",
    "pp.plot(x,y)\n",
    "\n",
    "#Display joint plot\n",
    "pp.title('LDA Decision Boundary')\n",
    "pp.xlim(0, 12)\n",
    "pp.ylim(0, 12)\n",
    "pp.show()"
   ]
  },
  {
   "cell_type": "markdown",
   "id": "e233f2df",
   "metadata": {},
   "source": [
    "## 2. Rencher Example\n",
    "This is also a 2 class example, but in this case we will use the built in LDA models from sklearn"
   ]
  },
  {
   "cell_type": "code",
   "execution_count": 23,
   "id": "6236727d",
   "metadata": {},
   "outputs": [
    {
     "name": "stdout",
     "output_type": "stream",
     "text": [
      "    Group  y1  y2\n",
      "0       1  33  60\n",
      "1       1  36  61\n",
      "2       1  35  64\n",
      "3       1  38  63\n",
      "4       1  40  65\n",
      "5       2  35  57\n",
      "6       2  36  59\n",
      "7       2  38  59\n",
      "8       2  39  61\n",
      "9       2  41  63\n",
      "10      2  43  65\n",
      "11      2  41  59\n"
     ]
    }
   ],
   "source": [
    "# load the data\n",
    "temp_df = pd.read_csv('rencherexample.csv')\n",
    "print(temp_df)"
   ]
  },
  {
   "cell_type": "code",
   "execution_count": 24,
   "id": "d43cf951",
   "metadata": {},
   "outputs": [
    {
     "data": {
      "text/html": [
       "<style>#sk-container-id-1 {color: black;background-color: white;}#sk-container-id-1 pre{padding: 0;}#sk-container-id-1 div.sk-toggleable {background-color: white;}#sk-container-id-1 label.sk-toggleable__label {cursor: pointer;display: block;width: 100%;margin-bottom: 0;padding: 0.3em;box-sizing: border-box;text-align: center;}#sk-container-id-1 label.sk-toggleable__label-arrow:before {content: \"▸\";float: left;margin-right: 0.25em;color: #696969;}#sk-container-id-1 label.sk-toggleable__label-arrow:hover:before {color: black;}#sk-container-id-1 div.sk-estimator:hover label.sk-toggleable__label-arrow:before {color: black;}#sk-container-id-1 div.sk-toggleable__content {max-height: 0;max-width: 0;overflow: hidden;text-align: left;background-color: #f0f8ff;}#sk-container-id-1 div.sk-toggleable__content pre {margin: 0.2em;color: black;border-radius: 0.25em;background-color: #f0f8ff;}#sk-container-id-1 input.sk-toggleable__control:checked~div.sk-toggleable__content {max-height: 200px;max-width: 100%;overflow: auto;}#sk-container-id-1 input.sk-toggleable__control:checked~label.sk-toggleable__label-arrow:before {content: \"▾\";}#sk-container-id-1 div.sk-estimator input.sk-toggleable__control:checked~label.sk-toggleable__label {background-color: #d4ebff;}#sk-container-id-1 div.sk-label input.sk-toggleable__control:checked~label.sk-toggleable__label {background-color: #d4ebff;}#sk-container-id-1 input.sk-hidden--visually {border: 0;clip: rect(1px 1px 1px 1px);clip: rect(1px, 1px, 1px, 1px);height: 1px;margin: -1px;overflow: hidden;padding: 0;position: absolute;width: 1px;}#sk-container-id-1 div.sk-estimator {font-family: monospace;background-color: #f0f8ff;border: 1px dotted black;border-radius: 0.25em;box-sizing: border-box;margin-bottom: 0.5em;}#sk-container-id-1 div.sk-estimator:hover {background-color: #d4ebff;}#sk-container-id-1 div.sk-parallel-item::after {content: \"\";width: 100%;border-bottom: 1px solid gray;flex-grow: 1;}#sk-container-id-1 div.sk-label:hover label.sk-toggleable__label {background-color: #d4ebff;}#sk-container-id-1 div.sk-serial::before {content: \"\";position: absolute;border-left: 1px solid gray;box-sizing: border-box;top: 0;bottom: 0;left: 50%;z-index: 0;}#sk-container-id-1 div.sk-serial {display: flex;flex-direction: column;align-items: center;background-color: white;padding-right: 0.2em;padding-left: 0.2em;position: relative;}#sk-container-id-1 div.sk-item {position: relative;z-index: 1;}#sk-container-id-1 div.sk-parallel {display: flex;align-items: stretch;justify-content: center;background-color: white;position: relative;}#sk-container-id-1 div.sk-item::before, #sk-container-id-1 div.sk-parallel-item::before {content: \"\";position: absolute;border-left: 1px solid gray;box-sizing: border-box;top: 0;bottom: 0;left: 50%;z-index: -1;}#sk-container-id-1 div.sk-parallel-item {display: flex;flex-direction: column;z-index: 1;position: relative;background-color: white;}#sk-container-id-1 div.sk-parallel-item:first-child::after {align-self: flex-end;width: 50%;}#sk-container-id-1 div.sk-parallel-item:last-child::after {align-self: flex-start;width: 50%;}#sk-container-id-1 div.sk-parallel-item:only-child::after {width: 0;}#sk-container-id-1 div.sk-dashed-wrapped {border: 1px dashed gray;margin: 0 0.4em 0.5em 0.4em;box-sizing: border-box;padding-bottom: 0.4em;background-color: white;}#sk-container-id-1 div.sk-label label {font-family: monospace;font-weight: bold;display: inline-block;line-height: 1.2em;}#sk-container-id-1 div.sk-label-container {text-align: center;}#sk-container-id-1 div.sk-container {/* jupyter's `normalize.less` sets `[hidden] { display: none; }` but bootstrap.min.css set `[hidden] { display: none !important; }` so we also need the `!important` here to be able to override the default hidden behavior on the sphinx rendered scikit-learn.org. See: https://github.com/scikit-learn/scikit-learn/issues/21755 */display: inline-block !important;position: relative;}#sk-container-id-1 div.sk-text-repr-fallback {display: none;}</style><div id=\"sk-container-id-1\" class=\"sk-top-container\"><div class=\"sk-text-repr-fallback\"><pre>LinearDiscriminantAnalysis()</pre><b>In a Jupyter environment, please rerun this cell to show the HTML representation or trust the notebook. <br />On GitHub, the HTML representation is unable to render, please try loading this page with nbviewer.org.</b></div><div class=\"sk-container\" hidden><div class=\"sk-item\"><div class=\"sk-estimator sk-toggleable\"><input class=\"sk-toggleable__control sk-hidden--visually\" id=\"sk-estimator-id-1\" type=\"checkbox\" checked><label for=\"sk-estimator-id-1\" class=\"sk-toggleable__label sk-toggleable__label-arrow\">LinearDiscriminantAnalysis</label><div class=\"sk-toggleable__content\"><pre>LinearDiscriminantAnalysis()</pre></div></div></div></div></div>"
      ],
      "text/plain": [
       "LinearDiscriminantAnalysis()"
      ]
     },
     "execution_count": 24,
     "metadata": {},
     "output_type": "execute_result"
    }
   ],
   "source": [
    "# fit an LDA\n",
    "lda_reg = LinearDiscriminantAnalysis()\n",
    "lda_reg.fit(temp_df.drop(columns=['Group']), temp_df['Group'])"
   ]
  },
  {
   "cell_type": "code",
   "execution_count": 25,
   "id": "5425cf06",
   "metadata": {},
   "outputs": [
    {
     "name": "stdout",
     "output_type": "stream",
     "text": [
      "The intercept is [50.70056277]\n",
      "The LDA coefficients are [[ 1.63337671 -1.81977879]]\n"
     ]
    }
   ],
   "source": [
    "# determine the intercept and coefficients\n",
    "Intercept = lda_reg.intercept_\n",
    "Coeffs = lda_reg.coef_\n",
    "print('The intercept is {}'.format(Intercept))\n",
    "print('The LDA coefficients are {}'.format(Coeffs))"
   ]
  },
  {
   "cell_type": "code",
   "execution_count": 26,
   "id": "c16c906e",
   "metadata": {},
   "outputs": [
    {
     "name": "stdout",
     "output_type": "stream",
     "text": [
      "Confusion Matrix (Accuracy 1.0000)\n",
      "\n",
      "       Prediction\n",
      "Actual 1 2\n",
      "     1 5 0\n",
      "     2 0 7\n"
     ]
    }
   ],
   "source": [
    "# output confusion matrix information\n",
    "# Uses DMBA https://github.com/gedeck/dmba\n",
    "# classificationSummary (y_true, y_pred, class_names = None)\n",
    "classificationSummary(temp_df['Group'],\n",
    " lda_reg.predict(temp_df.drop(columns=['Group'])),\n",
    " class_names=lda_reg.classes_) "
   ]
  },
  {
   "cell_type": "code",
   "execution_count": 27,
   "id": "ef03c36f",
   "metadata": {},
   "outputs": [
    {
     "name": "stdout",
     "output_type": "stream",
     "text": [
      "    Predicted  Actual  Decision Function Output(h(x))    Prob 1    Prob 2\n",
      "0           1       1                       -4.584733  0.989897  0.010103\n",
      "1           1       1                       -1.504382  0.818227  0.181773\n",
      "2           1       1                       -8.597095  0.999815  0.000185\n",
      "3           1       1                       -1.877186  0.867288  0.132712\n",
      "4           1       1                       -2.249990  0.904650  0.095350\n",
      "5           2       2                        4.141357  0.015652  0.984348\n",
      "6           2       2                        2.135176  0.105725  0.894275\n",
      "7           2       2                        5.401929  0.004488  0.995512\n",
      "8           2       2                        3.395748  0.032429  0.967571\n",
      "9           2       2                        3.022944  0.046400  0.953600\n",
      "10          2       2                        2.650140  0.065980  0.934020\n",
      "11          2       2                       10.302059  0.000034  0.999966\n"
     ]
    }
   ],
   "source": [
    "# summarize results \n",
    "# includes predicted vs actual, decision function output, and probabilities\n",
    "result = pd.concat([\n",
    " pd.DataFrame({'Predicted': lda_reg.predict(temp_df.drop(columns=['Group'])),\n",
    " 'Actual': temp_df['Group']}),\n",
    " pd.DataFrame(lda_reg.decision_function(temp_df.drop(columns=['Group'])),\n",
    " columns=['Decision Function Output(h(x))']),\n",
    " pd.DataFrame(lda_reg.predict_proba(temp_df.drop(columns=['Group'])),\n",
    " columns=['Prob {}'.format(cls) for cls in lda_reg.classes_]),\n",
    "],axis=1)\n",
    "print(result)"
   ]
  },
  {
   "cell_type": "code",
   "execution_count": 28,
   "id": "17700c92",
   "metadata": {},
   "outputs": [
    {
     "data": {
      "image/png": "[encoded data removed]",
      "text/plain": [
       "<Figure size 640x480 with 1 Axes>"
      ]
     },
     "metadata": {},
     "output_type": "display_data"
    }
   ],
   "source": [
    "# Plot data with decision boundary\n",
    "colors = cm.brg(temp_df['Group']/2)\n",
    "pp.scatter(temp_df['y1'], temp_df['y2'],s=50,c = colors)\n",
    "x = np.array(range(30,45))\n",
    "y = -(x*Coeffs[0,0] + Intercept)/Coeffs[0,1]\n",
    "pp.plot(x,y)\n",
    "pp.title('LDA Decision Boundary')\n",
    "pp.show()"
   ]
  },
  {
   "cell_type": "code",
   "execution_count": 29,
   "id": "03998a91",
   "metadata": {
    "scrolled": true
   },
   "outputs": [
    {
     "data": {
      "image/png": "[encoded data removed]",
      "text/plain": [
       "<Figure size 640x480 with 1 Axes>"
      ]
     },
     "metadata": {},
     "output_type": "display_data"
    }
   ],
   "source": [
    "# Plot in LDA projected space\n",
    "projected = temp_df['y1']*Coeffs[0,0]+temp_df['y2']*Coeffs[0,1]\n",
    "pp.scatter(projected, np.zeros_like(projected),s=50,c = colors)\n",
    "pp.title('LDA Projection')\n",
    "pp.show()\n"
   ]
  }
 ],
 "metadata": {
  "kernelspec": {
   "display_name": "Python 3 (ipykernel)",
   "language": "python",
   "name": "python3"
  },
  "language_info": {
   "codemirror_mode": {
    "name": "ipython",
    "version": 3
   },
   "file_extension": ".py",
   "mimetype": "text/x-python",
   "name": "python",
   "nbconvert_exporter": "python",
   "pygments_lexer": "ipython3",
   "version": "3.9.4"
  }
 },
 "nbformat": 4,
 "nbformat_minor": 5
}
