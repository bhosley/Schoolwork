{
 "cells": [
  {
   "cell_type": "markdown",
   "metadata": {},
   "source": [
    "# OPER 685 - Machine Learning I\n",
    "## Homework 1\n",
    "## Brandon Hosley"
   ]
  },
  {
   "cell_type": "code",
   "execution_count": null,
   "metadata": {},
   "outputs": [],
   "source": [
    "import pandas as pd\n",
    "import numpy as np\n",
    "import matplotlib.pyplot as plt\n",
    "import seaborn as sns"
   ]
  },
  {
   "attachments": {},
   "cell_type": "markdown",
   "metadata": {},
   "source": [
    "## 1. \n",
    "(50 Points) Apply principal component analysis to the breast cancer data set   Download breast cancer data set . The data set contains 569 multi-variate samples. Each sample consists of 30 input features and has one of two potential labels (i.e., benign (0) and malignant (1)) associated with it."
   ]
  },
  {
   "cell_type": "code",
   "execution_count": null,
   "metadata": {},
   "outputs": [],
   "source": [
    "df = pd.read_csv('credit_default.csv', sep=',') # read in the data set"
   ]
  },
  {
   "attachments": {},
   "cell_type": "markdown",
   "metadata": {},
   "source": [
    "    a. (5 points) What are the eigenvalues associated with the first 10 principal components?"
   ]
  },
  {
   "cell_type": "code",
   "execution_count": null,
   "metadata": {},
   "outputs": [],
   "source": [
    "from sklearn.decomposition import PCA\n",
    "\n",
    "df1 = df.copy()\n",
    "\n",
    "pca = PCA(n_components=2)\n",
    "components = pca.fit_transform(X)\n"
   ]
  },
  {
   "attachments": {},
   "cell_type": "markdown",
   "metadata": {},
   "source": [
    "    b. (5 points) Which eigenvalues satisfy Kaiser’s criterion?"
   ]
  },
  {
   "attachments": {},
   "cell_type": "markdown",
   "metadata": {},
   "source": [
    "    c. (5 points) Which eigenvalues satisfy Jolliffe’s criterion?"
   ]
  },
  {
   "attachments": {},
   "cell_type": "markdown",
   "metadata": {},
   "source": [
    "    d. (5 points) Generate (and show) a scree plot and discuss any insights you obtain."
   ]
  },
  {
   "attachments": {},
   "cell_type": "markdown",
   "metadata": {},
   "source": [
    "    e. (5 points) What percentage of the total variance is accounted for by the first two principal components?"
   ]
  },
  {
   "attachments": {},
   "cell_type": "markdown",
   "metadata": {},
   "source": [
    "    f. (5 points) What percentage of the total variance is accounted for by the first three principal components?"
   ]
  },
  {
   "attachments": {},
   "cell_type": "markdown",
   "metadata": {},
   "source": [
    "    g. (5 points) Plot the data in principal component space and discuss insights obtained."
   ]
  },
  {
   "attachments": {},
   "cell_type": "markdown",
   "metadata": {},
   "source": [
    "## 2. \n",
    "(50 points) Examine the standardized variance-covariance matrix (i.e., the correlation matrix) given below, and apply factor analysis utilizing the Principal Component method shown in class (i.e., matrix multiplication not scikit learn) (20 points for correct application).\n",
    "\n",
    "$$\n",
    "\\sum = \n",
    "\\overset{\\quad\\qquad \\#pushups\\ \\#pullups\\ \\#squats\\ \\#lunges}{\n",
    "\\begin{matrix} \\scriptsize{\\#pushups} \\\\ \\scriptsize{\\#pullups} \\\\ \\scriptsize{\\#squats} \\\\ \\scriptsize{\\#lunges} \\end{matrix}\n",
    "\\begin{bmatrix}\n",
    "1.00 & 0.58 & 0.18 & 0.05 \\\\\n",
    "0.58 & 1.00 & 0.02 & 0.01 \\\\\n",
    "0.18 & 0.02 & 1.00 & 0.75 \\\\\n",
    "0.05 & 0.01 & 0.75 & 1.00 \n",
    "\\end{bmatrix}}\n",
    "$$"
   ]
  },
  {
   "attachments": {},
   "cell_type": "markdown",
   "metadata": {},
   "source": [
    "    a. (5 points) What insights can you obtain from examining Σ?"
   ]
  },
  {
   "attachments": {},
   "cell_type": "markdown",
   "metadata": {},
   "source": [
    "    b. (5 points) What eigenvalues does eigen decomposition yield?"
   ]
  },
  {
   "attachments": {},
   "cell_type": "markdown",
   "metadata": {},
   "source": [
    "    c. (5 points) Calculate the factor loadings, common variance matrix, and uniqueness matrix for d=2 (i.e., 2 factors)."
   ]
  },
  {
   "attachments": {},
   "cell_type": "markdown",
   "metadata": {},
   "source": [
    "    d. (5 points) Compute the communalities."
   ]
  },
  {
   "attachments": {},
   "cell_type": "markdown",
   "metadata": {},
   "source": [
    "    e. (5 points) What percentage of the total variance is accounted for by factor 1, by factor 2?"
   ]
  },
  {
   "attachments": {},
   "cell_type": "markdown",
   "metadata": {},
   "source": [
    "    f. (5 points) Determine appropriate names for the factors."
   ]
  }
 ],
 "metadata": {
  "language_info": {
   "name": "python"
  },
  "orig_nbformat": 4
 },
 "nbformat": 4,
 "nbformat_minor": 2
}
