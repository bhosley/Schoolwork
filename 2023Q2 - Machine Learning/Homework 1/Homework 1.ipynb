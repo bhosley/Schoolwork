{
 "cells": [
  {
   "cell_type": "markdown",
   "metadata": {},
   "source": [
    "# OPER 685 - Machine Learning I\n",
    "## Homework 1\n",
    "## Brandon Hosley"
   ]
  },
  {
   "cell_type": "code",
   "execution_count": 2,
   "metadata": {},
   "outputs": [],
   "source": [
    "import pandas as pd\n",
    "import numpy as np\n",
    "import matplotlib.pyplot as plt\n",
    "import seaborn as sns"
   ]
  },
  {
   "attachments": {},
   "cell_type": "markdown",
   "metadata": {},
   "source": [
    "## 1. \n",
    "(50 Points) Apply principal component analysis to the breast cancer data set   Download breast cancer data set . The data set contains 569 multi-variate samples. Each sample consists of 30 input features and has one of two potential labels (i.e., benign (0) and malignant (1)) associated with it."
   ]
  },
  {
   "cell_type": "code",
   "execution_count": 4,
   "metadata": {},
   "outputs": [],
   "source": [
    "df = pd.read_csv('breast cancer.csv', sep=',') # read in the data set"
   ]
  },
  {
   "attachments": {},
   "cell_type": "markdown",
   "metadata": {},
   "source": [
    "    a. (5 points) What are the eigenvalues associated with the first 10 principal components?"
   ]
  },
  {
   "cell_type": "code",
   "execution_count": 28,
   "metadata": {},
   "outputs": [
    {
     "data": {
      "text/plain": [
       "array([13.94227406,  5.73643378,  2.85186154,  2.00188139,  1.66199949,\n",
       "        1.20963379,  0.68592465,  0.48570906,  0.4176288 ,  0.35151141])"
      ]
     },
     "execution_count": 28,
     "metadata": {},
     "output_type": "execute_result"
    }
   ],
   "source": [
    "from sklearn.preprocessing import StandardScaler\n",
    "\n",
    "df1 = pd.DataFrame(StandardScaler().fit(df).transform(df))\n",
    "\n",
    "cov1 = df1.cov()\n",
    "eigVals, eigVecs = np.linalg.eig(cov1)\n",
    "\n",
    "eigVals[:10]"
   ]
  },
  {
   "attachments": {},
   "cell_type": "markdown",
   "metadata": {},
   "source": [
    "    b. (5 points) Which eigenvalues satisfy Kaiser’s criterion?"
   ]
  },
  {
   "cell_type": "code",
   "execution_count": 29,
   "metadata": {},
   "outputs": [
    {
     "name": "stdout",
     "output_type": "stream",
     "text": [
      "6\n"
     ]
    }
   ],
   "source": [
    "print(np.sum(eigVals > 1))"
   ]
  },
  {
   "attachments": {},
   "cell_type": "markdown",
   "metadata": {},
   "source": [
    "The first 6 eigenvalues satisfy Kaiser's criterion."
   ]
  },
  {
   "attachments": {},
   "cell_type": "markdown",
   "metadata": {},
   "source": [
    "    c. (5 points) Which eigenvalues satisfy Jolliffe’s criterion?"
   ]
  },
  {
   "cell_type": "code",
   "execution_count": 30,
   "metadata": {},
   "outputs": [
    {
     "name": "stdout",
     "output_type": "stream",
     "text": [
      "6\n",
      "1.0017605633802829\n"
     ]
    }
   ],
   "source": [
    "print(np.sum(eigVals > (0.7* np.average(eigVals))))\n",
    "print(np.average(eigVals))"
   ]
  },
  {
   "attachments": {},
   "cell_type": "markdown",
   "metadata": {},
   "source": [
    "The first 6 eigenvalue satisfies Jolliffe's criterion."
   ]
  },
  {
   "attachments": {},
   "cell_type": "markdown",
   "metadata": {},
   "source": [
    "    d. (5 points) Generate (and show) a scree plot and discuss any insights you obtain."
   ]
  },
  {
   "cell_type": "code",
   "execution_count": 45,
   "metadata": {},
   "outputs": [
    {
     "data": {
      "text/plain": [
       "<AxesSubplot:>"
      ]
     },
     "execution_count": 45,
     "metadata": {},
     "output_type": "execute_result"
    },
    {
     "data": {
      "image/png": "[encoded data removed]",
      "text/plain": [
       "<Figure size 640x480 with 1 Axes>"
      ]
     },
     "metadata": {},
     "output_type": "display_data"
    }
   ],
   "source": [
    "sns.lineplot(eigVals)\n",
    "sns.scatterplot(eigVals)"
   ]
  },
  {
   "attachments": {},
   "cell_type": "markdown",
   "metadata": {},
   "source": [
    "The improvement on explanation power becomes subject to significant diminishing returns around the 5 $\\pm$ 1 range. This is also consistent with the values specified by the criteria above."
   ]
  },
  {
   "attachments": {},
   "cell_type": "markdown",
   "metadata": {},
   "source": [
    "    e. (5 points) What percentage of the total variance is accounted for by the first two principal components?"
   ]
  },
  {
   "cell_type": "code",
   "execution_count": 31,
   "metadata": {},
   "outputs": [
    {
     "name": "stdout",
     "output_type": "stream",
     "text": [
      "[0.44896035 0.18472104 0.09183385 0.06446333 0.05351866 0.03895187\n",
      " 0.02208771 0.0156405  0.01344822 0.01131915]\n",
      "0.6336813909409855\n"
     ]
    }
   ],
   "source": [
    "from sklearn.decomposition import PCA\n",
    "\n",
    "pca = PCA(n_components=10)\n",
    "df_components = pca.fit_transform(df1)\n",
    "\n",
    "print(pca.explained_variance_ratio_)\n",
    "print(np.sum(pca.explained_variance_ratio_[:2]))"
   ]
  },
  {
   "attachments": {},
   "cell_type": "markdown",
   "metadata": {},
   "source": [
    "63.36813909409855 % of total variance is explained by the first two components."
   ]
  },
  {
   "attachments": {},
   "cell_type": "markdown",
   "metadata": {},
   "source": [
    "    f. (5 points) What percentage of the total variance is accounted for by the first three principal components?"
   ]
  },
  {
   "cell_type": "code",
   "execution_count": 46,
   "metadata": {},
   "outputs": [
    {
     "name": "stdout",
     "output_type": "stream",
     "text": [
      "0.7255152452459427\n"
     ]
    }
   ],
   "source": [
    "print(np.sum(pca.explained_variance_ratio_[:3]))"
   ]
  },
  {
   "attachments": {},
   "cell_type": "markdown",
   "metadata": {},
   "source": [
    "72.55152452459427 % of the total variance is explained by the first three components."
   ]
  },
  {
   "attachments": {},
   "cell_type": "markdown",
   "metadata": {},
   "source": [
    "    g. (5 points) Plot the data in principal component space and discuss insights obtained."
   ]
  },
  {
   "cell_type": "code",
   "execution_count": null,
   "metadata": {},
   "outputs": [],
   "source": []
  },
  {
   "attachments": {},
   "cell_type": "markdown",
   "metadata": {},
   "source": [
    "## 2. \n",
    "(50 points) Examine the standardized variance-covariance matrix (i.e., the correlation matrix) given below, and apply factor analysis utilizing the Principal Component method shown in class (i.e., matrix multiplication not scikit learn) (20 points for correct application).\n",
    "\n",
    "$$\n",
    "\\sum = \n",
    "\\overset{\\quad\\qquad \\#pushups\\ \\#pullups\\ \\#squats\\ \\#lunges}{\n",
    "\\begin{matrix} \\scriptsize{\\#pushups} \\\\ \\scriptsize{\\#pullups} \\\\ \\scriptsize{\\#squats} \\\\ \\scriptsize{\\#lunges} \\end{matrix}\n",
    "\\begin{bmatrix}\n",
    "1.00 & 0.58 & 0.18 & 0.05 \\\\\n",
    "0.58 & 1.00 & 0.02 & 0.01 \\\\\n",
    "0.18 & 0.02 & 1.00 & 0.75 \\\\\n",
    "0.05 & 0.01 & 0.75 & 1.00 \n",
    "\\end{bmatrix}}\n",
    "$$"
   ]
  },
  {
   "attachments": {},
   "cell_type": "markdown",
   "metadata": {},
   "source": [
    "    a. (5 points) What insights can you obtain from examining Σ?"
   ]
  },
  {
   "attachments": {},
   "cell_type": "markdown",
   "metadata": {},
   "source": [
    "    b. (5 points) What eigenvalues does eigen decomposition yield?"
   ]
  },
  {
   "attachments": {},
   "cell_type": "markdown",
   "metadata": {},
   "source": [
    "    c. (5 points) Calculate the factor loadings, common variance matrix, and uniqueness matrix for d=2 (i.e., 2 factors)."
   ]
  },
  {
   "attachments": {},
   "cell_type": "markdown",
   "metadata": {},
   "source": [
    "    d. (5 points) Compute the communalities."
   ]
  },
  {
   "attachments": {},
   "cell_type": "markdown",
   "metadata": {},
   "source": [
    "    e. (5 points) What percentage of the total variance is accounted for by factor 1, by factor 2?"
   ]
  },
  {
   "attachments": {},
   "cell_type": "markdown",
   "metadata": {},
   "source": [
    "    f. (5 points) Determine appropriate names for the factors."
   ]
  }
 ],
 "metadata": {
  "kernelspec": {
   "display_name": "Python 3",
   "language": "python",
   "name": "python3"
  },
  "language_info": {
   "codemirror_mode": {
    "name": "ipython",
    "version": 3
   },
   "file_extension": ".py",
   "mimetype": "text/x-python",
   "name": "python",
   "nbconvert_exporter": "python",
   "pygments_lexer": "ipython3",
   "version": "3.9.6"
  },
  "orig_nbformat": 4
 },
 "nbformat": 4,
 "nbformat_minor": 2
}
