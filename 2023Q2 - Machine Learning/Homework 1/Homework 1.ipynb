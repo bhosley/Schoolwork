{
 "cells": [
  {
   "cell_type": "markdown",
   "metadata": {},
   "source": [
    "# OPER 685 - Machine Learning I\n",
    "## Homework 1\n",
    "## Brandon Hosley"
   ]
  },
  {
   "cell_type": "code",
   "execution_count": 1,
   "metadata": {},
   "outputs": [],
   "source": [
    "%load_ext ipydex.displaytools\n",
    "import pandas as pd\n",
    "import numpy as np\n",
    "import seaborn as sns\n",
    "import matplotlib.pyplot as plt\n",
    "\n"
   ]
  },
  {
   "attachments": {},
   "cell_type": "markdown",
   "metadata": {},
   "source": [
    "## 1. \n",
    "(50 Points) Apply principal component analysis to the breast cancer data set   Download breast cancer data set . The data set contains 569 multi-variate samples. Each sample consists of 30 input features and has one of two potential labels (i.e., benign (0) and malignant (1)) associated with it."
   ]
  },
  {
   "cell_type": "code",
   "execution_count": 2,
   "metadata": {},
   "outputs": [],
   "source": [
    "df = pd.read_csv('breast cancer.csv', sep=',') # read in the data set"
   ]
  },
  {
   "attachments": {},
   "cell_type": "markdown",
   "metadata": {},
   "source": [
    "    a. (5 points) What are the eigenvalues associated with the first 10 principal components?"
   ]
  },
  {
   "cell_type": "code",
   "execution_count": 3,
   "metadata": {},
   "outputs": [
    {
     "data": {
      "text/plain": [
       "(eigVals[:10]) := \n",
       "array([13.94227406,  5.73643378,  2.85186154,  2.00188139,  1.66199949,\n",
       "        1.20963379,  0.68592465,  0.48570906,  0.4176288 ,  0.35151141])"
      ]
     },
     "metadata": {},
     "output_type": "display_data"
    },
    {
     "data": {
      "text/plain": [
       "---"
      ]
     },
     "metadata": {},
     "output_type": "display_data"
    }
   ],
   "source": [
    "from sklearn.preprocessing import StandardScaler\n",
    "\n",
    "df1 = pd.DataFrame(StandardScaler().fit(df).transform(df))\n",
    "\n",
    "cov1 = df1.cov()\n",
    "eigVals, eigVecs = np.linalg.eig(cov1)\n",
    "\n",
    "eigVals[:10] ##:"
   ]
  },
  {
   "attachments": {},
   "cell_type": "markdown",
   "metadata": {},
   "source": [
    "    b. (5 points) Which eigenvalues satisfy Kaiser’s criterion?"
   ]
  },
  {
   "cell_type": "code",
   "execution_count": 4,
   "metadata": {},
   "outputs": [
    {
     "data": {
      "text/plain": [
       "(np.sum(eigVals > 1)) := 6"
      ]
     },
     "metadata": {},
     "output_type": "display_data"
    },
    {
     "data": {
      "text/plain": [
       "---"
      ]
     },
     "metadata": {},
     "output_type": "display_data"
    }
   ],
   "source": [
    "np.sum(eigVals > 1) ##:"
   ]
  },
  {
   "attachments": {},
   "cell_type": "markdown",
   "metadata": {},
   "source": [
    "The first 6 eigenvalues satisfy Kaiser's criterion."
   ]
  },
  {
   "cell_type": "code",
   "execution_count": 5,
   "metadata": {},
   "outputs": [
    {
     "data": {
      "text/plain": [
       "(eigVals[:6]) := \n",
       "array([13.94227406,  5.73643378,  2.85186154,  2.00188139,  1.66199949,\n",
       "        1.20963379])"
      ]
     },
     "metadata": {},
     "output_type": "display_data"
    },
    {
     "data": {
      "text/plain": [
       "---"
      ]
     },
     "metadata": {},
     "output_type": "display_data"
    }
   ],
   "source": [
    "eigVals[:6] ##:"
   ]
  },
  {
   "attachments": {},
   "cell_type": "markdown",
   "metadata": {},
   "source": [
    "    c. (5 points) Which eigenvalues satisfy Jolliffe’s criterion?"
   ]
  },
  {
   "cell_type": "code",
   "execution_count": 6,
   "metadata": {},
   "outputs": [
    {
     "data": {
      "text/plain": [
       "(np.sum(eigVals > (0.7* np.average(eigVals)))) := 6"
      ]
     },
     "metadata": {},
     "output_type": "display_data"
    },
    {
     "data": {
      "text/plain": [
       "---"
      ]
     },
     "metadata": {},
     "output_type": "display_data"
    },
    {
     "data": {
      "text/plain": [
       "(np.average(eigVals)) := 1.0017605633802829"
      ]
     },
     "metadata": {},
     "output_type": "display_data"
    },
    {
     "data": {
      "text/plain": [
       "---"
      ]
     },
     "metadata": {},
     "output_type": "display_data"
    },
    {
     "data": {
      "text/plain": [
       "(eigVals[:6]) := \n",
       "array([13.94227406,  5.73643378,  2.85186154,  2.00188139,  1.66199949,\n",
       "        1.20963379])"
      ]
     },
     "metadata": {},
     "output_type": "display_data"
    },
    {
     "data": {
      "text/plain": [
       "---"
      ]
     },
     "metadata": {},
     "output_type": "display_data"
    }
   ],
   "source": [
    "np.sum(eigVals > (0.7* np.average(eigVals))) ##:\n",
    "np.average(eigVals) ##:\n",
    "\n",
    "eigVals[:6] ##:"
   ]
  },
  {
   "attachments": {},
   "cell_type": "markdown",
   "metadata": {},
   "source": [
    "The first 6 eigenvalue satisfies Jolliffe's criterion."
   ]
  },
  {
   "attachments": {},
   "cell_type": "markdown",
   "metadata": {},
   "source": [
    "    d. (5 points) Generate (and show) a scree plot and discuss any insights you obtain."
   ]
  },
  {
   "cell_type": "code",
   "execution_count": 7,
   "metadata": {},
   "outputs": [
    {
     "data": {
      "text/plain": [
       "<AxesSubplot:>"
      ]
     },
     "execution_count": 7,
     "metadata": {},
     "output_type": "execute_result"
    },
    {
     "data": {
      "image/png": "[encoded data removed]",
      "text/plain": [
       "<Figure size 640x480 with 1 Axes>"
      ]
     },
     "metadata": {},
     "output_type": "display_data"
    }
   ],
   "source": [
    "sns.lineplot(eigVals)\n",
    "sns.scatterplot(eigVals)"
   ]
  },
  {
   "attachments": {},
   "cell_type": "markdown",
   "metadata": {},
   "source": [
    "The improvement on explanation power becomes subject to significant diminishing returns around the 5 $\\pm$ 1 range. This is also consistent with the values specified by the criteria above."
   ]
  },
  {
   "attachments": {},
   "cell_type": "markdown",
   "metadata": {},
   "source": [
    "    e. (5 points) What percentage of the total variance is accounted for by the first two principal components?"
   ]
  },
  {
   "cell_type": "code",
   "execution_count": 8,
   "metadata": {},
   "outputs": [
    {
     "data": {
      "text/plain": [
       "0.7255152452459434"
      ]
     },
     "execution_count": 8,
     "metadata": {},
     "output_type": "execute_result"
    }
   ],
   "source": [
    "from sklearn.decomposition import PCA\n",
    "\n",
    "pca = PCA(n_components=10)\n",
    "df_components = pca.fit_transform(df1)\n",
    "pc_df = pd.DataFrame(df_components, columns=['PC'+str(i) for i in range(1,df_components.shape[1]+1)])\n",
    "pc_df['label'] = df['label'].astype('category')\n",
    "\n",
    "pca.explained_variance_ratio_\n",
    "np.sum(pca.explained_variance_ratio_[:3])"
   ]
  },
  {
   "attachments": {},
   "cell_type": "markdown",
   "metadata": {},
   "source": [
    "72.55152452459436 % of total variance is explained by the first two components."
   ]
  },
  {
   "attachments": {},
   "cell_type": "markdown",
   "metadata": {},
   "source": [
    "    f. (5 points) What percentage of the total variance is accounted for by the first three principal components?"
   ]
  },
  {
   "cell_type": "code",
   "execution_count": 9,
   "metadata": {},
   "outputs": [
    {
     "data": {
      "text/plain": [
       "(np.sum(pca.explained_variance_ratio_[:4])) := 0.7899785724869541"
      ]
     },
     "metadata": {},
     "output_type": "display_data"
    },
    {
     "data": {
      "text/plain": [
       "---"
      ]
     },
     "metadata": {},
     "output_type": "display_data"
    }
   ],
   "source": [
    "np.sum(pca.explained_variance_ratio_[:4]) ##:"
   ]
  },
  {
   "attachments": {},
   "cell_type": "markdown",
   "metadata": {},
   "source": [
    "78.99785724869544 % of the total variance is explained by the first three components."
   ]
  },
  {
   "cell_type": "markdown",
   "metadata": {},
   "source": []
  },
  {
   "attachments": {},
   "cell_type": "markdown",
   "metadata": {},
   "source": [
    "    g. (5 points) Plot the data in principal component space and discuss insights obtained."
   ]
  },
  {
   "cell_type": "code",
   "execution_count": 10,
   "metadata": {},
   "outputs": [
    {
     "data": {
      "text/plain": [
       "Text(0.5, 1.0, 'Principle Components and Cancer Diagnosis')"
      ]
     },
     "execution_count": 10,
     "metadata": {},
     "output_type": "execute_result"
    },
    {
     "data": {
      "image/png": "[encoded data removed]",
      "text/plain": [
       "<Figure size 640x480 with 1 Axes>"
      ]
     },
     "metadata": {},
     "output_type": "display_data"
    }
   ],
   "source": [
    "sns.scatterplot(data = pc_df, x = 'PC1', y = 'PC2', hue = 'label')\n",
    "plt.legend(loc='upper right')\n",
    "plt.title('Principle Components and Cancer Diagnosis')"
   ]
  },
  {
   "attachments": {},
   "cell_type": "markdown",
   "metadata": {},
   "source": [
    "## 2. \n",
    "(50 points) Examine the standardized variance-covariance matrix (i.e., the correlation matrix) given below, and apply factor analysis utilizing the Principal Component method shown in class (i.e., matrix multiplication not scikit learn) (20 points for correct application).\n",
    "\n",
    "$$\n",
    "\\sum = \n",
    "\\overset{\\quad\\qquad \\#pushups\\ \\#pullups\\ \\#squats\\ \\#lunges}{\n",
    "\\begin{matrix} \\scriptsize{\\#pushups} \\\\ \\scriptsize{\\#pullups} \\\\ \\scriptsize{\\#squats} \\\\ \\scriptsize{\\#lunges} \\end{matrix}\n",
    "\\begin{bmatrix}\n",
    "1.00 & 0.58 & 0.18 & 0.05 \\\\\n",
    "0.58 & 1.00 & 0.02 & 0.01 \\\\\n",
    "0.18 & 0.02 & 1.00 & 0.75 \\\\\n",
    "0.05 & 0.01 & 0.75 & 1.00 \n",
    "\\end{bmatrix}}\n",
    "$$"
   ]
  },
  {
   "attachments": {},
   "cell_type": "markdown",
   "metadata": {},
   "source": [
    "    a. (5 points) What insights can you obtain from examining Σ?"
   ]
  },
  {
   "attachments": {},
   "cell_type": "markdown",
   "metadata": {},
   "source": [
    "There appears to be notable correlation between pushups and pullups and between squats and lunges."
   ]
  },
  {
   "attachments": {},
   "cell_type": "markdown",
   "metadata": {},
   "source": [
    "    b. (5 points) What eigenvalues does eigen decomposition yield?"
   ]
  },
  {
   "cell_type": "code",
   "execution_count": 11,
   "metadata": {},
   "outputs": [
    {
     "data": {
      "text/plain": [
       "(eigVals_f, eigVecs_f) := (array([1.82670207, 1.51448922, 0.43203844, 0.22677028]),\n",
       " array([[ 0.37747404,  0.59442823,  0.66308202,  0.2539501 ],\n",
       "        [ 0.28760727,  0.65141738, -0.67832897, -0.18112777],\n",
       "        [ 0.6386683 , -0.29861728,  0.16799588, -0.6889905 ],\n",
       "        [ 0.60572124, -0.36488107, -0.26827118,  0.65421263]]))"
      ]
     },
     "metadata": {},
     "output_type": "display_data"
    },
    {
     "data": {
      "text/plain": [
       "---"
      ]
     },
     "metadata": {},
     "output_type": "display_data"
    }
   ],
   "source": [
    "sigma = np.array([[1.00,0.58,0.18,0.05],\n",
    "                    [0.58,1.00,0.02,0.01],\n",
    "                    [0.18,0.02,1.00,0.75],\n",
    "                    [0.05,0.01,0.75,1.00]])\n",
    "\n",
    "eigVals_f, eigVecs_f = np.linalg.eig(sigma) ##:"
   ]
  },
  {
   "attachments": {},
   "cell_type": "markdown",
   "metadata": {},
   "source": [
    "    c. (5 points) Calculate the factor loadings, common variance matrix, and uniqueness matrix for d=2 (i.e., 2 factors)."
   ]
  },
  {
   "cell_type": "code",
   "execution_count": 12,
   "metadata": {},
   "outputs": [
    {
     "data": {
      "text/plain": [
       "factor_loadings := \n",
       "array([[ 0.51017709,  0.38871716,  0.8631956 ,  0.81866582],\n",
       "       [ 0.73153064,  0.8016641 , -0.36749212, -0.44903937]])"
      ]
     },
     "metadata": {},
     "output_type": "display_data"
    },
    {
     "data": {
      "text/plain": [
       "---"
      ]
     },
     "metadata": {},
     "output_type": "display_data"
    },
    {
     "data": {
      "text/plain": [
       "com_var := array([[ 0.79541774,  0.78475644,  0.17155087,  0.08917849],\n",
       "                  [ 0.78475644,  0.79376636,  0.04093371, -0.04174929],\n",
       "                  [ 0.17155087,  0.04093371,  0.8801571 ,  0.87168716],\n",
       "                  [ 0.08917849, -0.04174929,  0.87168716,  0.87185009]])"
      ]
     },
     "metadata": {},
     "output_type": "display_data"
    },
    {
     "data": {
      "text/plain": [
       "---"
      ]
     },
     "metadata": {},
     "output_type": "display_data"
    },
    {
     "data": {
      "text/plain": [
       "uniqueness := array([[0.20458226],\n",
       "                     [0.20623364],\n",
       "                     [0.1198429 ],\n",
       "                     [0.12814991]])"
      ]
     },
     "metadata": {},
     "output_type": "display_data"
    },
    {
     "data": {
      "text/plain": [
       "---"
      ]
     },
     "metadata": {},
     "output_type": "display_data"
    }
   ],
   "source": [
    "d = 2\n",
    "E = eigVals_f[:d]*np.eye(d)\n",
    "V = eigVecs_f.T[:d]\n",
    "Lam = E**0.5@V\n",
    "Psi = np.eye(np.shape(V)[1]) - np.diag(np.diag(Lam.T@Lam))\n",
    "\n",
    "factor_loadings = Lam ##:\n",
    "com_var = Lam.T@Lam ##:\n",
    "uniqueness = Psi @ np.ones((np.shape(Psi)[1],1)) ##:\n"
   ]
  },
  {
   "attachments": {},
   "cell_type": "markdown",
   "metadata": {},
   "source": [
    "    d. (5 points) Compute the communalities."
   ]
  },
  {
   "cell_type": "code",
   "execution_count": 13,
   "metadata": {},
   "outputs": [
    {
     "data": {
      "text/plain": [
       "communalities := array([[0.79541774],\n",
       "                        [0.79376636],\n",
       "                        [0.8801571 ],\n",
       "                        [0.87185009]])"
      ]
     },
     "metadata": {},
     "output_type": "display_data"
    },
    {
     "data": {
      "text/plain": [
       "---"
      ]
     },
     "metadata": {},
     "output_type": "display_data"
    }
   ],
   "source": [
    "communalities = Lam.T**2 @np.ones((np.shape(Lam)[0],1)) ##:"
   ]
  },
  {
   "attachments": {},
   "cell_type": "markdown",
   "metadata": {},
   "source": [
    "    e. (5 points) What percentage of the total variance is accounted for by factor 1, by factor 2?"
   ]
  },
  {
   "cell_type": "code",
   "execution_count": 14,
   "metadata": {},
   "outputs": [
    {
     "data": {
      "text/plain": [
       "s := array([[1.82670207],\n",
       "            [1.51448922]])"
      ]
     },
     "metadata": {},
     "output_type": "display_data"
    },
    {
     "data": {
      "text/plain": [
       "---"
      ]
     },
     "metadata": {},
     "output_type": "display_data"
    },
    {
     "data": {
      "text/plain": [
       "(s / (np.sum(s) + np.sum(Psi))) := array([[0.45667552],\n",
       "                                          [0.3786223 ]])"
      ]
     },
     "metadata": {},
     "output_type": "display_data"
    },
    {
     "data": {
      "text/plain": [
       "---"
      ]
     },
     "metadata": {},
     "output_type": "display_data"
    }
   ],
   "source": [
    "s = Lam**2 @ np.ones((np.shape(Lam)[1],1)) ##:\n",
    "s / (np.sum(s) + np.sum(Psi)) ##:"
   ]
  },
  {
   "attachments": {},
   "cell_type": "markdown",
   "metadata": {},
   "source": [
    "Factor 1 explains approximately 45.667552% of total variance, and Factor 2 explains approximately 37.86223% of total variance."
   ]
  },
  {
   "attachments": {},
   "cell_type": "markdown",
   "metadata": {},
   "source": [
    "    f. (5 points) Determine appropriate names for the factors."
   ]
  },
  {
   "attachments": {},
   "cell_type": "markdown",
   "metadata": {},
   "source": [
    "F1: upper-body fitness and F2: lower-body fitness."
   ]
  }
 ],
 "metadata": {
  "kernelspec": {
   "display_name": "Python 3",
   "language": "python",
   "name": "python3"
  },
  "language_info": {
   "codemirror_mode": {
    "name": "ipython",
    "version": 3
   },
   "file_extension": ".py",
   "mimetype": "text/x-python",
   "name": "python",
   "nbconvert_exporter": "python",
   "pygments_lexer": "ipython3",
   "version": "3.9.6"
  },
  "orig_nbformat": 4
 },
 "nbformat": 4,
 "nbformat_minor": 2
}
