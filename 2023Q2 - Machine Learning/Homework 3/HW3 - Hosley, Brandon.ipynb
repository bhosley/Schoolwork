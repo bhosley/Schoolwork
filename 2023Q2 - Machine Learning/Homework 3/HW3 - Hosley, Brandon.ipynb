{
 "cells": [
  {
   "attachments": {},
   "cell_type": "markdown",
   "metadata": {},
   "source": [
    "#\n",
    "##\n",
    "##"
   ]
  },
  {
   "cell_type": "code",
   "execution_count": 2,
   "metadata": {},
   "outputs": [],
   "source": [
    "%load_ext ipydex.displaytools\n",
    "import pandas as pd\n",
    "import numpy as np\n",
    "import seaborn as sns"
   ]
  },
  {
   "attachments": {},
   "cell_type": "markdown",
   "metadata": {},
   "source": [
    "## 1. (50 points) \n",
    "The file flight_delays.csv contains data on more than 2K flights. Each data point contains six features: scheduled departure hour, carrier, destination, origin, weather (i.e., raining, snowing, etc), day of the week, and day of the month. Each feature is measured on a nominal scale. Each data point also contains one response variable: flight status. Apply the Naïve Bayes formula to the entire data set (25 points for correct application) and address the comments and questions given below."
   ]
  },
  {
   "cell_type": "code",
   "execution_count": 12,
   "metadata": {},
   "outputs": [
    {
     "data": {
      "text/plain": [
       "0       OH\n",
       "1       DH\n",
       "2       DH\n",
       "3       DH\n",
       "4       DH\n",
       "        ..\n",
       "2196    RU\n",
       "2197    RU\n",
       "2198    RU\n",
       "2199    RU\n",
       "2200    RU\n",
       "Name: CARRIER, Length: 2201, dtype: object"
      ]
     },
     "execution_count": 12,
     "metadata": {},
     "output_type": "execute_result"
    }
   ],
   "source": [
    "delays_df = pd.read_csv('flight_delays.csv', usecols=range(8))\n",
    "delays_df.head()\n",
    "#delays_df.iloc[1]\n",
    "delays_df.iloc[:,1]\n",
    "\n",
    "# for each column\n",
    "# for each distinct \n",
    "\n",
    "#for i in delays_df:\n",
    "#    return 0"
   ]
  },
  {
   "attachments": {},
   "cell_type": "markdown",
   "metadata": {},
   "source": [
    "### A. (10 points) \n",
    "Compute and show the confusion matrix."
   ]
  },
  {
   "attachments": {},
   "cell_type": "markdown",
   "metadata": {},
   "source": [
    "### B. (5 points) \n",
    "What insights can you obtain from the confusion matrix? (Ensure you are using proper terminology and augmenting the terminology with \"clear-text\" explanations) "
   ]
  },
  {
   "attachments": {},
   "cell_type": "markdown",
   "metadata": {},
   "source": [
    "### C. (5 points)\n",
    "Suppose your upcoming flight has the following features:\n",
    "|   |   |\n",
    "|---|---|\n",
    "| Scheduled departure hour: | 1600 |\n",
    "| Carrier: | US |\n",
    "| Destination: | LGA |\n",
    "| Origin: | DCA |\n",
    "| Weather: | yes (i.e.,1) |\n",
    "| Day of the week:| 6 |\n",
    "| Day of the month:| 1 |\n",
    "\n",
    "Using the historical data and the Naïve Bayes formula, do you think your flight will be on time or delayed?"
   ]
  },
  {
   "attachments": {},
   "cell_type": "markdown",
   "metadata": {},
   "source": [
    "### D. (5 points) \n",
    "What is the probability associated with your prediction?"
   ]
  },
  {
   "attachments": {},
   "cell_type": "markdown",
   "metadata": {},
   "source": [
    "## Problem 2.\n",
    "(50 points) The file wine.csv contains data on the results of a chemical analysis of 178 wines grown in the same region in Italy but derived from three different cultivars. The analysis determined the quantities of 13 constituents (i.e., features) found in each of the three types of wines. The 13 features are: Alcohol, Malic Acid, Ash, Alcalinity, Magnesium, Total Phenols, Flavanoids, Nonflavoniod Phenols, Proanthocyanins, Color Intensity, Hue, OB280, and Proline. The 14th column is a labeled category stating which of the three cultivars the wine belongs to.   \n",
    "\n",
    "(20 points for correct application) Apply the k-NN algorithm to the data and address the comments and questions given below."
   ]
  },
  {
   "attachments": {},
   "cell_type": "markdown",
   "metadata": {},
   "source": [
    "### A. (10 points) \n",
    "Find a good value for k.   Defend your choice using appropriate methodologies. "
   ]
  },
  {
   "attachments": {},
   "cell_type": "markdown",
   "metadata": {},
   "source": [
    "### B. (10 points) \n",
    "Compute and show the confusion matrix."
   ]
  },
  {
   "attachments": {},
   "cell_type": "markdown",
   "metadata": {},
   "source": [
    "### C. (5 points) \n",
    "What insights can you obtain from the confusion matrix? (Ensure you are using proper terminology and augmenting the terminology with \"clear-text\" explanations) "
   ]
  },
  {
   "attachments": {},
   "cell_type": "markdown",
   "metadata": {},
   "source": [
    "### D. (5 points) \n",
    "Predict the wine cultivar of the following sample point:\n",
    "Xsample= [11.96   1.63   2.43   17.1   93   2.8   2.74   0.53   1.46   2.6   0.99   3.69   880]"
   ]
  }
 ],
 "metadata": {
  "kernelspec": {
   "display_name": "Python 3",
   "language": "python",
   "name": "python3"
  },
  "language_info": {
   "codemirror_mode": {
    "name": "ipython",
    "version": 3
   },
   "file_extension": ".py",
   "mimetype": "text/x-python",
   "name": "python",
   "nbconvert_exporter": "python",
   "pygments_lexer": "ipython3",
   "version": "3.9.6"
  },
  "orig_nbformat": 4
 },
 "nbformat": 4,
 "nbformat_minor": 2
}
