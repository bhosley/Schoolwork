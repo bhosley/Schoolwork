{
 "cells": [
  {
   "cell_type": "markdown",
   "id": "a18bc164",
   "metadata": {},
   "source": [
    "# OPER 610 - Brandon Hosley    Problem 1.2 (Phase 2)    Due Jan 17 2023"
   ]
  },
  {
   "cell_type": "markdown",
   "id": "cd697c9b",
   "metadata": {},
   "source": [
    "## Preparation"
   ]
  },
  {
   "cell_type": "code",
   "execution_count": 1,
   "id": "0df8622f",
   "metadata": {},
   "outputs": [],
   "source": [
    "from pyomo.environ import * \n",
    "from pyomo.opt import SolverFactory\n",
    "\n",
    "model = ConcreteModel()"
   ]
  },
  {
   "cell_type": "markdown",
   "id": "e07769ff",
   "metadata": {},
   "source": [
    "## Variables and Coefficients"
   ]
  },
  {
   "cell_type": "code",
   "execution_count": 2,
   "id": "7a5c5e45",
   "metadata": {},
   "outputs": [],
   "source": [
    "model.costs={'Compound1':20,'Compound2':30,'Compound3':20,'Compound4':15}\n",
    "model.j=model.costs.keys()\n",
    "model.compositions={'ElementA': {'Compound1':0.35,'Compound2':0.15,'Compound3':0.35,'Compound4':0.25},\n",
    "                    'ElementB': {'Compound1':0.20,'Compound2':0.65,'Compound3':0.35,'Compound4':0.40},\n",
    "                    'ElementC': {'Compound1':0.40,'Compound2':0.15,'Compound3':0.25,'Compound4':0.30}}\n",
    "model.x = Var(model.j, domain = NonNegativeReals)"
   ]
  },
  {
   "cell_type": "markdown",
   "id": "f4d06339",
   "metadata": {},
   "source": [
    "## Objective Function"
   ]
  },
  {
   "cell_type": "code",
   "execution_count": 5,
   "id": "529f8bfe",
   "metadata": {},
   "outputs": [],
   "source": [
    "model.objective = Objective(expr=sum(model.costs[j]*model.x[j] for j in model.j), sense=minimize)"
   ]
  },
  {
   "cell_type": "markdown",
   "id": "0c10321e",
   "metadata": {},
   "source": [
    "## Constraints "
   ]
  },
  {
   "cell_type": "code",
   "execution_count": 6,
   "id": "8c83590b",
   "metadata": {},
   "outputs": [
    {
     "data": {
      "text/plain": [
       "<pyomo.core.base.constraint._GeneralConstraintData at 0x7fb1c252dc40>"
      ]
     },
     "execution_count": 6,
     "metadata": {},
     "output_type": "execute_result"
    }
   ],
   "source": [
    "model.constraints=ConstraintList()\n",
    "model.constraints.add(sum(model.x[j] for j in model.j) == 1)                               # Ensure Percentage sums to 1\n",
    "model.constraints.add(sum(model.compositions['ElementA'][j]*model.x[j] for j in model.j) == 0.25) # Percentage Compound A\n",
    "model.constraints.add(sum(model.compositions['ElementB'][j]*model.x[j] for j in model.j) >= 0.35) # Percentage Compound B\n",
    "model.constraints.add(sum(model.compositions['ElementC'][j]*model.x[j] for j in model.j) >= 0.20) # Percentage Compound C\n",
    "model.constraints.add(model.x['Compound1'] >= 0.25)\n",
    "model.constraints.add(model.x['Compound2'] >= 0.30)"
   ]
  },
  {
   "cell_type": "markdown",
   "id": "923ee864",
   "metadata": {},
   "source": [
    "## Solve"
   ]
  },
  {
   "cell_type": "code",
   "execution_count": 7,
   "id": "5fd089d6",
   "metadata": {},
   "outputs": [
    {
     "name": "stdout",
     "output_type": "stream",
     "text": [
      "        0.01 seconds required to write file\n",
      "        0.05 seconds required for presolve\n",
      "GLPSOL: GLPK LP/MIP Solver, v4.65\n",
      "Parameter(s) specified in the command line:\n",
      " --write /var/folders/8h/pt6dnpv520d200zx4xc71ld80000gn/T/tmp6uz6vqxe.glpk.raw\n",
      " --wglp /var/folders/8h/pt6dnpv520d200zx4xc71ld80000gn/T/tmpsslh7100.glpk.glp\n",
      " --cpxlp /var/folders/8h/pt6dnpv520d200zx4xc71ld80000gn/T/tmpbrdpo7d2.pyomo.lp\n",
      "Reading problem data from '/var/folders/8h/pt6dnpv520d200zx4xc71ld80000gn/T/tmpbrdpo7d2.pyomo.lp'...\n",
      "7 rows, 5 columns, 19 non-zeros\n",
      "56 lines were read\n",
      "Writing problem data to '/var/folders/8h/pt6dnpv520d200zx4xc71ld80000gn/T/tmpsslh7100.glpk.glp'...\n",
      "45 lines were written\n",
      "GLPK Simplex Optimizer, v4.65\n",
      "7 rows, 5 columns, 19 non-zeros\n",
      "Preprocessing...\n",
      "4 rows, 4 columns, 16 non-zeros\n",
      "Scaling...\n",
      " A: min|aij| =  1.500e-01  max|aij| =  1.000e+00  ratio =  6.667e+00\n",
      "Problem data seem to be well scaled\n",
      "Constructing initial basis...\n",
      "Size of triangular part is 3\n",
      "      0: obj =   2.075000000e+01 inf =   5.000e-03 (1)\n",
      "      1: obj =   2.100000000e+01 inf =   0.000e+00 (0)\n",
      "OPTIMAL LP SOLUTION FOUND\n",
      "Time used:   0.0 secs\n",
      "Memory used: 0.0 Mb (40436 bytes)\n",
      "Writing basic solution to '/var/folders/8h/pt6dnpv520d200zx4xc71ld80000gn/T/tmp6uz6vqxe.glpk.raw'...\n",
      "21 lines were written\n",
      "        0.03 seconds required for solver\n",
      "        0.00 seconds required to read logfile \n",
      "        0.00 seconds required to read solution file \n",
      "        0.00 seconds required for postsolve\n"
     ]
    }
   ],
   "source": [
    "solver = SolverFactory('glpk')\n",
    "sol = solver.solve(model, report_timing=True, tee=True)"
   ]
  },
  {
   "cell_type": "markdown",
   "id": "4d7f3412",
   "metadata": {},
   "source": [
    "## Results"
   ]
  },
  {
   "cell_type": "code",
   "execution_count": 9,
   "id": "07edef27",
   "metadata": {},
   "outputs": [
    {
     "name": "stdout",
     "output_type": "stream",
     "text": [
      "The solver terminated with the following decision variable values:\n",
      "   Compound1 0.30\n",
      "   Compound2 0.30\n",
      "   Compound4 0.40\n"
     ]
    }
   ],
   "source": [
    "print(\"The solver terminated with the following decision variable values:\")              \n",
    "for j in model.j:\n",
    "    if(value(model.x[j])>0):\n",
    "       print(\"  \", j, format(value(model.x[j]),\".2f\"))"
   ]
  },
  {
   "cell_type": "code",
   "execution_count": null,
   "id": "81102063",
   "metadata": {},
   "outputs": [],
   "source": []
  }
 ],
 "metadata": {
  "kernelspec": {
   "display_name": "Python 3 (ipykernel)",
   "language": "python",
   "name": "python3"
  },
  "language_info": {
   "codemirror_mode": {
    "name": "ipython",
    "version": 3
   },
   "file_extension": ".py",
   "mimetype": "text/x-python",
   "name": "python",
   "nbconvert_exporter": "python",
   "pygments_lexer": "ipython3",
   "version": "3.9.12"
  }
 },
 "nbformat": 4,
 "nbformat_minor": 5
}
