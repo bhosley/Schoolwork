{
 "cells": [
  {
   "cell_type": "code",
   "execution_count": 4,
   "metadata": {},
   "outputs": [],
   "source": [
    "from pyomo.environ import * \n",
    "from pyomo.opt import SolverFactory\n",
    "\n",
    "SEED = 7\n",
    "m = ConcreteModel()"
   ]
  },
  {
   "cell_type": "code",
   "execution_count": null,
   "metadata": {},
   "outputs": [],
   "source": [
    "## Generator"
   ]
  },
  {
   "cell_type": "code",
   "execution_count": 3,
   "metadata": {},
   "outputs": [],
   "source": [
    "m.I = Set()\n",
    "m.J = Set()\n",
    "m.K = Set()"
   ]
  },
  {
   "cell_type": "code",
   "execution_count": null,
   "metadata": {},
   "outputs": [],
   "source": [
    "m.x1 = Var(m.I, m.K, domain = NonNegativeReals)\n",
    "m.x2 = Var(m.K, m.J, domain = NonNegativeReals)\n",
    "m.y  = Var(m.K, domain = Boolean)"
   ]
  },
  {
   "cell_type": "code",
   "execution_count": null,
   "metadata": {},
   "outputs": [],
   "source": [
    "m.a  = Param(m.J, domain = NonNegativeReals)\n",
    "m.b  = Param(m.J, domain = NonNegativeReals)\n",
    "m.c1 = Param(m.I, m.K, domain = NonNegativeReals)\n",
    "m.c2 = Param(m.K, m.J, domain = NonNegativeReals)\n",
    "m.f  = Param(m.K, domain = NonNegativeReals)\n",
    "m.q  = Param(m.K, domain = NonNegativeReals)"
   ]
  },
  {
   "cell_type": "code",
   "execution_count": null,
   "metadata": {},
   "outputs": [],
   "source": [
    "m.constraints=ConstraintList()\n",
    "\n",
    "def source_out(m,i):\n",
    "    return sum(m.x[i,k] for k in m.K) == m.a[i]\n",
    "m.constraints.add(m.I, rule = source_out)\n",
    "\n",
    "def process_in(m,k):\n",
    "    return sum(m.x[i,k] for i in m.I) == m.q[k]\n",
    "m.constraints.add(m.K, rule = process_in)\n",
    "\n",
    "def process_out(m,j):\n",
    "    return sum(m.x[k,j] for k in m.K) == m.b[j]\n",
    "m.constraints.add(m.J, rule = process_out)"
   ]
  },
  {
   "cell_type": "code",
   "execution_count": null,
   "metadata": {},
   "outputs": [],
   "source": [
    "def obj_expression():\n",
    "    sum = 0\n",
    "    for k in m.K:\n",
    "        sum += m.y[k]*m.f[k]\n",
    "        for i in m.I:\n",
    "            sum += m.x1[i,k]*m.c1[i,k]\n",
    "        for j in m.J:\n",
    "            sum += m.x2[k,j]*m.c2[k,j]\n",
    "    return sum\n",
    "\n",
    "m.objective = Objective(rule = obj_expression, sense=minimize)"
   ]
  },
  {
   "cell_type": "code",
   "execution_count": null,
   "metadata": {},
   "outputs": [],
   "source": [
    "solver = SolverFactory('glpk')\n",
    "sol = solver.solve(m, report_timing=True, tee=True)"
   ]
  },
  {
   "cell_type": "code",
   "execution_count": null,
   "metadata": {},
   "outputs": [],
   "source": [
    "print(\"The solver terminated with the following decision variable values:\")              \n",
    "for j in model.j:\n",
    "    if(value(model.x[j])>0):\n",
    "       print(\"  \", j, format(value(model.x[j]),\".2f\"))"
   ]
  }
 ],
 "metadata": {
  "kernelspec": {
   "display_name": "base",
   "language": "python",
   "name": "python3"
  },
  "language_info": {
   "codemirror_mode": {
    "name": "ipython",
    "version": 3
   },
   "file_extension": ".py",
   "mimetype": "text/x-python",
   "name": "python",
   "nbconvert_exporter": "python",
   "pygments_lexer": "ipython3",
   "version": "3.9.12"
  },
  "orig_nbformat": 4,
  "vscode": {
   "interpreter": {
    "hash": "17ced9d982b131692a84e2f262325acd6f876c7ae795612196415d04b360dfc7"
   }
  }
 },
 "nbformat": 4,
 "nbformat_minor": 2
}
