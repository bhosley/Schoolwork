{
 "cells": [
  {
   "cell_type": "code",
   "execution_count": 1,
   "metadata": {},
   "outputs": [],
   "source": [
    "from pyomo.environ import * \n",
    "from pyomo.opt import SolverFactory\n",
    "from random import *\n",
    "from math import pi,log\n",
    "\n",
    "SEED = 7\n",
    "seed(SEED)\n",
    "\"\"\"\n",
    "High and low values for generating coefficients for solving the problem.\n",
    "Please be aware that these are treated by the RRVGG as mere suggestions.\n",
    "Generally, it will not go below the low value, but it shouldn't be surprising\n",
    "if it returns values above the high value. praise azathoth.\n",
    "\"\"\"\n",
    "low = 8\n",
    "high = 20\n",
    "\n",
    "m = ConcreteModel()"
   ]
  },
  {
   "cell_type": "code",
   "execution_count": 2,
   "metadata": {},
   "outputs": [],
   "source": [
    "# Randomized random variate generator generator\n",
    "def rrvgg(low=5, high=20,\n",
    "          mode=None,mean=None,sd=None,mu=None,sigma=None,\n",
    "          alpha=None,bet=None,lambd=None,kappa=None,meanangle=None):\n",
    "    mean = mean or low + random()*(high-low)\n",
    "    mode = mode or low + 0.5*(high-low)\n",
    "    sd = sd or random()*low+log(low)\n",
    "    mu = log(low) \n",
    "    sigma = sigma or random()  \n",
    "    alpha = alpha or randint(1,low)/log(low)\n",
    "    bet = bet or randint(int(0.5*low),low)/log(low)\n",
    "    lambd = lambd or 1/mean\n",
    "    kappa = kappa or randint(ceil(log(low)),low)\n",
    "    meanangle = meanangle or mean%(pi)\n",
    "    variates = [\n",
    "        lambda _=0 : randint(low, high),\n",
    "        lambda _=0 : uniform(low, high),\n",
    "        lambda _=0 : triangular(low, high, mode),\n",
    "        lambda _=0 : betavariate(alpha, bet)*(high-low)+low, \n",
    "        lambda _=0 : min(expovariate(log(high-low)*lambd)+low,high), \n",
    "        lambda _=0 : gauss(mean+log(low),sd)+low, #5\n",
    "        lambda _=0 : lognormvariate(mu,sigma),\n",
    "        lambda _=0 : normalvariate(mean,sd),\n",
    "        lambda _=0 : vonmisesvariate(mu,kappa)*low,\n",
    "        lambda _=0 : paretovariate(mu)*low,\n",
    "        lambda _=0 : weibullvariate(mean, mu)+low]\n",
    "    cont = variates[ randint(0,len(variates)-1) ]\n",
    "    disc = lambda _=0 : ceil(cont())\n",
    "    return cont, disc\n",
    "\n",
    "cont,disc = rrvgg(low,high)"
   ]
  },
  {
   "cell_type": "code",
   "execution_count": 3,
   "metadata": {},
   "outputs": [],
   "source": [
    "m.I = Set(initialize=range(1,disc()))\n",
    "m.J = Set(initialize=range(1,disc()))\n",
    "m.K = Set(initialize=range(1,disc()))"
   ]
  },
  {
   "cell_type": "code",
   "execution_count": 4,
   "metadata": {},
   "outputs": [],
   "source": [
    "m.x1 = Var(m.I, m.K, domain = NonNegativeReals)\n",
    "m.x2 = Var(m.K, m.J, domain = NonNegativeReals)\n",
    "m.y  = Var(m.K, domain = Boolean)"
   ]
  },
  {
   "attachments": {},
   "cell_type": "markdown",
   "metadata": {},
   "source": [
    "Here we generate sets of coefficients and verify that they *should* be feasible."
   ]
  },
  {
   "cell_type": "code",
   "execution_count": 5,
   "metadata": {},
   "outputs": [
    {
     "name": "stdout",
     "output_type": "stream",
     "text": [
      "316    422    499   \n"
     ]
    }
   ],
   "source": [
    "A,Alpha,B,C1,C2,F,Q = {},{},{},{},{},{},{}\n",
    "for k in m.K:\n",
    "    for i in m.I:\n",
    "        C1[i,k] = disc()\n",
    "    for j in m.J:\n",
    "        C2[k,j] = disc()\n",
    "    F[k] = disc()\n",
    "    Alpha[k] = disc()\n",
    "\n",
    "for i in m.I:\n",
    "    A[i] = disc()\n",
    "n=0\n",
    "while (sum(B.values())<sum(A.values())):\n",
    "    n+=1\n",
    "    for j in m.J:\n",
    "        B[j] = n*disc()\n",
    "n=0\n",
    "while (sum(Q.values())<sum(A.values())):\n",
    "    n+=1\n",
    "    for k in m.K:\n",
    "        Q[k] = n*disc()    \n",
    "print(sum(A.values()), \"  \",sum(B.values()), \"  \",sum(Q.values()), \"  \",)\n",
    "\n",
    "m.a  = Param(m.I, initialize=A, domain = NonNegativeReals)\n",
    "m.alpha = Param(m.K, initialize=Alpha, domain = NonNegativeReals)\n",
    "m.b  = Param(m.J, initialize=B, domain = NonNegativeReals)\n",
    "m.c1 = Param(m.I, m.K, initialize=C1, domain = NonNegativeReals)\n",
    "m.c2 = Param(m.K, m.J, initialize=C2, domain = NonNegativeReals)\n",
    "m.f  = Param(m.K, initialize=F, domain = NonNegativeReals)\n",
    "m.q  = Param(m.K, initialize=Q, domain = NonNegativeReals)"
   ]
  },
  {
   "attachments": {},
   "cell_type": "markdown",
   "metadata": {},
   "source": [
    "Parameters"
   ]
  },
  {
   "cell_type": "code",
   "execution_count": 6,
   "metadata": {},
   "outputs": [],
   "source": [
    "def conservation(m,k):\n",
    "    return sum(m.x1[i,k] for i in m.I) == sum(m.x2[k,j] for j in m.J)\n",
    "m.conservation_constraint = Constraint(m.K, rule=conservation)\n",
    "\n",
    "def source_out(m,i):\n",
    "    return sum(m.x1[i,k] for k in m.K) == m.a[i]\n",
    "m.source_out_constraint = Constraint(m.I, rule=source_out)\n",
    "\n",
    "def process_in(m,k):\n",
    "    return sum(m.x1[i,k] for i in m.I) <= m.y[k]*m.q[k]\n",
    "m.process_in_constraint = Constraint(m.K, rule=process_in)\n",
    "\n",
    "def process_out(m,j):\n",
    "    return sum(m.x2[k,j] for k in m.K) <= m.b[j]\n",
    "m.process_out_constraint = Constraint(m.J, rule=process_out)\n"
   ]
  },
  {
   "attachments": {},
   "cell_type": "markdown",
   "metadata": {},
   "source": [
    "Defining the objective function"
   ]
  },
  {
   "cell_type": "code",
   "execution_count": 7,
   "metadata": {},
   "outputs": [],
   "source": [
    "def obj_expression(m):\n",
    "    sum = 0\n",
    "    for k in m.K:\n",
    "        sum += m.y[k]*m.f[k]\n",
    "        for i in m.I:\n",
    "            sum += m.x1[i,k]*(m.c1[i,k]+m.alpha[k])\n",
    "        for j in m.J:\n",
    "            sum += m.x2[k,j]*m.c2[k,j]\n",
    "    return sum\n",
    "\n",
    "m.objective = Objective(rule=obj_expression, sense=minimize)"
   ]
  },
  {
   "cell_type": "code",
   "execution_count": 8,
   "metadata": {},
   "outputs": [
    {
     "name": "stdout",
     "output_type": "stream",
     "text": [
      "        0.01 seconds required to write file\n",
      "        0.03 seconds required for presolve\n",
      "GLPSOL: GLPK LP/MIP Solver, v4.65\n",
      "Parameter(s) specified in the command line:\n",
      " --write /var/folders/8h/pt6dnpv520d200zx4xc71ld80000gn/T/tmpmul7wbqd.glpk.raw\n",
      " --wglp /var/folders/8h/pt6dnpv520d200zx4xc71ld80000gn/T/tmpekrpq0uy.glpk.glp\n",
      " --cpxlp /var/folders/8h/pt6dnpv520d200zx4xc71ld80000gn/T/tmp6e5vibfy.pyomo.lp\n",
      "Reading problem data from '/var/folders/8h/pt6dnpv520d200zx4xc71ld80000gn/T/tmp6e5vibfy.pyomo.lp'...\n",
      "/var/folders/8h/pt6dnpv520d200zx4xc71ld80000gn/T/tmp6e5vibfy.pyomo.lp:3544: warning: lower bound of variable 'x727' redefined\n",
      "/var/folders/8h/pt6dnpv520d200zx4xc71ld80000gn/T/tmp6e5vibfy.pyomo.lp:3544: warning: upper bound of variable 'x727' redefined\n",
      "78 rows, 749 columns, 1805 non-zeros\n",
      "22 integer variables, all of which are binary\n",
      "3566 lines were read\n",
      "Writing problem data to '/var/folders/8h/pt6dnpv520d200zx4xc71ld80000gn/T/tmpekrpq0uy.glpk.glp'...\n",
      "4166 lines were written\n",
      "GLPK Integer Optimizer, v4.65\n",
      "78 rows, 749 columns, 1805 non-zeros\n",
      "22 integer variables, all of which are binary\n",
      "Preprocessing...\n",
      "77 rows, 748 columns, 1804 non-zeros\n",
      "22 integer variables, all of which are binary\n",
      "Scaling...\n",
      " A: min|aij| =  1.000e+00  max|aij| =  3.100e+01  ratio =  3.100e+01\n",
      "GM: min|aij| =  1.000e+00  max|aij| =  1.000e+00  ratio =  1.000e+00\n",
      "EQ: min|aij| =  1.000e+00  max|aij| =  1.000e+00  ratio =  1.000e+00\n",
      "2N: min|aij| =  6.875e-01  max|aij| =  1.312e+00  ratio =  1.909e+00\n",
      "Constructing initial basis...\n",
      "Size of triangular part is 77\n",
      "Solving LP relaxation...\n",
      "GLPK Simplex Optimizer, v4.65\n",
      "77 rows, 748 columns, 1804 non-zeros\n",
      "      0: obj =   2.184800000e+04 inf =   8.490e+02 (6)\n",
      "    136: obj =   2.169633333e+04 inf =   0.000e+00 (0)\n",
      "*   265: obj =   1.745483009e+04 inf =   0.000e+00 (0) 1\n",
      "OPTIMAL LP SOLUTION FOUND\n",
      "Integer optimization begins...\n",
      "Long-step dual simplex will be used\n",
      "+   265: mip =     not found yet >=              -inf        (1; 0)\n",
      "+   284: >>>>>   1.747800000e+04 >=   1.746689531e+04 < 0.1% (5; 0)\n",
      "+   302: mip =   1.747800000e+04 >=     tree is empty   0.0% (0; 9)\n",
      "INTEGER OPTIMAL SOLUTION FOUND\n",
      "Time used:   0.0 secs\n",
      "Memory used: 0.8 Mb (842276 bytes)\n",
      "Writing MIP solution to '/var/folders/8h/pt6dnpv520d200zx4xc71ld80000gn/T/tmpmul7wbqd.glpk.raw'...\n",
      "836 lines were written\n",
      "        0.03 seconds required for solver\n",
      "        0.00 seconds required to read logfile \n",
      "        0.00 seconds required to read solution file \n",
      "        0.01 seconds required for postsolve\n"
     ]
    }
   ],
   "source": [
    "solver = SolverFactory('glpk')\n",
    "sol = solver.solve(m, report_timing=True, tee=True)"
   ]
  },
  {
   "cell_type": "code",
   "execution_count": 9,
   "metadata": {},
   "outputs": [
    {
     "name": "stdout",
     "output_type": "stream",
     "text": [
      "The solver terminated with the following decision variable values:\n",
      "\n",
      "To Facility      1    2    3    4    5    6    9    12   13   14   15   17   19   20   21  \n",
      "From Source  1   0    0    0    0    0    0    1    0    0    0    0    0    23   0    0   \n",
      "From Source  2   0    0    0    6    0    0    0    0    0    14   0    0    0    0    0   \n",
      "From Source  3   0    0    0    16   0    0    0    0    0    0    0    0    0    0    0   \n",
      "From Source  4   0    0    0    0    0    0    15   0    6    0    0    0    0    0    0   \n",
      "From Source  5   0    3    0    0    0    2    0    0    0    0    0    22   0    0    0   \n",
      "From Source  6   18   0    0    0    0    0    0    0    0    0    0    0    0    0    0   \n",
      "From Source  7   0    0    0    0    0    0    0    0    0    2    0    0    0    17   0   \n",
      "From Source  8   0    0    21   0    0    0    3    0    0    0    0    0    0    0    0   \n",
      "From Source  9   0    1    0    0    21   0    0    0    0    0    0    0    0    0    0   \n",
      "From Source 10   0    0    0    0    0    0    0    22   0    1    0    0    0    0    0   \n",
      "From Source 11   0    0    0    0    0    21   0    0    0    0    0    0    0    0    0   \n",
      "From Source 12   0    0    0    0    0    0    0    0    0    6    16   0    0    0    0   \n",
      "From Source 13   0    15   0    0    0    0    4    0    0    0    0    0    0    0    0   \n",
      "From Source 14   0    0    0    0    0    0    0    0    0    0    0    0    0    0    23  \n",
      "From Source 15   0    0    0    0    0    0    0    0    17   0    0    0    0    0    0   \n",
      "\n",
      "From Facility    1    2    3    4    5    6    9    12   13   14   15   17   19   20   21  \n",
      "To Disposal  1   7    0    21   0    0    0    0    0    0    0    0    0    0    0    0   \n",
      "To Disposal  2   0    0    0    0    0    5    0    0    0    0    0    0    0    0    0   \n",
      "To Disposal  3   0    2    0    0    0    0    23   0    0    0    0    0    0    0    0   \n",
      "To Disposal  4   0    0    0    22   0    0    0    0    0    0    0    3    0    0    0   \n",
      "To Disposal  5   0    0    0    0    21   0    0    0    0    3    0    0    0    0    0   \n",
      "To Disposal  6   0    0    0    0    0    0    0    0    0    0    0    0    23   0    0   \n",
      "To Disposal  7   0    0    0    0    0    0    0    0    0    0    0    0    0    0    21  \n",
      "To Disposal  8   0    0    0    0    0    0    0    22   0    0    0    0    0    0    0   \n",
      "To Disposal 11   0    0    0    0    0    0    0    0    9    0    16   0    0    0    0   \n",
      "To Disposal 12   0    0    0    0    0    0    0    0    0    20   0    0    0    0    0   \n",
      "To Disposal 13   6    0    0    0    0    0    0    0    0    0    0    0    0    17   0   \n",
      "To Disposal 14   0    0    0    0    0    18   0    0    0    0    0    0    0    0    0   \n",
      "To Disposal 15   0    0    0    0    0    0    0    0    0    0    0    19   0    0    0   \n",
      "To Disposal 16   5    0    0    0    0    0    0    0    0    0    0    0    0    0    0   \n",
      "To Disposal 17   0    17   0    0    0    0    0    0    0    0    0    0    0    0    2   \n",
      "To Disposal 18   0    0    0    0    0    0    0    0    14   0    0    0    0    0    0   \n"
     ]
    }
   ],
   "source": [
    "print(\"The solver terminated with the following decision variable values:\")\n",
    "\n",
    "K_1 = []\n",
    "for k in m.K:\n",
    "    if m.y[k].value == 1: K_1.append(k) \n",
    "\n",
    "print(\"\\nTo Facility    \", \"\".join([\" {:<3} \".format(str(k)) for k in K_1]))\n",
    "for i in m.I: \n",
    "    #print(\"From Source\", i,\"  \".join([str(int(m.x1[i,k].value)) for k in m.K]))\n",
    "    print(\"From Source {:>2} \".format(i),\"\".join([\" {:<3} \".format(str(int(m.x1[i,k].value))) for k in K_1]))\n",
    "\n",
    "print(\"\\nFrom Facility  \", \"\".join([\" {:<3} \".format(str(k)) for k in K_1]))\n",
    "for j in m.J: \n",
    "    if sum(m.x2[k,j].value for k in K_1) > 1:\n",
    "        print(\"To Disposal {:>2} \".format(j),\"\".join([\" {:<3} \".format(int(m.x2[k,j].value)) for k in K_1]))"
   ]
  }
 ],
 "metadata": {
  "kernelspec": {
   "display_name": "base",
   "language": "python",
   "name": "python3"
  },
  "language_info": {
   "codemirror_mode": {
    "name": "ipython",
    "version": 3
   },
   "file_extension": ".py",
   "mimetype": "text/x-python",
   "name": "python",
   "nbconvert_exporter": "python",
   "pygments_lexer": "ipython3",
   "version": "3.9.12"
  },
  "orig_nbformat": 4,
  "vscode": {
   "interpreter": {
    "hash": "17ced9d982b131692a84e2f262325acd6f876c7ae795612196415d04b360dfc7"
   }
  }
 },
 "nbformat": 4,
 "nbformat_minor": 2
}
