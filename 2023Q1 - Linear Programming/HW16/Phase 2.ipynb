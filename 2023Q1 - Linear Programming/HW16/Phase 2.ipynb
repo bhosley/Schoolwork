{
 "cells": [
  {
   "cell_type": "code",
   "execution_count": 29,
   "metadata": {},
   "outputs": [],
   "source": [
    "from pyomo.environ import * \n",
    "from pyomo.opt import SolverFactory\n",
    "from random import *\n",
    "from math import pi\n",
    "\n",
    "SEED = 7\n",
    "m = ConcreteModel()"
   ]
  },
  {
   "cell_type": "code",
   "execution_count": null,
   "metadata": {},
   "outputs": [],
   "source": [
    "## Generator\n",
    "\n",
    "random()\n",
    "\n",
    "\n",
    "low = 3\n",
    "high = 20\n",
    "\n",
    "def pickdistro(low=3, high=20):\n",
    "    variates = [\n",
    "        lambda _=0 : randint(low, high),\n",
    "        lambda _=0 : uniform(low, high),\n",
    "        lambda _=0 : triangular(low, high, mode),\n",
    "        lambda _=0 : # betavariate() #only returns between 0,1,\n",
    "        lambda _=0 : expovariate(lamb),\n",
    "        lambda _=0 : gauss(mean,sd),\n",
    "        lambda _=0 : lognormvariate(mean,sd),\n",
    "        lambda _=0 : normalvariate(mean,sd),\n",
    "        lambda _=0 : vonmisesvariate(meanangle,kappa),\n",
    "        lambda _=0 : paretovariate(alpha),\n",
    "        lambda _=0 : weibullvariate(alpha, bet)]\n",
    "\n",
    "y = pickdistro()\n",
    "x = lambda _=0 : randint(low, high)\n",
    "\n",
    "print(x(), y())\n",
    "\n",
    "\n",
    "\n",
    "\n",
    "\n",
    "def pickdistro(low=3, high=20):\n",
    "    return lambda _ : randint(low, high)"
   ]
  },
  {
   "cell_type": "code",
   "execution_count": 3,
   "metadata": {},
   "outputs": [],
   "source": [
    "m.I = Set()\n",
    "m.J = Set()\n",
    "m.K = Set()"
   ]
  },
  {
   "cell_type": "code",
   "execution_count": null,
   "metadata": {},
   "outputs": [],
   "source": [
    "m.x1 = Var(m.I, m.K, domain = NonNegativeReals)\n",
    "m.x2 = Var(m.K, m.J, domain = NonNegativeReals)\n",
    "m.y  = Var(m.K, domain = Boolean)"
   ]
  },
  {
   "cell_type": "code",
   "execution_count": null,
   "metadata": {},
   "outputs": [],
   "source": [
    "m.a  = Param(m.J, domain = NonNegativeReals)\n",
    "m.b  = Param(m.J, domain = NonNegativeReals)\n",
    "m.c1 = Param(m.I, m.K, domain = NonNegativeReals)\n",
    "m.c2 = Param(m.K, m.J, domain = NonNegativeReals)\n",
    "m.f  = Param(m.K, domain = NonNegativeReals)\n",
    "m.q  = Param(m.K, domain = NonNegativeReals)"
   ]
  },
  {
   "cell_type": "code",
   "execution_count": null,
   "metadata": {},
   "outputs": [],
   "source": [
    "m.constraints=ConstraintList()\n",
    "\n",
    "def source_out(m,i):\n",
    "    return sum(m.x[i,k] for k in m.K) == m.a[i]\n",
    "m.constraints.add(m.I, rule = source_out)\n",
    "\n",
    "def process_in(m,k):\n",
    "    return sum(m.x[i,k] for i in m.I) == m.q[k]\n",
    "m.constraints.add(m.K, rule = process_in)\n",
    "\n",
    "def process_out(m,j):\n",
    "    return sum(m.x[k,j] for k in m.K) == m.b[j]\n",
    "m.constraints.add(m.J, rule = process_out)"
   ]
  },
  {
   "cell_type": "code",
   "execution_count": null,
   "metadata": {},
   "outputs": [],
   "source": [
    "def obj_expression():\n",
    "    sum = 0\n",
    "    for k in m.K:\n",
    "        sum += m.y[k]*m.f[k]\n",
    "        for i in m.I:\n",
    "            sum += m.x1[i,k]*m.c1[i,k]\n",
    "        for j in m.J:\n",
    "            sum += m.x2[k,j]*m.c2[k,j]\n",
    "    return sum\n",
    "\n",
    "m.objective = Objective(rule = obj_expression, sense=minimize)"
   ]
  },
  {
   "cell_type": "code",
   "execution_count": null,
   "metadata": {},
   "outputs": [],
   "source": [
    "solver = SolverFactory('glpk')\n",
    "sol = solver.solve(m, report_timing=True, tee=True)"
   ]
  },
  {
   "cell_type": "code",
   "execution_count": null,
   "metadata": {},
   "outputs": [],
   "source": [
    "print(\"The solver terminated with the following decision variable values:\")              \n",
    "for j in model.j:\n",
    "    if(value(model.x[j])>0):\n",
    "       print(\"  \", j, format(value(model.x[j]),\".2f\"))"
   ]
  },
  {
   "cell_type": "code",
   "execution_count": 31,
   "metadata": {},
   "outputs": [
    {
     "name": "stdout",
     "output_type": "stream",
     "text": [
      "6\n",
      "2024.573821825552     1458\n",
      "1213.7414965110786     1895\n",
      "1246.0454589112621     1277\n",
      "1467.4206297173587     2153\n",
      "1922.2144581974585     1990\n",
      "1283.2384134311937     1893\n",
      "1148.2181642438204     1390\n",
      "1047.7680410989124     1842\n",
      "826.0346410195676     2722\n",
      "1072.2207586922166     2618\n"
     ]
    }
   ],
   "source": [
    "def pickdistro(low=3, high=20, mode=None,mean=None,sd=None,alpha=None,bet = None,lambd = None,\n",
    "               kappa = randint(1,low),\n",
    "               meanangle = None):\n",
    "    mode = mode or low + random()*(high-low)  \n",
    "    mean = mean or low + random()*(high-low)\n",
    "    sd = sd or random()*low\n",
    "    alpha = alpha or randint(1,low)\n",
    "    bet = bet or 1/alpha\n",
    "    lambd = lambd or 1/mean\n",
    "    meanangle = meanangle or mean%(pi)\n",
    "    mu \n",
    "    sigma\n",
    "    variates = [\n",
    "        lambda _=0 : randint(low, high),\n",
    "        lambda _=0 : uniform(low, high),\n",
    "        lambda _=0 : triangular(low, high, mode),\n",
    "        lambda _=0 : betavariate(alpha, bet)*(high-low)+low, \n",
    "        lambda _=0 : expovariate(lambd),\n",
    "        lambda _=0 : gauss(mean,sd),\n",
    "        lambda _=0 : lognormvariate(mean,sigma),\n",
    "        lambda _=0 : normalvariate(mean,sd),\n",
    "        lambda _=0 : vonmisesvariate(meanangle,kappa),\n",
    "        lambda _=0 : paretovariate(alpha),\n",
    "        lambda _=0 : weibullvariate(alpha, bet)]\n",
    "    test = randint(0,len(variates))\n",
    "    print(test)\n",
    "    cont = variates[ test ]\n",
    "    disc = lambda _=0 : ceil(cont())\n",
    "    return cont, disc\n",
    "\n",
    "x,y = pickdistro()\n",
    "\n",
    "for i in range(10):\n",
    "    print(x(), \"   \" ,y())"
   ]
  }
 ],
 "metadata": {
  "kernelspec": {
   "display_name": "base",
   "language": "python",
   "name": "python3"
  },
  "language_info": {
   "codemirror_mode": {
    "name": "ipython",
    "version": 3
   },
   "file_extension": ".py",
   "mimetype": "text/x-python",
   "name": "python",
   "nbconvert_exporter": "python",
   "pygments_lexer": "ipython3",
   "version": "3.9.12"
  },
  "orig_nbformat": 4,
  "vscode": {
   "interpreter": {
    "hash": "17ced9d982b131692a84e2f262325acd6f876c7ae795612196415d04b360dfc7"
   }
  }
 },
 "nbformat": 4,
 "nbformat_minor": 2
}
