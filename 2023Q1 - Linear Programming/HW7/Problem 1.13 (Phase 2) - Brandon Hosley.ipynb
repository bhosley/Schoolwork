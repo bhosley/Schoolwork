{
 "cells": [
  {
   "cell_type": "markdown",
   "id": "79c2c1d4",
   "metadata": {},
   "source": [
    "# OPER 610\n",
    "## Problem 1.13 (Phase 2)\n",
    "### Brandon Hosley"
   ]
  },
  {
   "cell_type": "markdown",
   "id": "b7d703f8",
   "metadata": {},
   "source": [
    "## Preparation"
   ]
  },
  {
   "cell_type": "code",
   "execution_count": 1,
   "id": "415ab163",
   "metadata": {},
   "outputs": [],
   "source": [
    "import numpy as np\n",
    "from pyomo.environ import * \n",
    "from pyomo.opt import SolverFactory\n",
    "\n",
    "model = ConcreteModel()"
   ]
  },
  {
   "cell_type": "markdown",
   "id": "092f9a2d",
   "metadata": {},
   "source": [
    "## Definitions\n",
    "\n",
    "Sets:\n",
    "- Products: $P = \\{1,2,3\\}$\n",
    "- Machines: $M = \\{1,2,3,4\\}$\n",
    "\t\n",
    "Parameters:\n",
    "- $c_{pm}$: Production Cost (a matrix drawn from the first table)\n",
    "- $t_{pm}$: Hours to produce units of product (a matrix drawn from the second table)\n",
    "- $u_p$   : Units of product $p$ required\n",
    "- $h_m$   : Hours machines $m$ available"
   ]
  },
  {
   "cell_type": "code",
   "execution_count": 2,
   "id": "2d966cbf",
   "metadata": {},
   "outputs": [
    {
     "name": "stdout",
     "output_type": "stream",
     "text": [
      "3 Set Declarations\n",
      "    M : Size=1, Index=None, Ordered=Insertion\n",
      "        Key  : Dimen : Domain : Size : Members\n",
      "        None :     1 :    Any :    4 : {0, 1, 2, 3}\n",
      "    P : Size=1, Index=None, Ordered=Insertion\n",
      "        Key  : Dimen : Domain : Size : Members\n",
      "        None :     1 :    Any :    3 : {0, 1, 2}\n",
      "    x_index : Size=1, Index=None, Ordered=True\n",
      "        Key  : Dimen : Domain : Size : Members\n",
      "        None :     2 :    P*M :   12 : {(0, 0), (0, 1), (0, 2), (0, 3), (1, 0), (1, 1), (1, 2), (1, 3), (2, 0), (2, 1), (2, 2), (2, 3)}\n",
      "\n",
      "1 Var Declarations\n",
      "    x : Size=12, Index=x_index\n",
      "        Key    : Lower : Value : Upper : Fixed : Stale : Domain\n",
      "        (0, 0) :     0 :  None :  None : False :  True : NonNegativeReals\n",
      "        (0, 1) :     0 :  None :  None : False :  True : NonNegativeReals\n",
      "        (0, 2) :     0 :  None :  None : False :  True : NonNegativeReals\n",
      "        (0, 3) :     0 :  None :  None : False :  True : NonNegativeReals\n",
      "        (1, 0) :     0 :  None :  None : False :  True : NonNegativeReals\n",
      "        (1, 1) :     0 :  None :  None : False :  True : NonNegativeReals\n",
      "        (1, 2) :     0 :  None :  None : False :  True : NonNegativeReals\n",
      "        (1, 3) :     0 :  None :  None : False :  True : NonNegativeReals\n",
      "        (2, 0) :     0 :  None :  None : False :  True : NonNegativeReals\n",
      "        (2, 1) :     0 :  None :  None : False :  True : NonNegativeReals\n",
      "        (2, 2) :     0 :  None :  None : False :  True : NonNegativeReals\n",
      "        (2, 3) :     0 :  None :  None : False :  True : NonNegativeReals\n",
      "\n",
      "4 Declarations: P M x_index x\n"
     ]
    }
   ],
   "source": [
    "# Labels for products and machines\n",
    "model.P = Set(initialize=range(3))\n",
    "model.M = Set(initialize=range(4))\n",
    "\n",
    "# VARS\n",
    "model.x = Var(model.P, model.M, domain=NonNegativeReals)\n",
    "\n",
    "# Production constants\n",
    "model.c = np.array([[4,4,5,7],\n",
    "                    [6,7,5,6],\n",
    "                    [12,10,8,11]])\n",
    "\n",
    "model.t = np.array([[0.3,0.25,0.2,0.2],\n",
    "                    [0.2,0.3,0.2,0.25],\n",
    "                    [0.8,0.6,0.6,0.5]])  \n",
    "\n",
    "# Scenario input/outputs\n",
    "model.u = np.array([3000,6000,4000])\n",
    "model.h = np.array([1500,1200,1500,2000])"
   ]
  },
  {
   "cell_type": "markdown",
   "id": "d18b8bcf",
   "metadata": {},
   "source": [
    "## Objective Function\n",
    "\n",
    "$\\operatorname{min}\\quad \\sum_{p\\in P} \\sum_{m\\in M} c_{pm}x_{pm}$"
   ]
  },
  {
   "cell_type": "code",
   "execution_count": 3,
   "id": "5dbcef66",
   "metadata": {},
   "outputs": [],
   "source": [
    "model.OBJ = Objective(expr=sum(model.x[p,m]*model.c[p,m] for p in model.P for m in model.M), sense=minimize)"
   ]
  },
  {
   "cell_type": "markdown",
   "id": "97f7624f",
   "metadata": {},
   "source": [
    "## Constraints\n",
    "\n",
    "$\\sum_{m\\in M} x_{pm} = u_p  \\qquad \\text{for } p\\in P $\n",
    "$\\sum_{p\\in P} t_{pm}x_{pm}  \\leq h_m  \\quad \\text{for } m\\in M $\n",
    "        \n",
    "*Non-negativity constrained above*"
   ]
  },
  {
   "cell_type": "code",
   "execution_count": 4,
   "id": "559b0d30",
   "metadata": {},
   "outputs": [],
   "source": [
    "model.constraints = ConstraintList()\n",
    "\n",
    "# Meet production goals\n",
    "for p in model.P:\n",
    "    model.constraints.add(sum(model.x[p,m] for m in model.M) == model.u[p])\n",
    "    \n",
    "# Machine operating time limits\n",
    "for m in model.M:\n",
    "    model.constraints.add(sum(model.x[p,m]*model.t[p,m] for p in model.P) <= model.h[m])"
   ]
  },
  {
   "cell_type": "markdown",
   "id": "f5871eef",
   "metadata": {},
   "source": [
    "## Solve"
   ]
  },
  {
   "cell_type": "code",
   "execution_count": 5,
   "id": "25391b3b",
   "metadata": {},
   "outputs": [
    {
     "name": "stdout",
     "output_type": "stream",
     "text": [
      "        0.01 seconds required to write file\n",
      "        0.05 seconds required for presolve\n",
      "GLPSOL: GLPK LP/MIP Solver, v4.65\n",
      "Parameter(s) specified in the command line:\n",
      " --write /var/folders/8h/pt6dnpv520d200zx4xc71ld80000gn/T/tmpg53s8cx3.glpk.raw\n",
      " --wglp /var/folders/8h/pt6dnpv520d200zx4xc71ld80000gn/T/tmp_013xr4p.glpk.glp\n",
      " --cpxlp /var/folders/8h/pt6dnpv520d200zx4xc71ld80000gn/T/tmpwpa6cxks.pyomo.lp\n",
      "Reading problem data from '/var/folders/8h/pt6dnpv520d200zx4xc71ld80000gn/T/tmpwpa6cxks.pyomo.lp'...\n",
      "8 rows, 13 columns, 25 non-zeros\n",
      "81 lines were read\n",
      "Writing problem data to '/var/folders/8h/pt6dnpv520d200zx4xc71ld80000gn/T/tmp_013xr4p.glpk.glp'...\n",
      "69 lines were written\n",
      "GLPK Simplex Optimizer, v4.65\n",
      "8 rows, 13 columns, 25 non-zeros\n",
      "Preprocessing...\n",
      "7 rows, 12 columns, 24 non-zeros\n",
      "Scaling...\n",
      " A: min|aij| =  2.000e-01  max|aij| =  1.000e+00  ratio =  5.000e+00\n",
      "Problem data seem to be well scaled\n",
      "Constructing initial basis...\n",
      "Size of triangular part is 7\n",
      "      0: obj =   1.050000000e+05 inf =   1.800e+03 (2)\n",
      "      3: obj =   1.001000000e+05 inf =   0.000e+00 (0)\n",
      "*     8: obj =   8.250000000e+04 inf =   0.000e+00 (0)\n",
      "OPTIMAL LP SOLUTION FOUND\n",
      "Time used:   0.0 secs\n",
      "Memory used: 0.0 Mb (41907 bytes)\n",
      "Writing basic solution to '/var/folders/8h/pt6dnpv520d200zx4xc71ld80000gn/T/tmpg53s8cx3.glpk.raw'...\n",
      "30 lines were written\n",
      "        0.03 seconds required for solver\n",
      "        0.00 seconds required to read logfile \n",
      "        0.00 seconds required to read solution file \n",
      "        0.00 seconds required for postsolve\n"
     ]
    }
   ],
   "source": [
    "solver = SolverFactory('glpk')\n",
    "sol = solver.solve(model, report_timing=True, tee=True)"
   ]
  },
  {
   "cell_type": "code",
   "execution_count": 6,
   "id": "bae58c1d",
   "metadata": {},
   "outputs": [
    {
     "name": "stdout",
     "output_type": "stream",
     "text": [
      "4 Set Declarations\n",
      "    M : Size=1, Index=None, Ordered=Insertion\n",
      "        Key  : Dimen : Domain : Size : Members\n",
      "        None :     1 :    Any :    4 : {0, 1, 2, 3}\n",
      "    P : Size=1, Index=None, Ordered=Insertion\n",
      "        Key  : Dimen : Domain : Size : Members\n",
      "        None :     1 :    Any :    3 : {0, 1, 2}\n",
      "    constraints_index : Size=1, Index=None, Ordered=Insertion\n",
      "        Key  : Dimen : Domain : Size : Members\n",
      "        None :     1 :    Any :    7 : {1, 2, 3, 4, 5, 6, 7}\n",
      "    x_index : Size=1, Index=None, Ordered=True\n",
      "        Key  : Dimen : Domain : Size : Members\n",
      "        None :     2 :    P*M :   12 : {(0, 0), (0, 1), (0, 2), (0, 3), (1, 0), (1, 1), (1, 2), (1, 3), (2, 0), (2, 1), (2, 2), (2, 3)}\n",
      "\n",
      "1 Var Declarations\n",
      "    x : Size=12, Index=x_index\n",
      "        Key    : Lower : Value  : Upper : Fixed : Stale : Domain\n",
      "        (0, 0) :     0 : 3000.0 :  None : False : False : NonNegativeReals\n",
      "        (0, 1) :     0 :    0.0 :  None : False : False : NonNegativeReals\n",
      "        (0, 2) :     0 :    0.0 :  None : False : False : NonNegativeReals\n",
      "        (0, 3) :     0 :    0.0 :  None : False : False : NonNegativeReals\n",
      "        (1, 0) :     0 :    0.0 :  None : False : False : NonNegativeReals\n",
      "        (1, 1) :     0 :    0.0 :  None : False : False : NonNegativeReals\n",
      "        (1, 2) :     0 : 1500.0 :  None : False : False : NonNegativeReals\n",
      "        (1, 3) :     0 : 4500.0 :  None : False : False : NonNegativeReals\n",
      "        (2, 0) :     0 :    0.0 :  None : False : False : NonNegativeReals\n",
      "        (2, 1) :     0 : 2000.0 :  None : False : False : NonNegativeReals\n",
      "        (2, 2) :     0 : 2000.0 :  None : False : False : NonNegativeReals\n",
      "        (2, 3) :     0 :    0.0 :  None : False : False : NonNegativeReals\n",
      "\n",
      "1 Objective Declarations\n",
      "    OBJ : Size=1, Index=None, Active=True\n",
      "        Key  : Active : Sense    : Expression\n",
      "        None :   True : minimize : 4*x[0,0] + 4*x[0,1] + 5*x[0,2] + 7*x[0,3] + 6*x[1,0] + 7*x[1,1] + 5*x[1,2] + 6*x[1,3] + 12*x[2,0] + 10*x[2,1] + 8*x[2,2] + 11*x[2,3]\n",
      "\n",
      "1 Constraint Declarations\n",
      "    constraints : Size=7, Index=constraints_index, Active=True\n",
      "        Key : Lower  : Body                                  : Upper  : Active\n",
      "          1 : 3000.0 :     x[0,0] + x[0,1] + x[0,2] + x[0,3] : 3000.0 :   True\n",
      "          2 : 6000.0 :     x[1,0] + x[1,1] + x[1,2] + x[1,3] : 6000.0 :   True\n",
      "          3 : 4000.0 :     x[2,0] + x[2,1] + x[2,2] + x[2,3] : 4000.0 :   True\n",
      "          4 :   -Inf :  0.3*x[0,0] + 0.2*x[1,0] + 0.8*x[2,0] : 1500.0 :   True\n",
      "          5 :   -Inf : 0.25*x[0,1] + 0.3*x[1,1] + 0.6*x[2,1] : 1200.0 :   True\n",
      "          6 :   -Inf :  0.2*x[0,2] + 0.2*x[1,2] + 0.6*x[2,2] : 1500.0 :   True\n",
      "          7 :   -Inf : 0.2*x[0,3] + 0.25*x[1,3] + 0.5*x[2,3] : 2000.0 :   True\n",
      "\n",
      "7 Declarations: P M x_index x OBJ constraints_index constraints\n"
     ]
    }
   ],
   "source": [
    "model.pprint()"
   ]
  },
  {
   "cell_type": "code",
   "execution_count": 7,
   "id": "4d343aea",
   "metadata": {},
   "outputs": [
    {
     "name": "stdout",
     "output_type": "stream",
     "text": [
      "The solver terminated with the following decision variable values:\n",
      "   (0, 0) 3000.00\n",
      "   (1, 2) 1500.00\n",
      "   (1, 3) 4500.00\n",
      "   (2, 1) 2000.00\n",
      "   (2, 2) 2000.00\n"
     ]
    }
   ],
   "source": [
    "print(\"The solver terminated with the following decision variable values:\")              \n",
    "for x in model.x:\n",
    "    if(value(model.x[x])>0):\n",
    "       print(\"  \", x, format(value(model.x[x]),\".2f\"))"
   ]
  },
  {
   "cell_type": "code",
   "execution_count": null,
   "id": "bbbf27bc",
   "metadata": {},
   "outputs": [],
   "source": []
  }
 ],
 "metadata": {
  "kernelspec": {
   "display_name": "Python 3 (ipykernel)",
   "language": "python",
   "name": "python3"
  },
  "language_info": {
   "codemirror_mode": {
    "name": "ipython",
    "version": 3
   },
   "file_extension": ".py",
   "mimetype": "text/x-python",
   "name": "python",
   "nbconvert_exporter": "python",
   "pygments_lexer": "ipython3",
   "version": "3.9.12"
  }
 },
 "nbformat": 4,
 "nbformat_minor": 5
}
