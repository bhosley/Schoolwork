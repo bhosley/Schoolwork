{
 "cells": [
  {
   "cell_type": "markdown",
   "metadata": {},
   "source": [
    "# OPER 623 - Heuristist Search Methods\n",
    "## Homework 1\n",
    "### Hosley, Brandon"
   ]
  },
  {
   "cell_type": "code",
   "execution_count": 1,
   "metadata": {},
   "outputs": [],
   "source": [
    "from ortools.linear_solver import pywraplp"
   ]
  },
  {
   "cell_type": "markdown",
   "metadata": {},
   "source": [
    "*We are going to transform this problem into one that is slightly more complicated called the 0-1 multi-constraint multi-knapsack problem.  The difference between these two problems is that the 0-1 multi-knapsack problem has only one constraint, weight, that you must control. Whereas the multi-constraint multi-knapsack problem has multiple constraints.  In both cases the goal is to maximize value, while ensuring you meet constraints.*"
   ]
  },
  {
   "cell_type": "markdown",
   "metadata": {},
   "source": [
    "We will use the following sets and variables </br>\n",
    "\n",
    "$B$ : the set of knapsacks </br>\n",
    "$I$ : the set of items\n",
    "\n",
    "$x_{i,b}$ : a truth value corresponding to if item $i$ is packed within knapsack $b$ </br>\n",
    "$y_i$ : the value of item $i$ </br>\n",
    "$w_i$ : the weight of item $i$ </br>\n",
    "$v_i$ : the volume of item $i$ </br>\n",
    "$r_i$ : the radioactivity of item $i$ </br>\n",
    "\n",
    "to define the mathematical model as\n",
    "\n",
    "$$\\begin{align*}\n",
    "\\max \\sum_{i\\in I, b\\in B} x_{i,b}\\, y_i & \\\\\n",
    "\\text{s.t.} \\quad\n",
    "\\sum_{i\\in I}x_{i,b}\\, w_i &\\leq 50 \\quad\\forall\\,b\\in B  \n",
    "\\qquad\\text{(weight constraint)}\\\\\n",
    "\\sum_{i\\in I}x_{i,b}\\, v_i &\\leq 50 \\quad\\forall\\,b\\in B  \\qquad\\text{(volume constraint)}\\\\\n",
    "\\sum_{i\\in I}x_{i,b}\\, r_i &\\leq 5\\,\\ \\quad\\forall\\,b\\in B \n",
    "\\qquad\\text{(radioactivity constraint)} \\\\\n",
    "x_{i,b} &\\in \\{0,1\\} \\quad\\forall\\,i\\in I,\\,b\\in B \\\\\n",
    "\\end{align*}$$"
   ]
  },
  {
   "cell_type": "markdown",
   "metadata": {},
   "source": [
    "To further condense this model we will collect the constraints into a single structure. </br>\n",
    "\n",
    "Let the constraint values for each item $i$ be $d_{c,i}$ where $c \\in \\{\\text{weight, volume, radioactivity}\\}$ </br>\n",
    "and the capacity for each constraint $c$ in each bin is $k_c$.\n",
    "\n",
    "Giving,\n",
    "\n",
    "$$\\begin{align*}\n",
    "\\max \\sum_{i\\in I, b\\in B} x_{i,b}\\, y_i & \\\\\n",
    "\\text{s.t.} \\quad\n",
    "\\sum_{i\\in I}x_{i,b}\\, d_{c,i} &\\leq k_c \\,\\,\\qquad\\forall\\,b\\in B,\\forall\\,c\\in C \\\\\n",
    "x_{i,b} &\\in \\{0,1\\} \\quad\\forall\\,i\\in I,\\,b\\in B \\\\\n",
    "\\end{align*}$$"
   ]
  },
  {
   "cell_type": "markdown",
   "metadata": {},
   "source": [
    "First, we transcribe the data into Python data structures."
   ]
  },
  {
   "cell_type": "code",
   "execution_count": 2,
   "metadata": {},
   "outputs": [],
   "source": [
    "data = {\n",
    "    \"value\":           [48,\t30,\t42,\t36,\t22,\t43,\t18,\t24,\t36,\t29,\t30,\t25,\t19,\t41,\t34,\t32,\t27,\t24,\t18], \n",
    "    \"weight\":         [10,\t30,\t12,\t22,\t12,\t20,\t9,\t9,\t18,\t20,\t25,\t18,\t7,\t16,\t24,\t21,\t21,\t32,\t9 ], \n",
    "    \"volume\":          [15,\t20,\t18,\t20,\t5,\t12,\t7,\t7,\t24,\t30,\t25,\t20,\t5,\t25,\t19,\t24,\t19,\t14,\t30], \n",
    "    \"radioactivity\":   [3,\t1,\t2,\t3,\t1,\t2,\t0,\t2,\t2,\t1,\t2,\t3,\t4,\t3,\t2,\t3,\t1,\t1,\t3 ]\n",
    "}\n",
    "\n",
    "constraints = {\n",
    "    \"weight\": 50, \"volume\": 50, \"radioactivity\": 5\n",
    "}\n",
    "\n",
    "num_bins = 5\n",
    "bins = list(range(num_bins))\n",
    "items = range(len(data[\"value\"]))"
   ]
  },
  {
   "cell_type": "markdown",
   "metadata": {},
   "source": [
    "Here we instantiate a solver. We opt to use SCIP rather than GLOP because it seems that GLOP is only able to handle LPs. SCIP however, can handle IPs; which is what we have until the 'items' can be divided into smaller parts."
   ]
  },
  {
   "cell_type": "code",
   "execution_count": 3,
   "metadata": {},
   "outputs": [],
   "source": [
    "solver = pywraplp.Solver.CreateSolver('SCIP')"
   ]
  },
  {
   "cell_type": "markdown",
   "metadata": {},
   "source": [
    "Next, we create a matrix holding boolean values correlating item to knapsack. To save resources we also add the constraint that an item can only be contained in a single knapsack.\n",
    "$$ x_{i,b} \\in \\{0,1\\} \\quad\\forall\\,i\\in I,\\,b\\in B $$"
   ]
  },
  {
   "cell_type": "code",
   "execution_count": 4,
   "metadata": {},
   "outputs": [],
   "source": [
    "x = {}\n",
    "for i in items:\n",
    "    for b in bins:\n",
    "        x[i, b] = solver.BoolVar(f\"x_{i}_{b}\")\n",
    "    # Each item is assigned only once\n",
    "    solver.Add(sum(x[i, b] for b in bins) <= 1)"
   ]
  },
  {
   "cell_type": "markdown",
   "metadata": {},
   "source": [
    "Then we add the knapsack capacity and and person's radioactivity constraints.\n",
    "$$\\sum_{i\\in I}x_{i,b}\\, d_{c,i} \\leq k_c \\qquad\\forall\\,b\\in B,\\forall\\,c\\in C \\\\$$"
   ]
  },
  {
   "cell_type": "code",
   "execution_count": 5,
   "metadata": {},
   "outputs": [],
   "source": [
    "for c in constraints:\n",
    "    for b in bins:\n",
    "        solver.Add(\n",
    "            sum(x[i, b] * data[c][i] for i in items) <= constraints[c] \n",
    "        )"
   ]
  },
  {
   "cell_type": "markdown",
   "metadata": {},
   "source": [
    "Next, we translate the objective function\n",
    "$$\\max \\sum_{i\\in I, b\\in B} x_{i,b}\\, y_i.$$"
   ]
  },
  {
   "cell_type": "code",
   "execution_count": 6,
   "metadata": {},
   "outputs": [],
   "source": [
    "# Maximize total value of packed items.\n",
    "objective = solver.Objective()\n",
    "for i in items:\n",
    "    for b in bins:\n",
    "        objective.SetCoefficient(x[i, b], data[\"value\"][i])\n",
    "objective.SetMaximization()"
   ]
  },
  {
   "cell_type": "markdown",
   "metadata": {},
   "source": [
    "Having define the problem we can call the solver to solve."
   ]
  },
  {
   "cell_type": "code",
   "execution_count": 7,
   "metadata": {},
   "outputs": [],
   "source": [
    "status = solver.Solve()"
   ]
  },
  {
   "cell_type": "markdown",
   "metadata": {},
   "source": [
    "Finally, we display the results. \n",
    "*The method of doing so is largely taken from the Google OR-Tools [example](https://developers.google.com/optimization/pack/multiple_knapsack).*"
   ]
  },
  {
   "cell_type": "code",
   "execution_count": 9,
   "metadata": {},
   "outputs": [
    {
     "name": "stdout",
     "output_type": "stream",
     "text": [
      "Knapsack 0:\n",
      "Item 0 - value: 48, weight: 10, volume: 15, radioactivity: 3\n",
      "Item 6 - value: 18, weight: 9, volume: 7, radioactivity: 0\n",
      "Item 14 - value: 34, weight: 24, volume: 19, radioactivity: 2\n",
      "Sack Weight: 43 \n",
      "Sack Volume: 41 \n",
      "Sack Radioactivity: 5\n",
      "\n",
      "Knapsack 1:\n",
      "Item 1 - value: 30, weight: 30, volume: 20, radioactivity: 1\n",
      "Item 13 - value: 41, weight: 16, volume: 25, radioactivity: 3\n",
      "Sack Weight: 46 \n",
      "Sack Volume: 45 \n",
      "Sack Radioactivity: 4\n",
      "\n",
      "Knapsack 2:\n",
      "Item 2 - value: 42, weight: 12, volume: 18, radioactivity: 2\n",
      "Item 4 - value: 22, weight: 12, volume: 5, radioactivity: 1\n",
      "Item 10 - value: 30, weight: 25, volume: 25, radioactivity: 2\n",
      "Sack Weight: 49 \n",
      "Sack Volume: 48 \n",
      "Sack Radioactivity: 5\n",
      "\n",
      "Knapsack 3:\n",
      "Item 3 - value: 36, weight: 22, volume: 20, radioactivity: 3\n",
      "Item 8 - value: 36, weight: 18, volume: 24, radioactivity: 2\n",
      "Sack Weight: 40 \n",
      "Sack Volume: 44 \n",
      "Sack Radioactivity: 5\n",
      "\n",
      "Knapsack 4:\n",
      "Item 5 - value: 43, weight: 20, volume: 12, radioactivity: 2\n",
      "Item 7 - value: 24, weight: 9, volume: 7, radioactivity: 2\n",
      "Item 9 - value: 29, weight: 20, volume: 30, radioactivity: 1\n",
      "Sack Weight: 49 \n",
      "Sack Volume: 49 \n",
      "Sack Radioactivity: 5\n",
      "\n",
      "\n",
      "Total Value: 433 \n",
      "Total Weight: 227       \n",
      "Total Volume: 227 \n",
      "Total Radioactivity: 24\n",
      "\n"
     ]
    }
   ],
   "source": [
    "total_value, total_wgt, total_vol, total_rad = 0,0,0,0\n",
    "for b in bins:\n",
    "    print(f\"Knapsack {b}:\")\n",
    "    bin_value, bin_wgt, bin_vol, bin_rad = 0,0,0,0\n",
    "\n",
    "    for i in items:\n",
    "        if x[i, b].solution_value() > 0:\n",
    "            y = data['value'][i]\n",
    "            w = data['weight'][i]\n",
    "            v = data['volume'][i]\n",
    "            r = data['radioactivity'][i]\n",
    "            print(f\"Item {i} - value: {y}, weight: {w}, volume: {v}, radioactivity: {r}\")\n",
    "            bin_value, bin_wgt, bin_vol, bin_rad = bin_value+y, bin_wgt+w, bin_vol+v, bin_rad+r\n",
    "\n",
    "    print(f\"Sack Weight: {bin_wgt} \\nSack Volume: {bin_vol} \\nSack Radioactivity: {bin_rad}\\n\")\n",
    "\n",
    "    total_value, total_wgt, total_vol, total_rad = total_value+bin_value, total_wgt+bin_wgt, total_vol+bin_vol, total_rad+bin_rad\n",
    "\n",
    "print(f\"\\nTotal Value: {total_value} \\nTotal Weight: {total_wgt} \\\n",
    "      \\nTotal Volume: {total_vol} \\nTotal Radioactivity: {total_rad}\\n\")"
   ]
  }
 ],
 "metadata": {
  "kernelspec": {
   "display_name": "Python 3",
   "language": "python",
   "name": "python3"
  },
  "language_info": {
   "codemirror_mode": {
    "name": "ipython",
    "version": 3
   },
   "file_extension": ".py",
   "mimetype": "text/x-python",
   "name": "python",
   "nbconvert_exporter": "python",
   "pygments_lexer": "ipython3",
   "version": "3.11.4"
  },
  "orig_nbformat": 4
 },
 "nbformat": 4,
 "nbformat_minor": 2
}
