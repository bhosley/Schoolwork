{
 "cells": [
  {
   "cell_type": "code",
   "execution_count": 39,
   "metadata": {},
   "outputs": [],
   "source": [
    "import numpy as np\n",
    "import pandas as pd\n",
    "\n",
    "df = pd.read_csv(\"LabData.csv\")"
   ]
  },
  {
   "cell_type": "code",
   "execution_count": 85,
   "metadata": {},
   "outputs": [],
   "source": [
    "def costFunc(df, tour):\n",
    "    cost = 0\n",
    "    for s,d in enumerate(tour):\n",
    "        cost = cost + df[s,d]\n",
    "    return cost\n",
    "\n",
    "\n",
    "\n",
    "def OPT2(data, tour = None):\n",
    "    loop_count = 0\n",
    "    tour_len = len(data)\n",
    "    data = np.array(data) + np.eye(tour_len) * 100000\n",
    "\n",
    "    tour = tour if tour else np.roll(np.arange(length),-1)\n",
    "    cost = costFunc(data, tour)\n",
    "\n",
    "    for i in range(tour_len-1):\n",
    "        for j in range(i+1, tour_len):\n",
    "            test_tour = np.array(tour)\n",
    "\n",
    "            test_tour[i] = j\n",
    "            test_tour[j] = tour[i]\n",
    "            #test_tour[i],test_tour[j] = tour[j],tour[i]\n",
    "            \n",
    "            #if check_valid(test_tour):\n",
    "            test_cost = costFunc(data, test_tour)\n",
    "            if test_cost < cost:\n",
    "                tour = test_tour\n",
    "                cost = test_cost\n",
    "\n",
    "    return cost, tour"
   ]
  },
  {
   "cell_type": "code",
   "execution_count": 90,
   "metadata": {},
   "outputs": [
    {
     "name": "stdout",
     "output_type": "stream",
     "text": [
      "203.0\n",
      "[14 13  6  9  8  6  2 12 12 10  7  4  0 11  1]\n"
     ]
    }
   ],
   "source": [
    "length = len(df)\n",
    "A = np.roll(np.arange(length),-1)\n",
    "B = [2,6,3,9,10,7,0,14,1,13,11,4,8,12,5]\n",
    "B2= [14,13,6,9,8,2,3,0,12,10,7,4,5,11,1]\n",
    "\n",
    "\n",
    "c,t = OPT2(df, B2)\n",
    "print(c)\n",
    "print(t)"
   ]
  },
  {
   "cell_type": "code",
   "execution_count": 80,
   "metadata": {},
   "outputs": [
    {
     "name": "stdout",
     "output_type": "stream",
     "text": [
      "773.0\n",
      "[ 1  2  3  4  5  6  7  8  9 10 11 12 13 14  0]\n"
     ]
    },
    {
     "data": {
      "text/plain": [
       "False"
      ]
     },
     "execution_count": 80,
     "metadata": {},
     "output_type": "execute_result"
    }
   ],
   "source": [
    "length = len(df)\n",
    "A = np.roll(np.arange(length),-1)\n",
    "\n",
    "#c,t = OPT2(df)\n",
    "#print(c)\n",
    "#print(t)\n",
    "\n",
    "def check_valid(tour):\n",
    "    i = 0\n",
    "    loop = []\n",
    "    while(np.any(loop != i)):\n",
    "        j = tour[i]\n",
    "        np.append(loop,j)\n",
    "        i = j\n",
    "    return False if len(loop) < len(tour) else True\n",
    "\n",
    "check_valid(A)\n"
   ]
  }
 ],
 "metadata": {
  "kernelspec": {
   "display_name": "Python 3",
   "language": "python",
   "name": "python3"
  },
  "language_info": {
   "codemirror_mode": {
    "name": "ipython",
    "version": 3
   },
   "file_extension": ".py",
   "mimetype": "text/x-python",
   "name": "python",
   "nbconvert_exporter": "python",
   "pygments_lexer": "ipython3",
   "version": "3.11.4"
  }
 },
 "nbformat": 4,
 "nbformat_minor": 2
}
