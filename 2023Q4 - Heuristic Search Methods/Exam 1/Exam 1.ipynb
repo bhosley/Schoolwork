{
 "cells": [
  {
   "cell_type": "markdown",
   "metadata": {},
   "source": [
    "# Import Dependencies"
   ]
  },
  {
   "cell_type": "code",
   "execution_count": 1,
   "id": "c901db4e",
   "metadata": {},
   "outputs": [],
   "source": [
    "import pandas as pd\n",
    "from random import randint"
   ]
  },
  {
   "cell_type": "markdown",
   "metadata": {},
   "source": [
    "# Read in the Data\n",
    "\n",
    "The only change that should be needed is the filepath. \n",
    "The rest of the notebook should run without any interaction needed."
   ]
  },
  {
   "cell_type": "code",
   "execution_count": 2,
   "id": "5e139571",
   "metadata": {},
   "outputs": [],
   "source": [
    "#file_name = '../EIL51.xlsx'\n",
    "file_name = '../Lab Data.xlsx'\n",
    "distances = pd.read_excel(file_name, index_col=None)\n",
    "\n",
    "TOUR_LENGTH = len(distances)"
   ]
  },
  {
   "cell_type": "markdown",
   "metadata": {},
   "source": [
    "# Greedy Randomized Heuristic"
   ]
  },
  {
   "cell_type": "code",
   "execution_count": 3,
   "id": "7b3cb2fa",
   "metadata": {},
   "outputs": [],
   "source": [
    "def valid(current_tour):\n",
    "    # Drop cities that are already in the current tour\n",
    "    valid_nbrs = [element for element in range(TOUR_LENGTH) if element not in current_tour]\n",
    "    return valid_nbrs\n",
    "\n",
    "\n",
    "def nearestish_neighbor(starting_city=None, tour=None, top_l=3):   \n",
    "    '''\n",
    "        Optionally takes in a starting city, tour, and/or alpha value.\n",
    "        If no starting city is provided a random one is chosen\n",
    "        If no current tour is provided it is instantiated as an empty list\n",
    "        The top_l is the number of in the restricted candidates list\n",
    "\n",
    "        Returns a tour and the corresponding length\n",
    "    '''\n",
    "    tour = tour or []\n",
    "    current_city = starting_city if isinstance(starting_city, int) else randint(0,TOUR_LENGTH-1)\n",
    "    tour_length = 0\n",
    "    tour.append(current_city)   # add starting city to tour    \n",
    "    \n",
    "    for _ in range(TOUR_LENGTH-1):\n",
    "        next_city, distance_to_next = nearestish(current_city, tour, top_l)\n",
    "        tour.append(next_city)\n",
    "        current_city = next_city\n",
    "        tour_length += distance_to_next\n",
    "\n",
    "    tour.append(tour[0]) # The TSP requires returning home at the end.\n",
    "    tour_length += distances[tour[-2]][tour[-1]] # Add the return distance\n",
    "    \n",
    "    return tour, tour_length\n",
    "\n",
    "\n",
    "def nearestish(current_city, current_tour, top_l=3):\n",
    "    '''\n",
    "        Given current city and list of current tour find a nearish neighbor\n",
    "        from within the l shortest options.\n",
    "\n",
    "        Returns index of next city and distance to that city\n",
    "    '''\n",
    "    # Get distances from current city\n",
    "    # Filter for valid destinations\n",
    "    candidates = distances[current_city].filter(valid(current_tour))\n",
    "\n",
    "    # Select l best options (RCL)\n",
    "    rcl = candidates.nsmallest(top_l)\n",
    "\n",
    "    # Randomly Select from RCL\n",
    "    nearish_city = rcl.sample(1)\n",
    "\n",
    "    # Return Destination and distance to it\n",
    "    return nearish_city.index[0], nearish_city.values[0]"
   ]
  },
  {
   "cell_type": "markdown",
   "metadata": {},
   "source": [
    "# Local Search"
   ]
  },
  {
   "cell_type": "code",
   "execution_count": 4,
   "metadata": {},
   "outputs": [],
   "source": [
    "def cost(tour):\n",
    "    cost = 0\n",
    "    for i in range(0, TOUR_LENGTH): \n",
    "        cost += distances.iat[tour[i],tour[i+1]]\n",
    "    return cost\n",
    "\n",
    "def two_opt(tour):\n",
    "    '''\n",
    "        Takes a feasible tour and iteratively swaps destinations of two cities;\n",
    "        effectively reversing the order of the tour between the two.\n",
    "        The function returns the tour with the lowest distance cost.\n",
    "    '''\n",
    "    tour_len = len(tour)\n",
    "    best_tour = tour[:]\n",
    "    best_cost = cost(best_tour)\n",
    "    improved = True\n",
    "\n",
    "    while improved:\n",
    "        improved = False\n",
    "        for i in range(1, tour_len-3):          #i is index of first city\n",
    "            for j in range(i+2, tour_len):      #j is index of second city\n",
    "                new_tour = best_tour[:]               #clone tour\n",
    "                # swap the order of the tour between these two cities\n",
    "                new_tour[i:j] = best_tour[j-1:i-1:-1] \n",
    "                new_cost = cost(new_tour)\n",
    "                if new_cost < best_cost:\n",
    "                    best_tour = new_tour[:]\n",
    "                    best_cost = new_cost\n",
    "                    improved = True\n",
    "        tour = best_tour[:]\n",
    "        #print(\"I found a new tour:\",best_tour, best_cost)\n",
    "\n",
    "    return best_tour, best_cost"
   ]
  },
  {
   "cell_type": "markdown",
   "metadata": {},
   "source": [
    "# GRASP\n",
    "\n",
    "Bringin' it all together."
   ]
  },
  {
   "cell_type": "code",
   "execution_count": 5,
   "metadata": {},
   "outputs": [],
   "source": [
    "def graspy(iterations=3, top_l=3):\n",
    "    '''\n",
    "        Implements a GRASP metaheuristic using nearest neighbor as the base \n",
    "        greedy heuristic and 2-opt as the local search heuristic. \n",
    "\n",
    "        Optionally takes a number of iterations to repeat the initial \n",
    "        randomized greedy and local searches, and a top_l corresponding to the \n",
    "        number of candidates in the semi-greedy constructive heuristic.\n",
    "    '''\n",
    "    best_tour = []\n",
    "    best_cost = 100**10 # Large cost to guarantee replacement on iter 1\n",
    "    for _ in range(iterations):\n",
    "        # Step 1: Greedy Random, nearish neighbor\n",
    "        tour, _ = nearestish_neighbor(top_l=top_l)\n",
    "        # Step 2: Adaptive Search, local search\n",
    "        improved_tour, improved_cost = two_opt(tour)\n",
    "        # Step 3: Procedure, Keep the best one\n",
    "        if improved_cost < best_cost:\n",
    "            best_tour = improved_tour\n",
    "            best_cost = improved_cost\n",
    "\n",
    "    return best_tour, best_cost"
   ]
  },
  {
   "cell_type": "markdown",
   "metadata": {},
   "source": [
    "## Testing the Function"
   ]
  },
  {
   "cell_type": "code",
   "execution_count": 22,
   "metadata": {},
   "outputs": [
    {
     "name": "stdout",
     "output_type": "stream",
     "text": [
      "Tour: [2, 5, 6, 7, 10, 9, 13, 1, 8, 4, 11, 3, 14, 0, 12, 2]\n",
      "Cost: 217\n"
     ]
    }
   ],
   "source": [
    "t, c = graspy(iterations=10)\n",
    "print(f'Tour: {t}\\nCost: {c}')"
   ]
  }
 ],
 "metadata": {
  "kernelspec": {
   "display_name": "Python 3 (ipykernel)",
   "language": "python",
   "name": "python3"
  },
  "language_info": {
   "codemirror_mode": {
    "name": "ipython",
    "version": 3
   },
   "file_extension": ".py",
   "mimetype": "text/x-python",
   "name": "python",
   "nbconvert_exporter": "python",
   "pygments_lexer": "ipython3",
   "version": "3.11.4"
  }
 },
 "nbformat": 4,
 "nbformat_minor": 5
}
