{
 "cells": [
  {
   "cell_type": "code",
   "execution_count": 7,
   "id": "c901db4e",
   "metadata": {},
   "outputs": [],
   "source": [
    "import pandas as pd\n",
    "from random import randint"
   ]
  },
  {
   "cell_type": "code",
   "execution_count": 8,
   "id": "5e139571",
   "metadata": {},
   "outputs": [],
   "source": [
    "#file_name = '../EIL51.xlsx'\n",
    "file_name = '../Lab Data.xlsx'\n",
    "distances = pd.read_excel(file_name, index_col=None)\n",
    "\n",
    "TOUR_LENGTH = len(distances)"
   ]
  },
  {
   "cell_type": "markdown",
   "metadata": {},
   "source": [
    "### Greedy Randomized Heuristic"
   ]
  },
  {
   "cell_type": "code",
   "execution_count": 121,
   "id": "7b3cb2fa",
   "metadata": {},
   "outputs": [],
   "source": [
    "def valid(current_tour):\n",
    "    # Drop cities that are already in the current tour\n",
    "    valid_nbrs = [element for element in range(TOUR_LENGTH) if element not in current_tour]\n",
    "    return valid_nbrs\n",
    "\n",
    "\n",
    "def nearestish_neighbor(starting_city=None, tour=None, top_l=3):   \n",
    "    '''\n",
    "        Optionally takes in a starting city, tour, and/or alpha value.\n",
    "        If no starting city is provided a random one is chosen\n",
    "        If no current tour is provided it is instantiated as an empty list\n",
    "        The top_l is the number of candidates passed to the semi-greedy algorithm\n",
    "\n",
    "        Returns a tour and the corresponding length\n",
    "    '''\n",
    "    tour = tour or []\n",
    "    current_city = starting_city if isinstance(starting_city, int) else randint(0,TOUR_LENGTH)\n",
    "    tour_length = 0\n",
    "    tour.append(current_city)   # add starting city to tour    \n",
    "    \n",
    "    for _ in range(TOUR_LENGTH-1):\n",
    "        next_city, distance_to_next = nearestish(current_city, tour, top_l)\n",
    "        tour.append(next_city)\n",
    "        current_city = next_city\n",
    "        tour_length += distance_to_next\n",
    "\n",
    "    tour.append(tour[0]) # The TSP requires that the salesman goes back home at the end.\n",
    "    tour_length += distances[tour[-2]][tour[-1]] # Add the return to origin distance\n",
    "    \n",
    "    return tour, tour_length\n",
    "\n",
    "\n",
    "def nearestish(current_city, current_tour, top_l=3):\n",
    "    '''\n",
    "        Given current city and list of current tour find a nearish neighbor\n",
    "        from within the l shortest options.\n",
    "\n",
    "        Returns index of next city and distance to that city\n",
    "    '''\n",
    "    # Get distances from current city\n",
    "    # Filter for valid destinations\n",
    "    candidates = distances[current_city].filter(valid(current_tour))\n",
    "\n",
    "    # Select l best options (RCL)\n",
    "    rcl = candidates.nsmallest(top_l)\n",
    "\n",
    "    # Randomly Select from RCL\n",
    "    nearish_city = rcl.sample(1)\n",
    "\n",
    "    # Return Destination and distance to it\n",
    "    return nearish_city.index[0], nearish_city.values[0]"
   ]
  },
  {
   "cell_type": "markdown",
   "metadata": {},
   "source": [
    "### Local Search"
   ]
  },
  {
   "cell_type": "code",
   "execution_count": null,
   "metadata": {},
   "outputs": [],
   "source": []
  },
  {
   "cell_type": "code",
   "execution_count": 122,
   "metadata": {},
   "outputs": [
    {
     "name": "stdout",
     "output_type": "stream",
     "text": [
      "2    4\n",
      "3    5\n",
      "7    6\n",
      "Name: 6, dtype: int64\n",
      "0     15\n",
      "12    23\n",
      "5     40\n",
      "Name: 2, dtype: int64\n",
      "0    23\n",
      "8    28\n",
      "4    49\n",
      "Name: 12, dtype: int64\n",
      "4    12\n",
      "1    13\n",
      "9    27\n",
      "Name: 8, dtype: int64\n",
      "10    7\n",
      "13    8\n",
      "14    9\n",
      "Name: 9, dtype: int64\n",
      "1     11\n",
      "11    34\n",
      "4     47\n",
      "Name: 13, dtype: int64\n",
      "4     3\n",
      "3    32\n",
      "7    36\n",
      "Name: 11, dtype: int64\n",
      "0    26\n",
      "1    40\n",
      "7    45\n",
      "Name: 4, dtype: int64\n",
      "14     1\n",
      "3     20\n",
      "5     59\n",
      "Name: 1, dtype: int64\n",
      "0      4\n",
      "3     24\n",
      "10    26\n",
      "Name: 14, dtype: int64\n",
      "7     2\n",
      "3    65\n",
      "0    90\n",
      "Name: 10, dtype: int64\n",
      "5    73\n",
      "7    80\n",
      "0    99\n",
      "Name: 3, dtype: int64\n",
      "7    81\n",
      "0    93\n",
      "Name: 5, dtype: int64\n",
      "7    20\n",
      "Name: 0, dtype: int64\n",
      "[6, 2, 12, 8, 9, 13, 11, 4, 1, 14, 10, 3, 5, 0, 7]\n",
      "445\n"
     ]
    },
    {
     "data": {
      "text/plain": [
       "([6, 2, 12, 8, 9, 13, 11, 4, 1, 14, 10, 3, 5, 0, 7, 6], 451)"
      ]
     },
     "execution_count": 122,
     "metadata": {},
     "output_type": "execute_result"
    }
   ],
   "source": [
    "nearestish_neighbor()"
   ]
  },
  {
   "cell_type": "markdown",
   "metadata": {},
   "source": []
  },
  {
   "cell_type": "code",
   "execution_count": 120,
   "metadata": {},
   "outputs": [
    {
     "data": {
      "text/plain": [
       "0"
      ]
     },
     "execution_count": 120,
     "metadata": {},
     "output_type": "execute_result"
    }
   ],
   "source": [
    "a.min()"
   ]
  },
  {
   "cell_type": "code",
   "execution_count": 102,
   "metadata": {},
   "outputs": [
    {
     "name": "stdout",
     "output_type": "stream",
     "text": [
      "0     99\n",
      "1     20\n",
      "2     76\n",
      "3      0\n",
      "4     75\n",
      "5     73\n",
      "6      5\n",
      "7     80\n",
      "8     57\n",
      "9     12\n",
      "10    65\n",
      "11    32\n",
      "12    94\n",
      "13    76\n",
      "14    24\n",
      "Name: 3, dtype: int64\n",
      "0     99\n",
      "2     76\n",
      "4     75\n",
      "5     73\n",
      "7     80\n",
      "12    94\n",
      "13    76\n",
      "Name: 3, dtype: int64\n",
      "13    76\n",
      "Name: 3, dtype: int64\n",
      "13\n",
      "76\n",
      "[13, 1]\n"
     ]
    }
   ],
   "source": [
    "a = distances[3]#.filter([4,5,6])\n",
    "print(a)\n",
    "b = a[a.gt(70)]\n",
    "print(b)\n",
    "c = b.sample(1)\n",
    "print(c)\n",
    "i = c.index[0]\n",
    "print(i)\n",
    "v = c.values[0]\n",
    "print(v)\n",
    "l = []\n",
    "l.append(i)\n",
    "l.append(1)\n",
    "print(l)"
   ]
  },
  {
   "cell_type": "code",
   "execution_count": null,
   "id": "a982690b",
   "metadata": {},
   "outputs": [],
   "source": [
    "tour = []\n",
    "tour_length = 0\n",
    "\n",
    "NN(1,tour)  #This finds the nearest neighbor tour starting at city 1.\n",
    "\n",
    "for i in range(len(tsp_data)):\n",
    "    tour = []\n",
    "    tour_length = 0\n",
    "    tour, tour_length = NN(i, tour)\n",
    "    print(tour, tour_length)"
   ]
  }
 ],
 "metadata": {
  "kernelspec": {
   "display_name": "Python 3 (ipykernel)",
   "language": "python",
   "name": "python3"
  },
  "language_info": {
   "codemirror_mode": {
    "name": "ipython",
    "version": 3
   },
   "file_extension": ".py",
   "mimetype": "text/x-python",
   "name": "python",
   "nbconvert_exporter": "python",
   "pygments_lexer": "ipython3",
   "version": "3.11.4"
  }
 },
 "nbformat": 4,
 "nbformat_minor": 5
}
