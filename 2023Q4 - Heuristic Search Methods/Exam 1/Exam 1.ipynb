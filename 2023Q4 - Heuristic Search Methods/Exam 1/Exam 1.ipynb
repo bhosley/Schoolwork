{
 "cells": [
  {
   "cell_type": "markdown",
   "id": "87c20443",
   "metadata": {},
   "source": [
    "# Nearest Neighbor Constructive Heuristic\n",
    "**Author: Dr Bruce Cox  <br/>\n",
    "Last Revsision: 19 Oct 2023**\n",
    "\n",
    "This code takes in any arbitrary sized symmetric matrix of distances for the Traveling Salesman Problem and constructs valid tours for each starting city using the node-greedy nearest neighbor heursitic.  "
   ]
  },
  {
   "cell_type": "markdown",
   "id": "8a679404-9e66-41a4-9af5-4c490e942366",
   "metadata": {},
   "source": [
    "# Import Libraries"
   ]
  },
  {
   "cell_type": "code",
   "execution_count": 1,
   "id": "c901db4e",
   "metadata": {},
   "outputs": [],
   "source": [
    "import pandas as pd"
   ]
  },
  {
   "cell_type": "markdown",
   "id": "18c6bc59",
   "metadata": {},
   "source": [
    "#### Read in a TSP Instance"
   ]
  },
  {
   "cell_type": "code",
   "execution_count": 2,
   "id": "5e139571",
   "metadata": {},
   "outputs": [
    {
     "name": "stdout",
     "output_type": "stream",
     "text": [
      "(15, 15)\n",
      "    0    1   2   3   4   5    6   7    8   9   10  11  12  13   14\n",
      "0    0   91  15  99  26  93   69  20   98  62  90  47  23  77    4\n",
      "1   91    0  50  20  40  59  100  59   13  84  96  68  54  11    1\n",
      "2   15   50   0  76  96  40    4  53   93  62  59  95  23  97   53\n",
      "3   99   20  76   0  75  73    5  80   57  12  65  32  94  76   24\n",
      "4   26   40  96  75   0  65   28  45   12  82  85   3  49  47   80\n",
      "5   93   59  40  73  65   0    9  81   51  28  93  90  60  73   88\n",
      "6   69  100   4   5  28   9    0   6   65  12  35   8  61  89   44\n",
      "7   20   59  53  80  45  81    6   0   77  34   2  36  49  67   99\n",
      "8   98   13  93  57  12  51   65  77    0  27  62  68  28  38  100\n",
      "9   62   84  62  12  82  28   12  34   27   0   7  28  49   8    9\n",
      "10  90   96  59  65  85  93   35   2   62   7   0  97  95  98   26\n",
      "11  47   68  95  32   3  90    8  36   68  28  97   0  74  34   89\n",
      "12  23   54  23  94  49  60   61  49   28  49  95  74   0  55   78\n",
      "13  77   11  97  76  47  73   89  67   38   8  98  34  55   0   60\n",
      "14   4    1  53  24  80  88   44  99  100   9  26  89  78  60    0\n"
     ]
    }
   ],
   "source": [
    "tsp_data = pd.read_excel(\"Lab Data.xlsx\", index_col=None)\n",
    "print(tsp_data.shape)\n",
    "print(tsp_data)"
   ]
  },
  {
   "cell_type": "markdown",
   "id": "61394761",
   "metadata": {},
   "source": [
    "#### Find the set of valid neighbors for the current city\n",
    "Since the TSP is fully connected every unvisited city is a valid neighbor"
   ]
  },
  {
   "cell_type": "markdown",
   "id": "a34802b9-8ac4-41b9-8305-35d7a30423be",
   "metadata": {},
   "source": [
    "**Test** <br>\n",
    "First lets play around with the idea of finding valid neighbors.  We want to create a function that takes in a tour and outputs the subset of nodes which are not in the tour.  Try playing around with the set of nodes in the array test.  \n",
    "<br>\n",
    "valid_nbrs = [element for element in range(len(tsp_data)) if element not in test] is a list comprehension.  <br>\n",
    "Recall they have the form:\n",
    "newlist = [expression for item in iterable if condition] <br>\n",
    "See: https://www.w3schools.com/python/python_lists_comprehension.asp for more"
   ]
  },
  {
   "cell_type": "code",
   "execution_count": 3,
   "id": "7af3b8d1",
   "metadata": {},
   "outputs": [
    {
     "name": "stdout",
     "output_type": "stream",
     "text": [
      "Valid neighbors : \n",
      " 1 2 3 4 7 8 9 10 11 12 13 14\n"
     ]
    }
   ],
   "source": [
    "test = [0, 5, 6]\n",
    "#create an element in list valid_nbrs if that element isn't in the list test, do this for every element in tsp_data\n",
    "valid_nbrs = [element for element in range(len(tsp_data)) if element not in test]\n",
    "print(\"Valid neighbors : \\n\" ,*valid_nbrs)"
   ]
  },
  {
   "cell_type": "code",
   "execution_count": 4,
   "id": "7b3cb2fa",
   "metadata": {},
   "outputs": [],
   "source": [
    "def valid(tour):\n",
    "    valid_nbrs = [element for element in range(len(tsp_data)) if element not in tour]\n",
    "    #print(\"Valid neighbors : \\n\" ,valid_nbrs)\n",
    "    return valid_nbrs"
   ]
  },
  {
   "cell_type": "markdown",
   "id": "5e16ef56",
   "metadata": {},
   "source": [
    "#### Find the distance to the nearest valid neighbor"
   ]
  },
  {
   "cell_type": "code",
   "execution_count": 5,
   "id": "e4e55e10",
   "metadata": {},
   "outputs": [],
   "source": [
    "# Given current city find nearest valid neighbor\n",
    "def nearest(current_city):\n",
    "    smallest = 100**10  #sets an arbitarly large value as our starting 'shortest arc'\n",
    "    min_position = 0 \n",
    "    \n",
    "    for row in tsp_data.itertuples():  #for every row (equiv. every city) in my instance\n",
    "        if row[0] in valid(tour):  #if that city is not in tour, i.e. it is in valid_nbr\n",
    "            if(smallest > row[current_city + 1]):  #if the distance to that city is shorter then smallest\n",
    "                smallest = row[current_city + 1]   #then we choose that arc\n",
    "                min_position = row[0]              #we need current_city + 1 due to Pythons 0 index, so city 5 is the 6th column\n",
    "    \n",
    "    return min_position, smallest"
   ]
  },
  {
   "cell_type": "markdown",
   "id": "f8bbcf76",
   "metadata": {},
   "source": [
    "#### Find a nearest neighbor tour given a starting city "
   ]
  },
  {
   "cell_type": "code",
   "execution_count": 6,
   "id": "560997ab",
   "metadata": {},
   "outputs": [],
   "source": [
    "def NN(starting_city, tour):   \n",
    "    tour_length = 0\n",
    "    current_city = starting_city\n",
    "    tour.append(current_city)   #add starting city to tour    \n",
    "    \n",
    "    for i in range(len(tsp_data)-1):\n",
    "        min_position, smallest = nearest(current_city) #make call to function \"nearest\" to get nearest nbr with arc cost\n",
    "        tour.append(min_position)\n",
    "        current_city = min_position\n",
    "        tour_length += smallest\n",
    "    \n",
    "    #The TSP requires that the salesman goes back home at the end.\n",
    "    tour.append(starting_city)\n",
    "    tour_length += tsp_data[tour[len(tsp_data)-1]][starting_city]\n",
    "    \n",
    "    return tour, tour_length"
   ]
  },
  {
   "cell_type": "code",
   "execution_count": 7,
   "id": "c536971c",
   "metadata": {},
   "outputs": [],
   "source": [
    "tour = []\n",
    "tour_length = 0"
   ]
  },
  {
   "cell_type": "code",
   "execution_count": 8,
   "id": "d789c284",
   "metadata": {},
   "outputs": [
    {
     "data": {
      "text/plain": [
       "([1, 14, 0, 2, 6, 3, 9, 10, 7, 11, 4, 8, 12, 13, 5, 1], 316)"
      ]
     },
     "execution_count": 8,
     "metadata": {},
     "output_type": "execute_result"
    }
   ],
   "source": [
    "NN(1,tour)  #This finds the nearest neighbor tour starting at city 1."
   ]
  },
  {
   "cell_type": "markdown",
   "id": "671248c5",
   "metadata": {},
   "source": [
    "### Find all the Nearest Neighbor Tours"
   ]
  },
  {
   "cell_type": "code",
   "execution_count": 9,
   "id": "a982690b",
   "metadata": {},
   "outputs": [
    {
     "name": "stdout",
     "output_type": "stream",
     "text": [
      "[0, 14, 1, 13, 9, 10, 7, 6, 2, 12, 8, 4, 11, 3, 5, 0] 307\n",
      "[1, 14, 0, 2, 6, 3, 9, 10, 7, 11, 4, 8, 12, 13, 5, 1] 316\n",
      "[2, 6, 3, 9, 10, 7, 0, 14, 1, 13, 11, 4, 8, 12, 5, 2] 243\n",
      "[3, 6, 2, 0, 14, 1, 13, 9, 10, 7, 11, 4, 8, 12, 5, 3] 269\n",
      "[4, 11, 6, 2, 0, 14, 1, 13, 9, 10, 7, 12, 8, 5, 3, 4] 339\n",
      "[5, 6, 2, 0, 14, 1, 13, 9, 10, 7, 11, 4, 8, 12, 3, 5] 307\n",
      "[6, 2, 0, 14, 1, 13, 9, 10, 7, 11, 4, 8, 12, 5, 3, 6] 269\n",
      "[7, 10, 9, 13, 1, 14, 0, 2, 6, 3, 11, 4, 8, 12, 5, 7] 273\n",
      "[8, 4, 11, 6, 2, 0, 14, 1, 13, 9, 10, 7, 12, 5, 3, 8] 314\n",
      "[9, 10, 7, 6, 2, 0, 14, 1, 13, 11, 4, 8, 12, 5, 3, 9] 272\n",
      "[10, 7, 6, 2, 0, 14, 1, 13, 9, 3, 11, 4, 8, 12, 5, 10] 291\n",
      "[11, 4, 8, 1, 14, 0, 2, 6, 3, 9, 10, 7, 12, 13, 5, 11] 345\n",
      "[12, 0, 14, 1, 13, 9, 10, 7, 6, 2, 5, 8, 4, 11, 3, 12] 298\n",
      "[13, 9, 10, 7, 6, 2, 0, 14, 1, 8, 4, 11, 3, 5, 12, 13] 295\n",
      "[14, 1, 13, 9, 10, 7, 6, 2, 0, 12, 8, 4, 11, 3, 5, 14] 313\n"
     ]
    }
   ],
   "source": [
    "for i in range(len(tsp_data)):\n",
    "    tour = []\n",
    "    tour_length = 0\n",
    "    tour, tour_length = NN(i, tour)\n",
    "    print(tour, tour_length)"
   ]
  },
  {
   "cell_type": "code",
   "execution_count": 10,
   "id": "62cce89e",
   "metadata": {},
   "outputs": [
    {
     "data": {
      "text/plain": [
       "list"
      ]
     },
     "execution_count": 10,
     "metadata": {},
     "output_type": "execute_result"
    }
   ],
   "source": [
    "type(tour)"
   ]
  },
  {
   "cell_type": "code",
   "execution_count": null,
   "id": "18e83580",
   "metadata": {},
   "outputs": [],
   "source": []
  }
 ],
 "metadata": {
  "kernelspec": {
   "display_name": "Python 3 (ipykernel)",
   "language": "python",
   "name": "python3"
  },
  "language_info": {
   "codemirror_mode": {
    "name": "ipython",
    "version": 3
   },
   "file_extension": ".py",
   "mimetype": "text/x-python",
   "name": "python",
   "nbconvert_exporter": "python",
   "pygments_lexer": "ipython3",
   "version": "3.9.4"
  }
 },
 "nbformat": 4,
 "nbformat_minor": 5
}
