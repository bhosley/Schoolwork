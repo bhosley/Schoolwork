{
 "cells": [
  {
   "cell_type": "markdown",
   "id": "6a869734",
   "metadata": {},
   "source": [
    "# A Niave GA to solve the MKP \n",
    "**Written by Dr Bruce Cox** </br>\n",
    "**Last modified:** 22 Sept 2021 </br>\n",
    "\n",
    "This code very roughly follows the outline found here: http://www.micsymposium.org/mics_2004/Hristake.pdf\n"
   ]
  },
  {
   "cell_type": "markdown",
   "id": "0007f9bc",
   "metadata": {},
   "source": [
    "## 0. Import Libraries and Data"
   ]
  },
  {
   "cell_type": "code",
   "execution_count": 81,
   "id": "d6c70302",
   "metadata": {},
   "outputs": [],
   "source": [
    "import pandas as pd\n",
    "import random\n",
    "import numpy as np\n",
    "import array\n",
    "import matplotlib.pyplot as plt\n",
    "%matplotlib inline"
   ]
  },
  {
   "cell_type": "code",
   "execution_count": 82,
   "id": "f24f8d44",
   "metadata": {},
   "outputs": [
    {
     "name": "stdout",
     "output_type": "stream",
     "text": [
      "(200, 3)\n"
     ]
    }
   ],
   "source": [
    "mkp_data = pd.read_excel(\"MKP_Data.xlsx\", index_col=None)\n",
    "mkp_array = mkp_data.to_numpy()\n",
    "print(mkp_array.shape)\n",
    "#print(mkp_array)"
   ]
  },
  {
   "cell_type": "markdown",
   "id": "e05e54fa",
   "metadata": {},
   "source": [
    "## 1. Set Constraints and GA Tunable Paramaters"
   ]
  },
  {
   "cell_type": "markdown",
   "id": "06a32172",
   "metadata": {},
   "source": [
    "### Problem Parameters"
   ]
  },
  {
   "cell_type": "code",
   "execution_count": 83,
   "id": "f92f60e6",
   "metadata": {},
   "outputs": [],
   "source": [
    "max_weight = 55\n",
    "max_volume = 4000"
   ]
  },
  {
   "cell_type": "markdown",
   "id": "0bedd3f0",
   "metadata": {},
   "source": [
    "### Tuneable Parameters\n",
    "#### <span style=\"color: red;\">You probably want to change population size and mutation rates...</span>."
   ]
  },
  {
   "cell_type": "code",
   "execution_count": 84,
   "id": "b928017b",
   "metadata": {},
   "outputs": [],
   "source": [
    "popsize = 20 \n",
    "mutate_odds = .3\n",
    "generations = 50000"
   ]
  },
  {
   "cell_type": "markdown",
   "id": "b6d6f9ae",
   "metadata": {},
   "source": [
    "## 2. Create Helper Functions"
   ]
  },
  {
   "cell_type": "markdown",
   "id": "2e1a6ac5",
   "metadata": {},
   "source": [
    "### Create a function that calculates solution value, weight and volume"
   ]
  },
  {
   "cell_type": "code",
   "execution_count": 85,
   "id": "731b65cf",
   "metadata": {},
   "outputs": [],
   "source": [
    "def calculator(chromosome):\n",
    "    value = np.dot(chromosome, mkp_array[:,0])\n",
    "    weight = np.dot(chromosome, mkp_array[:,1])\n",
    "    volume = np.dot(chromosome, mkp_array[:,2])\n",
    "    \n",
    "    return value, weight, volume"
   ]
  },
  {
   "cell_type": "markdown",
   "id": "82cbefb0",
   "metadata": {},
   "source": [
    "### Create a function that checks for and fixes infeasibility\n",
    "#### <span style=\"color: red;\">This is one area you should seriously consider changing</span>."
   ]
  },
  {
   "cell_type": "code",
   "execution_count": 86,
   "id": "8ee7cfc6",
   "metadata": {},
   "outputs": [],
   "source": [
    "def fixer(chromosome):\n",
    "    _, weight, volume = calculator(chromosome)\n",
    "    infeasible = True\n",
    "\n",
    "    while infeasible:\n",
    "        # Drop items until feasibility is achieved\n",
    "        infeasible =  False\n",
    "\n",
    "        slack_v = max_volume - volume\n",
    "        slack_w = max_weight - weight\n",
    "\n",
    "        # Check constraints\n",
    "        if slack_w <= 0 or slack_v <= 0: \n",
    "            infeasible = True\n",
    "\n",
    "            # If weight is more violated than volume\n",
    "            if slack_w < slack_v:\n",
    "                # Drop with largest weight to value ratio\n",
    "                i = np.argmax(chromosome * mkp_array[:,1] / mkp_array[:,0])\n",
    "                chromosome[i]=0\n",
    "            else:\n",
    "                # Drop item with worst voluminous to value ratio\n",
    "                i = np.argmax(chromosome * mkp_array[:,2]/ mkp_array[:,0])\n",
    "                chromosome[i]=0\n",
    "\n",
    "        _, weight, volume = calculator(chromosome)\n",
    "\n",
    "    # End infeasibility loop\n",
    "\n",
    "    # Check if any items can fit in the bag\n",
    "    slack_v = max_volume - volume\n",
    "    slack_w = max_weight - weight\n",
    "    eligible_items = [mkp_array[i,1] <= slack_w and mkp_array[i,2] <= slack_v and not chromosome[i] for i in range(len(mkp_data))]\n",
    "\n",
    "    while np.sum(eligible_items) > 0:\n",
    "        # Find the most valuable of the items that can fit and add it\n",
    "        if slack_w < slack_v:\n",
    "            new_item = np.argmax(eligible_items * mkp_array[:,0] / mkp_array[:,1])\n",
    "            chromosome[new_item] = 1\n",
    "        else:\n",
    "            new_item = np.argmax(eligible_items * mkp_array[:,0] / mkp_array[:,2])\n",
    "            chromosome[new_item] = 1\n",
    "\n",
    "        # Re-calculate until no items can fit\n",
    "        _, weight, volume = calculator(chromosome)\n",
    "        slack_v = max_volume - volume\n",
    "        slack_w = max_weight - weight\n",
    "        eligible_items = [mkp_array[i,1] <= slack_w and mkp_array[i,2] <= slack_v and not chromosome[i] for i in range(len(mkp_data))]\n",
    "\n",
    "    return chromosome"
   ]
  },
  {
   "cell_type": "markdown",
   "id": "198340d5",
   "metadata": {},
   "source": [
    "### Create a function that selects 2 parents and creates a child\n",
    "#### <span style=\"color: red;\">You should definetly change this section.  How else could you choose parents?  How else could you update population?  Look at class notes for ideas!</span>."
   ]
  },
  {
   "cell_type": "code",
   "execution_count": 87,
   "id": "a163b430",
   "metadata": {},
   "outputs": [],
   "source": [
    "def next_gen(population):\n",
    "    pop_value=[]\n",
    "    for i in range(0,popsize):   #calculate value for all members of population and save it into list pop_value\n",
    "        value, weight, volume = calculator(population[i,:])\n",
    "        temp = np.append(pop_value, [value], axis=0)\n",
    "        pop_value = temp\n",
    "        \n",
    "    ndx = np.argsort(-pop_value)  #sort indexes of pop_value from largest to smallest\n",
    "    mom, dad = np.random.randint(low=0, high=round(popsize/4), size=2)  #select two random numbers from 0 to 1/4 population size. These two numbers are the index of two parents\n",
    "    #crossover = np.random.randint(low=0, high=len(mkp_array[:,0]), size=1)  #randomly select a crossover locus in middle 1/3 of genes\n",
    "    crossover = np.random.randint(low=len(mkp_array[:,0])*1/3, high=len(mkp_array[:,0])*2/3, size=1)  #randomly select a crossover locus in middle 1/3 of genes\n",
    "    child=np.append(population[ndx[mom],:(crossover[0])], population[ndx[dad],crossover[0]:])    #take \"left half\" of mom and \"right half\" of Dad as child\n",
    "    \n",
    "    return child, pop_value, ndx"
   ]
  },
  {
   "cell_type": "markdown",
   "id": "53d6c594",
   "metadata": {},
   "source": [
    "### Create a function that mutates a chromosome "
   ]
  },
  {
   "cell_type": "code",
   "execution_count": 88,
   "id": "61c78087",
   "metadata": {},
   "outputs": [],
   "source": [
    "def mutate(chromosome):\n",
    "    for i in range(0,len(mkp_data)):\n",
    "        if random.uniform(0, 1) <= mutate_odds:\n",
    "            if chromosome[i] == 1: \n",
    "                chromosome[i] = 0 \n",
    "            if chromosome[i] == 0: \n",
    "                chromosome[i] = 1\n",
    "    return chromosome"
   ]
  },
  {
   "cell_type": "markdown",
   "id": "414f373c",
   "metadata": {},
   "source": [
    "## 3. Execute GA"
   ]
  },
  {
   "cell_type": "code",
   "execution_count": 89,
   "id": "29ac8fbc",
   "metadata": {},
   "outputs": [
    {
     "data": {
      "image/png": "[encoded data removed]",
      "text/plain": [
       "<Figure size 640x480 with 1 Axes>"
      ]
     },
     "metadata": {},
     "output_type": "display_data"
    }
   ],
   "source": [
    "x_data_plot=[]\n",
    "y_data_plot=[]\n",
    "pop_value = [0]\n",
    "\n",
    "#Create random population\n",
    "population = np.random.randint(low=0, high=2, size=(popsize,len(mkp_data)))\n",
    "\n",
    "#Ensure feasibility of initial random population\n",
    "for i in range(0, popsize):\n",
    "    population[i] = fixer(population[i])\n",
    "\n",
    "#Run GA for generations\n",
    "for i in range(0, generations):\n",
    "    child, pop_value, ndx = next_gen(population)\n",
    "    child = mutate(child)\n",
    "    child = fixer(child)\n",
    "    value, weight, volume = calculator(child)\n",
    "    if value > pop_value[ndx[popsize-1]]:\n",
    "        population[ndx[popsize-1]] = child\n",
    "    x_data_plot.append(i)\n",
    "    y_data_plot.append(max(pop_value))\n",
    "\n",
    "plt.plot(x_data_plot,y_data_plot)\n",
    "plt.show()"
   ]
  },
  {
   "cell_type": "code",
   "execution_count": null,
   "id": "f529dece",
   "metadata": {},
   "outputs": [],
   "source": []
  }
 ],
 "metadata": {
  "kernelspec": {
   "display_name": "Python 3",
   "language": "python",
   "name": "python3"
  },
  "language_info": {
   "codemirror_mode": {
    "name": "ipython",
    "version": 3
   },
   "file_extension": ".py",
   "mimetype": "text/x-python",
   "name": "python",
   "nbconvert_exporter": "python",
   "pygments_lexer": "ipython3",
   "version": "3.11.4"
  }
 },
 "nbformat": 4,
 "nbformat_minor": 5
}
