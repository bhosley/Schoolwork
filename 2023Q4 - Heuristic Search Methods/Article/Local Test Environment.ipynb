{
 "cells": [
  {
   "cell_type": "code",
   "execution_count": 448,
   "metadata": {},
   "outputs": [],
   "source": [
    "import numpy as np\n",
    "import itertools\n",
    "import math\n",
    "import random\n",
    "import matplotlib.pyplot as plt\n",
    "\n",
    "CITIES = [city for city in range(14)]"
   ]
  },
  {
   "cell_type": "code",
   "execution_count": 442,
   "metadata": {},
   "outputs": [],
   "source": [
    "a = np.array(np.random.permutation(CITIES))\n",
    "b = np.array(np.random.permutation(CITIES))\n",
    "c = [np.array(np.random.permutation(CITIES))[:3] for _ in range(10)]"
   ]
  },
  {
   "cell_type": "code",
   "execution_count": 267,
   "metadata": {},
   "outputs": [
    {
     "name": "stdout",
     "output_type": "stream",
     "text": [
      "[array([7, 5, 6]), array([4, 6, 0]), array([13,  5,  0]), array([10,  1,  0]), array([ 7, 13,  6]), array([13,  6,  3]), array([10,  0,  4]), array([11,  4,  5]), array([11,  9,  2]), array([11,  7,  0])]\n",
      "[array([4, 6, 0]), array([10,  1,  0])]\n",
      "[array([4, 6, 0]), array([10,  1,  0])]\n",
      "[array([ 7, 13,  6]), array([13,  6,  3])]\n",
      "[array([7, 5, 6]), array([4, 6, 0]), array([13,  5,  0]), array([10,  1,  0]), array([ 7, 13,  6]), array([13,  6,  3]), array([10,  0,  4]), array([11,  4,  5]), array([11,  9,  2]), array([11,  7,  0])]\n"
     ]
    }
   ],
   "source": [
    "def my_func(array):\n",
    "    return np.sum(array)\n",
    "\n",
    "mf = (lambda x : np.sum(x))\n",
    "\n",
    "print(c)\n",
    "\n",
    "print(sorted(c, key=my_func)[:2])\n",
    "print(sorted(c, key=mf)[:2])\n",
    "print(sorted(c, key=my_func, reverse=True)[:2])\n",
    "\n",
    "print(c)\n"
   ]
  },
  {
   "cell_type": "code",
   "execution_count": 456,
   "metadata": {},
   "outputs": [
    {
     "name": "stdout",
     "output_type": "stream",
     "text": [
      "[13 10  5 12  7  2  4 11  6  9  0  3  8  1]\n",
      "[10]\n",
      "[ 0  3  8  1 13 10  5 12  7  2  4 11  6  9]\n"
     ]
    }
   ],
   "source": [
    "print(a)\n",
    "print(np.argwhere(a==0)[0])\n",
    "print(np.roll(a, -np.argwhere(a==0)[0]))"
   ]
  },
  {
   "cell_type": "code",
   "execution_count": 129,
   "metadata": {},
   "outputs": [
    {
     "name": "stdout",
     "output_type": "stream",
     "text": [
      "[13  1  7  8  6  4 10  3  0  5 11 12  9  2]\n",
      "[ 0  5  3  6  7  4  1 11 10 13 12  9  8  2]\n",
      "[13  1  7  8]\n",
      "[ 4 10  3  0  5 11 12  9  2]\n"
     ]
    }
   ],
   "source": [
    "print(a)\n",
    "print(b)\n",
    "i = np.where(a==6)[0][0]\n",
    "a1,_,a2 = np.split(a,[i,i+1])\n",
    "print(a1)\n",
    "print(a2)"
   ]
  },
  {
   "cell_type": "code",
   "execution_count": 151,
   "metadata": {},
   "outputs": [
    {
     "name": "stdout",
     "output_type": "stream",
     "text": [
      "[6 4]\n",
      "[array([0, 5, 3, 6]), array([4]), array([11, 10, 13, 12,  9,  8,  2])]\n",
      "[13  1  7  8]\n",
      "13\n",
      "[array([11, 10, 13, 12,  9,  8,  2])]\n",
      "8\n",
      "[array([11, 10, 13, 12,  9,  8,  2])]\n"
     ]
    }
   ],
   "source": [
    "bi = np.array([np.where(b==v)[0][0] for v in a1[1:-1]])\n",
    "print(bi)\n",
    "bi2 = np.concatenate((bi, bi+1))\n",
    "bi2.sort()\n",
    "b_segs = np.split(b, bi2)\n",
    "print(b_segs)\n",
    "b_segs = b_segs[::2]\n",
    "print(b_segs)\n",
    "print(a1)\n",
    "\n",
    "for _i in [a1[0],a1[-1]]:\n",
    "    print(_i)\n",
    "    #print(b_segs.any(_i))\n",
    "    #np.array([np.any(b_segs[_j] == ) for _j in range(len(b_segs))])\n",
    "    print([seg for seg in b_segs if _i in seg])"
   ]
  },
  {
   "cell_type": "code",
   "execution_count": 161,
   "metadata": {},
   "outputs": [
    {
     "name": "stdout",
     "output_type": "stream",
     "text": [
      "[ 9  6  4 12]\n",
      "[array([0, 5, 3, 6]), array([4]), array([11, 10]), array([12,  9]), array([2])]\n",
      "[13  1  7  8]\n",
      "4\n",
      "[0 5 3 6]\n"
     ]
    }
   ],
   "source": [
    "bi = np.array([np.where(b==v)[0][0] for v in a1])\n",
    "print(bi)\n",
    "bi2 = np.concatenate((bi, bi+1))\n",
    "bi2.sort()\n",
    "b_segs = np.split(b, bi2)[::2]\n",
    "print(b_segs)\n",
    "print(a1)\n",
    "\n",
    "b_seg_lengths = [len(seg) for seg in b_segs]\n",
    "print(np.max(b_seg_lengths))\n",
    "\n",
    "print(b_segs[np.argmax([len(seg) for seg in b_segs])])\n",
    "#for _i in [a1[0],a1[-1]]:\n",
    "#    print(_i)\n",
    "#    #print(b_segs.any(_i))\n",
    "#    #np.array([np.any(b_segs[_j] == ) for _j in range(len(b_segs))])\n",
    "#    print([seg for seg in b_segs if _i in seg])"
   ]
  },
  {
   "cell_type": "code",
   "execution_count": 444,
   "metadata": {},
   "outputs": [
    {
     "name": "stdout",
     "output_type": "stream",
     "text": [
      "[ 8  4  3 11 10  6  5  2  1  0 12 13  7  9]\n",
      "[[ 8  4]\n",
      " [ 3 11]\n",
      " [10  6]\n",
      " [ 5  2]\n",
      " [ 1  0]\n",
      " [12 13]\n",
      " [ 7  9]]\n"
     ]
    }
   ],
   "source": [
    "print(b)\n",
    "print(np.reshape(b, (7,-1)) )"
   ]
  },
  {
   "cell_type": "code",
   "execution_count": 199,
   "metadata": {},
   "outputs": [
    {
     "name": "stdout",
     "output_type": "stream",
     "text": [
      "-1 -1\n",
      "\n",
      "-1 0\n",
      "\n",
      "0 -1\n",
      "\n",
      "0 0\n",
      "\n"
     ]
    },
    {
     "data": {
      "text/plain": [
       "3"
      ]
     },
     "execution_count": 199,
     "metadata": {},
     "output_type": "execute_result"
    }
   ],
   "source": [
    "x2 = [_x for _x in itertools.product([-1,0],repeat=2)]\n",
    "for i,j in x2:\n",
    "    print(i,j)\n",
    "    print()\n",
    "\n",
    "np.argmax([i+j for i,j in [_x for _x in itertools.product([-1,0],repeat=2)]])"
   ]
  },
  {
   "cell_type": "code",
   "execution_count": 198,
   "metadata": {},
   "outputs": [
    {
     "name": "stdout",
     "output_type": "stream",
     "text": [
      "(-1 ,-1)\n",
      "(-1 ,0)\n",
      "(0 ,-1)\n",
      "(0 ,0)\n"
     ]
    }
   ],
   "source": [
    "def coords(n):\n",
    "    print(f\"({math.floor(n*0.5-1)} ,{n%2-1})\")\n",
    "\n",
    "coords(0)\n",
    "coords(1)\n",
    "coords(2)\n",
    "coords(3)"
   ]
  },
  {
   "cell_type": "code",
   "execution_count": 284,
   "metadata": {},
   "outputs": [
    {
     "name": "stdout",
     "output_type": "stream",
     "text": [
      "1\n",
      "4\n"
     ]
    }
   ],
   "source": [
    "#a,b = [random.randint(0,5)]*2\n",
    "a,b = np.random.randint(0,5,2)\n",
    "print(a)\n",
    "print(b)\n"
   ]
  },
  {
   "cell_type": "code",
   "execution_count": 292,
   "metadata": {},
   "outputs": [
    {
     "name": "stdout",
     "output_type": "stream",
     "text": [
      "-6.907755278982137\n",
      "0.0\n",
      "2.995732273553991\n"
     ]
    }
   ],
   "source": [
    "print(math.log(0.001))\n",
    "print(math.log(1))\n",
    "print(math.log(20))"
   ]
  },
  {
   "cell_type": "code",
   "execution_count": 439,
   "metadata": {},
   "outputs": [
    {
     "name": "stdout",
     "output_type": "stream",
     "text": [
      "0.7674447262822035\n",
      "0.020866310625282533\n",
      "0.15627497892268477\n",
      "0.26398724297842024\n"
     ]
    }
   ],
   "source": [
    "print(np.random.beta(20,10))\n",
    "print(np.random.beta(2,2))\n",
    "print(np.random.beta(2,5))\n",
    "print(np.random.beta(10,25))"
   ]
  },
  {
   "cell_type": "code",
   "execution_count": 450,
   "metadata": {},
   "outputs": [
    {
     "data": {
      "image/png": "[encoded data removed]",
      "text/plain": [
       "<Figure size 640x480 with 1 Axes>"
      ]
     },
     "metadata": {},
     "output_type": "display_data"
    }
   ],
   "source": [
    "plt.plot(range(4),range(4))\n",
    "plt.plot(range(4),[2,3,4,1])\n",
    "plt.show()"
   ]
  }
 ],
 "metadata": {
  "kernelspec": {
   "display_name": "Python 3",
   "language": "python",
   "name": "python3"
  },
  "language_info": {
   "codemirror_mode": {
    "name": "ipython",
    "version": 3
   },
   "file_extension": ".py",
   "mimetype": "text/x-python",
   "name": "python",
   "nbconvert_exporter": "python",
   "pygments_lexer": "ipython3",
   "version": "3.11.4"
  }
 },
 "nbformat": 4,
 "nbformat_minor": 2
}
