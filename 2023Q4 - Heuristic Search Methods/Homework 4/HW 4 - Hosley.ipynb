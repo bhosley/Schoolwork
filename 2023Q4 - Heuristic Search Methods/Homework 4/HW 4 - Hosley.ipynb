{
 "cells": [
  {
   "cell_type": "code",
   "execution_count": 1,
   "metadata": {},
   "outputs": [],
   "source": [
    "import numpy as np\n",
    "%load_ext ipydex.displaytools"
   ]
  },
  {
   "cell_type": "markdown",
   "metadata": {},
   "source": [
    "1. (4 Pts ) Propose a local search heuristic to solve the 0-1 Multi-Constraint Knapsack Problem (MKP). Ensure you deal with multiple, perhaps conflicting constraints, solution feasibility and the objective function.  How you balance and trade these off is the nature of your heuristic. Assume you are starting at a randomly generated feasible solution.\n",
    "\n",
    "We will take a feasible solution knapsack and for each item already in the bag \n",
    "we will compare it to all of the items outside the sack to determine first if \n",
    "the switch will be an improvement, then if switching the two items is feasible.\n",
    "This process will be repeated until a search has occured and no improvements have been found."
   ]
  },
  {
   "cell_type": "markdown",
   "metadata": {},
   "source": [
    "4. (2 Pts) Write up and comment pseudo code for your heuristic."
   ]
  },
  {
   "cell_type": "code",
   "execution_count": 70,
   "metadata": {},
   "outputs": [],
   "source": [
    "def knapsack_solver(item_attrs, item_utils, bag_cap, bag_contents, maximize=True):\n",
    "    \"\"\"\n",
    "    item_attrs: Item Attributes, a (number of constraints) x (number of items)\n",
    "        array containing each item's cost against bag constrains.\n",
    "\n",
    "    item_vals: Item values, a 1 x (number of items) array containing the \n",
    "        values of each item's inclusion in the knapsack.\n",
    "\n",
    "    bag_cap: Bag Capacity, a 1 x (number of constraints) array containing\n",
    "        the value of the\n",
    "    \"\"\"\n",
    "    num_items = np.shape(item_attrs)[1]\n",
    "\n",
    "    # Begin loop until no change occurs\n",
    "    change = True\n",
    "    while change:\n",
    "        change = False\n",
    "\n",
    "        # Checking each of the current items\n",
    "        for i in bag_contents.nonzero()[1]:\n",
    "            this_item = item_attrs[:,i]\n",
    "            this_util = item_utils[i]\n",
    "\n",
    "            # Slack with this item removed\n",
    "            slack = bag_cap - bag_contents @ item_attrs.T + this_item\n",
    "\n",
    "            # Remove current contents from cancidates\n",
    "            candidate_items = np.ones([1, num_items]) - bag_contents \n",
    "\n",
    "            # Remove less valuable items\n",
    "            candidate_items =  candidate_items * np.greater(item_utils, this_util)\n",
    "            \n",
    "            # Remove items that wont fit\n",
    "            candidate_items =  candidate_items * np.less(item_attrs, slack.T).all(axis=0)\n",
    "            \n",
    "            # Check if there is an improving item, then swap\n",
    "            if bool(np.max(item_utils * candidate_items)):\n",
    "                j = np.argmax(item_utils * candidate_items)\n",
    "                bag_contents[0,i] = 0\n",
    "                bag_contents[0,j] = 1\n",
    "                change = True\n",
    "\n",
    "        # Can another item fit in our slack space?\n",
    "        slack = bag_cap - bag_contents @ item_attrs.T\n",
    "        slack_eligible = np.less_equal(item_attrs, slack.T).all(axis=0)\n",
    "        \n",
    "        # If so, add it to the bag\n",
    "        if slack_eligible.any():\n",
    "            i = np.argmax(slack_eligible * item_utils)\n",
    "            bag_contents[0,i] = 1\n",
    "            change = True\n",
    "\n",
    "    # End while\n",
    "    # Return the new bag contents\n",
    "    return bag_contents"
   ]
  },
  {
   "cell_type": "markdown",
   "metadata": {},
   "source": [
    "2. (2 Pts) Create a small example (minimum of 3 constraints, 10 objects) of the 0-1 Multi-Constraint Knapsack Problem and apply your heuristic."
   ]
  },
  {
   "cell_type": "code",
   "execution_count": 97,
   "metadata": {},
   "outputs": [
    {
     "name": "stdout",
     "output_type": "stream",
     "text": [
      "Items:              [[1 0 0 0 0 0 1 1 0 0 0 0 0 0 0 0 0 0 0]]\n",
      "Constraints:        [[28 29  5]]\n",
      "Knapsack value:     [90]\n",
      "Items:              [[1 1 0 0 0 0 1 0 0 0 0 0 0 0 0 0 0 0 0]]\n",
      "Constraints:        [[49 42  4]]\n",
      "Knapsack value:     [96]\n"
     ]
    }
   ],
   "source": [
    "value = np.array([48, 30, 42, 36, 22, 43, 18, 24, 36, 29, 30, 25, 19, 41, 34, 32, 27, 24, 18])\n",
    "attributes = np.array([\n",
    "    [10, 30, 12, 22, 12, 20,  9,  9, 18, 20, 25, 18,  7, 16, 24, 21, 21, 32,  9], \n",
    "    [15, 20, 18, 20,  5, 12,  7,  7, 24, 30, 25, 20,  5, 25, 19, 24, 19, 14, 30], \n",
    "    [ 3,  1,  2,  3,  1,  2,  0,  2,  2,  1,  2,  3,  4,  3,  2,  3,  1,  1,  3]\n",
    "])\n",
    "capacity = np.array([[50, 50, 5]])\n",
    "contents = np.array([[1,0,0,0,0,0,1,1,0,0,0,0,0,0,0,0,0,0,0]])\n",
    "\n",
    "print(f\"{'Items:':<20}{contents}\")\n",
    "print(f\"{'Constraints:':<20}{contents @ attributes.T}\")\n",
    "print(f\"{'Knapsack value:':<20}{contents @ value}\")\n",
    "\n",
    "result = knapsack_solver(attributes, value, capacity, contents)\n",
    "\n",
    "print(f\"{'Items:':<20}{result}\")\n",
    "print(f\"{'Constraints:':<20}{result @ attributes.T}\")\n",
    "print(f\"{'Knapsack value:':<20}{result @ value}\")"
   ]
  },
  {
   "cell_type": "markdown",
   "metadata": {},
   "source": [
    "3. (2 Pts) Using the criteria found in Lecture 02, critique your heuristic. \n",
    "\n"
   ]
  }
 ],
 "metadata": {
  "kernelspec": {
   "display_name": "Python 3",
   "language": "python",
   "name": "python3"
  },
  "language_info": {
   "codemirror_mode": {
    "name": "ipython",
    "version": 3
   },
   "file_extension": ".py",
   "mimetype": "text/x-python",
   "name": "python",
   "nbconvert_exporter": "python",
   "pygments_lexer": "ipython3",
   "version": "3.11.4"
  }
 },
 "nbformat": 4,
 "nbformat_minor": 2
}
