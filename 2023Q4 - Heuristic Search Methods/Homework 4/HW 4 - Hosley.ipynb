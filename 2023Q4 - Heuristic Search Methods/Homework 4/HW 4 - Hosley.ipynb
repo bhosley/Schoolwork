{
 "cells": [
  {
   "cell_type": "markdown",
   "metadata": {},
   "source": [
    "# OPER 623 - Heuristist Search Methods\n",
    "## Homework 4\n",
    "### Hosley, Brandon"
   ]
  },
  {
   "cell_type": "code",
   "execution_count": 1,
   "metadata": {},
   "outputs": [],
   "source": [
    "import numpy as np\n",
    "%load_ext ipydex.displaytools"
   ]
  },
  {
   "cell_type": "markdown",
   "metadata": {},
   "source": [
    "1. (4 Pts ) Propose a local search heuristic to solve the 0-1 Multi-Constraint Knapsack Problem (MKP). Ensure you deal with multiple, perhaps conflicting constraints, solution feasibility and the objective function.  How you balance and trade these off is the nature of your heuristic. Assume you are starting at a randomly generated feasible solution.\n",
    "\n",
    "We will take a feasible solution knapsack and for each item already in the bag \n",
    "we will compare it to all of the items outside the sack to determine first if \n",
    "the switch will be an improvement, then if switching the two items is feasible.\n",
    "This process will be repeated until a search has occured and no improvements have been found."
   ]
  },
  {
   "cell_type": "markdown",
   "metadata": {},
   "source": [
    "2. (2 Pts) Create a small example (minimum of 3 constraints, 10 objects) of the 0-1 Multi-Constraint Knapsack Problem and apply your heuristic."
   ]
  },
  {
   "cell_type": "code",
   "execution_count": 70,
   "metadata": {},
   "outputs": [],
   "source": [
    "def knapsack_solver(item_attrs, item_utils, bag_cap, bag_contents=None):\n",
    "    \"\"\"\n",
    "    item_attrs: Item Attributes, a (number of constraints) x (number of items)\n",
    "        array containing each item's cost against bag constrains.\n",
    "\n",
    "    item_vals: Item values, a 1 x (number of items) array containing the \n",
    "        values of each item's inclusion in the knapsack.\n",
    "\n",
    "    bag_cap: Bag Capacity, a 1 x (number of constraints) array containing\n",
    "        the value of the\n",
    "    \"\"\"\n",
    "    num_items = np.shape(item_attrs)[1]\n",
    "    # Check for initial answer, if none, instance a bag\n",
    "    if not bag_contents:\n",
    "        bag_contents = np.zeros([0,num_items])\n",
    "    # Check for feasibility \n",
    "    if np.less(bag_cap, bag_contents @ item_attrs.T).any(axis=0):\n",
    "        print(\"Initial contents are invalid\")\n",
    "        return None\n",
    "    \n",
    "    \n",
    "    slack = bag_cap - bag_contents @ item_attrs.T\n",
    "    slack_eligible = \n",
    "    slack_eligible.any()\n",
    "\n",
    "    # Begin loop until no change occurs\n",
    "    change = True\n",
    "    while change:\n",
    "        change = False\n",
    "\n",
    "        # Checking each of the current items\n",
    "        for i in bag_contents.nonzero()[1]:\n",
    "            this_item = item_attrs[:,i]\n",
    "            this_util = item_utils[i]\n",
    "\n",
    "            # Slack with this item removed\n",
    "            slack = bag_cap - bag_contents @ item_attrs.T + this_item\n",
    "\n",
    "            # Remove current contents from cancidates\n",
    "            candidate_items = np.ones([1, num_items]) - bag_contents \n",
    "\n",
    "            # Remove less valuable items\n",
    "            candidate_items =  candidate_items * np.greater(item_utils, this_util)\n",
    "            \n",
    "            # Remove items that wont fit\n",
    "            candidate_items =  candidate_items * np.less(item_attrs, slack.T).all(axis=0)\n",
    "            \n",
    "            # Check if there is an improving item, then swap\n",
    "            if bool(np.max(item_utils * candidate_items)):\n",
    "                j = np.argmax(item_utils * candidate_items)\n",
    "                bag_contents[0,i] = 0\n",
    "                bag_contents[0,j] = 1\n",
    "                change = True\n",
    "\n",
    "        # Can another item fit in our slack space?\n",
    "        slack = bag_cap - bag_contents @ item_attrs.T\n",
    "        slack_eligible = np.less_equal(item_attrs, slack.T).all(axis=0)\n",
    "        \n",
    "        # If so, add it to the bag\n",
    "        if slack_eligible.any():\n",
    "            i = np.argmax(slack_eligible * item_utils)\n",
    "            bag_contents[0,i] = 1\n",
    "            change = True\n",
    "\n",
    "    # End while\n",
    "    # Return the new bag contents\n",
    "    return bag_contents"
   ]
  },
  {
   "cell_type": "code",
   "execution_count": 97,
   "metadata": {},
   "outputs": [
    {
     "name": "stdout",
     "output_type": "stream",
     "text": [
      "Items:              [[1 0 0 0 0 0 1 1 0 0 0 0 0 0 0 0 0 0 0]]\n",
      "Constraints:        [[28 29  5]]\n",
      "Knapsack value:     [90]\n",
      "Items:              [[1 1 0 0 0 0 1 0 0 0 0 0 0 0 0 0 0 0 0]]\n",
      "Constraints:        [[49 42  4]]\n",
      "Knapsack value:     [96]\n"
     ]
    }
   ],
   "source": [
    "value = np.array([48, 30, 42, 36, 22, 43, 18, 24, 36, 29, 30, 25, 19, 41, 34, 32, 27, 24, 18])\n",
    "attributes = np.array([\n",
    "    [10, 30, 12, 22, 12, 20,  9,  9, 18, 20, 25, 18,  7, 16, 24, 21, 21, 32,  9], \n",
    "    [15, 20, 18, 20,  5, 12,  7,  7, 24, 30, 25, 20,  5, 25, 19, 24, 19, 14, 30], \n",
    "    [ 3,  1,  2,  3,  1,  2,  0,  2,  2,  1,  2,  3,  4,  3,  2,  3,  1,  1,  3]\n",
    "])\n",
    "capacity = np.array([[50, 50, 5]])\n",
    "contents = np.array([[1,0,0,0,0,0,1,1,0,0,0,0,0,0,0,0,0,0,0]])\n",
    "\n",
    "print(\"Initial State:\")\n",
    "print(f\"{'Items:':<20}{contents}\")\n",
    "print(f\"{'Constraints:':<20}{contents @ attributes.T}\")\n",
    "print(f\"{'Knapsack value:':<20}{contents @ value}\")\n",
    "\n",
    "result = knapsack_solver(attributes, value, capacity, contents)\n",
    "\n",
    "print(\"Returned State:\")\n",
    "print(f\"{'Items:':<20}{result}\")\n",
    "print(f\"{'Constraints:':<20}{result @ attributes.T}\")\n",
    "print(f\"{'Knapsack value:':<20}{result @ value}\")"
   ]
  },
  {
   "cell_type": "markdown",
   "metadata": {},
   "source": [
    "3. (2 Pts) Using the criteria found in Lecture 04, critique your heuristic. \n",
    "#### Simplicity\n",
    "- As far as bag-packing heuristics simplicity is perhaps the best feature for this script.\n",
    "#### Reasonable storage requirements\n",
    "- This script, at any given time, stores up to \n",
    "    - 1x Attribute matrices (constraint x item) \n",
    "    - 1x Utility array (1 x items) \n",
    "    - 2x Bag Content array (1 x items) \n",
    "    - 3x (1 x constraints) arrays for Bag constraints, slack, and current inventory costs\n",
    "    - 3x Integers\n",
    "- With proper garbage collection the compute space should not require any more space than what is necessary to store the above items. The first two matrices are constant, the main bag content array is mutated in place, and the candidate list should be unallocated at the end of each loop; the constraints array is also constant; everything else is subject to Python's garbage collection practices, however good or bad that may be.\n",
    "#### Speed\n",
    "- In the example it runs really fast. It should be considered an $O(n\\log n)$ time heuristic,\n",
    "as it might be possible for each item to move through the bag, and each item utilizes a search over\n",
    "each other item, but based on the method used to measure relative values each item may move through the bag only as many times as there are starting items in the bag.\n",
    "#### Accuracy of solution\n",
    "- The solution provided is similar to results provided by the exhaustive search performed in HW 1. However, there are configurations shown in that answer that are better; thus this answer is good but demonstrably sub-optimal.\n",
    "#### Good answers most of the time\n",
    "- Given no initial state it will return a significantly-better-than-random answer. Given an initial feasible answer it will always return an equal or better solution.\n",
    "#### Low variance about these good answers\n",
    "- This implementation is deterministic. Given the same values, the only variables affecting the output are the initial feasible solution and the order in which the items are presented.\n",
    "#### Robustness\n",
    "- This implementation is relatively robust. The most obvious edge case that it will be weak against is one in which it would be beneficial to remove multiple objects already within the bag and replace them with a better, more costly item. It would be possible to add a subroutine within the above implementation that checks subsets of contents against individual items outside of the bag. This would narrow the weakness to cases in which a subset of external objects are an improvement over a subset of bag contents.\n",
    "- This implementation also works without an initial solution and will return an error if the provided initial solution is not feasible. Given more time, I would have liked to take the infeasible solution, remove item(s) until it is feasible, then start the rest of the heuristic."
   ]
  },
  {
   "cell_type": "markdown",
   "metadata": {},
   "source": [
    "4. (2 Pts) Write up and comment pseudo code for your heuristic."
   ]
  },
  {
   "cell_type": "markdown",
   "metadata": {},
   "source": [
    "---\n",
    "### Heuristic 1\n",
    "\n",
    "---\n",
    ">Until no improvements are made: </br>\n",
    ">>**For** each item $i$ currently in the bag </br>\n",
    ">>>Calculate $p$ plausible size; item traits ($i_t$) + bag slack </br>\n",
    ">>>**For** each item $j$ not currently in the bag </br>\n",
    ">>>>**If** $j_t<p$ </br>\n",
    ">>>>**and**  value($i$) < value($j$) </br>\n",
    ">>>>**then** remove $i$ from bag, add $j$ to bag </br>\n",
    ">>\n",
    ">>**For** each item $j$ not currently in the bag </br>\n",
    ">>>**If** $j_t<$ bag slack </br>\n",
    ">>>**then** add $j$ to bag </br>\n",
    ">"
   ]
  },
  {
   "cell_type": "markdown",
   "metadata": {},
   "source": [
    "For less pseudo and more comment please see example in problem 2."
   ]
  },
  {
   "cell_type": "markdown",
   "metadata": {},
   "source": []
  }
 ],
 "metadata": {
  "kernelspec": {
   "display_name": "Python 3",
   "language": "python",
   "name": "python3"
  },
  "language_info": {
   "codemirror_mode": {
    "name": "ipython",
    "version": 3
   },
   "file_extension": ".py",
   "mimetype": "text/x-python",
   "name": "python",
   "nbconvert_exporter": "python",
   "pygments_lexer": "ipython3",
   "version": "3.11.4"
  }
 },
 "nbformat": 4,
 "nbformat_minor": 2
}
