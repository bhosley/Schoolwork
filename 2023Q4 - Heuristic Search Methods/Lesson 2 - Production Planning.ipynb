{
 "cells": [
  {
   "cell_type": "code",
   "execution_count": 1,
   "id": "46e75c8b",
   "metadata": {},
   "outputs": [],
   "source": [
    "from ortools.linear_solver import pywraplp"
   ]
  },
  {
   "cell_type": "code",
   "execution_count": 2,
   "id": "3f4a06ea",
   "metadata": {},
   "outputs": [],
   "source": [
    "# Create the linear solver with the GLOP backend.\n",
    "solver = pywraplp.Solver.CreateSolver('GLOP')"
   ]
  },
  {
   "cell_type": "markdown",
   "id": "9a4120ff",
   "metadata": {},
   "source": [
    "### Define the variables"
   ]
  },
  {
   "cell_type": "code",
   "execution_count": 3,
   "id": "43518225",
   "metadata": {},
   "outputs": [
    {
     "name": "stdout",
     "output_type": "stream",
     "text": [
      "Number of variables = 7\n"
     ]
    }
   ],
   "source": [
    "x1 = solver.NumVar(0, 30, 'x1')\n",
    "x2 = solver.NumVar(0, 20, 'x2')\n",
    "x3 = solver.NumVar(0, 25, 'x3')\n",
    "x4 = solver.NumVar(0, 25, 'x4')\n",
    "\n",
    "y1 = solver.NumVar(0, 100, 'y1')\n",
    "y2 = solver.NumVar(0, 100, 'y2')\n",
    "y3 = solver.NumVar(0, 100, 'y3')\n",
    "\n",
    "print('Number of variables =', solver.NumVariables())"
   ]
  },
  {
   "cell_type": "markdown",
   "id": "24df332a",
   "metadata": {},
   "source": [
    "### Define the constraints"
   ]
  },
  {
   "cell_type": "code",
   "execution_count": 7,
   "id": "87bf69b9",
   "metadata": {},
   "outputs": [
    {
     "name": "stdout",
     "output_type": "stream",
     "text": [
      "Number of constraints = 15\n"
     ]
    }
   ],
   "source": [
    "solver.Add(x1 - y1 == 20.0)\n",
    "solver.Add(x2 + y1 - y2 == 25.0)\n",
    "solver.Add(x3 + y2 - y3 == 15.0)\n",
    "solver.Add(x4 + y3 == 30.0)\n",
    "\n",
    "print('Number of constraints =', solver.NumConstraints())"
   ]
  },
  {
   "cell_type": "markdown",
   "id": "cade2fd9",
   "metadata": {},
   "source": [
    "### Define the Objective Function"
   ]
  },
  {
   "cell_type": "code",
   "execution_count": 11,
   "id": "a96b3ecf",
   "metadata": {},
   "outputs": [],
   "source": [
    "# Create the objective function, 3 * x + y.\n",
    "solver.Minimize(8*x1 + 10*x2 + 10*x3 + 8*x4 + 2*y1 + 2*y2 + 2*y3)"
   ]
  },
  {
   "cell_type": "markdown",
   "id": "fe667e0e",
   "metadata": {},
   "source": [
    "### Invoke the solver"
   ]
  },
  {
   "cell_type": "code",
   "execution_count": 12,
   "id": "f208aff0",
   "metadata": {},
   "outputs": [],
   "source": [
    "status = solver.Solve()"
   ]
  },
  {
   "cell_type": "markdown",
   "id": "882bfe79",
   "metadata": {},
   "source": [
    "### Display Solution"
   ]
  },
  {
   "cell_type": "code",
   "execution_count": 13,
   "id": "bf474131",
   "metadata": {},
   "outputs": [
    {
     "name": "stdout",
     "output_type": "stream",
     "text": [
      "Solution:\n",
      "Objective value = 800.0\n",
      "x1 = 20.0\n",
      "x2 = 25.0\n",
      "x3 = 15.0\n",
      "x4 = 30.0\n",
      "y1 = 0.0\n",
      "y2 = 0.0\n",
      "y3 = 0.0\n"
     ]
    }
   ],
   "source": [
    "if status == pywraplp.Solver.OPTIMAL:\n",
    "    print('Solution:')\n",
    "    print('Objective value =', solver.Objective().Value())\n",
    "    print('x1 =', x1.solution_value())\n",
    "    print('x2 =', x2.solution_value())\n",
    "    print('x3 =', x3.solution_value())\n",
    "    print('x4 =', x4.solution_value())\n",
    "    print('y1 =', y1.solution_value())\n",
    "    print('y2 =', y2.solution_value())\n",
    "    print('y3 =', y3.solution_value())\n",
    "else:\n",
    "    print('The problem does not have an optimal solution.')"
   ]
  },
  {
   "cell_type": "code",
   "execution_count": null,
   "id": "3677ac44",
   "metadata": {},
   "outputs": [],
   "source": []
  }
 ],
 "metadata": {
  "kernelspec": {
   "display_name": "Python 3 (ipykernel)",
   "language": "python",
   "name": "python3"
  },
  "language_info": {
   "codemirror_mode": {
    "name": "ipython",
    "version": 3
   },
   "file_extension": ".py",
   "mimetype": "text/x-python",
   "name": "python",
   "nbconvert_exporter": "python",
   "pygments_lexer": "ipython3",
   "version": "3.8.10"
  }
 },
 "nbformat": 4,
 "nbformat_minor": 5
}
