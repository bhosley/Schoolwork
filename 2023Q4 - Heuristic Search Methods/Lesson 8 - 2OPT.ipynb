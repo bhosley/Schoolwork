{
 "cells": [
  {
   "cell_type": "markdown",
   "id": "d6d7af8d",
   "metadata": {},
   "source": [
    "# 2-Opt Local Search Heuristic\n",
    "**Author: Dr Bruce Cox  <br/>\n",
    "Last Revsision: 20 Sept 2021**\n",
    "\n",
    "This code takes in any arbitrary sized symmetric matrix of distances for the Traveleing Salesman Problem and constructs a valid tour, using Nearest Neighbor. It then performs a 2-opt search and returns revised tour along with cost.  "
   ]
  },
  {
   "cell_type": "markdown",
   "id": "7a07244f",
   "metadata": {},
   "source": [
    "## Nearest Neighbor\n",
    "\n",
    "Any construction heuristic could be used.  In fact we could just randomly create a tour. "
   ]
  },
  {
   "cell_type": "code",
   "execution_count": 1,
   "id": "ecdb3737",
   "metadata": {},
   "outputs": [],
   "source": [
    "import pandas as pd"
   ]
  },
  {
   "cell_type": "code",
   "execution_count": 2,
   "id": "e1492280",
   "metadata": {},
   "outputs": [
    {
     "name": "stdout",
     "output_type": "stream",
     "text": [
      "(15, 15)\n",
      "    0    1   2   3   4   5    6   7    8   9   10  11  12  13   14\n",
      "0    0   91  15  99  26  93   69  20   98  62  90  47  23  77    4\n",
      "1   91    0  50  20  40  59  100  59   13  84  96  68  54  11    1\n",
      "2   15   50   0  76  96  40    4  53   93  62  59  95  23  97   53\n",
      "3   99   20  76   0  75  73    5  80   57  12  65  32  94  76   24\n",
      "4   26   40  96  75   0  65   28  45   12  82  85   3  49  47   80\n",
      "5   93   59  40  73  65   0    9  81   51  28  93  90  60  73   88\n",
      "6   69  100   4   5  28   9    0   6   65  12  35   8  61  89   44\n",
      "7   20   59  53  80  45  81    6   0   77  34   2  36  49  67   99\n",
      "8   98   13  93  57  12  51   65  77    0  27  62  68  28  38  100\n",
      "9   62   84  62  12  82  28   12  34   27   0   7  28  49   8    9\n",
      "10  90   96  59  65  85  93   35   2   62   7   0  97  95  98   26\n",
      "11  47   68  95  32   3  90    8  36   68  28  97   0  74  34   89\n",
      "12  23   54  23  94  49  60   61  49   28  49  95  74   0  55   78\n",
      "13  77   11  97  76  47  73   89  67   38   8  98  34  55   0   60\n",
      "14   4    1  53  24  80  88   44  99  100   9  26  89  78  60    0\n"
     ]
    }
   ],
   "source": [
    "tsp_data = pd.read_excel(\"lab data.xlsx\", index_col=None)\n",
    "print(tsp_data.shape)\n",
    "print(tsp_data)"
   ]
  },
  {
   "cell_type": "code",
   "execution_count": 3,
   "id": "4bff7643",
   "metadata": {},
   "outputs": [],
   "source": [
    "def valid(tour):\n",
    "    valid_nbrs = [element for element in range(len(tsp_data)) if element not in tour]\n",
    "    #print(\"Valid neighbors : \\n\" ,valid_nbrs)\n",
    "    return valid_nbrs"
   ]
  },
  {
   "cell_type": "code",
   "execution_count": 4,
   "id": "81edb640",
   "metadata": {},
   "outputs": [],
   "source": [
    "def nearest(current_city):\n",
    "    smallest = 100**10\n",
    "    min_position = 0 \n",
    "    \n",
    "    for row in tsp_data.itertuples():\n",
    "        if row[0] in valid(tour):\n",
    "            if(smallest > row[current_city + 1]):\n",
    "                smallest = row[current_city + 1]\n",
    "                min_position = row[0]\n",
    "    \n",
    "    return min_position, smallest"
   ]
  },
  {
   "cell_type": "code",
   "execution_count": 5,
   "id": "fdfbfbd7",
   "metadata": {},
   "outputs": [],
   "source": [
    "def NN(starting_city, tour):   \n",
    "    tour_length = 0\n",
    "    current_city = starting_city\n",
    "    tour.append(current_city)   #add starting city to tour    \n",
    "    \n",
    "    for i in range(len(tsp_data)-1):\n",
    "        min_position, smallest = nearest(current_city)\n",
    "        tour.append(min_position)\n",
    "        current_city = min_position\n",
    "        tour_length += smallest\n",
    "    \n",
    "    #The TSP requires that the salesman goes back home at the end.\n",
    "    tour.append(starting_city)\n",
    "    tour_length += tsp_data[tour[len(tsp_data)-1]][starting_city]\n",
    "    \n",
    "    return tour, tour_length"
   ]
  },
  {
   "cell_type": "code",
   "execution_count": 6,
   "id": "47c5ab40",
   "metadata": {},
   "outputs": [
    {
     "data": {
      "text/plain": [
       "([1, 14, 0, 2, 6, 3, 9, 10, 7, 11, 4, 8, 12, 13, 5, 1], 316)"
      ]
     },
     "execution_count": 6,
     "metadata": {},
     "output_type": "execute_result"
    }
   ],
   "source": [
    "tour = []\n",
    "tour_length = 0\n",
    "\n",
    "NN(1,tour)"
   ]
  },
  {
   "cell_type": "markdown",
   "id": "11a93188",
   "metadata": {},
   "source": [
    "## 2-Opt Local Search Heuristic\n",
    "The following 2-opt heuristic follows the pseduo code provided in class.  Which also matches that found on Wikipedia, and the following website. </br>\n",
    "\n",
    "https://en.wikipedia.org/wiki/2-opt </br>\n",
    "http://pedrohfsd.com/2017/08/09/2opt-part1.html </br>\n"
   ]
  },
  {
   "cell_type": "markdown",
   "id": "ee2c6673",
   "metadata": {},
   "source": [
    "## Calculate Tour Costs\n",
    "Given a tour as a list use the distance matrix to return it's cost."
   ]
  },
  {
   "cell_type": "code",
   "execution_count": 7,
   "id": "da877c52",
   "metadata": {},
   "outputs": [
    {
     "data": {
      "text/plain": [
       "16"
      ]
     },
     "execution_count": 7,
     "metadata": {},
     "output_type": "execute_result"
    }
   ],
   "source": [
    "len(tour)"
   ]
  },
  {
   "cell_type": "code",
   "execution_count": 8,
   "id": "40914bfa",
   "metadata": {},
   "outputs": [
    {
     "data": {
      "text/plain": [
       "[1, 14, 0, 2, 6, 3, 9, 10, 7, 11, 4, 8, 12, 13, 5, 1]"
      ]
     },
     "execution_count": 8,
     "metadata": {},
     "output_type": "execute_result"
    }
   ],
   "source": [
    "tour"
   ]
  },
  {
   "cell_type": "markdown",
   "id": "23a224e8",
   "metadata": {},
   "source": [
    "Below I just check my logic to ensure my indices are working as expected.  \n",
    "**Since Python is 0 index, 14 is actually the last leg (i.e., returning home).**\n",
    "\n",
    "I'm using the Pandas Dataframe.iat[] method `output = dataframe.iat[row, column]`"
   ]
  },
  {
   "cell_type": "code",
   "execution_count": 9,
   "id": "cd16332a",
   "metadata": {},
   "outputs": [
    {
     "name": "stdout",
     "output_type": "stream",
     "text": [
      "The distance from city 5 to city 1 is 59\n"
     ]
    }
   ],
   "source": [
    "i=14\n",
    "print(\"The distance from city\", tour[i], \"to city\", tour[i+1], \"is\", tsp_data.iat[tour[i],tour[i+1]])"
   ]
  },
  {
   "cell_type": "markdown",
   "id": "b83f468d",
   "metadata": {},
   "source": [
    "Note 1: The assumed form of the tour includes a return back to starting node.  This is necessary for a valid TSP tour and is assumed for following cost function.\n",
    "\n",
    "Note 2: The loop goes to `len(tour)-1` because Python goes up to but not including the last element of the loop. "
   ]
  },
  {
   "cell_type": "code",
   "execution_count": 10,
   "id": "5b9915c5",
   "metadata": {},
   "outputs": [],
   "source": [
    "def cost(tour):\n",
    "    cost = 0\n",
    "    for i in range(0, len(tour)-1):  #Python is 0 index and goes up to *but not including* last element in range\n",
    "        cost += tsp_data.iat[tour[i],tour[i+1]]\n",
    "    return cost"
   ]
  },
  {
   "cell_type": "code",
   "execution_count": 11,
   "id": "4d15cdac",
   "metadata": {},
   "outputs": [
    {
     "data": {
      "text/plain": [
       "316"
      ]
     },
     "execution_count": 11,
     "metadata": {},
     "output_type": "execute_result"
    }
   ],
   "source": [
    "cost(tour)"
   ]
  },
  {
   "cell_type": "markdown",
   "id": "5d5980db",
   "metadata": {},
   "source": [
    "### 2 OPT Swap\n",
    "Given a tour as a list perform all two opt swaps and return best."
   ]
  },
  {
   "cell_type": "markdown",
   "id": "ca64ba4e",
   "metadata": {},
   "source": [
    "Test indices and see what happens with swaps.  What range of initial cities is appropriate?  What range of end cities is appropriate?  This is honestly the hardest part of 2-opt!!\n",
    "\n",
    "Recall that Python is *\"up to but not including\"* the last element.  Thus I am choosing to look at the segment of the tour between $i$ and $j-1$ and running that segment in reverse. This construct works with my loop indexing later, I am pretty sure I could change this if I change my later loop too... but I've never really tried since this works."
   ]
  },
  {
   "cell_type": "code",
   "execution_count": 12,
   "id": "4b2c4cd4",
   "metadata": {},
   "outputs": [
    {
     "data": {
      "text/plain": [
       "16"
      ]
     },
     "execution_count": 12,
     "metadata": {},
     "output_type": "execute_result"
    }
   ],
   "source": [
    "len(tour)"
   ]
  },
  {
   "cell_type": "code",
   "execution_count": 13,
   "id": "75265f97",
   "metadata": {},
   "outputs": [
    {
     "name": "stdout",
     "output_type": "stream",
     "text": [
      "The initial tour was [1, 14, 0, 2, 6, 3, 9, 10, 7, 11, 4, 8, 12, 13, 5, 1] with length 316\n",
      "The i'th city is 14 ...which is included\n",
      "The j'th city is 1 ...which is excluded\n",
      "The new tour is [1, 5, 13, 12, 8, 4, 11, 7, 10, 9, 3, 6, 2, 0, 14, 1] with length 316\n"
     ]
    }
   ],
   "source": [
    "'''\n",
    "i is my outer loop index\n",
    "This is the start of the section of tour you are reversing\n",
    "   i > 0,  else you change starting city  \n",
    "   i < n-3,  else j=i+2 is starting city again\n",
    "'''\n",
    "i=1\n",
    "\n",
    "\n",
    "'''\n",
    "j is my inner loop index\n",
    "This controls the end of the section of tour you are reversing.  \n",
    "Note that this reverses cities between i and up to *but not including* j\n",
    "j > i+1, else nothing happens\n",
    "j < n\n",
    "'''\n",
    "j=15  \n",
    "\n",
    "tour = []\n",
    "tour_length = 0\n",
    "tour, tour_length = NN(1,tour)\n",
    "\n",
    "print(\"The initial tour was\", tour, \"with length\", tour_length)\n",
    "print(\"The i'th city is\", tour[i], \"...which is included\")\n",
    "print(\"The j'th city is\", tour[j], \"...which is excluded\")\n",
    "\n",
    "new_tour = tour[:]\n",
    "new_tour[i:j] = tour[j-1:i-1:-1]\n",
    "print(\"The new tour is\", new_tour, \"with length\", cost(new_tour))"
   ]
  },
  {
   "cell_type": "markdown",
   "id": "21c00d82",
   "metadata": {},
   "source": [
    "Why don't I need to change the starting city within my 2OPT?\n",
    "\n",
    "Can you convince yourself that the tour 0-1-2-3-0 is the same as the tour 1-2-3-0-1?  \n",
    "\n",
    "The 2Opt we are implementing fixes the starting city and explores all permutations but due to symmetry of tours that means we are exploring all permuations of reversals. "
   ]
  },
  {
   "cell_type": "code",
   "execution_count": 14,
   "id": "9f56e8ca",
   "metadata": {},
   "outputs": [],
   "source": [
    "def two_opt(tour):\n",
    "    best_tour = tour[:]\n",
    "    improved = True\n",
    "    while improved:\n",
    "        improved = False\n",
    "        for i in range(1, len(tour)-3):          #i is index of first city\n",
    "            for j in range(i+2, len(tour)):      #j is index of second city\n",
    "                new_tour = tour[:]               #clone tour\n",
    "                new_tour[i:j] = tour[j-1:i-1:-1] #swap the order of the tour between these two cities\n",
    "                if cost(new_tour) < cost(best_tour):\n",
    "                    best_tour = new_tour[:]\n",
    "                    improved = True\n",
    "        tour = best_tour[:]\n",
    "        print(\"I found a new tour:\",best_tour, cost(best_tour))\n",
    "    return best_tour, cost(best_tour)"
   ]
  },
  {
   "cell_type": "markdown",
   "id": "c004dc57",
   "metadata": {},
   "source": [
    "### Test 2-Opt"
   ]
  },
  {
   "cell_type": "code",
   "execution_count": 23,
   "id": "423fe642",
   "metadata": {},
   "outputs": [
    {
     "name": "stdout",
     "output_type": "stream",
     "text": [
      "The original tour was: [4, 11, 6, 2, 0, 14, 1, 13, 9, 10, 7, 12, 8, 5, 3, 4]\n",
      "The original tours cost was: 339\n"
     ]
    }
   ],
   "source": [
    "tour = []\n",
    "tour_length = 0\n",
    "tour, tour_length = NN(4,tour)\n",
    "\n",
    "print(\"The original tour was:\", tour)\n",
    "print(\"The original tours cost was:\", tour_length)"
   ]
  },
  {
   "cell_type": "code",
   "execution_count": 24,
   "id": "f514c616",
   "metadata": {},
   "outputs": [
    {
     "name": "stdout",
     "output_type": "stream",
     "text": [
      "I found a new tour: [4, 11, 6, 7, 10, 9, 13, 1, 14, 0, 2, 12, 8, 5, 3, 4] 315\n",
      "I found a new tour: [4, 11, 6, 3, 5, 8, 12, 2, 0, 14, 1, 13, 9, 10, 7, 4] 284\n",
      "I found a new tour: [4, 11, 3, 6, 5, 8, 12, 2, 0, 14, 1, 13, 9, 10, 7, 4] 244\n",
      "I found a new tour: [4, 11, 3, 6, 5, 7, 10, 9, 13, 1, 14, 0, 2, 12, 8, 4] 241\n",
      "I found a new tour: [4, 11, 3, 6, 5, 2, 0, 14, 1, 13, 9, 10, 7, 12, 8, 4] 226\n",
      "I found a new tour: [4, 11, 3, 6, 5, 2, 0, 14, 1, 13, 9, 10, 7, 12, 8, 4] 226\n"
     ]
    },
    {
     "data": {
      "text/plain": [
       "([4, 11, 3, 6, 5, 2, 0, 14, 1, 13, 9, 10, 7, 12, 8, 4], 226)"
      ]
     },
     "execution_count": 24,
     "metadata": {},
     "output_type": "execute_result"
    }
   ],
   "source": [
    "two_opt(tour)"
   ]
  },
  {
   "cell_type": "markdown",
   "id": "585e6a76",
   "metadata": {},
   "source": [
    "Play around with the starting tour.  Try feeding 2OPT random starting tours, or ones you make up (that are valid), or using different starting nodes for the NN constructive hueristic?  \n",
    "\n",
    "You get different ending tours?  Why?  \n",
    "\n",
    "I get 211 applying 2OPT to the tour output by NN starting at node 1. Can you beat me? "
   ]
  },
  {
   "cell_type": "code",
   "execution_count": null,
   "id": "9e333daa",
   "metadata": {},
   "outputs": [],
   "source": []
  }
 ],
 "metadata": {
  "kernelspec": {
   "display_name": "Python 3 (ipykernel)",
   "language": "python",
   "name": "python3"
  },
  "language_info": {
   "codemirror_mode": {
    "name": "ipython",
    "version": 3
   },
   "file_extension": ".py",
   "mimetype": "text/x-python",
   "name": "python",
   "nbconvert_exporter": "python",
   "pygments_lexer": "ipython3",
   "version": "3.9.4"
  }
 },
 "nbformat": 4,
 "nbformat_minor": 5
}
