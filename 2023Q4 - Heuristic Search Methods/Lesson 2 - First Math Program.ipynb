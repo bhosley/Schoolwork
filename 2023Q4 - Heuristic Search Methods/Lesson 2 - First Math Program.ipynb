{
 "cells": [
  {
   "cell_type": "markdown",
   "id": "1718f788",
   "metadata": {},
   "source": [
    "# Your first Python Math Program\n",
    "**Example taken from: https://developers.google.com/optimization/introduction/python\n",
    "\n",
    "In this workbook we are going to code, in Python, a *very* trivial math program.  However, this example sets the stage for us to code some more interesting problems and most importantly provides you some familiarity with what a mathematical looks like.  While our current focus is on solving a few \"easy\" problems to optimality using converging algorithms the main focus of the class will be on developing math models for \"hard\" problems and searching for good solutions using heurisitic search technqiues. "
   ]
  },
  {
   "cell_type": "markdown",
   "id": "c4e3d16a",
   "metadata": {},
   "source": [
    "## The Math Model\n",
    "The math program we are coding is: </br>\n",
    "**Maximize** $3x +y$ </br>\n",
    "**Subject to** </br>\n",
    "\n",
    "$ x $ $\\le 1$ </br>\n",
    "$ y \\le 2$ </br>\n",
    "$ x + y \\le 2$ </br>\n",
    "$x, y \\ge 0$"
   ]
  },
  {
   "cell_type": "markdown",
   "id": "b782ecde",
   "metadata": {},
   "source": [
    "## Pip Install the packages"
   ]
  },
  {
   "cell_type": "code",
   "execution_count": null,
   "id": "0a7e4f08",
   "metadata": {},
   "outputs": [],
   "source": [
    "!pip install --upgrade --user ortools"
   ]
  },
  {
   "cell_type": "markdown",
   "id": "ad5c9488",
   "metadata": {},
   "source": [
    "## The Python Code\n",
    "### Import the required libraries. </br>\n",
    "If this kicks back an error check to see if you installed the library pip install --upgrade --user ortools \n"
   ]
  },
  {
   "cell_type": "code",
   "execution_count": 1,
   "id": "9b60a646",
   "metadata": {},
   "outputs": [],
   "source": [
    "from ortools.linear_solver import pywraplp"
   ]
  },
  {
   "cell_type": "markdown",
   "id": "56057df6",
   "metadata": {},
   "source": [
    "### Declare the solver. \n",
    "pywraplp is a Python wrapper for the underlying C++ solver. The argument \"GLOP\" specifies GLOP, the OR-Tools linear solver."
   ]
  },
  {
   "cell_type": "code",
   "execution_count": 2,
   "id": "7c94501e",
   "metadata": {},
   "outputs": [],
   "source": [
    "# Create the linear solver with the GLOP backend.\n",
    "solver = pywraplp.Solver.CreateSolver('GLOP')"
   ]
  },
  {
   "cell_type": "markdown",
   "id": "37005251",
   "metadata": {},
   "source": [
    "### Create the variables\n",
    "Pay special attention to what you are doing here.  You are establishing both non-negativity and upper bounds for each variable.  In some future cases this will not reasonable (i.e., unbounded variables.)  What to do then?"
   ]
  },
  {
   "cell_type": "code",
   "execution_count": 3,
   "id": "a3de6b7b",
   "metadata": {},
   "outputs": [
    {
     "name": "stdout",
     "output_type": "stream",
     "text": [
      "Number of variables = 2\n"
     ]
    }
   ],
   "source": [
    "# Create the variables x and y.\n",
    "x = solver.NumVar(0, 1, 'x')\n",
    "y = solver.NumVar(0, 2, 'y')\n",
    "\n",
    "print('Number of variables =', solver.NumVariables())"
   ]
  },
  {
   "cell_type": "markdown",
   "id": "b0d3e514",
   "metadata": {},
   "source": [
    "<font color='blue'> Try to change the upper bound (or lower bound) to infinity. <br>\n",
    "Try to add a new variable z, with lower bound 0, and upper bound 3.</blue>"
   ]
  },
  {
   "cell_type": "markdown",
   "id": "f2c28fc9",
   "metadata": {},
   "source": [
    "### Define the constraints.\n",
    "The first two constraints, 0 ≤ x ≤ 1 and 0 ≤ y ≤ 2, are already set by the definitions of the variables. The following code defines the constraint x + y ≤ 2: </br>\n",
    "The method ``SetCoefficient`` sets the coefficients of x and y in the expression for the constraint."
   ]
  },
  {
   "cell_type": "code",
   "execution_count": 5,
   "id": "fc9c0fe5",
   "metadata": {},
   "outputs": [
    {
     "name": "stdout",
     "output_type": "stream",
     "text": [
      "Number of constraints = 2\n"
     ]
    }
   ],
   "source": [
    "# Create a linear constraint, 0 <= x + y <= 2.\n",
    "ct = solver.Constraint(0, 2, 'ct') #Sets the upper and lower bounds for the constraint\n",
    "ct.SetCoefficient(x, 1)  #sets the coefficent for x\n",
    "ct.SetCoefficient(y, 1)  #sets the coefficent for y\n",
    "\n",
    "print('Number of constraints =', solver.NumConstraints())"
   ]
  },
  {
   "cell_type": "markdown",
   "id": "389831fe",
   "metadata": {},
   "source": [
    "<font color='blue'> Try changing the constraint to 2 <= 2x + 3y <= 30"
   ]
  },
  {
   "cell_type": "markdown",
   "id": "64c3eae8",
   "metadata": {},
   "source": [
    "### Define the objective function.\n",
    "The method ``SetMaximization`` declares this to be a maximization problem."
   ]
  },
  {
   "cell_type": "code",
   "execution_count": 6,
   "id": "2b169590",
   "metadata": {},
   "outputs": [],
   "source": [
    "# Create the objective function, 3 * x + y.\n",
    "objective = solver.Objective()\n",
    "objective.SetCoefficient(x, 3)  #sets coeffcient for x\n",
    "objective.SetCoefficient(y, 1)  #sets coeffcient for y\n",
    "objective.SetMaximization()"
   ]
  },
  {
   "cell_type": "markdown",
   "id": "52e7d6ff",
   "metadata": {},
   "source": [
    "<font color='blue'> Try to change the objective function to 2x + 4y. <br>\n",
    " Try to change problem to be a minimization problem."
   ]
  },
  {
   "cell_type": "markdown",
   "id": "6e11fd9d",
   "metadata": {},
   "source": [
    "### Invoke the solver and display the results."
   ]
  },
  {
   "cell_type": "code",
   "execution_count": 7,
   "id": "5cb48ea3",
   "metadata": {},
   "outputs": [
    {
     "data": {
      "text/plain": [
       "0"
      ]
     },
     "execution_count": 7,
     "metadata": {},
     "output_type": "execute_result"
    }
   ],
   "source": [
    "solver.Solve()"
   ]
  },
  {
   "cell_type": "code",
   "execution_count": 8,
   "id": "4d2bab16",
   "metadata": {},
   "outputs": [
    {
     "name": "stdout",
     "output_type": "stream",
     "text": [
      "Solution:\n",
      "Objective value = 4.0\n",
      "x = 1.0\n",
      "y = 1.0\n"
     ]
    }
   ],
   "source": [
    "print('Solution:')\n",
    "print('Objective value =', objective.Value())\n",
    "print('x =', x.solution_value())\n",
    "print('y =', y.solution_value())"
   ]
  },
  {
   "cell_type": "code",
   "execution_count": null,
   "id": "209eb5d7-fb36-4cee-9bcb-7c66f397ad2e",
   "metadata": {},
   "outputs": [],
   "source": []
  }
 ],
 "metadata": {
  "kernelspec": {
   "display_name": "Python 3 (ipykernel)",
   "language": "python",
   "name": "python3"
  },
  "language_info": {
   "codemirror_mode": {
    "name": "ipython",
    "version": 3
   },
   "file_extension": ".py",
   "mimetype": "text/x-python",
   "name": "python",
   "nbconvert_exporter": "python",
   "pygments_lexer": "ipython3",
   "version": "3.9.13"
  }
 },
 "nbformat": 4,
 "nbformat_minor": 5
}
